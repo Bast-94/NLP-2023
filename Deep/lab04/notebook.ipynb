{
 "cells": [
  {
   "attachments": {},
   "cell_type": "markdown",
   "metadata": {},
   "source": [
    "# Introduction to Natural Language Processing 2 Lab04\n",
    "\n",
    "**This lab is mainly about data and model analysis. There is very little code. Make sure you send back a proper report with your code, guideline, annotated sheets, and theoretical answers.**"
   ]
  },
  {
   "attachments": {},
   "cell_type": "markdown",
   "metadata": {},
   "source": [
    "## Introduction (1 point)\n",
    "\n",
    "Your company wants to sell a moderation API tackling toxic content on Twitter. They ask you to come up with a model which detect toxic tweets. You remember your NLP classes, and start looking for existing models or datasets, and find a collection of [academic Twitter dataset on HuggingFace hub](https://huggingface.co/datasets/tweet_eval). Especially, the `hate` and `offensive` datasets seem close to what you are looking for."
   ]
  },
  {
   "attachments": {},
   "cell_type": "markdown",
   "metadata": {},
   "source": [
    "1. (1 point) Pick one of the datasets between hate and offensive, and justify your choice. Remember that it is for a commercial application (there is a good and a bad answer)."
   ]
  },
  {
   "attachments": {},
   "cell_type": "markdown",
   "metadata": {},
   "source": [
    "Let's check some crucial points to choose between the two datasets:\n",
    "\n",
    "* `Relevance`: Is the dataset relevant to the problem we are trying to solve ?\n",
    "\n",
    "* `Quality`: Is the dataset of good quality ? Accuracy or precision of the labels ?\n",
    "\n",
    "* `Size`: Is the dataset big enough to train a model ?\n",
    "\n",
    "* `Diversity`: Is the dataset diverse enough to make the model robust and generalizable ?\n",
    "\n",
    "Considering these points, let's compare the two datasets:\n",
    "\n",
    "The `hate` dataset will most likely contain tweets that express hatred, which is certainly a form of toxic content.\n",
    "However, the scope of this dataset might be limited, as there are other forms of toxic content beyond expressions of hate.\n",
    "\n",
    "On the other hand, the `offensive` dataset is likely to cover a broader range of toxic content, including not only hate speech but also other forms of offensive language such as insults, or obscene content. This makes it more relevant to the task at hand. Additionally, this broader dataset will help train a model that is more robust and able to generalize to a wide range of toxic content.\n",
    "\n",
    "Furthermore, we noticed that the `hate` dataset is not usable for commercial purposes, as it is licensed under CC BY-NC-SA 4.0. This is not the case for the `offensive` dataset, which is licensed under CC BY-SA 4.0.\n",
    "\n",
    "For these reasons, we will choose the `offensive` dataset."
   ]
  },
  {
   "attachments": {},
   "cell_type": "markdown",
   "metadata": {},
   "source": [
    "## Imports"
   ]
  },
  {
   "cell_type": "code",
   "execution_count": 47,
   "metadata": {},
   "outputs": [],
   "source": [
    "from datasets import load_dataset\n",
    "from bertopic import BERTopic\n",
    "from umap import UMAP\n",
    "from sklearn.feature_extraction.text import CountVectorizer\n",
    "from sklearn.naive_bayes import MultinomialNB\n",
    "from sklearn.metrics import precision_score, recall_score, f1_score\n",
    "from sklearn.metrics import precision_recall_fscore_support\n",
    "from transformers import AutoModelForSequenceClassification, TFAutoModelForSequenceClassification,  AutoTokenizer, pipeline\n",
    "import statsmodels\n",
    "from statsmodels.stats.inter_rater import fleiss_kappa, aggregate_raters\n",
    "import numpy as np\n",
    "import pandas as pd\n",
    "from scipy.special import softmax\n",
    "import csv\n",
    "import urllib.request\n",
    "import json\n",
    "import torch"
   ]
  },
  {
   "attachments": {},
   "cell_type": "markdown",
   "metadata": {},
   "source": [
    "## Evaluating the dataset (5 points)"
   ]
  },
  {
   "attachments": {},
   "cell_type": "markdown",
   "metadata": {},
   "source": [
    "Before using the data to train a model, you have the right reflex and start with a data analysis."
   ]
  },
  {
   "attachments": {},
   "cell_type": "markdown",
   "metadata": {},
   "source": [
    "1. (1 point) Describe the dataset. Look at the splits, proportion of classes, and see what you can figure out by just looking at the text."
   ]
  },
  {
   "cell_type": "code",
   "execution_count": 3,
   "metadata": {},
   "outputs": [
    {
     "name": "stderr",
     "output_type": "stream",
     "text": [
      "Found cached dataset tweet_eval (/Users/rb2/.cache/huggingface/datasets/tweet_eval/offensive/1.1.0/12aee5282b8784f3e95459466db4cdf45c6bf49719c25cdb0743d71ed0410343)\n"
     ]
    },
    {
     "data": {
      "application/vnd.jupyter.widget-view+json": {
       "model_id": "a51395d02baf48adb0444d7d2613da16",
       "version_major": 2,
       "version_minor": 0
      },
      "text/plain": [
       "  0%|          | 0/3 [00:00<?, ?it/s]"
      ]
     },
     "metadata": {},
     "output_type": "display_data"
    },
    {
     "data": {
      "text/plain": [
       "DatasetDict({\n",
       "    train: Dataset({\n",
       "        features: ['text', 'label'],\n",
       "        num_rows: 11916\n",
       "    })\n",
       "    test: Dataset({\n",
       "        features: ['text', 'label'],\n",
       "        num_rows: 860\n",
       "    })\n",
       "    validation: Dataset({\n",
       "        features: ['text', 'label'],\n",
       "        num_rows: 1324\n",
       "    })\n",
       "})"
      ]
     },
     "execution_count": 3,
     "metadata": {},
     "output_type": "execute_result"
    }
   ],
   "source": [
    "dataset_offensive = load_dataset(\"tweet_eval\", \"offensive\")\n",
    "dataset_offensive"
   ]
  },
  {
   "cell_type": "code",
   "execution_count": 4,
   "metadata": {},
   "outputs": [
    {
     "name": "stdout",
     "output_type": "stream",
     "text": [
      "Proportion of offensive tweets in the training set:  0.3307317891910037\n",
      "Proportion of offensive tweets in the test set:  0.27906976744186046\n",
      "Proportion of offensive tweets in the validation set:  0.3466767371601209\n"
     ]
    }
   ],
   "source": [
    "# we extract the training test and validation sets\n",
    "\n",
    "train_dataset = dataset_offensive[\"train\"]\n",
    "test_dataset = dataset_offensive[\"test\"]\n",
    "validation_dataset = dataset_offensive[\"validation\"]\n",
    "\n",
    "# compute the proportion of offensive tweets in each dataset\n",
    "\n",
    "print(\"Proportion of offensive tweets in the training set: \", sum(train_dataset[\"label\"])/len(train_dataset[\"label\"]))\n",
    "print(\"Proportion of offensive tweets in the test set: \", sum(test_dataset[\"label\"])/len(test_dataset[\"label\"]))\n",
    "print(\"Proportion of offensive tweets in the validation set: \", sum(validation_dataset[\"label\"])/len(validation_dataset[\"label\"]))"
   ]
  },
  {
   "attachments": {},
   "cell_type": "markdown",
   "metadata": {},
   "source": [
    "We can see that there are three splits in the dataset: `train`, `validation` and `test`. The `train` split contains 11916 tweets, the `validation` split contains 1324 tweets, and the `test` split contains 860 tweets. The dataset is not balanced, with almost 30% of the tweets being offensive and 70% not being offensive.\n",
    "\n",
    "At first glance we can see that the tweets contain a lot of hashtags, mentions, and emojis. We can also see that there are a lot of spelling mistakes and abbreviations."
   ]
  },
  {
   "attachments": {},
   "cell_type": "markdown",
   "metadata": {},
   "source": [
    "2. (3 points) Use [BERTopic](https://github.com/MaartenGr/BERTopic) to extract the topics within the data, and the main topics within each class. Please, think about [fixing the random seed](https://stackoverflow.com/questions/71320201/how-to-fix-random-seed-for-bertopic).\n",
    "    * A [good model](https://github.com/MaartenGr/BERTopic#embedding-models) for sentence similarity is `all-MiniLM-L6-v2`, as it is [fast, light, and pretty accurate](https://www.sbert.net/docs/pretrained_models.html). You can use another one, but make sure to document your choice.\n",
    "    * [This](https://maartengr.github.io/BERTopic/api/plotting/topics_per_class.html) might help."
   ]
  },
  {
   "cell_type": "code",
   "execution_count": 5,
   "metadata": {},
   "outputs": [
    {
     "data": {
      "application/vnd.jupyter.widget-view+json": {
       "model_id": "858aa4bec97046b683e9fda5c571895c",
       "version_major": 2,
       "version_minor": 0
      },
      "text/plain": [
       "Batches:   0%|          | 0/373 [00:00<?, ?it/s]"
      ]
     },
     "metadata": {},
     "output_type": "display_data"
    },
    {
     "name": "stderr",
     "output_type": "stream",
     "text": [
      "2023-06-25 20:52:21,042 - BERTopic - Transformed documents to Embeddings\n",
      "OMP: Info #276: omp_set_nested routine deprecated, please use omp_set_max_active_levels instead.\n",
      "2023-06-25 20:52:34,491 - BERTopic - Reduced dimensionality\n",
      "2023-06-25 20:52:34,649 - BERTopic - Clustered reduced embeddings\n"
     ]
    }
   ],
   "source": [
    "# Our BERTopic model will contain a pre-trained embedding model and a UMAP reproducible model for dimensionality reduction\n",
    "model = BERTopic(embedding_model=\"all-MiniLM-L6-v2\", umap_model=UMAP(random_state=42), verbose=True)\n",
    "\n",
    "topics, _ = model.fit_transform(train_dataset[\"text\"])"
   ]
  },
  {
   "cell_type": "code",
   "execution_count": 6,
   "metadata": {},
   "outputs": [
    {
     "data": {
      "text/html": [
       "<div>\n",
       "<style scoped>\n",
       "    .dataframe tbody tr th:only-of-type {\n",
       "        vertical-align: middle;\n",
       "    }\n",
       "\n",
       "    .dataframe tbody tr th {\n",
       "        vertical-align: top;\n",
       "    }\n",
       "\n",
       "    .dataframe thead th {\n",
       "        text-align: right;\n",
       "    }\n",
       "</style>\n",
       "<table border=\"1\" class=\"dataframe\">\n",
       "  <thead>\n",
       "    <tr style=\"text-align: right;\">\n",
       "      <th></th>\n",
       "      <th>Topic</th>\n",
       "      <th>Count</th>\n",
       "      <th>Name</th>\n",
       "      <th>Representation</th>\n",
       "      <th>Representative_Docs</th>\n",
       "    </tr>\n",
       "  </thead>\n",
       "  <tbody>\n",
       "    <tr>\n",
       "      <th>0</th>\n",
       "      <td>-1</td>\n",
       "      <td>3069</td>\n",
       "      <td>-1_the_to_and_of</td>\n",
       "      <td>[the, to, and, of, is, user, for, maga, in, he]</td>\n",
       "      <td>[@user I just said that very same thing. That ...</td>\n",
       "    </tr>\n",
       "    <tr>\n",
       "      <th>1</th>\n",
       "      <td>0</td>\n",
       "      <td>3939</td>\n",
       "      <td>0_she_you_is_he</td>\n",
       "      <td>[she, you, is, he, are, user, so, her, my, and]</td>\n",
       "      <td>[@user @user He is, @user She is 😭😭😭, @user Sh...</td>\n",
       "    </tr>\n",
       "    <tr>\n",
       "      <th>2</th>\n",
       "      <td>1</td>\n",
       "      <td>991</td>\n",
       "      <td>1_gun_control_guns_laws</td>\n",
       "      <td>[gun, control, guns, laws, the, to, about, in,...</td>\n",
       "      <td>[@user But gun control, @user Gun control is n...</td>\n",
       "    </tr>\n",
       "    <tr>\n",
       "      <th>3</th>\n",
       "      <td>2</td>\n",
       "      <td>382</td>\n",
       "      <td>2_liberals_they_user_their</td>\n",
       "      <td>[liberals, they, user, their, the, are, libera...</td>\n",
       "      <td>[@user Liberals be like, @user @user @user @us...</td>\n",
       "    </tr>\n",
       "    <tr>\n",
       "      <th>4</th>\n",
       "      <td>3</td>\n",
       "      <td>317</td>\n",
       "      <td>3_antifa_user_they_your</td>\n",
       "      <td>[antifa, user, they, your, to, you, of, them, ...</td>\n",
       "      <td>[@user @user No that is Antifa, @user Like ANT...</td>\n",
       "    </tr>\n",
       "    <tr>\n",
       "      <th>5</th>\n",
       "      <td>4</td>\n",
       "      <td>262</td>\n",
       "      <td>4_conservatives_they_the_and</td>\n",
       "      <td>[conservatives, they, the, and, are, conservat...</td>\n",
       "      <td>[@user all conservatives are bad people, @user...</td>\n",
       "    </tr>\n",
       "    <tr>\n",
       "      <th>6</th>\n",
       "      <td>5</td>\n",
       "      <td>195</td>\n",
       "      <td>5_kavanaugh_maga_judge_vote</td>\n",
       "      <td>[kavanaugh, maga, judge, vote, to, ford, will,...</td>\n",
       "      <td>[@user Pray for Judge Kavanaugh and his family...</td>\n",
       "    </tr>\n",
       "    <tr>\n",
       "      <th>7</th>\n",
       "      <td>6</td>\n",
       "      <td>161</td>\n",
       "      <td>6_brexit_uk_tories_eu</td>\n",
       "      <td>[brexit, uk, tories, eu, labour, the, tory, co...</td>\n",
       "      <td>[@user @user @user @user And there's #Brexit 👇...</td>\n",
       "    </tr>\n",
       "    <tr>\n",
       "      <th>8</th>\n",
       "      <td>7</td>\n",
       "      <td>153</td>\n",
       "      <td>7_user_treph_follow_gt</td>\n",
       "      <td>[user, treph, follow, gt, you, lt, following, ...</td>\n",
       "      <td>[@user @user @user @user @user @user @user @us...</td>\n",
       "    </tr>\n",
       "    <tr>\n",
       "      <th>9</th>\n",
       "      <td>8</td>\n",
       "      <td>113</td>\n",
       "      <td>8_canada_trudeau_liberals_ndp</td>\n",
       "      <td>[canada, trudeau, liberals, ndp, canadians, on...</td>\n",
       "      <td>[@user Go back to Canada, @user Time for Canad...</td>\n",
       "    </tr>\n",
       "  </tbody>\n",
       "</table>\n",
       "</div>"
      ],
      "text/plain": [
       "   Topic  Count                           Name  \\\n",
       "0     -1   3069               -1_the_to_and_of   \n",
       "1      0   3939                0_she_you_is_he   \n",
       "2      1    991        1_gun_control_guns_laws   \n",
       "3      2    382     2_liberals_they_user_their   \n",
       "4      3    317        3_antifa_user_they_your   \n",
       "5      4    262   4_conservatives_they_the_and   \n",
       "6      5    195    5_kavanaugh_maga_judge_vote   \n",
       "7      6    161          6_brexit_uk_tories_eu   \n",
       "8      7    153         7_user_treph_follow_gt   \n",
       "9      8    113  8_canada_trudeau_liberals_ndp   \n",
       "\n",
       "                                      Representation  \\\n",
       "0    [the, to, and, of, is, user, for, maga, in, he]   \n",
       "1    [she, you, is, he, are, user, so, her, my, and]   \n",
       "2  [gun, control, guns, laws, the, to, about, in,...   \n",
       "3  [liberals, they, user, their, the, are, libera...   \n",
       "4  [antifa, user, they, your, to, you, of, them, ...   \n",
       "5  [conservatives, they, the, and, are, conservat...   \n",
       "6  [kavanaugh, maga, judge, vote, to, ford, will,...   \n",
       "7  [brexit, uk, tories, eu, labour, the, tory, co...   \n",
       "8  [user, treph, follow, gt, you, lt, following, ...   \n",
       "9  [canada, trudeau, liberals, ndp, canadians, on...   \n",
       "\n",
       "                                 Representative_Docs  \n",
       "0  [@user I just said that very same thing. That ...  \n",
       "1  [@user @user He is, @user She is 😭😭😭, @user Sh...  \n",
       "2  [@user But gun control, @user Gun control is n...  \n",
       "3  [@user Liberals be like, @user @user @user @us...  \n",
       "4  [@user @user No that is Antifa, @user Like ANT...  \n",
       "5  [@user all conservatives are bad people, @user...  \n",
       "6  [@user Pray for Judge Kavanaugh and his family...  \n",
       "7  [@user @user @user @user And there's #Brexit 👇...  \n",
       "8  [@user @user @user @user @user @user @user @us...  \n",
       "9  [@user Go back to Canada, @user Time for Canad...  "
      ]
     },
     "execution_count": 6,
     "metadata": {},
     "output_type": "execute_result"
    }
   ],
   "source": [
    "topic_info = model.get_topic_info()\n",
    "topic_info.head(10)"
   ]
  },
  {
   "attachments": {},
   "cell_type": "markdown",
   "metadata": {},
   "source": [
    "Let's visualize the topics we extracted within the data"
   ]
  },
  {
   "cell_type": "code",
   "execution_count": 7,
   "metadata": {},
   "outputs": [
    {
     "name": "stderr",
     "output_type": "stream",
     "text": [
      "2it [00:00, 13.74it/s]\n"
     ]
    },
    {
     "data": {
      "application/vnd.plotly.v1+json": {
       "config": {
        "plotlyServerURL": "https://plot.ly"
       },
       "data": [
        {
         "hoverinfo": "text",
         "hovertext": [
          "<b>Topic 0</b><br>Words: she, you, is, he, are",
          "<b>Topic 0</b><br>Words: she, shit, is, you, he"
         ],
         "marker": {
          "color": "#E69F00"
         },
         "name": "0_she_you_is_he",
         "orientation": "h",
         "type": "bar",
         "visible": true,
         "x": [
          2737,
          1202
         ],
         "y": [
          0,
          1
         ]
        },
        {
         "hoverinfo": "text",
         "hovertext": [
          "<b>Topic 1</b><br>Words: gun, control, guns, laws, the",
          "<b>Topic 1</b><br>Words: gun, control, guns, laws, the"
         ],
         "marker": {
          "color": "#56B4E9"
         },
         "name": "1_gun_control_guns_laws",
         "orientation": "h",
         "type": "bar",
         "visible": "legendonly",
         "x": [
          645,
          346
         ],
         "y": [
          0,
          1
         ]
        },
        {
         "hoverinfo": "text",
         "hovertext": [
          "<b>Topic 2</b><br>Words: liberals, they, user, the, their",
          "<b>Topic 2</b><br>Words: liberals, they, their, are, the"
         ],
         "marker": {
          "color": "#009E73"
         },
         "name": "2_liberals_they_user_their",
         "orientation": "h",
         "type": "bar",
         "visible": "legendonly",
         "x": [
          246,
          136
         ],
         "y": [
          0,
          1
         ]
        },
        {
         "hoverinfo": "text",
         "hovertext": [
          "<b>Topic 3</b><br>Words: antifa, user, they, your, to",
          "<b>Topic 3</b><br>Words: antifa, them, your, to, you"
         ],
         "marker": {
          "color": "#F0E442"
         },
         "name": "3_antifa_user_they_your",
         "orientation": "h",
         "type": "bar",
         "visible": "legendonly",
         "x": [
          262,
          55
         ],
         "y": [
          0,
          1
         ]
        },
        {
         "hoverinfo": "text",
         "hovertext": [
          "<b>Topic 4</b><br>Words: conservatives, they, the, conservative, and",
          "<b>Topic 4</b><br>Words: conservatives, they, it, and, the"
         ],
         "marker": {
          "color": "#D55E00"
         },
         "name": "4_conservatives_they_the_and",
         "orientation": "h",
         "type": "bar",
         "visible": "legendonly",
         "x": [
          195,
          67
         ],
         "y": [
          0,
          1
         ]
        },
        {
         "hoverinfo": "text",
         "hovertext": [
          "<b>Topic 5</b><br>Words: kavanaugh, maga, judge, accuser, ford",
          "<b>Topic 5</b><br>Words: kavanaugh, maga, vote, this, will"
         ],
         "marker": {
          "color": "#0072B2"
         },
         "name": "5_kavanaugh_maga_judge_vote",
         "orientation": "h",
         "type": "bar",
         "visible": "legendonly",
         "x": [
          127,
          68
         ],
         "y": [
          0,
          1
         ]
        },
        {
         "hoverinfo": "text",
         "hovertext": [
          "<b>Topic 6</b><br>Words: brexit, uk, eu, labour, tories",
          "<b>Topic 6</b><br>Words: tories, brexit, uk, eu, tory"
         ],
         "marker": {
          "color": "#CC79A7"
         },
         "name": "6_brexit_uk_tories_eu",
         "orientation": "h",
         "type": "bar",
         "visible": "legendonly",
         "x": [
          126,
          35
         ],
         "y": [
          0,
          1
         ]
        },
        {
         "hoverinfo": "text",
         "hovertext": [
          "<b>Topic 7</b><br>Words: user, treph, follow, gt, lt",
          "<b>Topic 7</b><br>Words: user, jaws, blow, you, dont"
         ],
         "marker": {
          "color": "#E69F00"
         },
         "name": "7_user_treph_follow_gt",
         "orientation": "h",
         "type": "bar",
         "visible": "legendonly",
         "x": [
          136,
          17
         ],
         "y": [
          0,
          1
         ]
        },
        {
         "hoverinfo": "text",
         "hovertext": [
          "<b>Topic 8</b><br>Words: canada, trudeau, ndp, liberals, ontario",
          "<b>Topic 8</b><br>Words: trudeau, canada, canadians, liberals, conservatives"
         ],
         "marker": {
          "color": "#56B4E9"
         },
         "name": "8_canada_trudeau_liberals_ndp",
         "orientation": "h",
         "type": "bar",
         "visible": "legendonly",
         "x": [
          87,
          26
         ],
         "y": [
          0,
          1
         ]
        },
        {
         "hoverinfo": "text",
         "hovertext": [
          "<b>Topic 9</b><br>Words: women, liberals, conservatives, rape, sexual",
          "<b>Topic 9</b><br>Words: women, sexual, men, liberals, conservatives"
         ],
         "marker": {
          "color": "#009E73"
         },
         "name": "9_women_liberals_sexual_conservatives",
         "orientation": "h",
         "type": "bar",
         "visible": "legendonly",
         "x": [
          53,
          58
         ],
         "y": [
          0,
          1
         ]
        }
       ],
       "layout": {
        "height": 900,
        "hoverlabel": {
         "bgcolor": "white",
         "font": {
          "family": "Rockwell",
          "size": 16
         }
        },
        "legend": {
         "title": {
          "text": "<b>Global Topic Representation"
         }
        },
        "template": {
         "data": {
          "bar": [
           {
            "error_x": {
             "color": "rgb(36,36,36)"
            },
            "error_y": {
             "color": "rgb(36,36,36)"
            },
            "marker": {
             "line": {
              "color": "white",
              "width": 0.5
             },
             "pattern": {
              "fillmode": "overlay",
              "size": 10,
              "solidity": 0.2
             }
            },
            "type": "bar"
           }
          ],
          "barpolar": [
           {
            "marker": {
             "line": {
              "color": "white",
              "width": 0.5
             },
             "pattern": {
              "fillmode": "overlay",
              "size": 10,
              "solidity": 0.2
             }
            },
            "type": "barpolar"
           }
          ],
          "carpet": [
           {
            "aaxis": {
             "endlinecolor": "rgb(36,36,36)",
             "gridcolor": "white",
             "linecolor": "white",
             "minorgridcolor": "white",
             "startlinecolor": "rgb(36,36,36)"
            },
            "baxis": {
             "endlinecolor": "rgb(36,36,36)",
             "gridcolor": "white",
             "linecolor": "white",
             "minorgridcolor": "white",
             "startlinecolor": "rgb(36,36,36)"
            },
            "type": "carpet"
           }
          ],
          "choropleth": [
           {
            "colorbar": {
             "outlinewidth": 1,
             "tickcolor": "rgb(36,36,36)",
             "ticks": "outside"
            },
            "type": "choropleth"
           }
          ],
          "contour": [
           {
            "colorbar": {
             "outlinewidth": 1,
             "tickcolor": "rgb(36,36,36)",
             "ticks": "outside"
            },
            "colorscale": [
             [
              0,
              "#440154"
             ],
             [
              0.1111111111111111,
              "#482878"
             ],
             [
              0.2222222222222222,
              "#3e4989"
             ],
             [
              0.3333333333333333,
              "#31688e"
             ],
             [
              0.4444444444444444,
              "#26828e"
             ],
             [
              0.5555555555555556,
              "#1f9e89"
             ],
             [
              0.6666666666666666,
              "#35b779"
             ],
             [
              0.7777777777777778,
              "#6ece58"
             ],
             [
              0.8888888888888888,
              "#b5de2b"
             ],
             [
              1,
              "#fde725"
             ]
            ],
            "type": "contour"
           }
          ],
          "contourcarpet": [
           {
            "colorbar": {
             "outlinewidth": 1,
             "tickcolor": "rgb(36,36,36)",
             "ticks": "outside"
            },
            "type": "contourcarpet"
           }
          ],
          "heatmap": [
           {
            "colorbar": {
             "outlinewidth": 1,
             "tickcolor": "rgb(36,36,36)",
             "ticks": "outside"
            },
            "colorscale": [
             [
              0,
              "#440154"
             ],
             [
              0.1111111111111111,
              "#482878"
             ],
             [
              0.2222222222222222,
              "#3e4989"
             ],
             [
              0.3333333333333333,
              "#31688e"
             ],
             [
              0.4444444444444444,
              "#26828e"
             ],
             [
              0.5555555555555556,
              "#1f9e89"
             ],
             [
              0.6666666666666666,
              "#35b779"
             ],
             [
              0.7777777777777778,
              "#6ece58"
             ],
             [
              0.8888888888888888,
              "#b5de2b"
             ],
             [
              1,
              "#fde725"
             ]
            ],
            "type": "heatmap"
           }
          ],
          "heatmapgl": [
           {
            "colorbar": {
             "outlinewidth": 1,
             "tickcolor": "rgb(36,36,36)",
             "ticks": "outside"
            },
            "colorscale": [
             [
              0,
              "#440154"
             ],
             [
              0.1111111111111111,
              "#482878"
             ],
             [
              0.2222222222222222,
              "#3e4989"
             ],
             [
              0.3333333333333333,
              "#31688e"
             ],
             [
              0.4444444444444444,
              "#26828e"
             ],
             [
              0.5555555555555556,
              "#1f9e89"
             ],
             [
              0.6666666666666666,
              "#35b779"
             ],
             [
              0.7777777777777778,
              "#6ece58"
             ],
             [
              0.8888888888888888,
              "#b5de2b"
             ],
             [
              1,
              "#fde725"
             ]
            ],
            "type": "heatmapgl"
           }
          ],
          "histogram": [
           {
            "marker": {
             "line": {
              "color": "white",
              "width": 0.6
             }
            },
            "type": "histogram"
           }
          ],
          "histogram2d": [
           {
            "colorbar": {
             "outlinewidth": 1,
             "tickcolor": "rgb(36,36,36)",
             "ticks": "outside"
            },
            "colorscale": [
             [
              0,
              "#440154"
             ],
             [
              0.1111111111111111,
              "#482878"
             ],
             [
              0.2222222222222222,
              "#3e4989"
             ],
             [
              0.3333333333333333,
              "#31688e"
             ],
             [
              0.4444444444444444,
              "#26828e"
             ],
             [
              0.5555555555555556,
              "#1f9e89"
             ],
             [
              0.6666666666666666,
              "#35b779"
             ],
             [
              0.7777777777777778,
              "#6ece58"
             ],
             [
              0.8888888888888888,
              "#b5de2b"
             ],
             [
              1,
              "#fde725"
             ]
            ],
            "type": "histogram2d"
           }
          ],
          "histogram2dcontour": [
           {
            "colorbar": {
             "outlinewidth": 1,
             "tickcolor": "rgb(36,36,36)",
             "ticks": "outside"
            },
            "colorscale": [
             [
              0,
              "#440154"
             ],
             [
              0.1111111111111111,
              "#482878"
             ],
             [
              0.2222222222222222,
              "#3e4989"
             ],
             [
              0.3333333333333333,
              "#31688e"
             ],
             [
              0.4444444444444444,
              "#26828e"
             ],
             [
              0.5555555555555556,
              "#1f9e89"
             ],
             [
              0.6666666666666666,
              "#35b779"
             ],
             [
              0.7777777777777778,
              "#6ece58"
             ],
             [
              0.8888888888888888,
              "#b5de2b"
             ],
             [
              1,
              "#fde725"
             ]
            ],
            "type": "histogram2dcontour"
           }
          ],
          "mesh3d": [
           {
            "colorbar": {
             "outlinewidth": 1,
             "tickcolor": "rgb(36,36,36)",
             "ticks": "outside"
            },
            "type": "mesh3d"
           }
          ],
          "parcoords": [
           {
            "line": {
             "colorbar": {
              "outlinewidth": 1,
              "tickcolor": "rgb(36,36,36)",
              "ticks": "outside"
             }
            },
            "type": "parcoords"
           }
          ],
          "pie": [
           {
            "automargin": true,
            "type": "pie"
           }
          ],
          "scatter": [
           {
            "fillpattern": {
             "fillmode": "overlay",
             "size": 10,
             "solidity": 0.2
            },
            "type": "scatter"
           }
          ],
          "scatter3d": [
           {
            "line": {
             "colorbar": {
              "outlinewidth": 1,
              "tickcolor": "rgb(36,36,36)",
              "ticks": "outside"
             }
            },
            "marker": {
             "colorbar": {
              "outlinewidth": 1,
              "tickcolor": "rgb(36,36,36)",
              "ticks": "outside"
             }
            },
            "type": "scatter3d"
           }
          ],
          "scattercarpet": [
           {
            "marker": {
             "colorbar": {
              "outlinewidth": 1,
              "tickcolor": "rgb(36,36,36)",
              "ticks": "outside"
             }
            },
            "type": "scattercarpet"
           }
          ],
          "scattergeo": [
           {
            "marker": {
             "colorbar": {
              "outlinewidth": 1,
              "tickcolor": "rgb(36,36,36)",
              "ticks": "outside"
             }
            },
            "type": "scattergeo"
           }
          ],
          "scattergl": [
           {
            "marker": {
             "colorbar": {
              "outlinewidth": 1,
              "tickcolor": "rgb(36,36,36)",
              "ticks": "outside"
             }
            },
            "type": "scattergl"
           }
          ],
          "scattermapbox": [
           {
            "marker": {
             "colorbar": {
              "outlinewidth": 1,
              "tickcolor": "rgb(36,36,36)",
              "ticks": "outside"
             }
            },
            "type": "scattermapbox"
           }
          ],
          "scatterpolar": [
           {
            "marker": {
             "colorbar": {
              "outlinewidth": 1,
              "tickcolor": "rgb(36,36,36)",
              "ticks": "outside"
             }
            },
            "type": "scatterpolar"
           }
          ],
          "scatterpolargl": [
           {
            "marker": {
             "colorbar": {
              "outlinewidth": 1,
              "tickcolor": "rgb(36,36,36)",
              "ticks": "outside"
             }
            },
            "type": "scatterpolargl"
           }
          ],
          "scatterternary": [
           {
            "marker": {
             "colorbar": {
              "outlinewidth": 1,
              "tickcolor": "rgb(36,36,36)",
              "ticks": "outside"
             }
            },
            "type": "scatterternary"
           }
          ],
          "surface": [
           {
            "colorbar": {
             "outlinewidth": 1,
             "tickcolor": "rgb(36,36,36)",
             "ticks": "outside"
            },
            "colorscale": [
             [
              0,
              "#440154"
             ],
             [
              0.1111111111111111,
              "#482878"
             ],
             [
              0.2222222222222222,
              "#3e4989"
             ],
             [
              0.3333333333333333,
              "#31688e"
             ],
             [
              0.4444444444444444,
              "#26828e"
             ],
             [
              0.5555555555555556,
              "#1f9e89"
             ],
             [
              0.6666666666666666,
              "#35b779"
             ],
             [
              0.7777777777777778,
              "#6ece58"
             ],
             [
              0.8888888888888888,
              "#b5de2b"
             ],
             [
              1,
              "#fde725"
             ]
            ],
            "type": "surface"
           }
          ],
          "table": [
           {
            "cells": {
             "fill": {
              "color": "rgb(237,237,237)"
             },
             "line": {
              "color": "white"
             }
            },
            "header": {
             "fill": {
              "color": "rgb(217,217,217)"
             },
             "line": {
              "color": "white"
             }
            },
            "type": "table"
           }
          ]
         },
         "layout": {
          "annotationdefaults": {
           "arrowhead": 0,
           "arrowwidth": 1
          },
          "autotypenumbers": "strict",
          "coloraxis": {
           "colorbar": {
            "outlinewidth": 1,
            "tickcolor": "rgb(36,36,36)",
            "ticks": "outside"
           }
          },
          "colorscale": {
           "diverging": [
            [
             0,
             "rgb(103,0,31)"
            ],
            [
             0.1,
             "rgb(178,24,43)"
            ],
            [
             0.2,
             "rgb(214,96,77)"
            ],
            [
             0.3,
             "rgb(244,165,130)"
            ],
            [
             0.4,
             "rgb(253,219,199)"
            ],
            [
             0.5,
             "rgb(247,247,247)"
            ],
            [
             0.6,
             "rgb(209,229,240)"
            ],
            [
             0.7,
             "rgb(146,197,222)"
            ],
            [
             0.8,
             "rgb(67,147,195)"
            ],
            [
             0.9,
             "rgb(33,102,172)"
            ],
            [
             1,
             "rgb(5,48,97)"
            ]
           ],
           "sequential": [
            [
             0,
             "#440154"
            ],
            [
             0.1111111111111111,
             "#482878"
            ],
            [
             0.2222222222222222,
             "#3e4989"
            ],
            [
             0.3333333333333333,
             "#31688e"
            ],
            [
             0.4444444444444444,
             "#26828e"
            ],
            [
             0.5555555555555556,
             "#1f9e89"
            ],
            [
             0.6666666666666666,
             "#35b779"
            ],
            [
             0.7777777777777778,
             "#6ece58"
            ],
            [
             0.8888888888888888,
             "#b5de2b"
            ],
            [
             1,
             "#fde725"
            ]
           ],
           "sequentialminus": [
            [
             0,
             "#440154"
            ],
            [
             0.1111111111111111,
             "#482878"
            ],
            [
             0.2222222222222222,
             "#3e4989"
            ],
            [
             0.3333333333333333,
             "#31688e"
            ],
            [
             0.4444444444444444,
             "#26828e"
            ],
            [
             0.5555555555555556,
             "#1f9e89"
            ],
            [
             0.6666666666666666,
             "#35b779"
            ],
            [
             0.7777777777777778,
             "#6ece58"
            ],
            [
             0.8888888888888888,
             "#b5de2b"
            ],
            [
             1,
             "#fde725"
            ]
           ]
          },
          "colorway": [
           "#1F77B4",
           "#FF7F0E",
           "#2CA02C",
           "#D62728",
           "#9467BD",
           "#8C564B",
           "#E377C2",
           "#7F7F7F",
           "#BCBD22",
           "#17BECF"
          ],
          "font": {
           "color": "rgb(36,36,36)"
          },
          "geo": {
           "bgcolor": "white",
           "lakecolor": "white",
           "landcolor": "white",
           "showlakes": true,
           "showland": true,
           "subunitcolor": "white"
          },
          "hoverlabel": {
           "align": "left"
          },
          "hovermode": "closest",
          "mapbox": {
           "style": "light"
          },
          "paper_bgcolor": "white",
          "plot_bgcolor": "white",
          "polar": {
           "angularaxis": {
            "gridcolor": "rgb(232,232,232)",
            "linecolor": "rgb(36,36,36)",
            "showgrid": false,
            "showline": true,
            "ticks": "outside"
           },
           "bgcolor": "white",
           "radialaxis": {
            "gridcolor": "rgb(232,232,232)",
            "linecolor": "rgb(36,36,36)",
            "showgrid": false,
            "showline": true,
            "ticks": "outside"
           }
          },
          "scene": {
           "xaxis": {
            "backgroundcolor": "white",
            "gridcolor": "rgb(232,232,232)",
            "gridwidth": 2,
            "linecolor": "rgb(36,36,36)",
            "showbackground": true,
            "showgrid": false,
            "showline": true,
            "ticks": "outside",
            "zeroline": false,
            "zerolinecolor": "rgb(36,36,36)"
           },
           "yaxis": {
            "backgroundcolor": "white",
            "gridcolor": "rgb(232,232,232)",
            "gridwidth": 2,
            "linecolor": "rgb(36,36,36)",
            "showbackground": true,
            "showgrid": false,
            "showline": true,
            "ticks": "outside",
            "zeroline": false,
            "zerolinecolor": "rgb(36,36,36)"
           },
           "zaxis": {
            "backgroundcolor": "white",
            "gridcolor": "rgb(232,232,232)",
            "gridwidth": 2,
            "linecolor": "rgb(36,36,36)",
            "showbackground": true,
            "showgrid": false,
            "showline": true,
            "ticks": "outside",
            "zeroline": false,
            "zerolinecolor": "rgb(36,36,36)"
           }
          },
          "shapedefaults": {
           "fillcolor": "black",
           "line": {
            "width": 0
           },
           "opacity": 0.3
          },
          "ternary": {
           "aaxis": {
            "gridcolor": "rgb(232,232,232)",
            "linecolor": "rgb(36,36,36)",
            "showgrid": false,
            "showline": true,
            "ticks": "outside"
           },
           "baxis": {
            "gridcolor": "rgb(232,232,232)",
            "linecolor": "rgb(36,36,36)",
            "showgrid": false,
            "showline": true,
            "ticks": "outside"
           },
           "bgcolor": "white",
           "caxis": {
            "gridcolor": "rgb(232,232,232)",
            "linecolor": "rgb(36,36,36)",
            "showgrid": false,
            "showline": true,
            "ticks": "outside"
           }
          },
          "title": {
           "x": 0.05
          },
          "xaxis": {
           "automargin": true,
           "gridcolor": "rgb(232,232,232)",
           "linecolor": "rgb(36,36,36)",
           "showgrid": false,
           "showline": true,
           "ticks": "outside",
           "title": {
            "standoff": 15
           },
           "zeroline": false,
           "zerolinecolor": "rgb(36,36,36)"
          },
          "yaxis": {
           "automargin": true,
           "gridcolor": "rgb(232,232,232)",
           "linecolor": "rgb(36,36,36)",
           "showgrid": false,
           "showline": true,
           "ticks": "outside",
           "title": {
            "standoff": 15
           },
           "zeroline": false,
           "zerolinecolor": "rgb(36,36,36)"
          }
         }
        },
        "title": {
         "font": {
          "color": "Black",
          "size": 22
         },
         "text": "<b>Topics per Class</b>",
         "x": 0.4,
         "xanchor": "center",
         "y": 0.95,
         "yanchor": "top"
        },
        "width": 1250,
        "xaxis": {
         "showgrid": true,
         "title": {
          "text": "Frequency"
         }
        },
        "yaxis": {
         "showgrid": true,
         "title": {
          "text": "Class"
         }
        }
       }
      }
     },
     "metadata": {},
     "output_type": "display_data"
    }
   ],
   "source": [
    "topics_per_class = model.topics_per_class(train_dataset[\"text\"], train_dataset[\"label\"])\n",
    "model.visualize_topics_per_class(topics_per_class)"
   ]
  },
  {
   "attachments": {},
   "cell_type": "markdown",
   "metadata": {},
   "source": [
    "3. (1 point) What do you think about the results? How do you think it could impact a model trained on these data?\n",
    "\n",
    "We can observe sereral things:\n",
    "* There is a lot of <i>noise</i>, meaning that there are a high majority of irrelevant topics\n",
    "* Furthermore, the disparity accross the remaining topics is very unbalanced, with some topics (guns) being much minoritary than others (women, liberals, etc.).\n",
    "\n",
    "This could impact a model trained on these data in several ways:\n",
    "* The model could be biased towards the most frequent topics. Concretely, it could be more likely to classify a tweet as offensive if it contains words related to the most frequent topics.\n",
    "* The model could also be confused by the noise and the irrelevant topics."
   ]
  },
  {
   "attachments": {},
   "cell_type": "markdown",
   "metadata": {},
   "source": [
    "4. **Bonus** By default, BERTopic extracts single keywords. Play with the model to extract bigrams or more. See if you can go deeper in your analysis."
   ]
  },
  {
   "attachments": {},
   "cell_type": "markdown",
   "metadata": {},
   "source": [
    "By default we can see that BERT uses CountVectorizer which, utilizes unigrams for creating the document-term matrix. However, it is possible to change a parameter in the BERTopic model to use bigrams or n-grams instead:\n",
    "\n",
    "The `n_gram_range` parameter accepts a tuple (min_n, max_n), where `min_n` is the lower and `max_n` is the upper boundary of the range of n-values for different n-grams to be extracted."
   ]
  },
  {
   "cell_type": "code",
   "execution_count": 8,
   "metadata": {},
   "outputs": [
    {
     "data": {
      "application/vnd.jupyter.widget-view+json": {
       "model_id": "025ef8bcc9214ab98c21df32818bbf19",
       "version_major": 2,
       "version_minor": 0
      },
      "text/plain": [
       "Batches:   0%|          | 0/373 [00:00<?, ?it/s]"
      ]
     },
     "metadata": {},
     "output_type": "display_data"
    },
    {
     "name": "stderr",
     "output_type": "stream",
     "text": [
      "2023-06-25 20:53:23,425 - BERTopic - Transformed documents to Embeddings\n",
      "2023-06-25 20:53:29,230 - BERTopic - Reduced dimensionality\n",
      "2023-06-25 20:53:29,383 - BERTopic - Clustered reduced embeddings\n"
     ]
    }
   ],
   "source": [
    "model_ngram = BERTopic(embedding_model=\"all-MiniLM-L6-v2\", umap_model=UMAP(random_state=42), vectorizer_model=CountVectorizer(ngram_range=(2, 5)), verbose=True)\n",
    "\n",
    "topics, _ = model_ngram.fit_transform(train_dataset[\"text\"])"
   ]
  },
  {
   "cell_type": "code",
   "execution_count": 9,
   "metadata": {},
   "outputs": [
    {
     "data": {
      "text/html": [
       "<div>\n",
       "<style scoped>\n",
       "    .dataframe tbody tr th:only-of-type {\n",
       "        vertical-align: middle;\n",
       "    }\n",
       "\n",
       "    .dataframe tbody tr th {\n",
       "        vertical-align: top;\n",
       "    }\n",
       "\n",
       "    .dataframe thead th {\n",
       "        text-align: right;\n",
       "    }\n",
       "</style>\n",
       "<table border=\"1\" class=\"dataframe\">\n",
       "  <thead>\n",
       "    <tr style=\"text-align: right;\">\n",
       "      <th></th>\n",
       "      <th>Topic</th>\n",
       "      <th>Count</th>\n",
       "      <th>Name</th>\n",
       "      <th>Representation</th>\n",
       "      <th>Representative_Docs</th>\n",
       "    </tr>\n",
       "  </thead>\n",
       "  <tbody>\n",
       "    <tr>\n",
       "      <th>0</th>\n",
       "      <td>-1</td>\n",
       "      <td>3069</td>\n",
       "      <td>-1_user user_user user user_user user user use...</td>\n",
       "      <td>[user user, user user user, user user user use...</td>\n",
       "      <td>[@user @user @user @user @user @user @user @us...</td>\n",
       "    </tr>\n",
       "    <tr>\n",
       "      <th>1</th>\n",
       "      <td>0</td>\n",
       "      <td>3939</td>\n",
       "      <td>0_you are_she is_he is_user user</td>\n",
       "      <td>[you are, she is, he is, user user, user you, ...</td>\n",
       "      <td>[@user @user He is, @user She is 😘, @user She ...</td>\n",
       "    </tr>\n",
       "    <tr>\n",
       "      <th>2</th>\n",
       "      <td>1</td>\n",
       "      <td>991</td>\n",
       "      <td>1_gun control_user user_user user user_user us...</td>\n",
       "      <td>[gun control, user user, user user user, user ...</td>\n",
       "      <td>[@user @user @user @user @user @user @user @us...</td>\n",
       "    </tr>\n",
       "    <tr>\n",
       "      <th>3</th>\n",
       "      <td>2</td>\n",
       "      <td>382</td>\n",
       "      <td>2_user user_user liberals_the liberals_liberal...</td>\n",
       "      <td>[user user, user liberals, the liberals, liber...</td>\n",
       "      <td>[@user @user @user @user @user @user @user @us...</td>\n",
       "    </tr>\n",
       "    <tr>\n",
       "      <th>4</th>\n",
       "      <td>3</td>\n",
       "      <td>317</td>\n",
       "      <td>3_antifa user_user antifa_user user_antifa use...</td>\n",
       "      <td>[antifa user, user antifa, user user, antifa u...</td>\n",
       "      <td>[@user Sounds like he joined #Antifa - Gov. @u...</td>\n",
       "    </tr>\n",
       "  </tbody>\n",
       "</table>\n",
       "</div>"
      ],
      "text/plain": [
       "   Topic  Count                                               Name  \\\n",
       "0     -1   3069  -1_user user_user user user_user user user use...   \n",
       "1      0   3939                   0_you are_she is_he is_user user   \n",
       "2      1    991  1_gun control_user user_user user user_user us...   \n",
       "3      2    382  2_user user_user liberals_the liberals_liberal...   \n",
       "4      3    317  3_antifa user_user antifa_user user_antifa use...   \n",
       "\n",
       "                                      Representation  \\\n",
       "0  [user user, user user user, user user user use...   \n",
       "1  [you are, she is, he is, user user, user you, ...   \n",
       "2  [gun control, user user, user user user, user ...   \n",
       "3  [user user, user liberals, the liberals, liber...   \n",
       "4  [antifa user, user antifa, user user, antifa u...   \n",
       "\n",
       "                                 Representative_Docs  \n",
       "0  [@user @user @user @user @user @user @user @us...  \n",
       "1  [@user @user He is, @user She is 😘, @user She ...  \n",
       "2  [@user @user @user @user @user @user @user @us...  \n",
       "3  [@user @user @user @user @user @user @user @us...  \n",
       "4  [@user Sounds like he joined #Antifa - Gov. @u...  "
      ]
     },
     "execution_count": 9,
     "metadata": {},
     "output_type": "execute_result"
    }
   ],
   "source": [
    "model_ngram.get_topic_info().head(5)"
   ]
  },
  {
   "cell_type": "code",
   "execution_count": 10,
   "metadata": {},
   "outputs": [
    {
     "name": "stderr",
     "output_type": "stream",
     "text": [
      "2it [00:00, 14.77it/s]\n"
     ]
    },
    {
     "data": {
      "application/vnd.plotly.v1+json": {
       "config": {
        "plotlyServerURL": "https://plot.ly"
       },
       "data": [
        {
         "hoverinfo": "text",
         "hovertext": [
          "<b>Topic 0</b><br>Words: she, you, is, he, are",
          "<b>Topic 0</b><br>Words: she, shit, is, you, he"
         ],
         "marker": {
          "color": "#E69F00"
         },
         "name": "0_she_you_is_he",
         "orientation": "h",
         "type": "bar",
         "visible": true,
         "x": [
          2737,
          1202
         ],
         "y": [
          0,
          1
         ]
        },
        {
         "hoverinfo": "text",
         "hovertext": [
          "<b>Topic 1</b><br>Words: gun, control, guns, laws, the",
          "<b>Topic 1</b><br>Words: gun, control, guns, laws, the"
         ],
         "marker": {
          "color": "#56B4E9"
         },
         "name": "1_gun_control_guns_laws",
         "orientation": "h",
         "type": "bar",
         "visible": "legendonly",
         "x": [
          645,
          346
         ],
         "y": [
          0,
          1
         ]
        },
        {
         "hoverinfo": "text",
         "hovertext": [
          "<b>Topic 2</b><br>Words: liberals, they, user, the, their",
          "<b>Topic 2</b><br>Words: liberals, they, their, are, the"
         ],
         "marker": {
          "color": "#009E73"
         },
         "name": "2_liberals_they_user_their",
         "orientation": "h",
         "type": "bar",
         "visible": "legendonly",
         "x": [
          246,
          136
         ],
         "y": [
          0,
          1
         ]
        },
        {
         "hoverinfo": "text",
         "hovertext": [
          "<b>Topic 3</b><br>Words: antifa, user, they, your, to",
          "<b>Topic 3</b><br>Words: antifa, them, your, to, you"
         ],
         "marker": {
          "color": "#F0E442"
         },
         "name": "3_antifa_user_they_your",
         "orientation": "h",
         "type": "bar",
         "visible": "legendonly",
         "x": [
          262,
          55
         ],
         "y": [
          0,
          1
         ]
        },
        {
         "hoverinfo": "text",
         "hovertext": [
          "<b>Topic 4</b><br>Words: conservatives, they, the, conservative, and",
          "<b>Topic 4</b><br>Words: conservatives, they, it, and, the"
         ],
         "marker": {
          "color": "#D55E00"
         },
         "name": "4_conservatives_they_the_and",
         "orientation": "h",
         "type": "bar",
         "visible": "legendonly",
         "x": [
          195,
          67
         ],
         "y": [
          0,
          1
         ]
        },
        {
         "hoverinfo": "text",
         "hovertext": [
          "<b>Topic 5</b><br>Words: kavanaugh, maga, judge, accuser, ford",
          "<b>Topic 5</b><br>Words: kavanaugh, maga, vote, this, will"
         ],
         "marker": {
          "color": "#0072B2"
         },
         "name": "5_kavanaugh_maga_judge_vote",
         "orientation": "h",
         "type": "bar",
         "visible": "legendonly",
         "x": [
          127,
          68
         ],
         "y": [
          0,
          1
         ]
        },
        {
         "hoverinfo": "text",
         "hovertext": [
          "<b>Topic 6</b><br>Words: brexit, uk, eu, labour, tories",
          "<b>Topic 6</b><br>Words: tories, brexit, uk, eu, tory"
         ],
         "marker": {
          "color": "#CC79A7"
         },
         "name": "6_brexit_uk_tories_eu",
         "orientation": "h",
         "type": "bar",
         "visible": "legendonly",
         "x": [
          126,
          35
         ],
         "y": [
          0,
          1
         ]
        },
        {
         "hoverinfo": "text",
         "hovertext": [
          "<b>Topic 7</b><br>Words: user, treph, follow, gt, lt",
          "<b>Topic 7</b><br>Words: user, jaws, blow, you, dont"
         ],
         "marker": {
          "color": "#E69F00"
         },
         "name": "7_user_treph_follow_gt",
         "orientation": "h",
         "type": "bar",
         "visible": "legendonly",
         "x": [
          136,
          17
         ],
         "y": [
          0,
          1
         ]
        },
        {
         "hoverinfo": "text",
         "hovertext": [
          "<b>Topic 8</b><br>Words: canada, trudeau, ndp, liberals, ontario",
          "<b>Topic 8</b><br>Words: trudeau, canada, canadians, liberals, conservatives"
         ],
         "marker": {
          "color": "#56B4E9"
         },
         "name": "8_canada_trudeau_liberals_ndp",
         "orientation": "h",
         "type": "bar",
         "visible": "legendonly",
         "x": [
          87,
          26
         ],
         "y": [
          0,
          1
         ]
        },
        {
         "hoverinfo": "text",
         "hovertext": [
          "<b>Topic 9</b><br>Words: women, liberals, conservatives, rape, sexual",
          "<b>Topic 9</b><br>Words: women, sexual, men, liberals, conservatives"
         ],
         "marker": {
          "color": "#009E73"
         },
         "name": "9_women_liberals_sexual_conservatives",
         "orientation": "h",
         "type": "bar",
         "visible": "legendonly",
         "x": [
          53,
          58
         ],
         "y": [
          0,
          1
         ]
        }
       ],
       "layout": {
        "height": 900,
        "hoverlabel": {
         "bgcolor": "white",
         "font": {
          "family": "Rockwell",
          "size": 16
         }
        },
        "legend": {
         "title": {
          "text": "<b>Global Topic Representation"
         }
        },
        "template": {
         "data": {
          "bar": [
           {
            "error_x": {
             "color": "rgb(36,36,36)"
            },
            "error_y": {
             "color": "rgb(36,36,36)"
            },
            "marker": {
             "line": {
              "color": "white",
              "width": 0.5
             },
             "pattern": {
              "fillmode": "overlay",
              "size": 10,
              "solidity": 0.2
             }
            },
            "type": "bar"
           }
          ],
          "barpolar": [
           {
            "marker": {
             "line": {
              "color": "white",
              "width": 0.5
             },
             "pattern": {
              "fillmode": "overlay",
              "size": 10,
              "solidity": 0.2
             }
            },
            "type": "barpolar"
           }
          ],
          "carpet": [
           {
            "aaxis": {
             "endlinecolor": "rgb(36,36,36)",
             "gridcolor": "white",
             "linecolor": "white",
             "minorgridcolor": "white",
             "startlinecolor": "rgb(36,36,36)"
            },
            "baxis": {
             "endlinecolor": "rgb(36,36,36)",
             "gridcolor": "white",
             "linecolor": "white",
             "minorgridcolor": "white",
             "startlinecolor": "rgb(36,36,36)"
            },
            "type": "carpet"
           }
          ],
          "choropleth": [
           {
            "colorbar": {
             "outlinewidth": 1,
             "tickcolor": "rgb(36,36,36)",
             "ticks": "outside"
            },
            "type": "choropleth"
           }
          ],
          "contour": [
           {
            "colorbar": {
             "outlinewidth": 1,
             "tickcolor": "rgb(36,36,36)",
             "ticks": "outside"
            },
            "colorscale": [
             [
              0,
              "#440154"
             ],
             [
              0.1111111111111111,
              "#482878"
             ],
             [
              0.2222222222222222,
              "#3e4989"
             ],
             [
              0.3333333333333333,
              "#31688e"
             ],
             [
              0.4444444444444444,
              "#26828e"
             ],
             [
              0.5555555555555556,
              "#1f9e89"
             ],
             [
              0.6666666666666666,
              "#35b779"
             ],
             [
              0.7777777777777778,
              "#6ece58"
             ],
             [
              0.8888888888888888,
              "#b5de2b"
             ],
             [
              1,
              "#fde725"
             ]
            ],
            "type": "contour"
           }
          ],
          "contourcarpet": [
           {
            "colorbar": {
             "outlinewidth": 1,
             "tickcolor": "rgb(36,36,36)",
             "ticks": "outside"
            },
            "type": "contourcarpet"
           }
          ],
          "heatmap": [
           {
            "colorbar": {
             "outlinewidth": 1,
             "tickcolor": "rgb(36,36,36)",
             "ticks": "outside"
            },
            "colorscale": [
             [
              0,
              "#440154"
             ],
             [
              0.1111111111111111,
              "#482878"
             ],
             [
              0.2222222222222222,
              "#3e4989"
             ],
             [
              0.3333333333333333,
              "#31688e"
             ],
             [
              0.4444444444444444,
              "#26828e"
             ],
             [
              0.5555555555555556,
              "#1f9e89"
             ],
             [
              0.6666666666666666,
              "#35b779"
             ],
             [
              0.7777777777777778,
              "#6ece58"
             ],
             [
              0.8888888888888888,
              "#b5de2b"
             ],
             [
              1,
              "#fde725"
             ]
            ],
            "type": "heatmap"
           }
          ],
          "heatmapgl": [
           {
            "colorbar": {
             "outlinewidth": 1,
             "tickcolor": "rgb(36,36,36)",
             "ticks": "outside"
            },
            "colorscale": [
             [
              0,
              "#440154"
             ],
             [
              0.1111111111111111,
              "#482878"
             ],
             [
              0.2222222222222222,
              "#3e4989"
             ],
             [
              0.3333333333333333,
              "#31688e"
             ],
             [
              0.4444444444444444,
              "#26828e"
             ],
             [
              0.5555555555555556,
              "#1f9e89"
             ],
             [
              0.6666666666666666,
              "#35b779"
             ],
             [
              0.7777777777777778,
              "#6ece58"
             ],
             [
              0.8888888888888888,
              "#b5de2b"
             ],
             [
              1,
              "#fde725"
             ]
            ],
            "type": "heatmapgl"
           }
          ],
          "histogram": [
           {
            "marker": {
             "line": {
              "color": "white",
              "width": 0.6
             }
            },
            "type": "histogram"
           }
          ],
          "histogram2d": [
           {
            "colorbar": {
             "outlinewidth": 1,
             "tickcolor": "rgb(36,36,36)",
             "ticks": "outside"
            },
            "colorscale": [
             [
              0,
              "#440154"
             ],
             [
              0.1111111111111111,
              "#482878"
             ],
             [
              0.2222222222222222,
              "#3e4989"
             ],
             [
              0.3333333333333333,
              "#31688e"
             ],
             [
              0.4444444444444444,
              "#26828e"
             ],
             [
              0.5555555555555556,
              "#1f9e89"
             ],
             [
              0.6666666666666666,
              "#35b779"
             ],
             [
              0.7777777777777778,
              "#6ece58"
             ],
             [
              0.8888888888888888,
              "#b5de2b"
             ],
             [
              1,
              "#fde725"
             ]
            ],
            "type": "histogram2d"
           }
          ],
          "histogram2dcontour": [
           {
            "colorbar": {
             "outlinewidth": 1,
             "tickcolor": "rgb(36,36,36)",
             "ticks": "outside"
            },
            "colorscale": [
             [
              0,
              "#440154"
             ],
             [
              0.1111111111111111,
              "#482878"
             ],
             [
              0.2222222222222222,
              "#3e4989"
             ],
             [
              0.3333333333333333,
              "#31688e"
             ],
             [
              0.4444444444444444,
              "#26828e"
             ],
             [
              0.5555555555555556,
              "#1f9e89"
             ],
             [
              0.6666666666666666,
              "#35b779"
             ],
             [
              0.7777777777777778,
              "#6ece58"
             ],
             [
              0.8888888888888888,
              "#b5de2b"
             ],
             [
              1,
              "#fde725"
             ]
            ],
            "type": "histogram2dcontour"
           }
          ],
          "mesh3d": [
           {
            "colorbar": {
             "outlinewidth": 1,
             "tickcolor": "rgb(36,36,36)",
             "ticks": "outside"
            },
            "type": "mesh3d"
           }
          ],
          "parcoords": [
           {
            "line": {
             "colorbar": {
              "outlinewidth": 1,
              "tickcolor": "rgb(36,36,36)",
              "ticks": "outside"
             }
            },
            "type": "parcoords"
           }
          ],
          "pie": [
           {
            "automargin": true,
            "type": "pie"
           }
          ],
          "scatter": [
           {
            "fillpattern": {
             "fillmode": "overlay",
             "size": 10,
             "solidity": 0.2
            },
            "type": "scatter"
           }
          ],
          "scatter3d": [
           {
            "line": {
             "colorbar": {
              "outlinewidth": 1,
              "tickcolor": "rgb(36,36,36)",
              "ticks": "outside"
             }
            },
            "marker": {
             "colorbar": {
              "outlinewidth": 1,
              "tickcolor": "rgb(36,36,36)",
              "ticks": "outside"
             }
            },
            "type": "scatter3d"
           }
          ],
          "scattercarpet": [
           {
            "marker": {
             "colorbar": {
              "outlinewidth": 1,
              "tickcolor": "rgb(36,36,36)",
              "ticks": "outside"
             }
            },
            "type": "scattercarpet"
           }
          ],
          "scattergeo": [
           {
            "marker": {
             "colorbar": {
              "outlinewidth": 1,
              "tickcolor": "rgb(36,36,36)",
              "ticks": "outside"
             }
            },
            "type": "scattergeo"
           }
          ],
          "scattergl": [
           {
            "marker": {
             "colorbar": {
              "outlinewidth": 1,
              "tickcolor": "rgb(36,36,36)",
              "ticks": "outside"
             }
            },
            "type": "scattergl"
           }
          ],
          "scattermapbox": [
           {
            "marker": {
             "colorbar": {
              "outlinewidth": 1,
              "tickcolor": "rgb(36,36,36)",
              "ticks": "outside"
             }
            },
            "type": "scattermapbox"
           }
          ],
          "scatterpolar": [
           {
            "marker": {
             "colorbar": {
              "outlinewidth": 1,
              "tickcolor": "rgb(36,36,36)",
              "ticks": "outside"
             }
            },
            "type": "scatterpolar"
           }
          ],
          "scatterpolargl": [
           {
            "marker": {
             "colorbar": {
              "outlinewidth": 1,
              "tickcolor": "rgb(36,36,36)",
              "ticks": "outside"
             }
            },
            "type": "scatterpolargl"
           }
          ],
          "scatterternary": [
           {
            "marker": {
             "colorbar": {
              "outlinewidth": 1,
              "tickcolor": "rgb(36,36,36)",
              "ticks": "outside"
             }
            },
            "type": "scatterternary"
           }
          ],
          "surface": [
           {
            "colorbar": {
             "outlinewidth": 1,
             "tickcolor": "rgb(36,36,36)",
             "ticks": "outside"
            },
            "colorscale": [
             [
              0,
              "#440154"
             ],
             [
              0.1111111111111111,
              "#482878"
             ],
             [
              0.2222222222222222,
              "#3e4989"
             ],
             [
              0.3333333333333333,
              "#31688e"
             ],
             [
              0.4444444444444444,
              "#26828e"
             ],
             [
              0.5555555555555556,
              "#1f9e89"
             ],
             [
              0.6666666666666666,
              "#35b779"
             ],
             [
              0.7777777777777778,
              "#6ece58"
             ],
             [
              0.8888888888888888,
              "#b5de2b"
             ],
             [
              1,
              "#fde725"
             ]
            ],
            "type": "surface"
           }
          ],
          "table": [
           {
            "cells": {
             "fill": {
              "color": "rgb(237,237,237)"
             },
             "line": {
              "color": "white"
             }
            },
            "header": {
             "fill": {
              "color": "rgb(217,217,217)"
             },
             "line": {
              "color": "white"
             }
            },
            "type": "table"
           }
          ]
         },
         "layout": {
          "annotationdefaults": {
           "arrowhead": 0,
           "arrowwidth": 1
          },
          "autotypenumbers": "strict",
          "coloraxis": {
           "colorbar": {
            "outlinewidth": 1,
            "tickcolor": "rgb(36,36,36)",
            "ticks": "outside"
           }
          },
          "colorscale": {
           "diverging": [
            [
             0,
             "rgb(103,0,31)"
            ],
            [
             0.1,
             "rgb(178,24,43)"
            ],
            [
             0.2,
             "rgb(214,96,77)"
            ],
            [
             0.3,
             "rgb(244,165,130)"
            ],
            [
             0.4,
             "rgb(253,219,199)"
            ],
            [
             0.5,
             "rgb(247,247,247)"
            ],
            [
             0.6,
             "rgb(209,229,240)"
            ],
            [
             0.7,
             "rgb(146,197,222)"
            ],
            [
             0.8,
             "rgb(67,147,195)"
            ],
            [
             0.9,
             "rgb(33,102,172)"
            ],
            [
             1,
             "rgb(5,48,97)"
            ]
           ],
           "sequential": [
            [
             0,
             "#440154"
            ],
            [
             0.1111111111111111,
             "#482878"
            ],
            [
             0.2222222222222222,
             "#3e4989"
            ],
            [
             0.3333333333333333,
             "#31688e"
            ],
            [
             0.4444444444444444,
             "#26828e"
            ],
            [
             0.5555555555555556,
             "#1f9e89"
            ],
            [
             0.6666666666666666,
             "#35b779"
            ],
            [
             0.7777777777777778,
             "#6ece58"
            ],
            [
             0.8888888888888888,
             "#b5de2b"
            ],
            [
             1,
             "#fde725"
            ]
           ],
           "sequentialminus": [
            [
             0,
             "#440154"
            ],
            [
             0.1111111111111111,
             "#482878"
            ],
            [
             0.2222222222222222,
             "#3e4989"
            ],
            [
             0.3333333333333333,
             "#31688e"
            ],
            [
             0.4444444444444444,
             "#26828e"
            ],
            [
             0.5555555555555556,
             "#1f9e89"
            ],
            [
             0.6666666666666666,
             "#35b779"
            ],
            [
             0.7777777777777778,
             "#6ece58"
            ],
            [
             0.8888888888888888,
             "#b5de2b"
            ],
            [
             1,
             "#fde725"
            ]
           ]
          },
          "colorway": [
           "#1F77B4",
           "#FF7F0E",
           "#2CA02C",
           "#D62728",
           "#9467BD",
           "#8C564B",
           "#E377C2",
           "#7F7F7F",
           "#BCBD22",
           "#17BECF"
          ],
          "font": {
           "color": "rgb(36,36,36)"
          },
          "geo": {
           "bgcolor": "white",
           "lakecolor": "white",
           "landcolor": "white",
           "showlakes": true,
           "showland": true,
           "subunitcolor": "white"
          },
          "hoverlabel": {
           "align": "left"
          },
          "hovermode": "closest",
          "mapbox": {
           "style": "light"
          },
          "paper_bgcolor": "white",
          "plot_bgcolor": "white",
          "polar": {
           "angularaxis": {
            "gridcolor": "rgb(232,232,232)",
            "linecolor": "rgb(36,36,36)",
            "showgrid": false,
            "showline": true,
            "ticks": "outside"
           },
           "bgcolor": "white",
           "radialaxis": {
            "gridcolor": "rgb(232,232,232)",
            "linecolor": "rgb(36,36,36)",
            "showgrid": false,
            "showline": true,
            "ticks": "outside"
           }
          },
          "scene": {
           "xaxis": {
            "backgroundcolor": "white",
            "gridcolor": "rgb(232,232,232)",
            "gridwidth": 2,
            "linecolor": "rgb(36,36,36)",
            "showbackground": true,
            "showgrid": false,
            "showline": true,
            "ticks": "outside",
            "zeroline": false,
            "zerolinecolor": "rgb(36,36,36)"
           },
           "yaxis": {
            "backgroundcolor": "white",
            "gridcolor": "rgb(232,232,232)",
            "gridwidth": 2,
            "linecolor": "rgb(36,36,36)",
            "showbackground": true,
            "showgrid": false,
            "showline": true,
            "ticks": "outside",
            "zeroline": false,
            "zerolinecolor": "rgb(36,36,36)"
           },
           "zaxis": {
            "backgroundcolor": "white",
            "gridcolor": "rgb(232,232,232)",
            "gridwidth": 2,
            "linecolor": "rgb(36,36,36)",
            "showbackground": true,
            "showgrid": false,
            "showline": true,
            "ticks": "outside",
            "zeroline": false,
            "zerolinecolor": "rgb(36,36,36)"
           }
          },
          "shapedefaults": {
           "fillcolor": "black",
           "line": {
            "width": 0
           },
           "opacity": 0.3
          },
          "ternary": {
           "aaxis": {
            "gridcolor": "rgb(232,232,232)",
            "linecolor": "rgb(36,36,36)",
            "showgrid": false,
            "showline": true,
            "ticks": "outside"
           },
           "baxis": {
            "gridcolor": "rgb(232,232,232)",
            "linecolor": "rgb(36,36,36)",
            "showgrid": false,
            "showline": true,
            "ticks": "outside"
           },
           "bgcolor": "white",
           "caxis": {
            "gridcolor": "rgb(232,232,232)",
            "linecolor": "rgb(36,36,36)",
            "showgrid": false,
            "showline": true,
            "ticks": "outside"
           }
          },
          "title": {
           "x": 0.05
          },
          "xaxis": {
           "automargin": true,
           "gridcolor": "rgb(232,232,232)",
           "linecolor": "rgb(36,36,36)",
           "showgrid": false,
           "showline": true,
           "ticks": "outside",
           "title": {
            "standoff": 15
           },
           "zeroline": false,
           "zerolinecolor": "rgb(36,36,36)"
          },
          "yaxis": {
           "automargin": true,
           "gridcolor": "rgb(232,232,232)",
           "linecolor": "rgb(36,36,36)",
           "showgrid": false,
           "showline": true,
           "ticks": "outside",
           "title": {
            "standoff": 15
           },
           "zeroline": false,
           "zerolinecolor": "rgb(36,36,36)"
          }
         }
        },
        "title": {
         "font": {
          "color": "Black",
          "size": 22
         },
         "text": "<b>Topics per Class</b>",
         "x": 0.4,
         "xanchor": "center",
         "y": 0.95,
         "yanchor": "top"
        },
        "width": 1250,
        "xaxis": {
         "showgrid": true,
         "title": {
          "text": "Frequency"
         }
        },
        "yaxis": {
         "showgrid": true,
         "title": {
          "text": "Class"
         }
        }
       }
      }
     },
     "metadata": {},
     "output_type": "display_data"
    }
   ],
   "source": [
    "topics_per_class_ngram = model.topics_per_class(train_dataset[\"text\"], train_dataset[\"label\"])\n",
    "model.visualize_topics_per_class(topics_per_class_ngram)"
   ]
  },
  {
   "attachments": {},
   "cell_type": "markdown",
   "metadata": {},
   "source": [
    "## Evaluating the model (8 points)"
   ]
  },
  {
   "attachments": {},
   "cell_type": "markdown",
   "metadata": {},
   "source": [
    "You were thinking about fine-tuning a [RoBERTa](https://arxiv.org/abs/1907.11692) model on the dataset, but RoBERTa has been trained on 2019 data, which do not include any tweet. Moreover, pretraining a model from scratch can be costly. Fortunately, a [reliable entity](https://github.com/cardiffnlp) pretrained RoBERTa on recent tweets and even fine-tuned it on both datasets [here](https://huggingface.co/cardiffnlp/twitter-roberta-base-offensive?text=I+like+you.+I+love+you) and [here](https://huggingface.co/cardiffnlp/twitter-roberta-base-hate?text=I+like+you.+I+love+you)."
   ]
  },
  {
   "attachments": {},
   "cell_type": "markdown",
   "metadata": {},
   "source": [
    "\n",
    "\n",
    "1. (2 points) Evaluate the model on the test split of the dataset you picked, using precision, recall, and F1-score."
   ]
  },
  {
   "cell_type": "code",
   "execution_count": 11,
   "metadata": {},
   "outputs": [],
   "source": [
    "# Preprocess text\n",
    "def preprocess(text:str) -> str:\n",
    "    \"\"\"\n",
    "    Preprocess text\n",
    "\n",
    "    :param text: string\n",
    "    :return: string\n",
    "    \"\"\"\n",
    "    new_text = []\n",
    "    for t in text.split(\" \"):\n",
    "        t = '@user' if t.startswith('@') and len(t) > 1 else t\n",
    "        t = 'http' if t.startswith('http') else t\n",
    "        new_text.append(t)\n",
    "    return \" \".join(new_text)\n",
    "\n",
    "\n",
    "task='offensive'\n",
    "MODEL = f\"cardiffnlp/twitter-roberta-base-{task}\"\n",
    "\n",
    "tokenizer = AutoTokenizer.from_pretrained(MODEL)"
   ]
  },
  {
   "cell_type": "code",
   "execution_count": 12,
   "metadata": {},
   "outputs": [],
   "source": [
    "# download label mapping\n",
    "labels=[]\n",
    "mapping_link = f\"https://raw.githubusercontent.com/cardiffnlp/tweeteval/main/datasets/{task}/mapping.txt\"\n",
    "with urllib.request.urlopen(mapping_link) as f:\n",
    "    html = f.read().decode('utf-8').split(\"\\n\")\n",
    "    csvreader = csv.reader(html, delimiter='\\t')\n",
    "labels = [row[1] for row in csvreader if len(row) > 1]\n"
   ]
  },
  {
   "cell_type": "code",
   "execution_count": 15,
   "metadata": {},
   "outputs": [],
   "source": [
    "# Assuming MODEL, tokenizer and labels are already defined\n",
    "model = AutoModelForSequenceClassification.from_pretrained(MODEL)\n",
    "\n",
    "# Create pipeline\n",
    "nlp = pipeline(\"text-classification\", model=model, tokenizer=tokenizer)\n",
    "\n",
    "# Predict\n",
    "predictions = []\n",
    "for item in test_dataset:\n",
    "    text = preprocess(item['text'])\n",
    "    output = nlp(text)[0]\n",
    "    pred_label = output['label']\n",
    "    # we convert to string if the labels are string\n",
    "    pred_label = str(pred_label)\n",
    "    predictions.append(pred_label)\n",
    "\n",
    "# for each item in predictions, replace 'offensive'  with 1 and 'not-offensive' with 0\n",
    "predictions = [1 if item == 'offensive' else 0 for item in predictions]\n",
    "\n",
    "# Get true labels\n",
    "true_labels = [item['label'] for item in test_dataset]\n"
   ]
  },
  {
   "cell_type": "code",
   "execution_count": null,
   "metadata": {},
   "outputs": [
    {
     "name": "stdout",
     "output_type": "stream",
     "text": [
      "Precision: 0.837\n",
      "Recall: 0.800\n",
      "F1-Score: 0.816\n"
     ]
    }
   ],
   "source": [
    "# compute precision, recall and f1-score\n",
    "precision = precision_score(true_labels, predictions, average='macro')\n",
    "recall = recall_score(true_labels, predictions, average='macro')\n",
    "f1 = f1_score(true_labels, predictions, average='macro')\n",
    "\n",
    "print('Precision: %.3f' % precision)\n",
    "print('Recall: %.3f' % recall)\n",
    "print('F1-Score: %.3f' % f1)"
   ]
  },
  {
   "attachments": {},
   "cell_type": "markdown",
   "metadata": {},
   "source": [
    "2. (2 points) Look for prediction failures. Extract the top 5 misclassified tweets (highest score in wrong class) for each class and discuss what could be wrong with the model."
   ]
  },
  {
   "cell_type": "code",
   "execution_count": 16,
   "metadata": {},
   "outputs": [
    {
     "name": "stdout",
     "output_type": "stream",
     "text": [
      "Text:  #Liberals / #Democrats THIS is what you stand for. If not, then #WalkAway\n",
      "True label:  1\n",
      "Predicted label:  non-offensive\n",
      "Confidence score:  0.9338217973709106\n",
      "\n",
      "\n",
      "Text:  #Liberals Are Reaching Peak Desperation To Call On #PhillipRuddock To Talk With #Turnbull To Convince Him To Help with #WentworthVotes 18 Sept 2018  @user #Auspol #LNP #NSWpol @user  @user @user #LNPMemes\n",
      "True label:  1\n",
      "Predicted label:  non-offensive\n",
      "Confidence score:  0.919756293296814\n",
      "\n",
      "\n",
      "Text:  #NoPasaran: Unity demo to oppose the far-right in #London – #antifa #Oct13 — Enough is Enough!\n",
      "True label:  1\n",
      "Predicted label:  non-offensive\n",
      "Confidence score:  0.9112220406532288\n",
      "\n",
      "\n",
      "Text:  #BREXIT deal HAS been reached - and will be unveiled at special summit in NOVEMBER, Has @user sold out the #UK to the eu??? She better have not or the @user are finished!! @user\n",
      "True label:  1\n",
      "Predicted label:  non-offensive\n",
      "Confidence score:  0.9081719517707825\n",
      "\n",
      "\n",
      "Text:  Are you fucking serious?\n",
      "True label:  0\n",
      "Predicted label:  offensive\n",
      "Confidence score:  0.9010688662528992\n",
      "\n",
      "\n"
     ]
    }
   ],
   "source": [
    "# create a list of dictionaries with the text, true label, predicted label and confidence score\n",
    "missclassified_tweets = []\n",
    "for i in range(len(predictions)):\n",
    "    if predictions[i] != true_labels[i]:\n",
    "        text = preprocess(test_dataset[i]['text'])\n",
    "        output = nlp(text)[0]\n",
    "        pred_label = output['label'] # get predicted label\n",
    "        # Convert to string if the labels are string\n",
    "        pred_label = str(pred_label)\n",
    "        confidence_score = output['score'] # get confidence score\n",
    "        missclassified_tweets.append({'text': text, 'true_label': true_labels[i], 'pred_label': pred_label, 'confidence_score': confidence_score})\n",
    "\n",
    "# sort the list of dictionaries by confidence score\n",
    "missclassified_tweets = sorted(missclassified_tweets, key=lambda k: k['confidence_score'], reverse=True)\n",
    "\n",
    "# print the 5 missclassified tweets with the highest confidence score\n",
    "for i in range(5):\n",
    "    print('Text: ', missclassified_tweets[i]['text'])\n",
    "    print('True label: ', missclassified_tweets[i]['true_label'])\n",
    "    print('Predicted label: ', missclassified_tweets[i]['pred_label'])\n",
    "    print('Confidence score: ', missclassified_tweets[i]['confidence_score'])\n",
    "    print('\\n')\n"
   ]
  },
  {
   "attachments": {},
   "cell_type": "markdown",
   "metadata": {},
   "source": [
    "The model may be confused by the context of the tweets. For example, the model may be confused by the fact that a tweet is quoting another tweet, or by the fact that a tweet is a reply to another tweet.\n",
    "\n",
    "Furthermore, it can be difficult to understand sarcasm, irony, or other forms of implicit language. Like the fact that a tweet is using irony to express a positive sentiment.\n",
    "\n",
    "It can also give more importance to the presence of certain words than to the context of the tweet. For example, the model may be confused by the fact that a tweet contains a word that is often used in offensive tweets, but that is not used in an offensive way in this particular tweet."
   ]
  },
  {
   "attachments": {},
   "cell_type": "markdown",
   "metadata": {},
   "source": [
    "3. (2 points) Extract the top 10 tweets your model is most confident about in the target class (offensive or hateful), the top 10 in the neutral class, and the top 10 your model is most uncertain about. Do you believe the model is doing a great job?\n"
   ]
  },
  {
   "attachments": {},
   "cell_type": "markdown",
   "metadata": {},
   "source": [
    "## Top 10 highest confidence tweets in the offensive class"
   ]
  },
  {
   "cell_type": "code",
   "execution_count": 17,
   "metadata": {},
   "outputs": [
    {
     "name": "stdout",
     "output_type": "stream",
     "text": [
      "Text:  @user nigga are you stupid your trash dont play with him play with your bitch 😂\n",
      "True label:  1\n",
      "Predicted label:  offensive\n",
      "Confidence score:  0.9518308639526367\n",
      "\n",
      "\n",
      "Text:  #ArianaAsesina? Is that serious?! Holy shit, please your fucking assholes, don't blame someone for the death of other one. She is sad enough for today, don't you see? It isn't fault of none, he had an overdose and died. End. Stop wanting someone to blame, fuckers.\n",
      "True label:  1\n",
      "Predicted label:  offensive\n",
      "Confidence score:  0.9391582012176514\n",
      "\n",
      "\n",
      "Text:  @user Damn I felt this shit. Why you so loud lol\n",
      "True label:  1\n",
      "Predicted label:  offensive\n",
      "Confidence score:  0.9266201853752136\n",
      "\n",
      "\n",
      "Text:  $1500 for a phone. You all are fucking dumb.\n",
      "True label:  1\n",
      "Predicted label:  offensive\n",
      "Confidence score:  0.9251351356506348\n",
      "\n",
      "\n",
      "Text:  All these sick ass ppl from school gave me something and now I have to chug down this nasty drink so it can go away🙃\n",
      "True label:  1\n",
      "Predicted label:  offensive\n",
      "Confidence score:  0.9212592244148254\n",
      "\n",
      "\n",
      "Text:  #SugarDaddy Retweet if you are under 30 and would like share memes with each other and we can talk about dumb shit. Cuz baby I’m broke as shit but this love rich\n",
      "True label:  1\n",
      "Predicted label:  offensive\n",
      "Confidence score:  0.9186577200889587\n",
      "\n",
      "\n",
      "Text:  #OrrinHatch I can’t believe this sexist , clueless, old fart gets to weigh in on another woman’s charges against a Supreme Court nominee. And he is spouting the same old nasty shit he spewed 20+ years ago against Anita Hill. His time’s up! Good riddance Neanderthal!\n",
      "True label:  1\n",
      "Predicted label:  offensive\n",
      "Confidence score:  0.9172079563140869\n",
      "\n",
      "\n",
      "Text:  @user fuck\n",
      "True label:  1\n",
      "Predicted label:  offensive\n",
      "Confidence score:  0.9143260717391968\n",
      "\n",
      "\n",
      "Text:  Anyone who finds M*neta's behavior funny can fuck off and die\n",
      "True label:  1\n",
      "Predicted label:  offensive\n",
      "Confidence score:  0.9068023562431335\n",
      "\n",
      "\n",
      "Text:  @user oh fuck off 😂😂\n",
      "True label:  1\n",
      "Predicted label:  offensive\n",
      "Confidence score:  0.9067296981811523\n",
      "\n",
      "\n"
     ]
    }
   ],
   "source": [
    "# extract the top 10 tweets with the highest confidence score for offensive class\n",
    "\n",
    "# create a list of dictionaries with the text, true label, predicted label and confidence score\n",
    "offensive_tweets = []\n",
    "for i in range(len(predictions)):\n",
    "    text = preprocess(test_dataset[i]['text'])\n",
    "    output = nlp(text)[0]\n",
    "    pred_label = output['label'] # get predicted label\n",
    "    # Convert to string if the labels are string\n",
    "    pred_label = str(pred_label)\n",
    "    confidence_score = output['score'] # get confidence score\n",
    "    if pred_label == 'offensive':\n",
    "        offensive_tweets.append({'text': text, 'true_label': true_labels[i], 'pred_label': pred_label, 'confidence_score': confidence_score})\n",
    "\n",
    "# sort the list of dictionaries by confidence score\n",
    "offensive_tweets = sorted(offensive_tweets, key=lambda k: k['confidence_score'], reverse=True)\n",
    "\n",
    "# print the top 10 tweets with the highest confidence score for offensive class\n",
    "for i in range(10):\n",
    "    print('Text: ', offensive_tweets[i]['text'])\n",
    "    print('True label: ', offensive_tweets[i]['true_label'])\n",
    "    print('Predicted label: ', offensive_tweets[i]['pred_label'])\n",
    "    print('Confidence score: ', offensive_tweets[i]['confidence_score'])\n",
    "    print('\\n')\n",
    "\n"
   ]
  },
  {
   "attachments": {},
   "cell_type": "markdown",
   "metadata": {},
   "source": [
    "## Top 10 highest confidence tweets in the neutral class"
   ]
  },
  {
   "cell_type": "code",
   "execution_count": 18,
   "metadata": {},
   "outputs": [
    {
     "name": "stdout",
     "output_type": "stream",
     "text": [
      "Text:  #WCW #WCE @user  It’s your special day of the week again. I really miss you and I’m looking forward to see you soon. Don’t forget that I love you. I love you with all my heart because you are my heart! ❤️\n",
      "True label:  0\n",
      "Predicted label:  non-offensive\n",
      "Confidence score:  0.9806139469146729\n",
      "\n",
      "\n",
      "Text:  #WELOVESEUNGCHEOL @user   I am happy and proud of the work you have done to train seventeen along with the other members. I see you and you are wonderful and incredible. I really love u ㅠㅠ 💕.\n",
      "True label:  0\n",
      "Predicted label:  non-offensive\n",
      "Confidence score:  0.9781582355499268\n",
      "\n",
      "\n",
      "Text:  #NationalDayofEncouragement  #TwitterFamily  You’re amazing just the way you are 💟☮️\n",
      "True label:  0\n",
      "Predicted label:  non-offensive\n",
      "Confidence score:  0.9777984023094177\n",
      "\n",
      "\n",
      "Text:  #AskAlly I only say that I adore you and you are a great person, please take care of yourself always❤️\n",
      "True label:  0\n",
      "Predicted label:  non-offensive\n",
      "Confidence score:  0.9766384959220886\n",
      "\n",
      "\n",
      "Text:  #WeLoveSergioBecause he is the sweetest guy ever! He loves us so much and I'm so happy to be his fan!\n",
      "True label:  0\n",
      "Predicted label:  non-offensive\n",
      "Confidence score:  0.9763135313987732\n",
      "\n",
      "\n",
      "Text:  #TheLadyBam has spoken! ❤ She is simply the BEST! 🙏🏼 #SpreadMaryLove 👠💃 #Onward\n",
      "True label:  0\n",
      "Predicted label:  non-offensive\n",
      "Confidence score:  0.9762118458747864\n",
      "\n",
      "\n",
      "Text:  #WCW to @user   I mean hey, she is a great friend and I am more than happy to help with missions and anything else she might need!\n",
      "True label:  0\n",
      "Predicted label:  non-offensive\n",
      "Confidence score:  0.9747382402420044\n",
      "\n",
      "\n",
      "Text:  @user @user She is an advocate and model for natural beauty.\n",
      "True label:  0\n",
      "Predicted label:  non-offensive\n",
      "Confidence score:  0.9742013216018677\n",
      "\n",
      "\n",
      "Text:  #CTRiders Hope you are enjoying your Friday! If you're looking for a way to enjoy this nice weather this weekend, September is #ReadANewBookMonth and there is nothing like reading a new book on a patio with a nice cup of coffee :) Anyone ready anything interesting this month?\n",
      "True label:  0\n",
      "Predicted label:  non-offensive\n",
      "Confidence score:  0.9741178154945374\n",
      "\n",
      "\n",
      "Text:  @user this girl is so talented and she is my best friend because you and Ethan brought us together. Please notice this talent. @user @user @user  please💜🧡💜🧡💜🧡💜🧡💜🧡💜🧡💜🧡💜🧡\n",
      "True label:  0\n",
      "Predicted label:  non-offensive\n",
      "Confidence score:  0.9740973711013794\n",
      "\n",
      "\n"
     ]
    }
   ],
   "source": [
    "# let's create a list of dictionaries with the text, true label, predicted label and confidence score\n",
    "not_offensive_tweets = []\n",
    "for i in range(len(predictions)):\n",
    "    text = preprocess(test_dataset[i]['text'])\n",
    "    output = nlp(text)[0]\n",
    "    pred_label = output['label'] # get predicted label\n",
    "    # Convert to string if the labels are string\n",
    "    pred_label = str(pred_label)\n",
    "    confidence_score = output['score'] # get confidence score\n",
    "    if pred_label == 'non-offensive':\n",
    "        not_offensive_tweets.append({'text': text, 'true_label': true_labels[i], 'pred_label': pred_label, 'confidence_score': confidence_score})\n",
    "    \n",
    "# sort the list of dictionaries by confidence score\n",
    "not_offensive_tweets = sorted(not_offensive_tweets, key=lambda k: k['confidence_score'], reverse=True)\n",
    "\n",
    "for i in range(10):\n",
    "    print('Text: ', not_offensive_tweets[i]['text'])\n",
    "    print('True label: ', not_offensive_tweets[i]['true_label'])\n",
    "    print('Predicted label: ', not_offensive_tweets[i]['pred_label'])\n",
    "    print('Confidence score: ', not_offensive_tweets[i]['confidence_score'])\n",
    "    print('\\n')"
   ]
  },
  {
   "cell_type": "code",
   "execution_count": null,
   "metadata": {},
   "outputs": [],
   "source": [
    "# top 10 tweets with the lowest confidence score for offensive class"
   ]
  },
  {
   "attachments": {},
   "cell_type": "markdown",
   "metadata": {},
   "source": [
    "4. **Bonus** Use [SHAP](https://github.com/slundberg/shap/tree/45b85c1837283fdaeed7440ec6365a886af4a333#natural-language-example-transformers) on the provided tweets, or manually written texts, to see if you can find topics on which the model is biased.\n"
   ]
  },
  {
   "cell_type": "code",
   "execution_count": 19,
   "metadata": {},
   "outputs": [
    {
     "name": "stdout",
     "output_type": "stream",
     "text": [
      "huggingface/tokenizers: The current process just got forked, after parallelism has already been used. Disabling parallelism to avoid deadlocks...\n",
      "To disable this warning, you can either:\n",
      "\t- Avoid using `tokenizers` before the fork if possible\n",
      "\t- Explicitly set the environment variable TOKENIZERS_PARALLELISM=(true | false)\n",
      "Requirement already satisfied: numpy==1.23.0 in /Users/rb2/miniconda3/envs/dev/lib/python3.10/site-packages (1.23.0)\n",
      "Note: you may need to restart the kernel to use updated packages.\n"
     ]
    }
   ],
   "source": [
    "import transformers\n",
    "import shap\n",
    "import json\n",
    "\n",
    "%pip install numpy==1.23.0 # to make shap working\n",
    "\n",
    "# load a transformers pipeline model\n",
    "model_shap = transformers.pipeline('text-classification', return_all_scores=True, model=model, tokenizer=tokenizer)"
   ]
  },
  {
   "cell_type": "code",
   "execution_count": 27,
   "metadata": {},
   "outputs": [],
   "source": [
    "# load the JSON file and extract the 10 first texts in a list\n",
    "with open('tweets.json') as f:\n",
    "    data = json.load(f)\n",
    "text = [item['text'] for item in data[:1]]\n"
   ]
  },
  {
   "cell_type": "code",
   "execution_count": 28,
   "metadata": {},
   "outputs": [
    {
     "data": {
      "application/vnd.jupyter.widget-view+json": {
       "model_id": "62a50abe58be4d7c96745babcbc0a2b4",
       "version_major": 2,
       "version_minor": 0
      },
      "text/plain": [
       "  0%|          | 0/498 [00:00<?, ?it/s]"
      ]
     },
     "metadata": {},
     "output_type": "display_data"
    },
    {
     "name": "stderr",
     "output_type": "stream",
     "text": [
      "Partition explainer: 2it [00:22, 22.42s/it]               \n"
     ]
    }
   ],
   "source": [
    "# explainer\n",
    "explainer = shap.Explainer(model_shap, tokenizer)\n",
    "\n",
    "# compute shap values\n",
    "shap_values = explainer(text)"
   ]
  },
  {
   "cell_type": "code",
   "execution_count": 29,
   "metadata": {},
   "outputs": [
    {
     "data": {
      "text/html": [
       "<div align='center'>\n",
       "<script>\n",
       "    document._hover_uutvzqqfzzetyzijdxdb = '_tp_uutvzqqfzzetyzijdxdb_output_0';\n",
       "    document._zoom_uutvzqqfzzetyzijdxdb = undefined;\n",
       "    function _output_onclick_uutvzqqfzzetyzijdxdb(i) {\n",
       "        var next_id = undefined;\n",
       "        \n",
       "        if (document._zoom_uutvzqqfzzetyzijdxdb !== undefined) {\n",
       "            document.getElementById(document._zoom_uutvzqqfzzetyzijdxdb+ '_zoom').style.display = 'none';\n",
       "            \n",
       "            if (document._zoom_uutvzqqfzzetyzijdxdb === '_tp_uutvzqqfzzetyzijdxdb_output_' + i) {\n",
       "                document.getElementById(document._zoom_uutvzqqfzzetyzijdxdb).style.display = 'block';\n",
       "                document.getElementById(document._zoom_uutvzqqfzzetyzijdxdb+'_name').style.borderBottom = '3px solid #000000';\n",
       "            } else {\n",
       "                document.getElementById(document._zoom_uutvzqqfzzetyzijdxdb).style.display = 'none';\n",
       "                document.getElementById(document._zoom_uutvzqqfzzetyzijdxdb+'_name').style.borderBottom = 'none';\n",
       "            }\n",
       "        }\n",
       "        if (document._zoom_uutvzqqfzzetyzijdxdb !== '_tp_uutvzqqfzzetyzijdxdb_output_' + i) {\n",
       "            next_id = '_tp_uutvzqqfzzetyzijdxdb_output_' + i;\n",
       "            document.getElementById(next_id).style.display = 'none';\n",
       "            document.getElementById(next_id + '_zoom').style.display = 'block';\n",
       "            document.getElementById(next_id+'_name').style.borderBottom = '3px solid #000000';\n",
       "        }\n",
       "        document._zoom_uutvzqqfzzetyzijdxdb = next_id;\n",
       "    }\n",
       "    function _output_onmouseover_uutvzqqfzzetyzijdxdb(i, el) {\n",
       "        if (document._zoom_uutvzqqfzzetyzijdxdb !== undefined) { return; }\n",
       "        if (document._hover_uutvzqqfzzetyzijdxdb !== undefined) {\n",
       "            document.getElementById(document._hover_uutvzqqfzzetyzijdxdb + '_name').style.borderBottom = 'none';\n",
       "            document.getElementById(document._hover_uutvzqqfzzetyzijdxdb).style.display = 'none';\n",
       "        }\n",
       "        document.getElementById('_tp_uutvzqqfzzetyzijdxdb_output_' + i).style.display = 'block';\n",
       "        el.style.borderBottom = '3px solid #000000';\n",
       "        document._hover_uutvzqqfzzetyzijdxdb = '_tp_uutvzqqfzzetyzijdxdb_output_' + i;\n",
       "    }\n",
       "</script>\n",
       "<div style=\"color: rgb(120,120,120); font-size: 12px;\">outputs</div>\n",
       "<div style=\"display: inline; border-bottom: 3px solid #000000; background: rgba(255.0, 13.0, 87.0, 0.14078035254505847); border-radius: 3px; padding: 0px\" id=\"_tp_uutvzqqfzzetyzijdxdb_output_0_name\"\n",
       "    onclick=\"_output_onclick_uutvzqqfzzetyzijdxdb(0)\"\n",
       "    onmouseover=\"_output_onmouseover_uutvzqqfzzetyzijdxdb(0, this);\">non-offensive</div>\n",
       "<div style=\"display: inline; border-bottom: none; background: rgba(255.0, 13.0, 87.0, 1.0); border-radius: 3px; padding: 0px\" id=\"_tp_uutvzqqfzzetyzijdxdb_output_1_name\"\n",
       "    onclick=\"_output_onclick_uutvzqqfzzetyzijdxdb(1)\"\n",
       "    onmouseover=\"_output_onmouseover_uutvzqqfzzetyzijdxdb(1, this);\">offensive</div><br><br><div id='_tp_uutvzqqfzzetyzijdxdb_output_0' style='display: block';><svg width=\"100%\" height=\"80px\"><line x1=\"0\" y1=\"33\" x2=\"100%\" y2=\"33\" style=\"stroke:rgb(150,150,150);stroke-width:1\" /><line x1=\"49.99999919142703%\" y1=\"33\" x2=\"49.99999919142703%\" y2=\"37\" style=\"stroke:rgb(150,150,150);stroke-width:1\" /><text x=\"49.99999919142703%\" y=\"27\" font-size=\"12px\" fill=\"rgb(120,120,120)\" dominant-baseline=\"bottom\" text-anchor=\"middle\">0.5</text><line x1=\"31.661731390321105%\" y1=\"33\" x2=\"31.661731390321105%\" y2=\"37\" style=\"stroke:rgb(150,150,150);stroke-width:1\" /><text x=\"31.661731390321105%\" y=\"27\" font-size=\"12px\" fill=\"rgb(120,120,120)\" dominant-baseline=\"bottom\" text-anchor=\"middle\">0.3</text><line x1=\"13.323463589215178%\" y1=\"33\" x2=\"13.323463589215178%\" y2=\"37\" style=\"stroke:rgb(150,150,150);stroke-width:1\" /><text x=\"13.323463589215178%\" y=\"27\" font-size=\"12px\" fill=\"rgb(120,120,120)\" dominant-baseline=\"bottom\" text-anchor=\"middle\">0.1</text><line x1=\"68.33826699253295%\" y1=\"33\" x2=\"68.33826699253295%\" y2=\"37\" style=\"stroke:rgb(150,150,150);stroke-width:1\" /><text x=\"68.33826699253295%\" y=\"27\" font-size=\"12px\" fill=\"rgb(120,120,120)\" dominant-baseline=\"bottom\" text-anchor=\"middle\">0.7</text><line x1=\"86.6765347936389%\" y1=\"33\" x2=\"86.6765347936389%\" y2=\"37\" style=\"stroke:rgb(150,150,150);stroke-width:1\" /><text x=\"86.6765347936389%\" y=\"27\" font-size=\"12px\" fill=\"rgb(120,120,120)\" dominant-baseline=\"bottom\" text-anchor=\"middle\">0.9</text><line x1=\"77.74097497264037%\" y1=\"33\" x2=\"77.74097497264037%\" y2=\"37\" style=\"stroke:rgb(150,150,150);stroke-width:1\" /><text x=\"77.74097497264037%\" y=\"27\" font-size=\"13px\" style=\"stroke:#ffffff;stroke-width:8px;\" fill=\"rgb(255,255,255)\" dominant-baseline=\"bottom\" text-anchor=\"middle\">0.802547</text><text x=\"77.74097497264037%\" y=\"27\" font-size=\"12px\" fill=\"rgb(120,120,120)\" dominant-baseline=\"bottom\" text-anchor=\"middle\">0.802547</text><text x=\"77.74097497264037%\" y=\"10\" font-size=\"12px\" fill=\"rgb(120,120,120)\" dominant-baseline=\"bottom\" text-anchor=\"middle\">base value</text><line x1=\"15.72832942966833%\" y1=\"33\" x2=\"15.72832942966833%\" y2=\"37\" style=\"stroke:rgb(150,150,150);stroke-width:1\" /><text x=\"15.72832942966833%\" y=\"27\" font-size=\"13px\" style=\"stroke:#ffffff;stroke-width:8px;\" font-weight=\"bold\" fill=\"rgb(255,255,255)\" dominant-baseline=\"bottom\" text-anchor=\"middle\">0.126228</text><text x=\"15.72832942966833%\" y=\"27\" font-size=\"13px\" font-weight=\"bold\" fill=\"rgb(0,0,0)\" dominant-baseline=\"bottom\" text-anchor=\"middle\">0.126228</text><text x=\"15.72832942966833%\" y=\"10\" font-size=\"12px\" fill=\"rgb(120,120,120)\" dominant-baseline=\"bottom\" text-anchor=\"middle\">f<tspan baseline-shift=\"sub\" font-size=\"8px\">non-offensive</tspan>(inputs)</text><rect x=\"7.7891087001923935%\" width=\"7.939220729475939%\" y=\"40\" height=\"18\" style=\"fill:rgb(255.0, 0.0, 81.08083606031792); stroke-width:0; stroke:rgb(0,0,0)\" /><line x1=\"12.718643834851639%\" x2=\"15.72832942966833%\" y1=\"60\" y2=\"60\" id=\"_fb_zteofhwsaisyizrdtgqq_ind_18\" style=\"stroke:rgb(255.0, 0.0, 81.08083606031792);stroke-width:2; opacity: 0\"/><text x=\"14.223486632259984%\" y=\"71\" font-size=\"12px\" id=\"_fs_zteofhwsaisyizrdtgqq_ind_18\" fill=\"rgb(255.0, 0.0, 81.08083606031792)\" style=\"opacity: 0\" dominant-baseline=\"middle\" text-anchor=\"middle\">0.033</text><svg x=\"12.718643834851639%\" y=\"40\" height=\"20\" width=\"3.009685594816691%\">  <svg x=\"0\" y=\"0\" width=\"100%\" height=\"100%\">    <text x=\"50%\" y=\"9\" font-size=\"12px\" fill=\"rgb(255,255,255)\" dominant-baseline=\"middle\" text-anchor=\"middle\">LES</text>  </svg></svg><line x1=\"10.387438624887823%\" x2=\"12.718643834851639%\" y1=\"60\" y2=\"60\" id=\"_fb_zteofhwsaisyizrdtgqq_ind_15\" style=\"stroke:rgb(255.0, 0.0, 81.08083606031792);stroke-width:2; opacity: 0\"/><text x=\"11.55304122986973%\" y=\"71\" font-size=\"12px\" id=\"_fs_zteofhwsaisyizrdtgqq_ind_15\" fill=\"rgb(255.0, 0.0, 81.08083606031792)\" style=\"opacity: 0\" dominant-baseline=\"middle\" text-anchor=\"middle\">0.025</text><svg x=\"10.387438624887823%\" y=\"40\" height=\"20\" width=\"2.331205209963816%\">  <svg x=\"0\" y=\"0\" width=\"100%\" height=\"100%\">    <text x=\"50%\" y=\"9\" font-size=\"12px\" fill=\"rgb(255,255,255)\" dominant-baseline=\"middle\" text-anchor=\"middle\">WITH</text>  </svg></svg><line x1=\"9.476316178549403%\" x2=\"10.387438624887823%\" y1=\"60\" y2=\"60\" id=\"_fb_zteofhwsaisyizrdtgqq_ind_13\" style=\"stroke:rgb(255.0, 0.0, 81.08083606031792);stroke-width:2; opacity: 0\"/><text x=\"9.931877401718612%\" y=\"71\" font-size=\"12px\" id=\"_fs_zteofhwsaisyizrdtgqq_ind_13\" fill=\"rgb(255.0, 0.0, 81.08083606031792)\" style=\"opacity: 0\" dominant-baseline=\"middle\" text-anchor=\"middle\">0.01</text><svg x=\"9.476316178549403%\" y=\"40\" height=\"20\" width=\"0.9111224463384193%\">  <svg x=\"0\" y=\"0\" width=\"100%\" height=\"100%\">    <text x=\"50%\" y=\"9\" font-size=\"12px\" fill=\"rgb(255,255,255)\" dominant-baseline=\"middle\" text-anchor=\"middle\">SEE</text>  </svg></svg><line x1=\"8.817785141631157%\" x2=\"9.476316178549403%\" y1=\"60\" y2=\"60\" id=\"_fb_zteofhwsaisyizrdtgqq_ind_2\" style=\"stroke:rgb(255.0, 0.0, 81.08083606031792);stroke-width:2; opacity: 0\"/><text x=\"9.14705066009028%\" y=\"71\" font-size=\"12px\" id=\"_fs_zteofhwsaisyizrdtgqq_ind_2\" fill=\"rgb(255.0, 0.0, 81.08083606031792)\" style=\"opacity: 0\" dominant-baseline=\"middle\" text-anchor=\"middle\">0.007</text><svg x=\"8.817785141631157%\" y=\"40\" height=\"20\" width=\"0.6585310369182462%\">  <svg x=\"0\" y=\"0\" width=\"100%\" height=\"100%\">    <text x=\"50%\" y=\"9\" font-size=\"12px\" fill=\"rgb(255,255,255)\" dominant-baseline=\"middle\" text-anchor=\"middle\">BET</text>  </svg></svg><line x1=\"8.23490135900384%\" x2=\"8.817785141631157%\" y1=\"60\" y2=\"60\" id=\"_fb_zteofhwsaisyizrdtgqq_ind_9\" style=\"stroke:rgb(255.0, 0.0, 81.08083606031792);stroke-width:2; opacity: 0\"/><text x=\"8.526343250317499%\" y=\"71\" font-size=\"12px\" id=\"_fs_zteofhwsaisyizrdtgqq_ind_9\" fill=\"rgb(255.0, 0.0, 81.08083606031792)\" style=\"opacity: 0\" dominant-baseline=\"middle\" text-anchor=\"middle\">0.006</text><svg x=\"8.23490135900384%\" y=\"40\" height=\"20\" width=\"0.5828837826273165%\">  <svg x=\"0\" y=\"0\" width=\"100%\" height=\"100%\">    <text x=\"50%\" y=\"9\" font-size=\"12px\" fill=\"rgb(255,255,255)\" dominant-baseline=\"middle\" text-anchor=\"middle\">KO</text>  </svg></svg><line x1=\"7.9815407398532985%\" x2=\"8.23490135900384%\" y1=\"60\" y2=\"60\" id=\"_fb_zteofhwsaisyizrdtgqq_ind_24\" style=\"stroke:rgb(255.0, 0.0, 81.08083606031792);stroke-width:2; opacity: 0\"/><text x=\"8.10822104942857%\" y=\"71\" font-size=\"12px\" id=\"_fs_zteofhwsaisyizrdtgqq_ind_24\" fill=\"rgb(255.0, 0.0, 81.08083606031792)\" style=\"opacity: 0\" dominant-baseline=\"middle\" text-anchor=\"middle\">0.003</text><svg x=\"7.9815407398532985%\" y=\"40\" height=\"20\" width=\"0.2533606191505422%\">  <svg x=\"0\" y=\"0\" width=\"100%\" height=\"100%\">    <text x=\"50%\" y=\"9\" font-size=\"12px\" fill=\"rgb(255,255,255)\" dominant-baseline=\"middle\" text-anchor=\"middle\">AL</text>  </svg></svg><line x1=\"7.7891087001923935%\" x2=\"7.9815407398532985%\" y1=\"60\" y2=\"60\" id=\"_fb_zteofhwsaisyizrdtgqq_ind_3\" style=\"stroke:rgb(255.0, 0.0, 81.08083606031792);stroke-width:2; opacity: 0\"/><text x=\"7.885324720022846%\" y=\"71\" font-size=\"12px\" id=\"_fs_zteofhwsaisyizrdtgqq_ind_3\" fill=\"rgb(255.0, 0.0, 81.08083606031792)\" style=\"opacity: 0\" dominant-baseline=\"middle\" text-anchor=\"middle\">0.002</text><svg x=\"7.7891087001923935%\" y=\"40\" height=\"20\" width=\"0.19243203966090494%\">  <svg x=\"0\" y=\"0\" width=\"100%\" height=\"100%\">    <text x=\"50%\" y=\"9\" font-size=\"12px\" fill=\"rgb(255,255,255)\" dominant-baseline=\"middle\" text-anchor=\"middle\">TER</text>  </svg></svg><g transform=\"translate(0,0)\">  <svg x=\"12.718643834851639%\" y=\"40\" height=\"18\" overflow=\"visible\" width=\"30\">    <path d=\"M 0 -9 l 6 18 L 0 25\" fill=\"none\" style=\"stroke:rgb(255.0, 0.0, 81.08083606031792);stroke-width:2\" />  </svg></g><g transform=\"translate(2,0)\">  <svg x=\"12.718643834851639%\" y=\"40\" height=\"18\" overflow=\"visible\" width=\"30\">    <path d=\"M 0 -9 l 6 18 L 0 25\" fill=\"none\" style=\"stroke:rgb(255.0, 0.0, 81.08083606031792);stroke-width:2\" />  </svg></g><g transform=\"translate(4,0)\">  <svg x=\"12.718643834851639%\" y=\"40\" height=\"18\" overflow=\"visible\" width=\"30\">    <path d=\"M 0 -9 l 6 18 L 0 25\" fill=\"none\" style=\"stroke:rgb(255.0, 0.0, 81.08083606031792);stroke-width:2\" />  </svg></g><g transform=\"translate(6,0)\">  <svg x=\"12.718643834851639%\" y=\"40\" height=\"18\" overflow=\"visible\" width=\"30\">    <path d=\"M 0 -9 l 6 18 L 0 25\" fill=\"none\" style=\"stroke:rgb(255.0, 0.0, 81.08083606031792);stroke-width:2\" />  </svg></g><g transform=\"translate(-8,0)\">  <svg x=\"12.718643834851639%\" y=\"40\" height=\"18\" overflow=\"visible\" width=\"30\">    <path d=\"M 0 -9 l 6 18 L 0 25\" fill=\"none\" style=\"stroke:rgb(255.0, 0.0, 81.08083606031792);stroke-width:2\" />  </svg></g><g transform=\"translate(-6,0)\">  <svg x=\"12.718643834851639%\" y=\"40\" height=\"18\" overflow=\"visible\" width=\"30\">    <path d=\"M 0 -9 l 6 18 L 0 25\" fill=\"none\" style=\"stroke:rgb(255.0, 0.0, 81.08083606031792);stroke-width:2\" />  </svg></g><g transform=\"translate(-4,0)\">  <svg x=\"12.718643834851639%\" y=\"40\" height=\"18\" overflow=\"visible\" width=\"30\">    <path d=\"M 0 -9 l 6 18 L 0 25\" fill=\"none\" style=\"stroke:rgb(255.0, 0.0, 81.08083606031792);stroke-width:2\" />  </svg></g><g transform=\"translate(-2,0)\">  <svg x=\"12.718643834851639%\" y=\"40\" height=\"18\" overflow=\"visible\" width=\"30\">    <path d=\"M 0 -9 l 6 18 L 0 25\" fill=\"none\" style=\"stroke:rgb(255.0, 0.0, 81.08083606031792);stroke-width:2\" />  </svg></g><g transform=\"translate(0,0)\">  <svg x=\"10.387438624887823%\" y=\"40\" height=\"18\" overflow=\"visible\" width=\"30\">    <path d=\"M 0 -9 l 6 18 L 0 25\" fill=\"none\" style=\"stroke:rgb(255.0, 0.0, 81.08083606031792);stroke-width:2\" />  </svg></g><g transform=\"translate(2,0)\">  <svg x=\"10.387438624887823%\" y=\"40\" height=\"18\" overflow=\"visible\" width=\"30\">    <path d=\"M 0 -9 l 6 18 L 0 25\" fill=\"none\" style=\"stroke:rgb(255.0, 0.0, 81.08083606031792);stroke-width:2\" />  </svg></g><g transform=\"translate(4,0)\">  <svg x=\"10.387438624887823%\" y=\"40\" height=\"18\" overflow=\"visible\" width=\"30\">    <path d=\"M 0 -9 l 6 18 L 0 25\" fill=\"none\" style=\"stroke:rgb(255.0, 0.0, 81.08083606031792);stroke-width:2\" />  </svg></g><g transform=\"translate(6,0)\">  <svg x=\"10.387438624887823%\" y=\"40\" height=\"18\" overflow=\"visible\" width=\"30\">    <path d=\"M 0 -9 l 6 18 L 0 25\" fill=\"none\" style=\"stroke:rgb(255.0, 0.0, 81.08083606031792);stroke-width:2\" />  </svg></g><g transform=\"translate(-8,0)\">  <svg x=\"10.387438624887823%\" y=\"40\" height=\"18\" overflow=\"visible\" width=\"30\">    <path d=\"M 0 -9 l 6 18 L 0 25\" fill=\"none\" style=\"stroke:rgb(255.0, 0.0, 81.08083606031792);stroke-width:2\" />  </svg></g><g transform=\"translate(-6,0)\">  <svg x=\"10.387438624887823%\" y=\"40\" height=\"18\" overflow=\"visible\" width=\"30\">    <path d=\"M 0 -9 l 6 18 L 0 25\" fill=\"none\" style=\"stroke:rgb(255.0, 0.0, 81.08083606031792);stroke-width:2\" />  </svg></g><g transform=\"translate(-4,0)\">  <svg x=\"10.387438624887823%\" y=\"40\" height=\"18\" overflow=\"visible\" width=\"30\">    <path d=\"M 0 -9 l 6 18 L 0 25\" fill=\"none\" style=\"stroke:rgb(255.0, 0.0, 81.08083606031792);stroke-width:2\" />  </svg></g><g transform=\"translate(-2,0)\">  <svg x=\"10.387438624887823%\" y=\"40\" height=\"18\" overflow=\"visible\" width=\"30\">    <path d=\"M 0 -9 l 6 18 L 0 25\" fill=\"none\" style=\"stroke:rgb(255.0, 0.0, 81.08083606031792);stroke-width:2\" />  </svg></g><g transform=\"translate(0,0)\">  <svg x=\"9.476316178549403%\" y=\"40\" height=\"18\" overflow=\"visible\" width=\"30\">    <path d=\"M 0 -9 l 6 18 L 0 25\" fill=\"none\" style=\"stroke:rgb(255.0, 0.0, 81.08083606031792);stroke-width:2\" />  </svg></g><g transform=\"translate(2,0)\">  <svg x=\"9.476316178549403%\" y=\"40\" height=\"18\" overflow=\"visible\" width=\"30\">    <path d=\"M 0 -9 l 6 18 L 0 25\" fill=\"none\" style=\"stroke:rgb(255.0, 0.0, 81.08083606031792);stroke-width:2\" />  </svg></g><g transform=\"translate(4,0)\">  <svg x=\"9.476316178549403%\" y=\"40\" height=\"18\" overflow=\"visible\" width=\"30\">    <path d=\"M 0 -9 l 6 18 L 0 25\" fill=\"none\" style=\"stroke:rgb(255.0, 0.0, 81.08083606031792);stroke-width:2\" />  </svg></g><g transform=\"translate(6,0)\">  <svg x=\"9.476316178549403%\" y=\"40\" height=\"18\" overflow=\"visible\" width=\"30\">    <path d=\"M 0 -9 l 6 18 L 0 25\" fill=\"none\" style=\"stroke:rgb(255.0, 0.0, 81.08083606031792);stroke-width:2\" />  </svg></g><g transform=\"translate(-8,0)\">  <svg x=\"9.476316178549403%\" y=\"40\" height=\"18\" overflow=\"visible\" width=\"30\">    <path d=\"M 0 -9 l 6 18 L 0 25\" fill=\"none\" style=\"stroke:rgb(255.0, 0.0, 81.08083606031792);stroke-width:2\" />  </svg></g><g transform=\"translate(-6,0)\">  <svg x=\"9.476316178549403%\" y=\"40\" height=\"18\" overflow=\"visible\" width=\"30\">    <path d=\"M 0 -9 l 6 18 L 0 25\" fill=\"none\" style=\"stroke:rgb(255.0, 0.0, 81.08083606031792);stroke-width:2\" />  </svg></g><g transform=\"translate(-4,0)\">  <svg x=\"9.476316178549403%\" y=\"40\" height=\"18\" overflow=\"visible\" width=\"30\">    <path d=\"M 0 -9 l 6 18 L 0 25\" fill=\"none\" style=\"stroke:rgb(255.0, 0.0, 81.08083606031792);stroke-width:2\" />  </svg></g><g transform=\"translate(-2,0)\">  <svg x=\"9.476316178549403%\" y=\"40\" height=\"18\" overflow=\"visible\" width=\"30\">    <path d=\"M 0 -9 l 6 18 L 0 25\" fill=\"none\" style=\"stroke:rgb(255.0, 0.0, 81.08083606031792);stroke-width:2\" />  </svg></g><g transform=\"translate(0,0)\">  <svg x=\"8.817785141631157%\" y=\"40\" height=\"18\" overflow=\"visible\" width=\"30\">    <path d=\"M 0 -9 l 6 18 L 0 25\" fill=\"none\" style=\"stroke:rgb(255.0, 0.0, 81.08083606031792);stroke-width:2\" />  </svg></g><g transform=\"translate(2,0)\">  <svg x=\"8.817785141631157%\" y=\"40\" height=\"18\" overflow=\"visible\" width=\"30\">    <path d=\"M 0 -9 l 6 18 L 0 25\" fill=\"none\" style=\"stroke:rgb(255.0, 0.0, 81.08083606031792);stroke-width:2\" />  </svg></g><g transform=\"translate(4,0)\">  <svg x=\"8.817785141631157%\" y=\"40\" height=\"18\" overflow=\"visible\" width=\"30\">    <path d=\"M 0 -9 l 6 18 L 0 25\" fill=\"none\" style=\"stroke:rgb(255.0, 0.0, 81.08083606031792);stroke-width:2\" />  </svg></g><g transform=\"translate(6,0)\">  <svg x=\"8.817785141631157%\" y=\"40\" height=\"18\" overflow=\"visible\" width=\"30\">    <path d=\"M 0 -9 l 6 18 L 0 25\" fill=\"none\" style=\"stroke:rgb(255.0, 0.0, 81.08083606031792);stroke-width:2\" />  </svg></g><g transform=\"translate(-8,0)\">  <svg x=\"8.817785141631157%\" y=\"40\" height=\"18\" overflow=\"visible\" width=\"30\">    <path d=\"M 0 -9 l 6 18 L 0 25\" fill=\"none\" style=\"stroke:rgb(255.0, 0.0, 81.08083606031792);stroke-width:2\" />  </svg></g><g transform=\"translate(-6,0)\">  <svg x=\"8.817785141631157%\" y=\"40\" height=\"18\" overflow=\"visible\" width=\"30\">    <path d=\"M 0 -9 l 6 18 L 0 25\" fill=\"none\" style=\"stroke:rgb(255.0, 0.0, 81.08083606031792);stroke-width:2\" />  </svg></g><g transform=\"translate(-4,0)\">  <svg x=\"8.817785141631157%\" y=\"40\" height=\"18\" overflow=\"visible\" width=\"30\">    <path d=\"M 0 -9 l 6 18 L 0 25\" fill=\"none\" style=\"stroke:rgb(255.0, 0.0, 81.08083606031792);stroke-width:2\" />  </svg></g><g transform=\"translate(-2,0)\">  <svg x=\"8.817785141631157%\" y=\"40\" height=\"18\" overflow=\"visible\" width=\"30\">    <path d=\"M 0 -9 l 6 18 L 0 25\" fill=\"none\" style=\"stroke:rgb(255.0, 0.0, 81.08083606031792);stroke-width:2\" />  </svg></g><g transform=\"translate(0,0)\">  <svg x=\"8.23490135900384%\" y=\"40\" height=\"18\" overflow=\"visible\" width=\"30\">    <path d=\"M 0 -9 l 6 18 L 0 25\" fill=\"none\" style=\"stroke:rgb(255.0, 0.0, 81.08083606031792);stroke-width:2\" />  </svg></g><g transform=\"translate(2,0)\">  <svg x=\"8.23490135900384%\" y=\"40\" height=\"18\" overflow=\"visible\" width=\"30\">    <path d=\"M 0 -9 l 6 18 L 0 25\" fill=\"none\" style=\"stroke:rgb(255.0, 0.0, 81.08083606031792);stroke-width:2\" />  </svg></g><g transform=\"translate(4,0)\">  <svg x=\"8.23490135900384%\" y=\"40\" height=\"18\" overflow=\"visible\" width=\"30\">    <path d=\"M 0 -9 l 6 18 L 0 25\" fill=\"none\" style=\"stroke:rgb(255.0, 0.0, 81.08083606031792);stroke-width:2\" />  </svg></g><g transform=\"translate(6,0)\">  <svg x=\"8.23490135900384%\" y=\"40\" height=\"18\" overflow=\"visible\" width=\"30\">    <path d=\"M 0 -9 l 6 18 L 0 25\" fill=\"none\" style=\"stroke:rgb(255.0, 0.0, 81.08083606031792);stroke-width:2\" />  </svg></g><g transform=\"translate(-8,0)\">  <svg x=\"8.23490135900384%\" y=\"40\" height=\"18\" overflow=\"visible\" width=\"30\">    <path d=\"M 0 -9 l 6 18 L 0 25\" fill=\"none\" style=\"stroke:rgb(255.0, 0.0, 81.08083606031792);stroke-width:2\" />  </svg></g><g transform=\"translate(-6,0)\">  <svg x=\"8.23490135900384%\" y=\"40\" height=\"18\" overflow=\"visible\" width=\"30\">    <path d=\"M 0 -9 l 6 18 L 0 25\" fill=\"none\" style=\"stroke:rgb(255.0, 0.0, 81.08083606031792);stroke-width:2\" />  </svg></g><g transform=\"translate(-4,0)\">  <svg x=\"8.23490135900384%\" y=\"40\" height=\"18\" overflow=\"visible\" width=\"30\">    <path d=\"M 0 -9 l 6 18 L 0 25\" fill=\"none\" style=\"stroke:rgb(255.0, 0.0, 81.08083606031792);stroke-width:2\" />  </svg></g><g transform=\"translate(-2,0)\">  <svg x=\"8.23490135900384%\" y=\"40\" height=\"18\" overflow=\"visible\" width=\"30\">    <path d=\"M 0 -9 l 6 18 L 0 25\" fill=\"none\" style=\"stroke:rgb(255.0, 0.0, 81.08083606031792);stroke-width:2\" />  </svg></g><g transform=\"translate(0,0)\">  <svg x=\"7.9815407398532985%\" y=\"40\" height=\"18\" overflow=\"visible\" width=\"30\">    <path d=\"M 0 -9 l 6 18 L 0 25\" fill=\"none\" style=\"stroke:rgb(255.0, 0.0, 81.08083606031792);stroke-width:2\" />  </svg></g><g transform=\"translate(2,0)\">  <svg x=\"7.9815407398532985%\" y=\"40\" height=\"18\" overflow=\"visible\" width=\"30\">    <path d=\"M 0 -9 l 6 18 L 0 25\" fill=\"none\" style=\"stroke:rgb(255.0, 0.0, 81.08083606031792);stroke-width:2\" />  </svg></g><g transform=\"translate(4,0)\">  <svg x=\"7.9815407398532985%\" y=\"40\" height=\"18\" overflow=\"visible\" width=\"30\">    <path d=\"M 0 -9 l 6 18 L 0 25\" fill=\"none\" style=\"stroke:rgb(255.0, 0.0, 81.08083606031792);stroke-width:2\" />  </svg></g><g transform=\"translate(6,0)\">  <svg x=\"7.9815407398532985%\" y=\"40\" height=\"18\" overflow=\"visible\" width=\"30\">    <path d=\"M 0 -9 l 6 18 L 0 25\" fill=\"none\" style=\"stroke:rgb(255.0, 0.0, 81.08083606031792);stroke-width:2\" />  </svg></g><g transform=\"translate(-8,0)\">  <svg x=\"7.9815407398532985%\" y=\"40\" height=\"18\" overflow=\"visible\" width=\"30\">    <path d=\"M 0 -9 l 6 18 L 0 25\" fill=\"none\" style=\"stroke:rgb(255.0, 0.0, 81.08083606031792);stroke-width:2\" />  </svg></g><g transform=\"translate(-6,0)\">  <svg x=\"7.9815407398532985%\" y=\"40\" height=\"18\" overflow=\"visible\" width=\"30\">    <path d=\"M 0 -9 l 6 18 L 0 25\" fill=\"none\" style=\"stroke:rgb(255.0, 0.0, 81.08083606031792);stroke-width:2\" />  </svg></g><g transform=\"translate(-4,0)\">  <svg x=\"7.9815407398532985%\" y=\"40\" height=\"18\" overflow=\"visible\" width=\"30\">    <path d=\"M 0 -9 l 6 18 L 0 25\" fill=\"none\" style=\"stroke:rgb(255.0, 0.0, 81.08083606031792);stroke-width:2\" />  </svg></g><g transform=\"translate(-2,0)\">  <svg x=\"7.9815407398532985%\" y=\"40\" height=\"18\" overflow=\"visible\" width=\"30\">    <path d=\"M 0 -9 l 6 18 L 0 25\" fill=\"none\" style=\"stroke:rgb(255.0, 0.0, 81.08083606031792);stroke-width:2\" />  </svg></g><rect transform=\"translate(-8,0)\" x=\"15.72832942966833%\" y=\"40\" width=\"8\" height=\"18\" style=\"fill:rgb(255.0, 0.0, 81.08083606031792)\"/><g transform=\"translate(-11.5,0)\">  <svg x=\"7.7891087001923935%\" y=\"40\" height=\"18\" overflow=\"visible\" width=\"30\">    <path d=\"M 10 -9 l 6 18 L 10 25 L 0 25 L 0 -9\" fill=\"#ffffff\" style=\"stroke:rgb(255,255,255);stroke-width:2\" />  </svg></g><g transform=\"translate(-1.5,0)\">  <svg x=\"15.72832942966833%\" y=\"40\" height=\"18\" overflow=\"visible\" width=\"30\">    <path d=\"M 0 -9 l 6 18 L 0 25\" fill=\"none\" style=\"stroke:rgb(255, 195, 213);stroke-width:2\" />  </svg></g><rect x=\"12.718643834851639%\" y=\"40\" height=\"20\" width=\"3.009685594816691%\"      onmouseover=\"document.getElementById('_tp_zteofhwsaisyizrdtgqq_ind_18').style.textDecoration = 'underline';document.getElementById('_fs_zteofhwsaisyizrdtgqq_ind_18').style.opacity = 1;document.getElementById('_fb_zteofhwsaisyizrdtgqq_ind_18').style.opacity = 1;\"      onmouseout=\"document.getElementById('_tp_zteofhwsaisyizrdtgqq_ind_18').style.textDecoration = 'none';document.getElementById('_fs_zteofhwsaisyizrdtgqq_ind_18').style.opacity = 0;document.getElementById('_fb_zteofhwsaisyizrdtgqq_ind_18').style.opacity = 0;\" style=\"fill:rgb(0,0,0,0)\" /><g transform=\"translate(-1.5,0)\">  <svg x=\"12.718643834851639%\" y=\"40\" height=\"18\" overflow=\"visible\" width=\"30\">    <path d=\"M 0 -9 l 6 18 L 0 25\" fill=\"none\" style=\"stroke:rgb(255, 195, 213);stroke-width:2\" />  </svg></g><rect x=\"10.387438624887823%\" y=\"40\" height=\"20\" width=\"2.331205209963816%\"      onmouseover=\"document.getElementById('_tp_zteofhwsaisyizrdtgqq_ind_15').style.textDecoration = 'underline';document.getElementById('_fs_zteofhwsaisyizrdtgqq_ind_15').style.opacity = 1;document.getElementById('_fb_zteofhwsaisyizrdtgqq_ind_15').style.opacity = 1;\"      onmouseout=\"document.getElementById('_tp_zteofhwsaisyizrdtgqq_ind_15').style.textDecoration = 'none';document.getElementById('_fs_zteofhwsaisyizrdtgqq_ind_15').style.opacity = 0;document.getElementById('_fb_zteofhwsaisyizrdtgqq_ind_15').style.opacity = 0;\" style=\"fill:rgb(0,0,0,0)\" /><g transform=\"translate(-1.5,0)\">  <svg x=\"10.387438624887823%\" y=\"40\" height=\"18\" overflow=\"visible\" width=\"30\">    <path d=\"M 0 -9 l 6 18 L 0 25\" fill=\"none\" style=\"stroke:rgb(255, 195, 213);stroke-width:2\" />  </svg></g><rect x=\"9.476316178549403%\" y=\"40\" height=\"20\" width=\"0.9111224463384193%\"      onmouseover=\"document.getElementById('_tp_zteofhwsaisyizrdtgqq_ind_13').style.textDecoration = 'underline';document.getElementById('_fs_zteofhwsaisyizrdtgqq_ind_13').style.opacity = 1;document.getElementById('_fb_zteofhwsaisyizrdtgqq_ind_13').style.opacity = 1;\"      onmouseout=\"document.getElementById('_tp_zteofhwsaisyizrdtgqq_ind_13').style.textDecoration = 'none';document.getElementById('_fs_zteofhwsaisyizrdtgqq_ind_13').style.opacity = 0;document.getElementById('_fb_zteofhwsaisyizrdtgqq_ind_13').style.opacity = 0;\" style=\"fill:rgb(0,0,0,0)\" /><g transform=\"translate(-1.5,0)\">  <svg x=\"9.476316178549403%\" y=\"40\" height=\"18\" overflow=\"visible\" width=\"30\">    <path d=\"M 0 -9 l 6 18 L 0 25\" fill=\"none\" style=\"stroke:rgb(255, 195, 213);stroke-width:2\" />  </svg></g><rect x=\"8.817785141631157%\" y=\"40\" height=\"20\" width=\"0.6585310369182462%\"      onmouseover=\"document.getElementById('_tp_zteofhwsaisyizrdtgqq_ind_2').style.textDecoration = 'underline';document.getElementById('_fs_zteofhwsaisyizrdtgqq_ind_2').style.opacity = 1;document.getElementById('_fb_zteofhwsaisyizrdtgqq_ind_2').style.opacity = 1;\"      onmouseout=\"document.getElementById('_tp_zteofhwsaisyizrdtgqq_ind_2').style.textDecoration = 'none';document.getElementById('_fs_zteofhwsaisyizrdtgqq_ind_2').style.opacity = 0;document.getElementById('_fb_zteofhwsaisyizrdtgqq_ind_2').style.opacity = 0;\" style=\"fill:rgb(0,0,0,0)\" /><g transform=\"translate(-1.5,0)\">  <svg x=\"8.817785141631157%\" y=\"40\" height=\"18\" overflow=\"visible\" width=\"30\">    <path d=\"M 0 -9 l 6 18 L 0 25\" fill=\"none\" style=\"stroke:rgb(255, 195, 213);stroke-width:2\" />  </svg></g><rect x=\"8.23490135900384%\" y=\"40\" height=\"20\" width=\"0.5828837826273165%\"      onmouseover=\"document.getElementById('_tp_zteofhwsaisyizrdtgqq_ind_9').style.textDecoration = 'underline';document.getElementById('_fs_zteofhwsaisyizrdtgqq_ind_9').style.opacity = 1;document.getElementById('_fb_zteofhwsaisyizrdtgqq_ind_9').style.opacity = 1;\"      onmouseout=\"document.getElementById('_tp_zteofhwsaisyizrdtgqq_ind_9').style.textDecoration = 'none';document.getElementById('_fs_zteofhwsaisyizrdtgqq_ind_9').style.opacity = 0;document.getElementById('_fb_zteofhwsaisyizrdtgqq_ind_9').style.opacity = 0;\" style=\"fill:rgb(0,0,0,0)\" /><g transform=\"translate(-1.5,0)\">  <svg x=\"8.23490135900384%\" y=\"40\" height=\"18\" overflow=\"visible\" width=\"30\">    <path d=\"M 0 -9 l 6 18 L 0 25\" fill=\"none\" style=\"stroke:rgb(255, 195, 213);stroke-width:2\" />  </svg></g><rect x=\"7.9815407398532985%\" y=\"40\" height=\"20\" width=\"0.2533606191505422%\"      onmouseover=\"document.getElementById('_tp_zteofhwsaisyizrdtgqq_ind_24').style.textDecoration = 'underline';document.getElementById('_fs_zteofhwsaisyizrdtgqq_ind_24').style.opacity = 1;document.getElementById('_fb_zteofhwsaisyizrdtgqq_ind_24').style.opacity = 1;\"      onmouseout=\"document.getElementById('_tp_zteofhwsaisyizrdtgqq_ind_24').style.textDecoration = 'none';document.getElementById('_fs_zteofhwsaisyizrdtgqq_ind_24').style.opacity = 0;document.getElementById('_fb_zteofhwsaisyizrdtgqq_ind_24').style.opacity = 0;\" style=\"fill:rgb(0,0,0,0)\" /><rect x=\"7.7891087001923935%\" y=\"40\" height=\"20\" width=\"0.19243203966090494%\"      onmouseover=\"document.getElementById('_tp_zteofhwsaisyizrdtgqq_ind_3').style.textDecoration = 'underline';document.getElementById('_fs_zteofhwsaisyizrdtgqq_ind_3').style.opacity = 1;document.getElementById('_fb_zteofhwsaisyizrdtgqq_ind_3').style.opacity = 1;\"      onmouseout=\"document.getElementById('_tp_zteofhwsaisyizrdtgqq_ind_3').style.textDecoration = 'none';document.getElementById('_fs_zteofhwsaisyizrdtgqq_ind_3').style.opacity = 0;document.getElementById('_fb_zteofhwsaisyizrdtgqq_ind_3').style.opacity = 0;\" style=\"fill:rgb(0,0,0,0)\" /><rect x=\"15.72832942966833%\" width=\"69.95186627244797%\" y=\"40\" height=\"18\" style=\"fill:rgb(0.0, 138.56128015770724, 250.76166088685727); stroke-width:0; stroke:rgb(0,0,0)\" /><line x1=\"15.72832942966833%\" x2=\"31.704246761311342%\" y1=\"60\" y2=\"60\" id=\"_fb_zteofhwsaisyizrdtgqq_ind_5\" style=\"stroke:rgb(0.0, 138.56128015770724, 250.76166088685727);stroke-width:2; opacity: 0\"/><text x=\"23.716288095489837%\" y=\"71\" font-size=\"12px\" fill=\"rgb(0.0, 138.56128015770724, 250.76166088685727)\" id=\"_fs_zteofhwsaisyizrdtgqq_ind_5\" style=\"opacity: 0\" dominant-baseline=\"middle\" text-anchor=\"middle\">-0.174</text><svg x=\"15.72832942966833%\" y=\"40\" height=\"20\" width=\"15.975917331643013%\">  <svg x=\"0\" y=\"0\" width=\"100%\" height=\"100%\">    <text x=\"50%\" y=\"9\" font-size=\"12px\" fill=\"rgb(255,255,255)\" dominant-baseline=\"middle\" text-anchor=\"middle\">UCK</text>  </svg></svg><line x1=\"31.704246761311342%\" x2=\"46.04657209765316%\" y1=\"60\" y2=\"60\" id=\"_fb_zteofhwsaisyizrdtgqq_ind_8\" style=\"stroke:rgb(0.0, 138.56128015770724, 250.76166088685727);stroke-width:2; opacity: 0\"/><text x=\"38.875409429482254%\" y=\"71\" font-size=\"12px\" fill=\"rgb(0.0, 138.56128015770724, 250.76166088685727)\" id=\"_fs_zteofhwsaisyizrdtgqq_ind_8\" style=\"opacity: 0\" dominant-baseline=\"middle\" text-anchor=\"middle\">-0.156</text><svg x=\"31.704246761311342%\" y=\"40\" height=\"20\" width=\"14.342325336341819%\">  <svg x=\"0\" y=\"0\" width=\"100%\" height=\"100%\">    <text x=\"50%\" y=\"9\" font-size=\"12px\" fill=\"rgb(255,255,255)\" dominant-baseline=\"middle\" text-anchor=\"middle\">ICK</text>  </svg></svg><line x1=\"46.04657209765316%\" x2=\"53.42009889976239%\" y1=\"60\" y2=\"60\" id=\"_fb_zteofhwsaisyizrdtgqq_ind_17\" style=\"stroke:rgb(0.0, 138.56128015770724, 250.76166088685727);stroke-width:2; opacity: 0\"/><text x=\"49.733335498707774%\" y=\"71\" font-size=\"12px\" fill=\"rgb(0.0, 138.56128015770724, 250.76166088685727)\" id=\"_fs_zteofhwsaisyizrdtgqq_ind_17\" style=\"opacity: 0\" dominant-baseline=\"middle\" text-anchor=\"middle\">-0.08</text><svg x=\"46.04657209765316%\" y=\"40\" height=\"20\" width=\"7.373526802109225%\">  <svg x=\"0\" y=\"0\" width=\"100%\" height=\"100%\">    <text x=\"50%\" y=\"9\" font-size=\"12px\" fill=\"rgb(255,255,255)\" dominant-baseline=\"middle\" text-anchor=\"middle\">UCK</text>  </svg></svg><line x1=\"53.42009889976239%\" x2=\"59.40604021871593%\" y1=\"60\" y2=\"60\" id=\"_fb_zteofhwsaisyizrdtgqq_ind_4\" style=\"stroke:rgb(0.0, 138.56128015770724, 250.76166088685727);stroke-width:2; opacity: 0\"/><text x=\"56.41306955923916%\" y=\"71\" font-size=\"12px\" fill=\"rgb(0.0, 138.56128015770724, 250.76166088685727)\" id=\"_fs_zteofhwsaisyizrdtgqq_ind_4\" style=\"opacity: 0\" dominant-baseline=\"middle\" text-anchor=\"middle\">-0.065</text><svg x=\"53.42009889976239%\" y=\"40\" height=\"20\" width=\"5.985941318953543%\">  <svg x=\"0\" y=\"0\" width=\"100%\" height=\"100%\">    <text x=\"50%\" y=\"9\" font-size=\"12px\" fill=\"rgb(255,255,255)\" dominant-baseline=\"middle\" text-anchor=\"middle\">S</text>  </svg></svg><line x1=\"59.40604021871593%\" x2=\"64.89611484329302%\" y1=\"60\" y2=\"60\" id=\"_fb_zteofhwsaisyizrdtgqq_ind_7\" style=\"stroke:rgb(0.0, 138.56128015770724, 250.76166088685727);stroke-width:2; opacity: 0\"/><text x=\"62.151077531004475%\" y=\"71\" font-size=\"12px\" fill=\"rgb(0.0, 138.56128015770724, 250.76166088685727)\" id=\"_fs_zteofhwsaisyizrdtgqq_ind_7\" style=\"opacity: 0\" dominant-baseline=\"middle\" text-anchor=\"middle\">-0.06</text><svg x=\"59.40604021871593%\" y=\"40\" height=\"20\" width=\"5.49007462457709%\">  <svg x=\"0\" y=\"0\" width=\"100%\" height=\"100%\">    <text x=\"50%\" y=\"9\" font-size=\"12px\" fill=\"rgb(255,255,255)\" dominant-baseline=\"middle\" text-anchor=\"middle\">D</text>  </svg></svg><line x1=\"64.89611484329302%\" x2=\"69.20552129544144%\" y1=\"60\" y2=\"60\" id=\"_fb_zteofhwsaisyizrdtgqq_ind_6\" style=\"stroke:rgb(0.0, 138.56128015770724, 250.76166088685727);stroke-width:2; opacity: 0\"/><text x=\"67.05081806936724%\" y=\"71\" font-size=\"12px\" fill=\"rgb(0.0, 138.56128015770724, 250.76166088685727)\" id=\"_fs_zteofhwsaisyizrdtgqq_ind_6\" style=\"opacity: 0\" dominant-baseline=\"middle\" text-anchor=\"middle\">-0.047</text><svg x=\"64.89611484329302%\" y=\"40\" height=\"20\" width=\"4.309406452148423%\">  <svg x=\"0\" y=\"0\" width=\"100%\" height=\"100%\">    <text x=\"50%\" y=\"9\" font-size=\"12px\" fill=\"rgb(255,255,255)\" dominant-baseline=\"middle\" text-anchor=\"middle\">HIS</text>  </svg></svg><line x1=\"69.20552129544144%\" x2=\"72.45836836607582%\" y1=\"60\" y2=\"60\" id=\"_fb_zteofhwsaisyizrdtgqq_ind_1\" style=\"stroke:rgb(0.0, 138.56128015770724, 250.76166088685727);stroke-width:2; opacity: 0\"/><text x=\"70.83194483075863%\" y=\"71\" font-size=\"12px\" fill=\"rgb(0.0, 138.56128015770724, 250.76166088685727)\" id=\"_fs_zteofhwsaisyizrdtgqq_ind_1\" style=\"opacity: 0\" dominant-baseline=\"middle\" text-anchor=\"middle\">-0.035</text><svg x=\"69.20552129544144%\" y=\"40\" height=\"20\" width=\"3.252847070634374%\">  <svg x=\"0\" y=\"0\" width=\"100%\" height=\"100%\">    <text x=\"50%\" y=\"9\" font-size=\"12px\" fill=\"rgb(255,255,255)\" dominant-baseline=\"middle\" text-anchor=\"middle\">YOU</text>  </svg></svg><line x1=\"72.45836836607582%\" x2=\"75.14158530575028%\" y1=\"60\" y2=\"60\" id=\"_fb_zteofhwsaisyizrdtgqq_ind_19\" style=\"stroke:rgb(0.0, 138.56128015770724, 250.76166088685727);stroke-width:2; opacity: 0\"/><text x=\"73.79997683591304%\" y=\"71\" font-size=\"12px\" fill=\"rgb(0.0, 138.56128015770724, 250.76166088685727)\" id=\"_fs_zteofhwsaisyizrdtgqq_ind_19\" style=\"opacity: 0\" dominant-baseline=\"middle\" text-anchor=\"middle\">-0.029</text><svg x=\"72.45836836607582%\" y=\"40\" height=\"20\" width=\"2.683216939674466%\">  <svg x=\"0\" y=\"0\" width=\"100%\" height=\"100%\">    <text x=\"50%\" y=\"9\" font-size=\"12px\" fill=\"rgb(255,255,255)\" dominant-baseline=\"middle\" text-anchor=\"middle\">GET</text>  </svg></svg><line x1=\"75.14158530575028%\" x2=\"77.7129611018866%\" y1=\"60\" y2=\"60\" id=\"_fb_zteofhwsaisyizrdtgqq_ind_23\" style=\"stroke:rgb(0.0, 138.56128015770724, 250.76166088685727);stroke-width:2; opacity: 0\"/><text x=\"76.42727320381844%\" y=\"71\" font-size=\"12px\" fill=\"rgb(0.0, 138.56128015770724, 250.76166088685727)\" id=\"_fs_zteofhwsaisyizrdtgqq_ind_23\" style=\"opacity: 0\" dominant-baseline=\"middle\" text-anchor=\"middle\">-0.028</text><svg x=\"75.14158530575028%\" y=\"40\" height=\"20\" width=\"2.571375796136323%\">  <svg x=\"0\" y=\"0\" width=\"100%\" height=\"100%\">    <text x=\"50%\" y=\"9\" font-size=\"12px\" fill=\"rgb(255,255,255)\" dominant-baseline=\"middle\" text-anchor=\"middle\">AAA</text>  </svg></svg><line x1=\"77.7129611018866%\" x2=\"80.14631124127854%\" y1=\"60\" y2=\"60\" id=\"_fb_zteofhwsaisyizrdtgqq_ind_12\" style=\"stroke:rgb(0.0, 138.56128015770724, 250.76166088685727);stroke-width:2; opacity: 0\"/><text x=\"78.92963617158257%\" y=\"71\" font-size=\"12px\" fill=\"rgb(0.0, 138.56128015770724, 250.76166088685727)\" id=\"_fs_zteofhwsaisyizrdtgqq_ind_12\" style=\"opacity: 0\" dominant-baseline=\"middle\" text-anchor=\"middle\">-0.027</text><svg x=\"77.7129611018866%\" y=\"40\" height=\"20\" width=\"2.4333501393919335%\">  <svg x=\"0\" y=\"0\" width=\"100%\" height=\"100%\">    <text x=\"50%\" y=\"9\" font-size=\"12px\" fill=\"rgb(255,255,255)\" dominant-baseline=\"middle\" text-anchor=\"middle\">I</text>  </svg></svg><line x1=\"80.14631124127854%\" x2=\"81.90586764376266%\" y1=\"60\" y2=\"60\" id=\"_fb_zteofhwsaisyizrdtgqq_ind_11\" style=\"stroke:rgb(0.0, 138.56128015770724, 250.76166088685727);stroke-width:2; opacity: 0\"/><text x=\"81.0260894425206%\" y=\"71\" font-size=\"12px\" fill=\"rgb(0.0, 138.56128015770724, 250.76166088685727)\" id=\"_fs_zteofhwsaisyizrdtgqq_ind_11\" style=\"opacity: 0\" dominant-baseline=\"middle\" text-anchor=\"middle\">-0.019</text><svg x=\"80.14631124127854%\" y=\"40\" height=\"20\" width=\"1.7595564024841224%\">  <svg x=\"0\" y=\"0\" width=\"100%\" height=\"100%\">    <text x=\"50%\" y=\"9\" font-size=\"12px\" fill=\"rgb(255,255,255)\" dominant-baseline=\"middle\" text-anchor=\"middle\">Y</text>  </svg></svg><line x1=\"81.90586764376266%\" x2=\"83.2017781258754%\" y1=\"60\" y2=\"60\" id=\"_fb_zteofhwsaisyizrdtgqq_ind_21\" style=\"stroke:rgb(0.0, 138.56128015770724, 250.76166088685727);stroke-width:2; opacity: 0\"/><text x=\"82.55382288481903%\" y=\"71\" font-size=\"12px\" fill=\"rgb(0.0, 138.56128015770724, 250.76166088685727)\" id=\"_fs_zteofhwsaisyizrdtgqq_ind_21\" style=\"opacity: 0\" dominant-baseline=\"middle\" text-anchor=\"middle\">-0.014</text><svg x=\"81.90586764376266%\" y=\"40\" height=\"20\" width=\"1.2959104821127454%\">  <svg x=\"0\" y=\"0\" width=\"100%\" height=\"100%\">    <text x=\"50%\" y=\"9\" font-size=\"12px\" fill=\"rgb(255,255,255)\" dominant-baseline=\"middle\" text-anchor=\"middle\">G</text>  </svg></svg><line x1=\"83.2017781258754%\" x2=\"84.29195895998822%\" y1=\"60\" y2=\"60\" id=\"_fb_zteofhwsaisyizrdtgqq_ind_16\" style=\"stroke:rgb(0.0, 138.56128015770724, 250.76166088685727);stroke-width:2; opacity: 0\"/><text x=\"83.74686854293182%\" y=\"71\" font-size=\"12px\" fill=\"rgb(0.0, 138.56128015770724, 250.76166088685727)\" id=\"_fs_zteofhwsaisyizrdtgqq_ind_16\" style=\"opacity: 0\" dominant-baseline=\"middle\" text-anchor=\"middle\">-0.012</text><svg x=\"83.2017781258754%\" y=\"40\" height=\"20\" width=\"1.0901808341128145%\">  <svg x=\"0\" y=\"0\" width=\"100%\" height=\"100%\">    <text x=\"50%\" y=\"9\" font-size=\"12px\" fill=\"rgb(255,255,255)\" dominant-baseline=\"middle\" text-anchor=\"middle\">KN</text>  </svg></svg><line x1=\"84.29195895998822%\" x2=\"85.02787762797404%\" y1=\"60\" y2=\"60\" id=\"_fb_zteofhwsaisyizrdtgqq_ind_10\" style=\"stroke:rgb(0.0, 138.56128015770724, 250.76166088685727);stroke-width:2; opacity: 0\"/><text x=\"84.65991829398112%\" y=\"71\" font-size=\"12px\" fill=\"rgb(0.0, 138.56128015770724, 250.76166088685727)\" id=\"_fs_zteofhwsaisyizrdtgqq_ind_10\" style=\"opacity: 0\" dominant-baseline=\"middle\" text-anchor=\"middle\">-0.008</text><svg x=\"84.29195895998822%\" y=\"40\" height=\"20\" width=\"0.7359186679858141%\">  <svg x=\"0\" y=\"0\" width=\"100%\" height=\"100%\">    <text x=\"50%\" y=\"9\" font-size=\"12px\" fill=\"rgb(255,255,255)\" dominant-baseline=\"middle\" text-anchor=\"middle\">Z</text>  </svg></svg><line x1=\"85.02787762797404%\" x2=\"85.38619093830616%\" y1=\"60\" y2=\"60\" id=\"_fb_zteofhwsaisyizrdtgqq_ind_14\" style=\"stroke:rgb(0.0, 138.56128015770724, 250.76166088685727);stroke-width:2; opacity: 0\"/><text x=\"85.2070342831401%\" y=\"71\" font-size=\"12px\" fill=\"rgb(0.0, 138.56128015770724, 250.76166088685727)\" id=\"_fs_zteofhwsaisyizrdtgqq_ind_14\" style=\"opacity: 0\" dominant-baseline=\"middle\" text-anchor=\"middle\">-0.004</text><svg x=\"85.02787762797404%\" y=\"40\" height=\"20\" width=\"0.35831331033212166%\">  <svg x=\"0\" y=\"0\" width=\"100%\" height=\"100%\">    <text x=\"50%\" y=\"9\" font-size=\"12px\" fill=\"rgb(255,255,255)\" dominant-baseline=\"middle\" text-anchor=\"middle\">YOU</text>  </svg></svg><line x1=\"85.38619093830616%\" x2=\"85.54184529117643%\" y1=\"60\" y2=\"60\" id=\"_fb_zteofhwsaisyizrdtgqq_ind_22\" style=\"stroke:rgb(0.0, 138.56128015770724, 250.76166088685727);stroke-width:2; opacity: 0\"/><text x=\"85.4640181147413%\" y=\"71\" font-size=\"12px\" fill=\"rgb(0.0, 138.56128015770724, 250.76166088685727)\" id=\"_fs_zteofhwsaisyizrdtgqq_ind_22\" style=\"opacity: 0\" dominant-baseline=\"middle\" text-anchor=\"middle\">-0.002</text><svg x=\"85.38619093830616%\" y=\"40\" height=\"20\" width=\"0.15565435287027185%\">  <svg x=\"0\" y=\"0\" width=\"100%\" height=\"100%\">    <text x=\"50%\" y=\"9\" font-size=\"12px\" fill=\"rgb(255,255,255)\" dominant-baseline=\"middle\" text-anchor=\"middle\">Y</text>  </svg></svg><line x1=\"85.54184529117643%\" x2=\"85.67982483504528%\" y1=\"60\" y2=\"60\" id=\"_fb_zteofhwsaisyizrdtgqq_ind_20\" style=\"stroke:rgb(0.0, 138.56128015770724, 250.76166088685727);stroke-width:2; opacity: 0\"/><text x=\"85.61083506311086%\" y=\"71\" font-size=\"12px\" fill=\"rgb(0.0, 138.56128015770724, 250.76166088685727)\" id=\"_fs_zteofhwsaisyizrdtgqq_ind_20\" style=\"opacity: 0\" dominant-baseline=\"middle\" text-anchor=\"middle\">-0.002</text><svg x=\"85.54184529117643%\" y=\"40\" height=\"20\" width=\"0.1379795438688518%\">  <svg x=\"0\" y=\"0\" width=\"100%\" height=\"100%\">    <text x=\"50%\" y=\"9\" font-size=\"12px\" fill=\"rgb(255,255,255)\" dominant-baseline=\"middle\" text-anchor=\"middle\">EM</text>  </svg></svg><line x1=\"85.67982483504528%\" x2=\"85.68019570211631%\" y1=\"60\" y2=\"60\" id=\"_fb_zteofhwsaisyizrdtgqq_ind_0\" style=\"stroke:rgb(0.0, 138.56128015770724, 250.76166088685727);stroke-width:2; opacity: 0\"/><text x=\"85.68001026858079%\" y=\"71\" font-size=\"12px\" fill=\"rgb(0.0, 138.56128015770724, 250.76166088685727)\" id=\"_fs_zteofhwsaisyizrdtgqq_ind_0\" style=\"opacity: 0\" dominant-baseline=\"middle\" text-anchor=\"middle\">-0.0</text><svg x=\"85.67982483504528%\" y=\"40\" height=\"20\" width=\"0.000370867071026737%\">  <svg x=\"0\" y=\"0\" width=\"100%\" height=\"100%\">    <text x=\"50%\" y=\"9\" font-size=\"12px\" fill=\"rgb(255,255,255)\" dominant-baseline=\"middle\" text-anchor=\"middle\"></text>  </svg></svg><g transform=\"translate(-8,0)\">  <svg x=\"31.704246761311342%\" y=\"40\" height=\"18\" overflow=\"visible\" width=\"30\">    <path d=\"M 8 -9 l -6 18 L 8 25\" fill=\"none\" style=\"stroke:rgb(0.0, 138.56128015770724, 250.76166088685727);stroke-width:2\" />  </svg></g><g transform=\"translate(-10,0)\">  <svg x=\"31.704246761311342%\" y=\"40\" height=\"18\" overflow=\"visible\" width=\"30\">    <path d=\"M 8 -9 l -6 18 L 8 25\" fill=\"none\" style=\"stroke:rgb(0.0, 138.56128015770724, 250.76166088685727);stroke-width:2\" />  </svg></g><g transform=\"translate(-12,0)\">  <svg x=\"31.704246761311342%\" y=\"40\" height=\"18\" overflow=\"visible\" width=\"30\">    <path d=\"M 8 -9 l -6 18 L 8 25\" fill=\"none\" style=\"stroke:rgb(0.0, 138.56128015770724, 250.76166088685727);stroke-width:2\" />  </svg></g><g transform=\"translate(-14,0)\">  <svg x=\"31.704246761311342%\" y=\"40\" height=\"18\" overflow=\"visible\" width=\"30\">    <path d=\"M 8 -9 l -6 18 L 8 25\" fill=\"none\" style=\"stroke:rgb(0.0, 138.56128015770724, 250.76166088685727);stroke-width:2\" />  </svg></g><g transform=\"translate(2,0)\">  <svg x=\"31.704246761311342%\" y=\"40\" height=\"18\" overflow=\"visible\" width=\"30\">    <path d=\"M 8 -9 l -6 18 L 8 25\" fill=\"none\" style=\"stroke:rgb(0.0, 138.56128015770724, 250.76166088685727);stroke-width:2\" />  </svg></g><g transform=\"translate(0,0)\">  <svg x=\"31.704246761311342%\" y=\"40\" height=\"18\" overflow=\"visible\" width=\"30\">    <path d=\"M 8 -9 l -6 18 L 8 25\" fill=\"none\" style=\"stroke:rgb(0.0, 138.56128015770724, 250.76166088685727);stroke-width:2\" />  </svg></g><g transform=\"translate(-2,0)\">  <svg x=\"31.704246761311342%\" y=\"40\" height=\"18\" overflow=\"visible\" width=\"30\">    <path d=\"M 8 -9 l -6 18 L 8 25\" fill=\"none\" style=\"stroke:rgb(0.0, 138.56128015770724, 250.76166088685727);stroke-width:2\" />  </svg></g><g transform=\"translate(-4,0)\">  <svg x=\"31.704246761311342%\" y=\"40\" height=\"18\" overflow=\"visible\" width=\"30\">    <path d=\"M 8 -9 l -6 18 L 8 25\" fill=\"none\" style=\"stroke:rgb(0.0, 138.56128015770724, 250.76166088685727);stroke-width:2\" />  </svg></g><g transform=\"translate(-8,0)\">  <svg x=\"46.04657209765316%\" y=\"40\" height=\"18\" overflow=\"visible\" width=\"30\">    <path d=\"M 8 -9 l -6 18 L 8 25\" fill=\"none\" style=\"stroke:rgb(0.0, 138.56128015770724, 250.76166088685727);stroke-width:2\" />  </svg></g><g transform=\"translate(-10,0)\">  <svg x=\"46.04657209765316%\" y=\"40\" height=\"18\" overflow=\"visible\" width=\"30\">    <path d=\"M 8 -9 l -6 18 L 8 25\" fill=\"none\" style=\"stroke:rgb(0.0, 138.56128015770724, 250.76166088685727);stroke-width:2\" />  </svg></g><g transform=\"translate(-12,0)\">  <svg x=\"46.04657209765316%\" y=\"40\" height=\"18\" overflow=\"visible\" width=\"30\">    <path d=\"M 8 -9 l -6 18 L 8 25\" fill=\"none\" style=\"stroke:rgb(0.0, 138.56128015770724, 250.76166088685727);stroke-width:2\" />  </svg></g><g transform=\"translate(-14,0)\">  <svg x=\"46.04657209765316%\" y=\"40\" height=\"18\" overflow=\"visible\" width=\"30\">    <path d=\"M 8 -9 l -6 18 L 8 25\" fill=\"none\" style=\"stroke:rgb(0.0, 138.56128015770724, 250.76166088685727);stroke-width:2\" />  </svg></g><g transform=\"translate(2,0)\">  <svg x=\"46.04657209765316%\" y=\"40\" height=\"18\" overflow=\"visible\" width=\"30\">    <path d=\"M 8 -9 l -6 18 L 8 25\" fill=\"none\" style=\"stroke:rgb(0.0, 138.56128015770724, 250.76166088685727);stroke-width:2\" />  </svg></g><g transform=\"translate(0,0)\">  <svg x=\"46.04657209765316%\" y=\"40\" height=\"18\" overflow=\"visible\" width=\"30\">    <path d=\"M 8 -9 l -6 18 L 8 25\" fill=\"none\" style=\"stroke:rgb(0.0, 138.56128015770724, 250.76166088685727);stroke-width:2\" />  </svg></g><g transform=\"translate(-2,0)\">  <svg x=\"46.04657209765316%\" y=\"40\" height=\"18\" overflow=\"visible\" width=\"30\">    <path d=\"M 8 -9 l -6 18 L 8 25\" fill=\"none\" style=\"stroke:rgb(0.0, 138.56128015770724, 250.76166088685727);stroke-width:2\" />  </svg></g><g transform=\"translate(-4,0)\">  <svg x=\"46.04657209765316%\" y=\"40\" height=\"18\" overflow=\"visible\" width=\"30\">    <path d=\"M 8 -9 l -6 18 L 8 25\" fill=\"none\" style=\"stroke:rgb(0.0, 138.56128015770724, 250.76166088685727);stroke-width:2\" />  </svg></g><g transform=\"translate(-8,0)\">  <svg x=\"53.42009889976239%\" y=\"40\" height=\"18\" overflow=\"visible\" width=\"30\">    <path d=\"M 8 -9 l -6 18 L 8 25\" fill=\"none\" style=\"stroke:rgb(0.0, 138.56128015770724, 250.76166088685727);stroke-width:2\" />  </svg></g><g transform=\"translate(-10,0)\">  <svg x=\"53.42009889976239%\" y=\"40\" height=\"18\" overflow=\"visible\" width=\"30\">    <path d=\"M 8 -9 l -6 18 L 8 25\" fill=\"none\" style=\"stroke:rgb(0.0, 138.56128015770724, 250.76166088685727);stroke-width:2\" />  </svg></g><g transform=\"translate(-12,0)\">  <svg x=\"53.42009889976239%\" y=\"40\" height=\"18\" overflow=\"visible\" width=\"30\">    <path d=\"M 8 -9 l -6 18 L 8 25\" fill=\"none\" style=\"stroke:rgb(0.0, 138.56128015770724, 250.76166088685727);stroke-width:2\" />  </svg></g><g transform=\"translate(-14,0)\">  <svg x=\"53.42009889976239%\" y=\"40\" height=\"18\" overflow=\"visible\" width=\"30\">    <path d=\"M 8 -9 l -6 18 L 8 25\" fill=\"none\" style=\"stroke:rgb(0.0, 138.56128015770724, 250.76166088685727);stroke-width:2\" />  </svg></g><g transform=\"translate(2,0)\">  <svg x=\"53.42009889976239%\" y=\"40\" height=\"18\" overflow=\"visible\" width=\"30\">    <path d=\"M 8 -9 l -6 18 L 8 25\" fill=\"none\" style=\"stroke:rgb(0.0, 138.56128015770724, 250.76166088685727);stroke-width:2\" />  </svg></g><g transform=\"translate(0,0)\">  <svg x=\"53.42009889976239%\" y=\"40\" height=\"18\" overflow=\"visible\" width=\"30\">    <path d=\"M 8 -9 l -6 18 L 8 25\" fill=\"none\" style=\"stroke:rgb(0.0, 138.56128015770724, 250.76166088685727);stroke-width:2\" />  </svg></g><g transform=\"translate(-2,0)\">  <svg x=\"53.42009889976239%\" y=\"40\" height=\"18\" overflow=\"visible\" width=\"30\">    <path d=\"M 8 -9 l -6 18 L 8 25\" fill=\"none\" style=\"stroke:rgb(0.0, 138.56128015770724, 250.76166088685727);stroke-width:2\" />  </svg></g><g transform=\"translate(-4,0)\">  <svg x=\"53.42009889976239%\" y=\"40\" height=\"18\" overflow=\"visible\" width=\"30\">    <path d=\"M 8 -9 l -6 18 L 8 25\" fill=\"none\" style=\"stroke:rgb(0.0, 138.56128015770724, 250.76166088685727);stroke-width:2\" />  </svg></g><g transform=\"translate(-8,0)\">  <svg x=\"59.40604021871593%\" y=\"40\" height=\"18\" overflow=\"visible\" width=\"30\">    <path d=\"M 8 -9 l -6 18 L 8 25\" fill=\"none\" style=\"stroke:rgb(0.0, 138.56128015770724, 250.76166088685727);stroke-width:2\" />  </svg></g><g transform=\"translate(-10,0)\">  <svg x=\"59.40604021871593%\" y=\"40\" height=\"18\" overflow=\"visible\" width=\"30\">    <path d=\"M 8 -9 l -6 18 L 8 25\" fill=\"none\" style=\"stroke:rgb(0.0, 138.56128015770724, 250.76166088685727);stroke-width:2\" />  </svg></g><g transform=\"translate(-12,0)\">  <svg x=\"59.40604021871593%\" y=\"40\" height=\"18\" overflow=\"visible\" width=\"30\">    <path d=\"M 8 -9 l -6 18 L 8 25\" fill=\"none\" style=\"stroke:rgb(0.0, 138.56128015770724, 250.76166088685727);stroke-width:2\" />  </svg></g><g transform=\"translate(-14,0)\">  <svg x=\"59.40604021871593%\" y=\"40\" height=\"18\" overflow=\"visible\" width=\"30\">    <path d=\"M 8 -9 l -6 18 L 8 25\" fill=\"none\" style=\"stroke:rgb(0.0, 138.56128015770724, 250.76166088685727);stroke-width:2\" />  </svg></g><g transform=\"translate(2,0)\">  <svg x=\"59.40604021871593%\" y=\"40\" height=\"18\" overflow=\"visible\" width=\"30\">    <path d=\"M 8 -9 l -6 18 L 8 25\" fill=\"none\" style=\"stroke:rgb(0.0, 138.56128015770724, 250.76166088685727);stroke-width:2\" />  </svg></g><g transform=\"translate(0,0)\">  <svg x=\"59.40604021871593%\" y=\"40\" height=\"18\" overflow=\"visible\" width=\"30\">    <path d=\"M 8 -9 l -6 18 L 8 25\" fill=\"none\" style=\"stroke:rgb(0.0, 138.56128015770724, 250.76166088685727);stroke-width:2\" />  </svg></g><g transform=\"translate(-2,0)\">  <svg x=\"59.40604021871593%\" y=\"40\" height=\"18\" overflow=\"visible\" width=\"30\">    <path d=\"M 8 -9 l -6 18 L 8 25\" fill=\"none\" style=\"stroke:rgb(0.0, 138.56128015770724, 250.76166088685727);stroke-width:2\" />  </svg></g><g transform=\"translate(-4,0)\">  <svg x=\"59.40604021871593%\" y=\"40\" height=\"18\" overflow=\"visible\" width=\"30\">    <path d=\"M 8 -9 l -6 18 L 8 25\" fill=\"none\" style=\"stroke:rgb(0.0, 138.56128015770724, 250.76166088685727);stroke-width:2\" />  </svg></g><g transform=\"translate(-8,0)\">  <svg x=\"64.89611484329302%\" y=\"40\" height=\"18\" overflow=\"visible\" width=\"30\">    <path d=\"M 8 -9 l -6 18 L 8 25\" fill=\"none\" style=\"stroke:rgb(0.0, 138.56128015770724, 250.76166088685727);stroke-width:2\" />  </svg></g><g transform=\"translate(-10,0)\">  <svg x=\"64.89611484329302%\" y=\"40\" height=\"18\" overflow=\"visible\" width=\"30\">    <path d=\"M 8 -9 l -6 18 L 8 25\" fill=\"none\" style=\"stroke:rgb(0.0, 138.56128015770724, 250.76166088685727);stroke-width:2\" />  </svg></g><g transform=\"translate(-12,0)\">  <svg x=\"64.89611484329302%\" y=\"40\" height=\"18\" overflow=\"visible\" width=\"30\">    <path d=\"M 8 -9 l -6 18 L 8 25\" fill=\"none\" style=\"stroke:rgb(0.0, 138.56128015770724, 250.76166088685727);stroke-width:2\" />  </svg></g><g transform=\"translate(-14,0)\">  <svg x=\"64.89611484329302%\" y=\"40\" height=\"18\" overflow=\"visible\" width=\"30\">    <path d=\"M 8 -9 l -6 18 L 8 25\" fill=\"none\" style=\"stroke:rgb(0.0, 138.56128015770724, 250.76166088685727);stroke-width:2\" />  </svg></g><g transform=\"translate(2,0)\">  <svg x=\"64.89611484329302%\" y=\"40\" height=\"18\" overflow=\"visible\" width=\"30\">    <path d=\"M 8 -9 l -6 18 L 8 25\" fill=\"none\" style=\"stroke:rgb(0.0, 138.56128015770724, 250.76166088685727);stroke-width:2\" />  </svg></g><g transform=\"translate(0,0)\">  <svg x=\"64.89611484329302%\" y=\"40\" height=\"18\" overflow=\"visible\" width=\"30\">    <path d=\"M 8 -9 l -6 18 L 8 25\" fill=\"none\" style=\"stroke:rgb(0.0, 138.56128015770724, 250.76166088685727);stroke-width:2\" />  </svg></g><g transform=\"translate(-2,0)\">  <svg x=\"64.89611484329302%\" y=\"40\" height=\"18\" overflow=\"visible\" width=\"30\">    <path d=\"M 8 -9 l -6 18 L 8 25\" fill=\"none\" style=\"stroke:rgb(0.0, 138.56128015770724, 250.76166088685727);stroke-width:2\" />  </svg></g><g transform=\"translate(-4,0)\">  <svg x=\"64.89611484329302%\" y=\"40\" height=\"18\" overflow=\"visible\" width=\"30\">    <path d=\"M 8 -9 l -6 18 L 8 25\" fill=\"none\" style=\"stroke:rgb(0.0, 138.56128015770724, 250.76166088685727);stroke-width:2\" />  </svg></g><g transform=\"translate(-8,0)\">  <svg x=\"69.20552129544144%\" y=\"40\" height=\"18\" overflow=\"visible\" width=\"30\">    <path d=\"M 8 -9 l -6 18 L 8 25\" fill=\"none\" style=\"stroke:rgb(0.0, 138.56128015770724, 250.76166088685727);stroke-width:2\" />  </svg></g><g transform=\"translate(-10,0)\">  <svg x=\"69.20552129544144%\" y=\"40\" height=\"18\" overflow=\"visible\" width=\"30\">    <path d=\"M 8 -9 l -6 18 L 8 25\" fill=\"none\" style=\"stroke:rgb(0.0, 138.56128015770724, 250.76166088685727);stroke-width:2\" />  </svg></g><g transform=\"translate(-12,0)\">  <svg x=\"69.20552129544144%\" y=\"40\" height=\"18\" overflow=\"visible\" width=\"30\">    <path d=\"M 8 -9 l -6 18 L 8 25\" fill=\"none\" style=\"stroke:rgb(0.0, 138.56128015770724, 250.76166088685727);stroke-width:2\" />  </svg></g><g transform=\"translate(-14,0)\">  <svg x=\"69.20552129544144%\" y=\"40\" height=\"18\" overflow=\"visible\" width=\"30\">    <path d=\"M 8 -9 l -6 18 L 8 25\" fill=\"none\" style=\"stroke:rgb(0.0, 138.56128015770724, 250.76166088685727);stroke-width:2\" />  </svg></g><g transform=\"translate(2,0)\">  <svg x=\"69.20552129544144%\" y=\"40\" height=\"18\" overflow=\"visible\" width=\"30\">    <path d=\"M 8 -9 l -6 18 L 8 25\" fill=\"none\" style=\"stroke:rgb(0.0, 138.56128015770724, 250.76166088685727);stroke-width:2\" />  </svg></g><g transform=\"translate(0,0)\">  <svg x=\"69.20552129544144%\" y=\"40\" height=\"18\" overflow=\"visible\" width=\"30\">    <path d=\"M 8 -9 l -6 18 L 8 25\" fill=\"none\" style=\"stroke:rgb(0.0, 138.56128015770724, 250.76166088685727);stroke-width:2\" />  </svg></g><g transform=\"translate(-2,0)\">  <svg x=\"69.20552129544144%\" y=\"40\" height=\"18\" overflow=\"visible\" width=\"30\">    <path d=\"M 8 -9 l -6 18 L 8 25\" fill=\"none\" style=\"stroke:rgb(0.0, 138.56128015770724, 250.76166088685727);stroke-width:2\" />  </svg></g><g transform=\"translate(-4,0)\">  <svg x=\"69.20552129544144%\" y=\"40\" height=\"18\" overflow=\"visible\" width=\"30\">    <path d=\"M 8 -9 l -6 18 L 8 25\" fill=\"none\" style=\"stroke:rgb(0.0, 138.56128015770724, 250.76166088685727);stroke-width:2\" />  </svg></g><g transform=\"translate(-8,0)\">  <svg x=\"72.45836836607582%\" y=\"40\" height=\"18\" overflow=\"visible\" width=\"30\">    <path d=\"M 8 -9 l -6 18 L 8 25\" fill=\"none\" style=\"stroke:rgb(0.0, 138.56128015770724, 250.76166088685727);stroke-width:2\" />  </svg></g><g transform=\"translate(-10,0)\">  <svg x=\"72.45836836607582%\" y=\"40\" height=\"18\" overflow=\"visible\" width=\"30\">    <path d=\"M 8 -9 l -6 18 L 8 25\" fill=\"none\" style=\"stroke:rgb(0.0, 138.56128015770724, 250.76166088685727);stroke-width:2\" />  </svg></g><g transform=\"translate(-12,0)\">  <svg x=\"72.45836836607582%\" y=\"40\" height=\"18\" overflow=\"visible\" width=\"30\">    <path d=\"M 8 -9 l -6 18 L 8 25\" fill=\"none\" style=\"stroke:rgb(0.0, 138.56128015770724, 250.76166088685727);stroke-width:2\" />  </svg></g><g transform=\"translate(-14,0)\">  <svg x=\"72.45836836607582%\" y=\"40\" height=\"18\" overflow=\"visible\" width=\"30\">    <path d=\"M 8 -9 l -6 18 L 8 25\" fill=\"none\" style=\"stroke:rgb(0.0, 138.56128015770724, 250.76166088685727);stroke-width:2\" />  </svg></g><g transform=\"translate(2,0)\">  <svg x=\"72.45836836607582%\" y=\"40\" height=\"18\" overflow=\"visible\" width=\"30\">    <path d=\"M 8 -9 l -6 18 L 8 25\" fill=\"none\" style=\"stroke:rgb(0.0, 138.56128015770724, 250.76166088685727);stroke-width:2\" />  </svg></g><g transform=\"translate(0,0)\">  <svg x=\"72.45836836607582%\" y=\"40\" height=\"18\" overflow=\"visible\" width=\"30\">    <path d=\"M 8 -9 l -6 18 L 8 25\" fill=\"none\" style=\"stroke:rgb(0.0, 138.56128015770724, 250.76166088685727);stroke-width:2\" />  </svg></g><g transform=\"translate(-2,0)\">  <svg x=\"72.45836836607582%\" y=\"40\" height=\"18\" overflow=\"visible\" width=\"30\">    <path d=\"M 8 -9 l -6 18 L 8 25\" fill=\"none\" style=\"stroke:rgb(0.0, 138.56128015770724, 250.76166088685727);stroke-width:2\" />  </svg></g><g transform=\"translate(-4,0)\">  <svg x=\"72.45836836607582%\" y=\"40\" height=\"18\" overflow=\"visible\" width=\"30\">    <path d=\"M 8 -9 l -6 18 L 8 25\" fill=\"none\" style=\"stroke:rgb(0.0, 138.56128015770724, 250.76166088685727);stroke-width:2\" />  </svg></g><g transform=\"translate(-8,0)\">  <svg x=\"75.14158530575028%\" y=\"40\" height=\"18\" overflow=\"visible\" width=\"30\">    <path d=\"M 8 -9 l -6 18 L 8 25\" fill=\"none\" style=\"stroke:rgb(0.0, 138.56128015770724, 250.76166088685727);stroke-width:2\" />  </svg></g><g transform=\"translate(-10,0)\">  <svg x=\"75.14158530575028%\" y=\"40\" height=\"18\" overflow=\"visible\" width=\"30\">    <path d=\"M 8 -9 l -6 18 L 8 25\" fill=\"none\" style=\"stroke:rgb(0.0, 138.56128015770724, 250.76166088685727);stroke-width:2\" />  </svg></g><g transform=\"translate(-12,0)\">  <svg x=\"75.14158530575028%\" y=\"40\" height=\"18\" overflow=\"visible\" width=\"30\">    <path d=\"M 8 -9 l -6 18 L 8 25\" fill=\"none\" style=\"stroke:rgb(0.0, 138.56128015770724, 250.76166088685727);stroke-width:2\" />  </svg></g><g transform=\"translate(-14,0)\">  <svg x=\"75.14158530575028%\" y=\"40\" height=\"18\" overflow=\"visible\" width=\"30\">    <path d=\"M 8 -9 l -6 18 L 8 25\" fill=\"none\" style=\"stroke:rgb(0.0, 138.56128015770724, 250.76166088685727);stroke-width:2\" />  </svg></g><g transform=\"translate(2,0)\">  <svg x=\"75.14158530575028%\" y=\"40\" height=\"18\" overflow=\"visible\" width=\"30\">    <path d=\"M 8 -9 l -6 18 L 8 25\" fill=\"none\" style=\"stroke:rgb(0.0, 138.56128015770724, 250.76166088685727);stroke-width:2\" />  </svg></g><g transform=\"translate(0,0)\">  <svg x=\"75.14158530575028%\" y=\"40\" height=\"18\" overflow=\"visible\" width=\"30\">    <path d=\"M 8 -9 l -6 18 L 8 25\" fill=\"none\" style=\"stroke:rgb(0.0, 138.56128015770724, 250.76166088685727);stroke-width:2\" />  </svg></g><g transform=\"translate(-2,0)\">  <svg x=\"75.14158530575028%\" y=\"40\" height=\"18\" overflow=\"visible\" width=\"30\">    <path d=\"M 8 -9 l -6 18 L 8 25\" fill=\"none\" style=\"stroke:rgb(0.0, 138.56128015770724, 250.76166088685727);stroke-width:2\" />  </svg></g><g transform=\"translate(-4,0)\">  <svg x=\"75.14158530575028%\" y=\"40\" height=\"18\" overflow=\"visible\" width=\"30\">    <path d=\"M 8 -9 l -6 18 L 8 25\" fill=\"none\" style=\"stroke:rgb(0.0, 138.56128015770724, 250.76166088685727);stroke-width:2\" />  </svg></g><g transform=\"translate(-8,0)\">  <svg x=\"77.7129611018866%\" y=\"40\" height=\"18\" overflow=\"visible\" width=\"30\">    <path d=\"M 8 -9 l -6 18 L 8 25\" fill=\"none\" style=\"stroke:rgb(0.0, 138.56128015770724, 250.76166088685727);stroke-width:2\" />  </svg></g><g transform=\"translate(-10,0)\">  <svg x=\"77.7129611018866%\" y=\"40\" height=\"18\" overflow=\"visible\" width=\"30\">    <path d=\"M 8 -9 l -6 18 L 8 25\" fill=\"none\" style=\"stroke:rgb(0.0, 138.56128015770724, 250.76166088685727);stroke-width:2\" />  </svg></g><g transform=\"translate(-12,0)\">  <svg x=\"77.7129611018866%\" y=\"40\" height=\"18\" overflow=\"visible\" width=\"30\">    <path d=\"M 8 -9 l -6 18 L 8 25\" fill=\"none\" style=\"stroke:rgb(0.0, 138.56128015770724, 250.76166088685727);stroke-width:2\" />  </svg></g><g transform=\"translate(-14,0)\">  <svg x=\"77.7129611018866%\" y=\"40\" height=\"18\" overflow=\"visible\" width=\"30\">    <path d=\"M 8 -9 l -6 18 L 8 25\" fill=\"none\" style=\"stroke:rgb(0.0, 138.56128015770724, 250.76166088685727);stroke-width:2\" />  </svg></g><g transform=\"translate(2,0)\">  <svg x=\"77.7129611018866%\" y=\"40\" height=\"18\" overflow=\"visible\" width=\"30\">    <path d=\"M 8 -9 l -6 18 L 8 25\" fill=\"none\" style=\"stroke:rgb(0.0, 138.56128015770724, 250.76166088685727);stroke-width:2\" />  </svg></g><g transform=\"translate(0,0)\">  <svg x=\"77.7129611018866%\" y=\"40\" height=\"18\" overflow=\"visible\" width=\"30\">    <path d=\"M 8 -9 l -6 18 L 8 25\" fill=\"none\" style=\"stroke:rgb(0.0, 138.56128015770724, 250.76166088685727);stroke-width:2\" />  </svg></g><g transform=\"translate(-2,0)\">  <svg x=\"77.7129611018866%\" y=\"40\" height=\"18\" overflow=\"visible\" width=\"30\">    <path d=\"M 8 -9 l -6 18 L 8 25\" fill=\"none\" style=\"stroke:rgb(0.0, 138.56128015770724, 250.76166088685727);stroke-width:2\" />  </svg></g><g transform=\"translate(-4,0)\">  <svg x=\"77.7129611018866%\" y=\"40\" height=\"18\" overflow=\"visible\" width=\"30\">    <path d=\"M 8 -9 l -6 18 L 8 25\" fill=\"none\" style=\"stroke:rgb(0.0, 138.56128015770724, 250.76166088685727);stroke-width:2\" />  </svg></g><g transform=\"translate(-8,0)\">  <svg x=\"80.14631124127854%\" y=\"40\" height=\"18\" overflow=\"visible\" width=\"30\">    <path d=\"M 8 -9 l -6 18 L 8 25\" fill=\"none\" style=\"stroke:rgb(0.0, 138.56128015770724, 250.76166088685727);stroke-width:2\" />  </svg></g><g transform=\"translate(-10,0)\">  <svg x=\"80.14631124127854%\" y=\"40\" height=\"18\" overflow=\"visible\" width=\"30\">    <path d=\"M 8 -9 l -6 18 L 8 25\" fill=\"none\" style=\"stroke:rgb(0.0, 138.56128015770724, 250.76166088685727);stroke-width:2\" />  </svg></g><g transform=\"translate(-12,0)\">  <svg x=\"80.14631124127854%\" y=\"40\" height=\"18\" overflow=\"visible\" width=\"30\">    <path d=\"M 8 -9 l -6 18 L 8 25\" fill=\"none\" style=\"stroke:rgb(0.0, 138.56128015770724, 250.76166088685727);stroke-width:2\" />  </svg></g><g transform=\"translate(-14,0)\">  <svg x=\"80.14631124127854%\" y=\"40\" height=\"18\" overflow=\"visible\" width=\"30\">    <path d=\"M 8 -9 l -6 18 L 8 25\" fill=\"none\" style=\"stroke:rgb(0.0, 138.56128015770724, 250.76166088685727);stroke-width:2\" />  </svg></g><g transform=\"translate(2,0)\">  <svg x=\"80.14631124127854%\" y=\"40\" height=\"18\" overflow=\"visible\" width=\"30\">    <path d=\"M 8 -9 l -6 18 L 8 25\" fill=\"none\" style=\"stroke:rgb(0.0, 138.56128015770724, 250.76166088685727);stroke-width:2\" />  </svg></g><g transform=\"translate(0,0)\">  <svg x=\"80.14631124127854%\" y=\"40\" height=\"18\" overflow=\"visible\" width=\"30\">    <path d=\"M 8 -9 l -6 18 L 8 25\" fill=\"none\" style=\"stroke:rgb(0.0, 138.56128015770724, 250.76166088685727);stroke-width:2\" />  </svg></g><g transform=\"translate(-2,0)\">  <svg x=\"80.14631124127854%\" y=\"40\" height=\"18\" overflow=\"visible\" width=\"30\">    <path d=\"M 8 -9 l -6 18 L 8 25\" fill=\"none\" style=\"stroke:rgb(0.0, 138.56128015770724, 250.76166088685727);stroke-width:2\" />  </svg></g><g transform=\"translate(-4,0)\">  <svg x=\"80.14631124127854%\" y=\"40\" height=\"18\" overflow=\"visible\" width=\"30\">    <path d=\"M 8 -9 l -6 18 L 8 25\" fill=\"none\" style=\"stroke:rgb(0.0, 138.56128015770724, 250.76166088685727);stroke-width:2\" />  </svg></g><g transform=\"translate(-8,0)\">  <svg x=\"81.90586764376266%\" y=\"40\" height=\"18\" overflow=\"visible\" width=\"30\">    <path d=\"M 8 -9 l -6 18 L 8 25\" fill=\"none\" style=\"stroke:rgb(0.0, 138.56128015770724, 250.76166088685727);stroke-width:2\" />  </svg></g><g transform=\"translate(-10,0)\">  <svg x=\"81.90586764376266%\" y=\"40\" height=\"18\" overflow=\"visible\" width=\"30\">    <path d=\"M 8 -9 l -6 18 L 8 25\" fill=\"none\" style=\"stroke:rgb(0.0, 138.56128015770724, 250.76166088685727);stroke-width:2\" />  </svg></g><g transform=\"translate(-12,0)\">  <svg x=\"81.90586764376266%\" y=\"40\" height=\"18\" overflow=\"visible\" width=\"30\">    <path d=\"M 8 -9 l -6 18 L 8 25\" fill=\"none\" style=\"stroke:rgb(0.0, 138.56128015770724, 250.76166088685727);stroke-width:2\" />  </svg></g><g transform=\"translate(-14,0)\">  <svg x=\"81.90586764376266%\" y=\"40\" height=\"18\" overflow=\"visible\" width=\"30\">    <path d=\"M 8 -9 l -6 18 L 8 25\" fill=\"none\" style=\"stroke:rgb(0.0, 138.56128015770724, 250.76166088685727);stroke-width:2\" />  </svg></g><g transform=\"translate(2,0)\">  <svg x=\"81.90586764376266%\" y=\"40\" height=\"18\" overflow=\"visible\" width=\"30\">    <path d=\"M 8 -9 l -6 18 L 8 25\" fill=\"none\" style=\"stroke:rgb(0.0, 138.56128015770724, 250.76166088685727);stroke-width:2\" />  </svg></g><g transform=\"translate(0,0)\">  <svg x=\"81.90586764376266%\" y=\"40\" height=\"18\" overflow=\"visible\" width=\"30\">    <path d=\"M 8 -9 l -6 18 L 8 25\" fill=\"none\" style=\"stroke:rgb(0.0, 138.56128015770724, 250.76166088685727);stroke-width:2\" />  </svg></g><g transform=\"translate(-2,0)\">  <svg x=\"81.90586764376266%\" y=\"40\" height=\"18\" overflow=\"visible\" width=\"30\">    <path d=\"M 8 -9 l -6 18 L 8 25\" fill=\"none\" style=\"stroke:rgb(0.0, 138.56128015770724, 250.76166088685727);stroke-width:2\" />  </svg></g><g transform=\"translate(-4,0)\">  <svg x=\"81.90586764376266%\" y=\"40\" height=\"18\" overflow=\"visible\" width=\"30\">    <path d=\"M 8 -9 l -6 18 L 8 25\" fill=\"none\" style=\"stroke:rgb(0.0, 138.56128015770724, 250.76166088685727);stroke-width:2\" />  </svg></g><g transform=\"translate(-8,0)\">  <svg x=\"83.2017781258754%\" y=\"40\" height=\"18\" overflow=\"visible\" width=\"30\">    <path d=\"M 8 -9 l -6 18 L 8 25\" fill=\"none\" style=\"stroke:rgb(0.0, 138.56128015770724, 250.76166088685727);stroke-width:2\" />  </svg></g><g transform=\"translate(-10,0)\">  <svg x=\"83.2017781258754%\" y=\"40\" height=\"18\" overflow=\"visible\" width=\"30\">    <path d=\"M 8 -9 l -6 18 L 8 25\" fill=\"none\" style=\"stroke:rgb(0.0, 138.56128015770724, 250.76166088685727);stroke-width:2\" />  </svg></g><g transform=\"translate(-12,0)\">  <svg x=\"83.2017781258754%\" y=\"40\" height=\"18\" overflow=\"visible\" width=\"30\">    <path d=\"M 8 -9 l -6 18 L 8 25\" fill=\"none\" style=\"stroke:rgb(0.0, 138.56128015770724, 250.76166088685727);stroke-width:2\" />  </svg></g><g transform=\"translate(-14,0)\">  <svg x=\"83.2017781258754%\" y=\"40\" height=\"18\" overflow=\"visible\" width=\"30\">    <path d=\"M 8 -9 l -6 18 L 8 25\" fill=\"none\" style=\"stroke:rgb(0.0, 138.56128015770724, 250.76166088685727);stroke-width:2\" />  </svg></g><g transform=\"translate(2,0)\">  <svg x=\"83.2017781258754%\" y=\"40\" height=\"18\" overflow=\"visible\" width=\"30\">    <path d=\"M 8 -9 l -6 18 L 8 25\" fill=\"none\" style=\"stroke:rgb(0.0, 138.56128015770724, 250.76166088685727);stroke-width:2\" />  </svg></g><g transform=\"translate(0,0)\">  <svg x=\"83.2017781258754%\" y=\"40\" height=\"18\" overflow=\"visible\" width=\"30\">    <path d=\"M 8 -9 l -6 18 L 8 25\" fill=\"none\" style=\"stroke:rgb(0.0, 138.56128015770724, 250.76166088685727);stroke-width:2\" />  </svg></g><g transform=\"translate(-2,0)\">  <svg x=\"83.2017781258754%\" y=\"40\" height=\"18\" overflow=\"visible\" width=\"30\">    <path d=\"M 8 -9 l -6 18 L 8 25\" fill=\"none\" style=\"stroke:rgb(0.0, 138.56128015770724, 250.76166088685727);stroke-width:2\" />  </svg></g><g transform=\"translate(-4,0)\">  <svg x=\"83.2017781258754%\" y=\"40\" height=\"18\" overflow=\"visible\" width=\"30\">    <path d=\"M 8 -9 l -6 18 L 8 25\" fill=\"none\" style=\"stroke:rgb(0.0, 138.56128015770724, 250.76166088685727);stroke-width:2\" />  </svg></g><g transform=\"translate(-8,0)\">  <svg x=\"84.29195895998822%\" y=\"40\" height=\"18\" overflow=\"visible\" width=\"30\">    <path d=\"M 8 -9 l -6 18 L 8 25\" fill=\"none\" style=\"stroke:rgb(0.0, 138.56128015770724, 250.76166088685727);stroke-width:2\" />  </svg></g><g transform=\"translate(-10,0)\">  <svg x=\"84.29195895998822%\" y=\"40\" height=\"18\" overflow=\"visible\" width=\"30\">    <path d=\"M 8 -9 l -6 18 L 8 25\" fill=\"none\" style=\"stroke:rgb(0.0, 138.56128015770724, 250.76166088685727);stroke-width:2\" />  </svg></g><g transform=\"translate(-12,0)\">  <svg x=\"84.29195895998822%\" y=\"40\" height=\"18\" overflow=\"visible\" width=\"30\">    <path d=\"M 8 -9 l -6 18 L 8 25\" fill=\"none\" style=\"stroke:rgb(0.0, 138.56128015770724, 250.76166088685727);stroke-width:2\" />  </svg></g><g transform=\"translate(-14,0)\">  <svg x=\"84.29195895998822%\" y=\"40\" height=\"18\" overflow=\"visible\" width=\"30\">    <path d=\"M 8 -9 l -6 18 L 8 25\" fill=\"none\" style=\"stroke:rgb(0.0, 138.56128015770724, 250.76166088685727);stroke-width:2\" />  </svg></g><g transform=\"translate(2,0)\">  <svg x=\"84.29195895998822%\" y=\"40\" height=\"18\" overflow=\"visible\" width=\"30\">    <path d=\"M 8 -9 l -6 18 L 8 25\" fill=\"none\" style=\"stroke:rgb(0.0, 138.56128015770724, 250.76166088685727);stroke-width:2\" />  </svg></g><g transform=\"translate(0,0)\">  <svg x=\"84.29195895998822%\" y=\"40\" height=\"18\" overflow=\"visible\" width=\"30\">    <path d=\"M 8 -9 l -6 18 L 8 25\" fill=\"none\" style=\"stroke:rgb(0.0, 138.56128015770724, 250.76166088685727);stroke-width:2\" />  </svg></g><g transform=\"translate(-2,0)\">  <svg x=\"84.29195895998822%\" y=\"40\" height=\"18\" overflow=\"visible\" width=\"30\">    <path d=\"M 8 -9 l -6 18 L 8 25\" fill=\"none\" style=\"stroke:rgb(0.0, 138.56128015770724, 250.76166088685727);stroke-width:2\" />  </svg></g><g transform=\"translate(-4,0)\">  <svg x=\"84.29195895998822%\" y=\"40\" height=\"18\" overflow=\"visible\" width=\"30\">    <path d=\"M 8 -9 l -6 18 L 8 25\" fill=\"none\" style=\"stroke:rgb(0.0, 138.56128015770724, 250.76166088685727);stroke-width:2\" />  </svg></g><g transform=\"translate(-8,0)\">  <svg x=\"85.02787762797404%\" y=\"40\" height=\"18\" overflow=\"visible\" width=\"30\">    <path d=\"M 8 -9 l -6 18 L 8 25\" fill=\"none\" style=\"stroke:rgb(0.0, 138.56128015770724, 250.76166088685727);stroke-width:2\" />  </svg></g><g transform=\"translate(-10,0)\">  <svg x=\"85.02787762797404%\" y=\"40\" height=\"18\" overflow=\"visible\" width=\"30\">    <path d=\"M 8 -9 l -6 18 L 8 25\" fill=\"none\" style=\"stroke:rgb(0.0, 138.56128015770724, 250.76166088685727);stroke-width:2\" />  </svg></g><g transform=\"translate(-12,0)\">  <svg x=\"85.02787762797404%\" y=\"40\" height=\"18\" overflow=\"visible\" width=\"30\">    <path d=\"M 8 -9 l -6 18 L 8 25\" fill=\"none\" style=\"stroke:rgb(0.0, 138.56128015770724, 250.76166088685727);stroke-width:2\" />  </svg></g><g transform=\"translate(-14,0)\">  <svg x=\"85.02787762797404%\" y=\"40\" height=\"18\" overflow=\"visible\" width=\"30\">    <path d=\"M 8 -9 l -6 18 L 8 25\" fill=\"none\" style=\"stroke:rgb(0.0, 138.56128015770724, 250.76166088685727);stroke-width:2\" />  </svg></g><g transform=\"translate(2,0)\">  <svg x=\"85.02787762797404%\" y=\"40\" height=\"18\" overflow=\"visible\" width=\"30\">    <path d=\"M 8 -9 l -6 18 L 8 25\" fill=\"none\" style=\"stroke:rgb(0.0, 138.56128015770724, 250.76166088685727);stroke-width:2\" />  </svg></g><g transform=\"translate(0,0)\">  <svg x=\"85.02787762797404%\" y=\"40\" height=\"18\" overflow=\"visible\" width=\"30\">    <path d=\"M 8 -9 l -6 18 L 8 25\" fill=\"none\" style=\"stroke:rgb(0.0, 138.56128015770724, 250.76166088685727);stroke-width:2\" />  </svg></g><g transform=\"translate(-2,0)\">  <svg x=\"85.02787762797404%\" y=\"40\" height=\"18\" overflow=\"visible\" width=\"30\">    <path d=\"M 8 -9 l -6 18 L 8 25\" fill=\"none\" style=\"stroke:rgb(0.0, 138.56128015770724, 250.76166088685727);stroke-width:2\" />  </svg></g><g transform=\"translate(-4,0)\">  <svg x=\"85.02787762797404%\" y=\"40\" height=\"18\" overflow=\"visible\" width=\"30\">    <path d=\"M 8 -9 l -6 18 L 8 25\" fill=\"none\" style=\"stroke:rgb(0.0, 138.56128015770724, 250.76166088685727);stroke-width:2\" />  </svg></g><g transform=\"translate(-8,0)\">  <svg x=\"85.38619093830616%\" y=\"40\" height=\"18\" overflow=\"visible\" width=\"30\">    <path d=\"M 8 -9 l -6 18 L 8 25\" fill=\"none\" style=\"stroke:rgb(0.0, 138.56128015770724, 250.76166088685727);stroke-width:2\" />  </svg></g><g transform=\"translate(-10,0)\">  <svg x=\"85.38619093830616%\" y=\"40\" height=\"18\" overflow=\"visible\" width=\"30\">    <path d=\"M 8 -9 l -6 18 L 8 25\" fill=\"none\" style=\"stroke:rgb(0.0, 138.56128015770724, 250.76166088685727);stroke-width:2\" />  </svg></g><g transform=\"translate(-12,0)\">  <svg x=\"85.38619093830616%\" y=\"40\" height=\"18\" overflow=\"visible\" width=\"30\">    <path d=\"M 8 -9 l -6 18 L 8 25\" fill=\"none\" style=\"stroke:rgb(0.0, 138.56128015770724, 250.76166088685727);stroke-width:2\" />  </svg></g><g transform=\"translate(-14,0)\">  <svg x=\"85.38619093830616%\" y=\"40\" height=\"18\" overflow=\"visible\" width=\"30\">    <path d=\"M 8 -9 l -6 18 L 8 25\" fill=\"none\" style=\"stroke:rgb(0.0, 138.56128015770724, 250.76166088685727);stroke-width:2\" />  </svg></g><g transform=\"translate(2,0)\">  <svg x=\"85.38619093830616%\" y=\"40\" height=\"18\" overflow=\"visible\" width=\"30\">    <path d=\"M 8 -9 l -6 18 L 8 25\" fill=\"none\" style=\"stroke:rgb(0.0, 138.56128015770724, 250.76166088685727);stroke-width:2\" />  </svg></g><g transform=\"translate(0,0)\">  <svg x=\"85.38619093830616%\" y=\"40\" height=\"18\" overflow=\"visible\" width=\"30\">    <path d=\"M 8 -9 l -6 18 L 8 25\" fill=\"none\" style=\"stroke:rgb(0.0, 138.56128015770724, 250.76166088685727);stroke-width:2\" />  </svg></g><g transform=\"translate(-2,0)\">  <svg x=\"85.38619093830616%\" y=\"40\" height=\"18\" overflow=\"visible\" width=\"30\">    <path d=\"M 8 -9 l -6 18 L 8 25\" fill=\"none\" style=\"stroke:rgb(0.0, 138.56128015770724, 250.76166088685727);stroke-width:2\" />  </svg></g><g transform=\"translate(-4,0)\">  <svg x=\"85.38619093830616%\" y=\"40\" height=\"18\" overflow=\"visible\" width=\"30\">    <path d=\"M 8 -9 l -6 18 L 8 25\" fill=\"none\" style=\"stroke:rgb(0.0, 138.56128015770724, 250.76166088685727);stroke-width:2\" />  </svg></g><g transform=\"translate(-8,0)\">  <svg x=\"85.54184529117643%\" y=\"40\" height=\"18\" overflow=\"visible\" width=\"30\">    <path d=\"M 8 -9 l -6 18 L 8 25\" fill=\"none\" style=\"stroke:rgb(0.0, 138.56128015770724, 250.76166088685727);stroke-width:2\" />  </svg></g><g transform=\"translate(-10,0)\">  <svg x=\"85.54184529117643%\" y=\"40\" height=\"18\" overflow=\"visible\" width=\"30\">    <path d=\"M 8 -9 l -6 18 L 8 25\" fill=\"none\" style=\"stroke:rgb(0.0, 138.56128015770724, 250.76166088685727);stroke-width:2\" />  </svg></g><g transform=\"translate(-12,0)\">  <svg x=\"85.54184529117643%\" y=\"40\" height=\"18\" overflow=\"visible\" width=\"30\">    <path d=\"M 8 -9 l -6 18 L 8 25\" fill=\"none\" style=\"stroke:rgb(0.0, 138.56128015770724, 250.76166088685727);stroke-width:2\" />  </svg></g><g transform=\"translate(-14,0)\">  <svg x=\"85.54184529117643%\" y=\"40\" height=\"18\" overflow=\"visible\" width=\"30\">    <path d=\"M 8 -9 l -6 18 L 8 25\" fill=\"none\" style=\"stroke:rgb(0.0, 138.56128015770724, 250.76166088685727);stroke-width:2\" />  </svg></g><g transform=\"translate(2,0)\">  <svg x=\"85.54184529117643%\" y=\"40\" height=\"18\" overflow=\"visible\" width=\"30\">    <path d=\"M 8 -9 l -6 18 L 8 25\" fill=\"none\" style=\"stroke:rgb(0.0, 138.56128015770724, 250.76166088685727);stroke-width:2\" />  </svg></g><g transform=\"translate(0,0)\">  <svg x=\"85.54184529117643%\" y=\"40\" height=\"18\" overflow=\"visible\" width=\"30\">    <path d=\"M 8 -9 l -6 18 L 8 25\" fill=\"none\" style=\"stroke:rgb(0.0, 138.56128015770724, 250.76166088685727);stroke-width:2\" />  </svg></g><g transform=\"translate(-2,0)\">  <svg x=\"85.54184529117643%\" y=\"40\" height=\"18\" overflow=\"visible\" width=\"30\">    <path d=\"M 8 -9 l -6 18 L 8 25\" fill=\"none\" style=\"stroke:rgb(0.0, 138.56128015770724, 250.76166088685727);stroke-width:2\" />  </svg></g><g transform=\"translate(-4,0)\">  <svg x=\"85.54184529117643%\" y=\"40\" height=\"18\" overflow=\"visible\" width=\"30\">    <path d=\"M 8 -9 l -6 18 L 8 25\" fill=\"none\" style=\"stroke:rgb(0.0, 138.56128015770724, 250.76166088685727);stroke-width:2\" />  </svg></g><g transform=\"translate(-8,0)\">  <svg x=\"85.67982483504528%\" y=\"40\" height=\"18\" overflow=\"visible\" width=\"30\">    <path d=\"M 8 -9 l -6 18 L 8 25\" fill=\"none\" style=\"stroke:rgb(0.0, 138.56128015770724, 250.76166088685727);stroke-width:2\" />  </svg></g><g transform=\"translate(-10,0)\">  <svg x=\"85.67982483504528%\" y=\"40\" height=\"18\" overflow=\"visible\" width=\"30\">    <path d=\"M 8 -9 l -6 18 L 8 25\" fill=\"none\" style=\"stroke:rgb(0.0, 138.56128015770724, 250.76166088685727);stroke-width:2\" />  </svg></g><g transform=\"translate(-12,0)\">  <svg x=\"85.67982483504528%\" y=\"40\" height=\"18\" overflow=\"visible\" width=\"30\">    <path d=\"M 8 -9 l -6 18 L 8 25\" fill=\"none\" style=\"stroke:rgb(0.0, 138.56128015770724, 250.76166088685727);stroke-width:2\" />  </svg></g><g transform=\"translate(-14,0)\">  <svg x=\"85.67982483504528%\" y=\"40\" height=\"18\" overflow=\"visible\" width=\"30\">    <path d=\"M 8 -9 l -6 18 L 8 25\" fill=\"none\" style=\"stroke:rgb(0.0, 138.56128015770724, 250.76166088685727);stroke-width:2\" />  </svg></g><g transform=\"translate(2,0)\">  <svg x=\"85.67982483504528%\" y=\"40\" height=\"18\" overflow=\"visible\" width=\"30\">    <path d=\"M 8 -9 l -6 18 L 8 25\" fill=\"none\" style=\"stroke:rgb(0.0, 138.56128015770724, 250.76166088685727);stroke-width:2\" />  </svg></g><g transform=\"translate(0,0)\">  <svg x=\"85.67982483504528%\" y=\"40\" height=\"18\" overflow=\"visible\" width=\"30\">    <path d=\"M 8 -9 l -6 18 L 8 25\" fill=\"none\" style=\"stroke:rgb(0.0, 138.56128015770724, 250.76166088685727);stroke-width:2\" />  </svg></g><g transform=\"translate(-2,0)\">  <svg x=\"85.67982483504528%\" y=\"40\" height=\"18\" overflow=\"visible\" width=\"30\">    <path d=\"M 8 -9 l -6 18 L 8 25\" fill=\"none\" style=\"stroke:rgb(0.0, 138.56128015770724, 250.76166088685727);stroke-width:2\" />  </svg></g><g transform=\"translate(-4,0)\">  <svg x=\"85.67982483504528%\" y=\"40\" height=\"18\" overflow=\"visible\" width=\"30\">    <path d=\"M 8 -9 l -6 18 L 8 25\" fill=\"none\" style=\"stroke:rgb(0.0, 138.56128015770724, 250.76166088685727);stroke-width:2\" />  </svg></g><rect transform=\"translate(0,0)\" x=\"15.72832942966833%\" y=\"40\" width=\"8\" height=\"18\" style=\"fill:rgb(0.0, 138.56128015770724, 250.76166088685727)\"/><g transform=\"translate(-6.0,0)\">  <svg x=\"85.68019570211631%\" y=\"40\" height=\"18\" overflow=\"visible\" width=\"30\">    <path d=\"M 8 -9 l -6 18 L 8 25 L 20 25 L 20 -9\" fill=\"#ffffff\" style=\"stroke:rgb(255,255,255);stroke-width:2\" />  </svg></g><g transform=\"translate(-6.0,0)\">  <svg x=\"31.704246761311342%\" y=\"40\" height=\"18\" overflow=\"visible\" width=\"30\">    <path d=\"M 8 -9 l -6 18 L 8 25\" fill=\"none\" style=\"stroke:rgb(208, 230, 250);stroke-width:2\" />  </svg></g><rect x=\"15.72832942966833%\" y=\"40\" height=\"20\" width=\"15.975917331643013%\"      onmouseover=\"document.getElementById('_tp_zteofhwsaisyizrdtgqq_ind_5').style.textDecoration = 'underline';document.getElementById('_fs_zteofhwsaisyizrdtgqq_ind_5').style.opacity = 1;document.getElementById('_fb_zteofhwsaisyizrdtgqq_ind_5').style.opacity = 1;\"      onmouseout=\"document.getElementById('_tp_zteofhwsaisyizrdtgqq_ind_5').style.textDecoration = 'none';document.getElementById('_fs_zteofhwsaisyizrdtgqq_ind_5').style.opacity = 0;document.getElementById('_fb_zteofhwsaisyizrdtgqq_ind_5').style.opacity = 0;\" style=\"fill:rgb(0,0,0,0)\" /><g transform=\"translate(-6.0,0)\">  <svg x=\"46.04657209765316%\" y=\"40\" height=\"18\" overflow=\"visible\" width=\"30\">    <path d=\"M 8 -9 l -6 18 L 8 25\" fill=\"none\" style=\"stroke:rgb(208, 230, 250);stroke-width:2\" />  </svg></g><rect x=\"31.704246761311342%\" y=\"40\" height=\"20\" width=\"14.342325336341819%\"      onmouseover=\"document.getElementById('_tp_zteofhwsaisyizrdtgqq_ind_8').style.textDecoration = 'underline';document.getElementById('_fs_zteofhwsaisyizrdtgqq_ind_8').style.opacity = 1;document.getElementById('_fb_zteofhwsaisyizrdtgqq_ind_8').style.opacity = 1;\"      onmouseout=\"document.getElementById('_tp_zteofhwsaisyizrdtgqq_ind_8').style.textDecoration = 'none';document.getElementById('_fs_zteofhwsaisyizrdtgqq_ind_8').style.opacity = 0;document.getElementById('_fb_zteofhwsaisyizrdtgqq_ind_8').style.opacity = 0;\" style=\"fill:rgb(0,0,0,0)\" /><g transform=\"translate(-6.0,0)\">  <svg x=\"53.42009889976239%\" y=\"40\" height=\"18\" overflow=\"visible\" width=\"30\">    <path d=\"M 8 -9 l -6 18 L 8 25\" fill=\"none\" style=\"stroke:rgb(208, 230, 250);stroke-width:2\" />  </svg></g><rect x=\"46.04657209765316%\" y=\"40\" height=\"20\" width=\"7.373526802109225%\"      onmouseover=\"document.getElementById('_tp_zteofhwsaisyizrdtgqq_ind_17').style.textDecoration = 'underline';document.getElementById('_fs_zteofhwsaisyizrdtgqq_ind_17').style.opacity = 1;document.getElementById('_fb_zteofhwsaisyizrdtgqq_ind_17').style.opacity = 1;\"      onmouseout=\"document.getElementById('_tp_zteofhwsaisyizrdtgqq_ind_17').style.textDecoration = 'none';document.getElementById('_fs_zteofhwsaisyizrdtgqq_ind_17').style.opacity = 0;document.getElementById('_fb_zteofhwsaisyizrdtgqq_ind_17').style.opacity = 0;\" style=\"fill:rgb(0,0,0,0)\" /><g transform=\"translate(-6.0,0)\">  <svg x=\"59.40604021871593%\" y=\"40\" height=\"18\" overflow=\"visible\" width=\"30\">    <path d=\"M 8 -9 l -6 18 L 8 25\" fill=\"none\" style=\"stroke:rgb(208, 230, 250);stroke-width:2\" />  </svg></g><rect x=\"53.42009889976239%\" y=\"40\" height=\"20\" width=\"5.985941318953543%\"      onmouseover=\"document.getElementById('_tp_zteofhwsaisyizrdtgqq_ind_4').style.textDecoration = 'underline';document.getElementById('_fs_zteofhwsaisyizrdtgqq_ind_4').style.opacity = 1;document.getElementById('_fb_zteofhwsaisyizrdtgqq_ind_4').style.opacity = 1;\"      onmouseout=\"document.getElementById('_tp_zteofhwsaisyizrdtgqq_ind_4').style.textDecoration = 'none';document.getElementById('_fs_zteofhwsaisyizrdtgqq_ind_4').style.opacity = 0;document.getElementById('_fb_zteofhwsaisyizrdtgqq_ind_4').style.opacity = 0;\" style=\"fill:rgb(0,0,0,0)\" /><g transform=\"translate(-6.0,0)\">  <svg x=\"64.89611484329302%\" y=\"40\" height=\"18\" overflow=\"visible\" width=\"30\">    <path d=\"M 8 -9 l -6 18 L 8 25\" fill=\"none\" style=\"stroke:rgb(208, 230, 250);stroke-width:2\" />  </svg></g><rect x=\"59.40604021871593%\" y=\"40\" height=\"20\" width=\"5.49007462457709%\"      onmouseover=\"document.getElementById('_tp_zteofhwsaisyizrdtgqq_ind_7').style.textDecoration = 'underline';document.getElementById('_fs_zteofhwsaisyizrdtgqq_ind_7').style.opacity = 1;document.getElementById('_fb_zteofhwsaisyizrdtgqq_ind_7').style.opacity = 1;\"      onmouseout=\"document.getElementById('_tp_zteofhwsaisyizrdtgqq_ind_7').style.textDecoration = 'none';document.getElementById('_fs_zteofhwsaisyizrdtgqq_ind_7').style.opacity = 0;document.getElementById('_fb_zteofhwsaisyizrdtgqq_ind_7').style.opacity = 0;\" style=\"fill:rgb(0,0,0,0)\" /><g transform=\"translate(-6.0,0)\">  <svg x=\"69.20552129544144%\" y=\"40\" height=\"18\" overflow=\"visible\" width=\"30\">    <path d=\"M 8 -9 l -6 18 L 8 25\" fill=\"none\" style=\"stroke:rgb(208, 230, 250);stroke-width:2\" />  </svg></g><rect x=\"64.89611484329302%\" y=\"40\" height=\"20\" width=\"4.309406452148423%\"      onmouseover=\"document.getElementById('_tp_zteofhwsaisyizrdtgqq_ind_6').style.textDecoration = 'underline';document.getElementById('_fs_zteofhwsaisyizrdtgqq_ind_6').style.opacity = 1;document.getElementById('_fb_zteofhwsaisyizrdtgqq_ind_6').style.opacity = 1;\"      onmouseout=\"document.getElementById('_tp_zteofhwsaisyizrdtgqq_ind_6').style.textDecoration = 'none';document.getElementById('_fs_zteofhwsaisyizrdtgqq_ind_6').style.opacity = 0;document.getElementById('_fb_zteofhwsaisyizrdtgqq_ind_6').style.opacity = 0;\" style=\"fill:rgb(0,0,0,0)\" /><g transform=\"translate(-6.0,0)\">  <svg x=\"72.45836836607582%\" y=\"40\" height=\"18\" overflow=\"visible\" width=\"30\">    <path d=\"M 8 -9 l -6 18 L 8 25\" fill=\"none\" style=\"stroke:rgb(208, 230, 250);stroke-width:2\" />  </svg></g><rect x=\"69.20552129544144%\" y=\"40\" height=\"20\" width=\"3.252847070634374%\"      onmouseover=\"document.getElementById('_tp_zteofhwsaisyizrdtgqq_ind_1').style.textDecoration = 'underline';document.getElementById('_fs_zteofhwsaisyizrdtgqq_ind_1').style.opacity = 1;document.getElementById('_fb_zteofhwsaisyizrdtgqq_ind_1').style.opacity = 1;\"      onmouseout=\"document.getElementById('_tp_zteofhwsaisyizrdtgqq_ind_1').style.textDecoration = 'none';document.getElementById('_fs_zteofhwsaisyizrdtgqq_ind_1').style.opacity = 0;document.getElementById('_fb_zteofhwsaisyizrdtgqq_ind_1').style.opacity = 0;\" style=\"fill:rgb(0,0,0,0)\" /><g transform=\"translate(-6.0,0)\">  <svg x=\"75.14158530575028%\" y=\"40\" height=\"18\" overflow=\"visible\" width=\"30\">    <path d=\"M 8 -9 l -6 18 L 8 25\" fill=\"none\" style=\"stroke:rgb(208, 230, 250);stroke-width:2\" />  </svg></g><rect x=\"72.45836836607582%\" y=\"40\" height=\"20\" width=\"2.683216939674466%\"      onmouseover=\"document.getElementById('_tp_zteofhwsaisyizrdtgqq_ind_19').style.textDecoration = 'underline';document.getElementById('_fs_zteofhwsaisyizrdtgqq_ind_19').style.opacity = 1;document.getElementById('_fb_zteofhwsaisyizrdtgqq_ind_19').style.opacity = 1;\"      onmouseout=\"document.getElementById('_tp_zteofhwsaisyizrdtgqq_ind_19').style.textDecoration = 'none';document.getElementById('_fs_zteofhwsaisyizrdtgqq_ind_19').style.opacity = 0;document.getElementById('_fb_zteofhwsaisyizrdtgqq_ind_19').style.opacity = 0;\" style=\"fill:rgb(0,0,0,0)\" /><g transform=\"translate(-6.0,0)\">  <svg x=\"77.7129611018866%\" y=\"40\" height=\"18\" overflow=\"visible\" width=\"30\">    <path d=\"M 8 -9 l -6 18 L 8 25\" fill=\"none\" style=\"stroke:rgb(208, 230, 250);stroke-width:2\" />  </svg></g><rect x=\"75.14158530575028%\" y=\"40\" height=\"20\" width=\"2.571375796136323%\"      onmouseover=\"document.getElementById('_tp_zteofhwsaisyizrdtgqq_ind_23').style.textDecoration = 'underline';document.getElementById('_fs_zteofhwsaisyizrdtgqq_ind_23').style.opacity = 1;document.getElementById('_fb_zteofhwsaisyizrdtgqq_ind_23').style.opacity = 1;\"      onmouseout=\"document.getElementById('_tp_zteofhwsaisyizrdtgqq_ind_23').style.textDecoration = 'none';document.getElementById('_fs_zteofhwsaisyizrdtgqq_ind_23').style.opacity = 0;document.getElementById('_fb_zteofhwsaisyizrdtgqq_ind_23').style.opacity = 0;\" style=\"fill:rgb(0,0,0,0)\" /><g transform=\"translate(-6.0,0)\">  <svg x=\"80.14631124127854%\" y=\"40\" height=\"18\" overflow=\"visible\" width=\"30\">    <path d=\"M 8 -9 l -6 18 L 8 25\" fill=\"none\" style=\"stroke:rgb(208, 230, 250);stroke-width:2\" />  </svg></g><rect x=\"77.7129611018866%\" y=\"40\" height=\"20\" width=\"2.4333501393919335%\"      onmouseover=\"document.getElementById('_tp_zteofhwsaisyizrdtgqq_ind_12').style.textDecoration = 'underline';document.getElementById('_fs_zteofhwsaisyizrdtgqq_ind_12').style.opacity = 1;document.getElementById('_fb_zteofhwsaisyizrdtgqq_ind_12').style.opacity = 1;\"      onmouseout=\"document.getElementById('_tp_zteofhwsaisyizrdtgqq_ind_12').style.textDecoration = 'none';document.getElementById('_fs_zteofhwsaisyizrdtgqq_ind_12').style.opacity = 0;document.getElementById('_fb_zteofhwsaisyizrdtgqq_ind_12').style.opacity = 0;\" style=\"fill:rgb(0,0,0,0)\" /><g transform=\"translate(-6.0,0)\">  <svg x=\"81.90586764376266%\" y=\"40\" height=\"18\" overflow=\"visible\" width=\"30\">    <path d=\"M 8 -9 l -6 18 L 8 25\" fill=\"none\" style=\"stroke:rgb(208, 230, 250);stroke-width:2\" />  </svg></g><rect x=\"80.14631124127854%\" y=\"40\" height=\"20\" width=\"1.7595564024841224%\"      onmouseover=\"document.getElementById('_tp_zteofhwsaisyizrdtgqq_ind_11').style.textDecoration = 'underline';document.getElementById('_fs_zteofhwsaisyizrdtgqq_ind_11').style.opacity = 1;document.getElementById('_fb_zteofhwsaisyizrdtgqq_ind_11').style.opacity = 1;\"      onmouseout=\"document.getElementById('_tp_zteofhwsaisyizrdtgqq_ind_11').style.textDecoration = 'none';document.getElementById('_fs_zteofhwsaisyizrdtgqq_ind_11').style.opacity = 0;document.getElementById('_fb_zteofhwsaisyizrdtgqq_ind_11').style.opacity = 0;\" style=\"fill:rgb(0,0,0,0)\" /><g transform=\"translate(-6.0,0)\">  <svg x=\"83.2017781258754%\" y=\"40\" height=\"18\" overflow=\"visible\" width=\"30\">    <path d=\"M 8 -9 l -6 18 L 8 25\" fill=\"none\" style=\"stroke:rgb(208, 230, 250);stroke-width:2\" />  </svg></g><rect x=\"81.90586764376266%\" y=\"40\" height=\"20\" width=\"1.2959104821127454%\"      onmouseover=\"document.getElementById('_tp_zteofhwsaisyizrdtgqq_ind_21').style.textDecoration = 'underline';document.getElementById('_fs_zteofhwsaisyizrdtgqq_ind_21').style.opacity = 1;document.getElementById('_fb_zteofhwsaisyizrdtgqq_ind_21').style.opacity = 1;\"      onmouseout=\"document.getElementById('_tp_zteofhwsaisyizrdtgqq_ind_21').style.textDecoration = 'none';document.getElementById('_fs_zteofhwsaisyizrdtgqq_ind_21').style.opacity = 0;document.getElementById('_fb_zteofhwsaisyizrdtgqq_ind_21').style.opacity = 0;\" style=\"fill:rgb(0,0,0,0)\" /><g transform=\"translate(-6.0,0)\">  <svg x=\"84.29195895998822%\" y=\"40\" height=\"18\" overflow=\"visible\" width=\"30\">    <path d=\"M 8 -9 l -6 18 L 8 25\" fill=\"none\" style=\"stroke:rgb(208, 230, 250);stroke-width:2\" />  </svg></g><rect x=\"83.2017781258754%\" y=\"40\" height=\"20\" width=\"1.0901808341128145%\"      onmouseover=\"document.getElementById('_tp_zteofhwsaisyizrdtgqq_ind_16').style.textDecoration = 'underline';document.getElementById('_fs_zteofhwsaisyizrdtgqq_ind_16').style.opacity = 1;document.getElementById('_fb_zteofhwsaisyizrdtgqq_ind_16').style.opacity = 1;\"      onmouseout=\"document.getElementById('_tp_zteofhwsaisyizrdtgqq_ind_16').style.textDecoration = 'none';document.getElementById('_fs_zteofhwsaisyizrdtgqq_ind_16').style.opacity = 0;document.getElementById('_fb_zteofhwsaisyizrdtgqq_ind_16').style.opacity = 0;\" style=\"fill:rgb(0,0,0,0)\" /><g transform=\"translate(-6.0,0)\">  <svg x=\"85.02787762797404%\" y=\"40\" height=\"18\" overflow=\"visible\" width=\"30\">    <path d=\"M 8 -9 l -6 18 L 8 25\" fill=\"none\" style=\"stroke:rgb(208, 230, 250);stroke-width:2\" />  </svg></g><rect x=\"84.29195895998822%\" y=\"40\" height=\"20\" width=\"0.7359186679858141%\"      onmouseover=\"document.getElementById('_tp_zteofhwsaisyizrdtgqq_ind_10').style.textDecoration = 'underline';document.getElementById('_fs_zteofhwsaisyizrdtgqq_ind_10').style.opacity = 1;document.getElementById('_fb_zteofhwsaisyizrdtgqq_ind_10').style.opacity = 1;\"      onmouseout=\"document.getElementById('_tp_zteofhwsaisyizrdtgqq_ind_10').style.textDecoration = 'none';document.getElementById('_fs_zteofhwsaisyizrdtgqq_ind_10').style.opacity = 0;document.getElementById('_fb_zteofhwsaisyizrdtgqq_ind_10').style.opacity = 0;\" style=\"fill:rgb(0,0,0,0)\" /><g transform=\"translate(-6.0,0)\">  <svg x=\"85.38619093830616%\" y=\"40\" height=\"18\" overflow=\"visible\" width=\"30\">    <path d=\"M 8 -9 l -6 18 L 8 25\" fill=\"none\" style=\"stroke:rgb(208, 230, 250);stroke-width:2\" />  </svg></g><rect x=\"85.02787762797404%\" y=\"40\" height=\"20\" width=\"0.35831331033212166%\"      onmouseover=\"document.getElementById('_tp_zteofhwsaisyizrdtgqq_ind_14').style.textDecoration = 'underline';document.getElementById('_fs_zteofhwsaisyizrdtgqq_ind_14').style.opacity = 1;document.getElementById('_fb_zteofhwsaisyizrdtgqq_ind_14').style.opacity = 1;\"      onmouseout=\"document.getElementById('_tp_zteofhwsaisyizrdtgqq_ind_14').style.textDecoration = 'none';document.getElementById('_fs_zteofhwsaisyizrdtgqq_ind_14').style.opacity = 0;document.getElementById('_fb_zteofhwsaisyizrdtgqq_ind_14').style.opacity = 0;\" style=\"fill:rgb(0,0,0,0)\" /><g transform=\"translate(-6.0,0)\">  <svg x=\"85.54184529117643%\" y=\"40\" height=\"18\" overflow=\"visible\" width=\"30\">    <path d=\"M 8 -9 l -6 18 L 8 25\" fill=\"none\" style=\"stroke:rgb(208, 230, 250);stroke-width:2\" />  </svg></g><rect x=\"85.38619093830616%\" y=\"40\" height=\"20\" width=\"0.15565435287027185%\"      onmouseover=\"document.getElementById('_tp_zteofhwsaisyizrdtgqq_ind_22').style.textDecoration = 'underline';document.getElementById('_fs_zteofhwsaisyizrdtgqq_ind_22').style.opacity = 1;document.getElementById('_fb_zteofhwsaisyizrdtgqq_ind_22').style.opacity = 1;\"      onmouseout=\"document.getElementById('_tp_zteofhwsaisyizrdtgqq_ind_22').style.textDecoration = 'none';document.getElementById('_fs_zteofhwsaisyizrdtgqq_ind_22').style.opacity = 0;document.getElementById('_fb_zteofhwsaisyizrdtgqq_ind_22').style.opacity = 0;\" style=\"fill:rgb(0,0,0,0)\" /><g transform=\"translate(-6.0,0)\">  <svg x=\"85.67982483504528%\" y=\"40\" height=\"18\" overflow=\"visible\" width=\"30\">    <path d=\"M 8 -9 l -6 18 L 8 25\" fill=\"none\" style=\"stroke:rgb(208, 230, 250);stroke-width:2\" />  </svg></g><rect x=\"85.54184529117643%\" y=\"40\" height=\"20\" width=\"0.1379795438688518%\"      onmouseover=\"document.getElementById('_tp_zteofhwsaisyizrdtgqq_ind_20').style.textDecoration = 'underline';document.getElementById('_fs_zteofhwsaisyizrdtgqq_ind_20').style.opacity = 1;document.getElementById('_fb_zteofhwsaisyizrdtgqq_ind_20').style.opacity = 1;\"      onmouseout=\"document.getElementById('_tp_zteofhwsaisyizrdtgqq_ind_20').style.textDecoration = 'none';document.getElementById('_fs_zteofhwsaisyizrdtgqq_ind_20').style.opacity = 0;document.getElementById('_fb_zteofhwsaisyizrdtgqq_ind_20').style.opacity = 0;\" style=\"fill:rgb(0,0,0,0)\" /><rect x=\"85.67982483504528%\" y=\"40\" height=\"20\" width=\"0.000370867071026737%\"      onmouseover=\"document.getElementById('_tp_zteofhwsaisyizrdtgqq_ind_0').style.textDecoration = 'underline';document.getElementById('_fs_zteofhwsaisyizrdtgqq_ind_0').style.opacity = 1;document.getElementById('_fb_zteofhwsaisyizrdtgqq_ind_0').style.opacity = 1;\"      onmouseout=\"document.getElementById('_tp_zteofhwsaisyizrdtgqq_ind_0').style.textDecoration = 'none';document.getElementById('_fs_zteofhwsaisyizrdtgqq_ind_0').style.opacity = 0;document.getElementById('_fb_zteofhwsaisyizrdtgqq_ind_0').style.opacity = 0;\" style=\"fill:rgb(0,0,0,0)\" /></svg><div align='center'><div style=\"color: rgb(120,120,120); font-size: 12px; margin-top: -15px;\">inputs</div><div style='display: inline; text-align: center;'\n",
       "    ><div style='display: none; color: #999; padding-top: 0px; font-size: 12px;'>-0.0</div\n",
       "        ><div id='_tp_zteofhwsaisyizrdtgqq_ind_0'\n",
       "            style='display: inline; background: rgba(54.70588235294111, 122.49411764705886, 213.40784313725496, 0.0); border-radius: 3px; padding: 0px'\n",
       "            onclick=\"\n",
       "            if (this.previousSibling.style.display == 'none') {\n",
       "                this.previousSibling.style.display = 'block';\n",
       "                this.parentNode.style.display = 'inline-block';\n",
       "            } else {\n",
       "                this.previousSibling.style.display = 'none';\n",
       "                this.parentNode.style.display = 'inline';\n",
       "            }\"\n",
       "            onmouseover=\"document.getElementById('_fb_zteofhwsaisyizrdtgqq_ind_0').style.opacity = 1; document.getElementById('_fs_zteofhwsaisyizrdtgqq_ind_0').style.opacity = 1;\"\n",
       "            onmouseout=\"document.getElementById('_fb_zteofhwsaisyizrdtgqq_ind_0').style.opacity = 0; document.getElementById('_fs_zteofhwsaisyizrdtgqq_ind_0').style.opacity = 0;\"\n",
       "        ></div></div><div style='display: inline; text-align: center;'\n",
       "    ><div style='display: none; color: #999; padding-top: 0px; font-size: 12px;'>-0.035</div\n",
       "        ><div id='_tp_zteofhwsaisyizrdtgqq_ind_1'\n",
       "            style='display: inline; background: rgba(30.0, 136.0, 229.0, 0.2038423450188156); border-radius: 3px; padding: 0px'\n",
       "            onclick=\"\n",
       "            if (this.previousSibling.style.display == 'none') {\n",
       "                this.previousSibling.style.display = 'block';\n",
       "                this.parentNode.style.display = 'inline-block';\n",
       "            } else {\n",
       "                this.previousSibling.style.display = 'none';\n",
       "                this.parentNode.style.display = 'inline';\n",
       "            }\"\n",
       "            onmouseover=\"document.getElementById('_fb_zteofhwsaisyizrdtgqq_ind_1').style.opacity = 1; document.getElementById('_fs_zteofhwsaisyizrdtgqq_ind_1').style.opacity = 1;\"\n",
       "            onmouseout=\"document.getElementById('_fb_zteofhwsaisyizrdtgqq_ind_1').style.opacity = 0; document.getElementById('_fs_zteofhwsaisyizrdtgqq_ind_1').style.opacity = 0;\"\n",
       "        >YOU </div></div><div style='display: inline; text-align: center;'\n",
       "    ><div style='display: none; color: #999; padding-top: 0px; font-size: 12px;'>0.007</div\n",
       "        ><div id='_tp_zteofhwsaisyizrdtgqq_ind_2'\n",
       "            style='display: inline; background: rgba(255.0, 13.0, 87.0, 0.03830461477520289); border-radius: 3px; padding: 0px'\n",
       "            onclick=\"\n",
       "            if (this.previousSibling.style.display == 'none') {\n",
       "                this.previousSibling.style.display = 'block';\n",
       "                this.parentNode.style.display = 'inline-block';\n",
       "            } else {\n",
       "                this.previousSibling.style.display = 'none';\n",
       "                this.parentNode.style.display = 'inline';\n",
       "            }\"\n",
       "            onmouseover=\"document.getElementById('_fb_zteofhwsaisyizrdtgqq_ind_2').style.opacity = 1; document.getElementById('_fs_zteofhwsaisyizrdtgqq_ind_2').style.opacity = 1;\"\n",
       "            onmouseout=\"document.getElementById('_fb_zteofhwsaisyizrdtgqq_ind_2').style.opacity = 0; document.getElementById('_fs_zteofhwsaisyizrdtgqq_ind_2').style.opacity = 0;\"\n",
       "        >BET</div></div><div style='display: inline; text-align: center;'\n",
       "    ><div style='display: none; color: #999; padding-top: 0px; font-size: 12px;'>0.002</div\n",
       "        ><div id='_tp_zteofhwsaisyizrdtgqq_ind_3'\n",
       "            style='display: inline; background: rgba(255.0, 13.0, 87.0, 0.00677361853832443); border-radius: 3px; padding: 0px'\n",
       "            onclick=\"\n",
       "            if (this.previousSibling.style.display == 'none') {\n",
       "                this.previousSibling.style.display = 'block';\n",
       "                this.parentNode.style.display = 'inline-block';\n",
       "            } else {\n",
       "                this.previousSibling.style.display = 'none';\n",
       "                this.parentNode.style.display = 'inline';\n",
       "            }\"\n",
       "            onmouseover=\"document.getElementById('_fb_zteofhwsaisyizrdtgqq_ind_3').style.opacity = 1; document.getElementById('_fs_zteofhwsaisyizrdtgqq_ind_3').style.opacity = 1;\"\n",
       "            onmouseout=\"document.getElementById('_fb_zteofhwsaisyizrdtgqq_ind_3').style.opacity = 0; document.getElementById('_fs_zteofhwsaisyizrdtgqq_ind_3').style.opacity = 0;\"\n",
       "        >TER </div></div><div style='display: inline; text-align: center;'\n",
       "    ><div style='display: none; color: #999; padding-top: 0px; font-size: 12px;'>-0.065</div\n",
       "        ><div id='_tp_zteofhwsaisyizrdtgqq_ind_4'\n",
       "            style='display: inline; background: rgba(30.0, 136.0, 229.0, 0.36938007526242816); border-radius: 3px; padding: 0px'\n",
       "            onclick=\"\n",
       "            if (this.previousSibling.style.display == 'none') {\n",
       "                this.previousSibling.style.display = 'block';\n",
       "                this.parentNode.style.display = 'inline-block';\n",
       "            } else {\n",
       "                this.previousSibling.style.display = 'none';\n",
       "                this.parentNode.style.display = 'inline';\n",
       "            }\"\n",
       "            onmouseover=\"document.getElementById('_fb_zteofhwsaisyizrdtgqq_ind_4').style.opacity = 1; document.getElementById('_fs_zteofhwsaisyizrdtgqq_ind_4').style.opacity = 1;\"\n",
       "            onmouseout=\"document.getElementById('_fb_zteofhwsaisyizrdtgqq_ind_4').style.opacity = 0; document.getElementById('_fs_zteofhwsaisyizrdtgqq_ind_4').style.opacity = 0;\"\n",
       "        >S</div></div><div style='display: inline; text-align: center;'\n",
       "    ><div style='display: none; color: #999; padding-top: 0px; font-size: 12px;'>-0.174</div\n",
       "        ><div id='_tp_zteofhwsaisyizrdtgqq_ind_5'\n",
       "            style='display: inline; background: rgba(30.0, 136.0, 229.0, 1.0); border-radius: 3px; padding: 0px'\n",
       "            onclick=\"\n",
       "            if (this.previousSibling.style.display == 'none') {\n",
       "                this.previousSibling.style.display = 'block';\n",
       "                this.parentNode.style.display = 'inline-block';\n",
       "            } else {\n",
       "                this.previousSibling.style.display = 'none';\n",
       "                this.parentNode.style.display = 'inline';\n",
       "            }\"\n",
       "            onmouseover=\"document.getElementById('_fb_zteofhwsaisyizrdtgqq_ind_5').style.opacity = 1; document.getElementById('_fs_zteofhwsaisyizrdtgqq_ind_5').style.opacity = 1;\"\n",
       "            onmouseout=\"document.getElementById('_fb_zteofhwsaisyizrdtgqq_ind_5').style.opacity = 0; document.getElementById('_fs_zteofhwsaisyizrdtgqq_ind_5').style.opacity = 0;\"\n",
       "        >UCK </div></div><div style='display: inline; text-align: center;'\n",
       "    ><div style='display: none; color: #999; padding-top: 0px; font-size: 12px;'>-0.047</div\n",
       "        ><div id='_tp_zteofhwsaisyizrdtgqq_ind_6'\n",
       "            style='display: inline; background: rgba(30.0, 136.0, 229.0, 0.2669043374925727); border-radius: 3px; padding: 0px'\n",
       "            onclick=\"\n",
       "            if (this.previousSibling.style.display == 'none') {\n",
       "                this.previousSibling.style.display = 'block';\n",
       "                this.parentNode.style.display = 'inline-block';\n",
       "            } else {\n",
       "                this.previousSibling.style.display = 'none';\n",
       "                this.parentNode.style.display = 'inline';\n",
       "            }\"\n",
       "            onmouseover=\"document.getElementById('_fb_zteofhwsaisyizrdtgqq_ind_6').style.opacity = 1; document.getElementById('_fs_zteofhwsaisyizrdtgqq_ind_6').style.opacity = 1;\"\n",
       "            onmouseout=\"document.getElementById('_fb_zteofhwsaisyizrdtgqq_ind_6').style.opacity = 0; document.getElementById('_fs_zteofhwsaisyizrdtgqq_ind_6').style.opacity = 0;\"\n",
       "        >HIS </div></div><div style='display: inline; text-align: center;'\n",
       "    ><div style='display: none; color: #999; padding-top: 0px; font-size: 12px;'>-0.06</div\n",
       "        ><div id='_tp_zteofhwsaisyizrdtgqq_ind_7'\n",
       "            style='display: inline; background: rgba(30.0, 136.0, 229.0, 0.33784907902554956); border-radius: 3px; padding: 0px'\n",
       "            onclick=\"\n",
       "            if (this.previousSibling.style.display == 'none') {\n",
       "                this.previousSibling.style.display = 'block';\n",
       "                this.parentNode.style.display = 'inline-block';\n",
       "            } else {\n",
       "                this.previousSibling.style.display = 'none';\n",
       "                this.parentNode.style.display = 'inline';\n",
       "            }\"\n",
       "            onmouseover=\"document.getElementById('_fb_zteofhwsaisyizrdtgqq_ind_7').style.opacity = 1; document.getElementById('_fs_zteofhwsaisyizrdtgqq_ind_7').style.opacity = 1;\"\n",
       "            onmouseout=\"document.getElementById('_fb_zteofhwsaisyizrdtgqq_ind_7').style.opacity = 0; document.getElementById('_fs_zteofhwsaisyizrdtgqq_ind_7').style.opacity = 0;\"\n",
       "        >D</div></div><div style='display: inline; text-align: center;'\n",
       "    ><div style='display: none; color: #999; padding-top: 0px; font-size: 12px;'>-0.156</div\n",
       "        ><div id='_tp_zteofhwsaisyizrdtgqq_ind_8'\n",
       "            style='display: inline; background: rgba(30.0, 136.0, 229.0, 0.8975242622301446); border-radius: 3px; padding: 0px'\n",
       "            onclick=\"\n",
       "            if (this.previousSibling.style.display == 'none') {\n",
       "                this.previousSibling.style.display = 'block';\n",
       "                this.parentNode.style.display = 'inline-block';\n",
       "            } else {\n",
       "                this.previousSibling.style.display = 'none';\n",
       "                this.parentNode.style.display = 'inline';\n",
       "            }\"\n",
       "            onmouseover=\"document.getElementById('_fb_zteofhwsaisyizrdtgqq_ind_8').style.opacity = 1; document.getElementById('_fs_zteofhwsaisyizrdtgqq_ind_8').style.opacity = 1;\"\n",
       "            onmouseout=\"document.getElementById('_fb_zteofhwsaisyizrdtgqq_ind_8').style.opacity = 0; document.getElementById('_fs_zteofhwsaisyizrdtgqq_ind_8').style.opacity = 0;\"\n",
       "        >ICK </div></div><div style='display: inline; text-align: center;'\n",
       "    ><div style='display: none; color: #999; padding-top: 0px; font-size: 12px;'>0.006</div\n",
       "        ><div id='_tp_zteofhwsaisyizrdtgqq_ind_9'\n",
       "            style='display: inline; background: rgba(255.0, 13.0, 87.0, 0.030421865715983164); border-radius: 3px; padding: 0px'\n",
       "            onclick=\"\n",
       "            if (this.previousSibling.style.display == 'none') {\n",
       "                this.previousSibling.style.display = 'block';\n",
       "                this.parentNode.style.display = 'inline-block';\n",
       "            } else {\n",
       "                this.previousSibling.style.display = 'none';\n",
       "                this.parentNode.style.display = 'inline';\n",
       "            }\"\n",
       "            onmouseover=\"document.getElementById('_fb_zteofhwsaisyizrdtgqq_ind_9').style.opacity = 1; document.getElementById('_fs_zteofhwsaisyizrdtgqq_ind_9').style.opacity = 1;\"\n",
       "            onmouseout=\"document.getElementById('_fb_zteofhwsaisyizrdtgqq_ind_9').style.opacity = 0; document.getElementById('_fs_zteofhwsaisyizrdtgqq_ind_9').style.opacity = 0;\"\n",
       "        >KO</div></div><div style='display: inline; text-align: center;'\n",
       "    ><div style='display: none; color: #999; padding-top: 0px; font-size: 12px;'>-0.008</div\n",
       "        ><div id='_tp_zteofhwsaisyizrdtgqq_ind_10'\n",
       "            style='display: inline; background: rgba(30.0, 136.0, 229.0, 0.03830461477520309); border-radius: 3px; padding: 0px'\n",
       "            onclick=\"\n",
       "            if (this.previousSibling.style.display == 'none') {\n",
       "                this.previousSibling.style.display = 'block';\n",
       "                this.parentNode.style.display = 'inline-block';\n",
       "            } else {\n",
       "                this.previousSibling.style.display = 'none';\n",
       "                this.parentNode.style.display = 'inline';\n",
       "            }\"\n",
       "            onmouseover=\"document.getElementById('_fb_zteofhwsaisyizrdtgqq_ind_10').style.opacity = 1; document.getElementById('_fs_zteofhwsaisyizrdtgqq_ind_10').style.opacity = 1;\"\n",
       "            onmouseout=\"document.getElementById('_fb_zteofhwsaisyizrdtgqq_ind_10').style.opacity = 0; document.getElementById('_fs_zteofhwsaisyizrdtgqq_ind_10').style.opacity = 0;\"\n",
       "        >Z</div></div><div style='display: inline; text-align: center;'\n",
       "    ><div style='display: none; color: #999; padding-top: 0px; font-size: 12px;'>-0.019</div\n",
       "        ><div id='_tp_zteofhwsaisyizrdtgqq_ind_11'\n",
       "            style='display: inline; background: rgba(30.0, 136.0, 229.0, 0.10924935630817977); border-radius: 3px; padding: 0px'\n",
       "            onclick=\"\n",
       "            if (this.previousSibling.style.display == 'none') {\n",
       "                this.previousSibling.style.display = 'block';\n",
       "                this.parentNode.style.display = 'inline-block';\n",
       "            } else {\n",
       "                this.previousSibling.style.display = 'none';\n",
       "                this.parentNode.style.display = 'inline';\n",
       "            }\"\n",
       "            onmouseover=\"document.getElementById('_fb_zteofhwsaisyizrdtgqq_ind_11').style.opacity = 1; document.getElementById('_fs_zteofhwsaisyizrdtgqq_ind_11').style.opacity = 1;\"\n",
       "            onmouseout=\"document.getElementById('_fb_zteofhwsaisyizrdtgqq_ind_11').style.opacity = 0; document.getElementById('_fs_zteofhwsaisyizrdtgqq_ind_11').style.opacity = 0;\"\n",
       "        >Y </div></div><div style='display: inline; text-align: center;'\n",
       "    ><div style='display: none; color: #999; padding-top: 0px; font-size: 12px;'>-0.027</div\n",
       "        ><div id='_tp_zteofhwsaisyizrdtgqq_ind_12'\n",
       "            style='display: inline; background: rgba(30.0, 136.0, 229.0, 0.14866310160427798); border-radius: 3px; padding: 0px'\n",
       "            onclick=\"\n",
       "            if (this.previousSibling.style.display == 'none') {\n",
       "                this.previousSibling.style.display = 'block';\n",
       "                this.parentNode.style.display = 'inline-block';\n",
       "            } else {\n",
       "                this.previousSibling.style.display = 'none';\n",
       "                this.parentNode.style.display = 'inline';\n",
       "            }\"\n",
       "            onmouseover=\"document.getElementById('_fb_zteofhwsaisyizrdtgqq_ind_12').style.opacity = 1; document.getElementById('_fs_zteofhwsaisyizrdtgqq_ind_12').style.opacity = 1;\"\n",
       "            onmouseout=\"document.getElementById('_fb_zteofhwsaisyizrdtgqq_ind_12').style.opacity = 0; document.getElementById('_fs_zteofhwsaisyizrdtgqq_ind_12').style.opacity = 0;\"\n",
       "        >I </div></div><div style='display: inline; text-align: center;'\n",
       "    ><div style='display: none; color: #999; padding-top: 0px; font-size: 12px;'>0.01</div\n",
       "        ><div id='_tp_zteofhwsaisyizrdtgqq_ind_13'\n",
       "            style='display: inline; background: rgba(255.0, 13.0, 87.0, 0.05407011289364243); border-radius: 3px; padding: 0px'\n",
       "            onclick=\"\n",
       "            if (this.previousSibling.style.display == 'none') {\n",
       "                this.previousSibling.style.display = 'block';\n",
       "                this.parentNode.style.display = 'inline-block';\n",
       "            } else {\n",
       "                this.previousSibling.style.display = 'none';\n",
       "                this.parentNode.style.display = 'inline';\n",
       "            }\"\n",
       "            onmouseover=\"document.getElementById('_fb_zteofhwsaisyizrdtgqq_ind_13').style.opacity = 1; document.getElementById('_fs_zteofhwsaisyizrdtgqq_ind_13').style.opacity = 1;\"\n",
       "            onmouseout=\"document.getElementById('_fb_zteofhwsaisyizrdtgqq_ind_13').style.opacity = 0; document.getElementById('_fs_zteofhwsaisyizrdtgqq_ind_13').style.opacity = 0;\"\n",
       "        >SEE </div></div><div style='display: inline; text-align: center;'\n",
       "    ><div style='display: none; color: #999; padding-top: 0px; font-size: 12px;'>-0.004</div\n",
       "        ><div id='_tp_zteofhwsaisyizrdtgqq_ind_14'\n",
       "            style='display: inline; background: rgba(30.0, 136.0, 229.0, 0.014656367597544028); border-radius: 3px; padding: 0px'\n",
       "            onclick=\"\n",
       "            if (this.previousSibling.style.display == 'none') {\n",
       "                this.previousSibling.style.display = 'block';\n",
       "                this.parentNode.style.display = 'inline-block';\n",
       "            } else {\n",
       "                this.previousSibling.style.display = 'none';\n",
       "                this.parentNode.style.display = 'inline';\n",
       "            }\"\n",
       "            onmouseover=\"document.getElementById('_fb_zteofhwsaisyizrdtgqq_ind_14').style.opacity = 1; document.getElementById('_fs_zteofhwsaisyizrdtgqq_ind_14').style.opacity = 1;\"\n",
       "            onmouseout=\"document.getElementById('_fb_zteofhwsaisyizrdtgqq_ind_14').style.opacity = 0; document.getElementById('_fs_zteofhwsaisyizrdtgqq_ind_14').style.opacity = 0;\"\n",
       "        >YOU </div></div><div style='display: inline; text-align: center;'\n",
       "    ><div style='display: none; color: #999; padding-top: 0px; font-size: 12px;'>0.025</div\n",
       "        ><div id='_tp_zteofhwsaisyizrdtgqq_ind_15'\n",
       "            style='display: inline; background: rgba(255.0, 13.0, 87.0, 0.14078035254505847); border-radius: 3px; padding: 0px'\n",
       "            onclick=\"\n",
       "            if (this.previousSibling.style.display == 'none') {\n",
       "                this.previousSibling.style.display = 'block';\n",
       "                this.parentNode.style.display = 'inline-block';\n",
       "            } else {\n",
       "                this.previousSibling.style.display = 'none';\n",
       "                this.parentNode.style.display = 'inline';\n",
       "            }\"\n",
       "            onmouseover=\"document.getElementById('_fb_zteofhwsaisyizrdtgqq_ind_15').style.opacity = 1; document.getElementById('_fs_zteofhwsaisyizrdtgqq_ind_15').style.opacity = 1;\"\n",
       "            onmouseout=\"document.getElementById('_fb_zteofhwsaisyizrdtgqq_ind_15').style.opacity = 0; document.getElementById('_fs_zteofhwsaisyizrdtgqq_ind_15').style.opacity = 0;\"\n",
       "        >WITH </div></div><div style='display: inline; text-align: center;'\n",
       "    ><div style='display: none; color: #999; padding-top: 0px; font-size: 12px;'>-0.012</div\n",
       "        ><div id='_tp_zteofhwsaisyizrdtgqq_ind_16'\n",
       "            style='display: inline; background: rgba(30.0, 136.0, 229.0, 0.06195286195286191); border-radius: 3px; padding: 0px'\n",
       "            onclick=\"\n",
       "            if (this.previousSibling.style.display == 'none') {\n",
       "                this.previousSibling.style.display = 'block';\n",
       "                this.parentNode.style.display = 'inline-block';\n",
       "            } else {\n",
       "                this.previousSibling.style.display = 'none';\n",
       "                this.parentNode.style.display = 'inline';\n",
       "            }\"\n",
       "            onmouseover=\"document.getElementById('_fb_zteofhwsaisyizrdtgqq_ind_16').style.opacity = 1; document.getElementById('_fs_zteofhwsaisyizrdtgqq_ind_16').style.opacity = 1;\"\n",
       "            onmouseout=\"document.getElementById('_fb_zteofhwsaisyizrdtgqq_ind_16').style.opacity = 0; document.getElementById('_fs_zteofhwsaisyizrdtgqq_ind_16').style.opacity = 0;\"\n",
       "        >KN</div></div><div style='display: inline; text-align: center;'\n",
       "    ><div style='display: none; color: #999; padding-top: 0px; font-size: 12px;'>-0.08</div\n",
       "        ><div id='_tp_zteofhwsaisyizrdtgqq_ind_17'\n",
       "            style='display: inline; background: rgba(30.0, 136.0, 229.0, 0.46397306397306387); border-radius: 3px; padding: 0px'\n",
       "            onclick=\"\n",
       "            if (this.previousSibling.style.display == 'none') {\n",
       "                this.previousSibling.style.display = 'block';\n",
       "                this.parentNode.style.display = 'inline-block';\n",
       "            } else {\n",
       "                this.previousSibling.style.display = 'none';\n",
       "                this.parentNode.style.display = 'inline';\n",
       "            }\"\n",
       "            onmouseover=\"document.getElementById('_fb_zteofhwsaisyizrdtgqq_ind_17').style.opacity = 1; document.getElementById('_fs_zteofhwsaisyizrdtgqq_ind_17').style.opacity = 1;\"\n",
       "            onmouseout=\"document.getElementById('_fb_zteofhwsaisyizrdtgqq_ind_17').style.opacity = 0; document.getElementById('_fs_zteofhwsaisyizrdtgqq_ind_17').style.opacity = 0;\"\n",
       "        >UCK</div></div><div style='display: inline; text-align: center;'\n",
       "    ><div style='display: none; color: #999; padding-top: 0px; font-size: 12px;'>0.033</div\n",
       "        ><div id='_tp_zteofhwsaisyizrdtgqq_ind_18'\n",
       "            style='display: inline; background: rgba(255.0, 13.0, 87.0, 0.1880768469003763); border-radius: 3px; padding: 0px'\n",
       "            onclick=\"\n",
       "            if (this.previousSibling.style.display == 'none') {\n",
       "                this.previousSibling.style.display = 'block';\n",
       "                this.parentNode.style.display = 'inline-block';\n",
       "            } else {\n",
       "                this.previousSibling.style.display = 'none';\n",
       "                this.parentNode.style.display = 'inline';\n",
       "            }\"\n",
       "            onmouseover=\"document.getElementById('_fb_zteofhwsaisyizrdtgqq_ind_18').style.opacity = 1; document.getElementById('_fs_zteofhwsaisyizrdtgqq_ind_18').style.opacity = 1;\"\n",
       "            onmouseout=\"document.getElementById('_fb_zteofhwsaisyizrdtgqq_ind_18').style.opacity = 0; document.getElementById('_fs_zteofhwsaisyizrdtgqq_ind_18').style.opacity = 0;\"\n",
       "        >LES </div></div><div style='display: inline; text-align: center;'\n",
       "    ><div style='display: none; color: #999; padding-top: 0px; font-size: 12px;'>-0.029</div\n",
       "        ><div id='_tp_zteofhwsaisyizrdtgqq_ind_19'\n",
       "            style='display: inline; background: rgba(30.0, 136.0, 229.0, 0.16442859972271748); border-radius: 3px; padding: 0px'\n",
       "            onclick=\"\n",
       "            if (this.previousSibling.style.display == 'none') {\n",
       "                this.previousSibling.style.display = 'block';\n",
       "                this.parentNode.style.display = 'inline-block';\n",
       "            } else {\n",
       "                this.previousSibling.style.display = 'none';\n",
       "                this.parentNode.style.display = 'inline';\n",
       "            }\"\n",
       "            onmouseover=\"document.getElementById('_fb_zteofhwsaisyizrdtgqq_ind_19').style.opacity = 1; document.getElementById('_fs_zteofhwsaisyizrdtgqq_ind_19').style.opacity = 1;\"\n",
       "            onmouseout=\"document.getElementById('_fb_zteofhwsaisyizrdtgqq_ind_19').style.opacity = 0; document.getElementById('_fs_zteofhwsaisyizrdtgqq_ind_19').style.opacity = 0;\"\n",
       "        >GET </div></div><div style='display: inline; text-align: center;'\n",
       "    ><div style='display: none; color: #999; padding-top: 0px; font-size: 12px;'>-0.002</div\n",
       "        ><div id='_tp_zteofhwsaisyizrdtgqq_ind_20'\n",
       "            style='display: inline; background: rgba(30.0, 136.0, 229.0, 0.006773618538324436); border-radius: 3px; padding: 0px'\n",
       "            onclick=\"\n",
       "            if (this.previousSibling.style.display == 'none') {\n",
       "                this.previousSibling.style.display = 'block';\n",
       "                this.parentNode.style.display = 'inline-block';\n",
       "            } else {\n",
       "                this.previousSibling.style.display = 'none';\n",
       "                this.parentNode.style.display = 'inline';\n",
       "            }\"\n",
       "            onmouseover=\"document.getElementById('_fb_zteofhwsaisyizrdtgqq_ind_20').style.opacity = 1; document.getElementById('_fs_zteofhwsaisyizrdtgqq_ind_20').style.opacity = 1;\"\n",
       "            onmouseout=\"document.getElementById('_fb_zteofhwsaisyizrdtgqq_ind_20').style.opacity = 0; document.getElementById('_fs_zteofhwsaisyizrdtgqq_ind_20').style.opacity = 0;\"\n",
       "        >EM </div></div><div style='display: inline; text-align: center;'\n",
       "    ><div style='display: none; color: #999; padding-top: 0px; font-size: 12px;'>-0.014</div\n",
       "        ><div id='_tp_zteofhwsaisyizrdtgqq_ind_21'\n",
       "            style='display: inline; background: rgba(30.0, 136.0, 229.0, 0.07771836007130117); border-radius: 3px; padding: 0px'\n",
       "            onclick=\"\n",
       "            if (this.previousSibling.style.display == 'none') {\n",
       "                this.previousSibling.style.display = 'block';\n",
       "                this.parentNode.style.display = 'inline-block';\n",
       "            } else {\n",
       "                this.previousSibling.style.display = 'none';\n",
       "                this.parentNode.style.display = 'inline';\n",
       "            }\"\n",
       "            onmouseover=\"document.getElementById('_fb_zteofhwsaisyizrdtgqq_ind_21').style.opacity = 1; document.getElementById('_fs_zteofhwsaisyizrdtgqq_ind_21').style.opacity = 1;\"\n",
       "            onmouseout=\"document.getElementById('_fb_zteofhwsaisyizrdtgqq_ind_21').style.opacity = 0; document.getElementById('_fs_zteofhwsaisyizrdtgqq_ind_21').style.opacity = 0;\"\n",
       "        >G</div></div><div style='display: inline; text-align: center;'\n",
       "    ><div style='display: none; color: #999; padding-top: 0px; font-size: 12px;'>-0.002</div\n",
       "        ><div id='_tp_zteofhwsaisyizrdtgqq_ind_22'\n",
       "            style='display: inline; background: rgba(30.0, 136.0, 229.0, 0.006773618538324436); border-radius: 3px; padding: 0px'\n",
       "            onclick=\"\n",
       "            if (this.previousSibling.style.display == 'none') {\n",
       "                this.previousSibling.style.display = 'block';\n",
       "                this.parentNode.style.display = 'inline-block';\n",
       "            } else {\n",
       "                this.previousSibling.style.display = 'none';\n",
       "                this.parentNode.style.display = 'inline';\n",
       "            }\"\n",
       "            onmouseover=\"document.getElementById('_fb_zteofhwsaisyizrdtgqq_ind_22').style.opacity = 1; document.getElementById('_fs_zteofhwsaisyizrdtgqq_ind_22').style.opacity = 1;\"\n",
       "            onmouseout=\"document.getElementById('_fb_zteofhwsaisyizrdtgqq_ind_22').style.opacity = 0; document.getElementById('_fs_zteofhwsaisyizrdtgqq_ind_22').style.opacity = 0;\"\n",
       "        >Y</div></div><div style='display: inline; text-align: center;'\n",
       "    ><div style='display: none; color: #999; padding-top: 0px; font-size: 12px;'>-0.028</div\n",
       "        ><div id='_tp_zteofhwsaisyizrdtgqq_ind_23'\n",
       "            style='display: inline; background: rgba(30.0, 136.0, 229.0, 0.1565458506634977); border-radius: 3px; padding: 0px'\n",
       "            onclick=\"\n",
       "            if (this.previousSibling.style.display == 'none') {\n",
       "                this.previousSibling.style.display = 'block';\n",
       "                this.parentNode.style.display = 'inline-block';\n",
       "            } else {\n",
       "                this.previousSibling.style.display = 'none';\n",
       "                this.parentNode.style.display = 'inline';\n",
       "            }\"\n",
       "            onmouseover=\"document.getElementById('_fb_zteofhwsaisyizrdtgqq_ind_23').style.opacity = 1; document.getElementById('_fs_zteofhwsaisyizrdtgqq_ind_23').style.opacity = 1;\"\n",
       "            onmouseout=\"document.getElementById('_fb_zteofhwsaisyizrdtgqq_ind_23').style.opacity = 0; document.getElementById('_fs_zteofhwsaisyizrdtgqq_ind_23').style.opacity = 0;\"\n",
       "        >AAA</div></div><div style='display: inline; text-align: center;'\n",
       "    ><div style='display: none; color: #999; padding-top: 0px; font-size: 12px;'>0.003</div\n",
       "        ><div id='_tp_zteofhwsaisyizrdtgqq_ind_24'\n",
       "            style='display: inline; background: rgba(255.0, 13.0, 87.0, 0.014656367597544035); border-radius: 3px; padding: 0px'\n",
       "            onclick=\"\n",
       "            if (this.previousSibling.style.display == 'none') {\n",
       "                this.previousSibling.style.display = 'block';\n",
       "                this.parentNode.style.display = 'inline-block';\n",
       "            } else {\n",
       "                this.previousSibling.style.display = 'none';\n",
       "                this.parentNode.style.display = 'inline';\n",
       "            }\"\n",
       "            onmouseover=\"document.getElementById('_fb_zteofhwsaisyizrdtgqq_ind_24').style.opacity = 1; document.getElementById('_fs_zteofhwsaisyizrdtgqq_ind_24').style.opacity = 1;\"\n",
       "            onmouseout=\"document.getElementById('_fb_zteofhwsaisyizrdtgqq_ind_24').style.opacity = 0; document.getElementById('_fs_zteofhwsaisyizrdtgqq_ind_24').style.opacity = 0;\"\n",
       "        >AL</div></div><div style='display: inline; text-align: center;'\n",
       "    ><div style='display: none; color: #999; padding-top: 0px; font-size: 12px;'>0.0</div\n",
       "        ><div id='_tp_zteofhwsaisyizrdtgqq_ind_25'\n",
       "            style='display: inline; background: rgba(230.2941176470614, 26.505882352939775, 102.59215686274348, 0.0); border-radius: 3px; padding: 0px'\n",
       "            onclick=\"\n",
       "            if (this.previousSibling.style.display == 'none') {\n",
       "                this.previousSibling.style.display = 'block';\n",
       "                this.parentNode.style.display = 'inline-block';\n",
       "            } else {\n",
       "                this.previousSibling.style.display = 'none';\n",
       "                this.parentNode.style.display = 'inline';\n",
       "            }\"\n",
       "            onmouseover=\"document.getElementById('_fb_zteofhwsaisyizrdtgqq_ind_25').style.opacity = 1; document.getElementById('_fs_zteofhwsaisyizrdtgqq_ind_25').style.opacity = 1;\"\n",
       "            onmouseout=\"document.getElementById('_fb_zteofhwsaisyizrdtgqq_ind_25').style.opacity = 0; document.getElementById('_fs_zteofhwsaisyizrdtgqq_ind_25').style.opacity = 0;\"\n",
       "        ></div></div></div></div><div id='_tp_uutvzqqfzzetyzijdxdb_output_0_zoom' style='display: none;'><svg width=\"100%\" height=\"80px\"><line x1=\"0\" y1=\"33\" x2=\"100%\" y2=\"33\" style=\"stroke:rgb(150,150,150);stroke-width:1\" /><line x1=\"53.493496095497854%\" y1=\"33\" x2=\"53.493496095497854%\" y2=\"37\" style=\"stroke:rgb(150,150,150);stroke-width:1\" /><text x=\"53.493496095497854%\" y=\"27\" font-size=\"12px\" fill=\"rgb(120,120,120)\" dominant-baseline=\"bottom\" text-anchor=\"middle\">0.5</text><line x1=\"43.683715366692844%\" y1=\"33\" x2=\"43.683715366692844%\" y2=\"37\" style=\"stroke:rgb(150,150,150);stroke-width:1\" /><text x=\"43.683715366692844%\" y=\"27\" font-size=\"12px\" fill=\"rgb(120,120,120)\" dominant-baseline=\"bottom\" text-anchor=\"middle\">0.4</text><line x1=\"33.873934637887835%\" y1=\"33\" x2=\"33.873934637887835%\" y2=\"37\" style=\"stroke:rgb(150,150,150);stroke-width:1\" /><text x=\"33.873934637887835%\" y=\"27\" font-size=\"12px\" fill=\"rgb(120,120,120)\" dominant-baseline=\"bottom\" text-anchor=\"middle\">0.3</text><line x1=\"24.064153909082822%\" y1=\"33\" x2=\"24.064153909082822%\" y2=\"37\" style=\"stroke:rgb(150,150,150);stroke-width:1\" /><text x=\"24.064153909082822%\" y=\"27\" font-size=\"12px\" fill=\"rgb(120,120,120)\" dominant-baseline=\"bottom\" text-anchor=\"middle\">0.2</text><line x1=\"14.254373180277815%\" y1=\"33\" x2=\"14.254373180277815%\" y2=\"37\" style=\"stroke:rgb(150,150,150);stroke-width:1\" /><text x=\"14.254373180277815%\" y=\"27\" font-size=\"12px\" fill=\"rgb(120,120,120)\" dominant-baseline=\"bottom\" text-anchor=\"middle\">0.1</text><line x1=\"63.30327682430287%\" y1=\"33\" x2=\"63.30327682430287%\" y2=\"37\" style=\"stroke:rgb(150,150,150);stroke-width:1\" /><text x=\"63.30327682430287%\" y=\"27\" font-size=\"12px\" fill=\"rgb(120,120,120)\" dominant-baseline=\"bottom\" text-anchor=\"middle\">0.6</text><line x1=\"73.11305755310786%\" y1=\"33\" x2=\"73.11305755310786%\" y2=\"37\" style=\"stroke:rgb(150,150,150);stroke-width:1\" /><text x=\"73.11305755310786%\" y=\"27\" font-size=\"12px\" fill=\"rgb(120,120,120)\" dominant-baseline=\"bottom\" text-anchor=\"middle\">0.7</text><line x1=\"82.92283828191289%\" y1=\"33\" x2=\"82.92283828191289%\" y2=\"37\" style=\"stroke:rgb(150,150,150);stroke-width:1\" /><text x=\"82.92283828191289%\" y=\"27\" font-size=\"12px\" fill=\"rgb(120,120,120)\" dominant-baseline=\"bottom\" text-anchor=\"middle\">0.8</text><line x1=\"92.73261901071791%\" y1=\"33\" x2=\"92.73261901071791%\" y2=\"37\" style=\"stroke:rgb(150,150,150);stroke-width:1\" /><text x=\"92.73261901071791%\" y=\"27\" font-size=\"12px\" fill=\"rgb(120,120,120)\" dominant-baseline=\"bottom\" text-anchor=\"middle\">0.9</text><line x1=\"83.17273216820715%\" y1=\"33\" x2=\"83.17273216820715%\" y2=\"37\" style=\"stroke:rgb(150,150,150);stroke-width:1\" /><text x=\"83.17273216820715%\" y=\"27\" font-size=\"13px\" style=\"stroke:#ffffff;stroke-width:8px;\" fill=\"rgb(255,255,255)\" dominant-baseline=\"bottom\" text-anchor=\"middle\">0.802547</text><text x=\"83.17273216820715%\" y=\"27\" font-size=\"12px\" fill=\"rgb(120,120,120)\" dominant-baseline=\"bottom\" text-anchor=\"middle\">0.802547</text><text x=\"83.17273216820715%\" y=\"10\" font-size=\"12px\" fill=\"rgb(120,120,120)\" dominant-baseline=\"bottom\" text-anchor=\"middle\">base value</text><line x1=\"16.827266850814798%\" y1=\"33\" x2=\"16.827266850814798%\" y2=\"37\" style=\"stroke:rgb(150,150,150);stroke-width:1\" /><text x=\"16.827266850814798%\" y=\"27\" font-size=\"13px\" style=\"stroke:#ffffff;stroke-width:8px;\" font-weight=\"bold\" fill=\"rgb(255,255,255)\" dominant-baseline=\"bottom\" text-anchor=\"middle\">0.126228</text><text x=\"16.827266850814798%\" y=\"27\" font-size=\"13px\" font-weight=\"bold\" fill=\"rgb(0,0,0)\" dominant-baseline=\"bottom\" text-anchor=\"middle\">0.126228</text><text x=\"16.827266850814798%\" y=\"10\" font-size=\"12px\" fill=\"rgb(120,120,120)\" dominant-baseline=\"bottom\" text-anchor=\"middle\">f<tspan baseline-shift=\"sub\" font-size=\"8px\">non-offensive</tspan>(inputs)</text><rect x=\"8.333333251585163%\" width=\"8.493933599229637%\" y=\"40\" height=\"18\" style=\"fill:rgb(255.0, 0.0, 81.08083606031792); stroke-width:0; stroke:rgb(0,0,0)\" /><line x1=\"13.607294706443094%\" x2=\"16.827266850814798%\" y1=\"60\" y2=\"60\" id=\"_fb_ujjhrccullznwhgnjewp_ind_18\" style=\"stroke:rgb(255.0, 0.0, 81.08083606031792);stroke-width:2; opacity: 0\"/><text x=\"15.217280778628947%\" y=\"71\" font-size=\"12px\" id=\"_fs_ujjhrccullznwhgnjewp_ind_18\" fill=\"rgb(255.0, 0.0, 81.08083606031792)\" style=\"opacity: 0\" dominant-baseline=\"middle\" text-anchor=\"middle\">0.033</text><svg x=\"13.607294706443094%\" y=\"40\" height=\"20\" width=\"3.219972144371704%\">  <svg x=\"0\" y=\"0\" width=\"100%\" height=\"100%\">    <text x=\"50%\" y=\"9\" font-size=\"12px\" fill=\"rgb(255,255,255)\" dominant-baseline=\"middle\" text-anchor=\"middle\">LES</text>  </svg></svg><line x1=\"11.113208330170004%\" x2=\"13.607294706443094%\" y1=\"60\" y2=\"60\" id=\"_fb_ujjhrccullznwhgnjewp_ind_15\" style=\"stroke:rgb(255.0, 0.0, 81.08083606031792);stroke-width:2; opacity: 0\"/><text x=\"12.360251518306548%\" y=\"71\" font-size=\"12px\" id=\"_fs_ujjhrccullznwhgnjewp_ind_15\" fill=\"rgb(255.0, 0.0, 81.08083606031792)\" style=\"opacity: 0\" dominant-baseline=\"middle\" text-anchor=\"middle\">0.025</text><svg x=\"11.113208330170004%\" y=\"40\" height=\"20\" width=\"2.4940863762730903%\">  <svg x=\"0\" y=\"0\" width=\"100%\" height=\"100%\">    <text x=\"50%\" y=\"9\" font-size=\"12px\" fill=\"rgb(255,255,255)\" dominant-baseline=\"middle\" text-anchor=\"middle\">WITH</text>  </svg></svg><line x1=\"10.138425813891855%\" x2=\"11.113208330170004%\" y1=\"60\" y2=\"60\" id=\"_fb_ujjhrccullznwhgnjewp_ind_13\" style=\"stroke:rgb(255.0, 0.0, 81.08083606031792);stroke-width:2; opacity: 0\"/><text x=\"10.62581707203093%\" y=\"71\" font-size=\"12px\" id=\"_fs_ujjhrccullznwhgnjewp_ind_13\" fill=\"rgb(255.0, 0.0, 81.08083606031792)\" style=\"opacity: 0\" dominant-baseline=\"middle\" text-anchor=\"middle\">0.01</text><svg x=\"10.138425813891855%\" y=\"40\" height=\"20\" width=\"0.9747825162781485%\">  <svg x=\"0\" y=\"0\" width=\"100%\" height=\"100%\">    <text x=\"50%\" y=\"9\" font-size=\"12px\" fill=\"rgb(255,255,255)\" dominant-baseline=\"middle\" text-anchor=\"middle\">SEE</text>  </svg></svg><line x1=\"9.433883253455367%\" x2=\"10.138425813891855%\" y1=\"60\" y2=\"60\" id=\"_fb_ujjhrccullznwhgnjewp_ind_2\" style=\"stroke:rgb(255.0, 0.0, 81.08083606031792);stroke-width:2; opacity: 0\"/><text x=\"9.78615453367361%\" y=\"71\" font-size=\"12px\" id=\"_fs_ujjhrccullznwhgnjewp_ind_2\" fill=\"rgb(255.0, 0.0, 81.08083606031792)\" style=\"opacity: 0\" dominant-baseline=\"middle\" text-anchor=\"middle\">0.007</text><svg x=\"9.433883253455367%\" y=\"40\" height=\"20\" width=\"0.7045425604364883%\">  <svg x=\"0\" y=\"0\" width=\"100%\" height=\"100%\">    <text x=\"50%\" y=\"9\" font-size=\"12px\" fill=\"rgb(255,255,255)\" dominant-baseline=\"middle\" text-anchor=\"middle\">BET</text>  </svg></svg><line x1=\"8.810273416368618%\" x2=\"9.433883253455367%\" y1=\"60\" y2=\"60\" id=\"_fb_ujjhrccullznwhgnjewp_ind_9\" style=\"stroke:rgb(255.0, 0.0, 81.08083606031792);stroke-width:2; opacity: 0\"/><text x=\"9.122078334911993%\" y=\"71\" font-size=\"12px\" id=\"_fs_ujjhrccullznwhgnjewp_ind_9\" fill=\"rgb(255.0, 0.0, 81.08083606031792)\" style=\"opacity: 0\" dominant-baseline=\"middle\" text-anchor=\"middle\">0.006</text><svg x=\"8.810273416368618%\" y=\"40\" height=\"20\" width=\"0.6236098370867484%\">  <svg x=\"0\" y=\"0\" width=\"100%\" height=\"100%\">    <text x=\"50%\" y=\"9\" font-size=\"12px\" fill=\"rgb(255,255,255)\" dominant-baseline=\"middle\" text-anchor=\"middle\">KO</text>  </svg></svg><line x1=\"8.539210506159485%\" x2=\"8.810273416368618%\" y1=\"60\" y2=\"60\" id=\"_fb_ujjhrccullznwhgnjewp_ind_24\" style=\"stroke:rgb(255.0, 0.0, 81.08083606031792);stroke-width:2; opacity: 0\"/><text x=\"8.67474196126405%\" y=\"71\" font-size=\"12px\" id=\"_fs_ujjhrccullznwhgnjewp_ind_24\" fill=\"rgb(255.0, 0.0, 81.08083606031792)\" style=\"opacity: 0\" dominant-baseline=\"middle\" text-anchor=\"middle\">0.003</text><svg x=\"8.539210506159485%\" y=\"40\" height=\"20\" width=\"0.27106291020913353%\">  <svg x=\"0\" y=\"0\" width=\"100%\" height=\"100%\">    <text x=\"50%\" y=\"9\" font-size=\"12px\" fill=\"rgb(255,255,255)\" dominant-baseline=\"middle\" text-anchor=\"middle\">AL</text>  </svg></svg><line x1=\"8.333333251585163%\" x2=\"8.539210506159485%\" y1=\"60\" y2=\"60\" id=\"_fb_ujjhrccullznwhgnjewp_ind_3\" style=\"stroke:rgb(255.0, 0.0, 81.08083606031792);stroke-width:2; opacity: 0\"/><text x=\"8.436271878872324%\" y=\"71\" font-size=\"12px\" id=\"_fs_ujjhrccullznwhgnjewp_ind_3\" fill=\"rgb(255.0, 0.0, 81.08083606031792)\" style=\"opacity: 0\" dominant-baseline=\"middle\" text-anchor=\"middle\">0.002</text><svg x=\"8.333333251585163%\" y=\"40\" height=\"20\" width=\"0.2058772545743217%\">  <svg x=\"0\" y=\"0\" width=\"100%\" height=\"100%\">    <text x=\"50%\" y=\"9\" font-size=\"12px\" fill=\"rgb(255,255,255)\" dominant-baseline=\"middle\" text-anchor=\"middle\">TER</text>  </svg></svg><g transform=\"translate(0,0)\">  <svg x=\"13.607294706443094%\" y=\"40\" height=\"18\" overflow=\"visible\" width=\"30\">    <path d=\"M 0 -9 l 6 18 L 0 25\" fill=\"none\" style=\"stroke:rgb(255.0, 0.0, 81.08083606031792);stroke-width:2\" />  </svg></g><g transform=\"translate(2,0)\">  <svg x=\"13.607294706443094%\" y=\"40\" height=\"18\" overflow=\"visible\" width=\"30\">    <path d=\"M 0 -9 l 6 18 L 0 25\" fill=\"none\" style=\"stroke:rgb(255.0, 0.0, 81.08083606031792);stroke-width:2\" />  </svg></g><g transform=\"translate(4,0)\">  <svg x=\"13.607294706443094%\" y=\"40\" height=\"18\" overflow=\"visible\" width=\"30\">    <path d=\"M 0 -9 l 6 18 L 0 25\" fill=\"none\" style=\"stroke:rgb(255.0, 0.0, 81.08083606031792);stroke-width:2\" />  </svg></g><g transform=\"translate(6,0)\">  <svg x=\"13.607294706443094%\" y=\"40\" height=\"18\" overflow=\"visible\" width=\"30\">    <path d=\"M 0 -9 l 6 18 L 0 25\" fill=\"none\" style=\"stroke:rgb(255.0, 0.0, 81.08083606031792);stroke-width:2\" />  </svg></g><g transform=\"translate(-8,0)\">  <svg x=\"13.607294706443094%\" y=\"40\" height=\"18\" overflow=\"visible\" width=\"30\">    <path d=\"M 0 -9 l 6 18 L 0 25\" fill=\"none\" style=\"stroke:rgb(255.0, 0.0, 81.08083606031792);stroke-width:2\" />  </svg></g><g transform=\"translate(-6,0)\">  <svg x=\"13.607294706443094%\" y=\"40\" height=\"18\" overflow=\"visible\" width=\"30\">    <path d=\"M 0 -9 l 6 18 L 0 25\" fill=\"none\" style=\"stroke:rgb(255.0, 0.0, 81.08083606031792);stroke-width:2\" />  </svg></g><g transform=\"translate(-4,0)\">  <svg x=\"13.607294706443094%\" y=\"40\" height=\"18\" overflow=\"visible\" width=\"30\">    <path d=\"M 0 -9 l 6 18 L 0 25\" fill=\"none\" style=\"stroke:rgb(255.0, 0.0, 81.08083606031792);stroke-width:2\" />  </svg></g><g transform=\"translate(-2,0)\">  <svg x=\"13.607294706443094%\" y=\"40\" height=\"18\" overflow=\"visible\" width=\"30\">    <path d=\"M 0 -9 l 6 18 L 0 25\" fill=\"none\" style=\"stroke:rgb(255.0, 0.0, 81.08083606031792);stroke-width:2\" />  </svg></g><g transform=\"translate(0,0)\">  <svg x=\"11.113208330170004%\" y=\"40\" height=\"18\" overflow=\"visible\" width=\"30\">    <path d=\"M 0 -9 l 6 18 L 0 25\" fill=\"none\" style=\"stroke:rgb(255.0, 0.0, 81.08083606031792);stroke-width:2\" />  </svg></g><g transform=\"translate(2,0)\">  <svg x=\"11.113208330170004%\" y=\"40\" height=\"18\" overflow=\"visible\" width=\"30\">    <path d=\"M 0 -9 l 6 18 L 0 25\" fill=\"none\" style=\"stroke:rgb(255.0, 0.0, 81.08083606031792);stroke-width:2\" />  </svg></g><g transform=\"translate(4,0)\">  <svg x=\"11.113208330170004%\" y=\"40\" height=\"18\" overflow=\"visible\" width=\"30\">    <path d=\"M 0 -9 l 6 18 L 0 25\" fill=\"none\" style=\"stroke:rgb(255.0, 0.0, 81.08083606031792);stroke-width:2\" />  </svg></g><g transform=\"translate(6,0)\">  <svg x=\"11.113208330170004%\" y=\"40\" height=\"18\" overflow=\"visible\" width=\"30\">    <path d=\"M 0 -9 l 6 18 L 0 25\" fill=\"none\" style=\"stroke:rgb(255.0, 0.0, 81.08083606031792);stroke-width:2\" />  </svg></g><g transform=\"translate(-8,0)\">  <svg x=\"11.113208330170004%\" y=\"40\" height=\"18\" overflow=\"visible\" width=\"30\">    <path d=\"M 0 -9 l 6 18 L 0 25\" fill=\"none\" style=\"stroke:rgb(255.0, 0.0, 81.08083606031792);stroke-width:2\" />  </svg></g><g transform=\"translate(-6,0)\">  <svg x=\"11.113208330170004%\" y=\"40\" height=\"18\" overflow=\"visible\" width=\"30\">    <path d=\"M 0 -9 l 6 18 L 0 25\" fill=\"none\" style=\"stroke:rgb(255.0, 0.0, 81.08083606031792);stroke-width:2\" />  </svg></g><g transform=\"translate(-4,0)\">  <svg x=\"11.113208330170004%\" y=\"40\" height=\"18\" overflow=\"visible\" width=\"30\">    <path d=\"M 0 -9 l 6 18 L 0 25\" fill=\"none\" style=\"stroke:rgb(255.0, 0.0, 81.08083606031792);stroke-width:2\" />  </svg></g><g transform=\"translate(-2,0)\">  <svg x=\"11.113208330170004%\" y=\"40\" height=\"18\" overflow=\"visible\" width=\"30\">    <path d=\"M 0 -9 l 6 18 L 0 25\" fill=\"none\" style=\"stroke:rgb(255.0, 0.0, 81.08083606031792);stroke-width:2\" />  </svg></g><g transform=\"translate(0,0)\">  <svg x=\"10.138425813891855%\" y=\"40\" height=\"18\" overflow=\"visible\" width=\"30\">    <path d=\"M 0 -9 l 6 18 L 0 25\" fill=\"none\" style=\"stroke:rgb(255.0, 0.0, 81.08083606031792);stroke-width:2\" />  </svg></g><g transform=\"translate(2,0)\">  <svg x=\"10.138425813891855%\" y=\"40\" height=\"18\" overflow=\"visible\" width=\"30\">    <path d=\"M 0 -9 l 6 18 L 0 25\" fill=\"none\" style=\"stroke:rgb(255.0, 0.0, 81.08083606031792);stroke-width:2\" />  </svg></g><g transform=\"translate(4,0)\">  <svg x=\"10.138425813891855%\" y=\"40\" height=\"18\" overflow=\"visible\" width=\"30\">    <path d=\"M 0 -9 l 6 18 L 0 25\" fill=\"none\" style=\"stroke:rgb(255.0, 0.0, 81.08083606031792);stroke-width:2\" />  </svg></g><g transform=\"translate(6,0)\">  <svg x=\"10.138425813891855%\" y=\"40\" height=\"18\" overflow=\"visible\" width=\"30\">    <path d=\"M 0 -9 l 6 18 L 0 25\" fill=\"none\" style=\"stroke:rgb(255.0, 0.0, 81.08083606031792);stroke-width:2\" />  </svg></g><g transform=\"translate(-8,0)\">  <svg x=\"10.138425813891855%\" y=\"40\" height=\"18\" overflow=\"visible\" width=\"30\">    <path d=\"M 0 -9 l 6 18 L 0 25\" fill=\"none\" style=\"stroke:rgb(255.0, 0.0, 81.08083606031792);stroke-width:2\" />  </svg></g><g transform=\"translate(-6,0)\">  <svg x=\"10.138425813891855%\" y=\"40\" height=\"18\" overflow=\"visible\" width=\"30\">    <path d=\"M 0 -9 l 6 18 L 0 25\" fill=\"none\" style=\"stroke:rgb(255.0, 0.0, 81.08083606031792);stroke-width:2\" />  </svg></g><g transform=\"translate(-4,0)\">  <svg x=\"10.138425813891855%\" y=\"40\" height=\"18\" overflow=\"visible\" width=\"30\">    <path d=\"M 0 -9 l 6 18 L 0 25\" fill=\"none\" style=\"stroke:rgb(255.0, 0.0, 81.08083606031792);stroke-width:2\" />  </svg></g><g transform=\"translate(-2,0)\">  <svg x=\"10.138425813891855%\" y=\"40\" height=\"18\" overflow=\"visible\" width=\"30\">    <path d=\"M 0 -9 l 6 18 L 0 25\" fill=\"none\" style=\"stroke:rgb(255.0, 0.0, 81.08083606031792);stroke-width:2\" />  </svg></g><g transform=\"translate(0,0)\">  <svg x=\"9.433883253455367%\" y=\"40\" height=\"18\" overflow=\"visible\" width=\"30\">    <path d=\"M 0 -9 l 6 18 L 0 25\" fill=\"none\" style=\"stroke:rgb(255.0, 0.0, 81.08083606031792);stroke-width:2\" />  </svg></g><g transform=\"translate(2,0)\">  <svg x=\"9.433883253455367%\" y=\"40\" height=\"18\" overflow=\"visible\" width=\"30\">    <path d=\"M 0 -9 l 6 18 L 0 25\" fill=\"none\" style=\"stroke:rgb(255.0, 0.0, 81.08083606031792);stroke-width:2\" />  </svg></g><g transform=\"translate(4,0)\">  <svg x=\"9.433883253455367%\" y=\"40\" height=\"18\" overflow=\"visible\" width=\"30\">    <path d=\"M 0 -9 l 6 18 L 0 25\" fill=\"none\" style=\"stroke:rgb(255.0, 0.0, 81.08083606031792);stroke-width:2\" />  </svg></g><g transform=\"translate(6,0)\">  <svg x=\"9.433883253455367%\" y=\"40\" height=\"18\" overflow=\"visible\" width=\"30\">    <path d=\"M 0 -9 l 6 18 L 0 25\" fill=\"none\" style=\"stroke:rgb(255.0, 0.0, 81.08083606031792);stroke-width:2\" />  </svg></g><g transform=\"translate(-8,0)\">  <svg x=\"9.433883253455367%\" y=\"40\" height=\"18\" overflow=\"visible\" width=\"30\">    <path d=\"M 0 -9 l 6 18 L 0 25\" fill=\"none\" style=\"stroke:rgb(255.0, 0.0, 81.08083606031792);stroke-width:2\" />  </svg></g><g transform=\"translate(-6,0)\">  <svg x=\"9.433883253455367%\" y=\"40\" height=\"18\" overflow=\"visible\" width=\"30\">    <path d=\"M 0 -9 l 6 18 L 0 25\" fill=\"none\" style=\"stroke:rgb(255.0, 0.0, 81.08083606031792);stroke-width:2\" />  </svg></g><g transform=\"translate(-4,0)\">  <svg x=\"9.433883253455367%\" y=\"40\" height=\"18\" overflow=\"visible\" width=\"30\">    <path d=\"M 0 -9 l 6 18 L 0 25\" fill=\"none\" style=\"stroke:rgb(255.0, 0.0, 81.08083606031792);stroke-width:2\" />  </svg></g><g transform=\"translate(-2,0)\">  <svg x=\"9.433883253455367%\" y=\"40\" height=\"18\" overflow=\"visible\" width=\"30\">    <path d=\"M 0 -9 l 6 18 L 0 25\" fill=\"none\" style=\"stroke:rgb(255.0, 0.0, 81.08083606031792);stroke-width:2\" />  </svg></g><g transform=\"translate(0,0)\">  <svg x=\"8.810273416368618%\" y=\"40\" height=\"18\" overflow=\"visible\" width=\"30\">    <path d=\"M 0 -9 l 6 18 L 0 25\" fill=\"none\" style=\"stroke:rgb(255.0, 0.0, 81.08083606031792);stroke-width:2\" />  </svg></g><g transform=\"translate(2,0)\">  <svg x=\"8.810273416368618%\" y=\"40\" height=\"18\" overflow=\"visible\" width=\"30\">    <path d=\"M 0 -9 l 6 18 L 0 25\" fill=\"none\" style=\"stroke:rgb(255.0, 0.0, 81.08083606031792);stroke-width:2\" />  </svg></g><g transform=\"translate(4,0)\">  <svg x=\"8.810273416368618%\" y=\"40\" height=\"18\" overflow=\"visible\" width=\"30\">    <path d=\"M 0 -9 l 6 18 L 0 25\" fill=\"none\" style=\"stroke:rgb(255.0, 0.0, 81.08083606031792);stroke-width:2\" />  </svg></g><g transform=\"translate(6,0)\">  <svg x=\"8.810273416368618%\" y=\"40\" height=\"18\" overflow=\"visible\" width=\"30\">    <path d=\"M 0 -9 l 6 18 L 0 25\" fill=\"none\" style=\"stroke:rgb(255.0, 0.0, 81.08083606031792);stroke-width:2\" />  </svg></g><g transform=\"translate(-8,0)\">  <svg x=\"8.810273416368618%\" y=\"40\" height=\"18\" overflow=\"visible\" width=\"30\">    <path d=\"M 0 -9 l 6 18 L 0 25\" fill=\"none\" style=\"stroke:rgb(255.0, 0.0, 81.08083606031792);stroke-width:2\" />  </svg></g><g transform=\"translate(-6,0)\">  <svg x=\"8.810273416368618%\" y=\"40\" height=\"18\" overflow=\"visible\" width=\"30\">    <path d=\"M 0 -9 l 6 18 L 0 25\" fill=\"none\" style=\"stroke:rgb(255.0, 0.0, 81.08083606031792);stroke-width:2\" />  </svg></g><g transform=\"translate(-4,0)\">  <svg x=\"8.810273416368618%\" y=\"40\" height=\"18\" overflow=\"visible\" width=\"30\">    <path d=\"M 0 -9 l 6 18 L 0 25\" fill=\"none\" style=\"stroke:rgb(255.0, 0.0, 81.08083606031792);stroke-width:2\" />  </svg></g><g transform=\"translate(-2,0)\">  <svg x=\"8.810273416368618%\" y=\"40\" height=\"18\" overflow=\"visible\" width=\"30\">    <path d=\"M 0 -9 l 6 18 L 0 25\" fill=\"none\" style=\"stroke:rgb(255.0, 0.0, 81.08083606031792);stroke-width:2\" />  </svg></g><g transform=\"translate(0,0)\">  <svg x=\"8.539210506159485%\" y=\"40\" height=\"18\" overflow=\"visible\" width=\"30\">    <path d=\"M 0 -9 l 6 18 L 0 25\" fill=\"none\" style=\"stroke:rgb(255.0, 0.0, 81.08083606031792);stroke-width:2\" />  </svg></g><g transform=\"translate(2,0)\">  <svg x=\"8.539210506159485%\" y=\"40\" height=\"18\" overflow=\"visible\" width=\"30\">    <path d=\"M 0 -9 l 6 18 L 0 25\" fill=\"none\" style=\"stroke:rgb(255.0, 0.0, 81.08083606031792);stroke-width:2\" />  </svg></g><g transform=\"translate(4,0)\">  <svg x=\"8.539210506159485%\" y=\"40\" height=\"18\" overflow=\"visible\" width=\"30\">    <path d=\"M 0 -9 l 6 18 L 0 25\" fill=\"none\" style=\"stroke:rgb(255.0, 0.0, 81.08083606031792);stroke-width:2\" />  </svg></g><g transform=\"translate(6,0)\">  <svg x=\"8.539210506159485%\" y=\"40\" height=\"18\" overflow=\"visible\" width=\"30\">    <path d=\"M 0 -9 l 6 18 L 0 25\" fill=\"none\" style=\"stroke:rgb(255.0, 0.0, 81.08083606031792);stroke-width:2\" />  </svg></g><g transform=\"translate(-8,0)\">  <svg x=\"8.539210506159485%\" y=\"40\" height=\"18\" overflow=\"visible\" width=\"30\">    <path d=\"M 0 -9 l 6 18 L 0 25\" fill=\"none\" style=\"stroke:rgb(255.0, 0.0, 81.08083606031792);stroke-width:2\" />  </svg></g><g transform=\"translate(-6,0)\">  <svg x=\"8.539210506159485%\" y=\"40\" height=\"18\" overflow=\"visible\" width=\"30\">    <path d=\"M 0 -9 l 6 18 L 0 25\" fill=\"none\" style=\"stroke:rgb(255.0, 0.0, 81.08083606031792);stroke-width:2\" />  </svg></g><g transform=\"translate(-4,0)\">  <svg x=\"8.539210506159485%\" y=\"40\" height=\"18\" overflow=\"visible\" width=\"30\">    <path d=\"M 0 -9 l 6 18 L 0 25\" fill=\"none\" style=\"stroke:rgb(255.0, 0.0, 81.08083606031792);stroke-width:2\" />  </svg></g><g transform=\"translate(-2,0)\">  <svg x=\"8.539210506159485%\" y=\"40\" height=\"18\" overflow=\"visible\" width=\"30\">    <path d=\"M 0 -9 l 6 18 L 0 25\" fill=\"none\" style=\"stroke:rgb(255.0, 0.0, 81.08083606031792);stroke-width:2\" />  </svg></g><rect transform=\"translate(-8,0)\" x=\"16.827266850814798%\" y=\"40\" width=\"8\" height=\"18\" style=\"fill:rgb(255.0, 0.0, 81.08083606031792)\"/><g transform=\"translate(-11.5,0)\">  <svg x=\"8.333333251585163%\" y=\"40\" height=\"18\" overflow=\"visible\" width=\"30\">    <path d=\"M 10 -9 l 6 18 L 10 25 L 0 25 L 0 -9\" fill=\"#ffffff\" style=\"stroke:rgb(255,255,255);stroke-width:2\" />  </svg></g><g transform=\"translate(-1.5,0)\">  <svg x=\"16.827266850814798%\" y=\"40\" height=\"18\" overflow=\"visible\" width=\"30\">    <path d=\"M 0 -9 l 6 18 L 0 25\" fill=\"none\" style=\"stroke:rgb(255, 195, 213);stroke-width:2\" />  </svg></g><rect x=\"13.607294706443094%\" y=\"40\" height=\"20\" width=\"3.219972144371704%\"      onmouseover=\"document.getElementById('_tp_ujjhrccullznwhgnjewp_ind_18').style.textDecoration = 'underline';document.getElementById('_fs_ujjhrccullznwhgnjewp_ind_18').style.opacity = 1;document.getElementById('_fb_ujjhrccullznwhgnjewp_ind_18').style.opacity = 1;\"      onmouseout=\"document.getElementById('_tp_ujjhrccullznwhgnjewp_ind_18').style.textDecoration = 'none';document.getElementById('_fs_ujjhrccullznwhgnjewp_ind_18').style.opacity = 0;document.getElementById('_fb_ujjhrccullznwhgnjewp_ind_18').style.opacity = 0;\" style=\"fill:rgb(0,0,0,0)\" /><g transform=\"translate(-1.5,0)\">  <svg x=\"13.607294706443094%\" y=\"40\" height=\"18\" overflow=\"visible\" width=\"30\">    <path d=\"M 0 -9 l 6 18 L 0 25\" fill=\"none\" style=\"stroke:rgb(255, 195, 213);stroke-width:2\" />  </svg></g><rect x=\"11.113208330170004%\" y=\"40\" height=\"20\" width=\"2.4940863762730903%\"      onmouseover=\"document.getElementById('_tp_ujjhrccullznwhgnjewp_ind_15').style.textDecoration = 'underline';document.getElementById('_fs_ujjhrccullznwhgnjewp_ind_15').style.opacity = 1;document.getElementById('_fb_ujjhrccullznwhgnjewp_ind_15').style.opacity = 1;\"      onmouseout=\"document.getElementById('_tp_ujjhrccullznwhgnjewp_ind_15').style.textDecoration = 'none';document.getElementById('_fs_ujjhrccullznwhgnjewp_ind_15').style.opacity = 0;document.getElementById('_fb_ujjhrccullznwhgnjewp_ind_15').style.opacity = 0;\" style=\"fill:rgb(0,0,0,0)\" /><g transform=\"translate(-1.5,0)\">  <svg x=\"11.113208330170004%\" y=\"40\" height=\"18\" overflow=\"visible\" width=\"30\">    <path d=\"M 0 -9 l 6 18 L 0 25\" fill=\"none\" style=\"stroke:rgb(255, 195, 213);stroke-width:2\" />  </svg></g><rect x=\"10.138425813891855%\" y=\"40\" height=\"20\" width=\"0.9747825162781485%\"      onmouseover=\"document.getElementById('_tp_ujjhrccullznwhgnjewp_ind_13').style.textDecoration = 'underline';document.getElementById('_fs_ujjhrccullznwhgnjewp_ind_13').style.opacity = 1;document.getElementById('_fb_ujjhrccullznwhgnjewp_ind_13').style.opacity = 1;\"      onmouseout=\"document.getElementById('_tp_ujjhrccullznwhgnjewp_ind_13').style.textDecoration = 'none';document.getElementById('_fs_ujjhrccullznwhgnjewp_ind_13').style.opacity = 0;document.getElementById('_fb_ujjhrccullznwhgnjewp_ind_13').style.opacity = 0;\" style=\"fill:rgb(0,0,0,0)\" /><g transform=\"translate(-1.5,0)\">  <svg x=\"10.138425813891855%\" y=\"40\" height=\"18\" overflow=\"visible\" width=\"30\">    <path d=\"M 0 -9 l 6 18 L 0 25\" fill=\"none\" style=\"stroke:rgb(255, 195, 213);stroke-width:2\" />  </svg></g><rect x=\"9.433883253455367%\" y=\"40\" height=\"20\" width=\"0.7045425604364883%\"      onmouseover=\"document.getElementById('_tp_ujjhrccullznwhgnjewp_ind_2').style.textDecoration = 'underline';document.getElementById('_fs_ujjhrccullznwhgnjewp_ind_2').style.opacity = 1;document.getElementById('_fb_ujjhrccullznwhgnjewp_ind_2').style.opacity = 1;\"      onmouseout=\"document.getElementById('_tp_ujjhrccullznwhgnjewp_ind_2').style.textDecoration = 'none';document.getElementById('_fs_ujjhrccullznwhgnjewp_ind_2').style.opacity = 0;document.getElementById('_fb_ujjhrccullznwhgnjewp_ind_2').style.opacity = 0;\" style=\"fill:rgb(0,0,0,0)\" /><g transform=\"translate(-1.5,0)\">  <svg x=\"9.433883253455367%\" y=\"40\" height=\"18\" overflow=\"visible\" width=\"30\">    <path d=\"M 0 -9 l 6 18 L 0 25\" fill=\"none\" style=\"stroke:rgb(255, 195, 213);stroke-width:2\" />  </svg></g><rect x=\"8.810273416368618%\" y=\"40\" height=\"20\" width=\"0.6236098370867484%\"      onmouseover=\"document.getElementById('_tp_ujjhrccullznwhgnjewp_ind_9').style.textDecoration = 'underline';document.getElementById('_fs_ujjhrccullznwhgnjewp_ind_9').style.opacity = 1;document.getElementById('_fb_ujjhrccullznwhgnjewp_ind_9').style.opacity = 1;\"      onmouseout=\"document.getElementById('_tp_ujjhrccullznwhgnjewp_ind_9').style.textDecoration = 'none';document.getElementById('_fs_ujjhrccullznwhgnjewp_ind_9').style.opacity = 0;document.getElementById('_fb_ujjhrccullznwhgnjewp_ind_9').style.opacity = 0;\" style=\"fill:rgb(0,0,0,0)\" /><g transform=\"translate(-1.5,0)\">  <svg x=\"8.810273416368618%\" y=\"40\" height=\"18\" overflow=\"visible\" width=\"30\">    <path d=\"M 0 -9 l 6 18 L 0 25\" fill=\"none\" style=\"stroke:rgb(255, 195, 213);stroke-width:2\" />  </svg></g><rect x=\"8.539210506159485%\" y=\"40\" height=\"20\" width=\"0.27106291020913353%\"      onmouseover=\"document.getElementById('_tp_ujjhrccullznwhgnjewp_ind_24').style.textDecoration = 'underline';document.getElementById('_fs_ujjhrccullznwhgnjewp_ind_24').style.opacity = 1;document.getElementById('_fb_ujjhrccullznwhgnjewp_ind_24').style.opacity = 1;\"      onmouseout=\"document.getElementById('_tp_ujjhrccullznwhgnjewp_ind_24').style.textDecoration = 'none';document.getElementById('_fs_ujjhrccullznwhgnjewp_ind_24').style.opacity = 0;document.getElementById('_fb_ujjhrccullznwhgnjewp_ind_24').style.opacity = 0;\" style=\"fill:rgb(0,0,0,0)\" /><rect x=\"8.333333251585163%\" y=\"40\" height=\"20\" width=\"0.2058772545743217%\"      onmouseover=\"document.getElementById('_tp_ujjhrccullznwhgnjewp_ind_3').style.textDecoration = 'underline';document.getElementById('_fs_ujjhrccullznwhgnjewp_ind_3').style.opacity = 1;document.getElementById('_fb_ujjhrccullznwhgnjewp_ind_3').style.opacity = 1;\"      onmouseout=\"document.getElementById('_tp_ujjhrccullznwhgnjewp_ind_3').style.textDecoration = 'none';document.getElementById('_fs_ujjhrccullznwhgnjewp_ind_3').style.opacity = 0;document.getElementById('_fb_ujjhrccullznwhgnjewp_ind_3').style.opacity = 0;\" style=\"fill:rgb(0,0,0,0)\" /><rect x=\"16.827266850814798%\" width=\"74.83939891662197%\" y=\"40\" height=\"18\" style=\"fill:rgb(0.0, 138.56128015770724, 250.76166088685727); stroke-width:0; stroke:rgb(0,0,0)\" /><line x1=\"16.827266850814798%\" x2=\"33.91942055526471%\" y1=\"60\" y2=\"60\" id=\"_fb_ujjhrccullznwhgnjewp_ind_5\" style=\"stroke:rgb(0.0, 138.56128015770724, 250.76166088685727);stroke-width:2; opacity: 0\"/><text x=\"25.37334370303975%\" y=\"71\" font-size=\"12px\" fill=\"rgb(0.0, 138.56128015770724, 250.76166088685727)\" id=\"_fs_ujjhrccullznwhgnjewp_ind_5\" style=\"opacity: 0\" dominant-baseline=\"middle\" text-anchor=\"middle\">-0.174</text><svg x=\"16.827266850814798%\" y=\"40\" height=\"20\" width=\"17.09215370444991%\">  <svg x=\"0\" y=\"0\" width=\"100%\" height=\"100%\">    <text x=\"50%\" y=\"9\" font-size=\"12px\" fill=\"rgb(255,255,255)\" dominant-baseline=\"middle\" text-anchor=\"middle\">UCK</text>  </svg></svg><line x1=\"33.91942055526471%\" x2=\"49.26384329100564%\" y1=\"60\" y2=\"60\" id=\"_fb_ujjhrccullznwhgnjewp_ind_8\" style=\"stroke:rgb(0.0, 138.56128015770724, 250.76166088685727);stroke-width:2; opacity: 0\"/><text x=\"41.591631923135175%\" y=\"71\" font-size=\"12px\" fill=\"rgb(0.0, 138.56128015770724, 250.76166088685727)\" id=\"_fs_ujjhrccullznwhgnjewp_ind_8\" style=\"opacity: 0\" dominant-baseline=\"middle\" text-anchor=\"middle\">-0.156</text><svg x=\"33.91942055526471%\" y=\"40\" height=\"20\" width=\"15.344422735740935%\">  <svg x=\"0\" y=\"0\" width=\"100%\" height=\"100%\">    <text x=\"50%\" y=\"9\" font-size=\"12px\" fill=\"rgb(255,255,255)\" dominant-baseline=\"middle\" text-anchor=\"middle\">ICK</text>  </svg></svg><line x1=\"49.26384329100564%\" x2=\"57.15255796255124%\" y1=\"60\" y2=\"60\" id=\"_fb_ujjhrccullznwhgnjewp_ind_17\" style=\"stroke:rgb(0.0, 138.56128015770724, 250.76166088685727);stroke-width:2; opacity: 0\"/><text x=\"53.20820062677844%\" y=\"71\" font-size=\"12px\" fill=\"rgb(0.0, 138.56128015770724, 250.76166088685727)\" id=\"_fs_ujjhrccullznwhgnjewp_ind_17\" style=\"opacity: 0\" dominant-baseline=\"middle\" text-anchor=\"middle\">-0.08</text><svg x=\"49.26384329100564%\" y=\"40\" height=\"20\" width=\"7.8887146715456%\">  <svg x=\"0\" y=\"0\" width=\"100%\" height=\"100%\">    <text x=\"50%\" y=\"9\" font-size=\"12px\" fill=\"rgb(255,255,255)\" dominant-baseline=\"middle\" text-anchor=\"middle\">UCK</text>  </svg></svg><line x1=\"57.15255796255124%\" x2=\"63.55673663758257%\" y1=\"60\" y2=\"60\" id=\"_fb_ujjhrccullznwhgnjewp_ind_4\" style=\"stroke:rgb(0.0, 138.56128015770724, 250.76166088685727);stroke-width:2; opacity: 0\"/><text x=\"60.3546473000669%\" y=\"71\" font-size=\"12px\" fill=\"rgb(0.0, 138.56128015770724, 250.76166088685727)\" id=\"_fs_ujjhrccullznwhgnjewp_ind_4\" style=\"opacity: 0\" dominant-baseline=\"middle\" text-anchor=\"middle\">-0.065</text><svg x=\"57.15255796255124%\" y=\"40\" height=\"20\" width=\"6.404178675031325%\">  <svg x=\"0\" y=\"0\" width=\"100%\" height=\"100%\">    <text x=\"50%\" y=\"9\" font-size=\"12px\" fill=\"rgb(255,255,255)\" dominant-baseline=\"middle\" text-anchor=\"middle\">S</text>  </svg></svg><line x1=\"63.55673663758257%\" x2=\"69.43040244244445%\" y1=\"60\" y2=\"60\" id=\"_fb_ujjhrccullznwhgnjewp_ind_7\" style=\"stroke:rgb(0.0, 138.56128015770724, 250.76166088685727);stroke-width:2; opacity: 0\"/><text x=\"66.49356954001351%\" y=\"71\" font-size=\"12px\" fill=\"rgb(0.0, 138.56128015770724, 250.76166088685727)\" id=\"_fs_ujjhrccullznwhgnjewp_ind_7\" style=\"opacity: 0\" dominant-baseline=\"middle\" text-anchor=\"middle\">-0.06</text><svg x=\"63.55673663758257%\" y=\"40\" height=\"20\" width=\"5.873665804861879%\">  <svg x=\"0\" y=\"0\" width=\"100%\" height=\"100%\">    <text x=\"50%\" y=\"9\" font-size=\"12px\" fill=\"rgb(255,255,255)\" dominant-baseline=\"middle\" text-anchor=\"middle\">D</text>  </svg></svg><line x1=\"69.43040244244445%\" x2=\"74.04090686144133%\" y1=\"60\" y2=\"60\" id=\"_fb_ujjhrccullznwhgnjewp_ind_6\" style=\"stroke:rgb(0.0, 138.56128015770724, 250.76166088685727);stroke-width:2; opacity: 0\"/><text x=\"71.7356546519429%\" y=\"71\" font-size=\"12px\" fill=\"rgb(0.0, 138.56128015770724, 250.76166088685727)\" id=\"_fs_ujjhrccullznwhgnjewp_ind_6\" style=\"opacity: 0\" dominant-baseline=\"middle\" text-anchor=\"middle\">-0.047</text><svg x=\"69.43040244244445%\" y=\"40\" height=\"20\" width=\"4.610504418996882%\">  <svg x=\"0\" y=\"0\" width=\"100%\" height=\"100%\">    <text x=\"50%\" y=\"9\" font-size=\"12px\" fill=\"rgb(255,255,255)\" dominant-baseline=\"middle\" text-anchor=\"middle\">HIS</text>  </svg></svg><line x1=\"74.04090686144133%\" x2=\"77.52103015916464%\" y1=\"60\" y2=\"60\" id=\"_fb_ujjhrccullznwhgnjewp_ind_1\" style=\"stroke:rgb(0.0, 138.56128015770724, 250.76166088685727);stroke-width:2; opacity: 0\"/><text x=\"75.78096851030298%\" y=\"71\" font-size=\"12px\" fill=\"rgb(0.0, 138.56128015770724, 250.76166088685727)\" id=\"_fs_ujjhrccullznwhgnjewp_ind_1\" style=\"opacity: 0\" dominant-baseline=\"middle\" text-anchor=\"middle\">-0.035</text><svg x=\"74.04090686144133%\" y=\"40\" height=\"20\" width=\"3.48012329772331%\">  <svg x=\"0\" y=\"0\" width=\"100%\" height=\"100%\">    <text x=\"50%\" y=\"9\" font-size=\"12px\" fill=\"rgb(255,255,255)\" dominant-baseline=\"middle\" text-anchor=\"middle\">YOU</text>  </svg></svg><line x1=\"77.52103015916464%\" x2=\"80.39172330330493%\" y1=\"60\" y2=\"60\" id=\"_fb_ujjhrccullznwhgnjewp_ind_19\" style=\"stroke:rgb(0.0, 138.56128015770724, 250.76166088685727);stroke-width:2; opacity: 0\"/><text x=\"78.95637673123478%\" y=\"71\" font-size=\"12px\" fill=\"rgb(0.0, 138.56128015770724, 250.76166088685727)\" id=\"_fs_ujjhrccullznwhgnjewp_ind_19\" style=\"opacity: 0\" dominant-baseline=\"middle\" text-anchor=\"middle\">-0.029</text><svg x=\"77.52103015916464%\" y=\"40\" height=\"20\" width=\"2.87069314414029%\">  <svg x=\"0\" y=\"0\" width=\"100%\" height=\"100%\">    <text x=\"50%\" y=\"9\" font-size=\"12px\" fill=\"rgb(255,255,255)\" dominant-baseline=\"middle\" text-anchor=\"middle\">GET</text>  </svg></svg><line x1=\"80.39172330330493%\" x2=\"83.14276097000673%\" y1=\"60\" y2=\"60\" id=\"_fb_ujjhrccullznwhgnjewp_ind_23\" style=\"stroke:rgb(0.0, 138.56128015770724, 250.76166088685727);stroke-width:2; opacity: 0\"/><text x=\"81.76724213665582%\" y=\"71\" font-size=\"12px\" fill=\"rgb(0.0, 138.56128015770724, 250.76166088685727)\" id=\"_fs_ujjhrccullznwhgnjewp_ind_23\" style=\"opacity: 0\" dominant-baseline=\"middle\" text-anchor=\"middle\">-0.028</text><svg x=\"80.39172330330493%\" y=\"40\" height=\"20\" width=\"2.751037666701805%\">  <svg x=\"0\" y=\"0\" width=\"100%\" height=\"100%\">    <text x=\"50%\" y=\"9\" font-size=\"12px\" fill=\"rgb(255,255,255)\" dominant-baseline=\"middle\" text-anchor=\"middle\">AAA</text>  </svg></svg><line x1=\"83.14276097000673%\" x2=\"85.74612913571784%\" y1=\"60\" y2=\"60\" id=\"_fb_ujjhrccullznwhgnjewp_ind_12\" style=\"stroke:rgb(0.0, 138.56128015770724, 250.76166088685727);stroke-width:2; opacity: 0\"/><text x=\"84.44444505286228%\" y=\"71\" font-size=\"12px\" fill=\"rgb(0.0, 138.56128015770724, 250.76166088685727)\" id=\"_fs_ujjhrccullznwhgnjewp_ind_12\" style=\"opacity: 0\" dominant-baseline=\"middle\" text-anchor=\"middle\">-0.027</text><svg x=\"83.14276097000673%\" y=\"40\" height=\"20\" width=\"2.603368165711103%\">  <svg x=\"0\" y=\"0\" width=\"100%\" height=\"100%\">    <text x=\"50%\" y=\"9\" font-size=\"12px\" fill=\"rgb(255,255,255)\" dominant-baseline=\"middle\" text-anchor=\"middle\">I</text>  </svg></svg><line x1=\"85.74612913571784%\" x2=\"87.62862563708241%\" y1=\"60\" y2=\"60\" id=\"_fb_ujjhrccullznwhgnjewp_ind_11\" style=\"stroke:rgb(0.0, 138.56128015770724, 250.76166088685727);stroke-width:2; opacity: 0\"/><text x=\"86.68737738640013%\" y=\"71\" font-size=\"12px\" fill=\"rgb(0.0, 138.56128015770724, 250.76166088685727)\" id=\"_fs_ujjhrccullznwhgnjewp_ind_11\" style=\"opacity: 0\" dominant-baseline=\"middle\" text-anchor=\"middle\">-0.019</text><svg x=\"85.74612913571784%\" y=\"40\" height=\"20\" width=\"1.882496501364571%\">  <svg x=\"0\" y=\"0\" width=\"100%\" height=\"100%\">    <text x=\"50%\" y=\"9\" font-size=\"12px\" fill=\"rgb(255,255,255)\" dominant-baseline=\"middle\" text-anchor=\"middle\">Y</text>  </svg></svg><line x1=\"87.62862563708241%\" x2=\"89.01508130580366%\" y1=\"60\" y2=\"60\" id=\"_fb_ujjhrccullznwhgnjewp_ind_21\" style=\"stroke:rgb(0.0, 138.56128015770724, 250.76166088685727);stroke-width:2; opacity: 0\"/><text x=\"88.32185347144303%\" y=\"71\" font-size=\"12px\" fill=\"rgb(0.0, 138.56128015770724, 250.76166088685727)\" id=\"_fs_ujjhrccullznwhgnjewp_ind_21\" style=\"opacity: 0\" dominant-baseline=\"middle\" text-anchor=\"middle\">-0.014</text><svg x=\"87.62862563708241%\" y=\"40\" height=\"20\" width=\"1.3864556687212541%\">  <svg x=\"0\" y=\"0\" width=\"100%\" height=\"100%\">    <text x=\"50%\" y=\"9\" font-size=\"12px\" fill=\"rgb(255,255,255)\" dominant-baseline=\"middle\" text-anchor=\"middle\">G</text>  </svg></svg><line x1=\"89.01508130580366%\" x2=\"90.18143300852529%\" y1=\"60\" y2=\"60\" id=\"_fb_ujjhrccullznwhgnjewp_ind_16\" style=\"stroke:rgb(0.0, 138.56128015770724, 250.76166088685727);stroke-width:2; opacity: 0\"/><text x=\"89.59825715716448%\" y=\"71\" font-size=\"12px\" fill=\"rgb(0.0, 138.56128015770724, 250.76166088685727)\" id=\"_fs_ujjhrccullznwhgnjewp_ind_16\" style=\"opacity: 0\" dominant-baseline=\"middle\" text-anchor=\"middle\">-0.012</text><svg x=\"89.01508130580366%\" y=\"40\" height=\"20\" width=\"1.1663517027216272%\">  <svg x=\"0\" y=\"0\" width=\"100%\" height=\"100%\">    <text x=\"50%\" y=\"9\" font-size=\"12px\" fill=\"rgb(255,255,255)\" dominant-baseline=\"middle\" text-anchor=\"middle\">KN</text>  </svg></svg><line x1=\"90.18143300852529%\" x2=\"90.96877026910775%\" y1=\"60\" y2=\"60\" id=\"_fb_ujjhrccullznwhgnjewp_ind_10\" style=\"stroke:rgb(0.0, 138.56128015770724, 250.76166088685727);stroke-width:2; opacity: 0\"/><text x=\"90.57510163881652%\" y=\"71\" font-size=\"12px\" fill=\"rgb(0.0, 138.56128015770724, 250.76166088685727)\" id=\"_fs_ujjhrccullznwhgnjewp_ind_10\" style=\"opacity: 0\" dominant-baseline=\"middle\" text-anchor=\"middle\">-0.008</text><svg x=\"90.18143300852529%\" y=\"40\" height=\"20\" width=\"0.7873372605824613%\">  <svg x=\"0\" y=\"0\" width=\"100%\" height=\"100%\">    <text x=\"50%\" y=\"9\" font-size=\"12px\" fill=\"rgb(255,255,255)\" dominant-baseline=\"middle\" text-anchor=\"middle\">Z</text>  </svg></svg><line x1=\"90.96877026910775%\" x2=\"91.35211890865138%\" y1=\"60\" y2=\"60\" id=\"_fb_ujjhrccullznwhgnjewp_ind_14\" style=\"stroke:rgb(0.0, 138.56128015770724, 250.76166088685727);stroke-width:2; opacity: 0\"/><text x=\"91.16044458887956%\" y=\"71\" font-size=\"12px\" fill=\"rgb(0.0, 138.56128015770724, 250.76166088685727)\" id=\"_fs_ujjhrccullznwhgnjewp_ind_14\" style=\"opacity: 0\" dominant-baseline=\"middle\" text-anchor=\"middle\">-0.004</text><svg x=\"90.96877026910775%\" y=\"40\" height=\"20\" width=\"0.38334863954362675%\">  <svg x=\"0\" y=\"0\" width=\"100%\" height=\"100%\">    <text x=\"50%\" y=\"9\" font-size=\"12px\" fill=\"rgb(255,255,255)\" dominant-baseline=\"middle\" text-anchor=\"middle\">YOU</text>  </svg></svg><line x1=\"91.35211890865138%\" x2=\"91.51864882169467%\" y1=\"60\" y2=\"60\" id=\"_fb_ujjhrccullznwhgnjewp_ind_22\" style=\"stroke:rgb(0.0, 138.56128015770724, 250.76166088685727);stroke-width:2; opacity: 0\"/><text x=\"91.43538386517302%\" y=\"71\" font-size=\"12px\" fill=\"rgb(0.0, 138.56128015770724, 250.76166088685727)\" id=\"_fs_ujjhrccullznwhgnjewp_ind_22\" style=\"opacity: 0\" dominant-baseline=\"middle\" text-anchor=\"middle\">-0.002</text><svg x=\"91.35211890865138%\" y=\"40\" height=\"20\" width=\"0.16652991304329134%\">  <svg x=\"0\" y=\"0\" width=\"100%\" height=\"100%\">    <text x=\"50%\" y=\"9\" font-size=\"12px\" fill=\"rgb(255,255,255)\" dominant-baseline=\"middle\" text-anchor=\"middle\">Y</text>  </svg></svg><line x1=\"91.51864882169467%\" x2=\"91.66626898790605%\" y1=\"60\" y2=\"60\" id=\"_fb_ujjhrccullznwhgnjewp_ind_20\" style=\"stroke:rgb(0.0, 138.56128015770724, 250.76166088685727);stroke-width:2; opacity: 0\"/><text x=\"91.59245890480037%\" y=\"71\" font-size=\"12px\" fill=\"rgb(0.0, 138.56128015770724, 250.76166088685727)\" id=\"_fs_ujjhrccullznwhgnjewp_ind_20\" style=\"opacity: 0\" dominant-baseline=\"middle\" text-anchor=\"middle\">-0.002</text><svg x=\"91.51864882169467%\" y=\"40\" height=\"20\" width=\"0.1476201662113823%\">  <svg x=\"0\" y=\"0\" width=\"100%\" height=\"100%\">    <text x=\"50%\" y=\"9\" font-size=\"12px\" fill=\"rgb(255,255,255)\" dominant-baseline=\"middle\" text-anchor=\"middle\">EM</text>  </svg></svg><line x1=\"91.66626898790605%\" x2=\"91.66666576743678%\" y1=\"60\" y2=\"60\" id=\"_fb_ujjhrccullznwhgnjewp_ind_0\" style=\"stroke:rgb(0.0, 138.56128015770724, 250.76166088685727);stroke-width:2; opacity: 0\"/><text x=\"91.66646737767141%\" y=\"71\" font-size=\"12px\" fill=\"rgb(0.0, 138.56128015770724, 250.76166088685727)\" id=\"_fs_ujjhrccullznwhgnjewp_ind_0\" style=\"opacity: 0\" dominant-baseline=\"middle\" text-anchor=\"middle\">-0.0</text><svg x=\"91.66626898790605%\" y=\"40\" height=\"20\" width=\"0.0003967795307318056%\">  <svg x=\"0\" y=\"0\" width=\"100%\" height=\"100%\">    <text x=\"50%\" y=\"9\" font-size=\"12px\" fill=\"rgb(255,255,255)\" dominant-baseline=\"middle\" text-anchor=\"middle\"></text>  </svg></svg><g transform=\"translate(-8,0)\">  <svg x=\"33.91942055526471%\" y=\"40\" height=\"18\" overflow=\"visible\" width=\"30\">    <path d=\"M 8 -9 l -6 18 L 8 25\" fill=\"none\" style=\"stroke:rgb(0.0, 138.56128015770724, 250.76166088685727);stroke-width:2\" />  </svg></g><g transform=\"translate(-10,0)\">  <svg x=\"33.91942055526471%\" y=\"40\" height=\"18\" overflow=\"visible\" width=\"30\">    <path d=\"M 8 -9 l -6 18 L 8 25\" fill=\"none\" style=\"stroke:rgb(0.0, 138.56128015770724, 250.76166088685727);stroke-width:2\" />  </svg></g><g transform=\"translate(-12,0)\">  <svg x=\"33.91942055526471%\" y=\"40\" height=\"18\" overflow=\"visible\" width=\"30\">    <path d=\"M 8 -9 l -6 18 L 8 25\" fill=\"none\" style=\"stroke:rgb(0.0, 138.56128015770724, 250.76166088685727);stroke-width:2\" />  </svg></g><g transform=\"translate(-14,0)\">  <svg x=\"33.91942055526471%\" y=\"40\" height=\"18\" overflow=\"visible\" width=\"30\">    <path d=\"M 8 -9 l -6 18 L 8 25\" fill=\"none\" style=\"stroke:rgb(0.0, 138.56128015770724, 250.76166088685727);stroke-width:2\" />  </svg></g><g transform=\"translate(2,0)\">  <svg x=\"33.91942055526471%\" y=\"40\" height=\"18\" overflow=\"visible\" width=\"30\">    <path d=\"M 8 -9 l -6 18 L 8 25\" fill=\"none\" style=\"stroke:rgb(0.0, 138.56128015770724, 250.76166088685727);stroke-width:2\" />  </svg></g><g transform=\"translate(0,0)\">  <svg x=\"33.91942055526471%\" y=\"40\" height=\"18\" overflow=\"visible\" width=\"30\">    <path d=\"M 8 -9 l -6 18 L 8 25\" fill=\"none\" style=\"stroke:rgb(0.0, 138.56128015770724, 250.76166088685727);stroke-width:2\" />  </svg></g><g transform=\"translate(-2,0)\">  <svg x=\"33.91942055526471%\" y=\"40\" height=\"18\" overflow=\"visible\" width=\"30\">    <path d=\"M 8 -9 l -6 18 L 8 25\" fill=\"none\" style=\"stroke:rgb(0.0, 138.56128015770724, 250.76166088685727);stroke-width:2\" />  </svg></g><g transform=\"translate(-4,0)\">  <svg x=\"33.91942055526471%\" y=\"40\" height=\"18\" overflow=\"visible\" width=\"30\">    <path d=\"M 8 -9 l -6 18 L 8 25\" fill=\"none\" style=\"stroke:rgb(0.0, 138.56128015770724, 250.76166088685727);stroke-width:2\" />  </svg></g><g transform=\"translate(-8,0)\">  <svg x=\"49.26384329100564%\" y=\"40\" height=\"18\" overflow=\"visible\" width=\"30\">    <path d=\"M 8 -9 l -6 18 L 8 25\" fill=\"none\" style=\"stroke:rgb(0.0, 138.56128015770724, 250.76166088685727);stroke-width:2\" />  </svg></g><g transform=\"translate(-10,0)\">  <svg x=\"49.26384329100564%\" y=\"40\" height=\"18\" overflow=\"visible\" width=\"30\">    <path d=\"M 8 -9 l -6 18 L 8 25\" fill=\"none\" style=\"stroke:rgb(0.0, 138.56128015770724, 250.76166088685727);stroke-width:2\" />  </svg></g><g transform=\"translate(-12,0)\">  <svg x=\"49.26384329100564%\" y=\"40\" height=\"18\" overflow=\"visible\" width=\"30\">    <path d=\"M 8 -9 l -6 18 L 8 25\" fill=\"none\" style=\"stroke:rgb(0.0, 138.56128015770724, 250.76166088685727);stroke-width:2\" />  </svg></g><g transform=\"translate(-14,0)\">  <svg x=\"49.26384329100564%\" y=\"40\" height=\"18\" overflow=\"visible\" width=\"30\">    <path d=\"M 8 -9 l -6 18 L 8 25\" fill=\"none\" style=\"stroke:rgb(0.0, 138.56128015770724, 250.76166088685727);stroke-width:2\" />  </svg></g><g transform=\"translate(2,0)\">  <svg x=\"49.26384329100564%\" y=\"40\" height=\"18\" overflow=\"visible\" width=\"30\">    <path d=\"M 8 -9 l -6 18 L 8 25\" fill=\"none\" style=\"stroke:rgb(0.0, 138.56128015770724, 250.76166088685727);stroke-width:2\" />  </svg></g><g transform=\"translate(0,0)\">  <svg x=\"49.26384329100564%\" y=\"40\" height=\"18\" overflow=\"visible\" width=\"30\">    <path d=\"M 8 -9 l -6 18 L 8 25\" fill=\"none\" style=\"stroke:rgb(0.0, 138.56128015770724, 250.76166088685727);stroke-width:2\" />  </svg></g><g transform=\"translate(-2,0)\">  <svg x=\"49.26384329100564%\" y=\"40\" height=\"18\" overflow=\"visible\" width=\"30\">    <path d=\"M 8 -9 l -6 18 L 8 25\" fill=\"none\" style=\"stroke:rgb(0.0, 138.56128015770724, 250.76166088685727);stroke-width:2\" />  </svg></g><g transform=\"translate(-4,0)\">  <svg x=\"49.26384329100564%\" y=\"40\" height=\"18\" overflow=\"visible\" width=\"30\">    <path d=\"M 8 -9 l -6 18 L 8 25\" fill=\"none\" style=\"stroke:rgb(0.0, 138.56128015770724, 250.76166088685727);stroke-width:2\" />  </svg></g><g transform=\"translate(-8,0)\">  <svg x=\"57.15255796255124%\" y=\"40\" height=\"18\" overflow=\"visible\" width=\"30\">    <path d=\"M 8 -9 l -6 18 L 8 25\" fill=\"none\" style=\"stroke:rgb(0.0, 138.56128015770724, 250.76166088685727);stroke-width:2\" />  </svg></g><g transform=\"translate(-10,0)\">  <svg x=\"57.15255796255124%\" y=\"40\" height=\"18\" overflow=\"visible\" width=\"30\">    <path d=\"M 8 -9 l -6 18 L 8 25\" fill=\"none\" style=\"stroke:rgb(0.0, 138.56128015770724, 250.76166088685727);stroke-width:2\" />  </svg></g><g transform=\"translate(-12,0)\">  <svg x=\"57.15255796255124%\" y=\"40\" height=\"18\" overflow=\"visible\" width=\"30\">    <path d=\"M 8 -9 l -6 18 L 8 25\" fill=\"none\" style=\"stroke:rgb(0.0, 138.56128015770724, 250.76166088685727);stroke-width:2\" />  </svg></g><g transform=\"translate(-14,0)\">  <svg x=\"57.15255796255124%\" y=\"40\" height=\"18\" overflow=\"visible\" width=\"30\">    <path d=\"M 8 -9 l -6 18 L 8 25\" fill=\"none\" style=\"stroke:rgb(0.0, 138.56128015770724, 250.76166088685727);stroke-width:2\" />  </svg></g><g transform=\"translate(2,0)\">  <svg x=\"57.15255796255124%\" y=\"40\" height=\"18\" overflow=\"visible\" width=\"30\">    <path d=\"M 8 -9 l -6 18 L 8 25\" fill=\"none\" style=\"stroke:rgb(0.0, 138.56128015770724, 250.76166088685727);stroke-width:2\" />  </svg></g><g transform=\"translate(0,0)\">  <svg x=\"57.15255796255124%\" y=\"40\" height=\"18\" overflow=\"visible\" width=\"30\">    <path d=\"M 8 -9 l -6 18 L 8 25\" fill=\"none\" style=\"stroke:rgb(0.0, 138.56128015770724, 250.76166088685727);stroke-width:2\" />  </svg></g><g transform=\"translate(-2,0)\">  <svg x=\"57.15255796255124%\" y=\"40\" height=\"18\" overflow=\"visible\" width=\"30\">    <path d=\"M 8 -9 l -6 18 L 8 25\" fill=\"none\" style=\"stroke:rgb(0.0, 138.56128015770724, 250.76166088685727);stroke-width:2\" />  </svg></g><g transform=\"translate(-4,0)\">  <svg x=\"57.15255796255124%\" y=\"40\" height=\"18\" overflow=\"visible\" width=\"30\">    <path d=\"M 8 -9 l -6 18 L 8 25\" fill=\"none\" style=\"stroke:rgb(0.0, 138.56128015770724, 250.76166088685727);stroke-width:2\" />  </svg></g><g transform=\"translate(-8,0)\">  <svg x=\"63.55673663758257%\" y=\"40\" height=\"18\" overflow=\"visible\" width=\"30\">    <path d=\"M 8 -9 l -6 18 L 8 25\" fill=\"none\" style=\"stroke:rgb(0.0, 138.56128015770724, 250.76166088685727);stroke-width:2\" />  </svg></g><g transform=\"translate(-10,0)\">  <svg x=\"63.55673663758257%\" y=\"40\" height=\"18\" overflow=\"visible\" width=\"30\">    <path d=\"M 8 -9 l -6 18 L 8 25\" fill=\"none\" style=\"stroke:rgb(0.0, 138.56128015770724, 250.76166088685727);stroke-width:2\" />  </svg></g><g transform=\"translate(-12,0)\">  <svg x=\"63.55673663758257%\" y=\"40\" height=\"18\" overflow=\"visible\" width=\"30\">    <path d=\"M 8 -9 l -6 18 L 8 25\" fill=\"none\" style=\"stroke:rgb(0.0, 138.56128015770724, 250.76166088685727);stroke-width:2\" />  </svg></g><g transform=\"translate(-14,0)\">  <svg x=\"63.55673663758257%\" y=\"40\" height=\"18\" overflow=\"visible\" width=\"30\">    <path d=\"M 8 -9 l -6 18 L 8 25\" fill=\"none\" style=\"stroke:rgb(0.0, 138.56128015770724, 250.76166088685727);stroke-width:2\" />  </svg></g><g transform=\"translate(2,0)\">  <svg x=\"63.55673663758257%\" y=\"40\" height=\"18\" overflow=\"visible\" width=\"30\">    <path d=\"M 8 -9 l -6 18 L 8 25\" fill=\"none\" style=\"stroke:rgb(0.0, 138.56128015770724, 250.76166088685727);stroke-width:2\" />  </svg></g><g transform=\"translate(0,0)\">  <svg x=\"63.55673663758257%\" y=\"40\" height=\"18\" overflow=\"visible\" width=\"30\">    <path d=\"M 8 -9 l -6 18 L 8 25\" fill=\"none\" style=\"stroke:rgb(0.0, 138.56128015770724, 250.76166088685727);stroke-width:2\" />  </svg></g><g transform=\"translate(-2,0)\">  <svg x=\"63.55673663758257%\" y=\"40\" height=\"18\" overflow=\"visible\" width=\"30\">    <path d=\"M 8 -9 l -6 18 L 8 25\" fill=\"none\" style=\"stroke:rgb(0.0, 138.56128015770724, 250.76166088685727);stroke-width:2\" />  </svg></g><g transform=\"translate(-4,0)\">  <svg x=\"63.55673663758257%\" y=\"40\" height=\"18\" overflow=\"visible\" width=\"30\">    <path d=\"M 8 -9 l -6 18 L 8 25\" fill=\"none\" style=\"stroke:rgb(0.0, 138.56128015770724, 250.76166088685727);stroke-width:2\" />  </svg></g><g transform=\"translate(-8,0)\">  <svg x=\"69.43040244244445%\" y=\"40\" height=\"18\" overflow=\"visible\" width=\"30\">    <path d=\"M 8 -9 l -6 18 L 8 25\" fill=\"none\" style=\"stroke:rgb(0.0, 138.56128015770724, 250.76166088685727);stroke-width:2\" />  </svg></g><g transform=\"translate(-10,0)\">  <svg x=\"69.43040244244445%\" y=\"40\" height=\"18\" overflow=\"visible\" width=\"30\">    <path d=\"M 8 -9 l -6 18 L 8 25\" fill=\"none\" style=\"stroke:rgb(0.0, 138.56128015770724, 250.76166088685727);stroke-width:2\" />  </svg></g><g transform=\"translate(-12,0)\">  <svg x=\"69.43040244244445%\" y=\"40\" height=\"18\" overflow=\"visible\" width=\"30\">    <path d=\"M 8 -9 l -6 18 L 8 25\" fill=\"none\" style=\"stroke:rgb(0.0, 138.56128015770724, 250.76166088685727);stroke-width:2\" />  </svg></g><g transform=\"translate(-14,0)\">  <svg x=\"69.43040244244445%\" y=\"40\" height=\"18\" overflow=\"visible\" width=\"30\">    <path d=\"M 8 -9 l -6 18 L 8 25\" fill=\"none\" style=\"stroke:rgb(0.0, 138.56128015770724, 250.76166088685727);stroke-width:2\" />  </svg></g><g transform=\"translate(2,0)\">  <svg x=\"69.43040244244445%\" y=\"40\" height=\"18\" overflow=\"visible\" width=\"30\">    <path d=\"M 8 -9 l -6 18 L 8 25\" fill=\"none\" style=\"stroke:rgb(0.0, 138.56128015770724, 250.76166088685727);stroke-width:2\" />  </svg></g><g transform=\"translate(0,0)\">  <svg x=\"69.43040244244445%\" y=\"40\" height=\"18\" overflow=\"visible\" width=\"30\">    <path d=\"M 8 -9 l -6 18 L 8 25\" fill=\"none\" style=\"stroke:rgb(0.0, 138.56128015770724, 250.76166088685727);stroke-width:2\" />  </svg></g><g transform=\"translate(-2,0)\">  <svg x=\"69.43040244244445%\" y=\"40\" height=\"18\" overflow=\"visible\" width=\"30\">    <path d=\"M 8 -9 l -6 18 L 8 25\" fill=\"none\" style=\"stroke:rgb(0.0, 138.56128015770724, 250.76166088685727);stroke-width:2\" />  </svg></g><g transform=\"translate(-4,0)\">  <svg x=\"69.43040244244445%\" y=\"40\" height=\"18\" overflow=\"visible\" width=\"30\">    <path d=\"M 8 -9 l -6 18 L 8 25\" fill=\"none\" style=\"stroke:rgb(0.0, 138.56128015770724, 250.76166088685727);stroke-width:2\" />  </svg></g><g transform=\"translate(-8,0)\">  <svg x=\"74.04090686144133%\" y=\"40\" height=\"18\" overflow=\"visible\" width=\"30\">    <path d=\"M 8 -9 l -6 18 L 8 25\" fill=\"none\" style=\"stroke:rgb(0.0, 138.56128015770724, 250.76166088685727);stroke-width:2\" />  </svg></g><g transform=\"translate(-10,0)\">  <svg x=\"74.04090686144133%\" y=\"40\" height=\"18\" overflow=\"visible\" width=\"30\">    <path d=\"M 8 -9 l -6 18 L 8 25\" fill=\"none\" style=\"stroke:rgb(0.0, 138.56128015770724, 250.76166088685727);stroke-width:2\" />  </svg></g><g transform=\"translate(-12,0)\">  <svg x=\"74.04090686144133%\" y=\"40\" height=\"18\" overflow=\"visible\" width=\"30\">    <path d=\"M 8 -9 l -6 18 L 8 25\" fill=\"none\" style=\"stroke:rgb(0.0, 138.56128015770724, 250.76166088685727);stroke-width:2\" />  </svg></g><g transform=\"translate(-14,0)\">  <svg x=\"74.04090686144133%\" y=\"40\" height=\"18\" overflow=\"visible\" width=\"30\">    <path d=\"M 8 -9 l -6 18 L 8 25\" fill=\"none\" style=\"stroke:rgb(0.0, 138.56128015770724, 250.76166088685727);stroke-width:2\" />  </svg></g><g transform=\"translate(2,0)\">  <svg x=\"74.04090686144133%\" y=\"40\" height=\"18\" overflow=\"visible\" width=\"30\">    <path d=\"M 8 -9 l -6 18 L 8 25\" fill=\"none\" style=\"stroke:rgb(0.0, 138.56128015770724, 250.76166088685727);stroke-width:2\" />  </svg></g><g transform=\"translate(0,0)\">  <svg x=\"74.04090686144133%\" y=\"40\" height=\"18\" overflow=\"visible\" width=\"30\">    <path d=\"M 8 -9 l -6 18 L 8 25\" fill=\"none\" style=\"stroke:rgb(0.0, 138.56128015770724, 250.76166088685727);stroke-width:2\" />  </svg></g><g transform=\"translate(-2,0)\">  <svg x=\"74.04090686144133%\" y=\"40\" height=\"18\" overflow=\"visible\" width=\"30\">    <path d=\"M 8 -9 l -6 18 L 8 25\" fill=\"none\" style=\"stroke:rgb(0.0, 138.56128015770724, 250.76166088685727);stroke-width:2\" />  </svg></g><g transform=\"translate(-4,0)\">  <svg x=\"74.04090686144133%\" y=\"40\" height=\"18\" overflow=\"visible\" width=\"30\">    <path d=\"M 8 -9 l -6 18 L 8 25\" fill=\"none\" style=\"stroke:rgb(0.0, 138.56128015770724, 250.76166088685727);stroke-width:2\" />  </svg></g><g transform=\"translate(-8,0)\">  <svg x=\"77.52103015916464%\" y=\"40\" height=\"18\" overflow=\"visible\" width=\"30\">    <path d=\"M 8 -9 l -6 18 L 8 25\" fill=\"none\" style=\"stroke:rgb(0.0, 138.56128015770724, 250.76166088685727);stroke-width:2\" />  </svg></g><g transform=\"translate(-10,0)\">  <svg x=\"77.52103015916464%\" y=\"40\" height=\"18\" overflow=\"visible\" width=\"30\">    <path d=\"M 8 -9 l -6 18 L 8 25\" fill=\"none\" style=\"stroke:rgb(0.0, 138.56128015770724, 250.76166088685727);stroke-width:2\" />  </svg></g><g transform=\"translate(-12,0)\">  <svg x=\"77.52103015916464%\" y=\"40\" height=\"18\" overflow=\"visible\" width=\"30\">    <path d=\"M 8 -9 l -6 18 L 8 25\" fill=\"none\" style=\"stroke:rgb(0.0, 138.56128015770724, 250.76166088685727);stroke-width:2\" />  </svg></g><g transform=\"translate(-14,0)\">  <svg x=\"77.52103015916464%\" y=\"40\" height=\"18\" overflow=\"visible\" width=\"30\">    <path d=\"M 8 -9 l -6 18 L 8 25\" fill=\"none\" style=\"stroke:rgb(0.0, 138.56128015770724, 250.76166088685727);stroke-width:2\" />  </svg></g><g transform=\"translate(2,0)\">  <svg x=\"77.52103015916464%\" y=\"40\" height=\"18\" overflow=\"visible\" width=\"30\">    <path d=\"M 8 -9 l -6 18 L 8 25\" fill=\"none\" style=\"stroke:rgb(0.0, 138.56128015770724, 250.76166088685727);stroke-width:2\" />  </svg></g><g transform=\"translate(0,0)\">  <svg x=\"77.52103015916464%\" y=\"40\" height=\"18\" overflow=\"visible\" width=\"30\">    <path d=\"M 8 -9 l -6 18 L 8 25\" fill=\"none\" style=\"stroke:rgb(0.0, 138.56128015770724, 250.76166088685727);stroke-width:2\" />  </svg></g><g transform=\"translate(-2,0)\">  <svg x=\"77.52103015916464%\" y=\"40\" height=\"18\" overflow=\"visible\" width=\"30\">    <path d=\"M 8 -9 l -6 18 L 8 25\" fill=\"none\" style=\"stroke:rgb(0.0, 138.56128015770724, 250.76166088685727);stroke-width:2\" />  </svg></g><g transform=\"translate(-4,0)\">  <svg x=\"77.52103015916464%\" y=\"40\" height=\"18\" overflow=\"visible\" width=\"30\">    <path d=\"M 8 -9 l -6 18 L 8 25\" fill=\"none\" style=\"stroke:rgb(0.0, 138.56128015770724, 250.76166088685727);stroke-width:2\" />  </svg></g><g transform=\"translate(-8,0)\">  <svg x=\"80.39172330330493%\" y=\"40\" height=\"18\" overflow=\"visible\" width=\"30\">    <path d=\"M 8 -9 l -6 18 L 8 25\" fill=\"none\" style=\"stroke:rgb(0.0, 138.56128015770724, 250.76166088685727);stroke-width:2\" />  </svg></g><g transform=\"translate(-10,0)\">  <svg x=\"80.39172330330493%\" y=\"40\" height=\"18\" overflow=\"visible\" width=\"30\">    <path d=\"M 8 -9 l -6 18 L 8 25\" fill=\"none\" style=\"stroke:rgb(0.0, 138.56128015770724, 250.76166088685727);stroke-width:2\" />  </svg></g><g transform=\"translate(-12,0)\">  <svg x=\"80.39172330330493%\" y=\"40\" height=\"18\" overflow=\"visible\" width=\"30\">    <path d=\"M 8 -9 l -6 18 L 8 25\" fill=\"none\" style=\"stroke:rgb(0.0, 138.56128015770724, 250.76166088685727);stroke-width:2\" />  </svg></g><g transform=\"translate(-14,0)\">  <svg x=\"80.39172330330493%\" y=\"40\" height=\"18\" overflow=\"visible\" width=\"30\">    <path d=\"M 8 -9 l -6 18 L 8 25\" fill=\"none\" style=\"stroke:rgb(0.0, 138.56128015770724, 250.76166088685727);stroke-width:2\" />  </svg></g><g transform=\"translate(2,0)\">  <svg x=\"80.39172330330493%\" y=\"40\" height=\"18\" overflow=\"visible\" width=\"30\">    <path d=\"M 8 -9 l -6 18 L 8 25\" fill=\"none\" style=\"stroke:rgb(0.0, 138.56128015770724, 250.76166088685727);stroke-width:2\" />  </svg></g><g transform=\"translate(0,0)\">  <svg x=\"80.39172330330493%\" y=\"40\" height=\"18\" overflow=\"visible\" width=\"30\">    <path d=\"M 8 -9 l -6 18 L 8 25\" fill=\"none\" style=\"stroke:rgb(0.0, 138.56128015770724, 250.76166088685727);stroke-width:2\" />  </svg></g><g transform=\"translate(-2,0)\">  <svg x=\"80.39172330330493%\" y=\"40\" height=\"18\" overflow=\"visible\" width=\"30\">    <path d=\"M 8 -9 l -6 18 L 8 25\" fill=\"none\" style=\"stroke:rgb(0.0, 138.56128015770724, 250.76166088685727);stroke-width:2\" />  </svg></g><g transform=\"translate(-4,0)\">  <svg x=\"80.39172330330493%\" y=\"40\" height=\"18\" overflow=\"visible\" width=\"30\">    <path d=\"M 8 -9 l -6 18 L 8 25\" fill=\"none\" style=\"stroke:rgb(0.0, 138.56128015770724, 250.76166088685727);stroke-width:2\" />  </svg></g><g transform=\"translate(-8,0)\">  <svg x=\"83.14276097000673%\" y=\"40\" height=\"18\" overflow=\"visible\" width=\"30\">    <path d=\"M 8 -9 l -6 18 L 8 25\" fill=\"none\" style=\"stroke:rgb(0.0, 138.56128015770724, 250.76166088685727);stroke-width:2\" />  </svg></g><g transform=\"translate(-10,0)\">  <svg x=\"83.14276097000673%\" y=\"40\" height=\"18\" overflow=\"visible\" width=\"30\">    <path d=\"M 8 -9 l -6 18 L 8 25\" fill=\"none\" style=\"stroke:rgb(0.0, 138.56128015770724, 250.76166088685727);stroke-width:2\" />  </svg></g><g transform=\"translate(-12,0)\">  <svg x=\"83.14276097000673%\" y=\"40\" height=\"18\" overflow=\"visible\" width=\"30\">    <path d=\"M 8 -9 l -6 18 L 8 25\" fill=\"none\" style=\"stroke:rgb(0.0, 138.56128015770724, 250.76166088685727);stroke-width:2\" />  </svg></g><g transform=\"translate(-14,0)\">  <svg x=\"83.14276097000673%\" y=\"40\" height=\"18\" overflow=\"visible\" width=\"30\">    <path d=\"M 8 -9 l -6 18 L 8 25\" fill=\"none\" style=\"stroke:rgb(0.0, 138.56128015770724, 250.76166088685727);stroke-width:2\" />  </svg></g><g transform=\"translate(2,0)\">  <svg x=\"83.14276097000673%\" y=\"40\" height=\"18\" overflow=\"visible\" width=\"30\">    <path d=\"M 8 -9 l -6 18 L 8 25\" fill=\"none\" style=\"stroke:rgb(0.0, 138.56128015770724, 250.76166088685727);stroke-width:2\" />  </svg></g><g transform=\"translate(0,0)\">  <svg x=\"83.14276097000673%\" y=\"40\" height=\"18\" overflow=\"visible\" width=\"30\">    <path d=\"M 8 -9 l -6 18 L 8 25\" fill=\"none\" style=\"stroke:rgb(0.0, 138.56128015770724, 250.76166088685727);stroke-width:2\" />  </svg></g><g transform=\"translate(-2,0)\">  <svg x=\"83.14276097000673%\" y=\"40\" height=\"18\" overflow=\"visible\" width=\"30\">    <path d=\"M 8 -9 l -6 18 L 8 25\" fill=\"none\" style=\"stroke:rgb(0.0, 138.56128015770724, 250.76166088685727);stroke-width:2\" />  </svg></g><g transform=\"translate(-4,0)\">  <svg x=\"83.14276097000673%\" y=\"40\" height=\"18\" overflow=\"visible\" width=\"30\">    <path d=\"M 8 -9 l -6 18 L 8 25\" fill=\"none\" style=\"stroke:rgb(0.0, 138.56128015770724, 250.76166088685727);stroke-width:2\" />  </svg></g><g transform=\"translate(-8,0)\">  <svg x=\"85.74612913571784%\" y=\"40\" height=\"18\" overflow=\"visible\" width=\"30\">    <path d=\"M 8 -9 l -6 18 L 8 25\" fill=\"none\" style=\"stroke:rgb(0.0, 138.56128015770724, 250.76166088685727);stroke-width:2\" />  </svg></g><g transform=\"translate(-10,0)\">  <svg x=\"85.74612913571784%\" y=\"40\" height=\"18\" overflow=\"visible\" width=\"30\">    <path d=\"M 8 -9 l -6 18 L 8 25\" fill=\"none\" style=\"stroke:rgb(0.0, 138.56128015770724, 250.76166088685727);stroke-width:2\" />  </svg></g><g transform=\"translate(-12,0)\">  <svg x=\"85.74612913571784%\" y=\"40\" height=\"18\" overflow=\"visible\" width=\"30\">    <path d=\"M 8 -9 l -6 18 L 8 25\" fill=\"none\" style=\"stroke:rgb(0.0, 138.56128015770724, 250.76166088685727);stroke-width:2\" />  </svg></g><g transform=\"translate(-14,0)\">  <svg x=\"85.74612913571784%\" y=\"40\" height=\"18\" overflow=\"visible\" width=\"30\">    <path d=\"M 8 -9 l -6 18 L 8 25\" fill=\"none\" style=\"stroke:rgb(0.0, 138.56128015770724, 250.76166088685727);stroke-width:2\" />  </svg></g><g transform=\"translate(2,0)\">  <svg x=\"85.74612913571784%\" y=\"40\" height=\"18\" overflow=\"visible\" width=\"30\">    <path d=\"M 8 -9 l -6 18 L 8 25\" fill=\"none\" style=\"stroke:rgb(0.0, 138.56128015770724, 250.76166088685727);stroke-width:2\" />  </svg></g><g transform=\"translate(0,0)\">  <svg x=\"85.74612913571784%\" y=\"40\" height=\"18\" overflow=\"visible\" width=\"30\">    <path d=\"M 8 -9 l -6 18 L 8 25\" fill=\"none\" style=\"stroke:rgb(0.0, 138.56128015770724, 250.76166088685727);stroke-width:2\" />  </svg></g><g transform=\"translate(-2,0)\">  <svg x=\"85.74612913571784%\" y=\"40\" height=\"18\" overflow=\"visible\" width=\"30\">    <path d=\"M 8 -9 l -6 18 L 8 25\" fill=\"none\" style=\"stroke:rgb(0.0, 138.56128015770724, 250.76166088685727);stroke-width:2\" />  </svg></g><g transform=\"translate(-4,0)\">  <svg x=\"85.74612913571784%\" y=\"40\" height=\"18\" overflow=\"visible\" width=\"30\">    <path d=\"M 8 -9 l -6 18 L 8 25\" fill=\"none\" style=\"stroke:rgb(0.0, 138.56128015770724, 250.76166088685727);stroke-width:2\" />  </svg></g><g transform=\"translate(-8,0)\">  <svg x=\"87.62862563708241%\" y=\"40\" height=\"18\" overflow=\"visible\" width=\"30\">    <path d=\"M 8 -9 l -6 18 L 8 25\" fill=\"none\" style=\"stroke:rgb(0.0, 138.56128015770724, 250.76166088685727);stroke-width:2\" />  </svg></g><g transform=\"translate(-10,0)\">  <svg x=\"87.62862563708241%\" y=\"40\" height=\"18\" overflow=\"visible\" width=\"30\">    <path d=\"M 8 -9 l -6 18 L 8 25\" fill=\"none\" style=\"stroke:rgb(0.0, 138.56128015770724, 250.76166088685727);stroke-width:2\" />  </svg></g><g transform=\"translate(-12,0)\">  <svg x=\"87.62862563708241%\" y=\"40\" height=\"18\" overflow=\"visible\" width=\"30\">    <path d=\"M 8 -9 l -6 18 L 8 25\" fill=\"none\" style=\"stroke:rgb(0.0, 138.56128015770724, 250.76166088685727);stroke-width:2\" />  </svg></g><g transform=\"translate(-14,0)\">  <svg x=\"87.62862563708241%\" y=\"40\" height=\"18\" overflow=\"visible\" width=\"30\">    <path d=\"M 8 -9 l -6 18 L 8 25\" fill=\"none\" style=\"stroke:rgb(0.0, 138.56128015770724, 250.76166088685727);stroke-width:2\" />  </svg></g><g transform=\"translate(2,0)\">  <svg x=\"87.62862563708241%\" y=\"40\" height=\"18\" overflow=\"visible\" width=\"30\">    <path d=\"M 8 -9 l -6 18 L 8 25\" fill=\"none\" style=\"stroke:rgb(0.0, 138.56128015770724, 250.76166088685727);stroke-width:2\" />  </svg></g><g transform=\"translate(0,0)\">  <svg x=\"87.62862563708241%\" y=\"40\" height=\"18\" overflow=\"visible\" width=\"30\">    <path d=\"M 8 -9 l -6 18 L 8 25\" fill=\"none\" style=\"stroke:rgb(0.0, 138.56128015770724, 250.76166088685727);stroke-width:2\" />  </svg></g><g transform=\"translate(-2,0)\">  <svg x=\"87.62862563708241%\" y=\"40\" height=\"18\" overflow=\"visible\" width=\"30\">    <path d=\"M 8 -9 l -6 18 L 8 25\" fill=\"none\" style=\"stroke:rgb(0.0, 138.56128015770724, 250.76166088685727);stroke-width:2\" />  </svg></g><g transform=\"translate(-4,0)\">  <svg x=\"87.62862563708241%\" y=\"40\" height=\"18\" overflow=\"visible\" width=\"30\">    <path d=\"M 8 -9 l -6 18 L 8 25\" fill=\"none\" style=\"stroke:rgb(0.0, 138.56128015770724, 250.76166088685727);stroke-width:2\" />  </svg></g><g transform=\"translate(-8,0)\">  <svg x=\"89.01508130580366%\" y=\"40\" height=\"18\" overflow=\"visible\" width=\"30\">    <path d=\"M 8 -9 l -6 18 L 8 25\" fill=\"none\" style=\"stroke:rgb(0.0, 138.56128015770724, 250.76166088685727);stroke-width:2\" />  </svg></g><g transform=\"translate(-10,0)\">  <svg x=\"89.01508130580366%\" y=\"40\" height=\"18\" overflow=\"visible\" width=\"30\">    <path d=\"M 8 -9 l -6 18 L 8 25\" fill=\"none\" style=\"stroke:rgb(0.0, 138.56128015770724, 250.76166088685727);stroke-width:2\" />  </svg></g><g transform=\"translate(-12,0)\">  <svg x=\"89.01508130580366%\" y=\"40\" height=\"18\" overflow=\"visible\" width=\"30\">    <path d=\"M 8 -9 l -6 18 L 8 25\" fill=\"none\" style=\"stroke:rgb(0.0, 138.56128015770724, 250.76166088685727);stroke-width:2\" />  </svg></g><g transform=\"translate(-14,0)\">  <svg x=\"89.01508130580366%\" y=\"40\" height=\"18\" overflow=\"visible\" width=\"30\">    <path d=\"M 8 -9 l -6 18 L 8 25\" fill=\"none\" style=\"stroke:rgb(0.0, 138.56128015770724, 250.76166088685727);stroke-width:2\" />  </svg></g><g transform=\"translate(2,0)\">  <svg x=\"89.01508130580366%\" y=\"40\" height=\"18\" overflow=\"visible\" width=\"30\">    <path d=\"M 8 -9 l -6 18 L 8 25\" fill=\"none\" style=\"stroke:rgb(0.0, 138.56128015770724, 250.76166088685727);stroke-width:2\" />  </svg></g><g transform=\"translate(0,0)\">  <svg x=\"89.01508130580366%\" y=\"40\" height=\"18\" overflow=\"visible\" width=\"30\">    <path d=\"M 8 -9 l -6 18 L 8 25\" fill=\"none\" style=\"stroke:rgb(0.0, 138.56128015770724, 250.76166088685727);stroke-width:2\" />  </svg></g><g transform=\"translate(-2,0)\">  <svg x=\"89.01508130580366%\" y=\"40\" height=\"18\" overflow=\"visible\" width=\"30\">    <path d=\"M 8 -9 l -6 18 L 8 25\" fill=\"none\" style=\"stroke:rgb(0.0, 138.56128015770724, 250.76166088685727);stroke-width:2\" />  </svg></g><g transform=\"translate(-4,0)\">  <svg x=\"89.01508130580366%\" y=\"40\" height=\"18\" overflow=\"visible\" width=\"30\">    <path d=\"M 8 -9 l -6 18 L 8 25\" fill=\"none\" style=\"stroke:rgb(0.0, 138.56128015770724, 250.76166088685727);stroke-width:2\" />  </svg></g><g transform=\"translate(-8,0)\">  <svg x=\"90.18143300852529%\" y=\"40\" height=\"18\" overflow=\"visible\" width=\"30\">    <path d=\"M 8 -9 l -6 18 L 8 25\" fill=\"none\" style=\"stroke:rgb(0.0, 138.56128015770724, 250.76166088685727);stroke-width:2\" />  </svg></g><g transform=\"translate(-10,0)\">  <svg x=\"90.18143300852529%\" y=\"40\" height=\"18\" overflow=\"visible\" width=\"30\">    <path d=\"M 8 -9 l -6 18 L 8 25\" fill=\"none\" style=\"stroke:rgb(0.0, 138.56128015770724, 250.76166088685727);stroke-width:2\" />  </svg></g><g transform=\"translate(-12,0)\">  <svg x=\"90.18143300852529%\" y=\"40\" height=\"18\" overflow=\"visible\" width=\"30\">    <path d=\"M 8 -9 l -6 18 L 8 25\" fill=\"none\" style=\"stroke:rgb(0.0, 138.56128015770724, 250.76166088685727);stroke-width:2\" />  </svg></g><g transform=\"translate(-14,0)\">  <svg x=\"90.18143300852529%\" y=\"40\" height=\"18\" overflow=\"visible\" width=\"30\">    <path d=\"M 8 -9 l -6 18 L 8 25\" fill=\"none\" style=\"stroke:rgb(0.0, 138.56128015770724, 250.76166088685727);stroke-width:2\" />  </svg></g><g transform=\"translate(2,0)\">  <svg x=\"90.18143300852529%\" y=\"40\" height=\"18\" overflow=\"visible\" width=\"30\">    <path d=\"M 8 -9 l -6 18 L 8 25\" fill=\"none\" style=\"stroke:rgb(0.0, 138.56128015770724, 250.76166088685727);stroke-width:2\" />  </svg></g><g transform=\"translate(0,0)\">  <svg x=\"90.18143300852529%\" y=\"40\" height=\"18\" overflow=\"visible\" width=\"30\">    <path d=\"M 8 -9 l -6 18 L 8 25\" fill=\"none\" style=\"stroke:rgb(0.0, 138.56128015770724, 250.76166088685727);stroke-width:2\" />  </svg></g><g transform=\"translate(-2,0)\">  <svg x=\"90.18143300852529%\" y=\"40\" height=\"18\" overflow=\"visible\" width=\"30\">    <path d=\"M 8 -9 l -6 18 L 8 25\" fill=\"none\" style=\"stroke:rgb(0.0, 138.56128015770724, 250.76166088685727);stroke-width:2\" />  </svg></g><g transform=\"translate(-4,0)\">  <svg x=\"90.18143300852529%\" y=\"40\" height=\"18\" overflow=\"visible\" width=\"30\">    <path d=\"M 8 -9 l -6 18 L 8 25\" fill=\"none\" style=\"stroke:rgb(0.0, 138.56128015770724, 250.76166088685727);stroke-width:2\" />  </svg></g><g transform=\"translate(-8,0)\">  <svg x=\"90.96877026910775%\" y=\"40\" height=\"18\" overflow=\"visible\" width=\"30\">    <path d=\"M 8 -9 l -6 18 L 8 25\" fill=\"none\" style=\"stroke:rgb(0.0, 138.56128015770724, 250.76166088685727);stroke-width:2\" />  </svg></g><g transform=\"translate(-10,0)\">  <svg x=\"90.96877026910775%\" y=\"40\" height=\"18\" overflow=\"visible\" width=\"30\">    <path d=\"M 8 -9 l -6 18 L 8 25\" fill=\"none\" style=\"stroke:rgb(0.0, 138.56128015770724, 250.76166088685727);stroke-width:2\" />  </svg></g><g transform=\"translate(-12,0)\">  <svg x=\"90.96877026910775%\" y=\"40\" height=\"18\" overflow=\"visible\" width=\"30\">    <path d=\"M 8 -9 l -6 18 L 8 25\" fill=\"none\" style=\"stroke:rgb(0.0, 138.56128015770724, 250.76166088685727);stroke-width:2\" />  </svg></g><g transform=\"translate(-14,0)\">  <svg x=\"90.96877026910775%\" y=\"40\" height=\"18\" overflow=\"visible\" width=\"30\">    <path d=\"M 8 -9 l -6 18 L 8 25\" fill=\"none\" style=\"stroke:rgb(0.0, 138.56128015770724, 250.76166088685727);stroke-width:2\" />  </svg></g><g transform=\"translate(2,0)\">  <svg x=\"90.96877026910775%\" y=\"40\" height=\"18\" overflow=\"visible\" width=\"30\">    <path d=\"M 8 -9 l -6 18 L 8 25\" fill=\"none\" style=\"stroke:rgb(0.0, 138.56128015770724, 250.76166088685727);stroke-width:2\" />  </svg></g><g transform=\"translate(0,0)\">  <svg x=\"90.96877026910775%\" y=\"40\" height=\"18\" overflow=\"visible\" width=\"30\">    <path d=\"M 8 -9 l -6 18 L 8 25\" fill=\"none\" style=\"stroke:rgb(0.0, 138.56128015770724, 250.76166088685727);stroke-width:2\" />  </svg></g><g transform=\"translate(-2,0)\">  <svg x=\"90.96877026910775%\" y=\"40\" height=\"18\" overflow=\"visible\" width=\"30\">    <path d=\"M 8 -9 l -6 18 L 8 25\" fill=\"none\" style=\"stroke:rgb(0.0, 138.56128015770724, 250.76166088685727);stroke-width:2\" />  </svg></g><g transform=\"translate(-4,0)\">  <svg x=\"90.96877026910775%\" y=\"40\" height=\"18\" overflow=\"visible\" width=\"30\">    <path d=\"M 8 -9 l -6 18 L 8 25\" fill=\"none\" style=\"stroke:rgb(0.0, 138.56128015770724, 250.76166088685727);stroke-width:2\" />  </svg></g><g transform=\"translate(-8,0)\">  <svg x=\"91.35211890865138%\" y=\"40\" height=\"18\" overflow=\"visible\" width=\"30\">    <path d=\"M 8 -9 l -6 18 L 8 25\" fill=\"none\" style=\"stroke:rgb(0.0, 138.56128015770724, 250.76166088685727);stroke-width:2\" />  </svg></g><g transform=\"translate(-10,0)\">  <svg x=\"91.35211890865138%\" y=\"40\" height=\"18\" overflow=\"visible\" width=\"30\">    <path d=\"M 8 -9 l -6 18 L 8 25\" fill=\"none\" style=\"stroke:rgb(0.0, 138.56128015770724, 250.76166088685727);stroke-width:2\" />  </svg></g><g transform=\"translate(-12,0)\">  <svg x=\"91.35211890865138%\" y=\"40\" height=\"18\" overflow=\"visible\" width=\"30\">    <path d=\"M 8 -9 l -6 18 L 8 25\" fill=\"none\" style=\"stroke:rgb(0.0, 138.56128015770724, 250.76166088685727);stroke-width:2\" />  </svg></g><g transform=\"translate(-14,0)\">  <svg x=\"91.35211890865138%\" y=\"40\" height=\"18\" overflow=\"visible\" width=\"30\">    <path d=\"M 8 -9 l -6 18 L 8 25\" fill=\"none\" style=\"stroke:rgb(0.0, 138.56128015770724, 250.76166088685727);stroke-width:2\" />  </svg></g><g transform=\"translate(2,0)\">  <svg x=\"91.35211890865138%\" y=\"40\" height=\"18\" overflow=\"visible\" width=\"30\">    <path d=\"M 8 -9 l -6 18 L 8 25\" fill=\"none\" style=\"stroke:rgb(0.0, 138.56128015770724, 250.76166088685727);stroke-width:2\" />  </svg></g><g transform=\"translate(0,0)\">  <svg x=\"91.35211890865138%\" y=\"40\" height=\"18\" overflow=\"visible\" width=\"30\">    <path d=\"M 8 -9 l -6 18 L 8 25\" fill=\"none\" style=\"stroke:rgb(0.0, 138.56128015770724, 250.76166088685727);stroke-width:2\" />  </svg></g><g transform=\"translate(-2,0)\">  <svg x=\"91.35211890865138%\" y=\"40\" height=\"18\" overflow=\"visible\" width=\"30\">    <path d=\"M 8 -9 l -6 18 L 8 25\" fill=\"none\" style=\"stroke:rgb(0.0, 138.56128015770724, 250.76166088685727);stroke-width:2\" />  </svg></g><g transform=\"translate(-4,0)\">  <svg x=\"91.35211890865138%\" y=\"40\" height=\"18\" overflow=\"visible\" width=\"30\">    <path d=\"M 8 -9 l -6 18 L 8 25\" fill=\"none\" style=\"stroke:rgb(0.0, 138.56128015770724, 250.76166088685727);stroke-width:2\" />  </svg></g><g transform=\"translate(-8,0)\">  <svg x=\"91.51864882169467%\" y=\"40\" height=\"18\" overflow=\"visible\" width=\"30\">    <path d=\"M 8 -9 l -6 18 L 8 25\" fill=\"none\" style=\"stroke:rgb(0.0, 138.56128015770724, 250.76166088685727);stroke-width:2\" />  </svg></g><g transform=\"translate(-10,0)\">  <svg x=\"91.51864882169467%\" y=\"40\" height=\"18\" overflow=\"visible\" width=\"30\">    <path d=\"M 8 -9 l -6 18 L 8 25\" fill=\"none\" style=\"stroke:rgb(0.0, 138.56128015770724, 250.76166088685727);stroke-width:2\" />  </svg></g><g transform=\"translate(-12,0)\">  <svg x=\"91.51864882169467%\" y=\"40\" height=\"18\" overflow=\"visible\" width=\"30\">    <path d=\"M 8 -9 l -6 18 L 8 25\" fill=\"none\" style=\"stroke:rgb(0.0, 138.56128015770724, 250.76166088685727);stroke-width:2\" />  </svg></g><g transform=\"translate(-14,0)\">  <svg x=\"91.51864882169467%\" y=\"40\" height=\"18\" overflow=\"visible\" width=\"30\">    <path d=\"M 8 -9 l -6 18 L 8 25\" fill=\"none\" style=\"stroke:rgb(0.0, 138.56128015770724, 250.76166088685727);stroke-width:2\" />  </svg></g><g transform=\"translate(2,0)\">  <svg x=\"91.51864882169467%\" y=\"40\" height=\"18\" overflow=\"visible\" width=\"30\">    <path d=\"M 8 -9 l -6 18 L 8 25\" fill=\"none\" style=\"stroke:rgb(0.0, 138.56128015770724, 250.76166088685727);stroke-width:2\" />  </svg></g><g transform=\"translate(0,0)\">  <svg x=\"91.51864882169467%\" y=\"40\" height=\"18\" overflow=\"visible\" width=\"30\">    <path d=\"M 8 -9 l -6 18 L 8 25\" fill=\"none\" style=\"stroke:rgb(0.0, 138.56128015770724, 250.76166088685727);stroke-width:2\" />  </svg></g><g transform=\"translate(-2,0)\">  <svg x=\"91.51864882169467%\" y=\"40\" height=\"18\" overflow=\"visible\" width=\"30\">    <path d=\"M 8 -9 l -6 18 L 8 25\" fill=\"none\" style=\"stroke:rgb(0.0, 138.56128015770724, 250.76166088685727);stroke-width:2\" />  </svg></g><g transform=\"translate(-4,0)\">  <svg x=\"91.51864882169467%\" y=\"40\" height=\"18\" overflow=\"visible\" width=\"30\">    <path d=\"M 8 -9 l -6 18 L 8 25\" fill=\"none\" style=\"stroke:rgb(0.0, 138.56128015770724, 250.76166088685727);stroke-width:2\" />  </svg></g><g transform=\"translate(-8,0)\">  <svg x=\"91.66626898790605%\" y=\"40\" height=\"18\" overflow=\"visible\" width=\"30\">    <path d=\"M 8 -9 l -6 18 L 8 25\" fill=\"none\" style=\"stroke:rgb(0.0, 138.56128015770724, 250.76166088685727);stroke-width:2\" />  </svg></g><g transform=\"translate(-10,0)\">  <svg x=\"91.66626898790605%\" y=\"40\" height=\"18\" overflow=\"visible\" width=\"30\">    <path d=\"M 8 -9 l -6 18 L 8 25\" fill=\"none\" style=\"stroke:rgb(0.0, 138.56128015770724, 250.76166088685727);stroke-width:2\" />  </svg></g><g transform=\"translate(-12,0)\">  <svg x=\"91.66626898790605%\" y=\"40\" height=\"18\" overflow=\"visible\" width=\"30\">    <path d=\"M 8 -9 l -6 18 L 8 25\" fill=\"none\" style=\"stroke:rgb(0.0, 138.56128015770724, 250.76166088685727);stroke-width:2\" />  </svg></g><g transform=\"translate(-14,0)\">  <svg x=\"91.66626898790605%\" y=\"40\" height=\"18\" overflow=\"visible\" width=\"30\">    <path d=\"M 8 -9 l -6 18 L 8 25\" fill=\"none\" style=\"stroke:rgb(0.0, 138.56128015770724, 250.76166088685727);stroke-width:2\" />  </svg></g><g transform=\"translate(2,0)\">  <svg x=\"91.66626898790605%\" y=\"40\" height=\"18\" overflow=\"visible\" width=\"30\">    <path d=\"M 8 -9 l -6 18 L 8 25\" fill=\"none\" style=\"stroke:rgb(0.0, 138.56128015770724, 250.76166088685727);stroke-width:2\" />  </svg></g><g transform=\"translate(0,0)\">  <svg x=\"91.66626898790605%\" y=\"40\" height=\"18\" overflow=\"visible\" width=\"30\">    <path d=\"M 8 -9 l -6 18 L 8 25\" fill=\"none\" style=\"stroke:rgb(0.0, 138.56128015770724, 250.76166088685727);stroke-width:2\" />  </svg></g><g transform=\"translate(-2,0)\">  <svg x=\"91.66626898790605%\" y=\"40\" height=\"18\" overflow=\"visible\" width=\"30\">    <path d=\"M 8 -9 l -6 18 L 8 25\" fill=\"none\" style=\"stroke:rgb(0.0, 138.56128015770724, 250.76166088685727);stroke-width:2\" />  </svg></g><g transform=\"translate(-4,0)\">  <svg x=\"91.66626898790605%\" y=\"40\" height=\"18\" overflow=\"visible\" width=\"30\">    <path d=\"M 8 -9 l -6 18 L 8 25\" fill=\"none\" style=\"stroke:rgb(0.0, 138.56128015770724, 250.76166088685727);stroke-width:2\" />  </svg></g><rect transform=\"translate(0,0)\" x=\"16.827266850814798%\" y=\"40\" width=\"8\" height=\"18\" style=\"fill:rgb(0.0, 138.56128015770724, 250.76166088685727)\"/><g transform=\"translate(-6.0,0)\">  <svg x=\"91.66666576743678%\" y=\"40\" height=\"18\" overflow=\"visible\" width=\"30\">    <path d=\"M 8 -9 l -6 18 L 8 25 L 20 25 L 20 -9\" fill=\"#ffffff\" style=\"stroke:rgb(255,255,255);stroke-width:2\" />  </svg></g><g transform=\"translate(-6.0,0)\">  <svg x=\"33.91942055526471%\" y=\"40\" height=\"18\" overflow=\"visible\" width=\"30\">    <path d=\"M 8 -9 l -6 18 L 8 25\" fill=\"none\" style=\"stroke:rgb(208, 230, 250);stroke-width:2\" />  </svg></g><rect x=\"16.827266850814798%\" y=\"40\" height=\"20\" width=\"17.09215370444991%\"      onmouseover=\"document.getElementById('_tp_ujjhrccullznwhgnjewp_ind_5').style.textDecoration = 'underline';document.getElementById('_fs_ujjhrccullznwhgnjewp_ind_5').style.opacity = 1;document.getElementById('_fb_ujjhrccullznwhgnjewp_ind_5').style.opacity = 1;\"      onmouseout=\"document.getElementById('_tp_ujjhrccullznwhgnjewp_ind_5').style.textDecoration = 'none';document.getElementById('_fs_ujjhrccullznwhgnjewp_ind_5').style.opacity = 0;document.getElementById('_fb_ujjhrccullznwhgnjewp_ind_5').style.opacity = 0;\" style=\"fill:rgb(0,0,0,0)\" /><g transform=\"translate(-6.0,0)\">  <svg x=\"49.26384329100564%\" y=\"40\" height=\"18\" overflow=\"visible\" width=\"30\">    <path d=\"M 8 -9 l -6 18 L 8 25\" fill=\"none\" style=\"stroke:rgb(208, 230, 250);stroke-width:2\" />  </svg></g><rect x=\"33.91942055526471%\" y=\"40\" height=\"20\" width=\"15.344422735740935%\"      onmouseover=\"document.getElementById('_tp_ujjhrccullznwhgnjewp_ind_8').style.textDecoration = 'underline';document.getElementById('_fs_ujjhrccullznwhgnjewp_ind_8').style.opacity = 1;document.getElementById('_fb_ujjhrccullznwhgnjewp_ind_8').style.opacity = 1;\"      onmouseout=\"document.getElementById('_tp_ujjhrccullznwhgnjewp_ind_8').style.textDecoration = 'none';document.getElementById('_fs_ujjhrccullznwhgnjewp_ind_8').style.opacity = 0;document.getElementById('_fb_ujjhrccullznwhgnjewp_ind_8').style.opacity = 0;\" style=\"fill:rgb(0,0,0,0)\" /><g transform=\"translate(-6.0,0)\">  <svg x=\"57.15255796255124%\" y=\"40\" height=\"18\" overflow=\"visible\" width=\"30\">    <path d=\"M 8 -9 l -6 18 L 8 25\" fill=\"none\" style=\"stroke:rgb(208, 230, 250);stroke-width:2\" />  </svg></g><rect x=\"49.26384329100564%\" y=\"40\" height=\"20\" width=\"7.8887146715456%\"      onmouseover=\"document.getElementById('_tp_ujjhrccullznwhgnjewp_ind_17').style.textDecoration = 'underline';document.getElementById('_fs_ujjhrccullznwhgnjewp_ind_17').style.opacity = 1;document.getElementById('_fb_ujjhrccullznwhgnjewp_ind_17').style.opacity = 1;\"      onmouseout=\"document.getElementById('_tp_ujjhrccullznwhgnjewp_ind_17').style.textDecoration = 'none';document.getElementById('_fs_ujjhrccullznwhgnjewp_ind_17').style.opacity = 0;document.getElementById('_fb_ujjhrccullznwhgnjewp_ind_17').style.opacity = 0;\" style=\"fill:rgb(0,0,0,0)\" /><g transform=\"translate(-6.0,0)\">  <svg x=\"63.55673663758257%\" y=\"40\" height=\"18\" overflow=\"visible\" width=\"30\">    <path d=\"M 8 -9 l -6 18 L 8 25\" fill=\"none\" style=\"stroke:rgb(208, 230, 250);stroke-width:2\" />  </svg></g><rect x=\"57.15255796255124%\" y=\"40\" height=\"20\" width=\"6.404178675031325%\"      onmouseover=\"document.getElementById('_tp_ujjhrccullznwhgnjewp_ind_4').style.textDecoration = 'underline';document.getElementById('_fs_ujjhrccullznwhgnjewp_ind_4').style.opacity = 1;document.getElementById('_fb_ujjhrccullznwhgnjewp_ind_4').style.opacity = 1;\"      onmouseout=\"document.getElementById('_tp_ujjhrccullznwhgnjewp_ind_4').style.textDecoration = 'none';document.getElementById('_fs_ujjhrccullznwhgnjewp_ind_4').style.opacity = 0;document.getElementById('_fb_ujjhrccullznwhgnjewp_ind_4').style.opacity = 0;\" style=\"fill:rgb(0,0,0,0)\" /><g transform=\"translate(-6.0,0)\">  <svg x=\"69.43040244244445%\" y=\"40\" height=\"18\" overflow=\"visible\" width=\"30\">    <path d=\"M 8 -9 l -6 18 L 8 25\" fill=\"none\" style=\"stroke:rgb(208, 230, 250);stroke-width:2\" />  </svg></g><rect x=\"63.55673663758257%\" y=\"40\" height=\"20\" width=\"5.873665804861879%\"      onmouseover=\"document.getElementById('_tp_ujjhrccullznwhgnjewp_ind_7').style.textDecoration = 'underline';document.getElementById('_fs_ujjhrccullznwhgnjewp_ind_7').style.opacity = 1;document.getElementById('_fb_ujjhrccullznwhgnjewp_ind_7').style.opacity = 1;\"      onmouseout=\"document.getElementById('_tp_ujjhrccullznwhgnjewp_ind_7').style.textDecoration = 'none';document.getElementById('_fs_ujjhrccullznwhgnjewp_ind_7').style.opacity = 0;document.getElementById('_fb_ujjhrccullznwhgnjewp_ind_7').style.opacity = 0;\" style=\"fill:rgb(0,0,0,0)\" /><g transform=\"translate(-6.0,0)\">  <svg x=\"74.04090686144133%\" y=\"40\" height=\"18\" overflow=\"visible\" width=\"30\">    <path d=\"M 8 -9 l -6 18 L 8 25\" fill=\"none\" style=\"stroke:rgb(208, 230, 250);stroke-width:2\" />  </svg></g><rect x=\"69.43040244244445%\" y=\"40\" height=\"20\" width=\"4.610504418996882%\"      onmouseover=\"document.getElementById('_tp_ujjhrccullznwhgnjewp_ind_6').style.textDecoration = 'underline';document.getElementById('_fs_ujjhrccullznwhgnjewp_ind_6').style.opacity = 1;document.getElementById('_fb_ujjhrccullznwhgnjewp_ind_6').style.opacity = 1;\"      onmouseout=\"document.getElementById('_tp_ujjhrccullznwhgnjewp_ind_6').style.textDecoration = 'none';document.getElementById('_fs_ujjhrccullznwhgnjewp_ind_6').style.opacity = 0;document.getElementById('_fb_ujjhrccullznwhgnjewp_ind_6').style.opacity = 0;\" style=\"fill:rgb(0,0,0,0)\" /><g transform=\"translate(-6.0,0)\">  <svg x=\"77.52103015916464%\" y=\"40\" height=\"18\" overflow=\"visible\" width=\"30\">    <path d=\"M 8 -9 l -6 18 L 8 25\" fill=\"none\" style=\"stroke:rgb(208, 230, 250);stroke-width:2\" />  </svg></g><rect x=\"74.04090686144133%\" y=\"40\" height=\"20\" width=\"3.48012329772331%\"      onmouseover=\"document.getElementById('_tp_ujjhrccullznwhgnjewp_ind_1').style.textDecoration = 'underline';document.getElementById('_fs_ujjhrccullznwhgnjewp_ind_1').style.opacity = 1;document.getElementById('_fb_ujjhrccullznwhgnjewp_ind_1').style.opacity = 1;\"      onmouseout=\"document.getElementById('_tp_ujjhrccullznwhgnjewp_ind_1').style.textDecoration = 'none';document.getElementById('_fs_ujjhrccullznwhgnjewp_ind_1').style.opacity = 0;document.getElementById('_fb_ujjhrccullznwhgnjewp_ind_1').style.opacity = 0;\" style=\"fill:rgb(0,0,0,0)\" /><g transform=\"translate(-6.0,0)\">  <svg x=\"80.39172330330493%\" y=\"40\" height=\"18\" overflow=\"visible\" width=\"30\">    <path d=\"M 8 -9 l -6 18 L 8 25\" fill=\"none\" style=\"stroke:rgb(208, 230, 250);stroke-width:2\" />  </svg></g><rect x=\"77.52103015916464%\" y=\"40\" height=\"20\" width=\"2.87069314414029%\"      onmouseover=\"document.getElementById('_tp_ujjhrccullznwhgnjewp_ind_19').style.textDecoration = 'underline';document.getElementById('_fs_ujjhrccullznwhgnjewp_ind_19').style.opacity = 1;document.getElementById('_fb_ujjhrccullznwhgnjewp_ind_19').style.opacity = 1;\"      onmouseout=\"document.getElementById('_tp_ujjhrccullznwhgnjewp_ind_19').style.textDecoration = 'none';document.getElementById('_fs_ujjhrccullznwhgnjewp_ind_19').style.opacity = 0;document.getElementById('_fb_ujjhrccullznwhgnjewp_ind_19').style.opacity = 0;\" style=\"fill:rgb(0,0,0,0)\" /><g transform=\"translate(-6.0,0)\">  <svg x=\"83.14276097000673%\" y=\"40\" height=\"18\" overflow=\"visible\" width=\"30\">    <path d=\"M 8 -9 l -6 18 L 8 25\" fill=\"none\" style=\"stroke:rgb(208, 230, 250);stroke-width:2\" />  </svg></g><rect x=\"80.39172330330493%\" y=\"40\" height=\"20\" width=\"2.751037666701805%\"      onmouseover=\"document.getElementById('_tp_ujjhrccullznwhgnjewp_ind_23').style.textDecoration = 'underline';document.getElementById('_fs_ujjhrccullznwhgnjewp_ind_23').style.opacity = 1;document.getElementById('_fb_ujjhrccullznwhgnjewp_ind_23').style.opacity = 1;\"      onmouseout=\"document.getElementById('_tp_ujjhrccullznwhgnjewp_ind_23').style.textDecoration = 'none';document.getElementById('_fs_ujjhrccullznwhgnjewp_ind_23').style.opacity = 0;document.getElementById('_fb_ujjhrccullznwhgnjewp_ind_23').style.opacity = 0;\" style=\"fill:rgb(0,0,0,0)\" /><g transform=\"translate(-6.0,0)\">  <svg x=\"85.74612913571784%\" y=\"40\" height=\"18\" overflow=\"visible\" width=\"30\">    <path d=\"M 8 -9 l -6 18 L 8 25\" fill=\"none\" style=\"stroke:rgb(208, 230, 250);stroke-width:2\" />  </svg></g><rect x=\"83.14276097000673%\" y=\"40\" height=\"20\" width=\"2.603368165711103%\"      onmouseover=\"document.getElementById('_tp_ujjhrccullznwhgnjewp_ind_12').style.textDecoration = 'underline';document.getElementById('_fs_ujjhrccullznwhgnjewp_ind_12').style.opacity = 1;document.getElementById('_fb_ujjhrccullznwhgnjewp_ind_12').style.opacity = 1;\"      onmouseout=\"document.getElementById('_tp_ujjhrccullznwhgnjewp_ind_12').style.textDecoration = 'none';document.getElementById('_fs_ujjhrccullznwhgnjewp_ind_12').style.opacity = 0;document.getElementById('_fb_ujjhrccullznwhgnjewp_ind_12').style.opacity = 0;\" style=\"fill:rgb(0,0,0,0)\" /><g transform=\"translate(-6.0,0)\">  <svg x=\"87.62862563708241%\" y=\"40\" height=\"18\" overflow=\"visible\" width=\"30\">    <path d=\"M 8 -9 l -6 18 L 8 25\" fill=\"none\" style=\"stroke:rgb(208, 230, 250);stroke-width:2\" />  </svg></g><rect x=\"85.74612913571784%\" y=\"40\" height=\"20\" width=\"1.882496501364571%\"      onmouseover=\"document.getElementById('_tp_ujjhrccullznwhgnjewp_ind_11').style.textDecoration = 'underline';document.getElementById('_fs_ujjhrccullznwhgnjewp_ind_11').style.opacity = 1;document.getElementById('_fb_ujjhrccullznwhgnjewp_ind_11').style.opacity = 1;\"      onmouseout=\"document.getElementById('_tp_ujjhrccullznwhgnjewp_ind_11').style.textDecoration = 'none';document.getElementById('_fs_ujjhrccullznwhgnjewp_ind_11').style.opacity = 0;document.getElementById('_fb_ujjhrccullznwhgnjewp_ind_11').style.opacity = 0;\" style=\"fill:rgb(0,0,0,0)\" /><g transform=\"translate(-6.0,0)\">  <svg x=\"89.01508130580366%\" y=\"40\" height=\"18\" overflow=\"visible\" width=\"30\">    <path d=\"M 8 -9 l -6 18 L 8 25\" fill=\"none\" style=\"stroke:rgb(208, 230, 250);stroke-width:2\" />  </svg></g><rect x=\"87.62862563708241%\" y=\"40\" height=\"20\" width=\"1.3864556687212541%\"      onmouseover=\"document.getElementById('_tp_ujjhrccullznwhgnjewp_ind_21').style.textDecoration = 'underline';document.getElementById('_fs_ujjhrccullznwhgnjewp_ind_21').style.opacity = 1;document.getElementById('_fb_ujjhrccullznwhgnjewp_ind_21').style.opacity = 1;\"      onmouseout=\"document.getElementById('_tp_ujjhrccullznwhgnjewp_ind_21').style.textDecoration = 'none';document.getElementById('_fs_ujjhrccullznwhgnjewp_ind_21').style.opacity = 0;document.getElementById('_fb_ujjhrccullznwhgnjewp_ind_21').style.opacity = 0;\" style=\"fill:rgb(0,0,0,0)\" /><g transform=\"translate(-6.0,0)\">  <svg x=\"90.18143300852529%\" y=\"40\" height=\"18\" overflow=\"visible\" width=\"30\">    <path d=\"M 8 -9 l -6 18 L 8 25\" fill=\"none\" style=\"stroke:rgb(208, 230, 250);stroke-width:2\" />  </svg></g><rect x=\"89.01508130580366%\" y=\"40\" height=\"20\" width=\"1.1663517027216272%\"      onmouseover=\"document.getElementById('_tp_ujjhrccullznwhgnjewp_ind_16').style.textDecoration = 'underline';document.getElementById('_fs_ujjhrccullznwhgnjewp_ind_16').style.opacity = 1;document.getElementById('_fb_ujjhrccullznwhgnjewp_ind_16').style.opacity = 1;\"      onmouseout=\"document.getElementById('_tp_ujjhrccullznwhgnjewp_ind_16').style.textDecoration = 'none';document.getElementById('_fs_ujjhrccullznwhgnjewp_ind_16').style.opacity = 0;document.getElementById('_fb_ujjhrccullznwhgnjewp_ind_16').style.opacity = 0;\" style=\"fill:rgb(0,0,0,0)\" /><g transform=\"translate(-6.0,0)\">  <svg x=\"90.96877026910775%\" y=\"40\" height=\"18\" overflow=\"visible\" width=\"30\">    <path d=\"M 8 -9 l -6 18 L 8 25\" fill=\"none\" style=\"stroke:rgb(208, 230, 250);stroke-width:2\" />  </svg></g><rect x=\"90.18143300852529%\" y=\"40\" height=\"20\" width=\"0.7873372605824613%\"      onmouseover=\"document.getElementById('_tp_ujjhrccullznwhgnjewp_ind_10').style.textDecoration = 'underline';document.getElementById('_fs_ujjhrccullznwhgnjewp_ind_10').style.opacity = 1;document.getElementById('_fb_ujjhrccullznwhgnjewp_ind_10').style.opacity = 1;\"      onmouseout=\"document.getElementById('_tp_ujjhrccullznwhgnjewp_ind_10').style.textDecoration = 'none';document.getElementById('_fs_ujjhrccullznwhgnjewp_ind_10').style.opacity = 0;document.getElementById('_fb_ujjhrccullznwhgnjewp_ind_10').style.opacity = 0;\" style=\"fill:rgb(0,0,0,0)\" /><g transform=\"translate(-6.0,0)\">  <svg x=\"91.35211890865138%\" y=\"40\" height=\"18\" overflow=\"visible\" width=\"30\">    <path d=\"M 8 -9 l -6 18 L 8 25\" fill=\"none\" style=\"stroke:rgb(208, 230, 250);stroke-width:2\" />  </svg></g><rect x=\"90.96877026910775%\" y=\"40\" height=\"20\" width=\"0.38334863954362675%\"      onmouseover=\"document.getElementById('_tp_ujjhrccullznwhgnjewp_ind_14').style.textDecoration = 'underline';document.getElementById('_fs_ujjhrccullznwhgnjewp_ind_14').style.opacity = 1;document.getElementById('_fb_ujjhrccullznwhgnjewp_ind_14').style.opacity = 1;\"      onmouseout=\"document.getElementById('_tp_ujjhrccullznwhgnjewp_ind_14').style.textDecoration = 'none';document.getElementById('_fs_ujjhrccullznwhgnjewp_ind_14').style.opacity = 0;document.getElementById('_fb_ujjhrccullznwhgnjewp_ind_14').style.opacity = 0;\" style=\"fill:rgb(0,0,0,0)\" /><g transform=\"translate(-6.0,0)\">  <svg x=\"91.51864882169467%\" y=\"40\" height=\"18\" overflow=\"visible\" width=\"30\">    <path d=\"M 8 -9 l -6 18 L 8 25\" fill=\"none\" style=\"stroke:rgb(208, 230, 250);stroke-width:2\" />  </svg></g><rect x=\"91.35211890865138%\" y=\"40\" height=\"20\" width=\"0.16652991304329134%\"      onmouseover=\"document.getElementById('_tp_ujjhrccullznwhgnjewp_ind_22').style.textDecoration = 'underline';document.getElementById('_fs_ujjhrccullznwhgnjewp_ind_22').style.opacity = 1;document.getElementById('_fb_ujjhrccullznwhgnjewp_ind_22').style.opacity = 1;\"      onmouseout=\"document.getElementById('_tp_ujjhrccullznwhgnjewp_ind_22').style.textDecoration = 'none';document.getElementById('_fs_ujjhrccullznwhgnjewp_ind_22').style.opacity = 0;document.getElementById('_fb_ujjhrccullznwhgnjewp_ind_22').style.opacity = 0;\" style=\"fill:rgb(0,0,0,0)\" /><g transform=\"translate(-6.0,0)\">  <svg x=\"91.66626898790605%\" y=\"40\" height=\"18\" overflow=\"visible\" width=\"30\">    <path d=\"M 8 -9 l -6 18 L 8 25\" fill=\"none\" style=\"stroke:rgb(208, 230, 250);stroke-width:2\" />  </svg></g><rect x=\"91.51864882169467%\" y=\"40\" height=\"20\" width=\"0.1476201662113823%\"      onmouseover=\"document.getElementById('_tp_ujjhrccullznwhgnjewp_ind_20').style.textDecoration = 'underline';document.getElementById('_fs_ujjhrccullznwhgnjewp_ind_20').style.opacity = 1;document.getElementById('_fb_ujjhrccullznwhgnjewp_ind_20').style.opacity = 1;\"      onmouseout=\"document.getElementById('_tp_ujjhrccullznwhgnjewp_ind_20').style.textDecoration = 'none';document.getElementById('_fs_ujjhrccullznwhgnjewp_ind_20').style.opacity = 0;document.getElementById('_fb_ujjhrccullznwhgnjewp_ind_20').style.opacity = 0;\" style=\"fill:rgb(0,0,0,0)\" /><rect x=\"91.66626898790605%\" y=\"40\" height=\"20\" width=\"0.0003967795307318056%\"      onmouseover=\"document.getElementById('_tp_ujjhrccullznwhgnjewp_ind_0').style.textDecoration = 'underline';document.getElementById('_fs_ujjhrccullznwhgnjewp_ind_0').style.opacity = 1;document.getElementById('_fb_ujjhrccullznwhgnjewp_ind_0').style.opacity = 1;\"      onmouseout=\"document.getElementById('_tp_ujjhrccullznwhgnjewp_ind_0').style.textDecoration = 'none';document.getElementById('_fs_ujjhrccullznwhgnjewp_ind_0').style.opacity = 0;document.getElementById('_fb_ujjhrccullznwhgnjewp_ind_0').style.opacity = 0;\" style=\"fill:rgb(0,0,0,0)\" /></svg><div align='center'><div style=\"color: rgb(120,120,120); font-size: 12px; margin-top: -15px;\">inputs</div><div style='display: inline; text-align: center;'\n",
       "    ><div style='display: none; color: #999; padding-top: 0px; font-size: 12px;'>-0.0</div\n",
       "        ><div id='_tp_ujjhrccullznwhgnjewp_ind_0'\n",
       "            style='display: inline; background: rgba(54.70588235294111, 122.49411764705886, 213.40784313725496, 0.0); border-radius: 3px; padding: 0px'\n",
       "            onclick=\"\n",
       "            if (this.previousSibling.style.display == 'none') {\n",
       "                this.previousSibling.style.display = 'block';\n",
       "                this.parentNode.style.display = 'inline-block';\n",
       "            } else {\n",
       "                this.previousSibling.style.display = 'none';\n",
       "                this.parentNode.style.display = 'inline';\n",
       "            }\"\n",
       "            onmouseover=\"document.getElementById('_fb_ujjhrccullznwhgnjewp_ind_0').style.opacity = 1; document.getElementById('_fs_ujjhrccullznwhgnjewp_ind_0').style.opacity = 1;\"\n",
       "            onmouseout=\"document.getElementById('_fb_ujjhrccullznwhgnjewp_ind_0').style.opacity = 0; document.getElementById('_fs_ujjhrccullznwhgnjewp_ind_0').style.opacity = 0;\"\n",
       "        ></div></div><div style='display: inline; text-align: center;'\n",
       "    ><div style='display: none; color: #999; padding-top: 0px; font-size: 12px;'>-0.035</div\n",
       "        ><div id='_tp_ujjhrccullznwhgnjewp_ind_1'\n",
       "            style='display: inline; background: rgba(30.0, 136.0, 229.0, 0.2038423450188156); border-radius: 3px; padding: 0px'\n",
       "            onclick=\"\n",
       "            if (this.previousSibling.style.display == 'none') {\n",
       "                this.previousSibling.style.display = 'block';\n",
       "                this.parentNode.style.display = 'inline-block';\n",
       "            } else {\n",
       "                this.previousSibling.style.display = 'none';\n",
       "                this.parentNode.style.display = 'inline';\n",
       "            }\"\n",
       "            onmouseover=\"document.getElementById('_fb_ujjhrccullznwhgnjewp_ind_1').style.opacity = 1; document.getElementById('_fs_ujjhrccullznwhgnjewp_ind_1').style.opacity = 1;\"\n",
       "            onmouseout=\"document.getElementById('_fb_ujjhrccullznwhgnjewp_ind_1').style.opacity = 0; document.getElementById('_fs_ujjhrccullznwhgnjewp_ind_1').style.opacity = 0;\"\n",
       "        >YOU </div></div><div style='display: inline; text-align: center;'\n",
       "    ><div style='display: none; color: #999; padding-top: 0px; font-size: 12px;'>0.007</div\n",
       "        ><div id='_tp_ujjhrccullznwhgnjewp_ind_2'\n",
       "            style='display: inline; background: rgba(255.0, 13.0, 87.0, 0.03830461477520289); border-radius: 3px; padding: 0px'\n",
       "            onclick=\"\n",
       "            if (this.previousSibling.style.display == 'none') {\n",
       "                this.previousSibling.style.display = 'block';\n",
       "                this.parentNode.style.display = 'inline-block';\n",
       "            } else {\n",
       "                this.previousSibling.style.display = 'none';\n",
       "                this.parentNode.style.display = 'inline';\n",
       "            }\"\n",
       "            onmouseover=\"document.getElementById('_fb_ujjhrccullznwhgnjewp_ind_2').style.opacity = 1; document.getElementById('_fs_ujjhrccullznwhgnjewp_ind_2').style.opacity = 1;\"\n",
       "            onmouseout=\"document.getElementById('_fb_ujjhrccullznwhgnjewp_ind_2').style.opacity = 0; document.getElementById('_fs_ujjhrccullznwhgnjewp_ind_2').style.opacity = 0;\"\n",
       "        >BET</div></div><div style='display: inline; text-align: center;'\n",
       "    ><div style='display: none; color: #999; padding-top: 0px; font-size: 12px;'>0.002</div\n",
       "        ><div id='_tp_ujjhrccullznwhgnjewp_ind_3'\n",
       "            style='display: inline; background: rgba(255.0, 13.0, 87.0, 0.00677361853832443); border-radius: 3px; padding: 0px'\n",
       "            onclick=\"\n",
       "            if (this.previousSibling.style.display == 'none') {\n",
       "                this.previousSibling.style.display = 'block';\n",
       "                this.parentNode.style.display = 'inline-block';\n",
       "            } else {\n",
       "                this.previousSibling.style.display = 'none';\n",
       "                this.parentNode.style.display = 'inline';\n",
       "            }\"\n",
       "            onmouseover=\"document.getElementById('_fb_ujjhrccullznwhgnjewp_ind_3').style.opacity = 1; document.getElementById('_fs_ujjhrccullznwhgnjewp_ind_3').style.opacity = 1;\"\n",
       "            onmouseout=\"document.getElementById('_fb_ujjhrccullznwhgnjewp_ind_3').style.opacity = 0; document.getElementById('_fs_ujjhrccullznwhgnjewp_ind_3').style.opacity = 0;\"\n",
       "        >TER </div></div><div style='display: inline; text-align: center;'\n",
       "    ><div style='display: none; color: #999; padding-top: 0px; font-size: 12px;'>-0.065</div\n",
       "        ><div id='_tp_ujjhrccullznwhgnjewp_ind_4'\n",
       "            style='display: inline; background: rgba(30.0, 136.0, 229.0, 0.36938007526242816); border-radius: 3px; padding: 0px'\n",
       "            onclick=\"\n",
       "            if (this.previousSibling.style.display == 'none') {\n",
       "                this.previousSibling.style.display = 'block';\n",
       "                this.parentNode.style.display = 'inline-block';\n",
       "            } else {\n",
       "                this.previousSibling.style.display = 'none';\n",
       "                this.parentNode.style.display = 'inline';\n",
       "            }\"\n",
       "            onmouseover=\"document.getElementById('_fb_ujjhrccullznwhgnjewp_ind_4').style.opacity = 1; document.getElementById('_fs_ujjhrccullznwhgnjewp_ind_4').style.opacity = 1;\"\n",
       "            onmouseout=\"document.getElementById('_fb_ujjhrccullznwhgnjewp_ind_4').style.opacity = 0; document.getElementById('_fs_ujjhrccullznwhgnjewp_ind_4').style.opacity = 0;\"\n",
       "        >S</div></div><div style='display: inline; text-align: center;'\n",
       "    ><div style='display: none; color: #999; padding-top: 0px; font-size: 12px;'>-0.174</div\n",
       "        ><div id='_tp_ujjhrccullznwhgnjewp_ind_5'\n",
       "            style='display: inline; background: rgba(30.0, 136.0, 229.0, 1.0); border-radius: 3px; padding: 0px'\n",
       "            onclick=\"\n",
       "            if (this.previousSibling.style.display == 'none') {\n",
       "                this.previousSibling.style.display = 'block';\n",
       "                this.parentNode.style.display = 'inline-block';\n",
       "            } else {\n",
       "                this.previousSibling.style.display = 'none';\n",
       "                this.parentNode.style.display = 'inline';\n",
       "            }\"\n",
       "            onmouseover=\"document.getElementById('_fb_ujjhrccullznwhgnjewp_ind_5').style.opacity = 1; document.getElementById('_fs_ujjhrccullznwhgnjewp_ind_5').style.opacity = 1;\"\n",
       "            onmouseout=\"document.getElementById('_fb_ujjhrccullznwhgnjewp_ind_5').style.opacity = 0; document.getElementById('_fs_ujjhrccullznwhgnjewp_ind_5').style.opacity = 0;\"\n",
       "        >UCK </div></div><div style='display: inline; text-align: center;'\n",
       "    ><div style='display: none; color: #999; padding-top: 0px; font-size: 12px;'>-0.047</div\n",
       "        ><div id='_tp_ujjhrccullznwhgnjewp_ind_6'\n",
       "            style='display: inline; background: rgba(30.0, 136.0, 229.0, 0.2669043374925727); border-radius: 3px; padding: 0px'\n",
       "            onclick=\"\n",
       "            if (this.previousSibling.style.display == 'none') {\n",
       "                this.previousSibling.style.display = 'block';\n",
       "                this.parentNode.style.display = 'inline-block';\n",
       "            } else {\n",
       "                this.previousSibling.style.display = 'none';\n",
       "                this.parentNode.style.display = 'inline';\n",
       "            }\"\n",
       "            onmouseover=\"document.getElementById('_fb_ujjhrccullznwhgnjewp_ind_6').style.opacity = 1; document.getElementById('_fs_ujjhrccullznwhgnjewp_ind_6').style.opacity = 1;\"\n",
       "            onmouseout=\"document.getElementById('_fb_ujjhrccullznwhgnjewp_ind_6').style.opacity = 0; document.getElementById('_fs_ujjhrccullznwhgnjewp_ind_6').style.opacity = 0;\"\n",
       "        >HIS </div></div><div style='display: inline; text-align: center;'\n",
       "    ><div style='display: none; color: #999; padding-top: 0px; font-size: 12px;'>-0.06</div\n",
       "        ><div id='_tp_ujjhrccullznwhgnjewp_ind_7'\n",
       "            style='display: inline; background: rgba(30.0, 136.0, 229.0, 0.33784907902554956); border-radius: 3px; padding: 0px'\n",
       "            onclick=\"\n",
       "            if (this.previousSibling.style.display == 'none') {\n",
       "                this.previousSibling.style.display = 'block';\n",
       "                this.parentNode.style.display = 'inline-block';\n",
       "            } else {\n",
       "                this.previousSibling.style.display = 'none';\n",
       "                this.parentNode.style.display = 'inline';\n",
       "            }\"\n",
       "            onmouseover=\"document.getElementById('_fb_ujjhrccullznwhgnjewp_ind_7').style.opacity = 1; document.getElementById('_fs_ujjhrccullznwhgnjewp_ind_7').style.opacity = 1;\"\n",
       "            onmouseout=\"document.getElementById('_fb_ujjhrccullznwhgnjewp_ind_7').style.opacity = 0; document.getElementById('_fs_ujjhrccullznwhgnjewp_ind_7').style.opacity = 0;\"\n",
       "        >D</div></div><div style='display: inline; text-align: center;'\n",
       "    ><div style='display: none; color: #999; padding-top: 0px; font-size: 12px;'>-0.156</div\n",
       "        ><div id='_tp_ujjhrccullznwhgnjewp_ind_8'\n",
       "            style='display: inline; background: rgba(30.0, 136.0, 229.0, 0.8975242622301446); border-radius: 3px; padding: 0px'\n",
       "            onclick=\"\n",
       "            if (this.previousSibling.style.display == 'none') {\n",
       "                this.previousSibling.style.display = 'block';\n",
       "                this.parentNode.style.display = 'inline-block';\n",
       "            } else {\n",
       "                this.previousSibling.style.display = 'none';\n",
       "                this.parentNode.style.display = 'inline';\n",
       "            }\"\n",
       "            onmouseover=\"document.getElementById('_fb_ujjhrccullznwhgnjewp_ind_8').style.opacity = 1; document.getElementById('_fs_ujjhrccullznwhgnjewp_ind_8').style.opacity = 1;\"\n",
       "            onmouseout=\"document.getElementById('_fb_ujjhrccullznwhgnjewp_ind_8').style.opacity = 0; document.getElementById('_fs_ujjhrccullznwhgnjewp_ind_8').style.opacity = 0;\"\n",
       "        >ICK </div></div><div style='display: inline; text-align: center;'\n",
       "    ><div style='display: none; color: #999; padding-top: 0px; font-size: 12px;'>0.006</div\n",
       "        ><div id='_tp_ujjhrccullznwhgnjewp_ind_9'\n",
       "            style='display: inline; background: rgba(255.0, 13.0, 87.0, 0.030421865715983164); border-radius: 3px; padding: 0px'\n",
       "            onclick=\"\n",
       "            if (this.previousSibling.style.display == 'none') {\n",
       "                this.previousSibling.style.display = 'block';\n",
       "                this.parentNode.style.display = 'inline-block';\n",
       "            } else {\n",
       "                this.previousSibling.style.display = 'none';\n",
       "                this.parentNode.style.display = 'inline';\n",
       "            }\"\n",
       "            onmouseover=\"document.getElementById('_fb_ujjhrccullznwhgnjewp_ind_9').style.opacity = 1; document.getElementById('_fs_ujjhrccullznwhgnjewp_ind_9').style.opacity = 1;\"\n",
       "            onmouseout=\"document.getElementById('_fb_ujjhrccullznwhgnjewp_ind_9').style.opacity = 0; document.getElementById('_fs_ujjhrccullznwhgnjewp_ind_9').style.opacity = 0;\"\n",
       "        >KO</div></div><div style='display: inline; text-align: center;'\n",
       "    ><div style='display: none; color: #999; padding-top: 0px; font-size: 12px;'>-0.008</div\n",
       "        ><div id='_tp_ujjhrccullznwhgnjewp_ind_10'\n",
       "            style='display: inline; background: rgba(30.0, 136.0, 229.0, 0.03830461477520309); border-radius: 3px; padding: 0px'\n",
       "            onclick=\"\n",
       "            if (this.previousSibling.style.display == 'none') {\n",
       "                this.previousSibling.style.display = 'block';\n",
       "                this.parentNode.style.display = 'inline-block';\n",
       "            } else {\n",
       "                this.previousSibling.style.display = 'none';\n",
       "                this.parentNode.style.display = 'inline';\n",
       "            }\"\n",
       "            onmouseover=\"document.getElementById('_fb_ujjhrccullznwhgnjewp_ind_10').style.opacity = 1; document.getElementById('_fs_ujjhrccullznwhgnjewp_ind_10').style.opacity = 1;\"\n",
       "            onmouseout=\"document.getElementById('_fb_ujjhrccullznwhgnjewp_ind_10').style.opacity = 0; document.getElementById('_fs_ujjhrccullznwhgnjewp_ind_10').style.opacity = 0;\"\n",
       "        >Z</div></div><div style='display: inline; text-align: center;'\n",
       "    ><div style='display: none; color: #999; padding-top: 0px; font-size: 12px;'>-0.019</div\n",
       "        ><div id='_tp_ujjhrccullznwhgnjewp_ind_11'\n",
       "            style='display: inline; background: rgba(30.0, 136.0, 229.0, 0.10924935630817977); border-radius: 3px; padding: 0px'\n",
       "            onclick=\"\n",
       "            if (this.previousSibling.style.display == 'none') {\n",
       "                this.previousSibling.style.display = 'block';\n",
       "                this.parentNode.style.display = 'inline-block';\n",
       "            } else {\n",
       "                this.previousSibling.style.display = 'none';\n",
       "                this.parentNode.style.display = 'inline';\n",
       "            }\"\n",
       "            onmouseover=\"document.getElementById('_fb_ujjhrccullznwhgnjewp_ind_11').style.opacity = 1; document.getElementById('_fs_ujjhrccullznwhgnjewp_ind_11').style.opacity = 1;\"\n",
       "            onmouseout=\"document.getElementById('_fb_ujjhrccullznwhgnjewp_ind_11').style.opacity = 0; document.getElementById('_fs_ujjhrccullznwhgnjewp_ind_11').style.opacity = 0;\"\n",
       "        >Y </div></div><div style='display: inline; text-align: center;'\n",
       "    ><div style='display: none; color: #999; padding-top: 0px; font-size: 12px;'>-0.027</div\n",
       "        ><div id='_tp_ujjhrccullznwhgnjewp_ind_12'\n",
       "            style='display: inline; background: rgba(30.0, 136.0, 229.0, 0.14866310160427798); border-radius: 3px; padding: 0px'\n",
       "            onclick=\"\n",
       "            if (this.previousSibling.style.display == 'none') {\n",
       "                this.previousSibling.style.display = 'block';\n",
       "                this.parentNode.style.display = 'inline-block';\n",
       "            } else {\n",
       "                this.previousSibling.style.display = 'none';\n",
       "                this.parentNode.style.display = 'inline';\n",
       "            }\"\n",
       "            onmouseover=\"document.getElementById('_fb_ujjhrccullznwhgnjewp_ind_12').style.opacity = 1; document.getElementById('_fs_ujjhrccullznwhgnjewp_ind_12').style.opacity = 1;\"\n",
       "            onmouseout=\"document.getElementById('_fb_ujjhrccullznwhgnjewp_ind_12').style.opacity = 0; document.getElementById('_fs_ujjhrccullznwhgnjewp_ind_12').style.opacity = 0;\"\n",
       "        >I </div></div><div style='display: inline; text-align: center;'\n",
       "    ><div style='display: none; color: #999; padding-top: 0px; font-size: 12px;'>0.01</div\n",
       "        ><div id='_tp_ujjhrccullznwhgnjewp_ind_13'\n",
       "            style='display: inline; background: rgba(255.0, 13.0, 87.0, 0.05407011289364243); border-radius: 3px; padding: 0px'\n",
       "            onclick=\"\n",
       "            if (this.previousSibling.style.display == 'none') {\n",
       "                this.previousSibling.style.display = 'block';\n",
       "                this.parentNode.style.display = 'inline-block';\n",
       "            } else {\n",
       "                this.previousSibling.style.display = 'none';\n",
       "                this.parentNode.style.display = 'inline';\n",
       "            }\"\n",
       "            onmouseover=\"document.getElementById('_fb_ujjhrccullznwhgnjewp_ind_13').style.opacity = 1; document.getElementById('_fs_ujjhrccullznwhgnjewp_ind_13').style.opacity = 1;\"\n",
       "            onmouseout=\"document.getElementById('_fb_ujjhrccullznwhgnjewp_ind_13').style.opacity = 0; document.getElementById('_fs_ujjhrccullznwhgnjewp_ind_13').style.opacity = 0;\"\n",
       "        >SEE </div></div><div style='display: inline; text-align: center;'\n",
       "    ><div style='display: none; color: #999; padding-top: 0px; font-size: 12px;'>-0.004</div\n",
       "        ><div id='_tp_ujjhrccullznwhgnjewp_ind_14'\n",
       "            style='display: inline; background: rgba(30.0, 136.0, 229.0, 0.014656367597544028); border-radius: 3px; padding: 0px'\n",
       "            onclick=\"\n",
       "            if (this.previousSibling.style.display == 'none') {\n",
       "                this.previousSibling.style.display = 'block';\n",
       "                this.parentNode.style.display = 'inline-block';\n",
       "            } else {\n",
       "                this.previousSibling.style.display = 'none';\n",
       "                this.parentNode.style.display = 'inline';\n",
       "            }\"\n",
       "            onmouseover=\"document.getElementById('_fb_ujjhrccullznwhgnjewp_ind_14').style.opacity = 1; document.getElementById('_fs_ujjhrccullznwhgnjewp_ind_14').style.opacity = 1;\"\n",
       "            onmouseout=\"document.getElementById('_fb_ujjhrccullznwhgnjewp_ind_14').style.opacity = 0; document.getElementById('_fs_ujjhrccullznwhgnjewp_ind_14').style.opacity = 0;\"\n",
       "        >YOU </div></div><div style='display: inline; text-align: center;'\n",
       "    ><div style='display: none; color: #999; padding-top: 0px; font-size: 12px;'>0.025</div\n",
       "        ><div id='_tp_ujjhrccullznwhgnjewp_ind_15'\n",
       "            style='display: inline; background: rgba(255.0, 13.0, 87.0, 0.14078035254505847); border-radius: 3px; padding: 0px'\n",
       "            onclick=\"\n",
       "            if (this.previousSibling.style.display == 'none') {\n",
       "                this.previousSibling.style.display = 'block';\n",
       "                this.parentNode.style.display = 'inline-block';\n",
       "            } else {\n",
       "                this.previousSibling.style.display = 'none';\n",
       "                this.parentNode.style.display = 'inline';\n",
       "            }\"\n",
       "            onmouseover=\"document.getElementById('_fb_ujjhrccullznwhgnjewp_ind_15').style.opacity = 1; document.getElementById('_fs_ujjhrccullznwhgnjewp_ind_15').style.opacity = 1;\"\n",
       "            onmouseout=\"document.getElementById('_fb_ujjhrccullznwhgnjewp_ind_15').style.opacity = 0; document.getElementById('_fs_ujjhrccullznwhgnjewp_ind_15').style.opacity = 0;\"\n",
       "        >WITH </div></div><div style='display: inline; text-align: center;'\n",
       "    ><div style='display: none; color: #999; padding-top: 0px; font-size: 12px;'>-0.012</div\n",
       "        ><div id='_tp_ujjhrccullznwhgnjewp_ind_16'\n",
       "            style='display: inline; background: rgba(30.0, 136.0, 229.0, 0.06195286195286191); border-radius: 3px; padding: 0px'\n",
       "            onclick=\"\n",
       "            if (this.previousSibling.style.display == 'none') {\n",
       "                this.previousSibling.style.display = 'block';\n",
       "                this.parentNode.style.display = 'inline-block';\n",
       "            } else {\n",
       "                this.previousSibling.style.display = 'none';\n",
       "                this.parentNode.style.display = 'inline';\n",
       "            }\"\n",
       "            onmouseover=\"document.getElementById('_fb_ujjhrccullznwhgnjewp_ind_16').style.opacity = 1; document.getElementById('_fs_ujjhrccullznwhgnjewp_ind_16').style.opacity = 1;\"\n",
       "            onmouseout=\"document.getElementById('_fb_ujjhrccullznwhgnjewp_ind_16').style.opacity = 0; document.getElementById('_fs_ujjhrccullznwhgnjewp_ind_16').style.opacity = 0;\"\n",
       "        >KN</div></div><div style='display: inline; text-align: center;'\n",
       "    ><div style='display: none; color: #999; padding-top: 0px; font-size: 12px;'>-0.08</div\n",
       "        ><div id='_tp_ujjhrccullznwhgnjewp_ind_17'\n",
       "            style='display: inline; background: rgba(30.0, 136.0, 229.0, 0.46397306397306387); border-radius: 3px; padding: 0px'\n",
       "            onclick=\"\n",
       "            if (this.previousSibling.style.display == 'none') {\n",
       "                this.previousSibling.style.display = 'block';\n",
       "                this.parentNode.style.display = 'inline-block';\n",
       "            } else {\n",
       "                this.previousSibling.style.display = 'none';\n",
       "                this.parentNode.style.display = 'inline';\n",
       "            }\"\n",
       "            onmouseover=\"document.getElementById('_fb_ujjhrccullznwhgnjewp_ind_17').style.opacity = 1; document.getElementById('_fs_ujjhrccullznwhgnjewp_ind_17').style.opacity = 1;\"\n",
       "            onmouseout=\"document.getElementById('_fb_ujjhrccullznwhgnjewp_ind_17').style.opacity = 0; document.getElementById('_fs_ujjhrccullznwhgnjewp_ind_17').style.opacity = 0;\"\n",
       "        >UCK</div></div><div style='display: inline; text-align: center;'\n",
       "    ><div style='display: none; color: #999; padding-top: 0px; font-size: 12px;'>0.033</div\n",
       "        ><div id='_tp_ujjhrccullznwhgnjewp_ind_18'\n",
       "            style='display: inline; background: rgba(255.0, 13.0, 87.0, 0.1880768469003763); border-radius: 3px; padding: 0px'\n",
       "            onclick=\"\n",
       "            if (this.previousSibling.style.display == 'none') {\n",
       "                this.previousSibling.style.display = 'block';\n",
       "                this.parentNode.style.display = 'inline-block';\n",
       "            } else {\n",
       "                this.previousSibling.style.display = 'none';\n",
       "                this.parentNode.style.display = 'inline';\n",
       "            }\"\n",
       "            onmouseover=\"document.getElementById('_fb_ujjhrccullznwhgnjewp_ind_18').style.opacity = 1; document.getElementById('_fs_ujjhrccullznwhgnjewp_ind_18').style.opacity = 1;\"\n",
       "            onmouseout=\"document.getElementById('_fb_ujjhrccullznwhgnjewp_ind_18').style.opacity = 0; document.getElementById('_fs_ujjhrccullznwhgnjewp_ind_18').style.opacity = 0;\"\n",
       "        >LES </div></div><div style='display: inline; text-align: center;'\n",
       "    ><div style='display: none; color: #999; padding-top: 0px; font-size: 12px;'>-0.029</div\n",
       "        ><div id='_tp_ujjhrccullznwhgnjewp_ind_19'\n",
       "            style='display: inline; background: rgba(30.0, 136.0, 229.0, 0.16442859972271748); border-radius: 3px; padding: 0px'\n",
       "            onclick=\"\n",
       "            if (this.previousSibling.style.display == 'none') {\n",
       "                this.previousSibling.style.display = 'block';\n",
       "                this.parentNode.style.display = 'inline-block';\n",
       "            } else {\n",
       "                this.previousSibling.style.display = 'none';\n",
       "                this.parentNode.style.display = 'inline';\n",
       "            }\"\n",
       "            onmouseover=\"document.getElementById('_fb_ujjhrccullznwhgnjewp_ind_19').style.opacity = 1; document.getElementById('_fs_ujjhrccullznwhgnjewp_ind_19').style.opacity = 1;\"\n",
       "            onmouseout=\"document.getElementById('_fb_ujjhrccullznwhgnjewp_ind_19').style.opacity = 0; document.getElementById('_fs_ujjhrccullznwhgnjewp_ind_19').style.opacity = 0;\"\n",
       "        >GET </div></div><div style='display: inline; text-align: center;'\n",
       "    ><div style='display: none; color: #999; padding-top: 0px; font-size: 12px;'>-0.002</div\n",
       "        ><div id='_tp_ujjhrccullznwhgnjewp_ind_20'\n",
       "            style='display: inline; background: rgba(30.0, 136.0, 229.0, 0.006773618538324436); border-radius: 3px; padding: 0px'\n",
       "            onclick=\"\n",
       "            if (this.previousSibling.style.display == 'none') {\n",
       "                this.previousSibling.style.display = 'block';\n",
       "                this.parentNode.style.display = 'inline-block';\n",
       "            } else {\n",
       "                this.previousSibling.style.display = 'none';\n",
       "                this.parentNode.style.display = 'inline';\n",
       "            }\"\n",
       "            onmouseover=\"document.getElementById('_fb_ujjhrccullznwhgnjewp_ind_20').style.opacity = 1; document.getElementById('_fs_ujjhrccullznwhgnjewp_ind_20').style.opacity = 1;\"\n",
       "            onmouseout=\"document.getElementById('_fb_ujjhrccullznwhgnjewp_ind_20').style.opacity = 0; document.getElementById('_fs_ujjhrccullznwhgnjewp_ind_20').style.opacity = 0;\"\n",
       "        >EM </div></div><div style='display: inline; text-align: center;'\n",
       "    ><div style='display: none; color: #999; padding-top: 0px; font-size: 12px;'>-0.014</div\n",
       "        ><div id='_tp_ujjhrccullznwhgnjewp_ind_21'\n",
       "            style='display: inline; background: rgba(30.0, 136.0, 229.0, 0.07771836007130117); border-radius: 3px; padding: 0px'\n",
       "            onclick=\"\n",
       "            if (this.previousSibling.style.display == 'none') {\n",
       "                this.previousSibling.style.display = 'block';\n",
       "                this.parentNode.style.display = 'inline-block';\n",
       "            } else {\n",
       "                this.previousSibling.style.display = 'none';\n",
       "                this.parentNode.style.display = 'inline';\n",
       "            }\"\n",
       "            onmouseover=\"document.getElementById('_fb_ujjhrccullznwhgnjewp_ind_21').style.opacity = 1; document.getElementById('_fs_ujjhrccullznwhgnjewp_ind_21').style.opacity = 1;\"\n",
       "            onmouseout=\"document.getElementById('_fb_ujjhrccullznwhgnjewp_ind_21').style.opacity = 0; document.getElementById('_fs_ujjhrccullznwhgnjewp_ind_21').style.opacity = 0;\"\n",
       "        >G</div></div><div style='display: inline; text-align: center;'\n",
       "    ><div style='display: none; color: #999; padding-top: 0px; font-size: 12px;'>-0.002</div\n",
       "        ><div id='_tp_ujjhrccullznwhgnjewp_ind_22'\n",
       "            style='display: inline; background: rgba(30.0, 136.0, 229.0, 0.006773618538324436); border-radius: 3px; padding: 0px'\n",
       "            onclick=\"\n",
       "            if (this.previousSibling.style.display == 'none') {\n",
       "                this.previousSibling.style.display = 'block';\n",
       "                this.parentNode.style.display = 'inline-block';\n",
       "            } else {\n",
       "                this.previousSibling.style.display = 'none';\n",
       "                this.parentNode.style.display = 'inline';\n",
       "            }\"\n",
       "            onmouseover=\"document.getElementById('_fb_ujjhrccullznwhgnjewp_ind_22').style.opacity = 1; document.getElementById('_fs_ujjhrccullznwhgnjewp_ind_22').style.opacity = 1;\"\n",
       "            onmouseout=\"document.getElementById('_fb_ujjhrccullznwhgnjewp_ind_22').style.opacity = 0; document.getElementById('_fs_ujjhrccullznwhgnjewp_ind_22').style.opacity = 0;\"\n",
       "        >Y</div></div><div style='display: inline; text-align: center;'\n",
       "    ><div style='display: none; color: #999; padding-top: 0px; font-size: 12px;'>-0.028</div\n",
       "        ><div id='_tp_ujjhrccullznwhgnjewp_ind_23'\n",
       "            style='display: inline; background: rgba(30.0, 136.0, 229.0, 0.1565458506634977); border-radius: 3px; padding: 0px'\n",
       "            onclick=\"\n",
       "            if (this.previousSibling.style.display == 'none') {\n",
       "                this.previousSibling.style.display = 'block';\n",
       "                this.parentNode.style.display = 'inline-block';\n",
       "            } else {\n",
       "                this.previousSibling.style.display = 'none';\n",
       "                this.parentNode.style.display = 'inline';\n",
       "            }\"\n",
       "            onmouseover=\"document.getElementById('_fb_ujjhrccullznwhgnjewp_ind_23').style.opacity = 1; document.getElementById('_fs_ujjhrccullznwhgnjewp_ind_23').style.opacity = 1;\"\n",
       "            onmouseout=\"document.getElementById('_fb_ujjhrccullznwhgnjewp_ind_23').style.opacity = 0; document.getElementById('_fs_ujjhrccullznwhgnjewp_ind_23').style.opacity = 0;\"\n",
       "        >AAA</div></div><div style='display: inline; text-align: center;'\n",
       "    ><div style='display: none; color: #999; padding-top: 0px; font-size: 12px;'>0.003</div\n",
       "        ><div id='_tp_ujjhrccullznwhgnjewp_ind_24'\n",
       "            style='display: inline; background: rgba(255.0, 13.0, 87.0, 0.014656367597544035); border-radius: 3px; padding: 0px'\n",
       "            onclick=\"\n",
       "            if (this.previousSibling.style.display == 'none') {\n",
       "                this.previousSibling.style.display = 'block';\n",
       "                this.parentNode.style.display = 'inline-block';\n",
       "            } else {\n",
       "                this.previousSibling.style.display = 'none';\n",
       "                this.parentNode.style.display = 'inline';\n",
       "            }\"\n",
       "            onmouseover=\"document.getElementById('_fb_ujjhrccullznwhgnjewp_ind_24').style.opacity = 1; document.getElementById('_fs_ujjhrccullznwhgnjewp_ind_24').style.opacity = 1;\"\n",
       "            onmouseout=\"document.getElementById('_fb_ujjhrccullznwhgnjewp_ind_24').style.opacity = 0; document.getElementById('_fs_ujjhrccullznwhgnjewp_ind_24').style.opacity = 0;\"\n",
       "        >AL</div></div><div style='display: inline; text-align: center;'\n",
       "    ><div style='display: none; color: #999; padding-top: 0px; font-size: 12px;'>0.0</div\n",
       "        ><div id='_tp_ujjhrccullznwhgnjewp_ind_25'\n",
       "            style='display: inline; background: rgba(230.2941176470614, 26.505882352939775, 102.59215686274348, 0.0); border-radius: 3px; padding: 0px'\n",
       "            onclick=\"\n",
       "            if (this.previousSibling.style.display == 'none') {\n",
       "                this.previousSibling.style.display = 'block';\n",
       "                this.parentNode.style.display = 'inline-block';\n",
       "            } else {\n",
       "                this.previousSibling.style.display = 'none';\n",
       "                this.parentNode.style.display = 'inline';\n",
       "            }\"\n",
       "            onmouseover=\"document.getElementById('_fb_ujjhrccullznwhgnjewp_ind_25').style.opacity = 1; document.getElementById('_fs_ujjhrccullznwhgnjewp_ind_25').style.opacity = 1;\"\n",
       "            onmouseout=\"document.getElementById('_fb_ujjhrccullznwhgnjewp_ind_25').style.opacity = 0; document.getElementById('_fs_ujjhrccullznwhgnjewp_ind_25').style.opacity = 0;\"\n",
       "        ></div></div></div></div><div id='_tp_uutvzqqfzzetyzijdxdb_output_1' style='display: none';><svg width=\"100%\" height=\"80px\"><line x1=\"0\" y1=\"33\" x2=\"100%\" y2=\"33\" style=\"stroke:rgb(150,150,150);stroke-width:1\" /><line x1=\"49.99999919142703%\" y1=\"33\" x2=\"49.99999919142703%\" y2=\"37\" style=\"stroke:rgb(150,150,150);stroke-width:1\" /><text x=\"49.99999919142703%\" y=\"27\" font-size=\"12px\" fill=\"rgb(120,120,120)\" dominant-baseline=\"bottom\" text-anchor=\"middle\">0.5</text><line x1=\"31.661731390321105%\" y1=\"33\" x2=\"31.661731390321105%\" y2=\"37\" style=\"stroke:rgb(150,150,150);stroke-width:1\" /><text x=\"31.661731390321105%\" y=\"27\" font-size=\"12px\" fill=\"rgb(120,120,120)\" dominant-baseline=\"bottom\" text-anchor=\"middle\">0.3</text><line x1=\"13.323463589215178%\" y1=\"33\" x2=\"13.323463589215178%\" y2=\"37\" style=\"stroke:rgb(150,150,150);stroke-width:1\" /><text x=\"13.323463589215178%\" y=\"27\" font-size=\"12px\" fill=\"rgb(120,120,120)\" dominant-baseline=\"bottom\" text-anchor=\"middle\">0.1</text><line x1=\"68.33826699253295%\" y1=\"33\" x2=\"68.33826699253295%\" y2=\"37\" style=\"stroke:rgb(150,150,150);stroke-width:1\" /><text x=\"68.33826699253295%\" y=\"27\" font-size=\"12px\" fill=\"rgb(120,120,120)\" dominant-baseline=\"bottom\" text-anchor=\"middle\">0.7</text><line x1=\"86.6765347936389%\" y1=\"33\" x2=\"86.6765347936389%\" y2=\"37\" style=\"stroke:rgb(150,150,150);stroke-width:1\" /><text x=\"86.6765347936389%\" y=\"27\" font-size=\"12px\" fill=\"rgb(120,120,120)\" dominant-baseline=\"bottom\" text-anchor=\"middle\">0.9</text><line x1=\"22.259026142828542%\" y1=\"33\" x2=\"22.259026142828542%\" y2=\"37\" style=\"stroke:rgb(150,150,150);stroke-width:1\" /><text x=\"22.259026142828542%\" y=\"27\" font-size=\"13px\" style=\"stroke:#ffffff;stroke-width:8px;\" fill=\"rgb(255,255,255)\" dominant-baseline=\"bottom\" text-anchor=\"middle\">0.197453</text><text x=\"22.259026142828542%\" y=\"27\" font-size=\"12px\" fill=\"rgb(120,120,120)\" dominant-baseline=\"bottom\" text-anchor=\"middle\">0.197453</text><text x=\"22.259026142828542%\" y=\"10\" font-size=\"12px\" fill=\"rgb(120,120,120)\" dominant-baseline=\"bottom\" text-anchor=\"middle\">base value</text><line x1=\"84.271673052108%\" y1=\"33\" x2=\"84.271673052108%\" y2=\"37\" style=\"stroke:rgb(150,150,150);stroke-width:1\" /><text x=\"84.271673052108%\" y=\"27\" font-size=\"13px\" style=\"stroke:#ffffff;stroke-width:8px;\" font-weight=\"bold\" fill=\"rgb(255,255,255)\" dominant-baseline=\"bottom\" text-anchor=\"middle\">0.873772</text><text x=\"84.271673052108%\" y=\"27\" font-size=\"13px\" font-weight=\"bold\" fill=\"rgb(0,0,0)\" dominant-baseline=\"bottom\" text-anchor=\"middle\">0.873772</text><text x=\"84.271673052108%\" y=\"10\" font-size=\"12px\" fill=\"rgb(120,120,120)\" dominant-baseline=\"bottom\" text-anchor=\"middle\">f<tspan baseline-shift=\"sub\" font-size=\"8px\">offensive</tspan>(inputs)</text><rect x=\"14.319808359452985%\" width=\"69.95186469265502%\" y=\"40\" height=\"18\" style=\"fill:rgb(255.0, 0.0, 81.08083606031792); stroke-width:0; stroke:rgb(0,0,0)\" /><line x1=\"68.29575501596273%\" x2=\"84.271673052108%\" y1=\"60\" y2=\"60\" id=\"_fb_hasqwdpydqvsxogrrvgs_ind_5\" style=\"stroke:rgb(255.0, 0.0, 81.08083606031792);stroke-width:2; opacity: 0\"/><text x=\"76.28371403403537%\" y=\"71\" font-size=\"12px\" id=\"_fs_hasqwdpydqvsxogrrvgs_ind_5\" fill=\"rgb(255.0, 0.0, 81.08083606031792)\" style=\"opacity: 0\" dominant-baseline=\"middle\" text-anchor=\"middle\">0.174</text><svg x=\"68.29575501596273%\" y=\"40\" height=\"20\" width=\"15.975918036145274%\">  <svg x=\"0\" y=\"0\" width=\"100%\" height=\"100%\">    <text x=\"50%\" y=\"9\" font-size=\"12px\" fill=\"rgb(255,255,255)\" dominant-baseline=\"middle\" text-anchor=\"middle\">UCK</text>  </svg></svg><line x1=\"53.95343014928907%\" x2=\"68.29575501596273%\" y1=\"60\" y2=\"60\" id=\"_fb_hasqwdpydqvsxogrrvgs_ind_8\" style=\"stroke:rgb(255.0, 0.0, 81.08083606031792);stroke-width:2; opacity: 0\"/><text x=\"61.124592582625894%\" y=\"71\" font-size=\"12px\" id=\"_fs_hasqwdpydqvsxogrrvgs_ind_8\" fill=\"rgb(255.0, 0.0, 81.08083606031792)\" style=\"opacity: 0\" dominant-baseline=\"middle\" text-anchor=\"middle\">0.156</text><svg x=\"53.95343014928907%\" y=\"40\" height=\"20\" width=\"14.342324866673657%\">  <svg x=\"0\" y=\"0\" width=\"100%\" height=\"100%\">    <text x=\"50%\" y=\"9\" font-size=\"12px\" fill=\"rgb(255,255,255)\" dominant-baseline=\"middle\" text-anchor=\"middle\">ICK</text>  </svg></svg><line x1=\"46.579902920208774%\" x2=\"53.95343014928907%\" y1=\"60\" y2=\"60\" id=\"_fb_hasqwdpydqvsxogrrvgs_ind_17\" style=\"stroke:rgb(255.0, 0.0, 81.08083606031792);stroke-width:2; opacity: 0\"/><text x=\"50.26666653474892%\" y=\"71\" font-size=\"12px\" id=\"_fs_hasqwdpydqvsxogrrvgs_ind_17\" fill=\"rgb(255.0, 0.0, 81.08083606031792)\" style=\"opacity: 0\" dominant-baseline=\"middle\" text-anchor=\"middle\">0.08</text><svg x=\"46.579902920208774%\" y=\"40\" height=\"20\" width=\"7.373527229080295%\">  <svg x=\"0\" y=\"0\" width=\"100%\" height=\"100%\">    <text x=\"50%\" y=\"9\" font-size=\"12px\" fill=\"rgb(255,255,255)\" dominant-baseline=\"middle\" text-anchor=\"middle\">UCK</text>  </svg></svg><line x1=\"40.59396128102694%\" x2=\"46.579902920208774%\" y1=\"60\" y2=\"60\" id=\"_fb_hasqwdpydqvsxogrrvgs_ind_4\" style=\"stroke:rgb(255.0, 0.0, 81.08083606031792);stroke-width:2; opacity: 0\"/><text x=\"43.58693210061786%\" y=\"71\" font-size=\"12px\" id=\"_fs_hasqwdpydqvsxogrrvgs_ind_4\" fill=\"rgb(255.0, 0.0, 81.08083606031792)\" style=\"opacity: 0\" dominant-baseline=\"middle\" text-anchor=\"middle\">0.065</text><svg x=\"40.59396128102694%\" y=\"40\" height=\"20\" width=\"5.985941639181831%\">  <svg x=\"0\" y=\"0\" width=\"100%\" height=\"100%\">    <text x=\"50%\" y=\"9\" font-size=\"12px\" fill=\"rgb(255,255,255)\" dominant-baseline=\"middle\" text-anchor=\"middle\">S</text>  </svg></svg><line x1=\"35.10388584520482%\" x2=\"40.59396128102694%\" y1=\"60\" y2=\"60\" id=\"_fb_hasqwdpydqvsxogrrvgs_ind_7\" style=\"stroke:rgb(255.0, 0.0, 81.08083606031792);stroke-width:2; opacity: 0\"/><text x=\"37.84892356311588%\" y=\"71\" font-size=\"12px\" id=\"_fs_hasqwdpydqvsxogrrvgs_ind_7\" fill=\"rgb(255.0, 0.0, 81.08083606031792)\" style=\"opacity: 0\" dominant-baseline=\"middle\" text-anchor=\"middle\">0.06</text><svg x=\"35.10388584520482%\" y=\"40\" height=\"20\" width=\"5.490075435822121%\">  <svg x=\"0\" y=\"0\" width=\"100%\" height=\"100%\">    <text x=\"50%\" y=\"9\" font-size=\"12px\" fill=\"rgb(255,255,255)\" dominant-baseline=\"middle\" text-anchor=\"middle\">D</text>  </svg></svg><line x1=\"30.794480076210107%\" x2=\"35.10388584520482%\" y1=\"60\" y2=\"60\" id=\"_fb_hasqwdpydqvsxogrrvgs_ind_6\" style=\"stroke:rgb(255.0, 0.0, 81.08083606031792);stroke-width:2; opacity: 0\"/><text x=\"32.94918296070746%\" y=\"71\" font-size=\"12px\" id=\"_fs_hasqwdpydqvsxogrrvgs_ind_6\" fill=\"rgb(255.0, 0.0, 81.08083606031792)\" style=\"opacity: 0\" dominant-baseline=\"middle\" text-anchor=\"middle\">0.047</text><svg x=\"30.794480076210107%\" y=\"40\" height=\"20\" width=\"4.309405768994715%\">  <svg x=\"0\" y=\"0\" width=\"100%\" height=\"100%\">    <text x=\"50%\" y=\"9\" font-size=\"12px\" fill=\"rgb(255,255,255)\" dominant-baseline=\"middle\" text-anchor=\"middle\">HIS</text>  </svg></svg><line x1=\"27.541633944912085%\" x2=\"30.794480076210107%\" y1=\"60\" y2=\"60\" id=\"_fb_hasqwdpydqvsxogrrvgs_ind_1\" style=\"stroke:rgb(255.0, 0.0, 81.08083606031792);stroke-width:2; opacity: 0\"/><text x=\"29.168057010561096%\" y=\"71\" font-size=\"12px\" id=\"_fs_hasqwdpydqvsxogrrvgs_ind_1\" fill=\"rgb(255.0, 0.0, 81.08083606031792)\" style=\"opacity: 0\" dominant-baseline=\"middle\" text-anchor=\"middle\">0.035</text><svg x=\"27.541633944912085%\" y=\"40\" height=\"20\" width=\"3.2528461312980212%\">  <svg x=\"0\" y=\"0\" width=\"100%\" height=\"100%\">    <text x=\"50%\" y=\"9\" font-size=\"12px\" fill=\"rgb(255,255,255)\" dominant-baseline=\"middle\" text-anchor=\"middle\">YOU</text>  </svg></svg><line x1=\"24.858414955776485%\" x2=\"27.541633944912085%\" y1=\"60\" y2=\"60\" id=\"_fb_hasqwdpydqvsxogrrvgs_ind_19\" style=\"stroke:rgb(255.0, 0.0, 81.08083606031792);stroke-width:2; opacity: 0\"/><text x=\"26.200024450344287%\" y=\"71\" font-size=\"12px\" id=\"_fs_hasqwdpydqvsxogrrvgs_ind_19\" fill=\"rgb(255.0, 0.0, 81.08083606031792)\" style=\"opacity: 0\" dominant-baseline=\"middle\" text-anchor=\"middle\">0.029</text><svg x=\"24.858414955776485%\" y=\"40\" height=\"20\" width=\"2.6832189891356%\">  <svg x=\"0\" y=\"0\" width=\"100%\" height=\"100%\">    <text x=\"50%\" y=\"9\" font-size=\"12px\" fill=\"rgb(255,255,255)\" dominant-baseline=\"middle\" text-anchor=\"middle\">GET</text>  </svg></svg><line x1=\"22.287039928188094%\" x2=\"24.858414955776485%\" y1=\"60\" y2=\"60\" id=\"_fb_hasqwdpydqvsxogrrvgs_ind_23\" style=\"stroke:rgb(255.0, 0.0, 81.08083606031792);stroke-width:2; opacity: 0\"/><text x=\"23.572727441982288%\" y=\"71\" font-size=\"12px\" id=\"_fs_hasqwdpydqvsxogrrvgs_ind_23\" fill=\"rgb(255.0, 0.0, 81.08083606031792)\" style=\"opacity: 0\" dominant-baseline=\"middle\" text-anchor=\"middle\">0.028</text><svg x=\"22.287039928188094%\" y=\"40\" height=\"20\" width=\"2.5713750275883918%\">  <svg x=\"0\" y=\"0\" width=\"100%\" height=\"100%\">    <text x=\"50%\" y=\"9\" font-size=\"12px\" fill=\"rgb(255,255,255)\" dominant-baseline=\"middle\" text-anchor=\"middle\">AAA</text>  </svg></svg><line x1=\"19.85369025846433%\" x2=\"22.287039928188094%\" y1=\"60\" y2=\"60\" id=\"_fb_hasqwdpydqvsxogrrvgs_ind_12\" style=\"stroke:rgb(255.0, 0.0, 81.08083606031792);stroke-width:2; opacity: 0\"/><text x=\"21.07036509332621%\" y=\"71\" font-size=\"12px\" id=\"_fs_hasqwdpydqvsxogrrvgs_ind_12\" fill=\"rgb(255.0, 0.0, 81.08083606031792)\" style=\"opacity: 0\" dominant-baseline=\"middle\" text-anchor=\"middle\">0.027</text><svg x=\"19.85369025846433%\" y=\"40\" height=\"20\" width=\"2.433349669723764%\">  <svg x=\"0\" y=\"0\" width=\"100%\" height=\"100%\">    <text x=\"50%\" y=\"9\" font-size=\"12px\" fill=\"rgb(255,255,255)\" dominant-baseline=\"middle\" text-anchor=\"middle\">I</text>  </svg></svg><line x1=\"18.094135905441345%\" x2=\"19.85369025846433%\" y1=\"60\" y2=\"60\" id=\"_fb_hasqwdpydqvsxogrrvgs_ind_11\" style=\"stroke:rgb(255.0, 0.0, 81.08083606031792);stroke-width:2; opacity: 0\"/><text x=\"18.973913081952837%\" y=\"71\" font-size=\"12px\" id=\"_fs_hasqwdpydqvsxogrrvgs_ind_11\" fill=\"rgb(255.0, 0.0, 81.08083606031792)\" style=\"opacity: 0\" dominant-baseline=\"middle\" text-anchor=\"middle\">0.019</text><svg x=\"18.094135905441345%\" y=\"40\" height=\"20\" width=\"1.7595543530229847%\">  <svg x=\"0\" y=\"0\" width=\"100%\" height=\"100%\">    <text x=\"50%\" y=\"9\" font-size=\"12px\" fill=\"rgb(255,255,255)\" dominant-baseline=\"middle\" text-anchor=\"middle\">Y</text>  </svg></svg><line x1=\"16.798226704241813%\" x2=\"18.094135905441345%\" y1=\"60\" y2=\"60\" id=\"_fb_hasqwdpydqvsxogrrvgs_ind_21\" style=\"stroke:rgb(255.0, 0.0, 81.08083606031792);stroke-width:2; opacity: 0\"/><text x=\"17.44618130484158%\" y=\"71\" font-size=\"12px\" id=\"_fs_hasqwdpydqvsxogrrvgs_ind_21\" fill=\"rgb(255.0, 0.0, 81.08083606031792)\" style=\"opacity: 0\" dominant-baseline=\"middle\" text-anchor=\"middle\">0.014</text><svg x=\"16.798226704241813%\" y=\"40\" height=\"20\" width=\"1.2959092011995317%\">  <svg x=\"0\" y=\"0\" width=\"100%\" height=\"100%\">    <text x=\"50%\" y=\"9\" font-size=\"12px\" fill=\"rgb(255,255,255)\" dominant-baseline=\"middle\" text-anchor=\"middle\">G</text>  </svg></svg><line x1=\"15.708045101581073%\" x2=\"16.798226704241813%\" y1=\"60\" y2=\"60\" id=\"_fb_hasqwdpydqvsxogrrvgs_ind_16\" style=\"stroke:rgb(255.0, 0.0, 81.08083606031792);stroke-width:2; opacity: 0\"/><text x=\"16.253135902911442%\" y=\"71\" font-size=\"12px\" id=\"_fs_hasqwdpydqvsxogrrvgs_ind_16\" fill=\"rgb(255.0, 0.0, 81.08083606031792)\" style=\"opacity: 0\" dominant-baseline=\"middle\" text-anchor=\"middle\">0.012</text><svg x=\"15.708045101581073%\" y=\"40\" height=\"20\" width=\"1.0901816026607403%\">  <svg x=\"0\" y=\"0\" width=\"100%\" height=\"100%\">    <text x=\"50%\" y=\"9\" font-size=\"12px\" fill=\"rgb(255,255,255)\" dominant-baseline=\"middle\" text-anchor=\"middle\">KN</text>  </svg></svg><line x1=\"14.972126561686574%\" x2=\"15.708045101581073%\" y1=\"60\" y2=\"60\" id=\"_fb_hasqwdpydqvsxogrrvgs_ind_10\" style=\"stroke:rgb(255.0, 0.0, 81.08083606031792);stroke-width:2; opacity: 0\"/><text x=\"15.340085831633823%\" y=\"71\" font-size=\"12px\" id=\"_fs_hasqwdpydqvsxogrrvgs_ind_10\" fill=\"rgb(255.0, 0.0, 81.08083606031792)\" style=\"opacity: 0\" dominant-baseline=\"middle\" text-anchor=\"middle\">0.008</text><svg x=\"14.972126561686574%\" y=\"40\" height=\"20\" width=\"0.7359185398944987%\">  <svg x=\"0\" y=\"0\" width=\"100%\" height=\"100%\">    <text x=\"50%\" y=\"9\" font-size=\"12px\" fill=\"rgb(255,255,255)\" dominant-baseline=\"middle\" text-anchor=\"middle\">Z</text>  </svg></svg><line x1=\"14.613812781686285%\" x2=\"14.972126561686574%\" y1=\"60\" y2=\"60\" id=\"_fb_hasqwdpydqvsxogrrvgs_ind_14\" style=\"stroke:rgb(255.0, 0.0, 81.08083606031792);stroke-width:2; opacity: 0\"/><text x=\"14.792969671686429%\" y=\"71\" font-size=\"12px\" id=\"_fs_hasqwdpydqvsxogrrvgs_ind_14\" fill=\"rgb(255.0, 0.0, 81.08083606031792)\" style=\"opacity: 0\" dominant-baseline=\"middle\" text-anchor=\"middle\">0.004</text><svg x=\"14.613812781686285%\" y=\"40\" height=\"20\" width=\"0.35831378000028913%\">  <svg x=\"0\" y=\"0\" width=\"100%\" height=\"100%\">    <text x=\"50%\" y=\"9\" font-size=\"12px\" fill=\"rgb(255,255,255)\" dominant-baseline=\"middle\" text-anchor=\"middle\">YOU</text>  </svg></svg><line x1=\"14.458158001844943%\" x2=\"14.613812781686285%\" y1=\"60\" y2=\"60\" id=\"_fb_hasqwdpydqvsxogrrvgs_ind_22\" style=\"stroke:rgb(255.0, 0.0, 81.08083606031792);stroke-width:2; opacity: 0\"/><text x=\"14.535985391765614%\" y=\"71\" font-size=\"12px\" id=\"_fs_hasqwdpydqvsxogrrvgs_ind_22\" fill=\"rgb(255.0, 0.0, 81.08083606031792)\" style=\"opacity: 0\" dominant-baseline=\"middle\" text-anchor=\"middle\">0.002</text><svg x=\"14.458158001844943%\" y=\"40\" height=\"20\" width=\"0.1556547798413419%\">  <svg x=\"0\" y=\"0\" width=\"100%\" height=\"100%\">    <text x=\"50%\" y=\"9\" font-size=\"12px\" fill=\"rgb(255,255,255)\" dominant-baseline=\"middle\" text-anchor=\"middle\">Y</text>  </svg></svg><line x1=\"14.32017931191822%\" x2=\"14.458158001844943%\" y1=\"60\" y2=\"60\" id=\"_fb_hasqwdpydqvsxogrrvgs_ind_20\" style=\"stroke:rgb(255.0, 0.0, 81.08083606031792);stroke-width:2; opacity: 0\"/><text x=\"14.389168656881582%\" y=\"71\" font-size=\"12px\" id=\"_fs_hasqwdpydqvsxogrrvgs_ind_20\" fill=\"rgb(255.0, 0.0, 81.08083606031792)\" style=\"opacity: 0\" dominant-baseline=\"middle\" text-anchor=\"middle\">0.002</text><svg x=\"14.32017931191822%\" y=\"40\" height=\"20\" width=\"0.13797868992672235%\">  <svg x=\"0\" y=\"0\" width=\"100%\" height=\"100%\">    <text x=\"50%\" y=\"9\" font-size=\"12px\" fill=\"rgb(255,255,255)\" dominant-baseline=\"middle\" text-anchor=\"middle\">EM</text>  </svg></svg><line x1=\"14.319808359452985%\" x2=\"14.32017931191822%\" y1=\"60\" y2=\"60\" id=\"_fb_hasqwdpydqvsxogrrvgs_ind_0\" style=\"stroke:rgb(255.0, 0.0, 81.08083606031792);stroke-width:2; opacity: 0\"/><text x=\"14.319993835685603%\" y=\"71\" font-size=\"12px\" id=\"_fs_hasqwdpydqvsxogrrvgs_ind_0\" fill=\"rgb(255.0, 0.0, 81.08083606031792)\" style=\"opacity: 0\" dominant-baseline=\"middle\" text-anchor=\"middle\">0.0</text><svg x=\"14.319808359452985%\" y=\"40\" height=\"20\" width=\"0.0003709524652357743%\">  <svg x=\"0\" y=\"0\" width=\"100%\" height=\"100%\">    <text x=\"50%\" y=\"9\" font-size=\"12px\" fill=\"rgb(255,255,255)\" dominant-baseline=\"middle\" text-anchor=\"middle\"></text>  </svg></svg><g transform=\"translate(0,0)\">  <svg x=\"68.29575501596273%\" y=\"40\" height=\"18\" overflow=\"visible\" width=\"30\">    <path d=\"M 0 -9 l 6 18 L 0 25\" fill=\"none\" style=\"stroke:rgb(255.0, 0.0, 81.08083606031792);stroke-width:2\" />  </svg></g><g transform=\"translate(2,0)\">  <svg x=\"68.29575501596273%\" y=\"40\" height=\"18\" overflow=\"visible\" width=\"30\">    <path d=\"M 0 -9 l 6 18 L 0 25\" fill=\"none\" style=\"stroke:rgb(255.0, 0.0, 81.08083606031792);stroke-width:2\" />  </svg></g><g transform=\"translate(4,0)\">  <svg x=\"68.29575501596273%\" y=\"40\" height=\"18\" overflow=\"visible\" width=\"30\">    <path d=\"M 0 -9 l 6 18 L 0 25\" fill=\"none\" style=\"stroke:rgb(255.0, 0.0, 81.08083606031792);stroke-width:2\" />  </svg></g><g transform=\"translate(6,0)\">  <svg x=\"68.29575501596273%\" y=\"40\" height=\"18\" overflow=\"visible\" width=\"30\">    <path d=\"M 0 -9 l 6 18 L 0 25\" fill=\"none\" style=\"stroke:rgb(255.0, 0.0, 81.08083606031792);stroke-width:2\" />  </svg></g><g transform=\"translate(-8,0)\">  <svg x=\"68.29575501596273%\" y=\"40\" height=\"18\" overflow=\"visible\" width=\"30\">    <path d=\"M 0 -9 l 6 18 L 0 25\" fill=\"none\" style=\"stroke:rgb(255.0, 0.0, 81.08083606031792);stroke-width:2\" />  </svg></g><g transform=\"translate(-6,0)\">  <svg x=\"68.29575501596273%\" y=\"40\" height=\"18\" overflow=\"visible\" width=\"30\">    <path d=\"M 0 -9 l 6 18 L 0 25\" fill=\"none\" style=\"stroke:rgb(255.0, 0.0, 81.08083606031792);stroke-width:2\" />  </svg></g><g transform=\"translate(-4,0)\">  <svg x=\"68.29575501596273%\" y=\"40\" height=\"18\" overflow=\"visible\" width=\"30\">    <path d=\"M 0 -9 l 6 18 L 0 25\" fill=\"none\" style=\"stroke:rgb(255.0, 0.0, 81.08083606031792);stroke-width:2\" />  </svg></g><g transform=\"translate(-2,0)\">  <svg x=\"68.29575501596273%\" y=\"40\" height=\"18\" overflow=\"visible\" width=\"30\">    <path d=\"M 0 -9 l 6 18 L 0 25\" fill=\"none\" style=\"stroke:rgb(255.0, 0.0, 81.08083606031792);stroke-width:2\" />  </svg></g><g transform=\"translate(0,0)\">  <svg x=\"53.95343014928907%\" y=\"40\" height=\"18\" overflow=\"visible\" width=\"30\">    <path d=\"M 0 -9 l 6 18 L 0 25\" fill=\"none\" style=\"stroke:rgb(255.0, 0.0, 81.08083606031792);stroke-width:2\" />  </svg></g><g transform=\"translate(2,0)\">  <svg x=\"53.95343014928907%\" y=\"40\" height=\"18\" overflow=\"visible\" width=\"30\">    <path d=\"M 0 -9 l 6 18 L 0 25\" fill=\"none\" style=\"stroke:rgb(255.0, 0.0, 81.08083606031792);stroke-width:2\" />  </svg></g><g transform=\"translate(4,0)\">  <svg x=\"53.95343014928907%\" y=\"40\" height=\"18\" overflow=\"visible\" width=\"30\">    <path d=\"M 0 -9 l 6 18 L 0 25\" fill=\"none\" style=\"stroke:rgb(255.0, 0.0, 81.08083606031792);stroke-width:2\" />  </svg></g><g transform=\"translate(6,0)\">  <svg x=\"53.95343014928907%\" y=\"40\" height=\"18\" overflow=\"visible\" width=\"30\">    <path d=\"M 0 -9 l 6 18 L 0 25\" fill=\"none\" style=\"stroke:rgb(255.0, 0.0, 81.08083606031792);stroke-width:2\" />  </svg></g><g transform=\"translate(-8,0)\">  <svg x=\"53.95343014928907%\" y=\"40\" height=\"18\" overflow=\"visible\" width=\"30\">    <path d=\"M 0 -9 l 6 18 L 0 25\" fill=\"none\" style=\"stroke:rgb(255.0, 0.0, 81.08083606031792);stroke-width:2\" />  </svg></g><g transform=\"translate(-6,0)\">  <svg x=\"53.95343014928907%\" y=\"40\" height=\"18\" overflow=\"visible\" width=\"30\">    <path d=\"M 0 -9 l 6 18 L 0 25\" fill=\"none\" style=\"stroke:rgb(255.0, 0.0, 81.08083606031792);stroke-width:2\" />  </svg></g><g transform=\"translate(-4,0)\">  <svg x=\"53.95343014928907%\" y=\"40\" height=\"18\" overflow=\"visible\" width=\"30\">    <path d=\"M 0 -9 l 6 18 L 0 25\" fill=\"none\" style=\"stroke:rgb(255.0, 0.0, 81.08083606031792);stroke-width:2\" />  </svg></g><g transform=\"translate(-2,0)\">  <svg x=\"53.95343014928907%\" y=\"40\" height=\"18\" overflow=\"visible\" width=\"30\">    <path d=\"M 0 -9 l 6 18 L 0 25\" fill=\"none\" style=\"stroke:rgb(255.0, 0.0, 81.08083606031792);stroke-width:2\" />  </svg></g><g transform=\"translate(0,0)\">  <svg x=\"46.579902920208774%\" y=\"40\" height=\"18\" overflow=\"visible\" width=\"30\">    <path d=\"M 0 -9 l 6 18 L 0 25\" fill=\"none\" style=\"stroke:rgb(255.0, 0.0, 81.08083606031792);stroke-width:2\" />  </svg></g><g transform=\"translate(2,0)\">  <svg x=\"46.579902920208774%\" y=\"40\" height=\"18\" overflow=\"visible\" width=\"30\">    <path d=\"M 0 -9 l 6 18 L 0 25\" fill=\"none\" style=\"stroke:rgb(255.0, 0.0, 81.08083606031792);stroke-width:2\" />  </svg></g><g transform=\"translate(4,0)\">  <svg x=\"46.579902920208774%\" y=\"40\" height=\"18\" overflow=\"visible\" width=\"30\">    <path d=\"M 0 -9 l 6 18 L 0 25\" fill=\"none\" style=\"stroke:rgb(255.0, 0.0, 81.08083606031792);stroke-width:2\" />  </svg></g><g transform=\"translate(6,0)\">  <svg x=\"46.579902920208774%\" y=\"40\" height=\"18\" overflow=\"visible\" width=\"30\">    <path d=\"M 0 -9 l 6 18 L 0 25\" fill=\"none\" style=\"stroke:rgb(255.0, 0.0, 81.08083606031792);stroke-width:2\" />  </svg></g><g transform=\"translate(-8,0)\">  <svg x=\"46.579902920208774%\" y=\"40\" height=\"18\" overflow=\"visible\" width=\"30\">    <path d=\"M 0 -9 l 6 18 L 0 25\" fill=\"none\" style=\"stroke:rgb(255.0, 0.0, 81.08083606031792);stroke-width:2\" />  </svg></g><g transform=\"translate(-6,0)\">  <svg x=\"46.579902920208774%\" y=\"40\" height=\"18\" overflow=\"visible\" width=\"30\">    <path d=\"M 0 -9 l 6 18 L 0 25\" fill=\"none\" style=\"stroke:rgb(255.0, 0.0, 81.08083606031792);stroke-width:2\" />  </svg></g><g transform=\"translate(-4,0)\">  <svg x=\"46.579902920208774%\" y=\"40\" height=\"18\" overflow=\"visible\" width=\"30\">    <path d=\"M 0 -9 l 6 18 L 0 25\" fill=\"none\" style=\"stroke:rgb(255.0, 0.0, 81.08083606031792);stroke-width:2\" />  </svg></g><g transform=\"translate(-2,0)\">  <svg x=\"46.579902920208774%\" y=\"40\" height=\"18\" overflow=\"visible\" width=\"30\">    <path d=\"M 0 -9 l 6 18 L 0 25\" fill=\"none\" style=\"stroke:rgb(255.0, 0.0, 81.08083606031792);stroke-width:2\" />  </svg></g><g transform=\"translate(0,0)\">  <svg x=\"40.59396128102694%\" y=\"40\" height=\"18\" overflow=\"visible\" width=\"30\">    <path d=\"M 0 -9 l 6 18 L 0 25\" fill=\"none\" style=\"stroke:rgb(255.0, 0.0, 81.08083606031792);stroke-width:2\" />  </svg></g><g transform=\"translate(2,0)\">  <svg x=\"40.59396128102694%\" y=\"40\" height=\"18\" overflow=\"visible\" width=\"30\">    <path d=\"M 0 -9 l 6 18 L 0 25\" fill=\"none\" style=\"stroke:rgb(255.0, 0.0, 81.08083606031792);stroke-width:2\" />  </svg></g><g transform=\"translate(4,0)\">  <svg x=\"40.59396128102694%\" y=\"40\" height=\"18\" overflow=\"visible\" width=\"30\">    <path d=\"M 0 -9 l 6 18 L 0 25\" fill=\"none\" style=\"stroke:rgb(255.0, 0.0, 81.08083606031792);stroke-width:2\" />  </svg></g><g transform=\"translate(6,0)\">  <svg x=\"40.59396128102694%\" y=\"40\" height=\"18\" overflow=\"visible\" width=\"30\">    <path d=\"M 0 -9 l 6 18 L 0 25\" fill=\"none\" style=\"stroke:rgb(255.0, 0.0, 81.08083606031792);stroke-width:2\" />  </svg></g><g transform=\"translate(-8,0)\">  <svg x=\"40.59396128102694%\" y=\"40\" height=\"18\" overflow=\"visible\" width=\"30\">    <path d=\"M 0 -9 l 6 18 L 0 25\" fill=\"none\" style=\"stroke:rgb(255.0, 0.0, 81.08083606031792);stroke-width:2\" />  </svg></g><g transform=\"translate(-6,0)\">  <svg x=\"40.59396128102694%\" y=\"40\" height=\"18\" overflow=\"visible\" width=\"30\">    <path d=\"M 0 -9 l 6 18 L 0 25\" fill=\"none\" style=\"stroke:rgb(255.0, 0.0, 81.08083606031792);stroke-width:2\" />  </svg></g><g transform=\"translate(-4,0)\">  <svg x=\"40.59396128102694%\" y=\"40\" height=\"18\" overflow=\"visible\" width=\"30\">    <path d=\"M 0 -9 l 6 18 L 0 25\" fill=\"none\" style=\"stroke:rgb(255.0, 0.0, 81.08083606031792);stroke-width:2\" />  </svg></g><g transform=\"translate(-2,0)\">  <svg x=\"40.59396128102694%\" y=\"40\" height=\"18\" overflow=\"visible\" width=\"30\">    <path d=\"M 0 -9 l 6 18 L 0 25\" fill=\"none\" style=\"stroke:rgb(255.0, 0.0, 81.08083606031792);stroke-width:2\" />  </svg></g><g transform=\"translate(0,0)\">  <svg x=\"35.10388584520482%\" y=\"40\" height=\"18\" overflow=\"visible\" width=\"30\">    <path d=\"M 0 -9 l 6 18 L 0 25\" fill=\"none\" style=\"stroke:rgb(255.0, 0.0, 81.08083606031792);stroke-width:2\" />  </svg></g><g transform=\"translate(2,0)\">  <svg x=\"35.10388584520482%\" y=\"40\" height=\"18\" overflow=\"visible\" width=\"30\">    <path d=\"M 0 -9 l 6 18 L 0 25\" fill=\"none\" style=\"stroke:rgb(255.0, 0.0, 81.08083606031792);stroke-width:2\" />  </svg></g><g transform=\"translate(4,0)\">  <svg x=\"35.10388584520482%\" y=\"40\" height=\"18\" overflow=\"visible\" width=\"30\">    <path d=\"M 0 -9 l 6 18 L 0 25\" fill=\"none\" style=\"stroke:rgb(255.0, 0.0, 81.08083606031792);stroke-width:2\" />  </svg></g><g transform=\"translate(6,0)\">  <svg x=\"35.10388584520482%\" y=\"40\" height=\"18\" overflow=\"visible\" width=\"30\">    <path d=\"M 0 -9 l 6 18 L 0 25\" fill=\"none\" style=\"stroke:rgb(255.0, 0.0, 81.08083606031792);stroke-width:2\" />  </svg></g><g transform=\"translate(-8,0)\">  <svg x=\"35.10388584520482%\" y=\"40\" height=\"18\" overflow=\"visible\" width=\"30\">    <path d=\"M 0 -9 l 6 18 L 0 25\" fill=\"none\" style=\"stroke:rgb(255.0, 0.0, 81.08083606031792);stroke-width:2\" />  </svg></g><g transform=\"translate(-6,0)\">  <svg x=\"35.10388584520482%\" y=\"40\" height=\"18\" overflow=\"visible\" width=\"30\">    <path d=\"M 0 -9 l 6 18 L 0 25\" fill=\"none\" style=\"stroke:rgb(255.0, 0.0, 81.08083606031792);stroke-width:2\" />  </svg></g><g transform=\"translate(-4,0)\">  <svg x=\"35.10388584520482%\" y=\"40\" height=\"18\" overflow=\"visible\" width=\"30\">    <path d=\"M 0 -9 l 6 18 L 0 25\" fill=\"none\" style=\"stroke:rgb(255.0, 0.0, 81.08083606031792);stroke-width:2\" />  </svg></g><g transform=\"translate(-2,0)\">  <svg x=\"35.10388584520482%\" y=\"40\" height=\"18\" overflow=\"visible\" width=\"30\">    <path d=\"M 0 -9 l 6 18 L 0 25\" fill=\"none\" style=\"stroke:rgb(255.0, 0.0, 81.08083606031792);stroke-width:2\" />  </svg></g><g transform=\"translate(0,0)\">  <svg x=\"30.794480076210107%\" y=\"40\" height=\"18\" overflow=\"visible\" width=\"30\">    <path d=\"M 0 -9 l 6 18 L 0 25\" fill=\"none\" style=\"stroke:rgb(255.0, 0.0, 81.08083606031792);stroke-width:2\" />  </svg></g><g transform=\"translate(2,0)\">  <svg x=\"30.794480076210107%\" y=\"40\" height=\"18\" overflow=\"visible\" width=\"30\">    <path d=\"M 0 -9 l 6 18 L 0 25\" fill=\"none\" style=\"stroke:rgb(255.0, 0.0, 81.08083606031792);stroke-width:2\" />  </svg></g><g transform=\"translate(4,0)\">  <svg x=\"30.794480076210107%\" y=\"40\" height=\"18\" overflow=\"visible\" width=\"30\">    <path d=\"M 0 -9 l 6 18 L 0 25\" fill=\"none\" style=\"stroke:rgb(255.0, 0.0, 81.08083606031792);stroke-width:2\" />  </svg></g><g transform=\"translate(6,0)\">  <svg x=\"30.794480076210107%\" y=\"40\" height=\"18\" overflow=\"visible\" width=\"30\">    <path d=\"M 0 -9 l 6 18 L 0 25\" fill=\"none\" style=\"stroke:rgb(255.0, 0.0, 81.08083606031792);stroke-width:2\" />  </svg></g><g transform=\"translate(-8,0)\">  <svg x=\"30.794480076210107%\" y=\"40\" height=\"18\" overflow=\"visible\" width=\"30\">    <path d=\"M 0 -9 l 6 18 L 0 25\" fill=\"none\" style=\"stroke:rgb(255.0, 0.0, 81.08083606031792);stroke-width:2\" />  </svg></g><g transform=\"translate(-6,0)\">  <svg x=\"30.794480076210107%\" y=\"40\" height=\"18\" overflow=\"visible\" width=\"30\">    <path d=\"M 0 -9 l 6 18 L 0 25\" fill=\"none\" style=\"stroke:rgb(255.0, 0.0, 81.08083606031792);stroke-width:2\" />  </svg></g><g transform=\"translate(-4,0)\">  <svg x=\"30.794480076210107%\" y=\"40\" height=\"18\" overflow=\"visible\" width=\"30\">    <path d=\"M 0 -9 l 6 18 L 0 25\" fill=\"none\" style=\"stroke:rgb(255.0, 0.0, 81.08083606031792);stroke-width:2\" />  </svg></g><g transform=\"translate(-2,0)\">  <svg x=\"30.794480076210107%\" y=\"40\" height=\"18\" overflow=\"visible\" width=\"30\">    <path d=\"M 0 -9 l 6 18 L 0 25\" fill=\"none\" style=\"stroke:rgb(255.0, 0.0, 81.08083606031792);stroke-width:2\" />  </svg></g><g transform=\"translate(0,0)\">  <svg x=\"27.541633944912085%\" y=\"40\" height=\"18\" overflow=\"visible\" width=\"30\">    <path d=\"M 0 -9 l 6 18 L 0 25\" fill=\"none\" style=\"stroke:rgb(255.0, 0.0, 81.08083606031792);stroke-width:2\" />  </svg></g><g transform=\"translate(2,0)\">  <svg x=\"27.541633944912085%\" y=\"40\" height=\"18\" overflow=\"visible\" width=\"30\">    <path d=\"M 0 -9 l 6 18 L 0 25\" fill=\"none\" style=\"stroke:rgb(255.0, 0.0, 81.08083606031792);stroke-width:2\" />  </svg></g><g transform=\"translate(4,0)\">  <svg x=\"27.541633944912085%\" y=\"40\" height=\"18\" overflow=\"visible\" width=\"30\">    <path d=\"M 0 -9 l 6 18 L 0 25\" fill=\"none\" style=\"stroke:rgb(255.0, 0.0, 81.08083606031792);stroke-width:2\" />  </svg></g><g transform=\"translate(6,0)\">  <svg x=\"27.541633944912085%\" y=\"40\" height=\"18\" overflow=\"visible\" width=\"30\">    <path d=\"M 0 -9 l 6 18 L 0 25\" fill=\"none\" style=\"stroke:rgb(255.0, 0.0, 81.08083606031792);stroke-width:2\" />  </svg></g><g transform=\"translate(-8,0)\">  <svg x=\"27.541633944912085%\" y=\"40\" height=\"18\" overflow=\"visible\" width=\"30\">    <path d=\"M 0 -9 l 6 18 L 0 25\" fill=\"none\" style=\"stroke:rgb(255.0, 0.0, 81.08083606031792);stroke-width:2\" />  </svg></g><g transform=\"translate(-6,0)\">  <svg x=\"27.541633944912085%\" y=\"40\" height=\"18\" overflow=\"visible\" width=\"30\">    <path d=\"M 0 -9 l 6 18 L 0 25\" fill=\"none\" style=\"stroke:rgb(255.0, 0.0, 81.08083606031792);stroke-width:2\" />  </svg></g><g transform=\"translate(-4,0)\">  <svg x=\"27.541633944912085%\" y=\"40\" height=\"18\" overflow=\"visible\" width=\"30\">    <path d=\"M 0 -9 l 6 18 L 0 25\" fill=\"none\" style=\"stroke:rgb(255.0, 0.0, 81.08083606031792);stroke-width:2\" />  </svg></g><g transform=\"translate(-2,0)\">  <svg x=\"27.541633944912085%\" y=\"40\" height=\"18\" overflow=\"visible\" width=\"30\">    <path d=\"M 0 -9 l 6 18 L 0 25\" fill=\"none\" style=\"stroke:rgb(255.0, 0.0, 81.08083606031792);stroke-width:2\" />  </svg></g><g transform=\"translate(0,0)\">  <svg x=\"24.858414955776485%\" y=\"40\" height=\"18\" overflow=\"visible\" width=\"30\">    <path d=\"M 0 -9 l 6 18 L 0 25\" fill=\"none\" style=\"stroke:rgb(255.0, 0.0, 81.08083606031792);stroke-width:2\" />  </svg></g><g transform=\"translate(2,0)\">  <svg x=\"24.858414955776485%\" y=\"40\" height=\"18\" overflow=\"visible\" width=\"30\">    <path d=\"M 0 -9 l 6 18 L 0 25\" fill=\"none\" style=\"stroke:rgb(255.0, 0.0, 81.08083606031792);stroke-width:2\" />  </svg></g><g transform=\"translate(4,0)\">  <svg x=\"24.858414955776485%\" y=\"40\" height=\"18\" overflow=\"visible\" width=\"30\">    <path d=\"M 0 -9 l 6 18 L 0 25\" fill=\"none\" style=\"stroke:rgb(255.0, 0.0, 81.08083606031792);stroke-width:2\" />  </svg></g><g transform=\"translate(6,0)\">  <svg x=\"24.858414955776485%\" y=\"40\" height=\"18\" overflow=\"visible\" width=\"30\">    <path d=\"M 0 -9 l 6 18 L 0 25\" fill=\"none\" style=\"stroke:rgb(255.0, 0.0, 81.08083606031792);stroke-width:2\" />  </svg></g><g transform=\"translate(-8,0)\">  <svg x=\"24.858414955776485%\" y=\"40\" height=\"18\" overflow=\"visible\" width=\"30\">    <path d=\"M 0 -9 l 6 18 L 0 25\" fill=\"none\" style=\"stroke:rgb(255.0, 0.0, 81.08083606031792);stroke-width:2\" />  </svg></g><g transform=\"translate(-6,0)\">  <svg x=\"24.858414955776485%\" y=\"40\" height=\"18\" overflow=\"visible\" width=\"30\">    <path d=\"M 0 -9 l 6 18 L 0 25\" fill=\"none\" style=\"stroke:rgb(255.0, 0.0, 81.08083606031792);stroke-width:2\" />  </svg></g><g transform=\"translate(-4,0)\">  <svg x=\"24.858414955776485%\" y=\"40\" height=\"18\" overflow=\"visible\" width=\"30\">    <path d=\"M 0 -9 l 6 18 L 0 25\" fill=\"none\" style=\"stroke:rgb(255.0, 0.0, 81.08083606031792);stroke-width:2\" />  </svg></g><g transform=\"translate(-2,0)\">  <svg x=\"24.858414955776485%\" y=\"40\" height=\"18\" overflow=\"visible\" width=\"30\">    <path d=\"M 0 -9 l 6 18 L 0 25\" fill=\"none\" style=\"stroke:rgb(255.0, 0.0, 81.08083606031792);stroke-width:2\" />  </svg></g><g transform=\"translate(0,0)\">  <svg x=\"22.287039928188094%\" y=\"40\" height=\"18\" overflow=\"visible\" width=\"30\">    <path d=\"M 0 -9 l 6 18 L 0 25\" fill=\"none\" style=\"stroke:rgb(255.0, 0.0, 81.08083606031792);stroke-width:2\" />  </svg></g><g transform=\"translate(2,0)\">  <svg x=\"22.287039928188094%\" y=\"40\" height=\"18\" overflow=\"visible\" width=\"30\">    <path d=\"M 0 -9 l 6 18 L 0 25\" fill=\"none\" style=\"stroke:rgb(255.0, 0.0, 81.08083606031792);stroke-width:2\" />  </svg></g><g transform=\"translate(4,0)\">  <svg x=\"22.287039928188094%\" y=\"40\" height=\"18\" overflow=\"visible\" width=\"30\">    <path d=\"M 0 -9 l 6 18 L 0 25\" fill=\"none\" style=\"stroke:rgb(255.0, 0.0, 81.08083606031792);stroke-width:2\" />  </svg></g><g transform=\"translate(6,0)\">  <svg x=\"22.287039928188094%\" y=\"40\" height=\"18\" overflow=\"visible\" width=\"30\">    <path d=\"M 0 -9 l 6 18 L 0 25\" fill=\"none\" style=\"stroke:rgb(255.0, 0.0, 81.08083606031792);stroke-width:2\" />  </svg></g><g transform=\"translate(-8,0)\">  <svg x=\"22.287039928188094%\" y=\"40\" height=\"18\" overflow=\"visible\" width=\"30\">    <path d=\"M 0 -9 l 6 18 L 0 25\" fill=\"none\" style=\"stroke:rgb(255.0, 0.0, 81.08083606031792);stroke-width:2\" />  </svg></g><g transform=\"translate(-6,0)\">  <svg x=\"22.287039928188094%\" y=\"40\" height=\"18\" overflow=\"visible\" width=\"30\">    <path d=\"M 0 -9 l 6 18 L 0 25\" fill=\"none\" style=\"stroke:rgb(255.0, 0.0, 81.08083606031792);stroke-width:2\" />  </svg></g><g transform=\"translate(-4,0)\">  <svg x=\"22.287039928188094%\" y=\"40\" height=\"18\" overflow=\"visible\" width=\"30\">    <path d=\"M 0 -9 l 6 18 L 0 25\" fill=\"none\" style=\"stroke:rgb(255.0, 0.0, 81.08083606031792);stroke-width:2\" />  </svg></g><g transform=\"translate(-2,0)\">  <svg x=\"22.287039928188094%\" y=\"40\" height=\"18\" overflow=\"visible\" width=\"30\">    <path d=\"M 0 -9 l 6 18 L 0 25\" fill=\"none\" style=\"stroke:rgb(255.0, 0.0, 81.08083606031792);stroke-width:2\" />  </svg></g><g transform=\"translate(0,0)\">  <svg x=\"19.85369025846433%\" y=\"40\" height=\"18\" overflow=\"visible\" width=\"30\">    <path d=\"M 0 -9 l 6 18 L 0 25\" fill=\"none\" style=\"stroke:rgb(255.0, 0.0, 81.08083606031792);stroke-width:2\" />  </svg></g><g transform=\"translate(2,0)\">  <svg x=\"19.85369025846433%\" y=\"40\" height=\"18\" overflow=\"visible\" width=\"30\">    <path d=\"M 0 -9 l 6 18 L 0 25\" fill=\"none\" style=\"stroke:rgb(255.0, 0.0, 81.08083606031792);stroke-width:2\" />  </svg></g><g transform=\"translate(4,0)\">  <svg x=\"19.85369025846433%\" y=\"40\" height=\"18\" overflow=\"visible\" width=\"30\">    <path d=\"M 0 -9 l 6 18 L 0 25\" fill=\"none\" style=\"stroke:rgb(255.0, 0.0, 81.08083606031792);stroke-width:2\" />  </svg></g><g transform=\"translate(6,0)\">  <svg x=\"19.85369025846433%\" y=\"40\" height=\"18\" overflow=\"visible\" width=\"30\">    <path d=\"M 0 -9 l 6 18 L 0 25\" fill=\"none\" style=\"stroke:rgb(255.0, 0.0, 81.08083606031792);stroke-width:2\" />  </svg></g><g transform=\"translate(-8,0)\">  <svg x=\"19.85369025846433%\" y=\"40\" height=\"18\" overflow=\"visible\" width=\"30\">    <path d=\"M 0 -9 l 6 18 L 0 25\" fill=\"none\" style=\"stroke:rgb(255.0, 0.0, 81.08083606031792);stroke-width:2\" />  </svg></g><g transform=\"translate(-6,0)\">  <svg x=\"19.85369025846433%\" y=\"40\" height=\"18\" overflow=\"visible\" width=\"30\">    <path d=\"M 0 -9 l 6 18 L 0 25\" fill=\"none\" style=\"stroke:rgb(255.0, 0.0, 81.08083606031792);stroke-width:2\" />  </svg></g><g transform=\"translate(-4,0)\">  <svg x=\"19.85369025846433%\" y=\"40\" height=\"18\" overflow=\"visible\" width=\"30\">    <path d=\"M 0 -9 l 6 18 L 0 25\" fill=\"none\" style=\"stroke:rgb(255.0, 0.0, 81.08083606031792);stroke-width:2\" />  </svg></g><g transform=\"translate(-2,0)\">  <svg x=\"19.85369025846433%\" y=\"40\" height=\"18\" overflow=\"visible\" width=\"30\">    <path d=\"M 0 -9 l 6 18 L 0 25\" fill=\"none\" style=\"stroke:rgb(255.0, 0.0, 81.08083606031792);stroke-width:2\" />  </svg></g><g transform=\"translate(0,0)\">  <svg x=\"18.094135905441345%\" y=\"40\" height=\"18\" overflow=\"visible\" width=\"30\">    <path d=\"M 0 -9 l 6 18 L 0 25\" fill=\"none\" style=\"stroke:rgb(255.0, 0.0, 81.08083606031792);stroke-width:2\" />  </svg></g><g transform=\"translate(2,0)\">  <svg x=\"18.094135905441345%\" y=\"40\" height=\"18\" overflow=\"visible\" width=\"30\">    <path d=\"M 0 -9 l 6 18 L 0 25\" fill=\"none\" style=\"stroke:rgb(255.0, 0.0, 81.08083606031792);stroke-width:2\" />  </svg></g><g transform=\"translate(4,0)\">  <svg x=\"18.094135905441345%\" y=\"40\" height=\"18\" overflow=\"visible\" width=\"30\">    <path d=\"M 0 -9 l 6 18 L 0 25\" fill=\"none\" style=\"stroke:rgb(255.0, 0.0, 81.08083606031792);stroke-width:2\" />  </svg></g><g transform=\"translate(6,0)\">  <svg x=\"18.094135905441345%\" y=\"40\" height=\"18\" overflow=\"visible\" width=\"30\">    <path d=\"M 0 -9 l 6 18 L 0 25\" fill=\"none\" style=\"stroke:rgb(255.0, 0.0, 81.08083606031792);stroke-width:2\" />  </svg></g><g transform=\"translate(-8,0)\">  <svg x=\"18.094135905441345%\" y=\"40\" height=\"18\" overflow=\"visible\" width=\"30\">    <path d=\"M 0 -9 l 6 18 L 0 25\" fill=\"none\" style=\"stroke:rgb(255.0, 0.0, 81.08083606031792);stroke-width:2\" />  </svg></g><g transform=\"translate(-6,0)\">  <svg x=\"18.094135905441345%\" y=\"40\" height=\"18\" overflow=\"visible\" width=\"30\">    <path d=\"M 0 -9 l 6 18 L 0 25\" fill=\"none\" style=\"stroke:rgb(255.0, 0.0, 81.08083606031792);stroke-width:2\" />  </svg></g><g transform=\"translate(-4,0)\">  <svg x=\"18.094135905441345%\" y=\"40\" height=\"18\" overflow=\"visible\" width=\"30\">    <path d=\"M 0 -9 l 6 18 L 0 25\" fill=\"none\" style=\"stroke:rgb(255.0, 0.0, 81.08083606031792);stroke-width:2\" />  </svg></g><g transform=\"translate(-2,0)\">  <svg x=\"18.094135905441345%\" y=\"40\" height=\"18\" overflow=\"visible\" width=\"30\">    <path d=\"M 0 -9 l 6 18 L 0 25\" fill=\"none\" style=\"stroke:rgb(255.0, 0.0, 81.08083606031792);stroke-width:2\" />  </svg></g><g transform=\"translate(0,0)\">  <svg x=\"16.798226704241813%\" y=\"40\" height=\"18\" overflow=\"visible\" width=\"30\">    <path d=\"M 0 -9 l 6 18 L 0 25\" fill=\"none\" style=\"stroke:rgb(255.0, 0.0, 81.08083606031792);stroke-width:2\" />  </svg></g><g transform=\"translate(2,0)\">  <svg x=\"16.798226704241813%\" y=\"40\" height=\"18\" overflow=\"visible\" width=\"30\">    <path d=\"M 0 -9 l 6 18 L 0 25\" fill=\"none\" style=\"stroke:rgb(255.0, 0.0, 81.08083606031792);stroke-width:2\" />  </svg></g><g transform=\"translate(4,0)\">  <svg x=\"16.798226704241813%\" y=\"40\" height=\"18\" overflow=\"visible\" width=\"30\">    <path d=\"M 0 -9 l 6 18 L 0 25\" fill=\"none\" style=\"stroke:rgb(255.0, 0.0, 81.08083606031792);stroke-width:2\" />  </svg></g><g transform=\"translate(6,0)\">  <svg x=\"16.798226704241813%\" y=\"40\" height=\"18\" overflow=\"visible\" width=\"30\">    <path d=\"M 0 -9 l 6 18 L 0 25\" fill=\"none\" style=\"stroke:rgb(255.0, 0.0, 81.08083606031792);stroke-width:2\" />  </svg></g><g transform=\"translate(-8,0)\">  <svg x=\"16.798226704241813%\" y=\"40\" height=\"18\" overflow=\"visible\" width=\"30\">    <path d=\"M 0 -9 l 6 18 L 0 25\" fill=\"none\" style=\"stroke:rgb(255.0, 0.0, 81.08083606031792);stroke-width:2\" />  </svg></g><g transform=\"translate(-6,0)\">  <svg x=\"16.798226704241813%\" y=\"40\" height=\"18\" overflow=\"visible\" width=\"30\">    <path d=\"M 0 -9 l 6 18 L 0 25\" fill=\"none\" style=\"stroke:rgb(255.0, 0.0, 81.08083606031792);stroke-width:2\" />  </svg></g><g transform=\"translate(-4,0)\">  <svg x=\"16.798226704241813%\" y=\"40\" height=\"18\" overflow=\"visible\" width=\"30\">    <path d=\"M 0 -9 l 6 18 L 0 25\" fill=\"none\" style=\"stroke:rgb(255.0, 0.0, 81.08083606031792);stroke-width:2\" />  </svg></g><g transform=\"translate(-2,0)\">  <svg x=\"16.798226704241813%\" y=\"40\" height=\"18\" overflow=\"visible\" width=\"30\">    <path d=\"M 0 -9 l 6 18 L 0 25\" fill=\"none\" style=\"stroke:rgb(255.0, 0.0, 81.08083606031792);stroke-width:2\" />  </svg></g><g transform=\"translate(0,0)\">  <svg x=\"15.708045101581073%\" y=\"40\" height=\"18\" overflow=\"visible\" width=\"30\">    <path d=\"M 0 -9 l 6 18 L 0 25\" fill=\"none\" style=\"stroke:rgb(255.0, 0.0, 81.08083606031792);stroke-width:2\" />  </svg></g><g transform=\"translate(2,0)\">  <svg x=\"15.708045101581073%\" y=\"40\" height=\"18\" overflow=\"visible\" width=\"30\">    <path d=\"M 0 -9 l 6 18 L 0 25\" fill=\"none\" style=\"stroke:rgb(255.0, 0.0, 81.08083606031792);stroke-width:2\" />  </svg></g><g transform=\"translate(4,0)\">  <svg x=\"15.708045101581073%\" y=\"40\" height=\"18\" overflow=\"visible\" width=\"30\">    <path d=\"M 0 -9 l 6 18 L 0 25\" fill=\"none\" style=\"stroke:rgb(255.0, 0.0, 81.08083606031792);stroke-width:2\" />  </svg></g><g transform=\"translate(6,0)\">  <svg x=\"15.708045101581073%\" y=\"40\" height=\"18\" overflow=\"visible\" width=\"30\">    <path d=\"M 0 -9 l 6 18 L 0 25\" fill=\"none\" style=\"stroke:rgb(255.0, 0.0, 81.08083606031792);stroke-width:2\" />  </svg></g><g transform=\"translate(-8,0)\">  <svg x=\"15.708045101581073%\" y=\"40\" height=\"18\" overflow=\"visible\" width=\"30\">    <path d=\"M 0 -9 l 6 18 L 0 25\" fill=\"none\" style=\"stroke:rgb(255.0, 0.0, 81.08083606031792);stroke-width:2\" />  </svg></g><g transform=\"translate(-6,0)\">  <svg x=\"15.708045101581073%\" y=\"40\" height=\"18\" overflow=\"visible\" width=\"30\">    <path d=\"M 0 -9 l 6 18 L 0 25\" fill=\"none\" style=\"stroke:rgb(255.0, 0.0, 81.08083606031792);stroke-width:2\" />  </svg></g><g transform=\"translate(-4,0)\">  <svg x=\"15.708045101581073%\" y=\"40\" height=\"18\" overflow=\"visible\" width=\"30\">    <path d=\"M 0 -9 l 6 18 L 0 25\" fill=\"none\" style=\"stroke:rgb(255.0, 0.0, 81.08083606031792);stroke-width:2\" />  </svg></g><g transform=\"translate(-2,0)\">  <svg x=\"15.708045101581073%\" y=\"40\" height=\"18\" overflow=\"visible\" width=\"30\">    <path d=\"M 0 -9 l 6 18 L 0 25\" fill=\"none\" style=\"stroke:rgb(255.0, 0.0, 81.08083606031792);stroke-width:2\" />  </svg></g><g transform=\"translate(0,0)\">  <svg x=\"14.972126561686574%\" y=\"40\" height=\"18\" overflow=\"visible\" width=\"30\">    <path d=\"M 0 -9 l 6 18 L 0 25\" fill=\"none\" style=\"stroke:rgb(255.0, 0.0, 81.08083606031792);stroke-width:2\" />  </svg></g><g transform=\"translate(2,0)\">  <svg x=\"14.972126561686574%\" y=\"40\" height=\"18\" overflow=\"visible\" width=\"30\">    <path d=\"M 0 -9 l 6 18 L 0 25\" fill=\"none\" style=\"stroke:rgb(255.0, 0.0, 81.08083606031792);stroke-width:2\" />  </svg></g><g transform=\"translate(4,0)\">  <svg x=\"14.972126561686574%\" y=\"40\" height=\"18\" overflow=\"visible\" width=\"30\">    <path d=\"M 0 -9 l 6 18 L 0 25\" fill=\"none\" style=\"stroke:rgb(255.0, 0.0, 81.08083606031792);stroke-width:2\" />  </svg></g><g transform=\"translate(6,0)\">  <svg x=\"14.972126561686574%\" y=\"40\" height=\"18\" overflow=\"visible\" width=\"30\">    <path d=\"M 0 -9 l 6 18 L 0 25\" fill=\"none\" style=\"stroke:rgb(255.0, 0.0, 81.08083606031792);stroke-width:2\" />  </svg></g><g transform=\"translate(-8,0)\">  <svg x=\"14.972126561686574%\" y=\"40\" height=\"18\" overflow=\"visible\" width=\"30\">    <path d=\"M 0 -9 l 6 18 L 0 25\" fill=\"none\" style=\"stroke:rgb(255.0, 0.0, 81.08083606031792);stroke-width:2\" />  </svg></g><g transform=\"translate(-6,0)\">  <svg x=\"14.972126561686574%\" y=\"40\" height=\"18\" overflow=\"visible\" width=\"30\">    <path d=\"M 0 -9 l 6 18 L 0 25\" fill=\"none\" style=\"stroke:rgb(255.0, 0.0, 81.08083606031792);stroke-width:2\" />  </svg></g><g transform=\"translate(-4,0)\">  <svg x=\"14.972126561686574%\" y=\"40\" height=\"18\" overflow=\"visible\" width=\"30\">    <path d=\"M 0 -9 l 6 18 L 0 25\" fill=\"none\" style=\"stroke:rgb(255.0, 0.0, 81.08083606031792);stroke-width:2\" />  </svg></g><g transform=\"translate(-2,0)\">  <svg x=\"14.972126561686574%\" y=\"40\" height=\"18\" overflow=\"visible\" width=\"30\">    <path d=\"M 0 -9 l 6 18 L 0 25\" fill=\"none\" style=\"stroke:rgb(255.0, 0.0, 81.08083606031792);stroke-width:2\" />  </svg></g><g transform=\"translate(0,0)\">  <svg x=\"14.613812781686285%\" y=\"40\" height=\"18\" overflow=\"visible\" width=\"30\">    <path d=\"M 0 -9 l 6 18 L 0 25\" fill=\"none\" style=\"stroke:rgb(255.0, 0.0, 81.08083606031792);stroke-width:2\" />  </svg></g><g transform=\"translate(2,0)\">  <svg x=\"14.613812781686285%\" y=\"40\" height=\"18\" overflow=\"visible\" width=\"30\">    <path d=\"M 0 -9 l 6 18 L 0 25\" fill=\"none\" style=\"stroke:rgb(255.0, 0.0, 81.08083606031792);stroke-width:2\" />  </svg></g><g transform=\"translate(4,0)\">  <svg x=\"14.613812781686285%\" y=\"40\" height=\"18\" overflow=\"visible\" width=\"30\">    <path d=\"M 0 -9 l 6 18 L 0 25\" fill=\"none\" style=\"stroke:rgb(255.0, 0.0, 81.08083606031792);stroke-width:2\" />  </svg></g><g transform=\"translate(6,0)\">  <svg x=\"14.613812781686285%\" y=\"40\" height=\"18\" overflow=\"visible\" width=\"30\">    <path d=\"M 0 -9 l 6 18 L 0 25\" fill=\"none\" style=\"stroke:rgb(255.0, 0.0, 81.08083606031792);stroke-width:2\" />  </svg></g><g transform=\"translate(-8,0)\">  <svg x=\"14.613812781686285%\" y=\"40\" height=\"18\" overflow=\"visible\" width=\"30\">    <path d=\"M 0 -9 l 6 18 L 0 25\" fill=\"none\" style=\"stroke:rgb(255.0, 0.0, 81.08083606031792);stroke-width:2\" />  </svg></g><g transform=\"translate(-6,0)\">  <svg x=\"14.613812781686285%\" y=\"40\" height=\"18\" overflow=\"visible\" width=\"30\">    <path d=\"M 0 -9 l 6 18 L 0 25\" fill=\"none\" style=\"stroke:rgb(255.0, 0.0, 81.08083606031792);stroke-width:2\" />  </svg></g><g transform=\"translate(-4,0)\">  <svg x=\"14.613812781686285%\" y=\"40\" height=\"18\" overflow=\"visible\" width=\"30\">    <path d=\"M 0 -9 l 6 18 L 0 25\" fill=\"none\" style=\"stroke:rgb(255.0, 0.0, 81.08083606031792);stroke-width:2\" />  </svg></g><g transform=\"translate(-2,0)\">  <svg x=\"14.613812781686285%\" y=\"40\" height=\"18\" overflow=\"visible\" width=\"30\">    <path d=\"M 0 -9 l 6 18 L 0 25\" fill=\"none\" style=\"stroke:rgb(255.0, 0.0, 81.08083606031792);stroke-width:2\" />  </svg></g><g transform=\"translate(0,0)\">  <svg x=\"14.458158001844943%\" y=\"40\" height=\"18\" overflow=\"visible\" width=\"30\">    <path d=\"M 0 -9 l 6 18 L 0 25\" fill=\"none\" style=\"stroke:rgb(255.0, 0.0, 81.08083606031792);stroke-width:2\" />  </svg></g><g transform=\"translate(2,0)\">  <svg x=\"14.458158001844943%\" y=\"40\" height=\"18\" overflow=\"visible\" width=\"30\">    <path d=\"M 0 -9 l 6 18 L 0 25\" fill=\"none\" style=\"stroke:rgb(255.0, 0.0, 81.08083606031792);stroke-width:2\" />  </svg></g><g transform=\"translate(4,0)\">  <svg x=\"14.458158001844943%\" y=\"40\" height=\"18\" overflow=\"visible\" width=\"30\">    <path d=\"M 0 -9 l 6 18 L 0 25\" fill=\"none\" style=\"stroke:rgb(255.0, 0.0, 81.08083606031792);stroke-width:2\" />  </svg></g><g transform=\"translate(6,0)\">  <svg x=\"14.458158001844943%\" y=\"40\" height=\"18\" overflow=\"visible\" width=\"30\">    <path d=\"M 0 -9 l 6 18 L 0 25\" fill=\"none\" style=\"stroke:rgb(255.0, 0.0, 81.08083606031792);stroke-width:2\" />  </svg></g><g transform=\"translate(-8,0)\">  <svg x=\"14.458158001844943%\" y=\"40\" height=\"18\" overflow=\"visible\" width=\"30\">    <path d=\"M 0 -9 l 6 18 L 0 25\" fill=\"none\" style=\"stroke:rgb(255.0, 0.0, 81.08083606031792);stroke-width:2\" />  </svg></g><g transform=\"translate(-6,0)\">  <svg x=\"14.458158001844943%\" y=\"40\" height=\"18\" overflow=\"visible\" width=\"30\">    <path d=\"M 0 -9 l 6 18 L 0 25\" fill=\"none\" style=\"stroke:rgb(255.0, 0.0, 81.08083606031792);stroke-width:2\" />  </svg></g><g transform=\"translate(-4,0)\">  <svg x=\"14.458158001844943%\" y=\"40\" height=\"18\" overflow=\"visible\" width=\"30\">    <path d=\"M 0 -9 l 6 18 L 0 25\" fill=\"none\" style=\"stroke:rgb(255.0, 0.0, 81.08083606031792);stroke-width:2\" />  </svg></g><g transform=\"translate(-2,0)\">  <svg x=\"14.458158001844943%\" y=\"40\" height=\"18\" overflow=\"visible\" width=\"30\">    <path d=\"M 0 -9 l 6 18 L 0 25\" fill=\"none\" style=\"stroke:rgb(255.0, 0.0, 81.08083606031792);stroke-width:2\" />  </svg></g><g transform=\"translate(0,0)\">  <svg x=\"14.32017931191822%\" y=\"40\" height=\"18\" overflow=\"visible\" width=\"30\">    <path d=\"M 0 -9 l 6 18 L 0 25\" fill=\"none\" style=\"stroke:rgb(255.0, 0.0, 81.08083606031792);stroke-width:2\" />  </svg></g><g transform=\"translate(2,0)\">  <svg x=\"14.32017931191822%\" y=\"40\" height=\"18\" overflow=\"visible\" width=\"30\">    <path d=\"M 0 -9 l 6 18 L 0 25\" fill=\"none\" style=\"stroke:rgb(255.0, 0.0, 81.08083606031792);stroke-width:2\" />  </svg></g><g transform=\"translate(4,0)\">  <svg x=\"14.32017931191822%\" y=\"40\" height=\"18\" overflow=\"visible\" width=\"30\">    <path d=\"M 0 -9 l 6 18 L 0 25\" fill=\"none\" style=\"stroke:rgb(255.0, 0.0, 81.08083606031792);stroke-width:2\" />  </svg></g><g transform=\"translate(6,0)\">  <svg x=\"14.32017931191822%\" y=\"40\" height=\"18\" overflow=\"visible\" width=\"30\">    <path d=\"M 0 -9 l 6 18 L 0 25\" fill=\"none\" style=\"stroke:rgb(255.0, 0.0, 81.08083606031792);stroke-width:2\" />  </svg></g><g transform=\"translate(-8,0)\">  <svg x=\"14.32017931191822%\" y=\"40\" height=\"18\" overflow=\"visible\" width=\"30\">    <path d=\"M 0 -9 l 6 18 L 0 25\" fill=\"none\" style=\"stroke:rgb(255.0, 0.0, 81.08083606031792);stroke-width:2\" />  </svg></g><g transform=\"translate(-6,0)\">  <svg x=\"14.32017931191822%\" y=\"40\" height=\"18\" overflow=\"visible\" width=\"30\">    <path d=\"M 0 -9 l 6 18 L 0 25\" fill=\"none\" style=\"stroke:rgb(255.0, 0.0, 81.08083606031792);stroke-width:2\" />  </svg></g><g transform=\"translate(-4,0)\">  <svg x=\"14.32017931191822%\" y=\"40\" height=\"18\" overflow=\"visible\" width=\"30\">    <path d=\"M 0 -9 l 6 18 L 0 25\" fill=\"none\" style=\"stroke:rgb(255.0, 0.0, 81.08083606031792);stroke-width:2\" />  </svg></g><g transform=\"translate(-2,0)\">  <svg x=\"14.32017931191822%\" y=\"40\" height=\"18\" overflow=\"visible\" width=\"30\">    <path d=\"M 0 -9 l 6 18 L 0 25\" fill=\"none\" style=\"stroke:rgb(255.0, 0.0, 81.08083606031792);stroke-width:2\" />  </svg></g><rect transform=\"translate(-8,0)\" x=\"84.271673052108%\" y=\"40\" width=\"8\" height=\"18\" style=\"fill:rgb(255.0, 0.0, 81.08083606031792)\"/><g transform=\"translate(-11.5,0)\">  <svg x=\"14.319808359452985%\" y=\"40\" height=\"18\" overflow=\"visible\" width=\"30\">    <path d=\"M 10 -9 l 6 18 L 10 25 L 0 25 L 0 -9\" fill=\"#ffffff\" style=\"stroke:rgb(255,255,255);stroke-width:2\" />  </svg></g><g transform=\"translate(-1.5,0)\">  <svg x=\"84.271673052108%\" y=\"40\" height=\"18\" overflow=\"visible\" width=\"30\">    <path d=\"M 0 -9 l 6 18 L 0 25\" fill=\"none\" style=\"stroke:rgb(255, 195, 213);stroke-width:2\" />  </svg></g><rect x=\"68.29575501596273%\" y=\"40\" height=\"20\" width=\"15.975918036145274%\"      onmouseover=\"document.getElementById('_tp_hasqwdpydqvsxogrrvgs_ind_5').style.textDecoration = 'underline';document.getElementById('_fs_hasqwdpydqvsxogrrvgs_ind_5').style.opacity = 1;document.getElementById('_fb_hasqwdpydqvsxogrrvgs_ind_5').style.opacity = 1;\"      onmouseout=\"document.getElementById('_tp_hasqwdpydqvsxogrrvgs_ind_5').style.textDecoration = 'none';document.getElementById('_fs_hasqwdpydqvsxogrrvgs_ind_5').style.opacity = 0;document.getElementById('_fb_hasqwdpydqvsxogrrvgs_ind_5').style.opacity = 0;\" style=\"fill:rgb(0,0,0,0)\" /><g transform=\"translate(-1.5,0)\">  <svg x=\"68.29575501596273%\" y=\"40\" height=\"18\" overflow=\"visible\" width=\"30\">    <path d=\"M 0 -9 l 6 18 L 0 25\" fill=\"none\" style=\"stroke:rgb(255, 195, 213);stroke-width:2\" />  </svg></g><rect x=\"53.95343014928907%\" y=\"40\" height=\"20\" width=\"14.342324866673657%\"      onmouseover=\"document.getElementById('_tp_hasqwdpydqvsxogrrvgs_ind_8').style.textDecoration = 'underline';document.getElementById('_fs_hasqwdpydqvsxogrrvgs_ind_8').style.opacity = 1;document.getElementById('_fb_hasqwdpydqvsxogrrvgs_ind_8').style.opacity = 1;\"      onmouseout=\"document.getElementById('_tp_hasqwdpydqvsxogrrvgs_ind_8').style.textDecoration = 'none';document.getElementById('_fs_hasqwdpydqvsxogrrvgs_ind_8').style.opacity = 0;document.getElementById('_fb_hasqwdpydqvsxogrrvgs_ind_8').style.opacity = 0;\" style=\"fill:rgb(0,0,0,0)\" /><g transform=\"translate(-1.5,0)\">  <svg x=\"53.95343014928907%\" y=\"40\" height=\"18\" overflow=\"visible\" width=\"30\">    <path d=\"M 0 -9 l 6 18 L 0 25\" fill=\"none\" style=\"stroke:rgb(255, 195, 213);stroke-width:2\" />  </svg></g><rect x=\"46.579902920208774%\" y=\"40\" height=\"20\" width=\"7.373527229080295%\"      onmouseover=\"document.getElementById('_tp_hasqwdpydqvsxogrrvgs_ind_17').style.textDecoration = 'underline';document.getElementById('_fs_hasqwdpydqvsxogrrvgs_ind_17').style.opacity = 1;document.getElementById('_fb_hasqwdpydqvsxogrrvgs_ind_17').style.opacity = 1;\"      onmouseout=\"document.getElementById('_tp_hasqwdpydqvsxogrrvgs_ind_17').style.textDecoration = 'none';document.getElementById('_fs_hasqwdpydqvsxogrrvgs_ind_17').style.opacity = 0;document.getElementById('_fb_hasqwdpydqvsxogrrvgs_ind_17').style.opacity = 0;\" style=\"fill:rgb(0,0,0,0)\" /><g transform=\"translate(-1.5,0)\">  <svg x=\"46.579902920208774%\" y=\"40\" height=\"18\" overflow=\"visible\" width=\"30\">    <path d=\"M 0 -9 l 6 18 L 0 25\" fill=\"none\" style=\"stroke:rgb(255, 195, 213);stroke-width:2\" />  </svg></g><rect x=\"40.59396128102694%\" y=\"40\" height=\"20\" width=\"5.985941639181831%\"      onmouseover=\"document.getElementById('_tp_hasqwdpydqvsxogrrvgs_ind_4').style.textDecoration = 'underline';document.getElementById('_fs_hasqwdpydqvsxogrrvgs_ind_4').style.opacity = 1;document.getElementById('_fb_hasqwdpydqvsxogrrvgs_ind_4').style.opacity = 1;\"      onmouseout=\"document.getElementById('_tp_hasqwdpydqvsxogrrvgs_ind_4').style.textDecoration = 'none';document.getElementById('_fs_hasqwdpydqvsxogrrvgs_ind_4').style.opacity = 0;document.getElementById('_fb_hasqwdpydqvsxogrrvgs_ind_4').style.opacity = 0;\" style=\"fill:rgb(0,0,0,0)\" /><g transform=\"translate(-1.5,0)\">  <svg x=\"40.59396128102694%\" y=\"40\" height=\"18\" overflow=\"visible\" width=\"30\">    <path d=\"M 0 -9 l 6 18 L 0 25\" fill=\"none\" style=\"stroke:rgb(255, 195, 213);stroke-width:2\" />  </svg></g><rect x=\"35.10388584520482%\" y=\"40\" height=\"20\" width=\"5.490075435822121%\"      onmouseover=\"document.getElementById('_tp_hasqwdpydqvsxogrrvgs_ind_7').style.textDecoration = 'underline';document.getElementById('_fs_hasqwdpydqvsxogrrvgs_ind_7').style.opacity = 1;document.getElementById('_fb_hasqwdpydqvsxogrrvgs_ind_7').style.opacity = 1;\"      onmouseout=\"document.getElementById('_tp_hasqwdpydqvsxogrrvgs_ind_7').style.textDecoration = 'none';document.getElementById('_fs_hasqwdpydqvsxogrrvgs_ind_7').style.opacity = 0;document.getElementById('_fb_hasqwdpydqvsxogrrvgs_ind_7').style.opacity = 0;\" style=\"fill:rgb(0,0,0,0)\" /><g transform=\"translate(-1.5,0)\">  <svg x=\"35.10388584520482%\" y=\"40\" height=\"18\" overflow=\"visible\" width=\"30\">    <path d=\"M 0 -9 l 6 18 L 0 25\" fill=\"none\" style=\"stroke:rgb(255, 195, 213);stroke-width:2\" />  </svg></g><rect x=\"30.794480076210107%\" y=\"40\" height=\"20\" width=\"4.309405768994715%\"      onmouseover=\"document.getElementById('_tp_hasqwdpydqvsxogrrvgs_ind_6').style.textDecoration = 'underline';document.getElementById('_fs_hasqwdpydqvsxogrrvgs_ind_6').style.opacity = 1;document.getElementById('_fb_hasqwdpydqvsxogrrvgs_ind_6').style.opacity = 1;\"      onmouseout=\"document.getElementById('_tp_hasqwdpydqvsxogrrvgs_ind_6').style.textDecoration = 'none';document.getElementById('_fs_hasqwdpydqvsxogrrvgs_ind_6').style.opacity = 0;document.getElementById('_fb_hasqwdpydqvsxogrrvgs_ind_6').style.opacity = 0;\" style=\"fill:rgb(0,0,0,0)\" /><g transform=\"translate(-1.5,0)\">  <svg x=\"30.794480076210107%\" y=\"40\" height=\"18\" overflow=\"visible\" width=\"30\">    <path d=\"M 0 -9 l 6 18 L 0 25\" fill=\"none\" style=\"stroke:rgb(255, 195, 213);stroke-width:2\" />  </svg></g><rect x=\"27.541633944912085%\" y=\"40\" height=\"20\" width=\"3.2528461312980212%\"      onmouseover=\"document.getElementById('_tp_hasqwdpydqvsxogrrvgs_ind_1').style.textDecoration = 'underline';document.getElementById('_fs_hasqwdpydqvsxogrrvgs_ind_1').style.opacity = 1;document.getElementById('_fb_hasqwdpydqvsxogrrvgs_ind_1').style.opacity = 1;\"      onmouseout=\"document.getElementById('_tp_hasqwdpydqvsxogrrvgs_ind_1').style.textDecoration = 'none';document.getElementById('_fs_hasqwdpydqvsxogrrvgs_ind_1').style.opacity = 0;document.getElementById('_fb_hasqwdpydqvsxogrrvgs_ind_1').style.opacity = 0;\" style=\"fill:rgb(0,0,0,0)\" /><g transform=\"translate(-1.5,0)\">  <svg x=\"27.541633944912085%\" y=\"40\" height=\"18\" overflow=\"visible\" width=\"30\">    <path d=\"M 0 -9 l 6 18 L 0 25\" fill=\"none\" style=\"stroke:rgb(255, 195, 213);stroke-width:2\" />  </svg></g><rect x=\"24.858414955776485%\" y=\"40\" height=\"20\" width=\"2.6832189891356%\"      onmouseover=\"document.getElementById('_tp_hasqwdpydqvsxogrrvgs_ind_19').style.textDecoration = 'underline';document.getElementById('_fs_hasqwdpydqvsxogrrvgs_ind_19').style.opacity = 1;document.getElementById('_fb_hasqwdpydqvsxogrrvgs_ind_19').style.opacity = 1;\"      onmouseout=\"document.getElementById('_tp_hasqwdpydqvsxogrrvgs_ind_19').style.textDecoration = 'none';document.getElementById('_fs_hasqwdpydqvsxogrrvgs_ind_19').style.opacity = 0;document.getElementById('_fb_hasqwdpydqvsxogrrvgs_ind_19').style.opacity = 0;\" style=\"fill:rgb(0,0,0,0)\" /><g transform=\"translate(-1.5,0)\">  <svg x=\"24.858414955776485%\" y=\"40\" height=\"18\" overflow=\"visible\" width=\"30\">    <path d=\"M 0 -9 l 6 18 L 0 25\" fill=\"none\" style=\"stroke:rgb(255, 195, 213);stroke-width:2\" />  </svg></g><rect x=\"22.287039928188094%\" y=\"40\" height=\"20\" width=\"2.5713750275883918%\"      onmouseover=\"document.getElementById('_tp_hasqwdpydqvsxogrrvgs_ind_23').style.textDecoration = 'underline';document.getElementById('_fs_hasqwdpydqvsxogrrvgs_ind_23').style.opacity = 1;document.getElementById('_fb_hasqwdpydqvsxogrrvgs_ind_23').style.opacity = 1;\"      onmouseout=\"document.getElementById('_tp_hasqwdpydqvsxogrrvgs_ind_23').style.textDecoration = 'none';document.getElementById('_fs_hasqwdpydqvsxogrrvgs_ind_23').style.opacity = 0;document.getElementById('_fb_hasqwdpydqvsxogrrvgs_ind_23').style.opacity = 0;\" style=\"fill:rgb(0,0,0,0)\" /><g transform=\"translate(-1.5,0)\">  <svg x=\"22.287039928188094%\" y=\"40\" height=\"18\" overflow=\"visible\" width=\"30\">    <path d=\"M 0 -9 l 6 18 L 0 25\" fill=\"none\" style=\"stroke:rgb(255, 195, 213);stroke-width:2\" />  </svg></g><rect x=\"19.85369025846433%\" y=\"40\" height=\"20\" width=\"2.433349669723764%\"      onmouseover=\"document.getElementById('_tp_hasqwdpydqvsxogrrvgs_ind_12').style.textDecoration = 'underline';document.getElementById('_fs_hasqwdpydqvsxogrrvgs_ind_12').style.opacity = 1;document.getElementById('_fb_hasqwdpydqvsxogrrvgs_ind_12').style.opacity = 1;\"      onmouseout=\"document.getElementById('_tp_hasqwdpydqvsxogrrvgs_ind_12').style.textDecoration = 'none';document.getElementById('_fs_hasqwdpydqvsxogrrvgs_ind_12').style.opacity = 0;document.getElementById('_fb_hasqwdpydqvsxogrrvgs_ind_12').style.opacity = 0;\" style=\"fill:rgb(0,0,0,0)\" /><g transform=\"translate(-1.5,0)\">  <svg x=\"19.85369025846433%\" y=\"40\" height=\"18\" overflow=\"visible\" width=\"30\">    <path d=\"M 0 -9 l 6 18 L 0 25\" fill=\"none\" style=\"stroke:rgb(255, 195, 213);stroke-width:2\" />  </svg></g><rect x=\"18.094135905441345%\" y=\"40\" height=\"20\" width=\"1.7595543530229847%\"      onmouseover=\"document.getElementById('_tp_hasqwdpydqvsxogrrvgs_ind_11').style.textDecoration = 'underline';document.getElementById('_fs_hasqwdpydqvsxogrrvgs_ind_11').style.opacity = 1;document.getElementById('_fb_hasqwdpydqvsxogrrvgs_ind_11').style.opacity = 1;\"      onmouseout=\"document.getElementById('_tp_hasqwdpydqvsxogrrvgs_ind_11').style.textDecoration = 'none';document.getElementById('_fs_hasqwdpydqvsxogrrvgs_ind_11').style.opacity = 0;document.getElementById('_fb_hasqwdpydqvsxogrrvgs_ind_11').style.opacity = 0;\" style=\"fill:rgb(0,0,0,0)\" /><g transform=\"translate(-1.5,0)\">  <svg x=\"18.094135905441345%\" y=\"40\" height=\"18\" overflow=\"visible\" width=\"30\">    <path d=\"M 0 -9 l 6 18 L 0 25\" fill=\"none\" style=\"stroke:rgb(255, 195, 213);stroke-width:2\" />  </svg></g><rect x=\"16.798226704241813%\" y=\"40\" height=\"20\" width=\"1.2959092011995317%\"      onmouseover=\"document.getElementById('_tp_hasqwdpydqvsxogrrvgs_ind_21').style.textDecoration = 'underline';document.getElementById('_fs_hasqwdpydqvsxogrrvgs_ind_21').style.opacity = 1;document.getElementById('_fb_hasqwdpydqvsxogrrvgs_ind_21').style.opacity = 1;\"      onmouseout=\"document.getElementById('_tp_hasqwdpydqvsxogrrvgs_ind_21').style.textDecoration = 'none';document.getElementById('_fs_hasqwdpydqvsxogrrvgs_ind_21').style.opacity = 0;document.getElementById('_fb_hasqwdpydqvsxogrrvgs_ind_21').style.opacity = 0;\" style=\"fill:rgb(0,0,0,0)\" /><g transform=\"translate(-1.5,0)\">  <svg x=\"16.798226704241813%\" y=\"40\" height=\"18\" overflow=\"visible\" width=\"30\">    <path d=\"M 0 -9 l 6 18 L 0 25\" fill=\"none\" style=\"stroke:rgb(255, 195, 213);stroke-width:2\" />  </svg></g><rect x=\"15.708045101581073%\" y=\"40\" height=\"20\" width=\"1.0901816026607403%\"      onmouseover=\"document.getElementById('_tp_hasqwdpydqvsxogrrvgs_ind_16').style.textDecoration = 'underline';document.getElementById('_fs_hasqwdpydqvsxogrrvgs_ind_16').style.opacity = 1;document.getElementById('_fb_hasqwdpydqvsxogrrvgs_ind_16').style.opacity = 1;\"      onmouseout=\"document.getElementById('_tp_hasqwdpydqvsxogrrvgs_ind_16').style.textDecoration = 'none';document.getElementById('_fs_hasqwdpydqvsxogrrvgs_ind_16').style.opacity = 0;document.getElementById('_fb_hasqwdpydqvsxogrrvgs_ind_16').style.opacity = 0;\" style=\"fill:rgb(0,0,0,0)\" /><g transform=\"translate(-1.5,0)\">  <svg x=\"15.708045101581073%\" y=\"40\" height=\"18\" overflow=\"visible\" width=\"30\">    <path d=\"M 0 -9 l 6 18 L 0 25\" fill=\"none\" style=\"stroke:rgb(255, 195, 213);stroke-width:2\" />  </svg></g><rect x=\"14.972126561686574%\" y=\"40\" height=\"20\" width=\"0.7359185398944987%\"      onmouseover=\"document.getElementById('_tp_hasqwdpydqvsxogrrvgs_ind_10').style.textDecoration = 'underline';document.getElementById('_fs_hasqwdpydqvsxogrrvgs_ind_10').style.opacity = 1;document.getElementById('_fb_hasqwdpydqvsxogrrvgs_ind_10').style.opacity = 1;\"      onmouseout=\"document.getElementById('_tp_hasqwdpydqvsxogrrvgs_ind_10').style.textDecoration = 'none';document.getElementById('_fs_hasqwdpydqvsxogrrvgs_ind_10').style.opacity = 0;document.getElementById('_fb_hasqwdpydqvsxogrrvgs_ind_10').style.opacity = 0;\" style=\"fill:rgb(0,0,0,0)\" /><g transform=\"translate(-1.5,0)\">  <svg x=\"14.972126561686574%\" y=\"40\" height=\"18\" overflow=\"visible\" width=\"30\">    <path d=\"M 0 -9 l 6 18 L 0 25\" fill=\"none\" style=\"stroke:rgb(255, 195, 213);stroke-width:2\" />  </svg></g><rect x=\"14.613812781686285%\" y=\"40\" height=\"20\" width=\"0.35831378000028913%\"      onmouseover=\"document.getElementById('_tp_hasqwdpydqvsxogrrvgs_ind_14').style.textDecoration = 'underline';document.getElementById('_fs_hasqwdpydqvsxogrrvgs_ind_14').style.opacity = 1;document.getElementById('_fb_hasqwdpydqvsxogrrvgs_ind_14').style.opacity = 1;\"      onmouseout=\"document.getElementById('_tp_hasqwdpydqvsxogrrvgs_ind_14').style.textDecoration = 'none';document.getElementById('_fs_hasqwdpydqvsxogrrvgs_ind_14').style.opacity = 0;document.getElementById('_fb_hasqwdpydqvsxogrrvgs_ind_14').style.opacity = 0;\" style=\"fill:rgb(0,0,0,0)\" /><g transform=\"translate(-1.5,0)\">  <svg x=\"14.613812781686285%\" y=\"40\" height=\"18\" overflow=\"visible\" width=\"30\">    <path d=\"M 0 -9 l 6 18 L 0 25\" fill=\"none\" style=\"stroke:rgb(255, 195, 213);stroke-width:2\" />  </svg></g><rect x=\"14.458158001844943%\" y=\"40\" height=\"20\" width=\"0.1556547798413419%\"      onmouseover=\"document.getElementById('_tp_hasqwdpydqvsxogrrvgs_ind_22').style.textDecoration = 'underline';document.getElementById('_fs_hasqwdpydqvsxogrrvgs_ind_22').style.opacity = 1;document.getElementById('_fb_hasqwdpydqvsxogrrvgs_ind_22').style.opacity = 1;\"      onmouseout=\"document.getElementById('_tp_hasqwdpydqvsxogrrvgs_ind_22').style.textDecoration = 'none';document.getElementById('_fs_hasqwdpydqvsxogrrvgs_ind_22').style.opacity = 0;document.getElementById('_fb_hasqwdpydqvsxogrrvgs_ind_22').style.opacity = 0;\" style=\"fill:rgb(0,0,0,0)\" /><g transform=\"translate(-1.5,0)\">  <svg x=\"14.458158001844943%\" y=\"40\" height=\"18\" overflow=\"visible\" width=\"30\">    <path d=\"M 0 -9 l 6 18 L 0 25\" fill=\"none\" style=\"stroke:rgb(255, 195, 213);stroke-width:2\" />  </svg></g><rect x=\"14.32017931191822%\" y=\"40\" height=\"20\" width=\"0.13797868992672235%\"      onmouseover=\"document.getElementById('_tp_hasqwdpydqvsxogrrvgs_ind_20').style.textDecoration = 'underline';document.getElementById('_fs_hasqwdpydqvsxogrrvgs_ind_20').style.opacity = 1;document.getElementById('_fb_hasqwdpydqvsxogrrvgs_ind_20').style.opacity = 1;\"      onmouseout=\"document.getElementById('_tp_hasqwdpydqvsxogrrvgs_ind_20').style.textDecoration = 'none';document.getElementById('_fs_hasqwdpydqvsxogrrvgs_ind_20').style.opacity = 0;document.getElementById('_fb_hasqwdpydqvsxogrrvgs_ind_20').style.opacity = 0;\" style=\"fill:rgb(0,0,0,0)\" /><rect x=\"14.319808359452985%\" y=\"40\" height=\"20\" width=\"0.0003709524652357743%\"      onmouseover=\"document.getElementById('_tp_hasqwdpydqvsxogrrvgs_ind_0').style.textDecoration = 'underline';document.getElementById('_fs_hasqwdpydqvsxogrrvgs_ind_0').style.opacity = 1;document.getElementById('_fb_hasqwdpydqvsxogrrvgs_ind_0').style.opacity = 1;\"      onmouseout=\"document.getElementById('_tp_hasqwdpydqvsxogrrvgs_ind_0').style.textDecoration = 'none';document.getElementById('_fs_hasqwdpydqvsxogrrvgs_ind_0').style.opacity = 0;document.getElementById('_fb_hasqwdpydqvsxogrrvgs_ind_0').style.opacity = 0;\" style=\"fill:rgb(0,0,0,0)\" /><rect x=\"84.271673052108%\" width=\"7.939217783375558%\" y=\"40\" height=\"18\" style=\"fill:rgb(0.0, 138.56128015770724, 250.76166088685727); stroke-width:0; stroke:rgb(0,0,0)\" /><line x1=\"84.271673052108%\" x2=\"87.28135830534784%\" y1=\"60\" y2=\"60\" id=\"_fb_hasqwdpydqvsxogrrvgs_ind_18\" style=\"stroke:rgb(0.0, 138.56128015770724, 250.76166088685727);stroke-width:2; opacity: 0\"/><text x=\"85.77651567872792%\" y=\"71\" font-size=\"12px\" fill=\"rgb(0.0, 138.56128015770724, 250.76166088685727)\" id=\"_fs_hasqwdpydqvsxogrrvgs_ind_18\" style=\"opacity: 0\" dominant-baseline=\"middle\" text-anchor=\"middle\">-0.033</text><svg x=\"84.271673052108%\" y=\"40\" height=\"20\" width=\"3.0096852532398373%\">  <svg x=\"0\" y=\"0\" width=\"100%\" height=\"100%\">    <text x=\"50%\" y=\"9\" font-size=\"12px\" fill=\"rgb(255,255,255)\" dominant-baseline=\"middle\" text-anchor=\"middle\">LES</text>  </svg></svg><line x1=\"87.28135830534784%\" x2=\"89.6125656074699%\" y1=\"60\" y2=\"60\" id=\"_fb_hasqwdpydqvsxogrrvgs_ind_15\" style=\"stroke:rgb(0.0, 138.56128015770724, 250.76166088685727);stroke-width:2; opacity: 0\"/><text x=\"88.44696195640887%\" y=\"71\" font-size=\"12px\" fill=\"rgb(0.0, 138.56128015770724, 250.76166088685727)\" id=\"_fs_hasqwdpydqvsxogrrvgs_ind_15\" style=\"opacity: 0\" dominant-baseline=\"middle\" text-anchor=\"middle\">-0.025</text><svg x=\"87.28135830534784%\" y=\"40\" height=\"20\" width=\"2.331207302122067%\">  <svg x=\"0\" y=\"0\" width=\"100%\" height=\"100%\">    <text x=\"50%\" y=\"9\" font-size=\"12px\" fill=\"rgb(255,255,255)\" dominant-baseline=\"middle\" text-anchor=\"middle\">WITH</text>  </svg></svg><line x1=\"89.6125656074699%\" x2=\"90.52368818189964%\" y1=\"60\" y2=\"60\" id=\"_fb_hasqwdpydqvsxogrrvgs_ind_13\" style=\"stroke:rgb(0.0, 138.56128015770724, 250.76166088685727);stroke-width:2; opacity: 0\"/><text x=\"90.06812689468478%\" y=\"71\" font-size=\"12px\" fill=\"rgb(0.0, 138.56128015770724, 250.76166088685727)\" id=\"_fs_hasqwdpydqvsxogrrvgs_ind_13\" style=\"opacity: 0\" dominant-baseline=\"middle\" text-anchor=\"middle\">-0.01</text><svg x=\"89.6125656074699%\" y=\"40\" height=\"20\" width=\"0.91112257442974%\">  <svg x=\"0\" y=\"0\" width=\"100%\" height=\"100%\">    <text x=\"50%\" y=\"9\" font-size=\"12px\" fill=\"rgb(255,255,255)\" dominant-baseline=\"middle\" text-anchor=\"middle\">SEE</text>  </svg></svg><line x1=\"90.52368818189964%\" x2=\"91.1822177884648%\" y1=\"60\" y2=\"60\" id=\"_fb_hasqwdpydqvsxogrrvgs_ind_2\" style=\"stroke:rgb(0.0, 138.56128015770724, 250.76166088685727);stroke-width:2; opacity: 0\"/><text x=\"90.85295298518221%\" y=\"71\" font-size=\"12px\" fill=\"rgb(0.0, 138.56128015770724, 250.76166088685727)\" id=\"_fs_hasqwdpydqvsxogrrvgs_ind_2\" style=\"opacity: 0\" dominant-baseline=\"middle\" text-anchor=\"middle\">-0.007</text><svg x=\"90.52368818189964%\" y=\"40\" height=\"20\" width=\"0.6585296065651534%\">  <svg x=\"0\" y=\"0\" width=\"100%\" height=\"100%\">    <text x=\"50%\" y=\"9\" font-size=\"12px\" fill=\"rgb(255,255,255)\" dominant-baseline=\"middle\" text-anchor=\"middle\">BET</text>  </svg></svg><line x1=\"91.1822177884648%\" x2=\"91.7651002474818%\" y1=\"60\" y2=\"60\" id=\"_fb_hasqwdpydqvsxogrrvgs_ind_9\" style=\"stroke:rgb(0.0, 138.56128015770724, 250.76166088685727);stroke-width:2; opacity: 0\"/><text x=\"91.47365901797329%\" y=\"71\" font-size=\"12px\" fill=\"rgb(0.0, 138.56128015770724, 250.76166088685727)\" id=\"_fs_hasqwdpydqvsxogrrvgs_ind_9\" style=\"opacity: 0\" dominant-baseline=\"middle\" text-anchor=\"middle\">-0.006</text><svg x=\"91.1822177884648%\" y=\"40\" height=\"20\" width=\"0.5828824590170001%\">  <svg x=\"0\" y=\"0\" width=\"100%\" height=\"100%\">    <text x=\"50%\" y=\"9\" font-size=\"12px\" fill=\"rgb(255,255,255)\" dominant-baseline=\"middle\" text-anchor=\"middle\">KO</text>  </svg></svg><line x1=\"91.7651002474818%\" x2=\"92.01845992729599%\" y1=\"60\" y2=\"60\" id=\"_fb_hasqwdpydqvsxogrrvgs_ind_24\" style=\"stroke:rgb(0.0, 138.56128015770724, 250.76166088685727);stroke-width:2; opacity: 0\"/><text x=\"91.8917800873889%\" y=\"71\" font-size=\"12px\" fill=\"rgb(0.0, 138.56128015770724, 250.76166088685727)\" id=\"_fs_hasqwdpydqvsxogrrvgs_ind_24\" style=\"opacity: 0\" dominant-baseline=\"middle\" text-anchor=\"middle\">-0.003</text><svg x=\"91.7651002474818%\" y=\"40\" height=\"20\" width=\"0.2533596798141957%\">  <svg x=\"0\" y=\"0\" width=\"100%\" height=\"100%\">    <text x=\"50%\" y=\"9\" font-size=\"12px\" fill=\"rgb(255,255,255)\" dominant-baseline=\"middle\" text-anchor=\"middle\">AL</text>  </svg></svg><line x1=\"92.01845992729599%\" x2=\"92.21089083548357%\" y1=\"60\" y2=\"60\" id=\"_fb_hasqwdpydqvsxogrrvgs_ind_3\" style=\"stroke:rgb(0.0, 138.56128015770724, 250.76166088685727);stroke-width:2; opacity: 0\"/><text x=\"92.11467538138979%\" y=\"71\" font-size=\"12px\" fill=\"rgb(0.0, 138.56128015770724, 250.76166088685727)\" id=\"_fs_hasqwdpydqvsxogrrvgs_ind_3\" style=\"opacity: 0\" dominant-baseline=\"middle\" text-anchor=\"middle\">-0.002</text><svg x=\"92.01845992729599%\" y=\"40\" height=\"20\" width=\"0.1924309081875748%\">  <svg x=\"0\" y=\"0\" width=\"100%\" height=\"100%\">    <text x=\"50%\" y=\"9\" font-size=\"12px\" fill=\"rgb(255,255,255)\" dominant-baseline=\"middle\" text-anchor=\"middle\">TER</text>  </svg></svg><g transform=\"translate(-8,0)\">  <svg x=\"87.28135830534784%\" y=\"40\" height=\"18\" overflow=\"visible\" width=\"30\">    <path d=\"M 8 -9 l -6 18 L 8 25\" fill=\"none\" style=\"stroke:rgb(0.0, 138.56128015770724, 250.76166088685727);stroke-width:2\" />  </svg></g><g transform=\"translate(-10,0)\">  <svg x=\"87.28135830534784%\" y=\"40\" height=\"18\" overflow=\"visible\" width=\"30\">    <path d=\"M 8 -9 l -6 18 L 8 25\" fill=\"none\" style=\"stroke:rgb(0.0, 138.56128015770724, 250.76166088685727);stroke-width:2\" />  </svg></g><g transform=\"translate(-12,0)\">  <svg x=\"87.28135830534784%\" y=\"40\" height=\"18\" overflow=\"visible\" width=\"30\">    <path d=\"M 8 -9 l -6 18 L 8 25\" fill=\"none\" style=\"stroke:rgb(0.0, 138.56128015770724, 250.76166088685727);stroke-width:2\" />  </svg></g><g transform=\"translate(-14,0)\">  <svg x=\"87.28135830534784%\" y=\"40\" height=\"18\" overflow=\"visible\" width=\"30\">    <path d=\"M 8 -9 l -6 18 L 8 25\" fill=\"none\" style=\"stroke:rgb(0.0, 138.56128015770724, 250.76166088685727);stroke-width:2\" />  </svg></g><g transform=\"translate(2,0)\">  <svg x=\"87.28135830534784%\" y=\"40\" height=\"18\" overflow=\"visible\" width=\"30\">    <path d=\"M 8 -9 l -6 18 L 8 25\" fill=\"none\" style=\"stroke:rgb(0.0, 138.56128015770724, 250.76166088685727);stroke-width:2\" />  </svg></g><g transform=\"translate(0,0)\">  <svg x=\"87.28135830534784%\" y=\"40\" height=\"18\" overflow=\"visible\" width=\"30\">    <path d=\"M 8 -9 l -6 18 L 8 25\" fill=\"none\" style=\"stroke:rgb(0.0, 138.56128015770724, 250.76166088685727);stroke-width:2\" />  </svg></g><g transform=\"translate(-2,0)\">  <svg x=\"87.28135830534784%\" y=\"40\" height=\"18\" overflow=\"visible\" width=\"30\">    <path d=\"M 8 -9 l -6 18 L 8 25\" fill=\"none\" style=\"stroke:rgb(0.0, 138.56128015770724, 250.76166088685727);stroke-width:2\" />  </svg></g><g transform=\"translate(-4,0)\">  <svg x=\"87.28135830534784%\" y=\"40\" height=\"18\" overflow=\"visible\" width=\"30\">    <path d=\"M 8 -9 l -6 18 L 8 25\" fill=\"none\" style=\"stroke:rgb(0.0, 138.56128015770724, 250.76166088685727);stroke-width:2\" />  </svg></g><g transform=\"translate(-8,0)\">  <svg x=\"89.6125656074699%\" y=\"40\" height=\"18\" overflow=\"visible\" width=\"30\">    <path d=\"M 8 -9 l -6 18 L 8 25\" fill=\"none\" style=\"stroke:rgb(0.0, 138.56128015770724, 250.76166088685727);stroke-width:2\" />  </svg></g><g transform=\"translate(-10,0)\">  <svg x=\"89.6125656074699%\" y=\"40\" height=\"18\" overflow=\"visible\" width=\"30\">    <path d=\"M 8 -9 l -6 18 L 8 25\" fill=\"none\" style=\"stroke:rgb(0.0, 138.56128015770724, 250.76166088685727);stroke-width:2\" />  </svg></g><g transform=\"translate(-12,0)\">  <svg x=\"89.6125656074699%\" y=\"40\" height=\"18\" overflow=\"visible\" width=\"30\">    <path d=\"M 8 -9 l -6 18 L 8 25\" fill=\"none\" style=\"stroke:rgb(0.0, 138.56128015770724, 250.76166088685727);stroke-width:2\" />  </svg></g><g transform=\"translate(-14,0)\">  <svg x=\"89.6125656074699%\" y=\"40\" height=\"18\" overflow=\"visible\" width=\"30\">    <path d=\"M 8 -9 l -6 18 L 8 25\" fill=\"none\" style=\"stroke:rgb(0.0, 138.56128015770724, 250.76166088685727);stroke-width:2\" />  </svg></g><g transform=\"translate(2,0)\">  <svg x=\"89.6125656074699%\" y=\"40\" height=\"18\" overflow=\"visible\" width=\"30\">    <path d=\"M 8 -9 l -6 18 L 8 25\" fill=\"none\" style=\"stroke:rgb(0.0, 138.56128015770724, 250.76166088685727);stroke-width:2\" />  </svg></g><g transform=\"translate(0,0)\">  <svg x=\"89.6125656074699%\" y=\"40\" height=\"18\" overflow=\"visible\" width=\"30\">    <path d=\"M 8 -9 l -6 18 L 8 25\" fill=\"none\" style=\"stroke:rgb(0.0, 138.56128015770724, 250.76166088685727);stroke-width:2\" />  </svg></g><g transform=\"translate(-2,0)\">  <svg x=\"89.6125656074699%\" y=\"40\" height=\"18\" overflow=\"visible\" width=\"30\">    <path d=\"M 8 -9 l -6 18 L 8 25\" fill=\"none\" style=\"stroke:rgb(0.0, 138.56128015770724, 250.76166088685727);stroke-width:2\" />  </svg></g><g transform=\"translate(-4,0)\">  <svg x=\"89.6125656074699%\" y=\"40\" height=\"18\" overflow=\"visible\" width=\"30\">    <path d=\"M 8 -9 l -6 18 L 8 25\" fill=\"none\" style=\"stroke:rgb(0.0, 138.56128015770724, 250.76166088685727);stroke-width:2\" />  </svg></g><g transform=\"translate(-8,0)\">  <svg x=\"90.52368818189964%\" y=\"40\" height=\"18\" overflow=\"visible\" width=\"30\">    <path d=\"M 8 -9 l -6 18 L 8 25\" fill=\"none\" style=\"stroke:rgb(0.0, 138.56128015770724, 250.76166088685727);stroke-width:2\" />  </svg></g><g transform=\"translate(-10,0)\">  <svg x=\"90.52368818189964%\" y=\"40\" height=\"18\" overflow=\"visible\" width=\"30\">    <path d=\"M 8 -9 l -6 18 L 8 25\" fill=\"none\" style=\"stroke:rgb(0.0, 138.56128015770724, 250.76166088685727);stroke-width:2\" />  </svg></g><g transform=\"translate(-12,0)\">  <svg x=\"90.52368818189964%\" y=\"40\" height=\"18\" overflow=\"visible\" width=\"30\">    <path d=\"M 8 -9 l -6 18 L 8 25\" fill=\"none\" style=\"stroke:rgb(0.0, 138.56128015770724, 250.76166088685727);stroke-width:2\" />  </svg></g><g transform=\"translate(-14,0)\">  <svg x=\"90.52368818189964%\" y=\"40\" height=\"18\" overflow=\"visible\" width=\"30\">    <path d=\"M 8 -9 l -6 18 L 8 25\" fill=\"none\" style=\"stroke:rgb(0.0, 138.56128015770724, 250.76166088685727);stroke-width:2\" />  </svg></g><g transform=\"translate(2,0)\">  <svg x=\"90.52368818189964%\" y=\"40\" height=\"18\" overflow=\"visible\" width=\"30\">    <path d=\"M 8 -9 l -6 18 L 8 25\" fill=\"none\" style=\"stroke:rgb(0.0, 138.56128015770724, 250.76166088685727);stroke-width:2\" />  </svg></g><g transform=\"translate(0,0)\">  <svg x=\"90.52368818189964%\" y=\"40\" height=\"18\" overflow=\"visible\" width=\"30\">    <path d=\"M 8 -9 l -6 18 L 8 25\" fill=\"none\" style=\"stroke:rgb(0.0, 138.56128015770724, 250.76166088685727);stroke-width:2\" />  </svg></g><g transform=\"translate(-2,0)\">  <svg x=\"90.52368818189964%\" y=\"40\" height=\"18\" overflow=\"visible\" width=\"30\">    <path d=\"M 8 -9 l -6 18 L 8 25\" fill=\"none\" style=\"stroke:rgb(0.0, 138.56128015770724, 250.76166088685727);stroke-width:2\" />  </svg></g><g transform=\"translate(-4,0)\">  <svg x=\"90.52368818189964%\" y=\"40\" height=\"18\" overflow=\"visible\" width=\"30\">    <path d=\"M 8 -9 l -6 18 L 8 25\" fill=\"none\" style=\"stroke:rgb(0.0, 138.56128015770724, 250.76166088685727);stroke-width:2\" />  </svg></g><g transform=\"translate(-8,0)\">  <svg x=\"91.1822177884648%\" y=\"40\" height=\"18\" overflow=\"visible\" width=\"30\">    <path d=\"M 8 -9 l -6 18 L 8 25\" fill=\"none\" style=\"stroke:rgb(0.0, 138.56128015770724, 250.76166088685727);stroke-width:2\" />  </svg></g><g transform=\"translate(-10,0)\">  <svg x=\"91.1822177884648%\" y=\"40\" height=\"18\" overflow=\"visible\" width=\"30\">    <path d=\"M 8 -9 l -6 18 L 8 25\" fill=\"none\" style=\"stroke:rgb(0.0, 138.56128015770724, 250.76166088685727);stroke-width:2\" />  </svg></g><g transform=\"translate(-12,0)\">  <svg x=\"91.1822177884648%\" y=\"40\" height=\"18\" overflow=\"visible\" width=\"30\">    <path d=\"M 8 -9 l -6 18 L 8 25\" fill=\"none\" style=\"stroke:rgb(0.0, 138.56128015770724, 250.76166088685727);stroke-width:2\" />  </svg></g><g transform=\"translate(-14,0)\">  <svg x=\"91.1822177884648%\" y=\"40\" height=\"18\" overflow=\"visible\" width=\"30\">    <path d=\"M 8 -9 l -6 18 L 8 25\" fill=\"none\" style=\"stroke:rgb(0.0, 138.56128015770724, 250.76166088685727);stroke-width:2\" />  </svg></g><g transform=\"translate(2,0)\">  <svg x=\"91.1822177884648%\" y=\"40\" height=\"18\" overflow=\"visible\" width=\"30\">    <path d=\"M 8 -9 l -6 18 L 8 25\" fill=\"none\" style=\"stroke:rgb(0.0, 138.56128015770724, 250.76166088685727);stroke-width:2\" />  </svg></g><g transform=\"translate(0,0)\">  <svg x=\"91.1822177884648%\" y=\"40\" height=\"18\" overflow=\"visible\" width=\"30\">    <path d=\"M 8 -9 l -6 18 L 8 25\" fill=\"none\" style=\"stroke:rgb(0.0, 138.56128015770724, 250.76166088685727);stroke-width:2\" />  </svg></g><g transform=\"translate(-2,0)\">  <svg x=\"91.1822177884648%\" y=\"40\" height=\"18\" overflow=\"visible\" width=\"30\">    <path d=\"M 8 -9 l -6 18 L 8 25\" fill=\"none\" style=\"stroke:rgb(0.0, 138.56128015770724, 250.76166088685727);stroke-width:2\" />  </svg></g><g transform=\"translate(-4,0)\">  <svg x=\"91.1822177884648%\" y=\"40\" height=\"18\" overflow=\"visible\" width=\"30\">    <path d=\"M 8 -9 l -6 18 L 8 25\" fill=\"none\" style=\"stroke:rgb(0.0, 138.56128015770724, 250.76166088685727);stroke-width:2\" />  </svg></g><g transform=\"translate(-8,0)\">  <svg x=\"91.7651002474818%\" y=\"40\" height=\"18\" overflow=\"visible\" width=\"30\">    <path d=\"M 8 -9 l -6 18 L 8 25\" fill=\"none\" style=\"stroke:rgb(0.0, 138.56128015770724, 250.76166088685727);stroke-width:2\" />  </svg></g><g transform=\"translate(-10,0)\">  <svg x=\"91.7651002474818%\" y=\"40\" height=\"18\" overflow=\"visible\" width=\"30\">    <path d=\"M 8 -9 l -6 18 L 8 25\" fill=\"none\" style=\"stroke:rgb(0.0, 138.56128015770724, 250.76166088685727);stroke-width:2\" />  </svg></g><g transform=\"translate(-12,0)\">  <svg x=\"91.7651002474818%\" y=\"40\" height=\"18\" overflow=\"visible\" width=\"30\">    <path d=\"M 8 -9 l -6 18 L 8 25\" fill=\"none\" style=\"stroke:rgb(0.0, 138.56128015770724, 250.76166088685727);stroke-width:2\" />  </svg></g><g transform=\"translate(-14,0)\">  <svg x=\"91.7651002474818%\" y=\"40\" height=\"18\" overflow=\"visible\" width=\"30\">    <path d=\"M 8 -9 l -6 18 L 8 25\" fill=\"none\" style=\"stroke:rgb(0.0, 138.56128015770724, 250.76166088685727);stroke-width:2\" />  </svg></g><g transform=\"translate(2,0)\">  <svg x=\"91.7651002474818%\" y=\"40\" height=\"18\" overflow=\"visible\" width=\"30\">    <path d=\"M 8 -9 l -6 18 L 8 25\" fill=\"none\" style=\"stroke:rgb(0.0, 138.56128015770724, 250.76166088685727);stroke-width:2\" />  </svg></g><g transform=\"translate(0,0)\">  <svg x=\"91.7651002474818%\" y=\"40\" height=\"18\" overflow=\"visible\" width=\"30\">    <path d=\"M 8 -9 l -6 18 L 8 25\" fill=\"none\" style=\"stroke:rgb(0.0, 138.56128015770724, 250.76166088685727);stroke-width:2\" />  </svg></g><g transform=\"translate(-2,0)\">  <svg x=\"91.7651002474818%\" y=\"40\" height=\"18\" overflow=\"visible\" width=\"30\">    <path d=\"M 8 -9 l -6 18 L 8 25\" fill=\"none\" style=\"stroke:rgb(0.0, 138.56128015770724, 250.76166088685727);stroke-width:2\" />  </svg></g><g transform=\"translate(-4,0)\">  <svg x=\"91.7651002474818%\" y=\"40\" height=\"18\" overflow=\"visible\" width=\"30\">    <path d=\"M 8 -9 l -6 18 L 8 25\" fill=\"none\" style=\"stroke:rgb(0.0, 138.56128015770724, 250.76166088685727);stroke-width:2\" />  </svg></g><g transform=\"translate(-8,0)\">  <svg x=\"92.01845992729599%\" y=\"40\" height=\"18\" overflow=\"visible\" width=\"30\">    <path d=\"M 8 -9 l -6 18 L 8 25\" fill=\"none\" style=\"stroke:rgb(0.0, 138.56128015770724, 250.76166088685727);stroke-width:2\" />  </svg></g><g transform=\"translate(-10,0)\">  <svg x=\"92.01845992729599%\" y=\"40\" height=\"18\" overflow=\"visible\" width=\"30\">    <path d=\"M 8 -9 l -6 18 L 8 25\" fill=\"none\" style=\"stroke:rgb(0.0, 138.56128015770724, 250.76166088685727);stroke-width:2\" />  </svg></g><g transform=\"translate(-12,0)\">  <svg x=\"92.01845992729599%\" y=\"40\" height=\"18\" overflow=\"visible\" width=\"30\">    <path d=\"M 8 -9 l -6 18 L 8 25\" fill=\"none\" style=\"stroke:rgb(0.0, 138.56128015770724, 250.76166088685727);stroke-width:2\" />  </svg></g><g transform=\"translate(-14,0)\">  <svg x=\"92.01845992729599%\" y=\"40\" height=\"18\" overflow=\"visible\" width=\"30\">    <path d=\"M 8 -9 l -6 18 L 8 25\" fill=\"none\" style=\"stroke:rgb(0.0, 138.56128015770724, 250.76166088685727);stroke-width:2\" />  </svg></g><g transform=\"translate(2,0)\">  <svg x=\"92.01845992729599%\" y=\"40\" height=\"18\" overflow=\"visible\" width=\"30\">    <path d=\"M 8 -9 l -6 18 L 8 25\" fill=\"none\" style=\"stroke:rgb(0.0, 138.56128015770724, 250.76166088685727);stroke-width:2\" />  </svg></g><g transform=\"translate(0,0)\">  <svg x=\"92.01845992729599%\" y=\"40\" height=\"18\" overflow=\"visible\" width=\"30\">    <path d=\"M 8 -9 l -6 18 L 8 25\" fill=\"none\" style=\"stroke:rgb(0.0, 138.56128015770724, 250.76166088685727);stroke-width:2\" />  </svg></g><g transform=\"translate(-2,0)\">  <svg x=\"92.01845992729599%\" y=\"40\" height=\"18\" overflow=\"visible\" width=\"30\">    <path d=\"M 8 -9 l -6 18 L 8 25\" fill=\"none\" style=\"stroke:rgb(0.0, 138.56128015770724, 250.76166088685727);stroke-width:2\" />  </svg></g><g transform=\"translate(-4,0)\">  <svg x=\"92.01845992729599%\" y=\"40\" height=\"18\" overflow=\"visible\" width=\"30\">    <path d=\"M 8 -9 l -6 18 L 8 25\" fill=\"none\" style=\"stroke:rgb(0.0, 138.56128015770724, 250.76166088685727);stroke-width:2\" />  </svg></g><rect transform=\"translate(0,0)\" x=\"84.271673052108%\" y=\"40\" width=\"8\" height=\"18\" style=\"fill:rgb(0.0, 138.56128015770724, 250.76166088685727)\"/><g transform=\"translate(-6.0,0)\">  <svg x=\"92.21089083548357%\" y=\"40\" height=\"18\" overflow=\"visible\" width=\"30\">    <path d=\"M 8 -9 l -6 18 L 8 25 L 20 25 L 20 -9\" fill=\"#ffffff\" style=\"stroke:rgb(255,255,255);stroke-width:2\" />  </svg></g><g transform=\"translate(-6.0,0)\">  <svg x=\"87.28135830534784%\" y=\"40\" height=\"18\" overflow=\"visible\" width=\"30\">    <path d=\"M 8 -9 l -6 18 L 8 25\" fill=\"none\" style=\"stroke:rgb(208, 230, 250);stroke-width:2\" />  </svg></g><rect x=\"84.271673052108%\" y=\"40\" height=\"20\" width=\"3.0096852532398373%\"      onmouseover=\"document.getElementById('_tp_hasqwdpydqvsxogrrvgs_ind_18').style.textDecoration = 'underline';document.getElementById('_fs_hasqwdpydqvsxogrrvgs_ind_18').style.opacity = 1;document.getElementById('_fb_hasqwdpydqvsxogrrvgs_ind_18').style.opacity = 1;\"      onmouseout=\"document.getElementById('_tp_hasqwdpydqvsxogrrvgs_ind_18').style.textDecoration = 'none';document.getElementById('_fs_hasqwdpydqvsxogrrvgs_ind_18').style.opacity = 0;document.getElementById('_fb_hasqwdpydqvsxogrrvgs_ind_18').style.opacity = 0;\" style=\"fill:rgb(0,0,0,0)\" /><g transform=\"translate(-6.0,0)\">  <svg x=\"89.6125656074699%\" y=\"40\" height=\"18\" overflow=\"visible\" width=\"30\">    <path d=\"M 8 -9 l -6 18 L 8 25\" fill=\"none\" style=\"stroke:rgb(208, 230, 250);stroke-width:2\" />  </svg></g><rect x=\"87.28135830534784%\" y=\"40\" height=\"20\" width=\"2.331207302122067%\"      onmouseover=\"document.getElementById('_tp_hasqwdpydqvsxogrrvgs_ind_15').style.textDecoration = 'underline';document.getElementById('_fs_hasqwdpydqvsxogrrvgs_ind_15').style.opacity = 1;document.getElementById('_fb_hasqwdpydqvsxogrrvgs_ind_15').style.opacity = 1;\"      onmouseout=\"document.getElementById('_tp_hasqwdpydqvsxogrrvgs_ind_15').style.textDecoration = 'none';document.getElementById('_fs_hasqwdpydqvsxogrrvgs_ind_15').style.opacity = 0;document.getElementById('_fb_hasqwdpydqvsxogrrvgs_ind_15').style.opacity = 0;\" style=\"fill:rgb(0,0,0,0)\" /><g transform=\"translate(-6.0,0)\">  <svg x=\"90.52368818189964%\" y=\"40\" height=\"18\" overflow=\"visible\" width=\"30\">    <path d=\"M 8 -9 l -6 18 L 8 25\" fill=\"none\" style=\"stroke:rgb(208, 230, 250);stroke-width:2\" />  </svg></g><rect x=\"89.6125656074699%\" y=\"40\" height=\"20\" width=\"0.91112257442974%\"      onmouseover=\"document.getElementById('_tp_hasqwdpydqvsxogrrvgs_ind_13').style.textDecoration = 'underline';document.getElementById('_fs_hasqwdpydqvsxogrrvgs_ind_13').style.opacity = 1;document.getElementById('_fb_hasqwdpydqvsxogrrvgs_ind_13').style.opacity = 1;\"      onmouseout=\"document.getElementById('_tp_hasqwdpydqvsxogrrvgs_ind_13').style.textDecoration = 'none';document.getElementById('_fs_hasqwdpydqvsxogrrvgs_ind_13').style.opacity = 0;document.getElementById('_fb_hasqwdpydqvsxogrrvgs_ind_13').style.opacity = 0;\" style=\"fill:rgb(0,0,0,0)\" /><g transform=\"translate(-6.0,0)\">  <svg x=\"91.1822177884648%\" y=\"40\" height=\"18\" overflow=\"visible\" width=\"30\">    <path d=\"M 8 -9 l -6 18 L 8 25\" fill=\"none\" style=\"stroke:rgb(208, 230, 250);stroke-width:2\" />  </svg></g><rect x=\"90.52368818189964%\" y=\"40\" height=\"20\" width=\"0.6585296065651534%\"      onmouseover=\"document.getElementById('_tp_hasqwdpydqvsxogrrvgs_ind_2').style.textDecoration = 'underline';document.getElementById('_fs_hasqwdpydqvsxogrrvgs_ind_2').style.opacity = 1;document.getElementById('_fb_hasqwdpydqvsxogrrvgs_ind_2').style.opacity = 1;\"      onmouseout=\"document.getElementById('_tp_hasqwdpydqvsxogrrvgs_ind_2').style.textDecoration = 'none';document.getElementById('_fs_hasqwdpydqvsxogrrvgs_ind_2').style.opacity = 0;document.getElementById('_fb_hasqwdpydqvsxogrrvgs_ind_2').style.opacity = 0;\" style=\"fill:rgb(0,0,0,0)\" /><g transform=\"translate(-6.0,0)\">  <svg x=\"91.7651002474818%\" y=\"40\" height=\"18\" overflow=\"visible\" width=\"30\">    <path d=\"M 8 -9 l -6 18 L 8 25\" fill=\"none\" style=\"stroke:rgb(208, 230, 250);stroke-width:2\" />  </svg></g><rect x=\"91.1822177884648%\" y=\"40\" height=\"20\" width=\"0.5828824590170001%\"      onmouseover=\"document.getElementById('_tp_hasqwdpydqvsxogrrvgs_ind_9').style.textDecoration = 'underline';document.getElementById('_fs_hasqwdpydqvsxogrrvgs_ind_9').style.opacity = 1;document.getElementById('_fb_hasqwdpydqvsxogrrvgs_ind_9').style.opacity = 1;\"      onmouseout=\"document.getElementById('_tp_hasqwdpydqvsxogrrvgs_ind_9').style.textDecoration = 'none';document.getElementById('_fs_hasqwdpydqvsxogrrvgs_ind_9').style.opacity = 0;document.getElementById('_fb_hasqwdpydqvsxogrrvgs_ind_9').style.opacity = 0;\" style=\"fill:rgb(0,0,0,0)\" /><g transform=\"translate(-6.0,0)\">  <svg x=\"92.01845992729599%\" y=\"40\" height=\"18\" overflow=\"visible\" width=\"30\">    <path d=\"M 8 -9 l -6 18 L 8 25\" fill=\"none\" style=\"stroke:rgb(208, 230, 250);stroke-width:2\" />  </svg></g><rect x=\"91.7651002474818%\" y=\"40\" height=\"20\" width=\"0.2533596798141957%\"      onmouseover=\"document.getElementById('_tp_hasqwdpydqvsxogrrvgs_ind_24').style.textDecoration = 'underline';document.getElementById('_fs_hasqwdpydqvsxogrrvgs_ind_24').style.opacity = 1;document.getElementById('_fb_hasqwdpydqvsxogrrvgs_ind_24').style.opacity = 1;\"      onmouseout=\"document.getElementById('_tp_hasqwdpydqvsxogrrvgs_ind_24').style.textDecoration = 'none';document.getElementById('_fs_hasqwdpydqvsxogrrvgs_ind_24').style.opacity = 0;document.getElementById('_fb_hasqwdpydqvsxogrrvgs_ind_24').style.opacity = 0;\" style=\"fill:rgb(0,0,0,0)\" /><rect x=\"92.01845992729599%\" y=\"40\" height=\"20\" width=\"0.1924309081875748%\"      onmouseover=\"document.getElementById('_tp_hasqwdpydqvsxogrrvgs_ind_3').style.textDecoration = 'underline';document.getElementById('_fs_hasqwdpydqvsxogrrvgs_ind_3').style.opacity = 1;document.getElementById('_fb_hasqwdpydqvsxogrrvgs_ind_3').style.opacity = 1;\"      onmouseout=\"document.getElementById('_tp_hasqwdpydqvsxogrrvgs_ind_3').style.textDecoration = 'none';document.getElementById('_fs_hasqwdpydqvsxogrrvgs_ind_3').style.opacity = 0;document.getElementById('_fb_hasqwdpydqvsxogrrvgs_ind_3').style.opacity = 0;\" style=\"fill:rgb(0,0,0,0)\" /></svg><div align='center'><div style=\"color: rgb(120,120,120); font-size: 12px; margin-top: -15px;\">inputs</div><div style='display: inline; text-align: center;'\n",
       "    ><div style='display: none; color: #999; padding-top: 0px; font-size: 12px;'>0.0</div\n",
       "        ><div id='_tp_hasqwdpydqvsxogrrvgs_ind_0'\n",
       "            style='display: inline; background: rgba(230.2941176470614, 26.505882352939775, 102.59215686274348, 0.0); border-radius: 3px; padding: 0px'\n",
       "            onclick=\"\n",
       "            if (this.previousSibling.style.display == 'none') {\n",
       "                this.previousSibling.style.display = 'block';\n",
       "                this.parentNode.style.display = 'inline-block';\n",
       "            } else {\n",
       "                this.previousSibling.style.display = 'none';\n",
       "                this.parentNode.style.display = 'inline';\n",
       "            }\"\n",
       "            onmouseover=\"document.getElementById('_fb_hasqwdpydqvsxogrrvgs_ind_0').style.opacity = 1; document.getElementById('_fs_hasqwdpydqvsxogrrvgs_ind_0').style.opacity = 1;\"\n",
       "            onmouseout=\"document.getElementById('_fb_hasqwdpydqvsxogrrvgs_ind_0').style.opacity = 0; document.getElementById('_fs_hasqwdpydqvsxogrrvgs_ind_0').style.opacity = 0;\"\n",
       "        ></div></div><div style='display: inline; text-align: center;'\n",
       "    ><div style='display: none; color: #999; padding-top: 0px; font-size: 12px;'>0.035</div\n",
       "        ><div id='_tp_hasqwdpydqvsxogrrvgs_ind_1'\n",
       "            style='display: inline; background: rgba(255.0, 13.0, 87.0, 0.20384234501881549); border-radius: 3px; padding: 0px'\n",
       "            onclick=\"\n",
       "            if (this.previousSibling.style.display == 'none') {\n",
       "                this.previousSibling.style.display = 'block';\n",
       "                this.parentNode.style.display = 'inline-block';\n",
       "            } else {\n",
       "                this.previousSibling.style.display = 'none';\n",
       "                this.parentNode.style.display = 'inline';\n",
       "            }\"\n",
       "            onmouseover=\"document.getElementById('_fb_hasqwdpydqvsxogrrvgs_ind_1').style.opacity = 1; document.getElementById('_fs_hasqwdpydqvsxogrrvgs_ind_1').style.opacity = 1;\"\n",
       "            onmouseout=\"document.getElementById('_fb_hasqwdpydqvsxogrrvgs_ind_1').style.opacity = 0; document.getElementById('_fs_hasqwdpydqvsxogrrvgs_ind_1').style.opacity = 0;\"\n",
       "        >YOU </div></div><div style='display: inline; text-align: center;'\n",
       "    ><div style='display: none; color: #999; padding-top: 0px; font-size: 12px;'>-0.007</div\n",
       "        ><div id='_tp_hasqwdpydqvsxogrrvgs_ind_2'\n",
       "            style='display: inline; background: rgba(30.0, 136.0, 229.0, 0.03830461477520309); border-radius: 3px; padding: 0px'\n",
       "            onclick=\"\n",
       "            if (this.previousSibling.style.display == 'none') {\n",
       "                this.previousSibling.style.display = 'block';\n",
       "                this.parentNode.style.display = 'inline-block';\n",
       "            } else {\n",
       "                this.previousSibling.style.display = 'none';\n",
       "                this.parentNode.style.display = 'inline';\n",
       "            }\"\n",
       "            onmouseover=\"document.getElementById('_fb_hasqwdpydqvsxogrrvgs_ind_2').style.opacity = 1; document.getElementById('_fs_hasqwdpydqvsxogrrvgs_ind_2').style.opacity = 1;\"\n",
       "            onmouseout=\"document.getElementById('_fb_hasqwdpydqvsxogrrvgs_ind_2').style.opacity = 0; document.getElementById('_fs_hasqwdpydqvsxogrrvgs_ind_2').style.opacity = 0;\"\n",
       "        >BET</div></div><div style='display: inline; text-align: center;'\n",
       "    ><div style='display: none; color: #999; padding-top: 0px; font-size: 12px;'>-0.002</div\n",
       "        ><div id='_tp_hasqwdpydqvsxogrrvgs_ind_3'\n",
       "            style='display: inline; background: rgba(30.0, 136.0, 229.0, 0.006773618538324436); border-radius: 3px; padding: 0px'\n",
       "            onclick=\"\n",
       "            if (this.previousSibling.style.display == 'none') {\n",
       "                this.previousSibling.style.display = 'block';\n",
       "                this.parentNode.style.display = 'inline-block';\n",
       "            } else {\n",
       "                this.previousSibling.style.display = 'none';\n",
       "                this.parentNode.style.display = 'inline';\n",
       "            }\"\n",
       "            onmouseover=\"document.getElementById('_fb_hasqwdpydqvsxogrrvgs_ind_3').style.opacity = 1; document.getElementById('_fs_hasqwdpydqvsxogrrvgs_ind_3').style.opacity = 1;\"\n",
       "            onmouseout=\"document.getElementById('_fb_hasqwdpydqvsxogrrvgs_ind_3').style.opacity = 0; document.getElementById('_fs_hasqwdpydqvsxogrrvgs_ind_3').style.opacity = 0;\"\n",
       "        >TER </div></div><div style='display: inline; text-align: center;'\n",
       "    ><div style='display: none; color: #999; padding-top: 0px; font-size: 12px;'>0.065</div\n",
       "        ><div id='_tp_hasqwdpydqvsxogrrvgs_ind_4'\n",
       "            style='display: inline; background: rgba(255.0, 13.0, 87.0, 0.3693800752624282); border-radius: 3px; padding: 0px'\n",
       "            onclick=\"\n",
       "            if (this.previousSibling.style.display == 'none') {\n",
       "                this.previousSibling.style.display = 'block';\n",
       "                this.parentNode.style.display = 'inline-block';\n",
       "            } else {\n",
       "                this.previousSibling.style.display = 'none';\n",
       "                this.parentNode.style.display = 'inline';\n",
       "            }\"\n",
       "            onmouseover=\"document.getElementById('_fb_hasqwdpydqvsxogrrvgs_ind_4').style.opacity = 1; document.getElementById('_fs_hasqwdpydqvsxogrrvgs_ind_4').style.opacity = 1;\"\n",
       "            onmouseout=\"document.getElementById('_fb_hasqwdpydqvsxogrrvgs_ind_4').style.opacity = 0; document.getElementById('_fs_hasqwdpydqvsxogrrvgs_ind_4').style.opacity = 0;\"\n",
       "        >S</div></div><div style='display: inline; text-align: center;'\n",
       "    ><div style='display: none; color: #999; padding-top: 0px; font-size: 12px;'>0.174</div\n",
       "        ><div id='_tp_hasqwdpydqvsxogrrvgs_ind_5'\n",
       "            style='display: inline; background: rgba(255.0, 13.0, 87.0, 1.0); border-radius: 3px; padding: 0px'\n",
       "            onclick=\"\n",
       "            if (this.previousSibling.style.display == 'none') {\n",
       "                this.previousSibling.style.display = 'block';\n",
       "                this.parentNode.style.display = 'inline-block';\n",
       "            } else {\n",
       "                this.previousSibling.style.display = 'none';\n",
       "                this.parentNode.style.display = 'inline';\n",
       "            }\"\n",
       "            onmouseover=\"document.getElementById('_fb_hasqwdpydqvsxogrrvgs_ind_5').style.opacity = 1; document.getElementById('_fs_hasqwdpydqvsxogrrvgs_ind_5').style.opacity = 1;\"\n",
       "            onmouseout=\"document.getElementById('_fb_hasqwdpydqvsxogrrvgs_ind_5').style.opacity = 0; document.getElementById('_fs_hasqwdpydqvsxogrrvgs_ind_5').style.opacity = 0;\"\n",
       "        >UCK </div></div><div style='display: inline; text-align: center;'\n",
       "    ><div style='display: none; color: #999; padding-top: 0px; font-size: 12px;'>0.047</div\n",
       "        ><div id='_tp_hasqwdpydqvsxogrrvgs_ind_6'\n",
       "            style='display: inline; background: rgba(255.0, 13.0, 87.0, 0.26690433749257286); border-radius: 3px; padding: 0px'\n",
       "            onclick=\"\n",
       "            if (this.previousSibling.style.display == 'none') {\n",
       "                this.previousSibling.style.display = 'block';\n",
       "                this.parentNode.style.display = 'inline-block';\n",
       "            } else {\n",
       "                this.previousSibling.style.display = 'none';\n",
       "                this.parentNode.style.display = 'inline';\n",
       "            }\"\n",
       "            onmouseover=\"document.getElementById('_fb_hasqwdpydqvsxogrrvgs_ind_6').style.opacity = 1; document.getElementById('_fs_hasqwdpydqvsxogrrvgs_ind_6').style.opacity = 1;\"\n",
       "            onmouseout=\"document.getElementById('_fb_hasqwdpydqvsxogrrvgs_ind_6').style.opacity = 0; document.getElementById('_fs_hasqwdpydqvsxogrrvgs_ind_6').style.opacity = 0;\"\n",
       "        >HIS </div></div><div style='display: inline; text-align: center;'\n",
       "    ><div style='display: none; color: #999; padding-top: 0px; font-size: 12px;'>0.06</div\n",
       "        ><div id='_tp_hasqwdpydqvsxogrrvgs_ind_7'\n",
       "            style='display: inline; background: rgba(255.0, 13.0, 87.0, 0.33784907902554967); border-radius: 3px; padding: 0px'\n",
       "            onclick=\"\n",
       "            if (this.previousSibling.style.display == 'none') {\n",
       "                this.previousSibling.style.display = 'block';\n",
       "                this.parentNode.style.display = 'inline-block';\n",
       "            } else {\n",
       "                this.previousSibling.style.display = 'none';\n",
       "                this.parentNode.style.display = 'inline';\n",
       "            }\"\n",
       "            onmouseover=\"document.getElementById('_fb_hasqwdpydqvsxogrrvgs_ind_7').style.opacity = 1; document.getElementById('_fs_hasqwdpydqvsxogrrvgs_ind_7').style.opacity = 1;\"\n",
       "            onmouseout=\"document.getElementById('_fb_hasqwdpydqvsxogrrvgs_ind_7').style.opacity = 0; document.getElementById('_fs_hasqwdpydqvsxogrrvgs_ind_7').style.opacity = 0;\"\n",
       "        >D</div></div><div style='display: inline; text-align: center;'\n",
       "    ><div style='display: none; color: #999; padding-top: 0px; font-size: 12px;'>0.156</div\n",
       "        ><div id='_tp_hasqwdpydqvsxogrrvgs_ind_8'\n",
       "            style='display: inline; background: rgba(255.0, 13.0, 87.0, 0.8975242622301447); border-radius: 3px; padding: 0px'\n",
       "            onclick=\"\n",
       "            if (this.previousSibling.style.display == 'none') {\n",
       "                this.previousSibling.style.display = 'block';\n",
       "                this.parentNode.style.display = 'inline-block';\n",
       "            } else {\n",
       "                this.previousSibling.style.display = 'none';\n",
       "                this.parentNode.style.display = 'inline';\n",
       "            }\"\n",
       "            onmouseover=\"document.getElementById('_fb_hasqwdpydqvsxogrrvgs_ind_8').style.opacity = 1; document.getElementById('_fs_hasqwdpydqvsxogrrvgs_ind_8').style.opacity = 1;\"\n",
       "            onmouseout=\"document.getElementById('_fb_hasqwdpydqvsxogrrvgs_ind_8').style.opacity = 0; document.getElementById('_fs_hasqwdpydqvsxogrrvgs_ind_8').style.opacity = 0;\"\n",
       "        >ICK </div></div><div style='display: inline; text-align: center;'\n",
       "    ><div style='display: none; color: #999; padding-top: 0px; font-size: 12px;'>-0.006</div\n",
       "        ><div id='_tp_hasqwdpydqvsxogrrvgs_ind_9'\n",
       "            style='display: inline; background: rgba(30.0, 136.0, 229.0, 0.03042186571598325); border-radius: 3px; padding: 0px'\n",
       "            onclick=\"\n",
       "            if (this.previousSibling.style.display == 'none') {\n",
       "                this.previousSibling.style.display = 'block';\n",
       "                this.parentNode.style.display = 'inline-block';\n",
       "            } else {\n",
       "                this.previousSibling.style.display = 'none';\n",
       "                this.parentNode.style.display = 'inline';\n",
       "            }\"\n",
       "            onmouseover=\"document.getElementById('_fb_hasqwdpydqvsxogrrvgs_ind_9').style.opacity = 1; document.getElementById('_fs_hasqwdpydqvsxogrrvgs_ind_9').style.opacity = 1;\"\n",
       "            onmouseout=\"document.getElementById('_fb_hasqwdpydqvsxogrrvgs_ind_9').style.opacity = 0; document.getElementById('_fs_hasqwdpydqvsxogrrvgs_ind_9').style.opacity = 0;\"\n",
       "        >KO</div></div><div style='display: inline; text-align: center;'\n",
       "    ><div style='display: none; color: #999; padding-top: 0px; font-size: 12px;'>0.008</div\n",
       "        ><div id='_tp_hasqwdpydqvsxogrrvgs_ind_10'\n",
       "            style='display: inline; background: rgba(255.0, 13.0, 87.0, 0.03830461477520289); border-radius: 3px; padding: 0px'\n",
       "            onclick=\"\n",
       "            if (this.previousSibling.style.display == 'none') {\n",
       "                this.previousSibling.style.display = 'block';\n",
       "                this.parentNode.style.display = 'inline-block';\n",
       "            } else {\n",
       "                this.previousSibling.style.display = 'none';\n",
       "                this.parentNode.style.display = 'inline';\n",
       "            }\"\n",
       "            onmouseover=\"document.getElementById('_fb_hasqwdpydqvsxogrrvgs_ind_10').style.opacity = 1; document.getElementById('_fs_hasqwdpydqvsxogrrvgs_ind_10').style.opacity = 1;\"\n",
       "            onmouseout=\"document.getElementById('_fb_hasqwdpydqvsxogrrvgs_ind_10').style.opacity = 0; document.getElementById('_fs_hasqwdpydqvsxogrrvgs_ind_10').style.opacity = 0;\"\n",
       "        >Z</div></div><div style='display: inline; text-align: center;'\n",
       "    ><div style='display: none; color: #999; padding-top: 0px; font-size: 12px;'>0.019</div\n",
       "        ><div id='_tp_hasqwdpydqvsxogrrvgs_ind_11'\n",
       "            style='display: inline; background: rgba(255.0, 13.0, 87.0, 0.10924935630817992); border-radius: 3px; padding: 0px'\n",
       "            onclick=\"\n",
       "            if (this.previousSibling.style.display == 'none') {\n",
       "                this.previousSibling.style.display = 'block';\n",
       "                this.parentNode.style.display = 'inline-block';\n",
       "            } else {\n",
       "                this.previousSibling.style.display = 'none';\n",
       "                this.parentNode.style.display = 'inline';\n",
       "            }\"\n",
       "            onmouseover=\"document.getElementById('_fb_hasqwdpydqvsxogrrvgs_ind_11').style.opacity = 1; document.getElementById('_fs_hasqwdpydqvsxogrrvgs_ind_11').style.opacity = 1;\"\n",
       "            onmouseout=\"document.getElementById('_fb_hasqwdpydqvsxogrrvgs_ind_11').style.opacity = 0; document.getElementById('_fs_hasqwdpydqvsxogrrvgs_ind_11').style.opacity = 0;\"\n",
       "        >Y </div></div><div style='display: inline; text-align: center;'\n",
       "    ><div style='display: none; color: #999; padding-top: 0px; font-size: 12px;'>0.027</div\n",
       "        ><div id='_tp_hasqwdpydqvsxogrrvgs_ind_12'\n",
       "            style='display: inline; background: rgba(255.0, 13.0, 87.0, 0.14866310160427795); border-radius: 3px; padding: 0px'\n",
       "            onclick=\"\n",
       "            if (this.previousSibling.style.display == 'none') {\n",
       "                this.previousSibling.style.display = 'block';\n",
       "                this.parentNode.style.display = 'inline-block';\n",
       "            } else {\n",
       "                this.previousSibling.style.display = 'none';\n",
       "                this.parentNode.style.display = 'inline';\n",
       "            }\"\n",
       "            onmouseover=\"document.getElementById('_fb_hasqwdpydqvsxogrrvgs_ind_12').style.opacity = 1; document.getElementById('_fs_hasqwdpydqvsxogrrvgs_ind_12').style.opacity = 1;\"\n",
       "            onmouseout=\"document.getElementById('_fb_hasqwdpydqvsxogrrvgs_ind_12').style.opacity = 0; document.getElementById('_fs_hasqwdpydqvsxogrrvgs_ind_12').style.opacity = 0;\"\n",
       "        >I </div></div><div style='display: inline; text-align: center;'\n",
       "    ><div style='display: none; color: #999; padding-top: 0px; font-size: 12px;'>-0.01</div\n",
       "        ><div id='_tp_hasqwdpydqvsxogrrvgs_ind_13'\n",
       "            style='display: inline; background: rgba(30.0, 136.0, 229.0, 0.05407011289364222); border-radius: 3px; padding: 0px'\n",
       "            onclick=\"\n",
       "            if (this.previousSibling.style.display == 'none') {\n",
       "                this.previousSibling.style.display = 'block';\n",
       "                this.parentNode.style.display = 'inline-block';\n",
       "            } else {\n",
       "                this.previousSibling.style.display = 'none';\n",
       "                this.parentNode.style.display = 'inline';\n",
       "            }\"\n",
       "            onmouseover=\"document.getElementById('_fb_hasqwdpydqvsxogrrvgs_ind_13').style.opacity = 1; document.getElementById('_fs_hasqwdpydqvsxogrrvgs_ind_13').style.opacity = 1;\"\n",
       "            onmouseout=\"document.getElementById('_fb_hasqwdpydqvsxogrrvgs_ind_13').style.opacity = 0; document.getElementById('_fs_hasqwdpydqvsxogrrvgs_ind_13').style.opacity = 0;\"\n",
       "        >SEE </div></div><div style='display: inline; text-align: center;'\n",
       "    ><div style='display: none; color: #999; padding-top: 0px; font-size: 12px;'>0.004</div\n",
       "        ><div id='_tp_hasqwdpydqvsxogrrvgs_ind_14'\n",
       "            style='display: inline; background: rgba(255.0, 13.0, 87.0, 0.014656367597544035); border-radius: 3px; padding: 0px'\n",
       "            onclick=\"\n",
       "            if (this.previousSibling.style.display == 'none') {\n",
       "                this.previousSibling.style.display = 'block';\n",
       "                this.parentNode.style.display = 'inline-block';\n",
       "            } else {\n",
       "                this.previousSibling.style.display = 'none';\n",
       "                this.parentNode.style.display = 'inline';\n",
       "            }\"\n",
       "            onmouseover=\"document.getElementById('_fb_hasqwdpydqvsxogrrvgs_ind_14').style.opacity = 1; document.getElementById('_fs_hasqwdpydqvsxogrrvgs_ind_14').style.opacity = 1;\"\n",
       "            onmouseout=\"document.getElementById('_fb_hasqwdpydqvsxogrrvgs_ind_14').style.opacity = 0; document.getElementById('_fs_hasqwdpydqvsxogrrvgs_ind_14').style.opacity = 0;\"\n",
       "        >YOU </div></div><div style='display: inline; text-align: center;'\n",
       "    ><div style='display: none; color: #999; padding-top: 0px; font-size: 12px;'>-0.025</div\n",
       "        ><div id='_tp_hasqwdpydqvsxogrrvgs_ind_15'\n",
       "            style='display: inline; background: rgba(30.0, 136.0, 229.0, 0.14078035254505836); border-radius: 3px; padding: 0px'\n",
       "            onclick=\"\n",
       "            if (this.previousSibling.style.display == 'none') {\n",
       "                this.previousSibling.style.display = 'block';\n",
       "                this.parentNode.style.display = 'inline-block';\n",
       "            } else {\n",
       "                this.previousSibling.style.display = 'none';\n",
       "                this.parentNode.style.display = 'inline';\n",
       "            }\"\n",
       "            onmouseover=\"document.getElementById('_fb_hasqwdpydqvsxogrrvgs_ind_15').style.opacity = 1; document.getElementById('_fs_hasqwdpydqvsxogrrvgs_ind_15').style.opacity = 1;\"\n",
       "            onmouseout=\"document.getElementById('_fb_hasqwdpydqvsxogrrvgs_ind_15').style.opacity = 0; document.getElementById('_fs_hasqwdpydqvsxogrrvgs_ind_15').style.opacity = 0;\"\n",
       "        >WITH </div></div><div style='display: inline; text-align: center;'\n",
       "    ><div style='display: none; color: #999; padding-top: 0px; font-size: 12px;'>0.012</div\n",
       "        ><div id='_tp_hasqwdpydqvsxogrrvgs_ind_16'\n",
       "            style='display: inline; background: rgba(255.0, 13.0, 87.0, 0.06195286195286207); border-radius: 3px; padding: 0px'\n",
       "            onclick=\"\n",
       "            if (this.previousSibling.style.display == 'none') {\n",
       "                this.previousSibling.style.display = 'block';\n",
       "                this.parentNode.style.display = 'inline-block';\n",
       "            } else {\n",
       "                this.previousSibling.style.display = 'none';\n",
       "                this.parentNode.style.display = 'inline';\n",
       "            }\"\n",
       "            onmouseover=\"document.getElementById('_fb_hasqwdpydqvsxogrrvgs_ind_16').style.opacity = 1; document.getElementById('_fs_hasqwdpydqvsxogrrvgs_ind_16').style.opacity = 1;\"\n",
       "            onmouseout=\"document.getElementById('_fb_hasqwdpydqvsxogrrvgs_ind_16').style.opacity = 0; document.getElementById('_fs_hasqwdpydqvsxogrrvgs_ind_16').style.opacity = 0;\"\n",
       "        >KN</div></div><div style='display: inline; text-align: center;'\n",
       "    ><div style='display: none; color: #999; padding-top: 0px; font-size: 12px;'>0.08</div\n",
       "        ><div id='_tp_hasqwdpydqvsxogrrvgs_ind_17'\n",
       "            style='display: inline; background: rgba(255.0, 13.0, 87.0, 0.46397306397306415); border-radius: 3px; padding: 0px'\n",
       "            onclick=\"\n",
       "            if (this.previousSibling.style.display == 'none') {\n",
       "                this.previousSibling.style.display = 'block';\n",
       "                this.parentNode.style.display = 'inline-block';\n",
       "            } else {\n",
       "                this.previousSibling.style.display = 'none';\n",
       "                this.parentNode.style.display = 'inline';\n",
       "            }\"\n",
       "            onmouseover=\"document.getElementById('_fb_hasqwdpydqvsxogrrvgs_ind_17').style.opacity = 1; document.getElementById('_fs_hasqwdpydqvsxogrrvgs_ind_17').style.opacity = 1;\"\n",
       "            onmouseout=\"document.getElementById('_fb_hasqwdpydqvsxogrrvgs_ind_17').style.opacity = 0; document.getElementById('_fs_hasqwdpydqvsxogrrvgs_ind_17').style.opacity = 0;\"\n",
       "        >UCK</div></div><div style='display: inline; text-align: center;'\n",
       "    ><div style='display: none; color: #999; padding-top: 0px; font-size: 12px;'>-0.033</div\n",
       "        ><div id='_tp_hasqwdpydqvsxogrrvgs_ind_18'\n",
       "            style='display: inline; background: rgba(30.0, 136.0, 229.0, 0.1880768469003762); border-radius: 3px; padding: 0px'\n",
       "            onclick=\"\n",
       "            if (this.previousSibling.style.display == 'none') {\n",
       "                this.previousSibling.style.display = 'block';\n",
       "                this.parentNode.style.display = 'inline-block';\n",
       "            } else {\n",
       "                this.previousSibling.style.display = 'none';\n",
       "                this.parentNode.style.display = 'inline';\n",
       "            }\"\n",
       "            onmouseover=\"document.getElementById('_fb_hasqwdpydqvsxogrrvgs_ind_18').style.opacity = 1; document.getElementById('_fs_hasqwdpydqvsxogrrvgs_ind_18').style.opacity = 1;\"\n",
       "            onmouseout=\"document.getElementById('_fb_hasqwdpydqvsxogrrvgs_ind_18').style.opacity = 0; document.getElementById('_fs_hasqwdpydqvsxogrrvgs_ind_18').style.opacity = 0;\"\n",
       "        >LES </div></div><div style='display: inline; text-align: center;'\n",
       "    ><div style='display: none; color: #999; padding-top: 0px; font-size: 12px;'>0.029</div\n",
       "        ><div id='_tp_hasqwdpydqvsxogrrvgs_ind_19'\n",
       "            style='display: inline; background: rgba(255.0, 13.0, 87.0, 0.16442859972271742); border-radius: 3px; padding: 0px'\n",
       "            onclick=\"\n",
       "            if (this.previousSibling.style.display == 'none') {\n",
       "                this.previousSibling.style.display = 'block';\n",
       "                this.parentNode.style.display = 'inline-block';\n",
       "            } else {\n",
       "                this.previousSibling.style.display = 'none';\n",
       "                this.parentNode.style.display = 'inline';\n",
       "            }\"\n",
       "            onmouseover=\"document.getElementById('_fb_hasqwdpydqvsxogrrvgs_ind_19').style.opacity = 1; document.getElementById('_fs_hasqwdpydqvsxogrrvgs_ind_19').style.opacity = 1;\"\n",
       "            onmouseout=\"document.getElementById('_fb_hasqwdpydqvsxogrrvgs_ind_19').style.opacity = 0; document.getElementById('_fs_hasqwdpydqvsxogrrvgs_ind_19').style.opacity = 0;\"\n",
       "        >GET </div></div><div style='display: inline; text-align: center;'\n",
       "    ><div style='display: none; color: #999; padding-top: 0px; font-size: 12px;'>0.002</div\n",
       "        ><div id='_tp_hasqwdpydqvsxogrrvgs_ind_20'\n",
       "            style='display: inline; background: rgba(255.0, 13.0, 87.0, 0.00677361853832443); border-radius: 3px; padding: 0px'\n",
       "            onclick=\"\n",
       "            if (this.previousSibling.style.display == 'none') {\n",
       "                this.previousSibling.style.display = 'block';\n",
       "                this.parentNode.style.display = 'inline-block';\n",
       "            } else {\n",
       "                this.previousSibling.style.display = 'none';\n",
       "                this.parentNode.style.display = 'inline';\n",
       "            }\"\n",
       "            onmouseover=\"document.getElementById('_fb_hasqwdpydqvsxogrrvgs_ind_20').style.opacity = 1; document.getElementById('_fs_hasqwdpydqvsxogrrvgs_ind_20').style.opacity = 1;\"\n",
       "            onmouseout=\"document.getElementById('_fb_hasqwdpydqvsxogrrvgs_ind_20').style.opacity = 0; document.getElementById('_fs_hasqwdpydqvsxogrrvgs_ind_20').style.opacity = 0;\"\n",
       "        >EM </div></div><div style='display: inline; text-align: center;'\n",
       "    ><div style='display: none; color: #999; padding-top: 0px; font-size: 12px;'>0.014</div\n",
       "        ><div id='_tp_hasqwdpydqvsxogrrvgs_ind_21'\n",
       "            style='display: inline; background: rgba(255.0, 13.0, 87.0, 0.07771836007130124); border-radius: 3px; padding: 0px'\n",
       "            onclick=\"\n",
       "            if (this.previousSibling.style.display == 'none') {\n",
       "                this.previousSibling.style.display = 'block';\n",
       "                this.parentNode.style.display = 'inline-block';\n",
       "            } else {\n",
       "                this.previousSibling.style.display = 'none';\n",
       "                this.parentNode.style.display = 'inline';\n",
       "            }\"\n",
       "            onmouseover=\"document.getElementById('_fb_hasqwdpydqvsxogrrvgs_ind_21').style.opacity = 1; document.getElementById('_fs_hasqwdpydqvsxogrrvgs_ind_21').style.opacity = 1;\"\n",
       "            onmouseout=\"document.getElementById('_fb_hasqwdpydqvsxogrrvgs_ind_21').style.opacity = 0; document.getElementById('_fs_hasqwdpydqvsxogrrvgs_ind_21').style.opacity = 0;\"\n",
       "        >G</div></div><div style='display: inline; text-align: center;'\n",
       "    ><div style='display: none; color: #999; padding-top: 0px; font-size: 12px;'>0.002</div\n",
       "        ><div id='_tp_hasqwdpydqvsxogrrvgs_ind_22'\n",
       "            style='display: inline; background: rgba(255.0, 13.0, 87.0, 0.00677361853832443); border-radius: 3px; padding: 0px'\n",
       "            onclick=\"\n",
       "            if (this.previousSibling.style.display == 'none') {\n",
       "                this.previousSibling.style.display = 'block';\n",
       "                this.parentNode.style.display = 'inline-block';\n",
       "            } else {\n",
       "                this.previousSibling.style.display = 'none';\n",
       "                this.parentNode.style.display = 'inline';\n",
       "            }\"\n",
       "            onmouseover=\"document.getElementById('_fb_hasqwdpydqvsxogrrvgs_ind_22').style.opacity = 1; document.getElementById('_fs_hasqwdpydqvsxogrrvgs_ind_22').style.opacity = 1;\"\n",
       "            onmouseout=\"document.getElementById('_fb_hasqwdpydqvsxogrrvgs_ind_22').style.opacity = 0; document.getElementById('_fs_hasqwdpydqvsxogrrvgs_ind_22').style.opacity = 0;\"\n",
       "        >Y</div></div><div style='display: inline; text-align: center;'\n",
       "    ><div style='display: none; color: #999; padding-top: 0px; font-size: 12px;'>0.028</div\n",
       "        ><div id='_tp_hasqwdpydqvsxogrrvgs_ind_23'\n",
       "            style='display: inline; background: rgba(255.0, 13.0, 87.0, 0.15654585066349747); border-radius: 3px; padding: 0px'\n",
       "            onclick=\"\n",
       "            if (this.previousSibling.style.display == 'none') {\n",
       "                this.previousSibling.style.display = 'block';\n",
       "                this.parentNode.style.display = 'inline-block';\n",
       "            } else {\n",
       "                this.previousSibling.style.display = 'none';\n",
       "                this.parentNode.style.display = 'inline';\n",
       "            }\"\n",
       "            onmouseover=\"document.getElementById('_fb_hasqwdpydqvsxogrrvgs_ind_23').style.opacity = 1; document.getElementById('_fs_hasqwdpydqvsxogrrvgs_ind_23').style.opacity = 1;\"\n",
       "            onmouseout=\"document.getElementById('_fb_hasqwdpydqvsxogrrvgs_ind_23').style.opacity = 0; document.getElementById('_fs_hasqwdpydqvsxogrrvgs_ind_23').style.opacity = 0;\"\n",
       "        >AAA</div></div><div style='display: inline; text-align: center;'\n",
       "    ><div style='display: none; color: #999; padding-top: 0px; font-size: 12px;'>-0.003</div\n",
       "        ><div id='_tp_hasqwdpydqvsxogrrvgs_ind_24'\n",
       "            style='display: inline; background: rgba(30.0, 136.0, 229.0, 0.014656367597544028); border-radius: 3px; padding: 0px'\n",
       "            onclick=\"\n",
       "            if (this.previousSibling.style.display == 'none') {\n",
       "                this.previousSibling.style.display = 'block';\n",
       "                this.parentNode.style.display = 'inline-block';\n",
       "            } else {\n",
       "                this.previousSibling.style.display = 'none';\n",
       "                this.parentNode.style.display = 'inline';\n",
       "            }\"\n",
       "            onmouseover=\"document.getElementById('_fb_hasqwdpydqvsxogrrvgs_ind_24').style.opacity = 1; document.getElementById('_fs_hasqwdpydqvsxogrrvgs_ind_24').style.opacity = 1;\"\n",
       "            onmouseout=\"document.getElementById('_fb_hasqwdpydqvsxogrrvgs_ind_24').style.opacity = 0; document.getElementById('_fs_hasqwdpydqvsxogrrvgs_ind_24').style.opacity = 0;\"\n",
       "        >AL</div></div><div style='display: inline; text-align: center;'\n",
       "    ><div style='display: none; color: #999; padding-top: 0px; font-size: 12px;'>0.0</div\n",
       "        ><div id='_tp_hasqwdpydqvsxogrrvgs_ind_25'\n",
       "            style='display: inline; background: rgba(230.2941176470614, 26.505882352939775, 102.59215686274348, 0.0); border-radius: 3px; padding: 0px'\n",
       "            onclick=\"\n",
       "            if (this.previousSibling.style.display == 'none') {\n",
       "                this.previousSibling.style.display = 'block';\n",
       "                this.parentNode.style.display = 'inline-block';\n",
       "            } else {\n",
       "                this.previousSibling.style.display = 'none';\n",
       "                this.parentNode.style.display = 'inline';\n",
       "            }\"\n",
       "            onmouseover=\"document.getElementById('_fb_hasqwdpydqvsxogrrvgs_ind_25').style.opacity = 1; document.getElementById('_fs_hasqwdpydqvsxogrrvgs_ind_25').style.opacity = 1;\"\n",
       "            onmouseout=\"document.getElementById('_fb_hasqwdpydqvsxogrrvgs_ind_25').style.opacity = 0; document.getElementById('_fs_hasqwdpydqvsxogrrvgs_ind_25').style.opacity = 0;\"\n",
       "        ></div></div></div></div><div id='_tp_uutvzqqfzzetyzijdxdb_output_1_zoom' style='display: none;'><svg width=\"100%\" height=\"80px\"><line x1=\"0\" y1=\"33\" x2=\"100%\" y2=\"33\" style=\"stroke:rgb(150,150,150);stroke-width:1\" /><line x1=\"46.50649906610469%\" y1=\"33\" x2=\"46.50649906610469%\" y2=\"37\" style=\"stroke:rgb(150,150,150);stroke-width:1\" /><text x=\"46.50649906610469%\" y=\"27\" font-size=\"12px\" fill=\"rgb(120,120,120)\" dominant-baseline=\"bottom\" text-anchor=\"middle\">0.5</text><line x1=\"36.696717767298345%\" y1=\"33\" x2=\"36.696717767298345%\" y2=\"37\" style=\"stroke:rgb(150,150,150);stroke-width:1\" /><text x=\"36.696717767298345%\" y=\"27\" font-size=\"12px\" fill=\"rgb(120,120,120)\" dominant-baseline=\"bottom\" text-anchor=\"middle\">0.4</text><line x1=\"26.886936468492006%\" y1=\"33\" x2=\"26.886936468492006%\" y2=\"37\" style=\"stroke:rgb(150,150,150);stroke-width:1\" /><text x=\"26.886936468492006%\" y=\"27\" font-size=\"12px\" fill=\"rgb(120,120,120)\" dominant-baseline=\"bottom\" text-anchor=\"middle\">0.3</text><line x1=\"17.07715516968566%\" y1=\"33\" x2=\"17.07715516968566%\" y2=\"37\" style=\"stroke:rgb(150,150,150);stroke-width:1\" /><text x=\"17.07715516968566%\" y=\"27\" font-size=\"12px\" fill=\"rgb(120,120,120)\" dominant-baseline=\"bottom\" text-anchor=\"middle\">0.2</text><line x1=\"7.26737387087932%\" y1=\"33\" x2=\"7.26737387087932%\" y2=\"37\" style=\"stroke:rgb(150,150,150);stroke-width:1\" /><text x=\"7.26737387087932%\" y=\"27\" font-size=\"12px\" fill=\"rgb(120,120,120)\" dominant-baseline=\"bottom\" text-anchor=\"middle\">0.1</text><line x1=\"56.31628036491103%\" y1=\"33\" x2=\"56.31628036491103%\" y2=\"37\" style=\"stroke:rgb(150,150,150);stroke-width:1\" /><text x=\"56.31628036491103%\" y=\"27\" font-size=\"12px\" fill=\"rgb(120,120,120)\" dominant-baseline=\"bottom\" text-anchor=\"middle\">0.6</text><line x1=\"66.12606166371738%\" y1=\"33\" x2=\"66.12606166371738%\" y2=\"37\" style=\"stroke:rgb(150,150,150);stroke-width:1\" /><text x=\"66.12606166371738%\" y=\"27\" font-size=\"12px\" fill=\"rgb(120,120,120)\" dominant-baseline=\"bottom\" text-anchor=\"middle\">0.7</text><line x1=\"75.93584296252371%\" y1=\"33\" x2=\"75.93584296252371%\" y2=\"37\" style=\"stroke:rgb(150,150,150);stroke-width:1\" /><text x=\"75.93584296252371%\" y=\"27\" font-size=\"12px\" fill=\"rgb(120,120,120)\" dominant-baseline=\"bottom\" text-anchor=\"middle\">0.8</text><line x1=\"85.74562426133005%\" y1=\"33\" x2=\"85.74562426133005%\" y2=\"37\" style=\"stroke:rgb(150,150,150);stroke-width:1\" /><text x=\"85.74562426133005%\" y=\"27\" font-size=\"12px\" fill=\"rgb(120,120,120)\" dominant-baseline=\"bottom\" text-anchor=\"middle\">0.9</text><line x1=\"16.82726419241387%\" y1=\"33\" x2=\"16.82726419241387%\" y2=\"37\" style=\"stroke:rgb(150,150,150);stroke-width:1\" /><text x=\"16.82726419241387%\" y=\"27\" font-size=\"13px\" style=\"stroke:#ffffff;stroke-width:8px;\" fill=\"rgb(255,255,255)\" dominant-baseline=\"bottom\" text-anchor=\"middle\">0.197453</text><text x=\"16.82726419241387%\" y=\"27\" font-size=\"12px\" fill=\"rgb(120,120,120)\" dominant-baseline=\"bottom\" text-anchor=\"middle\">0.197453</text><text x=\"16.82726419241387%\" y=\"10\" font-size=\"12px\" fill=\"rgb(120,120,120)\" dominant-baseline=\"bottom\" text-anchor=\"middle\">base value</text><line x1=\"83.172734826608%\" y1=\"33\" x2=\"83.172734826608%\" y2=\"37\" style=\"stroke:rgb(150,150,150);stroke-width:1\" /><text x=\"83.172734826608%\" y=\"27\" font-size=\"13px\" style=\"stroke:#ffffff;stroke-width:8px;\" font-weight=\"bold\" fill=\"rgb(255,255,255)\" dominant-baseline=\"bottom\" text-anchor=\"middle\">0.873772</text><text x=\"83.172734826608%\" y=\"27\" font-size=\"13px\" font-weight=\"bold\" fill=\"rgb(0,0,0)\" dominant-baseline=\"bottom\" text-anchor=\"middle\">0.873772</text><text x=\"83.172734826608%\" y=\"10\" font-size=\"12px\" fill=\"rgb(120,120,120)\" dominant-baseline=\"bottom\" text-anchor=\"middle\">f<tspan baseline-shift=\"sub\" font-size=\"8px\">offensive</tspan>(inputs)</text><rect x=\"8.333333251585156%\" width=\"74.83940157502285%\" y=\"40\" height=\"18\" style=\"fill:rgb(255.0, 0.0, 81.08083606031792); stroke-width:0; stroke:rgb(0,0,0)\" /><line x1=\"66.08057937528565%\" x2=\"83.172734826608%\" y1=\"60\" y2=\"60\" id=\"_fb_apojgywhhjitpqckkhgy_ind_5\" style=\"stroke:rgb(255.0, 0.0, 81.08083606031792);stroke-width:2; opacity: 0\"/><text x=\"74.62665710094683%\" y=\"71\" font-size=\"12px\" id=\"_fs_apojgywhhjitpqckkhgy_ind_5\" fill=\"rgb(255.0, 0.0, 81.08083606031792)\" style=\"opacity: 0\" dominant-baseline=\"middle\" text-anchor=\"middle\">0.174</text><svg x=\"66.08057937528565%\" y=\"40\" height=\"20\" width=\"17.092155451322355%\">  <svg x=\"0\" y=\"0\" width=\"100%\" height=\"100%\">    <text x=\"50%\" y=\"9\" font-size=\"12px\" fill=\"rgb(255,255,255)\" dominant-baseline=\"middle\" text-anchor=\"middle\">UCK</text>  </svg></svg><line x1=\"50.73615625043464%\" x2=\"66.08057937528565%\" y1=\"60\" y2=\"60\" id=\"_fb_apojgywhhjitpqckkhgy_ind_8\" style=\"stroke:rgb(255.0, 0.0, 81.08083606031792);stroke-width:2; opacity: 0\"/><text x=\"58.40836781286015%\" y=\"71\" font-size=\"12px\" id=\"_fs_apojgywhhjitpqckkhgy_ind_8\" fill=\"rgb(255.0, 0.0, 81.08083606031792)\" style=\"opacity: 0\" dominant-baseline=\"middle\" text-anchor=\"middle\">0.156</text><svg x=\"50.73615625043464%\" y=\"40\" height=\"20\" width=\"15.344423124851012%\">  <svg x=\"0\" y=\"0\" width=\"100%\" height=\"100%\">    <text x=\"50%\" y=\"9\" font-size=\"12px\" fill=\"rgb(255,255,255)\" dominant-baseline=\"middle\" text-anchor=\"middle\">ICK</text>  </svg></svg><line x1=\"42.8474406637085%\" x2=\"50.73615625043464%\" y1=\"60\" y2=\"60\" id=\"_fb_apojgywhhjitpqckkhgy_ind_17\" style=\"stroke:rgb(255.0, 0.0, 81.08083606031792);stroke-width:2; opacity: 0\"/><text x=\"46.791798457071565%\" y=\"71\" font-size=\"12px\" id=\"_fs_apojgywhhjitpqckkhgy_ind_17\" fill=\"rgb(255.0, 0.0, 81.08083606031792)\" style=\"opacity: 0\" dominant-baseline=\"middle\" text-anchor=\"middle\">0.08</text><svg x=\"42.8474406637085%\" y=\"40\" height=\"20\" width=\"7.888715586726143%\">  <svg x=\"0\" y=\"0\" width=\"100%\" height=\"100%\">    <text x=\"50%\" y=\"9\" font-size=\"12px\" fill=\"rgb(255,255,255)\" dominant-baseline=\"middle\" text-anchor=\"middle\">UCK</text>  </svg></svg><line x1=\"36.4432612739571%\" x2=\"42.8474406637085%\" y1=\"60\" y2=\"60\" id=\"_fb_apojgywhhjitpqckkhgy_ind_4\" style=\"stroke:rgb(255.0, 0.0, 81.08083606031792);stroke-width:2; opacity: 0\"/><text x=\"39.6453509688328%\" y=\"71\" font-size=\"12px\" id=\"_fs_apojgywhhjitpqckkhgy_ind_4\" fill=\"rgb(255.0, 0.0, 81.08083606031792)\" style=\"opacity: 0\" dominant-baseline=\"middle\" text-anchor=\"middle\">0.065</text><svg x=\"36.4432612739571%\" y=\"40\" height=\"20\" width=\"6.404179389751398%\">  <svg x=\"0\" y=\"0\" width=\"100%\" height=\"100%\">    <text x=\"50%\" y=\"9\" font-size=\"12px\" fill=\"rgb(255,255,255)\" dominant-baseline=\"middle\" text-anchor=\"middle\">S</text>  </svg></svg><line x1=\"30.569594259876734%\" x2=\"36.4432612739571%\" y1=\"60\" y2=\"60\" id=\"_fb_apojgywhhjitpqckkhgy_ind_7\" style=\"stroke:rgb(255.0, 0.0, 81.08083606031792);stroke-width:2; opacity: 0\"/><text x=\"33.506427766916914%\" y=\"71\" font-size=\"12px\" id=\"_fs_apojgywhhjitpqckkhgy_ind_7\" fill=\"rgb(255.0, 0.0, 81.08083606031792)\" style=\"opacity: 0\" dominant-baseline=\"middle\" text-anchor=\"middle\">0.06</text><svg x=\"30.569594259876734%\" y=\"40\" height=\"20\" width=\"5.873667014080365%\">  <svg x=\"0\" y=\"0\" width=\"100%\" height=\"100%\">    <text x=\"50%\" y=\"9\" font-size=\"12px\" fill=\"rgb(255,255,255)\" dominant-baseline=\"middle\" text-anchor=\"middle\">D</text>  </svg></svg><line x1=\"25.95909030387026%\" x2=\"30.569594259876734%\" y1=\"60\" y2=\"60\" id=\"_fb_apojgywhhjitpqckkhgy_ind_6\" style=\"stroke:rgb(255.0, 0.0, 81.08083606031792);stroke-width:2; opacity: 0\"/><text x=\"28.264342281873496%\" y=\"71\" font-size=\"12px\" id=\"_fs_apojgywhhjitpqckkhgy_ind_6\" fill=\"rgb(255.0, 0.0, 81.08083606031792)\" style=\"opacity: 0\" dominant-baseline=\"middle\" text-anchor=\"middle\">0.047</text><svg x=\"25.95909030387026%\" y=\"40\" height=\"20\" width=\"4.610503956006475%\">  <svg x=\"0\" y=\"0\" width=\"100%\" height=\"100%\">    <text x=\"50%\" y=\"9\" font-size=\"12px\" fill=\"rgb(255,255,255)\" dominant-baseline=\"middle\" text-anchor=\"middle\">HIS</text>  </svg></svg><line x1=\"22.478967808900748%\" x2=\"25.95909030387026%\" y1=\"60\" y2=\"60\" id=\"_fb_apojgywhhjitpqckkhgy_ind_1\" style=\"stroke:rgb(255.0, 0.0, 81.08083606031792);stroke-width:2; opacity: 0\"/><text x=\"24.2190290563855%\" y=\"71\" font-size=\"12px\" id=\"_fs_apojgywhhjitpqckkhgy_ind_1\" fill=\"rgb(255.0, 0.0, 81.08083606031792)\" style=\"opacity: 0\" dominant-baseline=\"middle\" text-anchor=\"middle\">0.035</text><svg x=\"22.478967808900748%\" y=\"40\" height=\"20\" width=\"3.4801224949695104%\">  <svg x=\"0\" y=\"0\" width=\"100%\" height=\"100%\">    <text x=\"50%\" y=\"9\" font-size=\"12px\" fill=\"rgb(255,255,255)\" dominant-baseline=\"middle\" text-anchor=\"middle\">YOU</text>  </svg></svg><line x1=\"19.60827230530067%\" x2=\"22.478967808900748%\" y1=\"60\" y2=\"60\" id=\"_fb_apojgywhhjitpqckkhgy_ind_19\" style=\"stroke:rgb(255.0, 0.0, 81.08083606031792);stroke-width:2; opacity: 0\"/><text x=\"21.04362005710071%\" y=\"71\" font-size=\"12px\" id=\"_fs_apojgywhhjitpqckkhgy_ind_19\" fill=\"rgb(255.0, 0.0, 81.08083606031792)\" style=\"opacity: 0\" dominant-baseline=\"middle\" text-anchor=\"middle\">0.029</text><svg x=\"19.60827230530067%\" y=\"40\" height=\"20\" width=\"2.8706955036000785%\">  <svg x=\"0\" y=\"0\" width=\"100%\" height=\"100%\">    <text x=\"50%\" y=\"9\" font-size=\"12px\" fill=\"rgb(255,255,255)\" dominant-baseline=\"middle\" text-anchor=\"middle\">GET</text>  </svg></svg><line x1=\"16.857235300995058%\" x2=\"19.60827230530067%\" y1=\"60\" y2=\"60\" id=\"_fb_apojgywhhjitpqckkhgy_ind_23\" style=\"stroke:rgb(255.0, 0.0, 81.08083606031792);stroke-width:2; opacity: 0\"/><text x=\"18.232753803147865%\" y=\"71\" font-size=\"12px\" id=\"_fs_apojgywhhjitpqckkhgy_ind_23\" fill=\"rgb(255.0, 0.0, 81.08083606031792)\" style=\"opacity: 0\" dominant-baseline=\"middle\" text-anchor=\"middle\">0.028</text><svg x=\"16.857235300995058%\" y=\"40\" height=\"20\" width=\"2.751037004305612%\">  <svg x=\"0\" y=\"0\" width=\"100%\" height=\"100%\">    <text x=\"50%\" y=\"9\" font-size=\"12px\" fill=\"rgb(255,255,255)\" dominant-baseline=\"middle\" text-anchor=\"middle\">AAA</text>  </svg></svg><line x1=\"14.253867486498073%\" x2=\"16.857235300995058%\" y1=\"60\" y2=\"60\" id=\"_fb_apojgywhhjitpqckkhgy_ind_12\" style=\"stroke:rgb(255.0, 0.0, 81.08083606031792);stroke-width:2; opacity: 0\"/><text x=\"15.555551393746565%\" y=\"71\" font-size=\"12px\" id=\"_fs_apojgywhhjitpqckkhgy_ind_12\" fill=\"rgb(255.0, 0.0, 81.08083606031792)\" style=\"opacity: 0\" dominant-baseline=\"middle\" text-anchor=\"middle\">0.027</text><svg x=\"14.253867486498073%\" y=\"40\" height=\"20\" width=\"2.603367814496984%\">  <svg x=\"0\" y=\"0\" width=\"100%\" height=\"100%\">    <text x=\"50%\" y=\"9\" font-size=\"12px\" fill=\"rgb(255,255,255)\" dominant-baseline=\"middle\" text-anchor=\"middle\">I</text>  </svg></svg><line x1=\"12.371373068407262%\" x2=\"14.253867486498073%\" y1=\"60\" y2=\"60\" id=\"_fb_apojgywhhjitpqckkhgy_ind_11\" style=\"stroke:rgb(255.0, 0.0, 81.08083606031792);stroke-width:2; opacity: 0\"/><text x=\"13.312620277452668%\" y=\"71\" font-size=\"12px\" id=\"_fs_apojgywhhjitpqckkhgy_ind_11\" fill=\"rgb(255.0, 0.0, 81.08083606031792)\" style=\"opacity: 0\" dominant-baseline=\"middle\" text-anchor=\"middle\">0.019</text><svg x=\"12.371373068407262%\" y=\"40\" height=\"20\" width=\"1.8824944180908112%\">  <svg x=\"0\" y=\"0\" width=\"100%\" height=\"100%\">    <text x=\"50%\" y=\"9\" font-size=\"12px\" fill=\"rgb(255,255,255)\" dominant-baseline=\"middle\" text-anchor=\"middle\">Y</text>  </svg></svg><line x1=\"10.984918689536041%\" x2=\"12.371373068407262%\" y1=\"60\" y2=\"60\" id=\"_fb_apojgywhhjitpqckkhgy_ind_21\" style=\"stroke:rgb(255.0, 0.0, 81.08083606031792);stroke-width:2; opacity: 0\"/><text x=\"11.678145878971652%\" y=\"71\" font-size=\"12px\" id=\"_fs_apojgywhhjitpqckkhgy_ind_21\" fill=\"rgb(255.0, 0.0, 81.08083606031792)\" style=\"opacity: 0\" dominant-baseline=\"middle\" text-anchor=\"middle\">0.014</text><svg x=\"10.984918689536041%\" y=\"40\" height=\"20\" width=\"1.3864543788712211%\">  <svg x=\"0\" y=\"0\" width=\"100%\" height=\"100%\">    <text x=\"50%\" y=\"9\" font-size=\"12px\" fill=\"rgb(255,255,255)\" dominant-baseline=\"middle\" text-anchor=\"middle\">G</text>  </svg></svg><line x1=\"9.81856609679671%\" x2=\"10.984918689536041%\" y1=\"60\" y2=\"60\" id=\"_fb_apojgywhhjitpqckkhgy_ind_16\" style=\"stroke:rgb(255.0, 0.0, 81.08083606031792);stroke-width:2; opacity: 0\"/><text x=\"10.401742393166376%\" y=\"71\" font-size=\"12px\" id=\"_fs_apojgywhhjitpqckkhgy_ind_16\" fill=\"rgb(255.0, 0.0, 81.08083606031792)\" style=\"opacity: 0\" dominant-baseline=\"middle\" text-anchor=\"middle\">0.012</text><svg x=\"9.81856609679671%\" y=\"40\" height=\"20\" width=\"1.1663525927393312%\">  <svg x=\"0\" y=\"0\" width=\"100%\" height=\"100%\">    <text x=\"50%\" y=\"9\" font-size=\"12px\" fill=\"rgb(255,255,255)\" dominant-baseline=\"middle\" text-anchor=\"middle\">KN</text>  </svg></svg><line x1=\"9.031228927506755%\" x2=\"9.81856609679671%\" y1=\"60\" y2=\"60\" id=\"_fb_apojgywhhjitpqckkhgy_ind_10\" style=\"stroke:rgb(255.0, 0.0, 81.08083606031792);stroke-width:2; opacity: 0\"/><text x=\"9.424897512151732%\" y=\"71\" font-size=\"12px\" id=\"_fs_apojgywhhjitpqckkhgy_ind_10\" fill=\"rgb(255.0, 0.0, 81.08083606031792)\" style=\"opacity: 0\" dominant-baseline=\"middle\" text-anchor=\"middle\">0.008</text><svg x=\"9.031228927506755%\" y=\"40\" height=\"20\" width=\"0.7873371692899553%\">  <svg x=\"0\" y=\"0\" width=\"100%\" height=\"100%\">    <text x=\"50%\" y=\"9\" font-size=\"12px\" fill=\"rgb(255,255,255)\" dominant-baseline=\"middle\" text-anchor=\"middle\">Z</text>  </svg></svg><line x1=\"8.647879763204608%\" x2=\"9.031228927506755%\" y1=\"60\" y2=\"60\" id=\"_fb_apojgywhhjitpqckkhgy_ind_14\" style=\"stroke:rgb(255.0, 0.0, 81.08083606031792);stroke-width:2; opacity: 0\"/><text x=\"8.839554345355682%\" y=\"71\" font-size=\"12px\" id=\"_fs_apojgywhhjitpqckkhgy_ind_14\" fill=\"rgb(255.0, 0.0, 81.08083606031792)\" style=\"opacity: 0\" dominant-baseline=\"middle\" text-anchor=\"middle\">0.004</text><svg x=\"8.647879763204608%\" y=\"40\" height=\"20\" width=\"0.38334916430214605%\">  <svg x=\"0\" y=\"0\" width=\"100%\" height=\"100%\">    <text x=\"50%\" y=\"9\" font-size=\"12px\" fill=\"rgb(255,255,255)\" dominant-baseline=\"middle\" text-anchor=\"middle\">YOU</text>  </svg></svg><line x1=\"8.481349383681486%\" x2=\"8.647879763204608%\" y1=\"60\" y2=\"60\" id=\"_fb_apojgywhhjitpqckkhgy_ind_22\" style=\"stroke:rgb(255.0, 0.0, 81.08083606031792);stroke-width:2; opacity: 0\"/><text x=\"8.564614573443048%\" y=\"71\" font-size=\"12px\" id=\"_fs_apojgywhhjitpqckkhgy_ind_22\" fill=\"rgb(255.0, 0.0, 81.08083606031792)\" style=\"opacity: 0\" dominant-baseline=\"middle\" text-anchor=\"middle\">0.002</text><svg x=\"8.481349383681486%\" y=\"40\" height=\"20\" width=\"0.1665303795231221%\">  <svg x=\"0\" y=\"0\" width=\"100%\" height=\"100%\">    <text x=\"50%\" y=\"9\" font-size=\"12px\" fill=\"rgb(255,255,255)\" dominant-baseline=\"middle\" text-anchor=\"middle\">Y</text>  </svg></svg><line x1=\"8.333730122499649%\" x2=\"8.481349383681486%\" y1=\"60\" y2=\"60\" id=\"_fb_apojgywhhjitpqckkhgy_ind_20\" style=\"stroke:rgb(255.0, 0.0, 81.08083606031792);stroke-width:2; opacity: 0\"/><text x=\"8.407539753090568%\" y=\"71\" font-size=\"12px\" id=\"_fs_apojgywhhjitpqckkhgy_ind_20\" fill=\"rgb(255.0, 0.0, 81.08083606031792)\" style=\"opacity: 0\" dominant-baseline=\"middle\" text-anchor=\"middle\">0.002</text><svg x=\"8.333730122499649%\" y=\"40\" height=\"20\" width=\"0.14761926118183766%\">  <svg x=\"0\" y=\"0\" width=\"100%\" height=\"100%\">    <text x=\"50%\" y=\"9\" font-size=\"12px\" fill=\"rgb(255,255,255)\" dominant-baseline=\"middle\" text-anchor=\"middle\">EM</text>  </svg></svg><line x1=\"8.333333251585156%\" x2=\"8.333730122499649%\" y1=\"60\" y2=\"60\" id=\"_fb_apojgywhhjitpqckkhgy_ind_0\" style=\"stroke:rgb(255.0, 0.0, 81.08083606031792);stroke-width:2; opacity: 0\"/><text x=\"8.333531687042402%\" y=\"71\" font-size=\"12px\" id=\"_fs_apojgywhhjitpqckkhgy_ind_0\" fill=\"rgb(255.0, 0.0, 81.08083606031792)\" style=\"opacity: 0\" dominant-baseline=\"middle\" text-anchor=\"middle\">0.0</text><svg x=\"8.333333251585156%\" y=\"40\" height=\"20\" width=\"0.0003968709144928084%\">  <svg x=\"0\" y=\"0\" width=\"100%\" height=\"100%\">    <text x=\"50%\" y=\"9\" font-size=\"12px\" fill=\"rgb(255,255,255)\" dominant-baseline=\"middle\" text-anchor=\"middle\"></text>  </svg></svg><g transform=\"translate(0,0)\">  <svg x=\"66.08057937528565%\" y=\"40\" height=\"18\" overflow=\"visible\" width=\"30\">    <path d=\"M 0 -9 l 6 18 L 0 25\" fill=\"none\" style=\"stroke:rgb(255.0, 0.0, 81.08083606031792);stroke-width:2\" />  </svg></g><g transform=\"translate(2,0)\">  <svg x=\"66.08057937528565%\" y=\"40\" height=\"18\" overflow=\"visible\" width=\"30\">    <path d=\"M 0 -9 l 6 18 L 0 25\" fill=\"none\" style=\"stroke:rgb(255.0, 0.0, 81.08083606031792);stroke-width:2\" />  </svg></g><g transform=\"translate(4,0)\">  <svg x=\"66.08057937528565%\" y=\"40\" height=\"18\" overflow=\"visible\" width=\"30\">    <path d=\"M 0 -9 l 6 18 L 0 25\" fill=\"none\" style=\"stroke:rgb(255.0, 0.0, 81.08083606031792);stroke-width:2\" />  </svg></g><g transform=\"translate(6,0)\">  <svg x=\"66.08057937528565%\" y=\"40\" height=\"18\" overflow=\"visible\" width=\"30\">    <path d=\"M 0 -9 l 6 18 L 0 25\" fill=\"none\" style=\"stroke:rgb(255.0, 0.0, 81.08083606031792);stroke-width:2\" />  </svg></g><g transform=\"translate(-8,0)\">  <svg x=\"66.08057937528565%\" y=\"40\" height=\"18\" overflow=\"visible\" width=\"30\">    <path d=\"M 0 -9 l 6 18 L 0 25\" fill=\"none\" style=\"stroke:rgb(255.0, 0.0, 81.08083606031792);stroke-width:2\" />  </svg></g><g transform=\"translate(-6,0)\">  <svg x=\"66.08057937528565%\" y=\"40\" height=\"18\" overflow=\"visible\" width=\"30\">    <path d=\"M 0 -9 l 6 18 L 0 25\" fill=\"none\" style=\"stroke:rgb(255.0, 0.0, 81.08083606031792);stroke-width:2\" />  </svg></g><g transform=\"translate(-4,0)\">  <svg x=\"66.08057937528565%\" y=\"40\" height=\"18\" overflow=\"visible\" width=\"30\">    <path d=\"M 0 -9 l 6 18 L 0 25\" fill=\"none\" style=\"stroke:rgb(255.0, 0.0, 81.08083606031792);stroke-width:2\" />  </svg></g><g transform=\"translate(-2,0)\">  <svg x=\"66.08057937528565%\" y=\"40\" height=\"18\" overflow=\"visible\" width=\"30\">    <path d=\"M 0 -9 l 6 18 L 0 25\" fill=\"none\" style=\"stroke:rgb(255.0, 0.0, 81.08083606031792);stroke-width:2\" />  </svg></g><g transform=\"translate(0,0)\">  <svg x=\"50.73615625043464%\" y=\"40\" height=\"18\" overflow=\"visible\" width=\"30\">    <path d=\"M 0 -9 l 6 18 L 0 25\" fill=\"none\" style=\"stroke:rgb(255.0, 0.0, 81.08083606031792);stroke-width:2\" />  </svg></g><g transform=\"translate(2,0)\">  <svg x=\"50.73615625043464%\" y=\"40\" height=\"18\" overflow=\"visible\" width=\"30\">    <path d=\"M 0 -9 l 6 18 L 0 25\" fill=\"none\" style=\"stroke:rgb(255.0, 0.0, 81.08083606031792);stroke-width:2\" />  </svg></g><g transform=\"translate(4,0)\">  <svg x=\"50.73615625043464%\" y=\"40\" height=\"18\" overflow=\"visible\" width=\"30\">    <path d=\"M 0 -9 l 6 18 L 0 25\" fill=\"none\" style=\"stroke:rgb(255.0, 0.0, 81.08083606031792);stroke-width:2\" />  </svg></g><g transform=\"translate(6,0)\">  <svg x=\"50.73615625043464%\" y=\"40\" height=\"18\" overflow=\"visible\" width=\"30\">    <path d=\"M 0 -9 l 6 18 L 0 25\" fill=\"none\" style=\"stroke:rgb(255.0, 0.0, 81.08083606031792);stroke-width:2\" />  </svg></g><g transform=\"translate(-8,0)\">  <svg x=\"50.73615625043464%\" y=\"40\" height=\"18\" overflow=\"visible\" width=\"30\">    <path d=\"M 0 -9 l 6 18 L 0 25\" fill=\"none\" style=\"stroke:rgb(255.0, 0.0, 81.08083606031792);stroke-width:2\" />  </svg></g><g transform=\"translate(-6,0)\">  <svg x=\"50.73615625043464%\" y=\"40\" height=\"18\" overflow=\"visible\" width=\"30\">    <path d=\"M 0 -9 l 6 18 L 0 25\" fill=\"none\" style=\"stroke:rgb(255.0, 0.0, 81.08083606031792);stroke-width:2\" />  </svg></g><g transform=\"translate(-4,0)\">  <svg x=\"50.73615625043464%\" y=\"40\" height=\"18\" overflow=\"visible\" width=\"30\">    <path d=\"M 0 -9 l 6 18 L 0 25\" fill=\"none\" style=\"stroke:rgb(255.0, 0.0, 81.08083606031792);stroke-width:2\" />  </svg></g><g transform=\"translate(-2,0)\">  <svg x=\"50.73615625043464%\" y=\"40\" height=\"18\" overflow=\"visible\" width=\"30\">    <path d=\"M 0 -9 l 6 18 L 0 25\" fill=\"none\" style=\"stroke:rgb(255.0, 0.0, 81.08083606031792);stroke-width:2\" />  </svg></g><g transform=\"translate(0,0)\">  <svg x=\"42.8474406637085%\" y=\"40\" height=\"18\" overflow=\"visible\" width=\"30\">    <path d=\"M 0 -9 l 6 18 L 0 25\" fill=\"none\" style=\"stroke:rgb(255.0, 0.0, 81.08083606031792);stroke-width:2\" />  </svg></g><g transform=\"translate(2,0)\">  <svg x=\"42.8474406637085%\" y=\"40\" height=\"18\" overflow=\"visible\" width=\"30\">    <path d=\"M 0 -9 l 6 18 L 0 25\" fill=\"none\" style=\"stroke:rgb(255.0, 0.0, 81.08083606031792);stroke-width:2\" />  </svg></g><g transform=\"translate(4,0)\">  <svg x=\"42.8474406637085%\" y=\"40\" height=\"18\" overflow=\"visible\" width=\"30\">    <path d=\"M 0 -9 l 6 18 L 0 25\" fill=\"none\" style=\"stroke:rgb(255.0, 0.0, 81.08083606031792);stroke-width:2\" />  </svg></g><g transform=\"translate(6,0)\">  <svg x=\"42.8474406637085%\" y=\"40\" height=\"18\" overflow=\"visible\" width=\"30\">    <path d=\"M 0 -9 l 6 18 L 0 25\" fill=\"none\" style=\"stroke:rgb(255.0, 0.0, 81.08083606031792);stroke-width:2\" />  </svg></g><g transform=\"translate(-8,0)\">  <svg x=\"42.8474406637085%\" y=\"40\" height=\"18\" overflow=\"visible\" width=\"30\">    <path d=\"M 0 -9 l 6 18 L 0 25\" fill=\"none\" style=\"stroke:rgb(255.0, 0.0, 81.08083606031792);stroke-width:2\" />  </svg></g><g transform=\"translate(-6,0)\">  <svg x=\"42.8474406637085%\" y=\"40\" height=\"18\" overflow=\"visible\" width=\"30\">    <path d=\"M 0 -9 l 6 18 L 0 25\" fill=\"none\" style=\"stroke:rgb(255.0, 0.0, 81.08083606031792);stroke-width:2\" />  </svg></g><g transform=\"translate(-4,0)\">  <svg x=\"42.8474406637085%\" y=\"40\" height=\"18\" overflow=\"visible\" width=\"30\">    <path d=\"M 0 -9 l 6 18 L 0 25\" fill=\"none\" style=\"stroke:rgb(255.0, 0.0, 81.08083606031792);stroke-width:2\" />  </svg></g><g transform=\"translate(-2,0)\">  <svg x=\"42.8474406637085%\" y=\"40\" height=\"18\" overflow=\"visible\" width=\"30\">    <path d=\"M 0 -9 l 6 18 L 0 25\" fill=\"none\" style=\"stroke:rgb(255.0, 0.0, 81.08083606031792);stroke-width:2\" />  </svg></g><g transform=\"translate(0,0)\">  <svg x=\"36.4432612739571%\" y=\"40\" height=\"18\" overflow=\"visible\" width=\"30\">    <path d=\"M 0 -9 l 6 18 L 0 25\" fill=\"none\" style=\"stroke:rgb(255.0, 0.0, 81.08083606031792);stroke-width:2\" />  </svg></g><g transform=\"translate(2,0)\">  <svg x=\"36.4432612739571%\" y=\"40\" height=\"18\" overflow=\"visible\" width=\"30\">    <path d=\"M 0 -9 l 6 18 L 0 25\" fill=\"none\" style=\"stroke:rgb(255.0, 0.0, 81.08083606031792);stroke-width:2\" />  </svg></g><g transform=\"translate(4,0)\">  <svg x=\"36.4432612739571%\" y=\"40\" height=\"18\" overflow=\"visible\" width=\"30\">    <path d=\"M 0 -9 l 6 18 L 0 25\" fill=\"none\" style=\"stroke:rgb(255.0, 0.0, 81.08083606031792);stroke-width:2\" />  </svg></g><g transform=\"translate(6,0)\">  <svg x=\"36.4432612739571%\" y=\"40\" height=\"18\" overflow=\"visible\" width=\"30\">    <path d=\"M 0 -9 l 6 18 L 0 25\" fill=\"none\" style=\"stroke:rgb(255.0, 0.0, 81.08083606031792);stroke-width:2\" />  </svg></g><g transform=\"translate(-8,0)\">  <svg x=\"36.4432612739571%\" y=\"40\" height=\"18\" overflow=\"visible\" width=\"30\">    <path d=\"M 0 -9 l 6 18 L 0 25\" fill=\"none\" style=\"stroke:rgb(255.0, 0.0, 81.08083606031792);stroke-width:2\" />  </svg></g><g transform=\"translate(-6,0)\">  <svg x=\"36.4432612739571%\" y=\"40\" height=\"18\" overflow=\"visible\" width=\"30\">    <path d=\"M 0 -9 l 6 18 L 0 25\" fill=\"none\" style=\"stroke:rgb(255.0, 0.0, 81.08083606031792);stroke-width:2\" />  </svg></g><g transform=\"translate(-4,0)\">  <svg x=\"36.4432612739571%\" y=\"40\" height=\"18\" overflow=\"visible\" width=\"30\">    <path d=\"M 0 -9 l 6 18 L 0 25\" fill=\"none\" style=\"stroke:rgb(255.0, 0.0, 81.08083606031792);stroke-width:2\" />  </svg></g><g transform=\"translate(-2,0)\">  <svg x=\"36.4432612739571%\" y=\"40\" height=\"18\" overflow=\"visible\" width=\"30\">    <path d=\"M 0 -9 l 6 18 L 0 25\" fill=\"none\" style=\"stroke:rgb(255.0, 0.0, 81.08083606031792);stroke-width:2\" />  </svg></g><g transform=\"translate(0,0)\">  <svg x=\"30.569594259876734%\" y=\"40\" height=\"18\" overflow=\"visible\" width=\"30\">    <path d=\"M 0 -9 l 6 18 L 0 25\" fill=\"none\" style=\"stroke:rgb(255.0, 0.0, 81.08083606031792);stroke-width:2\" />  </svg></g><g transform=\"translate(2,0)\">  <svg x=\"30.569594259876734%\" y=\"40\" height=\"18\" overflow=\"visible\" width=\"30\">    <path d=\"M 0 -9 l 6 18 L 0 25\" fill=\"none\" style=\"stroke:rgb(255.0, 0.0, 81.08083606031792);stroke-width:2\" />  </svg></g><g transform=\"translate(4,0)\">  <svg x=\"30.569594259876734%\" y=\"40\" height=\"18\" overflow=\"visible\" width=\"30\">    <path d=\"M 0 -9 l 6 18 L 0 25\" fill=\"none\" style=\"stroke:rgb(255.0, 0.0, 81.08083606031792);stroke-width:2\" />  </svg></g><g transform=\"translate(6,0)\">  <svg x=\"30.569594259876734%\" y=\"40\" height=\"18\" overflow=\"visible\" width=\"30\">    <path d=\"M 0 -9 l 6 18 L 0 25\" fill=\"none\" style=\"stroke:rgb(255.0, 0.0, 81.08083606031792);stroke-width:2\" />  </svg></g><g transform=\"translate(-8,0)\">  <svg x=\"30.569594259876734%\" y=\"40\" height=\"18\" overflow=\"visible\" width=\"30\">    <path d=\"M 0 -9 l 6 18 L 0 25\" fill=\"none\" style=\"stroke:rgb(255.0, 0.0, 81.08083606031792);stroke-width:2\" />  </svg></g><g transform=\"translate(-6,0)\">  <svg x=\"30.569594259876734%\" y=\"40\" height=\"18\" overflow=\"visible\" width=\"30\">    <path d=\"M 0 -9 l 6 18 L 0 25\" fill=\"none\" style=\"stroke:rgb(255.0, 0.0, 81.08083606031792);stroke-width:2\" />  </svg></g><g transform=\"translate(-4,0)\">  <svg x=\"30.569594259876734%\" y=\"40\" height=\"18\" overflow=\"visible\" width=\"30\">    <path d=\"M 0 -9 l 6 18 L 0 25\" fill=\"none\" style=\"stroke:rgb(255.0, 0.0, 81.08083606031792);stroke-width:2\" />  </svg></g><g transform=\"translate(-2,0)\">  <svg x=\"30.569594259876734%\" y=\"40\" height=\"18\" overflow=\"visible\" width=\"30\">    <path d=\"M 0 -9 l 6 18 L 0 25\" fill=\"none\" style=\"stroke:rgb(255.0, 0.0, 81.08083606031792);stroke-width:2\" />  </svg></g><g transform=\"translate(0,0)\">  <svg x=\"25.95909030387026%\" y=\"40\" height=\"18\" overflow=\"visible\" width=\"30\">    <path d=\"M 0 -9 l 6 18 L 0 25\" fill=\"none\" style=\"stroke:rgb(255.0, 0.0, 81.08083606031792);stroke-width:2\" />  </svg></g><g transform=\"translate(2,0)\">  <svg x=\"25.95909030387026%\" y=\"40\" height=\"18\" overflow=\"visible\" width=\"30\">    <path d=\"M 0 -9 l 6 18 L 0 25\" fill=\"none\" style=\"stroke:rgb(255.0, 0.0, 81.08083606031792);stroke-width:2\" />  </svg></g><g transform=\"translate(4,0)\">  <svg x=\"25.95909030387026%\" y=\"40\" height=\"18\" overflow=\"visible\" width=\"30\">    <path d=\"M 0 -9 l 6 18 L 0 25\" fill=\"none\" style=\"stroke:rgb(255.0, 0.0, 81.08083606031792);stroke-width:2\" />  </svg></g><g transform=\"translate(6,0)\">  <svg x=\"25.95909030387026%\" y=\"40\" height=\"18\" overflow=\"visible\" width=\"30\">    <path d=\"M 0 -9 l 6 18 L 0 25\" fill=\"none\" style=\"stroke:rgb(255.0, 0.0, 81.08083606031792);stroke-width:2\" />  </svg></g><g transform=\"translate(-8,0)\">  <svg x=\"25.95909030387026%\" y=\"40\" height=\"18\" overflow=\"visible\" width=\"30\">    <path d=\"M 0 -9 l 6 18 L 0 25\" fill=\"none\" style=\"stroke:rgb(255.0, 0.0, 81.08083606031792);stroke-width:2\" />  </svg></g><g transform=\"translate(-6,0)\">  <svg x=\"25.95909030387026%\" y=\"40\" height=\"18\" overflow=\"visible\" width=\"30\">    <path d=\"M 0 -9 l 6 18 L 0 25\" fill=\"none\" style=\"stroke:rgb(255.0, 0.0, 81.08083606031792);stroke-width:2\" />  </svg></g><g transform=\"translate(-4,0)\">  <svg x=\"25.95909030387026%\" y=\"40\" height=\"18\" overflow=\"visible\" width=\"30\">    <path d=\"M 0 -9 l 6 18 L 0 25\" fill=\"none\" style=\"stroke:rgb(255.0, 0.0, 81.08083606031792);stroke-width:2\" />  </svg></g><g transform=\"translate(-2,0)\">  <svg x=\"25.95909030387026%\" y=\"40\" height=\"18\" overflow=\"visible\" width=\"30\">    <path d=\"M 0 -9 l 6 18 L 0 25\" fill=\"none\" style=\"stroke:rgb(255.0, 0.0, 81.08083606031792);stroke-width:2\" />  </svg></g><g transform=\"translate(0,0)\">  <svg x=\"22.478967808900748%\" y=\"40\" height=\"18\" overflow=\"visible\" width=\"30\">    <path d=\"M 0 -9 l 6 18 L 0 25\" fill=\"none\" style=\"stroke:rgb(255.0, 0.0, 81.08083606031792);stroke-width:2\" />  </svg></g><g transform=\"translate(2,0)\">  <svg x=\"22.478967808900748%\" y=\"40\" height=\"18\" overflow=\"visible\" width=\"30\">    <path d=\"M 0 -9 l 6 18 L 0 25\" fill=\"none\" style=\"stroke:rgb(255.0, 0.0, 81.08083606031792);stroke-width:2\" />  </svg></g><g transform=\"translate(4,0)\">  <svg x=\"22.478967808900748%\" y=\"40\" height=\"18\" overflow=\"visible\" width=\"30\">    <path d=\"M 0 -9 l 6 18 L 0 25\" fill=\"none\" style=\"stroke:rgb(255.0, 0.0, 81.08083606031792);stroke-width:2\" />  </svg></g><g transform=\"translate(6,0)\">  <svg x=\"22.478967808900748%\" y=\"40\" height=\"18\" overflow=\"visible\" width=\"30\">    <path d=\"M 0 -9 l 6 18 L 0 25\" fill=\"none\" style=\"stroke:rgb(255.0, 0.0, 81.08083606031792);stroke-width:2\" />  </svg></g><g transform=\"translate(-8,0)\">  <svg x=\"22.478967808900748%\" y=\"40\" height=\"18\" overflow=\"visible\" width=\"30\">    <path d=\"M 0 -9 l 6 18 L 0 25\" fill=\"none\" style=\"stroke:rgb(255.0, 0.0, 81.08083606031792);stroke-width:2\" />  </svg></g><g transform=\"translate(-6,0)\">  <svg x=\"22.478967808900748%\" y=\"40\" height=\"18\" overflow=\"visible\" width=\"30\">    <path d=\"M 0 -9 l 6 18 L 0 25\" fill=\"none\" style=\"stroke:rgb(255.0, 0.0, 81.08083606031792);stroke-width:2\" />  </svg></g><g transform=\"translate(-4,0)\">  <svg x=\"22.478967808900748%\" y=\"40\" height=\"18\" overflow=\"visible\" width=\"30\">    <path d=\"M 0 -9 l 6 18 L 0 25\" fill=\"none\" style=\"stroke:rgb(255.0, 0.0, 81.08083606031792);stroke-width:2\" />  </svg></g><g transform=\"translate(-2,0)\">  <svg x=\"22.478967808900748%\" y=\"40\" height=\"18\" overflow=\"visible\" width=\"30\">    <path d=\"M 0 -9 l 6 18 L 0 25\" fill=\"none\" style=\"stroke:rgb(255.0, 0.0, 81.08083606031792);stroke-width:2\" />  </svg></g><g transform=\"translate(0,0)\">  <svg x=\"19.60827230530067%\" y=\"40\" height=\"18\" overflow=\"visible\" width=\"30\">    <path d=\"M 0 -9 l 6 18 L 0 25\" fill=\"none\" style=\"stroke:rgb(255.0, 0.0, 81.08083606031792);stroke-width:2\" />  </svg></g><g transform=\"translate(2,0)\">  <svg x=\"19.60827230530067%\" y=\"40\" height=\"18\" overflow=\"visible\" width=\"30\">    <path d=\"M 0 -9 l 6 18 L 0 25\" fill=\"none\" style=\"stroke:rgb(255.0, 0.0, 81.08083606031792);stroke-width:2\" />  </svg></g><g transform=\"translate(4,0)\">  <svg x=\"19.60827230530067%\" y=\"40\" height=\"18\" overflow=\"visible\" width=\"30\">    <path d=\"M 0 -9 l 6 18 L 0 25\" fill=\"none\" style=\"stroke:rgb(255.0, 0.0, 81.08083606031792);stroke-width:2\" />  </svg></g><g transform=\"translate(6,0)\">  <svg x=\"19.60827230530067%\" y=\"40\" height=\"18\" overflow=\"visible\" width=\"30\">    <path d=\"M 0 -9 l 6 18 L 0 25\" fill=\"none\" style=\"stroke:rgb(255.0, 0.0, 81.08083606031792);stroke-width:2\" />  </svg></g><g transform=\"translate(-8,0)\">  <svg x=\"19.60827230530067%\" y=\"40\" height=\"18\" overflow=\"visible\" width=\"30\">    <path d=\"M 0 -9 l 6 18 L 0 25\" fill=\"none\" style=\"stroke:rgb(255.0, 0.0, 81.08083606031792);stroke-width:2\" />  </svg></g><g transform=\"translate(-6,0)\">  <svg x=\"19.60827230530067%\" y=\"40\" height=\"18\" overflow=\"visible\" width=\"30\">    <path d=\"M 0 -9 l 6 18 L 0 25\" fill=\"none\" style=\"stroke:rgb(255.0, 0.0, 81.08083606031792);stroke-width:2\" />  </svg></g><g transform=\"translate(-4,0)\">  <svg x=\"19.60827230530067%\" y=\"40\" height=\"18\" overflow=\"visible\" width=\"30\">    <path d=\"M 0 -9 l 6 18 L 0 25\" fill=\"none\" style=\"stroke:rgb(255.0, 0.0, 81.08083606031792);stroke-width:2\" />  </svg></g><g transform=\"translate(-2,0)\">  <svg x=\"19.60827230530067%\" y=\"40\" height=\"18\" overflow=\"visible\" width=\"30\">    <path d=\"M 0 -9 l 6 18 L 0 25\" fill=\"none\" style=\"stroke:rgb(255.0, 0.0, 81.08083606031792);stroke-width:2\" />  </svg></g><g transform=\"translate(0,0)\">  <svg x=\"16.857235300995058%\" y=\"40\" height=\"18\" overflow=\"visible\" width=\"30\">    <path d=\"M 0 -9 l 6 18 L 0 25\" fill=\"none\" style=\"stroke:rgb(255.0, 0.0, 81.08083606031792);stroke-width:2\" />  </svg></g><g transform=\"translate(2,0)\">  <svg x=\"16.857235300995058%\" y=\"40\" height=\"18\" overflow=\"visible\" width=\"30\">    <path d=\"M 0 -9 l 6 18 L 0 25\" fill=\"none\" style=\"stroke:rgb(255.0, 0.0, 81.08083606031792);stroke-width:2\" />  </svg></g><g transform=\"translate(4,0)\">  <svg x=\"16.857235300995058%\" y=\"40\" height=\"18\" overflow=\"visible\" width=\"30\">    <path d=\"M 0 -9 l 6 18 L 0 25\" fill=\"none\" style=\"stroke:rgb(255.0, 0.0, 81.08083606031792);stroke-width:2\" />  </svg></g><g transform=\"translate(6,0)\">  <svg x=\"16.857235300995058%\" y=\"40\" height=\"18\" overflow=\"visible\" width=\"30\">    <path d=\"M 0 -9 l 6 18 L 0 25\" fill=\"none\" style=\"stroke:rgb(255.0, 0.0, 81.08083606031792);stroke-width:2\" />  </svg></g><g transform=\"translate(-8,0)\">  <svg x=\"16.857235300995058%\" y=\"40\" height=\"18\" overflow=\"visible\" width=\"30\">    <path d=\"M 0 -9 l 6 18 L 0 25\" fill=\"none\" style=\"stroke:rgb(255.0, 0.0, 81.08083606031792);stroke-width:2\" />  </svg></g><g transform=\"translate(-6,0)\">  <svg x=\"16.857235300995058%\" y=\"40\" height=\"18\" overflow=\"visible\" width=\"30\">    <path d=\"M 0 -9 l 6 18 L 0 25\" fill=\"none\" style=\"stroke:rgb(255.0, 0.0, 81.08083606031792);stroke-width:2\" />  </svg></g><g transform=\"translate(-4,0)\">  <svg x=\"16.857235300995058%\" y=\"40\" height=\"18\" overflow=\"visible\" width=\"30\">    <path d=\"M 0 -9 l 6 18 L 0 25\" fill=\"none\" style=\"stroke:rgb(255.0, 0.0, 81.08083606031792);stroke-width:2\" />  </svg></g><g transform=\"translate(-2,0)\">  <svg x=\"16.857235300995058%\" y=\"40\" height=\"18\" overflow=\"visible\" width=\"30\">    <path d=\"M 0 -9 l 6 18 L 0 25\" fill=\"none\" style=\"stroke:rgb(255.0, 0.0, 81.08083606031792);stroke-width:2\" />  </svg></g><g transform=\"translate(0,0)\">  <svg x=\"14.253867486498073%\" y=\"40\" height=\"18\" overflow=\"visible\" width=\"30\">    <path d=\"M 0 -9 l 6 18 L 0 25\" fill=\"none\" style=\"stroke:rgb(255.0, 0.0, 81.08083606031792);stroke-width:2\" />  </svg></g><g transform=\"translate(2,0)\">  <svg x=\"14.253867486498073%\" y=\"40\" height=\"18\" overflow=\"visible\" width=\"30\">    <path d=\"M 0 -9 l 6 18 L 0 25\" fill=\"none\" style=\"stroke:rgb(255.0, 0.0, 81.08083606031792);stroke-width:2\" />  </svg></g><g transform=\"translate(4,0)\">  <svg x=\"14.253867486498073%\" y=\"40\" height=\"18\" overflow=\"visible\" width=\"30\">    <path d=\"M 0 -9 l 6 18 L 0 25\" fill=\"none\" style=\"stroke:rgb(255.0, 0.0, 81.08083606031792);stroke-width:2\" />  </svg></g><g transform=\"translate(6,0)\">  <svg x=\"14.253867486498073%\" y=\"40\" height=\"18\" overflow=\"visible\" width=\"30\">    <path d=\"M 0 -9 l 6 18 L 0 25\" fill=\"none\" style=\"stroke:rgb(255.0, 0.0, 81.08083606031792);stroke-width:2\" />  </svg></g><g transform=\"translate(-8,0)\">  <svg x=\"14.253867486498073%\" y=\"40\" height=\"18\" overflow=\"visible\" width=\"30\">    <path d=\"M 0 -9 l 6 18 L 0 25\" fill=\"none\" style=\"stroke:rgb(255.0, 0.0, 81.08083606031792);stroke-width:2\" />  </svg></g><g transform=\"translate(-6,0)\">  <svg x=\"14.253867486498073%\" y=\"40\" height=\"18\" overflow=\"visible\" width=\"30\">    <path d=\"M 0 -9 l 6 18 L 0 25\" fill=\"none\" style=\"stroke:rgb(255.0, 0.0, 81.08083606031792);stroke-width:2\" />  </svg></g><g transform=\"translate(-4,0)\">  <svg x=\"14.253867486498073%\" y=\"40\" height=\"18\" overflow=\"visible\" width=\"30\">    <path d=\"M 0 -9 l 6 18 L 0 25\" fill=\"none\" style=\"stroke:rgb(255.0, 0.0, 81.08083606031792);stroke-width:2\" />  </svg></g><g transform=\"translate(-2,0)\">  <svg x=\"14.253867486498073%\" y=\"40\" height=\"18\" overflow=\"visible\" width=\"30\">    <path d=\"M 0 -9 l 6 18 L 0 25\" fill=\"none\" style=\"stroke:rgb(255.0, 0.0, 81.08083606031792);stroke-width:2\" />  </svg></g><g transform=\"translate(0,0)\">  <svg x=\"12.371373068407262%\" y=\"40\" height=\"18\" overflow=\"visible\" width=\"30\">    <path d=\"M 0 -9 l 6 18 L 0 25\" fill=\"none\" style=\"stroke:rgb(255.0, 0.0, 81.08083606031792);stroke-width:2\" />  </svg></g><g transform=\"translate(2,0)\">  <svg x=\"12.371373068407262%\" y=\"40\" height=\"18\" overflow=\"visible\" width=\"30\">    <path d=\"M 0 -9 l 6 18 L 0 25\" fill=\"none\" style=\"stroke:rgb(255.0, 0.0, 81.08083606031792);stroke-width:2\" />  </svg></g><g transform=\"translate(4,0)\">  <svg x=\"12.371373068407262%\" y=\"40\" height=\"18\" overflow=\"visible\" width=\"30\">    <path d=\"M 0 -9 l 6 18 L 0 25\" fill=\"none\" style=\"stroke:rgb(255.0, 0.0, 81.08083606031792);stroke-width:2\" />  </svg></g><g transform=\"translate(6,0)\">  <svg x=\"12.371373068407262%\" y=\"40\" height=\"18\" overflow=\"visible\" width=\"30\">    <path d=\"M 0 -9 l 6 18 L 0 25\" fill=\"none\" style=\"stroke:rgb(255.0, 0.0, 81.08083606031792);stroke-width:2\" />  </svg></g><g transform=\"translate(-8,0)\">  <svg x=\"12.371373068407262%\" y=\"40\" height=\"18\" overflow=\"visible\" width=\"30\">    <path d=\"M 0 -9 l 6 18 L 0 25\" fill=\"none\" style=\"stroke:rgb(255.0, 0.0, 81.08083606031792);stroke-width:2\" />  </svg></g><g transform=\"translate(-6,0)\">  <svg x=\"12.371373068407262%\" y=\"40\" height=\"18\" overflow=\"visible\" width=\"30\">    <path d=\"M 0 -9 l 6 18 L 0 25\" fill=\"none\" style=\"stroke:rgb(255.0, 0.0, 81.08083606031792);stroke-width:2\" />  </svg></g><g transform=\"translate(-4,0)\">  <svg x=\"12.371373068407262%\" y=\"40\" height=\"18\" overflow=\"visible\" width=\"30\">    <path d=\"M 0 -9 l 6 18 L 0 25\" fill=\"none\" style=\"stroke:rgb(255.0, 0.0, 81.08083606031792);stroke-width:2\" />  </svg></g><g transform=\"translate(-2,0)\">  <svg x=\"12.371373068407262%\" y=\"40\" height=\"18\" overflow=\"visible\" width=\"30\">    <path d=\"M 0 -9 l 6 18 L 0 25\" fill=\"none\" style=\"stroke:rgb(255.0, 0.0, 81.08083606031792);stroke-width:2\" />  </svg></g><g transform=\"translate(0,0)\">  <svg x=\"10.984918689536041%\" y=\"40\" height=\"18\" overflow=\"visible\" width=\"30\">    <path d=\"M 0 -9 l 6 18 L 0 25\" fill=\"none\" style=\"stroke:rgb(255.0, 0.0, 81.08083606031792);stroke-width:2\" />  </svg></g><g transform=\"translate(2,0)\">  <svg x=\"10.984918689536041%\" y=\"40\" height=\"18\" overflow=\"visible\" width=\"30\">    <path d=\"M 0 -9 l 6 18 L 0 25\" fill=\"none\" style=\"stroke:rgb(255.0, 0.0, 81.08083606031792);stroke-width:2\" />  </svg></g><g transform=\"translate(4,0)\">  <svg x=\"10.984918689536041%\" y=\"40\" height=\"18\" overflow=\"visible\" width=\"30\">    <path d=\"M 0 -9 l 6 18 L 0 25\" fill=\"none\" style=\"stroke:rgb(255.0, 0.0, 81.08083606031792);stroke-width:2\" />  </svg></g><g transform=\"translate(6,0)\">  <svg x=\"10.984918689536041%\" y=\"40\" height=\"18\" overflow=\"visible\" width=\"30\">    <path d=\"M 0 -9 l 6 18 L 0 25\" fill=\"none\" style=\"stroke:rgb(255.0, 0.0, 81.08083606031792);stroke-width:2\" />  </svg></g><g transform=\"translate(-8,0)\">  <svg x=\"10.984918689536041%\" y=\"40\" height=\"18\" overflow=\"visible\" width=\"30\">    <path d=\"M 0 -9 l 6 18 L 0 25\" fill=\"none\" style=\"stroke:rgb(255.0, 0.0, 81.08083606031792);stroke-width:2\" />  </svg></g><g transform=\"translate(-6,0)\">  <svg x=\"10.984918689536041%\" y=\"40\" height=\"18\" overflow=\"visible\" width=\"30\">    <path d=\"M 0 -9 l 6 18 L 0 25\" fill=\"none\" style=\"stroke:rgb(255.0, 0.0, 81.08083606031792);stroke-width:2\" />  </svg></g><g transform=\"translate(-4,0)\">  <svg x=\"10.984918689536041%\" y=\"40\" height=\"18\" overflow=\"visible\" width=\"30\">    <path d=\"M 0 -9 l 6 18 L 0 25\" fill=\"none\" style=\"stroke:rgb(255.0, 0.0, 81.08083606031792);stroke-width:2\" />  </svg></g><g transform=\"translate(-2,0)\">  <svg x=\"10.984918689536041%\" y=\"40\" height=\"18\" overflow=\"visible\" width=\"30\">    <path d=\"M 0 -9 l 6 18 L 0 25\" fill=\"none\" style=\"stroke:rgb(255.0, 0.0, 81.08083606031792);stroke-width:2\" />  </svg></g><g transform=\"translate(0,0)\">  <svg x=\"9.81856609679671%\" y=\"40\" height=\"18\" overflow=\"visible\" width=\"30\">    <path d=\"M 0 -9 l 6 18 L 0 25\" fill=\"none\" style=\"stroke:rgb(255.0, 0.0, 81.08083606031792);stroke-width:2\" />  </svg></g><g transform=\"translate(2,0)\">  <svg x=\"9.81856609679671%\" y=\"40\" height=\"18\" overflow=\"visible\" width=\"30\">    <path d=\"M 0 -9 l 6 18 L 0 25\" fill=\"none\" style=\"stroke:rgb(255.0, 0.0, 81.08083606031792);stroke-width:2\" />  </svg></g><g transform=\"translate(4,0)\">  <svg x=\"9.81856609679671%\" y=\"40\" height=\"18\" overflow=\"visible\" width=\"30\">    <path d=\"M 0 -9 l 6 18 L 0 25\" fill=\"none\" style=\"stroke:rgb(255.0, 0.0, 81.08083606031792);stroke-width:2\" />  </svg></g><g transform=\"translate(6,0)\">  <svg x=\"9.81856609679671%\" y=\"40\" height=\"18\" overflow=\"visible\" width=\"30\">    <path d=\"M 0 -9 l 6 18 L 0 25\" fill=\"none\" style=\"stroke:rgb(255.0, 0.0, 81.08083606031792);stroke-width:2\" />  </svg></g><g transform=\"translate(-8,0)\">  <svg x=\"9.81856609679671%\" y=\"40\" height=\"18\" overflow=\"visible\" width=\"30\">    <path d=\"M 0 -9 l 6 18 L 0 25\" fill=\"none\" style=\"stroke:rgb(255.0, 0.0, 81.08083606031792);stroke-width:2\" />  </svg></g><g transform=\"translate(-6,0)\">  <svg x=\"9.81856609679671%\" y=\"40\" height=\"18\" overflow=\"visible\" width=\"30\">    <path d=\"M 0 -9 l 6 18 L 0 25\" fill=\"none\" style=\"stroke:rgb(255.0, 0.0, 81.08083606031792);stroke-width:2\" />  </svg></g><g transform=\"translate(-4,0)\">  <svg x=\"9.81856609679671%\" y=\"40\" height=\"18\" overflow=\"visible\" width=\"30\">    <path d=\"M 0 -9 l 6 18 L 0 25\" fill=\"none\" style=\"stroke:rgb(255.0, 0.0, 81.08083606031792);stroke-width:2\" />  </svg></g><g transform=\"translate(-2,0)\">  <svg x=\"9.81856609679671%\" y=\"40\" height=\"18\" overflow=\"visible\" width=\"30\">    <path d=\"M 0 -9 l 6 18 L 0 25\" fill=\"none\" style=\"stroke:rgb(255.0, 0.0, 81.08083606031792);stroke-width:2\" />  </svg></g><g transform=\"translate(0,0)\">  <svg x=\"9.031228927506755%\" y=\"40\" height=\"18\" overflow=\"visible\" width=\"30\">    <path d=\"M 0 -9 l 6 18 L 0 25\" fill=\"none\" style=\"stroke:rgb(255.0, 0.0, 81.08083606031792);stroke-width:2\" />  </svg></g><g transform=\"translate(2,0)\">  <svg x=\"9.031228927506755%\" y=\"40\" height=\"18\" overflow=\"visible\" width=\"30\">    <path d=\"M 0 -9 l 6 18 L 0 25\" fill=\"none\" style=\"stroke:rgb(255.0, 0.0, 81.08083606031792);stroke-width:2\" />  </svg></g><g transform=\"translate(4,0)\">  <svg x=\"9.031228927506755%\" y=\"40\" height=\"18\" overflow=\"visible\" width=\"30\">    <path d=\"M 0 -9 l 6 18 L 0 25\" fill=\"none\" style=\"stroke:rgb(255.0, 0.0, 81.08083606031792);stroke-width:2\" />  </svg></g><g transform=\"translate(6,0)\">  <svg x=\"9.031228927506755%\" y=\"40\" height=\"18\" overflow=\"visible\" width=\"30\">    <path d=\"M 0 -9 l 6 18 L 0 25\" fill=\"none\" style=\"stroke:rgb(255.0, 0.0, 81.08083606031792);stroke-width:2\" />  </svg></g><g transform=\"translate(-8,0)\">  <svg x=\"9.031228927506755%\" y=\"40\" height=\"18\" overflow=\"visible\" width=\"30\">    <path d=\"M 0 -9 l 6 18 L 0 25\" fill=\"none\" style=\"stroke:rgb(255.0, 0.0, 81.08083606031792);stroke-width:2\" />  </svg></g><g transform=\"translate(-6,0)\">  <svg x=\"9.031228927506755%\" y=\"40\" height=\"18\" overflow=\"visible\" width=\"30\">    <path d=\"M 0 -9 l 6 18 L 0 25\" fill=\"none\" style=\"stroke:rgb(255.0, 0.0, 81.08083606031792);stroke-width:2\" />  </svg></g><g transform=\"translate(-4,0)\">  <svg x=\"9.031228927506755%\" y=\"40\" height=\"18\" overflow=\"visible\" width=\"30\">    <path d=\"M 0 -9 l 6 18 L 0 25\" fill=\"none\" style=\"stroke:rgb(255.0, 0.0, 81.08083606031792);stroke-width:2\" />  </svg></g><g transform=\"translate(-2,0)\">  <svg x=\"9.031228927506755%\" y=\"40\" height=\"18\" overflow=\"visible\" width=\"30\">    <path d=\"M 0 -9 l 6 18 L 0 25\" fill=\"none\" style=\"stroke:rgb(255.0, 0.0, 81.08083606031792);stroke-width:2\" />  </svg></g><g transform=\"translate(0,0)\">  <svg x=\"8.647879763204608%\" y=\"40\" height=\"18\" overflow=\"visible\" width=\"30\">    <path d=\"M 0 -9 l 6 18 L 0 25\" fill=\"none\" style=\"stroke:rgb(255.0, 0.0, 81.08083606031792);stroke-width:2\" />  </svg></g><g transform=\"translate(2,0)\">  <svg x=\"8.647879763204608%\" y=\"40\" height=\"18\" overflow=\"visible\" width=\"30\">    <path d=\"M 0 -9 l 6 18 L 0 25\" fill=\"none\" style=\"stroke:rgb(255.0, 0.0, 81.08083606031792);stroke-width:2\" />  </svg></g><g transform=\"translate(4,0)\">  <svg x=\"8.647879763204608%\" y=\"40\" height=\"18\" overflow=\"visible\" width=\"30\">    <path d=\"M 0 -9 l 6 18 L 0 25\" fill=\"none\" style=\"stroke:rgb(255.0, 0.0, 81.08083606031792);stroke-width:2\" />  </svg></g><g transform=\"translate(6,0)\">  <svg x=\"8.647879763204608%\" y=\"40\" height=\"18\" overflow=\"visible\" width=\"30\">    <path d=\"M 0 -9 l 6 18 L 0 25\" fill=\"none\" style=\"stroke:rgb(255.0, 0.0, 81.08083606031792);stroke-width:2\" />  </svg></g><g transform=\"translate(-8,0)\">  <svg x=\"8.647879763204608%\" y=\"40\" height=\"18\" overflow=\"visible\" width=\"30\">    <path d=\"M 0 -9 l 6 18 L 0 25\" fill=\"none\" style=\"stroke:rgb(255.0, 0.0, 81.08083606031792);stroke-width:2\" />  </svg></g><g transform=\"translate(-6,0)\">  <svg x=\"8.647879763204608%\" y=\"40\" height=\"18\" overflow=\"visible\" width=\"30\">    <path d=\"M 0 -9 l 6 18 L 0 25\" fill=\"none\" style=\"stroke:rgb(255.0, 0.0, 81.08083606031792);stroke-width:2\" />  </svg></g><g transform=\"translate(-4,0)\">  <svg x=\"8.647879763204608%\" y=\"40\" height=\"18\" overflow=\"visible\" width=\"30\">    <path d=\"M 0 -9 l 6 18 L 0 25\" fill=\"none\" style=\"stroke:rgb(255.0, 0.0, 81.08083606031792);stroke-width:2\" />  </svg></g><g transform=\"translate(-2,0)\">  <svg x=\"8.647879763204608%\" y=\"40\" height=\"18\" overflow=\"visible\" width=\"30\">    <path d=\"M 0 -9 l 6 18 L 0 25\" fill=\"none\" style=\"stroke:rgb(255.0, 0.0, 81.08083606031792);stroke-width:2\" />  </svg></g><g transform=\"translate(0,0)\">  <svg x=\"8.481349383681486%\" y=\"40\" height=\"18\" overflow=\"visible\" width=\"30\">    <path d=\"M 0 -9 l 6 18 L 0 25\" fill=\"none\" style=\"stroke:rgb(255.0, 0.0, 81.08083606031792);stroke-width:2\" />  </svg></g><g transform=\"translate(2,0)\">  <svg x=\"8.481349383681486%\" y=\"40\" height=\"18\" overflow=\"visible\" width=\"30\">    <path d=\"M 0 -9 l 6 18 L 0 25\" fill=\"none\" style=\"stroke:rgb(255.0, 0.0, 81.08083606031792);stroke-width:2\" />  </svg></g><g transform=\"translate(4,0)\">  <svg x=\"8.481349383681486%\" y=\"40\" height=\"18\" overflow=\"visible\" width=\"30\">    <path d=\"M 0 -9 l 6 18 L 0 25\" fill=\"none\" style=\"stroke:rgb(255.0, 0.0, 81.08083606031792);stroke-width:2\" />  </svg></g><g transform=\"translate(6,0)\">  <svg x=\"8.481349383681486%\" y=\"40\" height=\"18\" overflow=\"visible\" width=\"30\">    <path d=\"M 0 -9 l 6 18 L 0 25\" fill=\"none\" style=\"stroke:rgb(255.0, 0.0, 81.08083606031792);stroke-width:2\" />  </svg></g><g transform=\"translate(-8,0)\">  <svg x=\"8.481349383681486%\" y=\"40\" height=\"18\" overflow=\"visible\" width=\"30\">    <path d=\"M 0 -9 l 6 18 L 0 25\" fill=\"none\" style=\"stroke:rgb(255.0, 0.0, 81.08083606031792);stroke-width:2\" />  </svg></g><g transform=\"translate(-6,0)\">  <svg x=\"8.481349383681486%\" y=\"40\" height=\"18\" overflow=\"visible\" width=\"30\">    <path d=\"M 0 -9 l 6 18 L 0 25\" fill=\"none\" style=\"stroke:rgb(255.0, 0.0, 81.08083606031792);stroke-width:2\" />  </svg></g><g transform=\"translate(-4,0)\">  <svg x=\"8.481349383681486%\" y=\"40\" height=\"18\" overflow=\"visible\" width=\"30\">    <path d=\"M 0 -9 l 6 18 L 0 25\" fill=\"none\" style=\"stroke:rgb(255.0, 0.0, 81.08083606031792);stroke-width:2\" />  </svg></g><g transform=\"translate(-2,0)\">  <svg x=\"8.481349383681486%\" y=\"40\" height=\"18\" overflow=\"visible\" width=\"30\">    <path d=\"M 0 -9 l 6 18 L 0 25\" fill=\"none\" style=\"stroke:rgb(255.0, 0.0, 81.08083606031792);stroke-width:2\" />  </svg></g><g transform=\"translate(0,0)\">  <svg x=\"8.333730122499649%\" y=\"40\" height=\"18\" overflow=\"visible\" width=\"30\">    <path d=\"M 0 -9 l 6 18 L 0 25\" fill=\"none\" style=\"stroke:rgb(255.0, 0.0, 81.08083606031792);stroke-width:2\" />  </svg></g><g transform=\"translate(2,0)\">  <svg x=\"8.333730122499649%\" y=\"40\" height=\"18\" overflow=\"visible\" width=\"30\">    <path d=\"M 0 -9 l 6 18 L 0 25\" fill=\"none\" style=\"stroke:rgb(255.0, 0.0, 81.08083606031792);stroke-width:2\" />  </svg></g><g transform=\"translate(4,0)\">  <svg x=\"8.333730122499649%\" y=\"40\" height=\"18\" overflow=\"visible\" width=\"30\">    <path d=\"M 0 -9 l 6 18 L 0 25\" fill=\"none\" style=\"stroke:rgb(255.0, 0.0, 81.08083606031792);stroke-width:2\" />  </svg></g><g transform=\"translate(6,0)\">  <svg x=\"8.333730122499649%\" y=\"40\" height=\"18\" overflow=\"visible\" width=\"30\">    <path d=\"M 0 -9 l 6 18 L 0 25\" fill=\"none\" style=\"stroke:rgb(255.0, 0.0, 81.08083606031792);stroke-width:2\" />  </svg></g><g transform=\"translate(-8,0)\">  <svg x=\"8.333730122499649%\" y=\"40\" height=\"18\" overflow=\"visible\" width=\"30\">    <path d=\"M 0 -9 l 6 18 L 0 25\" fill=\"none\" style=\"stroke:rgb(255.0, 0.0, 81.08083606031792);stroke-width:2\" />  </svg></g><g transform=\"translate(-6,0)\">  <svg x=\"8.333730122499649%\" y=\"40\" height=\"18\" overflow=\"visible\" width=\"30\">    <path d=\"M 0 -9 l 6 18 L 0 25\" fill=\"none\" style=\"stroke:rgb(255.0, 0.0, 81.08083606031792);stroke-width:2\" />  </svg></g><g transform=\"translate(-4,0)\">  <svg x=\"8.333730122499649%\" y=\"40\" height=\"18\" overflow=\"visible\" width=\"30\">    <path d=\"M 0 -9 l 6 18 L 0 25\" fill=\"none\" style=\"stroke:rgb(255.0, 0.0, 81.08083606031792);stroke-width:2\" />  </svg></g><g transform=\"translate(-2,0)\">  <svg x=\"8.333730122499649%\" y=\"40\" height=\"18\" overflow=\"visible\" width=\"30\">    <path d=\"M 0 -9 l 6 18 L 0 25\" fill=\"none\" style=\"stroke:rgb(255.0, 0.0, 81.08083606031792);stroke-width:2\" />  </svg></g><rect transform=\"translate(-8,0)\" x=\"83.172734826608%\" y=\"40\" width=\"8\" height=\"18\" style=\"fill:rgb(255.0, 0.0, 81.08083606031792)\"/><g transform=\"translate(-11.5,0)\">  <svg x=\"8.333333251585156%\" y=\"40\" height=\"18\" overflow=\"visible\" width=\"30\">    <path d=\"M 10 -9 l 6 18 L 10 25 L 0 25 L 0 -9\" fill=\"#ffffff\" style=\"stroke:rgb(255,255,255);stroke-width:2\" />  </svg></g><g transform=\"translate(-1.5,0)\">  <svg x=\"83.172734826608%\" y=\"40\" height=\"18\" overflow=\"visible\" width=\"30\">    <path d=\"M 0 -9 l 6 18 L 0 25\" fill=\"none\" style=\"stroke:rgb(255, 195, 213);stroke-width:2\" />  </svg></g><rect x=\"66.08057937528565%\" y=\"40\" height=\"20\" width=\"17.092155451322355%\"      onmouseover=\"document.getElementById('_tp_apojgywhhjitpqckkhgy_ind_5').style.textDecoration = 'underline';document.getElementById('_fs_apojgywhhjitpqckkhgy_ind_5').style.opacity = 1;document.getElementById('_fb_apojgywhhjitpqckkhgy_ind_5').style.opacity = 1;\"      onmouseout=\"document.getElementById('_tp_apojgywhhjitpqckkhgy_ind_5').style.textDecoration = 'none';document.getElementById('_fs_apojgywhhjitpqckkhgy_ind_5').style.opacity = 0;document.getElementById('_fb_apojgywhhjitpqckkhgy_ind_5').style.opacity = 0;\" style=\"fill:rgb(0,0,0,0)\" /><g transform=\"translate(-1.5,0)\">  <svg x=\"66.08057937528565%\" y=\"40\" height=\"18\" overflow=\"visible\" width=\"30\">    <path d=\"M 0 -9 l 6 18 L 0 25\" fill=\"none\" style=\"stroke:rgb(255, 195, 213);stroke-width:2\" />  </svg></g><rect x=\"50.73615625043464%\" y=\"40\" height=\"20\" width=\"15.344423124851012%\"      onmouseover=\"document.getElementById('_tp_apojgywhhjitpqckkhgy_ind_8').style.textDecoration = 'underline';document.getElementById('_fs_apojgywhhjitpqckkhgy_ind_8').style.opacity = 1;document.getElementById('_fb_apojgywhhjitpqckkhgy_ind_8').style.opacity = 1;\"      onmouseout=\"document.getElementById('_tp_apojgywhhjitpqckkhgy_ind_8').style.textDecoration = 'none';document.getElementById('_fs_apojgywhhjitpqckkhgy_ind_8').style.opacity = 0;document.getElementById('_fb_apojgywhhjitpqckkhgy_ind_8').style.opacity = 0;\" style=\"fill:rgb(0,0,0,0)\" /><g transform=\"translate(-1.5,0)\">  <svg x=\"50.73615625043464%\" y=\"40\" height=\"18\" overflow=\"visible\" width=\"30\">    <path d=\"M 0 -9 l 6 18 L 0 25\" fill=\"none\" style=\"stroke:rgb(255, 195, 213);stroke-width:2\" />  </svg></g><rect x=\"42.8474406637085%\" y=\"40\" height=\"20\" width=\"7.888715586726143%\"      onmouseover=\"document.getElementById('_tp_apojgywhhjitpqckkhgy_ind_17').style.textDecoration = 'underline';document.getElementById('_fs_apojgywhhjitpqckkhgy_ind_17').style.opacity = 1;document.getElementById('_fb_apojgywhhjitpqckkhgy_ind_17').style.opacity = 1;\"      onmouseout=\"document.getElementById('_tp_apojgywhhjitpqckkhgy_ind_17').style.textDecoration = 'none';document.getElementById('_fs_apojgywhhjitpqckkhgy_ind_17').style.opacity = 0;document.getElementById('_fb_apojgywhhjitpqckkhgy_ind_17').style.opacity = 0;\" style=\"fill:rgb(0,0,0,0)\" /><g transform=\"translate(-1.5,0)\">  <svg x=\"42.8474406637085%\" y=\"40\" height=\"18\" overflow=\"visible\" width=\"30\">    <path d=\"M 0 -9 l 6 18 L 0 25\" fill=\"none\" style=\"stroke:rgb(255, 195, 213);stroke-width:2\" />  </svg></g><rect x=\"36.4432612739571%\" y=\"40\" height=\"20\" width=\"6.404179389751398%\"      onmouseover=\"document.getElementById('_tp_apojgywhhjitpqckkhgy_ind_4').style.textDecoration = 'underline';document.getElementById('_fs_apojgywhhjitpqckkhgy_ind_4').style.opacity = 1;document.getElementById('_fb_apojgywhhjitpqckkhgy_ind_4').style.opacity = 1;\"      onmouseout=\"document.getElementById('_tp_apojgywhhjitpqckkhgy_ind_4').style.textDecoration = 'none';document.getElementById('_fs_apojgywhhjitpqckkhgy_ind_4').style.opacity = 0;document.getElementById('_fb_apojgywhhjitpqckkhgy_ind_4').style.opacity = 0;\" style=\"fill:rgb(0,0,0,0)\" /><g transform=\"translate(-1.5,0)\">  <svg x=\"36.4432612739571%\" y=\"40\" height=\"18\" overflow=\"visible\" width=\"30\">    <path d=\"M 0 -9 l 6 18 L 0 25\" fill=\"none\" style=\"stroke:rgb(255, 195, 213);stroke-width:2\" />  </svg></g><rect x=\"30.569594259876734%\" y=\"40\" height=\"20\" width=\"5.873667014080365%\"      onmouseover=\"document.getElementById('_tp_apojgywhhjitpqckkhgy_ind_7').style.textDecoration = 'underline';document.getElementById('_fs_apojgywhhjitpqckkhgy_ind_7').style.opacity = 1;document.getElementById('_fb_apojgywhhjitpqckkhgy_ind_7').style.opacity = 1;\"      onmouseout=\"document.getElementById('_tp_apojgywhhjitpqckkhgy_ind_7').style.textDecoration = 'none';document.getElementById('_fs_apojgywhhjitpqckkhgy_ind_7').style.opacity = 0;document.getElementById('_fb_apojgywhhjitpqckkhgy_ind_7').style.opacity = 0;\" style=\"fill:rgb(0,0,0,0)\" /><g transform=\"translate(-1.5,0)\">  <svg x=\"30.569594259876734%\" y=\"40\" height=\"18\" overflow=\"visible\" width=\"30\">    <path d=\"M 0 -9 l 6 18 L 0 25\" fill=\"none\" style=\"stroke:rgb(255, 195, 213);stroke-width:2\" />  </svg></g><rect x=\"25.95909030387026%\" y=\"40\" height=\"20\" width=\"4.610503956006475%\"      onmouseover=\"document.getElementById('_tp_apojgywhhjitpqckkhgy_ind_6').style.textDecoration = 'underline';document.getElementById('_fs_apojgywhhjitpqckkhgy_ind_6').style.opacity = 1;document.getElementById('_fb_apojgywhhjitpqckkhgy_ind_6').style.opacity = 1;\"      onmouseout=\"document.getElementById('_tp_apojgywhhjitpqckkhgy_ind_6').style.textDecoration = 'none';document.getElementById('_fs_apojgywhhjitpqckkhgy_ind_6').style.opacity = 0;document.getElementById('_fb_apojgywhhjitpqckkhgy_ind_6').style.opacity = 0;\" style=\"fill:rgb(0,0,0,0)\" /><g transform=\"translate(-1.5,0)\">  <svg x=\"25.95909030387026%\" y=\"40\" height=\"18\" overflow=\"visible\" width=\"30\">    <path d=\"M 0 -9 l 6 18 L 0 25\" fill=\"none\" style=\"stroke:rgb(255, 195, 213);stroke-width:2\" />  </svg></g><rect x=\"22.478967808900748%\" y=\"40\" height=\"20\" width=\"3.4801224949695104%\"      onmouseover=\"document.getElementById('_tp_apojgywhhjitpqckkhgy_ind_1').style.textDecoration = 'underline';document.getElementById('_fs_apojgywhhjitpqckkhgy_ind_1').style.opacity = 1;document.getElementById('_fb_apojgywhhjitpqckkhgy_ind_1').style.opacity = 1;\"      onmouseout=\"document.getElementById('_tp_apojgywhhjitpqckkhgy_ind_1').style.textDecoration = 'none';document.getElementById('_fs_apojgywhhjitpqckkhgy_ind_1').style.opacity = 0;document.getElementById('_fb_apojgywhhjitpqckkhgy_ind_1').style.opacity = 0;\" style=\"fill:rgb(0,0,0,0)\" /><g transform=\"translate(-1.5,0)\">  <svg x=\"22.478967808900748%\" y=\"40\" height=\"18\" overflow=\"visible\" width=\"30\">    <path d=\"M 0 -9 l 6 18 L 0 25\" fill=\"none\" style=\"stroke:rgb(255, 195, 213);stroke-width:2\" />  </svg></g><rect x=\"19.60827230530067%\" y=\"40\" height=\"20\" width=\"2.8706955036000785%\"      onmouseover=\"document.getElementById('_tp_apojgywhhjitpqckkhgy_ind_19').style.textDecoration = 'underline';document.getElementById('_fs_apojgywhhjitpqckkhgy_ind_19').style.opacity = 1;document.getElementById('_fb_apojgywhhjitpqckkhgy_ind_19').style.opacity = 1;\"      onmouseout=\"document.getElementById('_tp_apojgywhhjitpqckkhgy_ind_19').style.textDecoration = 'none';document.getElementById('_fs_apojgywhhjitpqckkhgy_ind_19').style.opacity = 0;document.getElementById('_fb_apojgywhhjitpqckkhgy_ind_19').style.opacity = 0;\" style=\"fill:rgb(0,0,0,0)\" /><g transform=\"translate(-1.5,0)\">  <svg x=\"19.60827230530067%\" y=\"40\" height=\"18\" overflow=\"visible\" width=\"30\">    <path d=\"M 0 -9 l 6 18 L 0 25\" fill=\"none\" style=\"stroke:rgb(255, 195, 213);stroke-width:2\" />  </svg></g><rect x=\"16.857235300995058%\" y=\"40\" height=\"20\" width=\"2.751037004305612%\"      onmouseover=\"document.getElementById('_tp_apojgywhhjitpqckkhgy_ind_23').style.textDecoration = 'underline';document.getElementById('_fs_apojgywhhjitpqckkhgy_ind_23').style.opacity = 1;document.getElementById('_fb_apojgywhhjitpqckkhgy_ind_23').style.opacity = 1;\"      onmouseout=\"document.getElementById('_tp_apojgywhhjitpqckkhgy_ind_23').style.textDecoration = 'none';document.getElementById('_fs_apojgywhhjitpqckkhgy_ind_23').style.opacity = 0;document.getElementById('_fb_apojgywhhjitpqckkhgy_ind_23').style.opacity = 0;\" style=\"fill:rgb(0,0,0,0)\" /><g transform=\"translate(-1.5,0)\">  <svg x=\"16.857235300995058%\" y=\"40\" height=\"18\" overflow=\"visible\" width=\"30\">    <path d=\"M 0 -9 l 6 18 L 0 25\" fill=\"none\" style=\"stroke:rgb(255, 195, 213);stroke-width:2\" />  </svg></g><rect x=\"14.253867486498073%\" y=\"40\" height=\"20\" width=\"2.603367814496984%\"      onmouseover=\"document.getElementById('_tp_apojgywhhjitpqckkhgy_ind_12').style.textDecoration = 'underline';document.getElementById('_fs_apojgywhhjitpqckkhgy_ind_12').style.opacity = 1;document.getElementById('_fb_apojgywhhjitpqckkhgy_ind_12').style.opacity = 1;\"      onmouseout=\"document.getElementById('_tp_apojgywhhjitpqckkhgy_ind_12').style.textDecoration = 'none';document.getElementById('_fs_apojgywhhjitpqckkhgy_ind_12').style.opacity = 0;document.getElementById('_fb_apojgywhhjitpqckkhgy_ind_12').style.opacity = 0;\" style=\"fill:rgb(0,0,0,0)\" /><g transform=\"translate(-1.5,0)\">  <svg x=\"14.253867486498073%\" y=\"40\" height=\"18\" overflow=\"visible\" width=\"30\">    <path d=\"M 0 -9 l 6 18 L 0 25\" fill=\"none\" style=\"stroke:rgb(255, 195, 213);stroke-width:2\" />  </svg></g><rect x=\"12.371373068407262%\" y=\"40\" height=\"20\" width=\"1.8824944180908112%\"      onmouseover=\"document.getElementById('_tp_apojgywhhjitpqckkhgy_ind_11').style.textDecoration = 'underline';document.getElementById('_fs_apojgywhhjitpqckkhgy_ind_11').style.opacity = 1;document.getElementById('_fb_apojgywhhjitpqckkhgy_ind_11').style.opacity = 1;\"      onmouseout=\"document.getElementById('_tp_apojgywhhjitpqckkhgy_ind_11').style.textDecoration = 'none';document.getElementById('_fs_apojgywhhjitpqckkhgy_ind_11').style.opacity = 0;document.getElementById('_fb_apojgywhhjitpqckkhgy_ind_11').style.opacity = 0;\" style=\"fill:rgb(0,0,0,0)\" /><g transform=\"translate(-1.5,0)\">  <svg x=\"12.371373068407262%\" y=\"40\" height=\"18\" overflow=\"visible\" width=\"30\">    <path d=\"M 0 -9 l 6 18 L 0 25\" fill=\"none\" style=\"stroke:rgb(255, 195, 213);stroke-width:2\" />  </svg></g><rect x=\"10.984918689536041%\" y=\"40\" height=\"20\" width=\"1.3864543788712211%\"      onmouseover=\"document.getElementById('_tp_apojgywhhjitpqckkhgy_ind_21').style.textDecoration = 'underline';document.getElementById('_fs_apojgywhhjitpqckkhgy_ind_21').style.opacity = 1;document.getElementById('_fb_apojgywhhjitpqckkhgy_ind_21').style.opacity = 1;\"      onmouseout=\"document.getElementById('_tp_apojgywhhjitpqckkhgy_ind_21').style.textDecoration = 'none';document.getElementById('_fs_apojgywhhjitpqckkhgy_ind_21').style.opacity = 0;document.getElementById('_fb_apojgywhhjitpqckkhgy_ind_21').style.opacity = 0;\" style=\"fill:rgb(0,0,0,0)\" /><g transform=\"translate(-1.5,0)\">  <svg x=\"10.984918689536041%\" y=\"40\" height=\"18\" overflow=\"visible\" width=\"30\">    <path d=\"M 0 -9 l 6 18 L 0 25\" fill=\"none\" style=\"stroke:rgb(255, 195, 213);stroke-width:2\" />  </svg></g><rect x=\"9.81856609679671%\" y=\"40\" height=\"20\" width=\"1.1663525927393312%\"      onmouseover=\"document.getElementById('_tp_apojgywhhjitpqckkhgy_ind_16').style.textDecoration = 'underline';document.getElementById('_fs_apojgywhhjitpqckkhgy_ind_16').style.opacity = 1;document.getElementById('_fb_apojgywhhjitpqckkhgy_ind_16').style.opacity = 1;\"      onmouseout=\"document.getElementById('_tp_apojgywhhjitpqckkhgy_ind_16').style.textDecoration = 'none';document.getElementById('_fs_apojgywhhjitpqckkhgy_ind_16').style.opacity = 0;document.getElementById('_fb_apojgywhhjitpqckkhgy_ind_16').style.opacity = 0;\" style=\"fill:rgb(0,0,0,0)\" /><g transform=\"translate(-1.5,0)\">  <svg x=\"9.81856609679671%\" y=\"40\" height=\"18\" overflow=\"visible\" width=\"30\">    <path d=\"M 0 -9 l 6 18 L 0 25\" fill=\"none\" style=\"stroke:rgb(255, 195, 213);stroke-width:2\" />  </svg></g><rect x=\"9.031228927506755%\" y=\"40\" height=\"20\" width=\"0.7873371692899553%\"      onmouseover=\"document.getElementById('_tp_apojgywhhjitpqckkhgy_ind_10').style.textDecoration = 'underline';document.getElementById('_fs_apojgywhhjitpqckkhgy_ind_10').style.opacity = 1;document.getElementById('_fb_apojgywhhjitpqckkhgy_ind_10').style.opacity = 1;\"      onmouseout=\"document.getElementById('_tp_apojgywhhjitpqckkhgy_ind_10').style.textDecoration = 'none';document.getElementById('_fs_apojgywhhjitpqckkhgy_ind_10').style.opacity = 0;document.getElementById('_fb_apojgywhhjitpqckkhgy_ind_10').style.opacity = 0;\" style=\"fill:rgb(0,0,0,0)\" /><g transform=\"translate(-1.5,0)\">  <svg x=\"9.031228927506755%\" y=\"40\" height=\"18\" overflow=\"visible\" width=\"30\">    <path d=\"M 0 -9 l 6 18 L 0 25\" fill=\"none\" style=\"stroke:rgb(255, 195, 213);stroke-width:2\" />  </svg></g><rect x=\"8.647879763204608%\" y=\"40\" height=\"20\" width=\"0.38334916430214605%\"      onmouseover=\"document.getElementById('_tp_apojgywhhjitpqckkhgy_ind_14').style.textDecoration = 'underline';document.getElementById('_fs_apojgywhhjitpqckkhgy_ind_14').style.opacity = 1;document.getElementById('_fb_apojgywhhjitpqckkhgy_ind_14').style.opacity = 1;\"      onmouseout=\"document.getElementById('_tp_apojgywhhjitpqckkhgy_ind_14').style.textDecoration = 'none';document.getElementById('_fs_apojgywhhjitpqckkhgy_ind_14').style.opacity = 0;document.getElementById('_fb_apojgywhhjitpqckkhgy_ind_14').style.opacity = 0;\" style=\"fill:rgb(0,0,0,0)\" /><g transform=\"translate(-1.5,0)\">  <svg x=\"8.647879763204608%\" y=\"40\" height=\"18\" overflow=\"visible\" width=\"30\">    <path d=\"M 0 -9 l 6 18 L 0 25\" fill=\"none\" style=\"stroke:rgb(255, 195, 213);stroke-width:2\" />  </svg></g><rect x=\"8.481349383681486%\" y=\"40\" height=\"20\" width=\"0.1665303795231221%\"      onmouseover=\"document.getElementById('_tp_apojgywhhjitpqckkhgy_ind_22').style.textDecoration = 'underline';document.getElementById('_fs_apojgywhhjitpqckkhgy_ind_22').style.opacity = 1;document.getElementById('_fb_apojgywhhjitpqckkhgy_ind_22').style.opacity = 1;\"      onmouseout=\"document.getElementById('_tp_apojgywhhjitpqckkhgy_ind_22').style.textDecoration = 'none';document.getElementById('_fs_apojgywhhjitpqckkhgy_ind_22').style.opacity = 0;document.getElementById('_fb_apojgywhhjitpqckkhgy_ind_22').style.opacity = 0;\" style=\"fill:rgb(0,0,0,0)\" /><g transform=\"translate(-1.5,0)\">  <svg x=\"8.481349383681486%\" y=\"40\" height=\"18\" overflow=\"visible\" width=\"30\">    <path d=\"M 0 -9 l 6 18 L 0 25\" fill=\"none\" style=\"stroke:rgb(255, 195, 213);stroke-width:2\" />  </svg></g><rect x=\"8.333730122499649%\" y=\"40\" height=\"20\" width=\"0.14761926118183766%\"      onmouseover=\"document.getElementById('_tp_apojgywhhjitpqckkhgy_ind_20').style.textDecoration = 'underline';document.getElementById('_fs_apojgywhhjitpqckkhgy_ind_20').style.opacity = 1;document.getElementById('_fb_apojgywhhjitpqckkhgy_ind_20').style.opacity = 1;\"      onmouseout=\"document.getElementById('_tp_apojgywhhjitpqckkhgy_ind_20').style.textDecoration = 'none';document.getElementById('_fs_apojgywhhjitpqckkhgy_ind_20').style.opacity = 0;document.getElementById('_fb_apojgywhhjitpqckkhgy_ind_20').style.opacity = 0;\" style=\"fill:rgb(0,0,0,0)\" /><rect x=\"8.333333251585156%\" y=\"40\" height=\"20\" width=\"0.0003968709144928084%\"      onmouseover=\"document.getElementById('_tp_apojgywhhjitpqckkhgy_ind_0').style.textDecoration = 'underline';document.getElementById('_fs_apojgywhhjitpqckkhgy_ind_0').style.opacity = 1;document.getElementById('_fb_apojgywhhjitpqckkhgy_ind_0').style.opacity = 1;\"      onmouseout=\"document.getElementById('_tp_apojgywhhjitpqckkhgy_ind_0').style.textDecoration = 'none';document.getElementById('_fs_apojgywhhjitpqckkhgy_ind_0').style.opacity = 0;document.getElementById('_fb_apojgywhhjitpqckkhgy_ind_0').style.opacity = 0;\" style=\"fill:rgb(0,0,0,0)\" /><rect x=\"83.172734826608%\" width=\"8.493930940828715%\" y=\"40\" height=\"18\" style=\"fill:rgb(0.0, 138.56128015770724, 250.76166088685727); stroke-width:0; stroke:rgb(0,0,0)\" /><line x1=\"83.172734826608%\" x2=\"86.39270679263468%\" y1=\"60\" y2=\"60\" id=\"_fb_apojgywhhjitpqckkhgy_ind_18\" style=\"stroke:rgb(0.0, 138.56128015770724, 250.76166088685727);stroke-width:2; opacity: 0\"/><text x=\"84.78272080962134%\" y=\"71\" font-size=\"12px\" fill=\"rgb(0.0, 138.56128015770724, 250.76166088685727)\" id=\"_fs_apojgywhhjitpqckkhgy_ind_18\" style=\"opacity: 0\" dominant-baseline=\"middle\" text-anchor=\"middle\">-0.033</text><svg x=\"83.172734826608%\" y=\"40\" height=\"20\" width=\"3.2199719660266766%\">  <svg x=\"0\" y=\"0\" width=\"100%\" height=\"100%\">    <text x=\"50%\" y=\"9\" font-size=\"12px\" fill=\"rgb(255,255,255)\" dominant-baseline=\"middle\" text-anchor=\"middle\">LES</text>  </svg></svg><line x1=\"86.39270679263468%\" x2=\"88.88679555216503%\" y1=\"60\" y2=\"60\" id=\"_fb_apojgywhhjitpqckkhgy_ind_15\" style=\"stroke:rgb(0.0, 138.56128015770724, 250.76166088685727);stroke-width:2; opacity: 0\"/><text x=\"87.63975117239985%\" y=\"71\" font-size=\"12px\" fill=\"rgb(0.0, 138.56128015770724, 250.76166088685727)\" id=\"_fs_apojgywhhjitpqckkhgy_ind_15\" style=\"opacity: 0\" dominant-baseline=\"middle\" text-anchor=\"middle\">-0.025</text><svg x=\"86.39270679263468%\" y=\"40\" height=\"20\" width=\"2.4940887595303423%\">  <svg x=\"0\" y=\"0\" width=\"100%\" height=\"100%\">    <text x=\"50%\" y=\"9\" font-size=\"12px\" fill=\"rgb(255,255,255)\" dominant-baseline=\"middle\" text-anchor=\"middle\">WITH</text>  </svg></svg><line x1=\"88.88679555216503%\" x2=\"89.86157826212437%\" y1=\"60\" y2=\"60\" id=\"_fb_apojgywhhjitpqckkhgy_ind_13\" style=\"stroke:rgb(0.0, 138.56128015770724, 250.76166088685727);stroke-width:2; opacity: 0\"/><text x=\"89.37418690714469%\" y=\"71\" font-size=\"12px\" fill=\"rgb(0.0, 138.56128015770724, 250.76166088685727)\" id=\"_fs_apojgywhhjitpqckkhgy_ind_13\" style=\"opacity: 0\" dominant-baseline=\"middle\" text-anchor=\"middle\">-0.01</text><svg x=\"88.88679555216503%\" y=\"40\" height=\"20\" width=\"0.9747827099593422%\">  <svg x=\"0\" y=\"0\" width=\"100%\" height=\"100%\">    <text x=\"50%\" y=\"9\" font-size=\"12px\" fill=\"rgb(255,255,255)\" dominant-baseline=\"middle\" text-anchor=\"middle\">SEE</text>  </svg></svg><line x1=\"89.86157826212437%\" x2=\"90.56611933320674%\" y1=\"60\" y2=\"60\" id=\"_fb_apojgywhhjitpqckkhgy_ind_2\" style=\"stroke:rgb(0.0, 138.56128015770724, 250.76166088685727);stroke-width:2; opacity: 0\"/><text x=\"90.21384879766555%\" y=\"71\" font-size=\"12px\" fill=\"rgb(0.0, 138.56128015770724, 250.76166088685727)\" id=\"_fs_apojgywhhjitpqckkhgy_ind_2\" style=\"opacity: 0\" dominant-baseline=\"middle\" text-anchor=\"middle\">-0.007</text><svg x=\"89.86157826212437%\" y=\"40\" height=\"20\" width=\"0.7045410710823745%\">  <svg x=\"0\" y=\"0\" width=\"100%\" height=\"100%\">    <text x=\"50%\" y=\"9\" font-size=\"12px\" fill=\"rgb(255,255,255)\" dominant-baseline=\"middle\" text-anchor=\"middle\">BET</text>  </svg></svg><line x1=\"90.56611933320674%\" x2=\"91.18972779043763%\" y1=\"60\" y2=\"60\" id=\"_fb_apojgywhhjitpqckkhgy_ind_9\" style=\"stroke:rgb(0.0, 138.56128015770724, 250.76166088685727);stroke-width:2; opacity: 0\"/><text x=\"90.87792356182219%\" y=\"71\" font-size=\"12px\" fill=\"rgb(0.0, 138.56128015770724, 250.76166088685727)\" id=\"_fs_apojgywhhjitpqckkhgy_ind_9\" style=\"opacity: 0\" dominant-baseline=\"middle\" text-anchor=\"middle\">-0.006</text><svg x=\"90.56611933320674%\" y=\"40\" height=\"20\" width=\"0.6236084572308869%\">  <svg x=\"0\" y=\"0\" width=\"100%\" height=\"100%\">    <text x=\"50%\" y=\"9\" font-size=\"12px\" fill=\"rgb(255,255,255)\" dominant-baseline=\"middle\" text-anchor=\"middle\">KO</text>  </svg></svg><line x1=\"91.18972779043763%\" x2=\"91.4607897114292%\" y1=\"60\" y2=\"60\" id=\"_fb_apojgywhhjitpqckkhgy_ind_24\" style=\"stroke:rgb(0.0, 138.56128015770724, 250.76166088685727);stroke-width:2; opacity: 0\"/><text x=\"91.32525875093341%\" y=\"71\" font-size=\"12px\" fill=\"rgb(0.0, 138.56128015770724, 250.76166088685727)\" id=\"_fs_apojgywhhjitpqckkhgy_ind_24\" style=\"opacity: 0\" dominant-baseline=\"middle\" text-anchor=\"middle\">-0.003</text><svg x=\"91.18972779043763%\" y=\"40\" height=\"20\" width=\"0.27106192099157056%\">  <svg x=\"0\" y=\"0\" width=\"100%\" height=\"100%\">    <text x=\"50%\" y=\"9\" font-size=\"12px\" fill=\"rgb(255,255,255)\" dominant-baseline=\"middle\" text-anchor=\"middle\">AL</text>  </svg></svg><line x1=\"91.4607897114292%\" x2=\"91.66666576743673%\" y1=\"60\" y2=\"60\" id=\"_fb_apojgywhhjitpqckkhgy_ind_3\" style=\"stroke:rgb(0.0, 138.56128015770724, 250.76166088685727);stroke-width:2; opacity: 0\"/><text x=\"91.56372773943296%\" y=\"71\" font-size=\"12px\" fill=\"rgb(0.0, 138.56128015770724, 250.76166088685727)\" id=\"_fs_apojgywhhjitpqckkhgy_ind_3\" style=\"opacity: 0\" dominant-baseline=\"middle\" text-anchor=\"middle\">-0.002</text><svg x=\"91.4607897114292%\" y=\"40\" height=\"20\" width=\"0.20587605600752568%\">  <svg x=\"0\" y=\"0\" width=\"100%\" height=\"100%\">    <text x=\"50%\" y=\"9\" font-size=\"12px\" fill=\"rgb(255,255,255)\" dominant-baseline=\"middle\" text-anchor=\"middle\">TER</text>  </svg></svg><g transform=\"translate(-8,0)\">  <svg x=\"86.39270679263468%\" y=\"40\" height=\"18\" overflow=\"visible\" width=\"30\">    <path d=\"M 8 -9 l -6 18 L 8 25\" fill=\"none\" style=\"stroke:rgb(0.0, 138.56128015770724, 250.76166088685727);stroke-width:2\" />  </svg></g><g transform=\"translate(-10,0)\">  <svg x=\"86.39270679263468%\" y=\"40\" height=\"18\" overflow=\"visible\" width=\"30\">    <path d=\"M 8 -9 l -6 18 L 8 25\" fill=\"none\" style=\"stroke:rgb(0.0, 138.56128015770724, 250.76166088685727);stroke-width:2\" />  </svg></g><g transform=\"translate(-12,0)\">  <svg x=\"86.39270679263468%\" y=\"40\" height=\"18\" overflow=\"visible\" width=\"30\">    <path d=\"M 8 -9 l -6 18 L 8 25\" fill=\"none\" style=\"stroke:rgb(0.0, 138.56128015770724, 250.76166088685727);stroke-width:2\" />  </svg></g><g transform=\"translate(-14,0)\">  <svg x=\"86.39270679263468%\" y=\"40\" height=\"18\" overflow=\"visible\" width=\"30\">    <path d=\"M 8 -9 l -6 18 L 8 25\" fill=\"none\" style=\"stroke:rgb(0.0, 138.56128015770724, 250.76166088685727);stroke-width:2\" />  </svg></g><g transform=\"translate(2,0)\">  <svg x=\"86.39270679263468%\" y=\"40\" height=\"18\" overflow=\"visible\" width=\"30\">    <path d=\"M 8 -9 l -6 18 L 8 25\" fill=\"none\" style=\"stroke:rgb(0.0, 138.56128015770724, 250.76166088685727);stroke-width:2\" />  </svg></g><g transform=\"translate(0,0)\">  <svg x=\"86.39270679263468%\" y=\"40\" height=\"18\" overflow=\"visible\" width=\"30\">    <path d=\"M 8 -9 l -6 18 L 8 25\" fill=\"none\" style=\"stroke:rgb(0.0, 138.56128015770724, 250.76166088685727);stroke-width:2\" />  </svg></g><g transform=\"translate(-2,0)\">  <svg x=\"86.39270679263468%\" y=\"40\" height=\"18\" overflow=\"visible\" width=\"30\">    <path d=\"M 8 -9 l -6 18 L 8 25\" fill=\"none\" style=\"stroke:rgb(0.0, 138.56128015770724, 250.76166088685727);stroke-width:2\" />  </svg></g><g transform=\"translate(-4,0)\">  <svg x=\"86.39270679263468%\" y=\"40\" height=\"18\" overflow=\"visible\" width=\"30\">    <path d=\"M 8 -9 l -6 18 L 8 25\" fill=\"none\" style=\"stroke:rgb(0.0, 138.56128015770724, 250.76166088685727);stroke-width:2\" />  </svg></g><g transform=\"translate(-8,0)\">  <svg x=\"88.88679555216503%\" y=\"40\" height=\"18\" overflow=\"visible\" width=\"30\">    <path d=\"M 8 -9 l -6 18 L 8 25\" fill=\"none\" style=\"stroke:rgb(0.0, 138.56128015770724, 250.76166088685727);stroke-width:2\" />  </svg></g><g transform=\"translate(-10,0)\">  <svg x=\"88.88679555216503%\" y=\"40\" height=\"18\" overflow=\"visible\" width=\"30\">    <path d=\"M 8 -9 l -6 18 L 8 25\" fill=\"none\" style=\"stroke:rgb(0.0, 138.56128015770724, 250.76166088685727);stroke-width:2\" />  </svg></g><g transform=\"translate(-12,0)\">  <svg x=\"88.88679555216503%\" y=\"40\" height=\"18\" overflow=\"visible\" width=\"30\">    <path d=\"M 8 -9 l -6 18 L 8 25\" fill=\"none\" style=\"stroke:rgb(0.0, 138.56128015770724, 250.76166088685727);stroke-width:2\" />  </svg></g><g transform=\"translate(-14,0)\">  <svg x=\"88.88679555216503%\" y=\"40\" height=\"18\" overflow=\"visible\" width=\"30\">    <path d=\"M 8 -9 l -6 18 L 8 25\" fill=\"none\" style=\"stroke:rgb(0.0, 138.56128015770724, 250.76166088685727);stroke-width:2\" />  </svg></g><g transform=\"translate(2,0)\">  <svg x=\"88.88679555216503%\" y=\"40\" height=\"18\" overflow=\"visible\" width=\"30\">    <path d=\"M 8 -9 l -6 18 L 8 25\" fill=\"none\" style=\"stroke:rgb(0.0, 138.56128015770724, 250.76166088685727);stroke-width:2\" />  </svg></g><g transform=\"translate(0,0)\">  <svg x=\"88.88679555216503%\" y=\"40\" height=\"18\" overflow=\"visible\" width=\"30\">    <path d=\"M 8 -9 l -6 18 L 8 25\" fill=\"none\" style=\"stroke:rgb(0.0, 138.56128015770724, 250.76166088685727);stroke-width:2\" />  </svg></g><g transform=\"translate(-2,0)\">  <svg x=\"88.88679555216503%\" y=\"40\" height=\"18\" overflow=\"visible\" width=\"30\">    <path d=\"M 8 -9 l -6 18 L 8 25\" fill=\"none\" style=\"stroke:rgb(0.0, 138.56128015770724, 250.76166088685727);stroke-width:2\" />  </svg></g><g transform=\"translate(-4,0)\">  <svg x=\"88.88679555216503%\" y=\"40\" height=\"18\" overflow=\"visible\" width=\"30\">    <path d=\"M 8 -9 l -6 18 L 8 25\" fill=\"none\" style=\"stroke:rgb(0.0, 138.56128015770724, 250.76166088685727);stroke-width:2\" />  </svg></g><g transform=\"translate(-8,0)\">  <svg x=\"89.86157826212437%\" y=\"40\" height=\"18\" overflow=\"visible\" width=\"30\">    <path d=\"M 8 -9 l -6 18 L 8 25\" fill=\"none\" style=\"stroke:rgb(0.0, 138.56128015770724, 250.76166088685727);stroke-width:2\" />  </svg></g><g transform=\"translate(-10,0)\">  <svg x=\"89.86157826212437%\" y=\"40\" height=\"18\" overflow=\"visible\" width=\"30\">    <path d=\"M 8 -9 l -6 18 L 8 25\" fill=\"none\" style=\"stroke:rgb(0.0, 138.56128015770724, 250.76166088685727);stroke-width:2\" />  </svg></g><g transform=\"translate(-12,0)\">  <svg x=\"89.86157826212437%\" y=\"40\" height=\"18\" overflow=\"visible\" width=\"30\">    <path d=\"M 8 -9 l -6 18 L 8 25\" fill=\"none\" style=\"stroke:rgb(0.0, 138.56128015770724, 250.76166088685727);stroke-width:2\" />  </svg></g><g transform=\"translate(-14,0)\">  <svg x=\"89.86157826212437%\" y=\"40\" height=\"18\" overflow=\"visible\" width=\"30\">    <path d=\"M 8 -9 l -6 18 L 8 25\" fill=\"none\" style=\"stroke:rgb(0.0, 138.56128015770724, 250.76166088685727);stroke-width:2\" />  </svg></g><g transform=\"translate(2,0)\">  <svg x=\"89.86157826212437%\" y=\"40\" height=\"18\" overflow=\"visible\" width=\"30\">    <path d=\"M 8 -9 l -6 18 L 8 25\" fill=\"none\" style=\"stroke:rgb(0.0, 138.56128015770724, 250.76166088685727);stroke-width:2\" />  </svg></g><g transform=\"translate(0,0)\">  <svg x=\"89.86157826212437%\" y=\"40\" height=\"18\" overflow=\"visible\" width=\"30\">    <path d=\"M 8 -9 l -6 18 L 8 25\" fill=\"none\" style=\"stroke:rgb(0.0, 138.56128015770724, 250.76166088685727);stroke-width:2\" />  </svg></g><g transform=\"translate(-2,0)\">  <svg x=\"89.86157826212437%\" y=\"40\" height=\"18\" overflow=\"visible\" width=\"30\">    <path d=\"M 8 -9 l -6 18 L 8 25\" fill=\"none\" style=\"stroke:rgb(0.0, 138.56128015770724, 250.76166088685727);stroke-width:2\" />  </svg></g><g transform=\"translate(-4,0)\">  <svg x=\"89.86157826212437%\" y=\"40\" height=\"18\" overflow=\"visible\" width=\"30\">    <path d=\"M 8 -9 l -6 18 L 8 25\" fill=\"none\" style=\"stroke:rgb(0.0, 138.56128015770724, 250.76166088685727);stroke-width:2\" />  </svg></g><g transform=\"translate(-8,0)\">  <svg x=\"90.56611933320674%\" y=\"40\" height=\"18\" overflow=\"visible\" width=\"30\">    <path d=\"M 8 -9 l -6 18 L 8 25\" fill=\"none\" style=\"stroke:rgb(0.0, 138.56128015770724, 250.76166088685727);stroke-width:2\" />  </svg></g><g transform=\"translate(-10,0)\">  <svg x=\"90.56611933320674%\" y=\"40\" height=\"18\" overflow=\"visible\" width=\"30\">    <path d=\"M 8 -9 l -6 18 L 8 25\" fill=\"none\" style=\"stroke:rgb(0.0, 138.56128015770724, 250.76166088685727);stroke-width:2\" />  </svg></g><g transform=\"translate(-12,0)\">  <svg x=\"90.56611933320674%\" y=\"40\" height=\"18\" overflow=\"visible\" width=\"30\">    <path d=\"M 8 -9 l -6 18 L 8 25\" fill=\"none\" style=\"stroke:rgb(0.0, 138.56128015770724, 250.76166088685727);stroke-width:2\" />  </svg></g><g transform=\"translate(-14,0)\">  <svg x=\"90.56611933320674%\" y=\"40\" height=\"18\" overflow=\"visible\" width=\"30\">    <path d=\"M 8 -9 l -6 18 L 8 25\" fill=\"none\" style=\"stroke:rgb(0.0, 138.56128015770724, 250.76166088685727);stroke-width:2\" />  </svg></g><g transform=\"translate(2,0)\">  <svg x=\"90.56611933320674%\" y=\"40\" height=\"18\" overflow=\"visible\" width=\"30\">    <path d=\"M 8 -9 l -6 18 L 8 25\" fill=\"none\" style=\"stroke:rgb(0.0, 138.56128015770724, 250.76166088685727);stroke-width:2\" />  </svg></g><g transform=\"translate(0,0)\">  <svg x=\"90.56611933320674%\" y=\"40\" height=\"18\" overflow=\"visible\" width=\"30\">    <path d=\"M 8 -9 l -6 18 L 8 25\" fill=\"none\" style=\"stroke:rgb(0.0, 138.56128015770724, 250.76166088685727);stroke-width:2\" />  </svg></g><g transform=\"translate(-2,0)\">  <svg x=\"90.56611933320674%\" y=\"40\" height=\"18\" overflow=\"visible\" width=\"30\">    <path d=\"M 8 -9 l -6 18 L 8 25\" fill=\"none\" style=\"stroke:rgb(0.0, 138.56128015770724, 250.76166088685727);stroke-width:2\" />  </svg></g><g transform=\"translate(-4,0)\">  <svg x=\"90.56611933320674%\" y=\"40\" height=\"18\" overflow=\"visible\" width=\"30\">    <path d=\"M 8 -9 l -6 18 L 8 25\" fill=\"none\" style=\"stroke:rgb(0.0, 138.56128015770724, 250.76166088685727);stroke-width:2\" />  </svg></g><g transform=\"translate(-8,0)\">  <svg x=\"91.18972779043763%\" y=\"40\" height=\"18\" overflow=\"visible\" width=\"30\">    <path d=\"M 8 -9 l -6 18 L 8 25\" fill=\"none\" style=\"stroke:rgb(0.0, 138.56128015770724, 250.76166088685727);stroke-width:2\" />  </svg></g><g transform=\"translate(-10,0)\">  <svg x=\"91.18972779043763%\" y=\"40\" height=\"18\" overflow=\"visible\" width=\"30\">    <path d=\"M 8 -9 l -6 18 L 8 25\" fill=\"none\" style=\"stroke:rgb(0.0, 138.56128015770724, 250.76166088685727);stroke-width:2\" />  </svg></g><g transform=\"translate(-12,0)\">  <svg x=\"91.18972779043763%\" y=\"40\" height=\"18\" overflow=\"visible\" width=\"30\">    <path d=\"M 8 -9 l -6 18 L 8 25\" fill=\"none\" style=\"stroke:rgb(0.0, 138.56128015770724, 250.76166088685727);stroke-width:2\" />  </svg></g><g transform=\"translate(-14,0)\">  <svg x=\"91.18972779043763%\" y=\"40\" height=\"18\" overflow=\"visible\" width=\"30\">    <path d=\"M 8 -9 l -6 18 L 8 25\" fill=\"none\" style=\"stroke:rgb(0.0, 138.56128015770724, 250.76166088685727);stroke-width:2\" />  </svg></g><g transform=\"translate(2,0)\">  <svg x=\"91.18972779043763%\" y=\"40\" height=\"18\" overflow=\"visible\" width=\"30\">    <path d=\"M 8 -9 l -6 18 L 8 25\" fill=\"none\" style=\"stroke:rgb(0.0, 138.56128015770724, 250.76166088685727);stroke-width:2\" />  </svg></g><g transform=\"translate(0,0)\">  <svg x=\"91.18972779043763%\" y=\"40\" height=\"18\" overflow=\"visible\" width=\"30\">    <path d=\"M 8 -9 l -6 18 L 8 25\" fill=\"none\" style=\"stroke:rgb(0.0, 138.56128015770724, 250.76166088685727);stroke-width:2\" />  </svg></g><g transform=\"translate(-2,0)\">  <svg x=\"91.18972779043763%\" y=\"40\" height=\"18\" overflow=\"visible\" width=\"30\">    <path d=\"M 8 -9 l -6 18 L 8 25\" fill=\"none\" style=\"stroke:rgb(0.0, 138.56128015770724, 250.76166088685727);stroke-width:2\" />  </svg></g><g transform=\"translate(-4,0)\">  <svg x=\"91.18972779043763%\" y=\"40\" height=\"18\" overflow=\"visible\" width=\"30\">    <path d=\"M 8 -9 l -6 18 L 8 25\" fill=\"none\" style=\"stroke:rgb(0.0, 138.56128015770724, 250.76166088685727);stroke-width:2\" />  </svg></g><g transform=\"translate(-8,0)\">  <svg x=\"91.4607897114292%\" y=\"40\" height=\"18\" overflow=\"visible\" width=\"30\">    <path d=\"M 8 -9 l -6 18 L 8 25\" fill=\"none\" style=\"stroke:rgb(0.0, 138.56128015770724, 250.76166088685727);stroke-width:2\" />  </svg></g><g transform=\"translate(-10,0)\">  <svg x=\"91.4607897114292%\" y=\"40\" height=\"18\" overflow=\"visible\" width=\"30\">    <path d=\"M 8 -9 l -6 18 L 8 25\" fill=\"none\" style=\"stroke:rgb(0.0, 138.56128015770724, 250.76166088685727);stroke-width:2\" />  </svg></g><g transform=\"translate(-12,0)\">  <svg x=\"91.4607897114292%\" y=\"40\" height=\"18\" overflow=\"visible\" width=\"30\">    <path d=\"M 8 -9 l -6 18 L 8 25\" fill=\"none\" style=\"stroke:rgb(0.0, 138.56128015770724, 250.76166088685727);stroke-width:2\" />  </svg></g><g transform=\"translate(-14,0)\">  <svg x=\"91.4607897114292%\" y=\"40\" height=\"18\" overflow=\"visible\" width=\"30\">    <path d=\"M 8 -9 l -6 18 L 8 25\" fill=\"none\" style=\"stroke:rgb(0.0, 138.56128015770724, 250.76166088685727);stroke-width:2\" />  </svg></g><g transform=\"translate(2,0)\">  <svg x=\"91.4607897114292%\" y=\"40\" height=\"18\" overflow=\"visible\" width=\"30\">    <path d=\"M 8 -9 l -6 18 L 8 25\" fill=\"none\" style=\"stroke:rgb(0.0, 138.56128015770724, 250.76166088685727);stroke-width:2\" />  </svg></g><g transform=\"translate(0,0)\">  <svg x=\"91.4607897114292%\" y=\"40\" height=\"18\" overflow=\"visible\" width=\"30\">    <path d=\"M 8 -9 l -6 18 L 8 25\" fill=\"none\" style=\"stroke:rgb(0.0, 138.56128015770724, 250.76166088685727);stroke-width:2\" />  </svg></g><g transform=\"translate(-2,0)\">  <svg x=\"91.4607897114292%\" y=\"40\" height=\"18\" overflow=\"visible\" width=\"30\">    <path d=\"M 8 -9 l -6 18 L 8 25\" fill=\"none\" style=\"stroke:rgb(0.0, 138.56128015770724, 250.76166088685727);stroke-width:2\" />  </svg></g><g transform=\"translate(-4,0)\">  <svg x=\"91.4607897114292%\" y=\"40\" height=\"18\" overflow=\"visible\" width=\"30\">    <path d=\"M 8 -9 l -6 18 L 8 25\" fill=\"none\" style=\"stroke:rgb(0.0, 138.56128015770724, 250.76166088685727);stroke-width:2\" />  </svg></g><rect transform=\"translate(0,0)\" x=\"83.172734826608%\" y=\"40\" width=\"8\" height=\"18\" style=\"fill:rgb(0.0, 138.56128015770724, 250.76166088685727)\"/><g transform=\"translate(-6.0,0)\">  <svg x=\"91.66666576743673%\" y=\"40\" height=\"18\" overflow=\"visible\" width=\"30\">    <path d=\"M 8 -9 l -6 18 L 8 25 L 20 25 L 20 -9\" fill=\"#ffffff\" style=\"stroke:rgb(255,255,255);stroke-width:2\" />  </svg></g><g transform=\"translate(-6.0,0)\">  <svg x=\"86.39270679263468%\" y=\"40\" height=\"18\" overflow=\"visible\" width=\"30\">    <path d=\"M 8 -9 l -6 18 L 8 25\" fill=\"none\" style=\"stroke:rgb(208, 230, 250);stroke-width:2\" />  </svg></g><rect x=\"83.172734826608%\" y=\"40\" height=\"20\" width=\"3.2199719660266766%\"      onmouseover=\"document.getElementById('_tp_apojgywhhjitpqckkhgy_ind_18').style.textDecoration = 'underline';document.getElementById('_fs_apojgywhhjitpqckkhgy_ind_18').style.opacity = 1;document.getElementById('_fb_apojgywhhjitpqckkhgy_ind_18').style.opacity = 1;\"      onmouseout=\"document.getElementById('_tp_apojgywhhjitpqckkhgy_ind_18').style.textDecoration = 'none';document.getElementById('_fs_apojgywhhjitpqckkhgy_ind_18').style.opacity = 0;document.getElementById('_fb_apojgywhhjitpqckkhgy_ind_18').style.opacity = 0;\" style=\"fill:rgb(0,0,0,0)\" /><g transform=\"translate(-6.0,0)\">  <svg x=\"88.88679555216503%\" y=\"40\" height=\"18\" overflow=\"visible\" width=\"30\">    <path d=\"M 8 -9 l -6 18 L 8 25\" fill=\"none\" style=\"stroke:rgb(208, 230, 250);stroke-width:2\" />  </svg></g><rect x=\"86.39270679263468%\" y=\"40\" height=\"20\" width=\"2.4940887595303423%\"      onmouseover=\"document.getElementById('_tp_apojgywhhjitpqckkhgy_ind_15').style.textDecoration = 'underline';document.getElementById('_fs_apojgywhhjitpqckkhgy_ind_15').style.opacity = 1;document.getElementById('_fb_apojgywhhjitpqckkhgy_ind_15').style.opacity = 1;\"      onmouseout=\"document.getElementById('_tp_apojgywhhjitpqckkhgy_ind_15').style.textDecoration = 'none';document.getElementById('_fs_apojgywhhjitpqckkhgy_ind_15').style.opacity = 0;document.getElementById('_fb_apojgywhhjitpqckkhgy_ind_15').style.opacity = 0;\" style=\"fill:rgb(0,0,0,0)\" /><g transform=\"translate(-6.0,0)\">  <svg x=\"89.86157826212437%\" y=\"40\" height=\"18\" overflow=\"visible\" width=\"30\">    <path d=\"M 8 -9 l -6 18 L 8 25\" fill=\"none\" style=\"stroke:rgb(208, 230, 250);stroke-width:2\" />  </svg></g><rect x=\"88.88679555216503%\" y=\"40\" height=\"20\" width=\"0.9747827099593422%\"      onmouseover=\"document.getElementById('_tp_apojgywhhjitpqckkhgy_ind_13').style.textDecoration = 'underline';document.getElementById('_fs_apojgywhhjitpqckkhgy_ind_13').style.opacity = 1;document.getElementById('_fb_apojgywhhjitpqckkhgy_ind_13').style.opacity = 1;\"      onmouseout=\"document.getElementById('_tp_apojgywhhjitpqckkhgy_ind_13').style.textDecoration = 'none';document.getElementById('_fs_apojgywhhjitpqckkhgy_ind_13').style.opacity = 0;document.getElementById('_fb_apojgywhhjitpqckkhgy_ind_13').style.opacity = 0;\" style=\"fill:rgb(0,0,0,0)\" /><g transform=\"translate(-6.0,0)\">  <svg x=\"90.56611933320674%\" y=\"40\" height=\"18\" overflow=\"visible\" width=\"30\">    <path d=\"M 8 -9 l -6 18 L 8 25\" fill=\"none\" style=\"stroke:rgb(208, 230, 250);stroke-width:2\" />  </svg></g><rect x=\"89.86157826212437%\" y=\"40\" height=\"20\" width=\"0.7045410710823745%\"      onmouseover=\"document.getElementById('_tp_apojgywhhjitpqckkhgy_ind_2').style.textDecoration = 'underline';document.getElementById('_fs_apojgywhhjitpqckkhgy_ind_2').style.opacity = 1;document.getElementById('_fb_apojgywhhjitpqckkhgy_ind_2').style.opacity = 1;\"      onmouseout=\"document.getElementById('_tp_apojgywhhjitpqckkhgy_ind_2').style.textDecoration = 'none';document.getElementById('_fs_apojgywhhjitpqckkhgy_ind_2').style.opacity = 0;document.getElementById('_fb_apojgywhhjitpqckkhgy_ind_2').style.opacity = 0;\" style=\"fill:rgb(0,0,0,0)\" /><g transform=\"translate(-6.0,0)\">  <svg x=\"91.18972779043763%\" y=\"40\" height=\"18\" overflow=\"visible\" width=\"30\">    <path d=\"M 8 -9 l -6 18 L 8 25\" fill=\"none\" style=\"stroke:rgb(208, 230, 250);stroke-width:2\" />  </svg></g><rect x=\"90.56611933320674%\" y=\"40\" height=\"20\" width=\"0.6236084572308869%\"      onmouseover=\"document.getElementById('_tp_apojgywhhjitpqckkhgy_ind_9').style.textDecoration = 'underline';document.getElementById('_fs_apojgywhhjitpqckkhgy_ind_9').style.opacity = 1;document.getElementById('_fb_apojgywhhjitpqckkhgy_ind_9').style.opacity = 1;\"      onmouseout=\"document.getElementById('_tp_apojgywhhjitpqckkhgy_ind_9').style.textDecoration = 'none';document.getElementById('_fs_apojgywhhjitpqckkhgy_ind_9').style.opacity = 0;document.getElementById('_fb_apojgywhhjitpqckkhgy_ind_9').style.opacity = 0;\" style=\"fill:rgb(0,0,0,0)\" /><g transform=\"translate(-6.0,0)\">  <svg x=\"91.4607897114292%\" y=\"40\" height=\"18\" overflow=\"visible\" width=\"30\">    <path d=\"M 8 -9 l -6 18 L 8 25\" fill=\"none\" style=\"stroke:rgb(208, 230, 250);stroke-width:2\" />  </svg></g><rect x=\"91.18972779043763%\" y=\"40\" height=\"20\" width=\"0.27106192099157056%\"      onmouseover=\"document.getElementById('_tp_apojgywhhjitpqckkhgy_ind_24').style.textDecoration = 'underline';document.getElementById('_fs_apojgywhhjitpqckkhgy_ind_24').style.opacity = 1;document.getElementById('_fb_apojgywhhjitpqckkhgy_ind_24').style.opacity = 1;\"      onmouseout=\"document.getElementById('_tp_apojgywhhjitpqckkhgy_ind_24').style.textDecoration = 'none';document.getElementById('_fs_apojgywhhjitpqckkhgy_ind_24').style.opacity = 0;document.getElementById('_fb_apojgywhhjitpqckkhgy_ind_24').style.opacity = 0;\" style=\"fill:rgb(0,0,0,0)\" /><rect x=\"91.4607897114292%\" y=\"40\" height=\"20\" width=\"0.20587605600752568%\"      onmouseover=\"document.getElementById('_tp_apojgywhhjitpqckkhgy_ind_3').style.textDecoration = 'underline';document.getElementById('_fs_apojgywhhjitpqckkhgy_ind_3').style.opacity = 1;document.getElementById('_fb_apojgywhhjitpqckkhgy_ind_3').style.opacity = 1;\"      onmouseout=\"document.getElementById('_tp_apojgywhhjitpqckkhgy_ind_3').style.textDecoration = 'none';document.getElementById('_fs_apojgywhhjitpqckkhgy_ind_3').style.opacity = 0;document.getElementById('_fb_apojgywhhjitpqckkhgy_ind_3').style.opacity = 0;\" style=\"fill:rgb(0,0,0,0)\" /></svg><div align='center'><div style=\"color: rgb(120,120,120); font-size: 12px; margin-top: -15px;\">inputs</div><div style='display: inline; text-align: center;'\n",
       "    ><div style='display: none; color: #999; padding-top: 0px; font-size: 12px;'>0.0</div\n",
       "        ><div id='_tp_apojgywhhjitpqckkhgy_ind_0'\n",
       "            style='display: inline; background: rgba(230.2941176470614, 26.505882352939775, 102.59215686274348, 0.0); border-radius: 3px; padding: 0px'\n",
       "            onclick=\"\n",
       "            if (this.previousSibling.style.display == 'none') {\n",
       "                this.previousSibling.style.display = 'block';\n",
       "                this.parentNode.style.display = 'inline-block';\n",
       "            } else {\n",
       "                this.previousSibling.style.display = 'none';\n",
       "                this.parentNode.style.display = 'inline';\n",
       "            }\"\n",
       "            onmouseover=\"document.getElementById('_fb_apojgywhhjitpqckkhgy_ind_0').style.opacity = 1; document.getElementById('_fs_apojgywhhjitpqckkhgy_ind_0').style.opacity = 1;\"\n",
       "            onmouseout=\"document.getElementById('_fb_apojgywhhjitpqckkhgy_ind_0').style.opacity = 0; document.getElementById('_fs_apojgywhhjitpqckkhgy_ind_0').style.opacity = 0;\"\n",
       "        ></div></div><div style='display: inline; text-align: center;'\n",
       "    ><div style='display: none; color: #999; padding-top: 0px; font-size: 12px;'>0.035</div\n",
       "        ><div id='_tp_apojgywhhjitpqckkhgy_ind_1'\n",
       "            style='display: inline; background: rgba(255.0, 13.0, 87.0, 0.20384234501881549); border-radius: 3px; padding: 0px'\n",
       "            onclick=\"\n",
       "            if (this.previousSibling.style.display == 'none') {\n",
       "                this.previousSibling.style.display = 'block';\n",
       "                this.parentNode.style.display = 'inline-block';\n",
       "            } else {\n",
       "                this.previousSibling.style.display = 'none';\n",
       "                this.parentNode.style.display = 'inline';\n",
       "            }\"\n",
       "            onmouseover=\"document.getElementById('_fb_apojgywhhjitpqckkhgy_ind_1').style.opacity = 1; document.getElementById('_fs_apojgywhhjitpqckkhgy_ind_1').style.opacity = 1;\"\n",
       "            onmouseout=\"document.getElementById('_fb_apojgywhhjitpqckkhgy_ind_1').style.opacity = 0; document.getElementById('_fs_apojgywhhjitpqckkhgy_ind_1').style.opacity = 0;\"\n",
       "        >YOU </div></div><div style='display: inline; text-align: center;'\n",
       "    ><div style='display: none; color: #999; padding-top: 0px; font-size: 12px;'>-0.007</div\n",
       "        ><div id='_tp_apojgywhhjitpqckkhgy_ind_2'\n",
       "            style='display: inline; background: rgba(30.0, 136.0, 229.0, 0.03830461477520309); border-radius: 3px; padding: 0px'\n",
       "            onclick=\"\n",
       "            if (this.previousSibling.style.display == 'none') {\n",
       "                this.previousSibling.style.display = 'block';\n",
       "                this.parentNode.style.display = 'inline-block';\n",
       "            } else {\n",
       "                this.previousSibling.style.display = 'none';\n",
       "                this.parentNode.style.display = 'inline';\n",
       "            }\"\n",
       "            onmouseover=\"document.getElementById('_fb_apojgywhhjitpqckkhgy_ind_2').style.opacity = 1; document.getElementById('_fs_apojgywhhjitpqckkhgy_ind_2').style.opacity = 1;\"\n",
       "            onmouseout=\"document.getElementById('_fb_apojgywhhjitpqckkhgy_ind_2').style.opacity = 0; document.getElementById('_fs_apojgywhhjitpqckkhgy_ind_2').style.opacity = 0;\"\n",
       "        >BET</div></div><div style='display: inline; text-align: center;'\n",
       "    ><div style='display: none; color: #999; padding-top: 0px; font-size: 12px;'>-0.002</div\n",
       "        ><div id='_tp_apojgywhhjitpqckkhgy_ind_3'\n",
       "            style='display: inline; background: rgba(30.0, 136.0, 229.0, 0.006773618538324436); border-radius: 3px; padding: 0px'\n",
       "            onclick=\"\n",
       "            if (this.previousSibling.style.display == 'none') {\n",
       "                this.previousSibling.style.display = 'block';\n",
       "                this.parentNode.style.display = 'inline-block';\n",
       "            } else {\n",
       "                this.previousSibling.style.display = 'none';\n",
       "                this.parentNode.style.display = 'inline';\n",
       "            }\"\n",
       "            onmouseover=\"document.getElementById('_fb_apojgywhhjitpqckkhgy_ind_3').style.opacity = 1; document.getElementById('_fs_apojgywhhjitpqckkhgy_ind_3').style.opacity = 1;\"\n",
       "            onmouseout=\"document.getElementById('_fb_apojgywhhjitpqckkhgy_ind_3').style.opacity = 0; document.getElementById('_fs_apojgywhhjitpqckkhgy_ind_3').style.opacity = 0;\"\n",
       "        >TER </div></div><div style='display: inline; text-align: center;'\n",
       "    ><div style='display: none; color: #999; padding-top: 0px; font-size: 12px;'>0.065</div\n",
       "        ><div id='_tp_apojgywhhjitpqckkhgy_ind_4'\n",
       "            style='display: inline; background: rgba(255.0, 13.0, 87.0, 0.3693800752624282); border-radius: 3px; padding: 0px'\n",
       "            onclick=\"\n",
       "            if (this.previousSibling.style.display == 'none') {\n",
       "                this.previousSibling.style.display = 'block';\n",
       "                this.parentNode.style.display = 'inline-block';\n",
       "            } else {\n",
       "                this.previousSibling.style.display = 'none';\n",
       "                this.parentNode.style.display = 'inline';\n",
       "            }\"\n",
       "            onmouseover=\"document.getElementById('_fb_apojgywhhjitpqckkhgy_ind_4').style.opacity = 1; document.getElementById('_fs_apojgywhhjitpqckkhgy_ind_4').style.opacity = 1;\"\n",
       "            onmouseout=\"document.getElementById('_fb_apojgywhhjitpqckkhgy_ind_4').style.opacity = 0; document.getElementById('_fs_apojgywhhjitpqckkhgy_ind_4').style.opacity = 0;\"\n",
       "        >S</div></div><div style='display: inline; text-align: center;'\n",
       "    ><div style='display: none; color: #999; padding-top: 0px; font-size: 12px;'>0.174</div\n",
       "        ><div id='_tp_apojgywhhjitpqckkhgy_ind_5'\n",
       "            style='display: inline; background: rgba(255.0, 13.0, 87.0, 1.0); border-radius: 3px; padding: 0px'\n",
       "            onclick=\"\n",
       "            if (this.previousSibling.style.display == 'none') {\n",
       "                this.previousSibling.style.display = 'block';\n",
       "                this.parentNode.style.display = 'inline-block';\n",
       "            } else {\n",
       "                this.previousSibling.style.display = 'none';\n",
       "                this.parentNode.style.display = 'inline';\n",
       "            }\"\n",
       "            onmouseover=\"document.getElementById('_fb_apojgywhhjitpqckkhgy_ind_5').style.opacity = 1; document.getElementById('_fs_apojgywhhjitpqckkhgy_ind_5').style.opacity = 1;\"\n",
       "            onmouseout=\"document.getElementById('_fb_apojgywhhjitpqckkhgy_ind_5').style.opacity = 0; document.getElementById('_fs_apojgywhhjitpqckkhgy_ind_5').style.opacity = 0;\"\n",
       "        >UCK </div></div><div style='display: inline; text-align: center;'\n",
       "    ><div style='display: none; color: #999; padding-top: 0px; font-size: 12px;'>0.047</div\n",
       "        ><div id='_tp_apojgywhhjitpqckkhgy_ind_6'\n",
       "            style='display: inline; background: rgba(255.0, 13.0, 87.0, 0.26690433749257286); border-radius: 3px; padding: 0px'\n",
       "            onclick=\"\n",
       "            if (this.previousSibling.style.display == 'none') {\n",
       "                this.previousSibling.style.display = 'block';\n",
       "                this.parentNode.style.display = 'inline-block';\n",
       "            } else {\n",
       "                this.previousSibling.style.display = 'none';\n",
       "                this.parentNode.style.display = 'inline';\n",
       "            }\"\n",
       "            onmouseover=\"document.getElementById('_fb_apojgywhhjitpqckkhgy_ind_6').style.opacity = 1; document.getElementById('_fs_apojgywhhjitpqckkhgy_ind_6').style.opacity = 1;\"\n",
       "            onmouseout=\"document.getElementById('_fb_apojgywhhjitpqckkhgy_ind_6').style.opacity = 0; document.getElementById('_fs_apojgywhhjitpqckkhgy_ind_6').style.opacity = 0;\"\n",
       "        >HIS </div></div><div style='display: inline; text-align: center;'\n",
       "    ><div style='display: none; color: #999; padding-top: 0px; font-size: 12px;'>0.06</div\n",
       "        ><div id='_tp_apojgywhhjitpqckkhgy_ind_7'\n",
       "            style='display: inline; background: rgba(255.0, 13.0, 87.0, 0.33784907902554967); border-radius: 3px; padding: 0px'\n",
       "            onclick=\"\n",
       "            if (this.previousSibling.style.display == 'none') {\n",
       "                this.previousSibling.style.display = 'block';\n",
       "                this.parentNode.style.display = 'inline-block';\n",
       "            } else {\n",
       "                this.previousSibling.style.display = 'none';\n",
       "                this.parentNode.style.display = 'inline';\n",
       "            }\"\n",
       "            onmouseover=\"document.getElementById('_fb_apojgywhhjitpqckkhgy_ind_7').style.opacity = 1; document.getElementById('_fs_apojgywhhjitpqckkhgy_ind_7').style.opacity = 1;\"\n",
       "            onmouseout=\"document.getElementById('_fb_apojgywhhjitpqckkhgy_ind_7').style.opacity = 0; document.getElementById('_fs_apojgywhhjitpqckkhgy_ind_7').style.opacity = 0;\"\n",
       "        >D</div></div><div style='display: inline; text-align: center;'\n",
       "    ><div style='display: none; color: #999; padding-top: 0px; font-size: 12px;'>0.156</div\n",
       "        ><div id='_tp_apojgywhhjitpqckkhgy_ind_8'\n",
       "            style='display: inline; background: rgba(255.0, 13.0, 87.0, 0.8975242622301447); border-radius: 3px; padding: 0px'\n",
       "            onclick=\"\n",
       "            if (this.previousSibling.style.display == 'none') {\n",
       "                this.previousSibling.style.display = 'block';\n",
       "                this.parentNode.style.display = 'inline-block';\n",
       "            } else {\n",
       "                this.previousSibling.style.display = 'none';\n",
       "                this.parentNode.style.display = 'inline';\n",
       "            }\"\n",
       "            onmouseover=\"document.getElementById('_fb_apojgywhhjitpqckkhgy_ind_8').style.opacity = 1; document.getElementById('_fs_apojgywhhjitpqckkhgy_ind_8').style.opacity = 1;\"\n",
       "            onmouseout=\"document.getElementById('_fb_apojgywhhjitpqckkhgy_ind_8').style.opacity = 0; document.getElementById('_fs_apojgywhhjitpqckkhgy_ind_8').style.opacity = 0;\"\n",
       "        >ICK </div></div><div style='display: inline; text-align: center;'\n",
       "    ><div style='display: none; color: #999; padding-top: 0px; font-size: 12px;'>-0.006</div\n",
       "        ><div id='_tp_apojgywhhjitpqckkhgy_ind_9'\n",
       "            style='display: inline; background: rgba(30.0, 136.0, 229.0, 0.03042186571598325); border-radius: 3px; padding: 0px'\n",
       "            onclick=\"\n",
       "            if (this.previousSibling.style.display == 'none') {\n",
       "                this.previousSibling.style.display = 'block';\n",
       "                this.parentNode.style.display = 'inline-block';\n",
       "            } else {\n",
       "                this.previousSibling.style.display = 'none';\n",
       "                this.parentNode.style.display = 'inline';\n",
       "            }\"\n",
       "            onmouseover=\"document.getElementById('_fb_apojgywhhjitpqckkhgy_ind_9').style.opacity = 1; document.getElementById('_fs_apojgywhhjitpqckkhgy_ind_9').style.opacity = 1;\"\n",
       "            onmouseout=\"document.getElementById('_fb_apojgywhhjitpqckkhgy_ind_9').style.opacity = 0; document.getElementById('_fs_apojgywhhjitpqckkhgy_ind_9').style.opacity = 0;\"\n",
       "        >KO</div></div><div style='display: inline; text-align: center;'\n",
       "    ><div style='display: none; color: #999; padding-top: 0px; font-size: 12px;'>0.008</div\n",
       "        ><div id='_tp_apojgywhhjitpqckkhgy_ind_10'\n",
       "            style='display: inline; background: rgba(255.0, 13.0, 87.0, 0.03830461477520289); border-radius: 3px; padding: 0px'\n",
       "            onclick=\"\n",
       "            if (this.previousSibling.style.display == 'none') {\n",
       "                this.previousSibling.style.display = 'block';\n",
       "                this.parentNode.style.display = 'inline-block';\n",
       "            } else {\n",
       "                this.previousSibling.style.display = 'none';\n",
       "                this.parentNode.style.display = 'inline';\n",
       "            }\"\n",
       "            onmouseover=\"document.getElementById('_fb_apojgywhhjitpqckkhgy_ind_10').style.opacity = 1; document.getElementById('_fs_apojgywhhjitpqckkhgy_ind_10').style.opacity = 1;\"\n",
       "            onmouseout=\"document.getElementById('_fb_apojgywhhjitpqckkhgy_ind_10').style.opacity = 0; document.getElementById('_fs_apojgywhhjitpqckkhgy_ind_10').style.opacity = 0;\"\n",
       "        >Z</div></div><div style='display: inline; text-align: center;'\n",
       "    ><div style='display: none; color: #999; padding-top: 0px; font-size: 12px;'>0.019</div\n",
       "        ><div id='_tp_apojgywhhjitpqckkhgy_ind_11'\n",
       "            style='display: inline; background: rgba(255.0, 13.0, 87.0, 0.10924935630817992); border-radius: 3px; padding: 0px'\n",
       "            onclick=\"\n",
       "            if (this.previousSibling.style.display == 'none') {\n",
       "                this.previousSibling.style.display = 'block';\n",
       "                this.parentNode.style.display = 'inline-block';\n",
       "            } else {\n",
       "                this.previousSibling.style.display = 'none';\n",
       "                this.parentNode.style.display = 'inline';\n",
       "            }\"\n",
       "            onmouseover=\"document.getElementById('_fb_apojgywhhjitpqckkhgy_ind_11').style.opacity = 1; document.getElementById('_fs_apojgywhhjitpqckkhgy_ind_11').style.opacity = 1;\"\n",
       "            onmouseout=\"document.getElementById('_fb_apojgywhhjitpqckkhgy_ind_11').style.opacity = 0; document.getElementById('_fs_apojgywhhjitpqckkhgy_ind_11').style.opacity = 0;\"\n",
       "        >Y </div></div><div style='display: inline; text-align: center;'\n",
       "    ><div style='display: none; color: #999; padding-top: 0px; font-size: 12px;'>0.027</div\n",
       "        ><div id='_tp_apojgywhhjitpqckkhgy_ind_12'\n",
       "            style='display: inline; background: rgba(255.0, 13.0, 87.0, 0.14866310160427795); border-radius: 3px; padding: 0px'\n",
       "            onclick=\"\n",
       "            if (this.previousSibling.style.display == 'none') {\n",
       "                this.previousSibling.style.display = 'block';\n",
       "                this.parentNode.style.display = 'inline-block';\n",
       "            } else {\n",
       "                this.previousSibling.style.display = 'none';\n",
       "                this.parentNode.style.display = 'inline';\n",
       "            }\"\n",
       "            onmouseover=\"document.getElementById('_fb_apojgywhhjitpqckkhgy_ind_12').style.opacity = 1; document.getElementById('_fs_apojgywhhjitpqckkhgy_ind_12').style.opacity = 1;\"\n",
       "            onmouseout=\"document.getElementById('_fb_apojgywhhjitpqckkhgy_ind_12').style.opacity = 0; document.getElementById('_fs_apojgywhhjitpqckkhgy_ind_12').style.opacity = 0;\"\n",
       "        >I </div></div><div style='display: inline; text-align: center;'\n",
       "    ><div style='display: none; color: #999; padding-top: 0px; font-size: 12px;'>-0.01</div\n",
       "        ><div id='_tp_apojgywhhjitpqckkhgy_ind_13'\n",
       "            style='display: inline; background: rgba(30.0, 136.0, 229.0, 0.05407011289364222); border-radius: 3px; padding: 0px'\n",
       "            onclick=\"\n",
       "            if (this.previousSibling.style.display == 'none') {\n",
       "                this.previousSibling.style.display = 'block';\n",
       "                this.parentNode.style.display = 'inline-block';\n",
       "            } else {\n",
       "                this.previousSibling.style.display = 'none';\n",
       "                this.parentNode.style.display = 'inline';\n",
       "            }\"\n",
       "            onmouseover=\"document.getElementById('_fb_apojgywhhjitpqckkhgy_ind_13').style.opacity = 1; document.getElementById('_fs_apojgywhhjitpqckkhgy_ind_13').style.opacity = 1;\"\n",
       "            onmouseout=\"document.getElementById('_fb_apojgywhhjitpqckkhgy_ind_13').style.opacity = 0; document.getElementById('_fs_apojgywhhjitpqckkhgy_ind_13').style.opacity = 0;\"\n",
       "        >SEE </div></div><div style='display: inline; text-align: center;'\n",
       "    ><div style='display: none; color: #999; padding-top: 0px; font-size: 12px;'>0.004</div\n",
       "        ><div id='_tp_apojgywhhjitpqckkhgy_ind_14'\n",
       "            style='display: inline; background: rgba(255.0, 13.0, 87.0, 0.014656367597544035); border-radius: 3px; padding: 0px'\n",
       "            onclick=\"\n",
       "            if (this.previousSibling.style.display == 'none') {\n",
       "                this.previousSibling.style.display = 'block';\n",
       "                this.parentNode.style.display = 'inline-block';\n",
       "            } else {\n",
       "                this.previousSibling.style.display = 'none';\n",
       "                this.parentNode.style.display = 'inline';\n",
       "            }\"\n",
       "            onmouseover=\"document.getElementById('_fb_apojgywhhjitpqckkhgy_ind_14').style.opacity = 1; document.getElementById('_fs_apojgywhhjitpqckkhgy_ind_14').style.opacity = 1;\"\n",
       "            onmouseout=\"document.getElementById('_fb_apojgywhhjitpqckkhgy_ind_14').style.opacity = 0; document.getElementById('_fs_apojgywhhjitpqckkhgy_ind_14').style.opacity = 0;\"\n",
       "        >YOU </div></div><div style='display: inline; text-align: center;'\n",
       "    ><div style='display: none; color: #999; padding-top: 0px; font-size: 12px;'>-0.025</div\n",
       "        ><div id='_tp_apojgywhhjitpqckkhgy_ind_15'\n",
       "            style='display: inline; background: rgba(30.0, 136.0, 229.0, 0.14078035254505836); border-radius: 3px; padding: 0px'\n",
       "            onclick=\"\n",
       "            if (this.previousSibling.style.display == 'none') {\n",
       "                this.previousSibling.style.display = 'block';\n",
       "                this.parentNode.style.display = 'inline-block';\n",
       "            } else {\n",
       "                this.previousSibling.style.display = 'none';\n",
       "                this.parentNode.style.display = 'inline';\n",
       "            }\"\n",
       "            onmouseover=\"document.getElementById('_fb_apojgywhhjitpqckkhgy_ind_15').style.opacity = 1; document.getElementById('_fs_apojgywhhjitpqckkhgy_ind_15').style.opacity = 1;\"\n",
       "            onmouseout=\"document.getElementById('_fb_apojgywhhjitpqckkhgy_ind_15').style.opacity = 0; document.getElementById('_fs_apojgywhhjitpqckkhgy_ind_15').style.opacity = 0;\"\n",
       "        >WITH </div></div><div style='display: inline; text-align: center;'\n",
       "    ><div style='display: none; color: #999; padding-top: 0px; font-size: 12px;'>0.012</div\n",
       "        ><div id='_tp_apojgywhhjitpqckkhgy_ind_16'\n",
       "            style='display: inline; background: rgba(255.0, 13.0, 87.0, 0.06195286195286207); border-radius: 3px; padding: 0px'\n",
       "            onclick=\"\n",
       "            if (this.previousSibling.style.display == 'none') {\n",
       "                this.previousSibling.style.display = 'block';\n",
       "                this.parentNode.style.display = 'inline-block';\n",
       "            } else {\n",
       "                this.previousSibling.style.display = 'none';\n",
       "                this.parentNode.style.display = 'inline';\n",
       "            }\"\n",
       "            onmouseover=\"document.getElementById('_fb_apojgywhhjitpqckkhgy_ind_16').style.opacity = 1; document.getElementById('_fs_apojgywhhjitpqckkhgy_ind_16').style.opacity = 1;\"\n",
       "            onmouseout=\"document.getElementById('_fb_apojgywhhjitpqckkhgy_ind_16').style.opacity = 0; document.getElementById('_fs_apojgywhhjitpqckkhgy_ind_16').style.opacity = 0;\"\n",
       "        >KN</div></div><div style='display: inline; text-align: center;'\n",
       "    ><div style='display: none; color: #999; padding-top: 0px; font-size: 12px;'>0.08</div\n",
       "        ><div id='_tp_apojgywhhjitpqckkhgy_ind_17'\n",
       "            style='display: inline; background: rgba(255.0, 13.0, 87.0, 0.46397306397306415); border-radius: 3px; padding: 0px'\n",
       "            onclick=\"\n",
       "            if (this.previousSibling.style.display == 'none') {\n",
       "                this.previousSibling.style.display = 'block';\n",
       "                this.parentNode.style.display = 'inline-block';\n",
       "            } else {\n",
       "                this.previousSibling.style.display = 'none';\n",
       "                this.parentNode.style.display = 'inline';\n",
       "            }\"\n",
       "            onmouseover=\"document.getElementById('_fb_apojgywhhjitpqckkhgy_ind_17').style.opacity = 1; document.getElementById('_fs_apojgywhhjitpqckkhgy_ind_17').style.opacity = 1;\"\n",
       "            onmouseout=\"document.getElementById('_fb_apojgywhhjitpqckkhgy_ind_17').style.opacity = 0; document.getElementById('_fs_apojgywhhjitpqckkhgy_ind_17').style.opacity = 0;\"\n",
       "        >UCK</div></div><div style='display: inline; text-align: center;'\n",
       "    ><div style='display: none; color: #999; padding-top: 0px; font-size: 12px;'>-0.033</div\n",
       "        ><div id='_tp_apojgywhhjitpqckkhgy_ind_18'\n",
       "            style='display: inline; background: rgba(30.0, 136.0, 229.0, 0.1880768469003762); border-radius: 3px; padding: 0px'\n",
       "            onclick=\"\n",
       "            if (this.previousSibling.style.display == 'none') {\n",
       "                this.previousSibling.style.display = 'block';\n",
       "                this.parentNode.style.display = 'inline-block';\n",
       "            } else {\n",
       "                this.previousSibling.style.display = 'none';\n",
       "                this.parentNode.style.display = 'inline';\n",
       "            }\"\n",
       "            onmouseover=\"document.getElementById('_fb_apojgywhhjitpqckkhgy_ind_18').style.opacity = 1; document.getElementById('_fs_apojgywhhjitpqckkhgy_ind_18').style.opacity = 1;\"\n",
       "            onmouseout=\"document.getElementById('_fb_apojgywhhjitpqckkhgy_ind_18').style.opacity = 0; document.getElementById('_fs_apojgywhhjitpqckkhgy_ind_18').style.opacity = 0;\"\n",
       "        >LES </div></div><div style='display: inline; text-align: center;'\n",
       "    ><div style='display: none; color: #999; padding-top: 0px; font-size: 12px;'>0.029</div\n",
       "        ><div id='_tp_apojgywhhjitpqckkhgy_ind_19'\n",
       "            style='display: inline; background: rgba(255.0, 13.0, 87.0, 0.16442859972271742); border-radius: 3px; padding: 0px'\n",
       "            onclick=\"\n",
       "            if (this.previousSibling.style.display == 'none') {\n",
       "                this.previousSibling.style.display = 'block';\n",
       "                this.parentNode.style.display = 'inline-block';\n",
       "            } else {\n",
       "                this.previousSibling.style.display = 'none';\n",
       "                this.parentNode.style.display = 'inline';\n",
       "            }\"\n",
       "            onmouseover=\"document.getElementById('_fb_apojgywhhjitpqckkhgy_ind_19').style.opacity = 1; document.getElementById('_fs_apojgywhhjitpqckkhgy_ind_19').style.opacity = 1;\"\n",
       "            onmouseout=\"document.getElementById('_fb_apojgywhhjitpqckkhgy_ind_19').style.opacity = 0; document.getElementById('_fs_apojgywhhjitpqckkhgy_ind_19').style.opacity = 0;\"\n",
       "        >GET </div></div><div style='display: inline; text-align: center;'\n",
       "    ><div style='display: none; color: #999; padding-top: 0px; font-size: 12px;'>0.002</div\n",
       "        ><div id='_tp_apojgywhhjitpqckkhgy_ind_20'\n",
       "            style='display: inline; background: rgba(255.0, 13.0, 87.0, 0.00677361853832443); border-radius: 3px; padding: 0px'\n",
       "            onclick=\"\n",
       "            if (this.previousSibling.style.display == 'none') {\n",
       "                this.previousSibling.style.display = 'block';\n",
       "                this.parentNode.style.display = 'inline-block';\n",
       "            } else {\n",
       "                this.previousSibling.style.display = 'none';\n",
       "                this.parentNode.style.display = 'inline';\n",
       "            }\"\n",
       "            onmouseover=\"document.getElementById('_fb_apojgywhhjitpqckkhgy_ind_20').style.opacity = 1; document.getElementById('_fs_apojgywhhjitpqckkhgy_ind_20').style.opacity = 1;\"\n",
       "            onmouseout=\"document.getElementById('_fb_apojgywhhjitpqckkhgy_ind_20').style.opacity = 0; document.getElementById('_fs_apojgywhhjitpqckkhgy_ind_20').style.opacity = 0;\"\n",
       "        >EM </div></div><div style='display: inline; text-align: center;'\n",
       "    ><div style='display: none; color: #999; padding-top: 0px; font-size: 12px;'>0.014</div\n",
       "        ><div id='_tp_apojgywhhjitpqckkhgy_ind_21'\n",
       "            style='display: inline; background: rgba(255.0, 13.0, 87.0, 0.07771836007130124); border-radius: 3px; padding: 0px'\n",
       "            onclick=\"\n",
       "            if (this.previousSibling.style.display == 'none') {\n",
       "                this.previousSibling.style.display = 'block';\n",
       "                this.parentNode.style.display = 'inline-block';\n",
       "            } else {\n",
       "                this.previousSibling.style.display = 'none';\n",
       "                this.parentNode.style.display = 'inline';\n",
       "            }\"\n",
       "            onmouseover=\"document.getElementById('_fb_apojgywhhjitpqckkhgy_ind_21').style.opacity = 1; document.getElementById('_fs_apojgywhhjitpqckkhgy_ind_21').style.opacity = 1;\"\n",
       "            onmouseout=\"document.getElementById('_fb_apojgywhhjitpqckkhgy_ind_21').style.opacity = 0; document.getElementById('_fs_apojgywhhjitpqckkhgy_ind_21').style.opacity = 0;\"\n",
       "        >G</div></div><div style='display: inline; text-align: center;'\n",
       "    ><div style='display: none; color: #999; padding-top: 0px; font-size: 12px;'>0.002</div\n",
       "        ><div id='_tp_apojgywhhjitpqckkhgy_ind_22'\n",
       "            style='display: inline; background: rgba(255.0, 13.0, 87.0, 0.00677361853832443); border-radius: 3px; padding: 0px'\n",
       "            onclick=\"\n",
       "            if (this.previousSibling.style.display == 'none') {\n",
       "                this.previousSibling.style.display = 'block';\n",
       "                this.parentNode.style.display = 'inline-block';\n",
       "            } else {\n",
       "                this.previousSibling.style.display = 'none';\n",
       "                this.parentNode.style.display = 'inline';\n",
       "            }\"\n",
       "            onmouseover=\"document.getElementById('_fb_apojgywhhjitpqckkhgy_ind_22').style.opacity = 1; document.getElementById('_fs_apojgywhhjitpqckkhgy_ind_22').style.opacity = 1;\"\n",
       "            onmouseout=\"document.getElementById('_fb_apojgywhhjitpqckkhgy_ind_22').style.opacity = 0; document.getElementById('_fs_apojgywhhjitpqckkhgy_ind_22').style.opacity = 0;\"\n",
       "        >Y</div></div><div style='display: inline; text-align: center;'\n",
       "    ><div style='display: none; color: #999; padding-top: 0px; font-size: 12px;'>0.028</div\n",
       "        ><div id='_tp_apojgywhhjitpqckkhgy_ind_23'\n",
       "            style='display: inline; background: rgba(255.0, 13.0, 87.0, 0.15654585066349747); border-radius: 3px; padding: 0px'\n",
       "            onclick=\"\n",
       "            if (this.previousSibling.style.display == 'none') {\n",
       "                this.previousSibling.style.display = 'block';\n",
       "                this.parentNode.style.display = 'inline-block';\n",
       "            } else {\n",
       "                this.previousSibling.style.display = 'none';\n",
       "                this.parentNode.style.display = 'inline';\n",
       "            }\"\n",
       "            onmouseover=\"document.getElementById('_fb_apojgywhhjitpqckkhgy_ind_23').style.opacity = 1; document.getElementById('_fs_apojgywhhjitpqckkhgy_ind_23').style.opacity = 1;\"\n",
       "            onmouseout=\"document.getElementById('_fb_apojgywhhjitpqckkhgy_ind_23').style.opacity = 0; document.getElementById('_fs_apojgywhhjitpqckkhgy_ind_23').style.opacity = 0;\"\n",
       "        >AAA</div></div><div style='display: inline; text-align: center;'\n",
       "    ><div style='display: none; color: #999; padding-top: 0px; font-size: 12px;'>-0.003</div\n",
       "        ><div id='_tp_apojgywhhjitpqckkhgy_ind_24'\n",
       "            style='display: inline; background: rgba(30.0, 136.0, 229.0, 0.014656367597544028); border-radius: 3px; padding: 0px'\n",
       "            onclick=\"\n",
       "            if (this.previousSibling.style.display == 'none') {\n",
       "                this.previousSibling.style.display = 'block';\n",
       "                this.parentNode.style.display = 'inline-block';\n",
       "            } else {\n",
       "                this.previousSibling.style.display = 'none';\n",
       "                this.parentNode.style.display = 'inline';\n",
       "            }\"\n",
       "            onmouseover=\"document.getElementById('_fb_apojgywhhjitpqckkhgy_ind_24').style.opacity = 1; document.getElementById('_fs_apojgywhhjitpqckkhgy_ind_24').style.opacity = 1;\"\n",
       "            onmouseout=\"document.getElementById('_fb_apojgywhhjitpqckkhgy_ind_24').style.opacity = 0; document.getElementById('_fs_apojgywhhjitpqckkhgy_ind_24').style.opacity = 0;\"\n",
       "        >AL</div></div><div style='display: inline; text-align: center;'\n",
       "    ><div style='display: none; color: #999; padding-top: 0px; font-size: 12px;'>0.0</div\n",
       "        ><div id='_tp_apojgywhhjitpqckkhgy_ind_25'\n",
       "            style='display: inline; background: rgba(230.2941176470614, 26.505882352939775, 102.59215686274348, 0.0); border-radius: 3px; padding: 0px'\n",
       "            onclick=\"\n",
       "            if (this.previousSibling.style.display == 'none') {\n",
       "                this.previousSibling.style.display = 'block';\n",
       "                this.parentNode.style.display = 'inline-block';\n",
       "            } else {\n",
       "                this.previousSibling.style.display = 'none';\n",
       "                this.parentNode.style.display = 'inline';\n",
       "            }\"\n",
       "            onmouseover=\"document.getElementById('_fb_apojgywhhjitpqckkhgy_ind_25').style.opacity = 1; document.getElementById('_fs_apojgywhhjitpqckkhgy_ind_25').style.opacity = 1;\"\n",
       "            onmouseout=\"document.getElementById('_fb_apojgywhhjitpqckkhgy_ind_25').style.opacity = 0; document.getElementById('_fs_apojgywhhjitpqckkhgy_ind_25').style.opacity = 0;\"\n",
       "        ></div></div></div></div></div>"
      ],
      "text/plain": [
       "<IPython.core.display.HTML object>"
      ]
     },
     "metadata": {},
     "output_type": "display_data"
    }
   ],
   "source": [
    "# plot the shap values for the first text\n",
    "shap.plots.text(shap_values[0])"
   ]
  },
  {
   "attachments": {},
   "cell_type": "markdown",
   "metadata": {},
   "source": [
    "5. **Bonus** Train a naive Bayes model on the data, and compare its results with this model."
   ]
  },
  {
   "cell_type": "code",
   "execution_count": 32,
   "metadata": {},
   "outputs": [],
   "source": [
    "# Vectorize the text data\n",
    "vectorizer = CountVectorizer()\n",
    "X_train = vectorizer.fit_transform(train_dataset['text'])\n",
    "y_train = np.array(train_dataset['label'])\n",
    "X_test = vectorizer.transform(test_dataset['text'])\n",
    "y_test = np.array(test_dataset['label'])\n",
    "\n",
    "\n",
    "# our Naive Bayes classifier\n",
    "nb = MultinomialNB()\n",
    "\n",
    "# Train our classifier\n",
    "model = nb.fit(X_train, y_train)\n",
    "\n",
    "# Make predictions\n",
    "preds = nb.predict(X_test)"
   ]
  },
  {
   "cell_type": "code",
   "execution_count": 33,
   "metadata": {},
   "outputs": [
    {
     "name": "stdout",
     "output_type": "stream",
     "text": [
      "Precision: 0.729\n",
      "Recall: 0.714\n",
      "F1-Score: 0.721\n"
     ]
    }
   ],
   "source": [
    "# let's evaluate the performance of the model on the test set\n",
    "\n",
    "precision = precision_score(true_labels, preds, average='macro')\n",
    "recall = recall_score(true_labels, preds, average='macro')\n",
    "f1 = f1_score(true_labels, preds, average='macro')\n",
    "\n",
    "print('Precision: %.3f' % precision)\n",
    "print('Recall: %.3f' % recall)\n",
    "print('F1-Score: %.3f' % f1)"
   ]
  },
  {
   "attachments": {},
   "cell_type": "markdown",
   "metadata": {},
   "source": [
    "We can see that the performance of the model is not very good compared to the previous model."
   ]
  },
  {
   "attachments": {},
   "cell_type": "markdown",
   "metadata": {},
   "source": [
    "## Annotate data (7 points)\n",
    "\n",
    "1. (1 point) Extract about 100 tweets containing at least 20% of your target class (offensive/hateful), from the 10K tweets provided. You can use the pretrained model to help you find tweets in the target class."
   ]
  },
  {
   "cell_type": "code",
   "execution_count": 37,
   "metadata": {},
   "outputs": [],
   "source": [
    "with open('tweets.json') as f:\n",
    "    data = json.load(f)\n",
    "texts = [item['text'] for item in data]"
   ]
  },
  {
   "cell_type": "code",
   "execution_count": 38,
   "metadata": {},
   "outputs": [],
   "source": [
    "df_tweets = pd.DataFrame(texts, columns=['text'])"
   ]
  },
  {
   "cell_type": "code",
   "execution_count": 39,
   "metadata": {},
   "outputs": [],
   "source": [
    "# use the model to predict the labels for the tweets\n",
    "df_tweets['label'] = df_tweets['text'].apply(lambda x: nlp(x)[0]['label'])\n",
    "df_tweets['label'] = df_tweets['label'].apply(lambda x: 1 if x == 'offensive' else 0)\n"
   ]
  },
  {
   "cell_type": "code",
   "execution_count": 40,
   "metadata": {},
   "outputs": [
    {
     "data": {
      "text/html": [
       "<div>\n",
       "<style scoped>\n",
       "    .dataframe tbody tr th:only-of-type {\n",
       "        vertical-align: middle;\n",
       "    }\n",
       "\n",
       "    .dataframe tbody tr th {\n",
       "        vertical-align: top;\n",
       "    }\n",
       "\n",
       "    .dataframe thead th {\n",
       "        text-align: right;\n",
       "    }\n",
       "</style>\n",
       "<table border=\"1\" class=\"dataframe\">\n",
       "  <thead>\n",
       "    <tr style=\"text-align: right;\">\n",
       "      <th></th>\n",
       "      <th>text</th>\n",
       "      <th>label</th>\n",
       "    </tr>\n",
       "  </thead>\n",
       "  <tbody>\n",
       "    <tr>\n",
       "      <th>0</th>\n",
       "      <td>YOU BETTER SUCK HIS DICK KOZY I SEE YOU WITH K...</td>\n",
       "      <td>1</td>\n",
       "    </tr>\n",
       "    <tr>\n",
       "      <th>1</th>\n",
       "      <td>I still canr believe it.😭😭😭😭😭</td>\n",
       "      <td>0</td>\n",
       "    </tr>\n",
       "    <tr>\n",
       "      <th>2</th>\n",
       "      <td>You should raise the webform....how would they...</td>\n",
       "      <td>0</td>\n",
       "    </tr>\n",
       "    <tr>\n",
       "      <th>3</th>\n",
       "      <td>im tired too but this is so entertaining i cant</td>\n",
       "      <td>0</td>\n",
       "    </tr>\n",
       "    <tr>\n",
       "      <th>4</th>\n",
       "      <td>Fuckof</td>\n",
       "      <td>1</td>\n",
       "    </tr>\n",
       "  </tbody>\n",
       "</table>\n",
       "</div>"
      ],
      "text/plain": [
       "                                                text  label\n",
       "0  YOU BETTER SUCK HIS DICK KOZY I SEE YOU WITH K...      1\n",
       "1                      I still canr believe it.😭😭😭😭😭      0\n",
       "2  You should raise the webform....how would they...      0\n",
       "3    im tired too but this is so entertaining i cant      0\n",
       "4                                             Fuckof      1"
      ]
     },
     "execution_count": 40,
     "metadata": {},
     "output_type": "execute_result"
    }
   ],
   "source": [
    "df_tweets.head()"
   ]
  },
  {
   "attachments": {},
   "cell_type": "markdown",
   "metadata": {},
   "source": [
    "2. (3 points) Altogether, write down an annotation guildeline (which should be at least 2/3 of a page long).\n",
    "    * What does the target class look like?\n",
    "    * Any examples you could provide for ambiguous cases?\n",
    "    * Keep \"Can't tell / not annotable\" class. Make sure you document what this class mean in your guideline."
   ]
  },
  {
   "attachments": {},
   "cell_type": "markdown",
   "metadata": {},
   "source": [
    "`Annotation Tips and Guidelines for Offensive Language Detection`\n",
    "\n",
    "---\n",
    "\n",
    "Our offensive dataset is designed to categorize content into two broad classes: non-offensive and offensive. We will try to provide an analysis of the criteria for each class, along with a third category, \"Can't tell / not annotable,\" for ambiguous or unclear instances.\n",
    "\n",
    "`Non-Offensive Class`\n",
    "\n",
    "A text in this category does not contain any language or expressions that may be perceived as offensive, disrespectful, or harmful. It adheres to common standards of politeness and appropriateness, and does not engage in personal attacks, hate speech, or any form of derogatory communication. \n",
    "\n",
    "`Offensive Class`\n",
    "\n",
    "Content in this category incorporates language or expressions that are harmful, disrespectful, or offensive. The offensive class can be further divided into various subcategories such as:\n",
    "\n",
    "a) **Hate speech**: Any communication that degrades, threatens, or discriminates against an individual or group based on attributes such as race, religion, ethnic origin, sexual orientation, disability, or gender.\n",
    "\n",
    "b) **Obscene language**: Use of vulgar or profane language which may include sexual content or explicit language.\n",
    "\n",
    "c) **Insults/Personal Attacks**: Language that personally attacks an individual or group, whether through name-calling, ad hominem attacks, or derogatory comments.\n",
    "\n",
    "**Ambiguous Cases**\n",
    "\n",
    "1. **Sarcasm or Irony**: Sarcasm or irony can often blur the line between offensive and non-offensive, such as \"You're really smart, aren't you?\" Depending on context, this could be either a genuine compliment or a sarcastic remark.\n",
    "\n",
    "2. **Cultural Differences**: Certain phrases or terms may be considered offensive in some cultures but not in others. For instance, colloquialisms that might seem harmless in one culture could be offensive in another. \n",
    "\n",
    "3. **Implicit or Coded Language**: Certain offensive phrases might be veiled under seemingly harmless words or coded language, like using \"snowflake\" to insult someone for being sensitive or politically correct. These can be difficult to identify without an understanding of the coded meaning.\n",
    "\n",
    "`Can't Tell / Not Annotable Class`\n",
    "\n",
    "This category is reserved for instances where the content does not clearly fall into the offensive or non-offensive class. This may occur for several reasons:\n",
    "\n",
    "1. **Lack of Context**: If the content cannot be accurately interpreted without additional context, it should be classified as \"Can't tell / not annotable.\"\n",
    "\n",
    "2. **Ambiguous Language**: If the language is ambiguous or can be interpreted in multiple ways, such as in the case of sarcasm or irony without clear indicators, classify it as \"Can't tell / not annotable.\"\n",
    "\n",
    "3. **Language Barriers**: If the text is in a language, dialect, or cultural context that the annotator does not understand well enough to make an accurate classification, it should be classified as \"Can't tell / not annotable.\"\n",
    "\n",
    "With these tips we tried to provide a good starting point for annotating the data, but they are not exhaustive. It is important to keep in mind that the person who is annotating have his own biases and cultural background and they may influence their interpretation of the text. Therefore, we must try to be as objective as possible when annotating the data and avoid making assumptions about the author's intent or meaning."
   ]
  },
  {
   "attachments": {},
   "cell_type": "markdown",
   "metadata": {},
   "source": [
    "3. (1 point) Every person in your group is going to annotate these tweets separately. So if you are 3, annotate them 3 times.\n",
    "    * Typically, create a Google sheet or an excel document, one tab per person, in each tab one column for the text, and annother on the class.\n"
   ]
  },
  {
   "cell_type": "code",
   "execution_count": 41,
   "metadata": {},
   "outputs": [],
   "source": [
    "# list of 20 offensive tweets\n",
    "offensive_tweets = df_tweets[df_tweets['label'] == 1]['text'].tolist()[:20]\n",
    "\n",
    "# list of 80 non-offensive tweets\n",
    "not_offensive_tweets = df_tweets[df_tweets['label'] == 0]['text'].tolist()[:80]"
   ]
  },
  {
   "attachments": {},
   "cell_type": "markdown",
   "metadata": {},
   "source": [
    "Our three `.csv` files named `raphael.csv`, `bastien.csv` and `francois.csv` are in the `annotations` folder of the lab.\n",
    " "
   ]
  },
  {
   "attachments": {},
   "cell_type": "markdown",
   "metadata": {},
   "source": [
    "4. (2 point) Evaluate your inter-annotator agreement using Fleiss Kappa.\n",
    "    * statsmodel provide an easy to use [implementation](https://www.statsmodels.org/stable/generated/statsmodels.stats.inter_rater.fleiss_kappa.html#statsmodels.stats.inter_rater.fleiss_kappa).\n",
    "    * What does the score mean? Are you doing a good job annotating the data and, if not, why?\n"
   ]
  },
  {
   "cell_type": "code",
   "execution_count": 42,
   "metadata": {},
   "outputs": [],
   "source": [
    "# the data from our excel file\n",
    "df_raphael = pd.read_excel('annotations.xlsx', 'raphael')\n",
    "df_bastien = pd.read_excel('annotations.xlsx', 'bastien')\n",
    "df_francois = pd.read_excel('annotations.xlsx', 'francois')\n",
    "\n",
    "# we get a list with the labels for each of the 3 annotators : raphael, bastien and francois\n",
    "labels_raphael = df_raphael['label'].tolist()\n",
    "labels_bastien = df_bastien['label'].tolist()\n",
    "labels_francois = df_francois['label'].tolist()\n",
    "\n",
    "data = [list(item) for item in zip(labels_raphael, labels_bastien, labels_francois)]"
   ]
  },
  {
   "cell_type": "code",
   "execution_count": 48,
   "metadata": {},
   "outputs": [
    {
     "name": "stdout",
     "output_type": "stream",
     "text": [
      "Fleiss' kappa: 0.6463306808134396\n"
     ]
    }
   ],
   "source": [
    "\n",
    "# format the data for Fleiss' Kappa\n",
    "arr, categories = aggregate_raters(data, n_cat=2)\n",
    "\n",
    "# compute Fleiss' Kappa\n",
    "\n",
    "kappa_value = fleiss_kappa(arr, method='fleiss')\n",
    "print(f\"Fleiss' kappa: {kappa_value}\")"
   ]
  },
  {
   "attachments": {},
   "cell_type": "markdown",
   "metadata": {},
   "source": [
    "5. **Bonus** Iterate on your annotation guideline with what you learned. Please send both version in your report.\n"
   ]
  },
  {
   "attachments": {},
   "cell_type": "markdown",
   "metadata": {},
   "source": [
    "6. **Bonus** Evaluate the model on your data. Use a majority vote for labels (remove majority \"can't tell\") and compute the precision, recall, and F1-score."
   ]
  }
 ],
 "metadata": {
  "kernelspec": {
   "display_name": "Python 3",
   "language": "python",
   "name": "python3"
  },
  "language_info": {
   "codemirror_mode": {
    "name": "ipython",
    "version": 3
   },
   "file_extension": ".py",
   "mimetype": "text/x-python",
   "name": "python",
   "nbconvert_exporter": "python",
   "pygments_lexer": "ipython3",
   "version": "3.10.10"
  },
  "orig_nbformat": 4
 },
 "nbformat": 4,
 "nbformat_minor": 2
}
