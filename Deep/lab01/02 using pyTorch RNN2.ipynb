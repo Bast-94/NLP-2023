{
 "cells": [
  {
   "cell_type": "markdown",
   "id": "97cf9568-cd60-4dc6-aaa8-096ee6e0156e",
   "metadata": {},
   "source": [
    "# Using pyTorch implementation\n",
    "\n",
    "In this second part, we use pyTorch's implementation of RNNs and LSTMs. Again, as we are focusing on understanding the model and library, we will keep using the IMDB dataset. The good news is training is much faster using pyTorch's implementations."
   ]
  },
  {
   "cell_type": "markdown",
   "id": "9bcc80f0-e4e1-4ba3-bbda-582167fb43dc",
   "metadata": {},
   "source": [
    "## From dataset to batch inputs\n",
    "\n",
    "You already know what to do here, it's the same as in the previous notebook."
   ]
  },
  {
   "cell_type": "markdown",
   "id": "55cecf52-8386-4dc1-9600-0f03554fe082",
   "metadata": {},
   "source": [
    "## The classifier\n",
    "\n",
    "The implementation behind shows how to use the [RNN](https://pytorch.org/docs/stable/generated/torch.nn.RNN.html) implementation provided by pyTorch to code a simple RNN."
   ]
  },
  {
   "cell_type": "code",
   "execution_count": null,
   "id": "f4e78187-f53f-42b9-92c1-b94d23f9d28b",
   "metadata": {},
   "outputs": [],
   "source": [
    "class RNN(nn.Module):\n",
    "    \"\"\"A simple RNN module with word embeddings.\n",
    "    \"\"\"\n",
    "    def __init__(self, vocab_size: int, embed_size: int, hidden_size: int, n_layers: int, n_outputs: int) -> None:\n",
    "        \"\"\"\n",
    "        Args:\n",
    "            vocab_size: vocabulary size.\n",
    "            embed_size: embedding dimensions.\n",
    "            hidden_size: hidden layer size.\n",
    "            n_layers: the number of layers.\n",
    "            n_outputs: the number of output classes.\n",
    "        \"\"\"\n",
    "        super().__init__()\n",
    "        self.vocab_size = vocab_size\n",
    "        self.embed_size = embed_size\n",
    "        self.hidden_size = hidden_size\n",
    "        self.n_layers = n_layers\n",
    "        self.n_outputs = n_outputs\n",
    "\n",
    "\n",
    "        # The word embedding layer.\n",
    "        self.embed = nn.Embedding(self.vocab_size, self.embed_size)\n",
    "        # The RNN\n",
    "        self.rnn = nn.RNN(\n",
    "            input_size = self.embed_size,\n",
    "            hidden_size = self.hidden_size,\n",
    "            num_layers = self.n_layers,\n",
    "            batch_first = True, # Changes the order of dimension to put the batches first.\n",
    "        )\n",
    "        # A fully connected layer to project the RNN's output to only one output used for classification.\n",
    "        self.fc = nn.Linear(self.hidden_size, self.n_outputs)\n",
    "\n",
    "    def forward(self, X: torch.Tensor) -> torch.Tensor:\n",
    "        \"\"\"Function called when the model is called with data as input.\n",
    "        Args:\n",
    "            X: the input tensor of dimensions batch_size, sequence length, vocab size (actually just an int).\n",
    "        Returns:\n",
    "            The resulting tensor of dimension batch_size, sequence length, output dimensions.\n",
    "        \"\"\"\n",
    "        h0 = torch.zeros(self.n_layers, X.size(0), self.hidden_size).to(device)\n",
    "\n",
    "        out = self.embed(X)\n",
    "        # out contains the output layer of all words in the sequence.\n",
    "        # First dim is batch, second the word in the sequence, third is the vector itself.\n",
    "        # The second output value is the last vector of all intermediate layer.\n",
    "        # Only use it if you want to access the intermediate layer values of a\n",
    "        # multilayer model.\n",
    "        out, _ = self.rnn(out, h0)\n",
    "        # Getting the last value only.\n",
    "        out = out[:, -1, :]\n",
    "    \n",
    "        # Linear projection.\n",
    "        out = self.fc(out)\n",
    "\n",
    "        return out"
   ]
  },
  {
   "cell_type": "markdown",
   "id": "5c590a0c-69f0-48b5-9336-f7f33df481af",
   "metadata": {},
   "source": [
    "## Training (1 point)"
   ]
  },
  {
   "cell_type": "markdown",
   "id": "aa17a3c8-640d-41bd-be8d-8976e935a274",
   "metadata": {},
   "source": [
    "**\\[1 point\\]** Code the training function.\n",
    "* Note that we are using a function, as we will use it on several models here.\n",
    "* The RNN implementation of pyTorch doesn't need to be manually looped. As commented in the `forward` function above, `out` contains the ouptut layer for all words in the sequence, and taking its last value is what we needed."
   ]
  },
  {
   "cell_type": "code",
   "execution_count": 6,
   "id": "528c1bf6-386d-4db4-9c85-001bd3379568",
   "metadata": {},
   "outputs": [],
   "source": [
    "def train(\n",
    "    model: nn.Module,\n",
    "    criterion: Callable,\n",
    "    optimizier: torch.optim.Optimizer,\n",
    "    n_epochs: int,\n",
    "    train_gen: Callable,\n",
    "    valid_gen: Callable,\n",
    ") -> Tuple[nn.Module, List[float], List[float]]:\n",
    "    \"\"\"Train a model using a batch gradient descent.\n",
    "    Args:\n",
    "        model: a class inheriting from nn.Module.\n",
    "        criterion: a loss criterion.\n",
    "        optimizer: an optimizer (e.g. Adam, RMSprop, ...).\n",
    "        n_epochs: the number of training epochs.\n",
    "        train_gen: a callable function returing a batch (data, labels).\n",
    "        valid_gen: a callable function returing a batch (data, labels).\n",
    "    Returns:\n",
    "        A tuple:[best_model (by validation loss), training losses, validation losses].\n",
    "    \"\"\""
   ]
  },
  {
   "cell_type": "code",
   "execution_count": null,
   "id": "dab8bdab-8072-45e5-a1d8-90041fa49936",
   "metadata": {},
   "outputs": [],
   "source": [
    "model = RNN(len(vocabulary), 32, 64, 1, 1).to(device)\n",
    "criterion = nn.BCEWithLogitsLoss()\n",
    "optimizer = torch.optim.Adam(model.parameters())"
   ]
  },
  {
   "cell_type": "code",
   "execution_count": null,
   "id": "32881f1e-f71f-463e-8f86-b0b6a16bd919",
   "metadata": {},
   "outputs": [],
   "source": [
    "best_model, train_losses, valid_losses = train(model, criterion, optimizer, 20, train_gen, valid_gen)"
   ]
  },
  {
   "cell_type": "code",
   "execution_count": null,
   "id": "87db1d40-187a-40cd-a940-89a1af1e6b0c",
   "metadata": {},
   "outputs": [],
   "source": [
    "plt.plot(train_losses, label=\"Training loss\")\n",
    "plt.plot(valid_losses, label=\"Validation loss\")\n",
    "plt.legend()"
   ]
  },
  {
   "cell_type": "markdown",
   "id": "cf154e66-6ba3-411e-80c9-6b0eebf122e3",
   "metadata": {},
   "source": [
    "## Do the following (5 points)\n",
    "* **\\[1 point\\]** Add an accuracy function and report the accuracy of the training, validation, and test set.\n",
    "* **\\[2 points\\]** Create an LSTM class which uses an LSTM instead of an RNN. Compare its results with the RNN.\n",
    "  * Look at the [LSTM documentation of pyTorch](https://pytorch.org/docs/stable/generated/torch.nn.LSTM.html).\n",
    "* **\\[1 point\\]** Implement a function which takes any text and returns the model's prediction.\n",
    "    * The function should have a string as input and return a class (0 or 1) and its confidence (between 0 and 1).\n",
    "* **\\[Bonus\\]** Create a bidirectional LSTM (BiLSTM) class to classify your sentences. Report the accuracy on the training and test data.\n",
    "    * **Beware of the behaviour of the output layer.** For a bidirectional LSTM, the output layer concatenates the forward and backward vector of each token. But we need to use the forward output of the last token, and the backward output of the first token, as input to our output layer.\n",
    "* **\\[1 point\\]** With your best classifier, look at two wrongly classified examples on the test set. Try explaining why the model was wrong.\n",
    "* **\\[Bonus\\]** Try finding better hyperparameters (dimensions, number of layers, ...). Document your experiments and results."
   ]
  },
  {
   "cell_type": "code",
   "execution_count": null,
   "id": "eec85aa0-2afa-4007-b68c-b8359addc1ca",
   "metadata": {},
   "outputs": [],
   "source": []
  }
 ],
 "metadata": {
  "kernelspec": {
   "display_name": "Python 3 (ipykernel)",
   "language": "python",
   "name": "python3"
  },
  "language_info": {
   "codemirror_mode": {
    "name": "ipython",
    "version": 3
   },
   "file_extension": ".py",
   "mimetype": "text/x-python",
   "name": "python",
   "nbconvert_exporter": "python",
   "pygments_lexer": "ipython3",
   "version": "3.10.4"
  }
 },
 "nbformat": 4,
 "nbformat_minor": 5
}
