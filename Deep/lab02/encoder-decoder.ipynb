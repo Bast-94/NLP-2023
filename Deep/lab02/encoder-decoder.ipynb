{
 "cells": [
  {
   "attachments": {},
   "cell_type": "markdown",
   "metadata": {},
   "source": [
    "# Introduction to Natural Language Processing 2\n",
    "# Lab02\n",
    "\n",
    "## Encoder-decoder model"
   ]
  },
  {
   "cell_type": "code",
   "execution_count": null,
   "metadata": {},
   "outputs": [],
   "source": [
    "!pip install spacy sacrebleu torchdata -U\n",
    "!python -m spacy download en_core_web_sm\n",
    "!python -m spacy download de_core_news_sm"
   ]
  },
  {
   "attachments": {},
   "cell_type": "markdown",
   "metadata": {},
   "source": [
    "### **(5 points)** Theoretical questions\n",
    "\n",
    "Answer the following questions.\n",
    "\n",
    "* In the positional encoding, why are we using a combination of sinus and cosinus?\n",
    "* In the `Seq2SeqTransformer` class,\n",
    "  * What is the parameter nhead for?\n",
    "  * What is the point of the `generator`?\n",
    "* Describe the goal of the `create_mask` function. Why does it handle differently the source and target masks?\n",
    "* In the \n"
   ]
  },
  {
   "attachments": {},
   "cell_type": "markdown",
   "metadata": {},
   "source": [
    "\n",
    "### **(6 points)** Decoding functions\n",
    "\n",
    "The tutorial uses a greedy approach at decoding. Implement the following variations.\n",
    "* (3 points) A top-k sampling with temperature.\n",
    "* (1 point) A top-p sampling with temperature.\n",
    "* (2 point) Play with the k, p and temperature parameters, and qualitatively compare a few (at least 3) translation samples for each approach (even the greedy one).\n"
   ]
  },
  {
   "attachments": {},
   "cell_type": "markdown",
   "metadata": {},
   "source": [
    "\n",
    "### **(2 points)** Compute the BLEU score of the model\n",
    "\n",
    "Use the [sacreBLEU](https://github.com/mjpost/sacreBLEU) implementation to evaluate your model and quantitatively compare the 4 implemented decoding approaches on the test set. Explain what all the output values mean (when using the `corpus_score` function).\n",
    "\n",
    "In the [python section](https://github.com/mjpost/sacrebleu#using-sacrebleu-from-python), you'll notice the library accepts more than just one possible translation as reference, but the given dataset only has one translation per sample.\n",
    "\n",
    "Using the `translate` function provided in the tutorial is pretty slow, as it translate text by text. It's recommended you modify the function to accept a list of texts as input, and batch them for translations (also **bonus point**).\n",
    "\n",
    "**\\[Bonus\\]** Use part of the test set to perform an hyperparameters search on the value of temperature, k, and p. Note that, normally, this should be done on a validation set, not the test set."
   ]
  }
 ],
 "metadata": {
  "language_info": {
   "name": "python"
  },
  "orig_nbformat": 4
 },
 "nbformat": 4,
 "nbformat_minor": 2
}
