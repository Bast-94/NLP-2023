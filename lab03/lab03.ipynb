{
 "cells": [
  {
   "attachments": {},
   "cell_type": "markdown",
   "metadata": {},
   "source": [
    "# Introduction to Natural Language Processing (1) "
   ]
  },
  {
   "attachments": {},
   "cell_type": "markdown",
   "metadata": {},
   "source": [
    "## Lab03"
   ]
  },
  {
   "cell_type": "code",
   "execution_count": 1,
   "metadata": {},
   "outputs": [
    {
     "name": "stderr",
     "output_type": "stream",
     "text": [
      "/Users/francois.soulier/miniconda/envs/SCIA/lib/python3.10/site-packages/requests/__init__.py:109: RequestsDependencyWarning: urllib3 (1.26.14) or chardet (None)/charset_normalizer (3.1.0) doesn't match a supported version!\n",
      "  warnings.warn(\n"
     ]
    }
   ],
   "source": [
    "import pandas as pd\n",
    "import datasets as ds\n",
    "from sklearn.model_selection import train_test_split\n",
    "from sklearn.linear_model import LogisticRegression as SKLogisticRegression\n",
    "\n",
    "import sys\n",
    "import os\n",
    "\n",
    "import nltk\n",
    "from nltk.sentiment.vader import SentimentIntensityAnalyzer\n",
    "\n",
    "import torch\n",
    "import torch.nn as nn\n",
    "import torch.nn.functional as F\n",
    "\n",
    "parent_dir = os.path.dirname(os.getcwd())\n",
    "sys.path.append(str(parent_dir))\n",
    "\n",
    "from scripts import data\n",
    "from scripts import features\n",
    "from scripts.logistic_regression.model import LogisticRegression\n",
    "from scripts.logistic_regression import lr_methods, scikit_learn_lr"
   ]
  },
  {
   "attachments": {},
   "cell_type": "markdown",
   "metadata": {},
   "source": [
    "## Features (6 points)\n",
    "\n",
    "For every given text, we want to generate a vector with the features seen in class.\n",
    "\n",
    "**(6 points)** Code the following features:\n",
    "* 1 if \"no\" appears in the document, 0 otherwise.\n",
    "* The count of first and second pronouns in the document.\n",
    "* 1 if \"!\" is in the document, 0 otherwise.\n",
    "* Log(word count in the document).\n",
    "* Number of words in the document which are in the positive lexicon.\n",
    "* Number of words in the document which are in the negative lexicon.\n",
    "* **\\[Bonus\\]** Add another feature of your choice.\n",
    "\n",
    "For positive and negative lexicons, you can use the resources provided by [VADER sentiment](https://github.com/cjhutto/vaderSentiment). Look for the `vader_lexicon.txt` file and consider positive word if they score above a certain threshold (for example 1) and negative word if they score below a certain threshold (for example -1). Feel free to use another lexicon if you find one, but make sure you document your choice.\n",
    "\n",
    "\n",
    "### Tips\n",
    "\n",
    "* Don't forget to use a similar pre-treatment as the one you used for the previous lab.\n",
    "* Beware that words in the VADER dictionary are not lemmatized or stemmed. Do not use these pretreatments here.\n",
    "* When checking for occurences of \"no\" or pronouns, split the text into token. Just using `\"no\" in text` would return true if the word \"notable\" is in your text.\n"
   ]
  },
  {
   "attachments": {},
   "cell_type": "markdown",
   "metadata": {},
   "source": [
    "### Loading datasets"
   ]
  },
  {
   "cell_type": "code",
   "execution_count": 2,
   "metadata": {},
   "outputs": [
    {
     "name": "stderr",
     "output_type": "stream",
     "text": [
      "Found cached dataset imdb (/Users/francois.soulier/.cache/huggingface/datasets/imdb/plain_text/1.0.0/d613c88cf8fa3bab83b4ded3713f1f74830d1100e171db75bbddb80b3345c9c0)\n",
      "Found cached dataset imdb (/Users/francois.soulier/.cache/huggingface/datasets/imdb/plain_text/1.0.0/d613c88cf8fa3bab83b4ded3713f1f74830d1100e171db75bbddb80b3345c9c0)\n"
     ]
    }
   ],
   "source": [
    "splits = ds.get_dataset_split_names('imdb')\n",
    "train_ds, test_ds = data.load_datasets(splits=splits[:2])"
   ]
  },
  {
   "attachments": {},
   "cell_type": "markdown",
   "metadata": {},
   "source": [
    "### Features extraction"
   ]
  },
  {
   "attachments": {},
   "cell_type": "markdown",
   "metadata": {},
   "source": [
    "Import lexicon"
   ]
  },
  {
   "cell_type": "code",
   "execution_count": 3,
   "metadata": {},
   "outputs": [
    {
     "name": "stderr",
     "output_type": "stream",
     "text": [
      "[nltk_data] Downloading package vader_lexicon to\n",
      "[nltk_data]     /Users/francois.soulier/nltk_data...\n",
      "[nltk_data]   Package vader_lexicon is already up-to-date!\n"
     ]
    }
   ],
   "source": [
    "nltk.download('vader_lexicon')\n",
    "sid: SentimentIntensityAnalyzer = SentimentIntensityAnalyzer()"
   ]
  },
  {
   "attachments": {},
   "cell_type": "markdown",
   "metadata": {},
   "source": [
    "Apply feature extraction on an example"
   ]
  },
  {
   "cell_type": "code",
   "execution_count": 4,
   "metadata": {},
   "outputs": [
    {
     "data": {
      "text/plain": [
       "[1, 2, 1, 1, 2.0794415416798357, 1, 1, 0]"
      ]
     },
     "execution_count": 4,
     "metadata": {},
     "output_type": "execute_result"
    }
   ],
   "source": [
    "features.get_features(\"I am You We  not happy NO !\", sid=sid)"
   ]
  },
  {
   "attachments": {},
   "cell_type": "markdown",
   "metadata": {},
   "source": [
    "Apply features extraction on both `training` and `testing` datasets."
   ]
  },
  {
   "cell_type": "code",
   "execution_count": 5,
   "metadata": {},
   "outputs": [
    {
     "data": {
      "text/html": [
       "<div>\n",
       "<style scoped>\n",
       "    .dataframe tbody tr th:only-of-type {\n",
       "        vertical-align: middle;\n",
       "    }\n",
       "\n",
       "    .dataframe tbody tr th {\n",
       "        vertical-align: top;\n",
       "    }\n",
       "\n",
       "    .dataframe thead th {\n",
       "        text-align: right;\n",
       "    }\n",
       "</style>\n",
       "<table border=\"1\" class=\"dataframe\">\n",
       "  <thead>\n",
       "    <tr style=\"text-align: right;\">\n",
       "      <th></th>\n",
       "      <th>no</th>\n",
       "      <th>first_pronouns</th>\n",
       "      <th>second_pronouns</th>\n",
       "      <th>exclamation</th>\n",
       "      <th>log_word_count</th>\n",
       "      <th>positive</th>\n",
       "      <th>negative</th>\n",
       "      <th>label</th>\n",
       "      <th>third_person</th>\n",
       "    </tr>\n",
       "  </thead>\n",
       "  <tbody>\n",
       "    <tr>\n",
       "      <th>0</th>\n",
       "      <td>1</td>\n",
       "      <td>6</td>\n",
       "      <td>0</td>\n",
       "      <td>0</td>\n",
       "      <td>5.641907</td>\n",
       "      <td>7</td>\n",
       "      <td>5</td>\n",
       "      <td>0</td>\n",
       "      <td>8</td>\n",
       "    </tr>\n",
       "    <tr>\n",
       "      <th>1</th>\n",
       "      <td>1</td>\n",
       "      <td>1</td>\n",
       "      <td>1</td>\n",
       "      <td>0</td>\n",
       "      <td>5.365976</td>\n",
       "      <td>3</td>\n",
       "      <td>4</td>\n",
       "      <td>0</td>\n",
       "      <td>3</td>\n",
       "    </tr>\n",
       "    <tr>\n",
       "      <th>2</th>\n",
       "      <td>1</td>\n",
       "      <td>0</td>\n",
       "      <td>0</td>\n",
       "      <td>0</td>\n",
       "      <td>4.465908</td>\n",
       "      <td>3</td>\n",
       "      <td>3</td>\n",
       "      <td>0</td>\n",
       "      <td>4</td>\n",
       "    </tr>\n",
       "    <tr>\n",
       "      <th>3</th>\n",
       "      <td>0</td>\n",
       "      <td>2</td>\n",
       "      <td>1</td>\n",
       "      <td>0</td>\n",
       "      <td>4.736198</td>\n",
       "      <td>5</td>\n",
       "      <td>3</td>\n",
       "      <td>0</td>\n",
       "      <td>1</td>\n",
       "    </tr>\n",
       "    <tr>\n",
       "      <th>4</th>\n",
       "      <td>0</td>\n",
       "      <td>8</td>\n",
       "      <td>1</td>\n",
       "      <td>1</td>\n",
       "      <td>5.680173</td>\n",
       "      <td>4</td>\n",
       "      <td>11</td>\n",
       "      <td>0</td>\n",
       "      <td>9</td>\n",
       "    </tr>\n",
       "  </tbody>\n",
       "</table>\n",
       "</div>"
      ],
      "text/plain": [
       "   no  first_pronouns  second_pronouns  exclamation  log_word_count  positive  \\\n",
       "0   1               6                0            0        5.641907         7   \n",
       "1   1               1                1            0        5.365976         3   \n",
       "2   1               0                0            0        4.465908         3   \n",
       "3   0               2                1            0        4.736198         5   \n",
       "4   0               8                1            1        5.680173         4   \n",
       "\n",
       "   negative  label  third_person  \n",
       "0         5      0             8  \n",
       "1         4      0             3  \n",
       "2         3      0             4  \n",
       "3         3      0             1  \n",
       "4        11      0             9  "
      ]
     },
     "execution_count": 5,
     "metadata": {},
     "output_type": "execute_result"
    }
   ],
   "source": [
    "df_train: pd.DataFrame = features.add_features(train_ds, sid=sid)\n",
    "df_test: pd.DataFrame = features.add_features(test_ds, sid=sid)\n",
    "\n",
    "# Result example\n",
    "df_train.head()"
   ]
  },
  {
   "attachments": {},
   "cell_type": "markdown",
   "metadata": {},
   "source": [
    "Split the `training` dataset into a training and a validation dataset (using 10 to 20% of the training set as validation)."
   ]
  },
  {
   "cell_type": "code",
   "execution_count": 6,
   "metadata": {},
   "outputs": [],
   "source": [
    "X_train, X_val, y_train, y_val = train_test_split(df_train.drop(columns=[\"label\"]), df_train[\"label\"], test_size=0.2, random_state=42)"
   ]
  },
  {
   "attachments": {},
   "cell_type": "markdown",
   "metadata": {},
   "source": [
    "## Logistic regression classifier (6 points)\n",
    "\n",
    "The `logistic_regression_pytorch.ipynb` notebook, in the same directory, shows how to train a logistic regression classifier using PyTorch on a dummy dataset.\n",
    "\n",
    "* **(3 points)** Adapt the code by adding your feature extractor and train a classifier.\n",
    "  * For training, don't use the test set as validation. Instead, split the training set into a training and a validation set (use 10 to 20% of the training set as validation).\n",
    "* **(1 point)** Evaluate your classifier in terms of accuracy for the training, validation, and test set.\n",
    "* **(1 point)** Look at the weights of your classifier. Which features seems to play most for both classes?\n",
    "* **\\[Bonus\\]** The parameter `weight_decay` of the [SGD optimizer](https://pytorch.org/docs/stable/generated/torch.optim.SGD.html) corresponds to the L2 penalty. Try playing with this value and explain how it influence the model's weights.\n",
    "* **(1 point)** Take two wrongly classified samples in the test set and try explaining why the model was wrong.\n",
    "* **\\[Bonus\\]** Train logistic regression classifier using the [scikit-learn implementation](https://scikit-learn.org/stable/modules/generated/sklearn.linear_model.LogisticRegression.html). How does it compare with the PyTorch version?\n"
   ]
  },
  {
   "attachments": {},
   "cell_type": "markdown",
   "metadata": {},
   "source": [
    "Define model, loss function and optimizer function"
   ]
  },
  {
   "cell_type": "code",
   "execution_count": 7,
   "metadata": {},
   "outputs": [],
   "source": [
    "model = LogisticRegression(8, 1)\n",
    "criterion = nn.BCEWithLogitsLoss()\n",
    "optimizer = torch.optim.SGD(model.parameters(), lr=0.01, weight_decay=1.0)"
   ]
  },
  {
   "attachments": {},
   "cell_type": "markdown",
   "metadata": {},
   "source": [
    "Model training"
   ]
  },
  {
   "cell_type": "code",
   "execution_count": 8,
   "metadata": {},
   "outputs": [
    {
     "name": "stdout",
     "output_type": "stream",
     "text": [
      "tensor(1.6595, grad_fn=<BinaryCrossEntropyWithLogitsBackward0>)\n",
      "tensor(0.6004, grad_fn=<BinaryCrossEntropyWithLogitsBackward0>)\n",
      "tensor(0.5988, grad_fn=<BinaryCrossEntropyWithLogitsBackward0>)\n",
      "tensor(0.5990, grad_fn=<BinaryCrossEntropyWithLogitsBackward0>)\n",
      "tensor(0.5992, grad_fn=<BinaryCrossEntropyWithLogitsBackward0>)\n",
      "tensor(0.5992, grad_fn=<BinaryCrossEntropyWithLogitsBackward0>)\n",
      "tensor(0.5992, grad_fn=<BinaryCrossEntropyWithLogitsBackward0>)\n",
      "tensor(0.5992, grad_fn=<BinaryCrossEntropyWithLogitsBackward0>)\n",
      "tensor(0.5992, grad_fn=<BinaryCrossEntropyWithLogitsBackward0>)\n",
      "tensor(0.5992, grad_fn=<BinaryCrossEntropyWithLogitsBackward0>)\n",
      "Training time: 1.17 seconds\n"
     ]
    }
   ],
   "source": [
    "train_losses, test_losses, torch_training_duration = lr_methods.fit(model, optimizer, criterion, X_train, y_train, X_val, y_val)"
   ]
  },
  {
   "attachments": {},
   "cell_type": "markdown",
   "metadata": {},
   "source": [
    "Display `training` and `validation` losses"
   ]
  },
  {
   "cell_type": "code",
   "execution_count": 9,
   "metadata": {},
   "outputs": [
    {
     "data": {
      "image/png": "[encoded data removed]",
      "text/plain": [
       "<Figure size 640x480 with 1 Axes>"
      ]
     },
     "metadata": {},
     "output_type": "display_data"
    }
   ],
   "source": [
    "# Plot the losses\n",
    "lr_methods.display_losses(training=train_losses, testing=test_losses)"
   ]
  },
  {
   "attachments": {},
   "cell_type": "markdown",
   "metadata": {},
   "source": [
    "Display `training`, `validation` and `test` accuracies"
   ]
  },
  {
   "cell_type": "code",
   "execution_count": 10,
   "metadata": {},
   "outputs": [
    {
     "name": "stdout",
     "output_type": "stream",
     "text": [
      "Training accuracy: 69.94%\n",
      "Validation accuracy: 69.48%\n",
      "Test accuracy: 70.11%\n"
     ]
    }
   ],
   "source": [
    "X_test, y_test = df_test.drop(columns=[\"label\"]), df_test[\"label\"]\n",
    "\n",
    "lr_methods.evaluate(type='Training', model=model, X=X_train, y=y_train)\n",
    "lr_methods.evaluate(type='Validation', model=model, X=X_val, y=y_val)\n",
    "lr_methods.evaluate(type='Test', model=model, X=X_test, y=y_test)"
   ]
  },
  {
   "cell_type": "markdown",
   "metadata": {},
   "source": [
    "* **(1 point)** Look at the weights of your classifier. Which features seems to play most for both classes?"
   ]
  },
  {
   "cell_type": "code",
   "execution_count": 11,
   "metadata": {},
   "outputs": [
    {
     "name": "stdout",
     "output_type": "stream",
     "text": [
      "tensor([-0.0189, -0.0399, -0.0060, -0.0041, -0.0182,  0.1124, -0.1334,  0.0052],\n",
      "       grad_fn=<SelectBackward0>)\n",
      "\n",
      "Positive class\n",
      "\n",
      "torch.return_types.topk(\n",
      "values=tensor([0.1124, 0.0052], grad_fn=<TopkBackward0>),\n",
      "indices=tensor([5, 7]))\n",
      "\n",
      "Negative class\n",
      "\n",
      "torch.return_types.topk(\n",
      "values=tensor([-0.1334, -0.0399], grad_fn=<TopkBackward0>),\n",
      "indices=tensor([6, 1]))\n"
     ]
    }
   ],
   "source": [
    "# Print the 2 biggest weights of the features for both classes.\n",
    "print(model.linear.weight[0])\n",
    "\n",
    "print(\"\\nPositive class\\n\")\n",
    "print(model.linear.weight[0].topk(2))\n",
    "\n",
    "# For the positive class, the number of positive words and the presence of exclamation marks are the most important features.\n",
    "print(\"\\nNegative class\\n\")\n",
    "print(model.linear.weight[0].topk(2, largest=False))"
   ]
  },
  {
   "attachments": {},
   "cell_type": "markdown",
   "metadata": {},
   "source": [
    "For the negative class, the number of negative words and the number of first person pronouns are the most important features."
   ]
  },
  {
   "attachments": {},
   "cell_type": "markdown",
   "metadata": {},
   "source": [
    "* **\\[Bonus\\]** The parameter `weight_decay` of the [SGD optimizer](https://pytorch.org/docs/stable/generated/torch.optim.SGD.html) corresponds to the L2 penalty. Try playing with this value and explain how it influence the model's weights."
   ]
  },
  {
   "attachments": {},
   "cell_type": "markdown",
   "metadata": {},
   "source": [
    "The **weight_decay** parameter adds a L2 penalty (also known as ridge regularization) to the cost. It can reduce the impact of large coefficients and encourage the model to have smaller and more balanced coefficients, which can lead to better generalization performance and prevent overfitting.\n",
    "\n",
    "The strength of the L2 penalty is controlled by the lambda hyperparameter. Increasing the value of lambda increases the strength of the penalty and results in smaller coefficients, which can reduce overfitting but may also reduce the model's ability to capture complex relationships in the data.\n",
    "\n",
    "However, it is important to choose an appropriate value of lambda that balances the trade-off between bias and variance, as a too strong penalty can lead to underfitting and a too weak penalty can lead to overfitting."
   ]
  },
  {
   "cell_type": "markdown",
   "metadata": {},
   "source": [
    "* **(1 point)** Take two wrongly classified samples in the test set and try explaining why the model was wrong."
   ]
  },
  {
   "attachments": {},
   "cell_type": "markdown",
   "metadata": {},
   "source": [
    "#### First wrongly classified sample"
   ]
  },
  {
   "cell_type": "code",
   "execution_count": 12,
   "metadata": {},
   "outputs": [
    {
     "name": "stdout",
     "output_type": "stream",
     "text": [
      "no                 0.000000\n",
      "first_pronouns     3.000000\n",
      "second_pronouns    1.000000\n",
      "exclamation        1.000000\n",
      "log_word_count     5.438079\n",
      "positive           8.000000\n",
      "negative           7.000000\n",
      "label              0.000000\n",
      "third_person       5.000000\n",
      "Name: 0, dtype: float64\n"
     ]
    }
   ],
   "source": [
    "# First wrong prediction\n",
    "print(df_test.iloc[0])"
   ]
  },
  {
   "attachments": {},
   "cell_type": "markdown",
   "metadata": {},
   "source": [
    "The model predicted a positive label, but the true label is negative. \n",
    "The model predicted a positive label because the number of positive words is higher than the number of negative words.\n",
    "However, the number of first person pronouns is higher than the number of exclamation marks."
   ]
  },
  {
   "attachments": {},
   "cell_type": "markdown",
   "metadata": {},
   "source": [
    "#### Second wrongly classified sample"
   ]
  },
  {
   "cell_type": "code",
   "execution_count": 13,
   "metadata": {},
   "outputs": [
    {
     "name": "stdout",
     "output_type": "stream",
     "text": [
      "no                  0.000000\n",
      "first_pronouns      1.000000\n",
      "second_pronouns     4.000000\n",
      "exclamation         0.000000\n",
      "log_word_count      5.347108\n",
      "positive           14.000000\n",
      "negative           13.000000\n",
      "label               0.000000\n",
      "third_person        1.000000\n",
      "Name: 1, dtype: float64\n"
     ]
    }
   ],
   "source": [
    "# Second wrong prediction\n",
    "print(df_test.iloc[1])"
   ]
  },
  {
   "attachments": {},
   "cell_type": "markdown",
   "metadata": {},
   "source": [
    "Again, the model predicted a positive label, but the true label is negative. \n",
    "It may have returned a positive label because the number of positive words is higher than the number of negative words.\n",
    "\n",
    "The model predicted a positive label because the number of positive words is higher than the number of negative words."
   ]
  },
  {
   "cell_type": "markdown",
   "metadata": {},
   "source": [
    "* **\\[Bonus\\]** Train logistic regression classifier using the [scikit-learn implementation](https://scikit-learn.org/stable/modules/generated/sklearn.linear_model.LogisticRegression.html). How does it compare with the PyTorch version?\n"
   ]
  },
  {
   "attachments": {},
   "cell_type": "markdown",
   "metadata": {},
   "source": [
    "#### Training"
   ]
  },
  {
   "cell_type": "code",
   "execution_count": 14,
   "metadata": {},
   "outputs": [
    {
     "name": "stdout",
     "output_type": "stream",
     "text": [
      "Training time: 0.07 seconds\n"
     ]
    }
   ],
   "source": [
    "# Add a L2 penalty to the logistic regression classifier\n",
    "model: SKLogisticRegression = scikit_learn_lr.model(penalty='l2', C=0.001)\n",
    "\n",
    "# Train the model on the training set\n",
    "sk_training_duration = scikit_learn_lr.fit(model, X_train, y_train)"
   ]
  },
  {
   "attachments": {},
   "cell_type": "markdown",
   "metadata": {},
   "source": [
    "#### Evaluation"
   ]
  },
  {
   "cell_type": "code",
   "execution_count": 15,
   "metadata": {},
   "outputs": [
    {
     "name": "stdout",
     "output_type": "stream",
     "text": [
      "Training accuracy: 69.91%\n",
      "Validation accuracy: 69.68%\n",
      "Test accuracy: 70.19%\n"
     ]
    }
   ],
   "source": [
    "# Evaluate the model on the training set\n",
    "_ = scikit_learn_lr.evaluate(model, X_train, y_train, type=\"Training\")\n",
    "\n",
    "# Evaluate the model on the validation set\n",
    "scikit_learn_lr.evaluate(model, X_val, y_val, type=\"Validation\")\n",
    "\n",
    "# Split the test_df into X_test and y_test\n",
    "_ = X_test = df_test.drop(columns=[\"label\"])\n",
    "_ = y_test = df_test[\"label\"]\n",
    "\n",
    "# Evaluate the model on the test set\n",
    "_ = scikit_learn_lr.evaluate(model, X_test, y_test, type=\"Test\")"
   ]
  },
  {
   "attachments": {},
   "cell_type": "markdown",
   "metadata": {},
   "source": [
    "The accuracy of the sklearn logistic regression classifier is comparable to the accuracy of the PyTorch model, as both models have an accuracy approximately the same accuracy on all three datasets."
   ]
  },
  {
   "cell_type": "code",
   "execution_count": 16,
   "metadata": {},
   "outputs": [
    {
     "name": "stdout",
     "output_type": "stream",
     "text": [
      "The scikit-learn model perform 16.96 times faster than the PyTorch model.\n"
     ]
    }
   ],
   "source": [
    "# Compare the training duration of the PyTorch and Scikit-Learn models as ratio\n",
    "ratio: float = torch_training_duration / sk_training_duration\n",
    "print(f\"The scikit-learn model perform {ratio:.2f} times faster than the PyTorch model.\")"
   ]
  },
  {
   "attachments": {},
   "cell_type": "markdown",
   "metadata": {},
   "source": [
    "An interesting observation is that the sklearn model has a much shorter training duration shorter than the PyTorch model, which can be an important factor when training a model on a large dataset.\n"
   ]
  }
 ],
 "metadata": {
  "kernelspec": {
   "display_name": "Python 3",
   "language": "python",
   "name": "python3"
  },
  "language_info": {
   "codemirror_mode": {
    "name": "ipython",
    "version": 3
   },
   "file_extension": ".py",
   "mimetype": "text/x-python",
   "name": "python",
   "nbconvert_exporter": "python",
   "pygments_lexer": "ipython3",
   "version": "3.10.4"
  },
  "orig_nbformat": 4
 },
 "nbformat": 4,
 "nbformat_minor": 2
}
