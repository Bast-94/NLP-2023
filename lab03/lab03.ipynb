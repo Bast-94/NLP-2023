{
 "cells": [
  {
   "attachments": {},
   "cell_type": "markdown",
   "metadata": {},
   "source": [
    "# Introduction to Natural Language Processing (1) "
   ]
  },
  {
   "attachments": {},
   "cell_type": "markdown",
   "metadata": {},
   "source": [
    "## Lab03"
   ]
  },
  {
   "cell_type": "code",
   "execution_count": 1,
   "metadata": {},
   "outputs": [
    {
     "name": "stderr",
     "output_type": "stream",
     "text": [
      "/Users/francois.soulier/miniconda/envs/SCIA/lib/python3.10/site-packages/requests/__init__.py:109: RequestsDependencyWarning: urllib3 (1.26.14) or chardet (None)/charset_normalizer (3.1.0) doesn't match a supported version!\n",
      "  warnings.warn(\n"
     ]
    }
   ],
   "source": [
    "import sys\n",
    "import os\n",
    "import numpy as np\n",
    "import pandas as pd\n",
    "import datasets as ds\n",
    "import torch\n",
    "import torch.nn as nn\n",
    "import nltk\n",
    "\n",
    "from nltk.sentiment.vader import SentimentIntensityAnalyzer\n",
    "from sklearn.model_selection import train_test_split\n",
    "from sklearn.linear_model import LogisticRegression as SKLogisticRegression\n",
    "from sklearn.model_selection import GridSearchCV\n",
    "from skorch import NeuralNetClassifier\n",
    "\n",
    "parent_dir = os.path.dirname(os.getcwd())\n",
    "sys.path.append(str(parent_dir))\n",
    "\n",
    "from scripts import data\n",
    "from scripts import features\n",
    "from scripts.logistic_regression.model import LogisticRegression\n",
    "from scripts.logistic_regression import lr_methods, scikit_learn_lr"
   ]
  },
  {
   "attachments": {},
   "cell_type": "markdown",
   "metadata": {},
   "source": [
    "## Features (6 points)\n",
    "\n",
    "For every given text, we want to generate a vector with the features seen in class.\n",
    "\n",
    "**(6 points)** Code the following features:\n",
    "* 1 if \"no\" appears in the document, 0 otherwise.\n",
    "* The count of first and second pronouns in the document.\n",
    "* 1 if \"!\" is in the document, 0 otherwise.\n",
    "* Log(word count in the document).\n",
    "* Number of words in the document which are in the positive lexicon.\n",
    "* Number of words in the document which are in the negative lexicon.\n",
    "* **\\[Bonus\\]** Add another feature of your choice.\n",
    "\n",
    "For positive and negative lexicons, you can use the resources provided by [VADER sentiment](https://github.com/cjhutto/vaderSentiment). Look for the `vader_lexicon.txt` file and consider positive word if they score above a certain threshold (for example 1) and negative word if they score below a certain threshold (for example -1). Feel free to use another lexicon if you find one, but make sure you document your choice.\n",
    "\n",
    "\n",
    "### Tips\n",
    "\n",
    "* Don't forget to use a similar pre-treatment as the one you used for the previous lab.\n",
    "* Beware that words in the VADER dictionary are not lemmatized or stemmed. Do not use these pretreatments here.\n",
    "* When checking for occurences of \"no\" or pronouns, split the text into token. Just using `\"no\" in text` would return true if the word \"notable\" is in your text.\n"
   ]
  },
  {
   "attachments": {},
   "cell_type": "markdown",
   "metadata": {},
   "source": [
    "### Loading datasets"
   ]
  },
  {
   "cell_type": "code",
   "execution_count": 2,
   "metadata": {},
   "outputs": [
    {
     "name": "stderr",
     "output_type": "stream",
     "text": [
      "Found cached dataset imdb (/Users/francois.soulier/.cache/huggingface/datasets/imdb/plain_text/1.0.0/d613c88cf8fa3bab83b4ded3713f1f74830d1100e171db75bbddb80b3345c9c0)\n",
      "Found cached dataset imdb (/Users/francois.soulier/.cache/huggingface/datasets/imdb/plain_text/1.0.0/d613c88cf8fa3bab83b4ded3713f1f74830d1100e171db75bbddb80b3345c9c0)\n"
     ]
    }
   ],
   "source": [
    "splits = ds.get_dataset_split_names('imdb')\n",
    "train_ds, test_ds = data.load_datasets(splits=splits[:2])"
   ]
  },
  {
   "attachments": {},
   "cell_type": "markdown",
   "metadata": {},
   "source": [
    "### Features extraction"
   ]
  },
  {
   "attachments": {},
   "cell_type": "markdown",
   "metadata": {},
   "source": [
    "Import lexicon"
   ]
  },
  {
   "cell_type": "code",
   "execution_count": 3,
   "metadata": {},
   "outputs": [
    {
     "name": "stderr",
     "output_type": "stream",
     "text": [
      "[nltk_data] Downloading package vader_lexicon to\n",
      "[nltk_data]     /Users/francois.soulier/nltk_data...\n",
      "[nltk_data]   Package vader_lexicon is already up-to-date!\n"
     ]
    }
   ],
   "source": [
    "nltk.download('vader_lexicon')\n",
    "sid: SentimentIntensityAnalyzer = SentimentIntensityAnalyzer()"
   ]
  },
  {
   "attachments": {},
   "cell_type": "markdown",
   "metadata": {},
   "source": [
    "Apply feature extraction on an example"
   ]
  },
  {
   "cell_type": "code",
   "execution_count": 4,
   "metadata": {},
   "outputs": [
    {
     "data": {
      "text/plain": [
       "[1, 2, 1, 1, 2.0794415416798357, 1, 1, 0]"
      ]
     },
     "execution_count": 4,
     "metadata": {},
     "output_type": "execute_result"
    }
   ],
   "source": [
    "features.get_features(\"I am You We  not happy NO !\", sid=sid)"
   ]
  },
  {
   "attachments": {},
   "cell_type": "markdown",
   "metadata": {},
   "source": [
    "Apply features extraction on both `training` and `testing` datasets."
   ]
  },
  {
   "cell_type": "code",
   "execution_count": 5,
   "metadata": {},
   "outputs": [
    {
     "data": {
      "text/html": [
       "<div>\n",
       "<style scoped>\n",
       "    .dataframe tbody tr th:only-of-type {\n",
       "        vertical-align: middle;\n",
       "    }\n",
       "\n",
       "    .dataframe tbody tr th {\n",
       "        vertical-align: top;\n",
       "    }\n",
       "\n",
       "    .dataframe thead th {\n",
       "        text-align: right;\n",
       "    }\n",
       "</style>\n",
       "<table border=\"1\" class=\"dataframe\">\n",
       "  <thead>\n",
       "    <tr style=\"text-align: right;\">\n",
       "      <th></th>\n",
       "      <th>no</th>\n",
       "      <th>first_pronouns</th>\n",
       "      <th>second_pronouns</th>\n",
       "      <th>exclamation</th>\n",
       "      <th>log_word_count</th>\n",
       "      <th>positive</th>\n",
       "      <th>negative</th>\n",
       "      <th>label</th>\n",
       "      <th>third_person</th>\n",
       "    </tr>\n",
       "  </thead>\n",
       "  <tbody>\n",
       "    <tr>\n",
       "      <th>0</th>\n",
       "      <td>1</td>\n",
       "      <td>6</td>\n",
       "      <td>0</td>\n",
       "      <td>0</td>\n",
       "      <td>5.641907</td>\n",
       "      <td>7</td>\n",
       "      <td>5</td>\n",
       "      <td>0</td>\n",
       "      <td>8</td>\n",
       "    </tr>\n",
       "    <tr>\n",
       "      <th>1</th>\n",
       "      <td>1</td>\n",
       "      <td>1</td>\n",
       "      <td>1</td>\n",
       "      <td>0</td>\n",
       "      <td>5.365976</td>\n",
       "      <td>3</td>\n",
       "      <td>4</td>\n",
       "      <td>0</td>\n",
       "      <td>3</td>\n",
       "    </tr>\n",
       "    <tr>\n",
       "      <th>2</th>\n",
       "      <td>1</td>\n",
       "      <td>0</td>\n",
       "      <td>0</td>\n",
       "      <td>0</td>\n",
       "      <td>4.465908</td>\n",
       "      <td>3</td>\n",
       "      <td>3</td>\n",
       "      <td>0</td>\n",
       "      <td>4</td>\n",
       "    </tr>\n",
       "    <tr>\n",
       "      <th>3</th>\n",
       "      <td>0</td>\n",
       "      <td>2</td>\n",
       "      <td>1</td>\n",
       "      <td>0</td>\n",
       "      <td>4.736198</td>\n",
       "      <td>5</td>\n",
       "      <td>3</td>\n",
       "      <td>0</td>\n",
       "      <td>1</td>\n",
       "    </tr>\n",
       "    <tr>\n",
       "      <th>4</th>\n",
       "      <td>0</td>\n",
       "      <td>8</td>\n",
       "      <td>1</td>\n",
       "      <td>1</td>\n",
       "      <td>5.680173</td>\n",
       "      <td>4</td>\n",
       "      <td>11</td>\n",
       "      <td>0</td>\n",
       "      <td>9</td>\n",
       "    </tr>\n",
       "  </tbody>\n",
       "</table>\n",
       "</div>"
      ],
      "text/plain": [
       "   no  first_pronouns  second_pronouns  exclamation  log_word_count  positive  \\\n",
       "0   1               6                0            0        5.641907         7   \n",
       "1   1               1                1            0        5.365976         3   \n",
       "2   1               0                0            0        4.465908         3   \n",
       "3   0               2                1            0        4.736198         5   \n",
       "4   0               8                1            1        5.680173         4   \n",
       "\n",
       "   negative  label  third_person  \n",
       "0         5      0             8  \n",
       "1         4      0             3  \n",
       "2         3      0             4  \n",
       "3         3      0             1  \n",
       "4        11      0             9  "
      ]
     },
     "execution_count": 5,
     "metadata": {},
     "output_type": "execute_result"
    }
   ],
   "source": [
    "df_train: pd.DataFrame = features.add_features(train_ds, sid=sid)\n",
    "df_test: pd.DataFrame = features.add_features(test_ds, sid=sid)\n",
    "\n",
    "# Result example\n",
    "df_train.head()"
   ]
  },
  {
   "attachments": {},
   "cell_type": "markdown",
   "metadata": {},
   "source": [
    "Split the `training` dataset into a training and a validation dataset (using 10 to 20% of the training set as validation)."
   ]
  },
  {
   "cell_type": "code",
   "execution_count": 6,
   "metadata": {},
   "outputs": [],
   "source": [
    "X_train, X_val, y_train, y_val = train_test_split(df_train.drop(columns=[\"label\"]), df_train[\"label\"], test_size=0.2, random_state=42)"
   ]
  },
  {
   "attachments": {},
   "cell_type": "markdown",
   "metadata": {},
   "source": [
    "## Logistic regression classifier (6 points)\n",
    "\n",
    "The `logistic_regression_pytorch.ipynb` notebook, in the same directory, shows how to train a logistic regression classifier using PyTorch on a dummy dataset.\n",
    "\n",
    "* **(3 points)** Adapt the code by adding your feature extractor and train a classifier.\n",
    "  * For training, don't use the test set as validation. Instead, split the training set into a training and a validation set (use 10 to 20% of the training set as validation).\n",
    "* **(1 point)** Evaluate your classifier in terms of accuracy for the training, validation, and test set.\n",
    "* **(1 point)** Look at the weights of your classifier. Which features seems to play most for both classes?\n",
    "* **\\[Bonus\\]** The parameter `weight_decay` of the [SGD optimizer](https://pytorch.org/docs/stable/generated/torch.optim.SGD.html) corresponds to the L2 penalty. Try playing with this value and explain how it influence the model's weights.\n",
    "* **(1 point)** Take two wrongly classified samples in the test set and try explaining why the model was wrong.\n",
    "* **\\[Bonus\\]** Train logistic regression classifier using the [scikit-learn implementation](https://scikit-learn.org/stable/modules/generated/sklearn.linear_model.LogisticRegression.html). How does it compare with the PyTorch version?\n"
   ]
  },
  {
   "attachments": {},
   "cell_type": "markdown",
   "metadata": {},
   "source": [
    "Define model, loss function and optimizer function"
   ]
  },
  {
   "cell_type": "code",
   "execution_count": 7,
   "metadata": {},
   "outputs": [],
   "source": [
    "model = LogisticRegression(8, 1)\n",
    "criterion = nn.BCEWithLogitsLoss()\n",
    "optimizer = torch.optim.SGD(model.parameters(), lr=0.01, weight_decay=0.5)"
   ]
  },
  {
   "attachments": {},
   "cell_type": "markdown",
   "metadata": {},
   "source": [
    "Model training"
   ]
  },
  {
   "cell_type": "code",
   "execution_count": 8,
   "metadata": {},
   "outputs": [
    {
     "name": "stdout",
     "output_type": "stream",
     "text": [
      "tensor(1.5083, grad_fn=<BinaryCrossEntropyWithLogitsBackward0>)\n",
      "tensor(0.5937, grad_fn=<BinaryCrossEntropyWithLogitsBackward0>)\n",
      "tensor(0.5937, grad_fn=<BinaryCrossEntropyWithLogitsBackward0>)\n",
      "tensor(0.5942, grad_fn=<BinaryCrossEntropyWithLogitsBackward0>)\n",
      "tensor(0.5945, grad_fn=<BinaryCrossEntropyWithLogitsBackward0>)\n",
      "tensor(0.5947, grad_fn=<BinaryCrossEntropyWithLogitsBackward0>)\n",
      "tensor(0.5948, grad_fn=<BinaryCrossEntropyWithLogitsBackward0>)\n",
      "tensor(0.5949, grad_fn=<BinaryCrossEntropyWithLogitsBackward0>)\n",
      "tensor(0.5949, grad_fn=<BinaryCrossEntropyWithLogitsBackward0>)\n",
      "tensor(0.5949, grad_fn=<BinaryCrossEntropyWithLogitsBackward0>)\n",
      "Training time: 1.20 seconds\n"
     ]
    }
   ],
   "source": [
    "train_losses, test_losses, torch_training_duration = lr_methods.fit(model, optimizer, criterion, X_train, y_train, X_val, y_val)"
   ]
  },
  {
   "attachments": {},
   "cell_type": "markdown",
   "metadata": {},
   "source": [
    "Display `training` and `validation` losses"
   ]
  },
  {
   "cell_type": "code",
   "execution_count": 9,
   "metadata": {},
   "outputs": [
    {
     "data": {
      "image/png": "[encoded data removed]",
      "text/plain": [
       "<Figure size 640x480 with 1 Axes>"
      ]
     },
     "metadata": {},
     "output_type": "display_data"
    }
   ],
   "source": [
    "# Plot the losses\n",
    "lr_methods.display_losses(training=train_losses, testing=test_losses)"
   ]
  },
  {
   "attachments": {},
   "cell_type": "markdown",
   "metadata": {},
   "source": [
    "Display `training`, `validation` and `test` accuracies"
   ]
  },
  {
   "cell_type": "code",
   "execution_count": 10,
   "metadata": {},
   "outputs": [
    {
     "name": "stdout",
     "output_type": "stream",
     "text": [
      "Training accuracy: 69.97%\n",
      "Validation accuracy: 69.58%\n",
      "Test accuracy: 70.16%\n"
     ]
    }
   ],
   "source": [
    "X_test, y_test = df_test.drop(columns=[\"label\"]), df_test[\"label\"]\n",
    "\n",
    "lr_methods.evaluate(type='Training', model=model, X=X_train, y=y_train)\n",
    "lr_methods.evaluate(type='Validation', model=model, X=X_val, y=y_val)\n",
    "lr_methods.evaluate(type='Test', model=model, X=X_test, y=y_test)"
   ]
  },
  {
   "attachments": {},
   "cell_type": "markdown",
   "metadata": {},
   "source": [
    "### Hyperparameters tuning - Cross-validation"
   ]
  },
  {
   "attachments": {},
   "cell_type": "markdown",
   "metadata": {},
   "source": [
    "Let us first define some initial hyperparameters:"
   ]
  },
  {
   "cell_type": "code",
   "execution_count": 11,
   "metadata": {},
   "outputs": [],
   "source": [
    "criterion = nn.BCEWithLogitsLoss\n",
    "optimizer = torch.optim.SGD\n",
    "learning_rate = 0.01\n",
    "weight_decay = 0.5\n",
    "epochs = 100"
   ]
  },
  {
   "attachments": {},
   "cell_type": "markdown",
   "metadata": {},
   "source": [
    "In the following step, we use the [skorch](https://skorch.readthedocs.io/en/stable/) library to wrap the PyTorch model into a scikit-learn compatible model. This allows us to use the scikit-learn tools for hyperparameters tuning.\n",
    "\n",
    "We first define a `skorch` wrapper for our model:"
   ]
  },
  {
   "cell_type": "code",
   "execution_count": 12,
   "metadata": {},
   "outputs": [],
   "source": [
    "skorch_net: NeuralNetClassifier = NeuralNetClassifier(\n",
    "    module=LogisticRegression,\n",
    "    module__input_dim=8,\n",
    "    module__nb_classes=1,\n",
    "    criterion=criterion,\n",
    "    optimizer=optimizer,\n",
    "    optimizer__lr=learning_rate,\n",
    "    optimizer__weight_decay=weight_decay,\n",
    "    max_epochs=epochs\n",
    ")"
   ]
  },
  {
   "attachments": {},
   "cell_type": "markdown",
   "metadata": {},
   "source": [
    "The different steps of the cross-validation here are the following:\n",
    "* We create a dictionary of hyperparameters to tune. For each hyperparameter, we define a list of values to try.\n",
    "\n",
    "* We create a `GridSearchCV` object, which will try all possible combinations of hyperparameters when fitting.\n",
    "\n",
    "* We convert the training data to `torch` tensors.\n",
    "\n",
    "* We fit the `GridSearchCV` object on the training set. This will train a model for each combination of hyperparameters, and keep the best one."
   ]
  },
  {
   "cell_type": "code",
   "execution_count": 13,
   "metadata": {},
   "outputs": [
    {
     "name": "stdout",
     "output_type": "stream",
     "text": [
      "Fitting 2 folds for each of 9 candidates, totalling 18 fits\n",
      "[CV 1/2] END optimizer__lr=0.01, optimizer__weight_decay=1.0;, score=0.695 total time=   3.4s\n",
      "[CV 2/2] END optimizer__lr=0.01, optimizer__weight_decay=1.0;, score=0.532 total time=   3.2s\n",
      "[CV 1/2] END optimizer__lr=0.01, optimizer__weight_decay=0.7;, score=0.695 total time=   3.3s\n",
      "[CV 2/2] END optimizer__lr=0.01, optimizer__weight_decay=0.7;, score=0.541 total time=   3.3s\n",
      "[CV 1/2] END optimizer__lr=0.01, optimizer__weight_decay=0.5;, score=0.696 total time=   3.6s\n",
      "[CV 2/2] END optimizer__lr=0.01, optimizer__weight_decay=0.5;, score=0.549 total time=   3.4s\n",
      "[CV 1/2] END optimizer__lr=0.005, optimizer__weight_decay=1.0;, score=0.695 total time=   3.3s\n",
      "[CV 2/2] END optimizer__lr=0.005, optimizer__weight_decay=1.0;, score=0.610 total time=   3.3s\n",
      "[CV 1/2] END optimizer__lr=0.005, optimizer__weight_decay=0.7;, score=0.695 total time=   3.3s\n",
      "[CV 2/2] END optimizer__lr=0.005, optimizer__weight_decay=0.7;, score=0.617 total time=   3.3s\n",
      "[CV 1/2] END optimizer__lr=0.005, optimizer__weight_decay=0.5;, score=0.695 total time=   3.3s\n",
      "[CV 2/2] END optimizer__lr=0.005, optimizer__weight_decay=0.5;, score=0.625 total time=   3.3s\n",
      "[CV 1/2] END optimizer__lr=0.001, optimizer__weight_decay=1.0;, score=0.696 total time=   3.3s\n",
      "[CV 2/2] END optimizer__lr=0.001, optimizer__weight_decay=1.0;, score=0.695 total time=   3.3s\n",
      "[CV 1/2] END optimizer__lr=0.001, optimizer__weight_decay=0.7;, score=0.696 total time=   3.3s\n",
      "[CV 2/2] END optimizer__lr=0.001, optimizer__weight_decay=0.7;, score=0.695 total time=   3.3s\n",
      "[CV 1/2] END optimizer__lr=0.001, optimizer__weight_decay=0.5;, score=0.696 total time=   3.3s\n",
      "[CV 2/2] END optimizer__lr=0.001, optimizer__weight_decay=0.5;, score=0.697 total time=   3.3s\n"
     ]
    }
   ],
   "source": [
    "# Prevent skorch logs from being printed\n",
    "skorch_net.set_params(train_split=False, verbose=0)\n",
    "\n",
    "# Define the parameters to be tested in the grid search\n",
    "params: dict[str, list[float]] = {\n",
    "    'optimizer__lr': [0.01, 0.005, 0.001],\n",
    "    'optimizer__weight_decay': [1.0, 0.7, 0.5]\n",
    "}\n",
    "\n",
    "# Instantiate the grid search (scikit-learn) object\n",
    "grid_search = GridSearchCV(skorch_net, params, refit=False, cv=2, scoring='accuracy', verbose=3, error_score='raise')\n",
    "\n",
    "# Convert the training data to tensors\n",
    "X_train_tensor = torch.tensor(X_train.values).float()\n",
    "y_train_tensor = torch.tensor(y_train.values).float().unsqueeze(1)\n",
    "\n",
    "# Perform the grid search on the training data through the fitting method of the skorch model.\n",
    "history = grid_search.fit(X_train_tensor, y_train_tensor)"
   ]
  },
  {
   "attachments": {},
   "cell_type": "markdown",
   "metadata": {},
   "source": [
    "We can now retrieve the best score and hyperparameters."
   ]
  },
  {
   "cell_type": "code",
   "execution_count": 14,
   "metadata": {},
   "outputs": [
    {
     "name": "stdout",
     "output_type": "stream",
     "text": [
      "Best score: 0.697\n",
      "Best parameters: {'optimizer__lr': 0.001, 'optimizer__weight_decay': 0.5}\n"
     ]
    }
   ],
   "source": [
    "print(\"Best score: {:.3f}\".format(history.best_score_))\n",
    "print(\"Best parameters: {}\".format(history.best_params_))"
   ]
  },
  {
   "cell_type": "markdown",
   "metadata": {},
   "source": [
    "* **(1 point)** Look at the weights of your classifier. Which features seems to play most for both classes?"
   ]
  },
  {
   "cell_type": "code",
   "execution_count": 15,
   "metadata": {},
   "outputs": [
    {
     "name": "stdout",
     "output_type": "stream",
     "text": [
      "tensor([-0.0340, -0.0496, -0.0079, -0.0070, -0.0229,  0.1296, -0.1532,  0.0086],\n",
      "       grad_fn=<SelectBackward0>)\n",
      "\n",
      "Positive class\n",
      "\n",
      "torch.return_types.topk(\n",
      "values=tensor([0.1296, 0.0086], grad_fn=<TopkBackward0>),\n",
      "indices=tensor([5, 7]))\n",
      "\n",
      "Negative class\n",
      "\n",
      "torch.return_types.topk(\n",
      "values=tensor([-0.1532, -0.0496], grad_fn=<TopkBackward0>),\n",
      "indices=tensor([6, 1]))\n"
     ]
    }
   ],
   "source": [
    "# Print the 2 biggest weights of the features for both classes.\n",
    "print(model.linear.weight[0])\n",
    "\n",
    "print(\"\\nPositive class\\n\")\n",
    "print(model.linear.weight[0].topk(2))\n",
    "\n",
    "\n",
    "print(\"\\nNegative class\\n\")\n",
    "print(model.linear.weight[0].topk(2, largest=False))"
   ]
  },
  {
   "attachments": {},
   "cell_type": "markdown",
   "metadata": {},
   "source": [
    "For the positive class, the number of positive words and the presence of exclamation marks are the most important features."
   ]
  },
  {
   "attachments": {},
   "cell_type": "markdown",
   "metadata": {},
   "source": [
    "For the negative class, the number of negative words and the number of first person pronouns are the most important features."
   ]
  },
  {
   "attachments": {},
   "cell_type": "markdown",
   "metadata": {},
   "source": [
    "* **\\[Bonus\\]** The parameter `weight_decay` of the [SGD optimizer](https://pytorch.org/docs/stable/generated/torch.optim.SGD.html) corresponds to the L2 penalty. Try playing with this value and explain how it influence the model's weights."
   ]
  },
  {
   "attachments": {},
   "cell_type": "markdown",
   "metadata": {},
   "source": [
    "The **weight_decay** parameter adds a L2 penalty (also known as ridge regularization) to the cost. It can reduce the impact of large coefficients and encourage the model to have smaller and more balanced coefficients, which can lead to better generalization performance and prevent overfitting.\n",
    "\n",
    "The strength of the L2 penalty is controlled by the lambda hyperparameter. Increasing the value of lambda increases the strength of the penalty and results in smaller coefficients, which can reduce overfitting but may also reduce the model's ability to capture complex relationships in the data.\n",
    "\n",
    "However, it is important to choose an appropriate value of lambda that balances the trade-off between bias and variance, as a too strong penalty can lead to underfitting and a too weak penalty can lead to overfitting."
   ]
  },
  {
   "cell_type": "markdown",
   "metadata": {},
   "source": [
    "* **(1 point)** Take two wrongly classified samples in the test set and try explaining why the model was wrong."
   ]
  },
  {
   "cell_type": "code",
   "execution_count": 16,
   "metadata": {},
   "outputs": [
    {
     "data": {
      "text/html": [
       "<div>\n",
       "<style scoped>\n",
       "    .dataframe tbody tr th:only-of-type {\n",
       "        vertical-align: middle;\n",
       "    }\n",
       "\n",
       "    .dataframe tbody tr th {\n",
       "        vertical-align: top;\n",
       "    }\n",
       "\n",
       "    .dataframe thead th {\n",
       "        text-align: right;\n",
       "    }\n",
       "</style>\n",
       "<table border=\"1\" class=\"dataframe\">\n",
       "  <thead>\n",
       "    <tr style=\"text-align: right;\">\n",
       "      <th></th>\n",
       "      <th>no</th>\n",
       "      <th>first_pronouns</th>\n",
       "      <th>second_pronouns</th>\n",
       "      <th>exclamation</th>\n",
       "      <th>log_word_count</th>\n",
       "      <th>positive</th>\n",
       "      <th>negative</th>\n",
       "      <th>label</th>\n",
       "      <th>third_person</th>\n",
       "      <th>prediction</th>\n",
       "      <th>wrongly_classified</th>\n",
       "    </tr>\n",
       "  </thead>\n",
       "  <tbody>\n",
       "    <tr>\n",
       "      <th>4</th>\n",
       "      <td>0</td>\n",
       "      <td>2</td>\n",
       "      <td>2</td>\n",
       "      <td>1</td>\n",
       "      <td>4.897840</td>\n",
       "      <td>12</td>\n",
       "      <td>2</td>\n",
       "      <td>0</td>\n",
       "      <td>4</td>\n",
       "      <td>1</td>\n",
       "      <td>True</td>\n",
       "    </tr>\n",
       "    <tr>\n",
       "      <th>6</th>\n",
       "      <td>1</td>\n",
       "      <td>2</td>\n",
       "      <td>3</td>\n",
       "      <td>0</td>\n",
       "      <td>5.655992</td>\n",
       "      <td>19</td>\n",
       "      <td>11</td>\n",
       "      <td>0</td>\n",
       "      <td>5</td>\n",
       "      <td>1</td>\n",
       "      <td>True</td>\n",
       "    </tr>\n",
       "    <tr>\n",
       "      <th>11</th>\n",
       "      <td>0</td>\n",
       "      <td>6</td>\n",
       "      <td>0</td>\n",
       "      <td>0</td>\n",
       "      <td>5.247024</td>\n",
       "      <td>11</td>\n",
       "      <td>3</td>\n",
       "      <td>0</td>\n",
       "      <td>6</td>\n",
       "      <td>1</td>\n",
       "      <td>True</td>\n",
       "    </tr>\n",
       "    <tr>\n",
       "      <th>46</th>\n",
       "      <td>1</td>\n",
       "      <td>7</td>\n",
       "      <td>2</td>\n",
       "      <td>1</td>\n",
       "      <td>5.752573</td>\n",
       "      <td>15</td>\n",
       "      <td>4</td>\n",
       "      <td>0</td>\n",
       "      <td>6</td>\n",
       "      <td>1</td>\n",
       "      <td>True</td>\n",
       "    </tr>\n",
       "    <tr>\n",
       "      <th>63</th>\n",
       "      <td>0</td>\n",
       "      <td>0</td>\n",
       "      <td>0</td>\n",
       "      <td>0</td>\n",
       "      <td>4.304065</td>\n",
       "      <td>6</td>\n",
       "      <td>1</td>\n",
       "      <td>0</td>\n",
       "      <td>7</td>\n",
       "      <td>1</td>\n",
       "      <td>True</td>\n",
       "    </tr>\n",
       "    <tr>\n",
       "      <th>...</th>\n",
       "      <td>...</td>\n",
       "      <td>...</td>\n",
       "      <td>...</td>\n",
       "      <td>...</td>\n",
       "      <td>...</td>\n",
       "      <td>...</td>\n",
       "      <td>...</td>\n",
       "      <td>...</td>\n",
       "      <td>...</td>\n",
       "      <td>...</td>\n",
       "      <td>...</td>\n",
       "    </tr>\n",
       "    <tr>\n",
       "      <th>24993</th>\n",
       "      <td>0</td>\n",
       "      <td>1</td>\n",
       "      <td>1</td>\n",
       "      <td>1</td>\n",
       "      <td>4.897840</td>\n",
       "      <td>6</td>\n",
       "      <td>4</td>\n",
       "      <td>1</td>\n",
       "      <td>1</td>\n",
       "      <td>0</td>\n",
       "      <td>True</td>\n",
       "    </tr>\n",
       "    <tr>\n",
       "      <th>24996</th>\n",
       "      <td>0</td>\n",
       "      <td>4</td>\n",
       "      <td>2</td>\n",
       "      <td>1</td>\n",
       "      <td>4.727388</td>\n",
       "      <td>7</td>\n",
       "      <td>3</td>\n",
       "      <td>1</td>\n",
       "      <td>1</td>\n",
       "      <td>0</td>\n",
       "      <td>True</td>\n",
       "    </tr>\n",
       "    <tr>\n",
       "      <th>24997</th>\n",
       "      <td>0</td>\n",
       "      <td>2</td>\n",
       "      <td>0</td>\n",
       "      <td>0</td>\n",
       "      <td>5.356586</td>\n",
       "      <td>11</td>\n",
       "      <td>5</td>\n",
       "      <td>1</td>\n",
       "      <td>4</td>\n",
       "      <td>0</td>\n",
       "      <td>True</td>\n",
       "    </tr>\n",
       "    <tr>\n",
       "      <th>24998</th>\n",
       "      <td>1</td>\n",
       "      <td>7</td>\n",
       "      <td>2</td>\n",
       "      <td>1</td>\n",
       "      <td>5.929589</td>\n",
       "      <td>13</td>\n",
       "      <td>12</td>\n",
       "      <td>1</td>\n",
       "      <td>5</td>\n",
       "      <td>0</td>\n",
       "      <td>True</td>\n",
       "    </tr>\n",
       "    <tr>\n",
       "      <th>24999</th>\n",
       "      <td>0</td>\n",
       "      <td>1</td>\n",
       "      <td>0</td>\n",
       "      <td>0</td>\n",
       "      <td>4.852030</td>\n",
       "      <td>7</td>\n",
       "      <td>7</td>\n",
       "      <td>1</td>\n",
       "      <td>2</td>\n",
       "      <td>0</td>\n",
       "      <td>True</td>\n",
       "    </tr>\n",
       "  </tbody>\n",
       "</table>\n",
       "<p>8714 rows × 11 columns</p>\n",
       "</div>"
      ],
      "text/plain": [
       "       no  first_pronouns  second_pronouns  exclamation  log_word_count  \\\n",
       "4       0               2                2            1        4.897840   \n",
       "6       1               2                3            0        5.655992   \n",
       "11      0               6                0            0        5.247024   \n",
       "46      1               7                2            1        5.752573   \n",
       "63      0               0                0            0        4.304065   \n",
       "...    ..             ...              ...          ...             ...   \n",
       "24993   0               1                1            1        4.897840   \n",
       "24996   0               4                2            1        4.727388   \n",
       "24997   0               2                0            0        5.356586   \n",
       "24998   1               7                2            1        5.929589   \n",
       "24999   0               1                0            0        4.852030   \n",
       "\n",
       "       positive  negative  label  third_person  prediction  wrongly_classified  \n",
       "4            12         2      0             4           1                True  \n",
       "6            19        11      0             5           1                True  \n",
       "11           11         3      0             6           1                True  \n",
       "46           15         4      0             6           1                True  \n",
       "63            6         1      0             7           1                True  \n",
       "...         ...       ...    ...           ...         ...                 ...  \n",
       "24993         6         4      1             1           0                True  \n",
       "24996         7         3      1             1           0                True  \n",
       "24997        11         5      1             4           0                True  \n",
       "24998        13        12      1             5           0                True  \n",
       "24999         7         7      1             2           0                True  \n",
       "\n",
       "[8714 rows x 11 columns]"
      ]
     },
     "execution_count": 16,
     "metadata": {},
     "output_type": "execute_result"
    }
   ],
   "source": [
    "df_test_copy = df_test.copy()\n",
    "\n",
    "df_test_copy[\"prediction\"] = model(torch.tensor(X_test.values).float()).detach().numpy()\n",
    "df_test_copy[\"prediction\"] = df_test_copy[\"prediction\"].apply(lambda x: 1 if x > 0.5 else 0)\n",
    "df_test_copy[\"wrongly_classified\"] = df_test_copy[\"prediction\"] != df_test_copy[\"label\"]\n",
    "df_test_copy[df_test_copy[\"wrongly_classified\"]]"
   ]
  },
  {
   "attachments": {},
   "cell_type": "markdown",
   "metadata": {},
   "source": [
    "#### First wrongly classified sample"
   ]
  },
  {
   "cell_type": "code",
   "execution_count": 17,
   "metadata": {},
   "outputs": [
    {
     "data": {
      "text/html": [
       "<div>\n",
       "<style scoped>\n",
       "    .dataframe tbody tr th:only-of-type {\n",
       "        vertical-align: middle;\n",
       "    }\n",
       "\n",
       "    .dataframe tbody tr th {\n",
       "        vertical-align: top;\n",
       "    }\n",
       "\n",
       "    .dataframe thead th {\n",
       "        text-align: right;\n",
       "    }\n",
       "</style>\n",
       "<table border=\"1\" class=\"dataframe\">\n",
       "  <thead>\n",
       "    <tr style=\"text-align: right;\">\n",
       "      <th></th>\n",
       "      <th>no</th>\n",
       "      <th>first_pronouns</th>\n",
       "      <th>second_pronouns</th>\n",
       "      <th>exclamation</th>\n",
       "      <th>log_word_count</th>\n",
       "      <th>positive</th>\n",
       "      <th>negative</th>\n",
       "      <th>label</th>\n",
       "      <th>third_person</th>\n",
       "      <th>prediction</th>\n",
       "      <th>wrongly_classified</th>\n",
       "    </tr>\n",
       "  </thead>\n",
       "  <tbody>\n",
       "    <tr>\n",
       "      <th>4</th>\n",
       "      <td>0</td>\n",
       "      <td>2</td>\n",
       "      <td>2</td>\n",
       "      <td>1</td>\n",
       "      <td>4.89784</td>\n",
       "      <td>12</td>\n",
       "      <td>2</td>\n",
       "      <td>0</td>\n",
       "      <td>4</td>\n",
       "      <td>1</td>\n",
       "      <td>True</td>\n",
       "    </tr>\n",
       "  </tbody>\n",
       "</table>\n",
       "</div>"
      ],
      "text/plain": [
       "   no  first_pronouns  second_pronouns  exclamation  log_word_count  positive  \\\n",
       "4   0               2                2            1         4.89784        12   \n",
       "\n",
       "   negative  label  third_person  prediction  wrongly_classified  \n",
       "4         2      0             4           1                True  "
      ]
     },
     "execution_count": 17,
     "metadata": {},
     "output_type": "execute_result"
    }
   ],
   "source": [
    "# First wrong prediction\n",
    "df_test_copy[df_test_copy[\"wrongly_classified\"]].head(1)\n"
   ]
  },
  {
   "attachments": {},
   "cell_type": "markdown",
   "metadata": {},
   "source": [
    "The model predicted a positive label, but the true label is negative.\n",
    "\n",
    "We can see that the number of positive words is higher than the number of negative words.\n",
    "\n",
    "Also the presence of exclamation marks is a strong indicator of a positive label, as we saw in the previous part.\n"
   ]
  },
  {
   "attachments": {},
   "cell_type": "markdown",
   "metadata": {},
   "source": [
    "#### Second wrongly classified sample"
   ]
  },
  {
   "cell_type": "code",
   "execution_count": 18,
   "metadata": {},
   "outputs": [
    {
     "data": {
      "text/html": [
       "<div>\n",
       "<style scoped>\n",
       "    .dataframe tbody tr th:only-of-type {\n",
       "        vertical-align: middle;\n",
       "    }\n",
       "\n",
       "    .dataframe tbody tr th {\n",
       "        vertical-align: top;\n",
       "    }\n",
       "\n",
       "    .dataframe thead th {\n",
       "        text-align: right;\n",
       "    }\n",
       "</style>\n",
       "<table border=\"1\" class=\"dataframe\">\n",
       "  <thead>\n",
       "    <tr style=\"text-align: right;\">\n",
       "      <th></th>\n",
       "      <th>no</th>\n",
       "      <th>first_pronouns</th>\n",
       "      <th>second_pronouns</th>\n",
       "      <th>exclamation</th>\n",
       "      <th>log_word_count</th>\n",
       "      <th>positive</th>\n",
       "      <th>negative</th>\n",
       "      <th>label</th>\n",
       "      <th>third_person</th>\n",
       "      <th>prediction</th>\n",
       "      <th>wrongly_classified</th>\n",
       "    </tr>\n",
       "  </thead>\n",
       "  <tbody>\n",
       "    <tr>\n",
       "      <th>24998</th>\n",
       "      <td>1</td>\n",
       "      <td>7</td>\n",
       "      <td>2</td>\n",
       "      <td>1</td>\n",
       "      <td>5.929589</td>\n",
       "      <td>13</td>\n",
       "      <td>12</td>\n",
       "      <td>1</td>\n",
       "      <td>5</td>\n",
       "      <td>0</td>\n",
       "      <td>True</td>\n",
       "    </tr>\n",
       "  </tbody>\n",
       "</table>\n",
       "</div>"
      ],
      "text/plain": [
       "       no  first_pronouns  second_pronouns  exclamation  log_word_count  \\\n",
       "24998   1               7                2            1        5.929589   \n",
       "\n",
       "       positive  negative  label  third_person  prediction  wrongly_classified  \n",
       "24998        13        12      1             5           0                True  "
      ]
     },
     "execution_count": 18,
     "metadata": {},
     "output_type": "execute_result"
    }
   ],
   "source": [
    "# Second wrong prediction\n",
    "df_test_copy[df_test_copy[\"wrongly_classified\"]][-2:-1]"
   ]
  },
  {
   "attachments": {},
   "cell_type": "markdown",
   "metadata": {},
   "source": [
    "This time, the model predicted a negative label, but the true label is positive. \n",
    "\n",
    "The number of positive words is higher than the negative one. But as we can see, the presence of a no in the sentence may influence our model.\n",
    "\n",
    "The number of first pronouns is high, we saw that it could be a factor of influence for negative class.\n",
    "\n"
   ]
  },
  {
   "cell_type": "markdown",
   "metadata": {},
   "source": [
    "* **\\[Bonus\\]** Train logistic regression classifier using the [scikit-learn implementation](https://scikit-learn.org/stable/modules/generated/sklearn.linear_model.LogisticRegression.html). How does it compare with the PyTorch version?\n"
   ]
  },
  {
   "attachments": {},
   "cell_type": "markdown",
   "metadata": {},
   "source": [
    "#### Training"
   ]
  },
  {
   "cell_type": "code",
   "execution_count": 19,
   "metadata": {},
   "outputs": [
    {
     "name": "stdout",
     "output_type": "stream",
     "text": [
      "Training time: 0.08 seconds\n"
     ]
    }
   ],
   "source": [
    "# Add a L2 penalty to the logistic regression classifier\n",
    "model: SKLogisticRegression = scikit_learn_lr.model(penalty='l2', C=0.001)\n",
    "\n",
    "# Train the model on the training set\n",
    "sk_training_duration = scikit_learn_lr.fit(model, X_train, y_train)"
   ]
  },
  {
   "attachments": {},
   "cell_type": "markdown",
   "metadata": {},
   "source": [
    "#### Evaluation"
   ]
  },
  {
   "cell_type": "code",
   "execution_count": 20,
   "metadata": {},
   "outputs": [
    {
     "name": "stdout",
     "output_type": "stream",
     "text": [
      "Training accuracy: 69.91%\n",
      "Validation accuracy: 69.68%\n",
      "Test accuracy: 70.19%\n"
     ]
    }
   ],
   "source": [
    "# Evaluate the model on the training set\n",
    "_ = scikit_learn_lr.evaluate(model, X_train, y_train, type=\"Training\")\n",
    "\n",
    "# Evaluate the model on the validation set\n",
    "scikit_learn_lr.evaluate(model, X_val, y_val, type=\"Validation\")\n",
    "\n",
    "# Split the test_df into X_test and y_test\n",
    "_ = X_test = df_test.drop(columns=[\"label\"])\n",
    "_ = y_test = df_test[\"label\"]\n",
    "\n",
    "# Evaluate the model on the test set\n",
    "_ = scikit_learn_lr.evaluate(model, X_test, y_test, type=\"Test\")"
   ]
  },
  {
   "attachments": {},
   "cell_type": "markdown",
   "metadata": {},
   "source": [
    "The accuracy of the sklearn logistic regression classifier is comparable to the accuracy of the PyTorch model, as both models have an accuracy approximately the same accuracy on all three datasets."
   ]
  },
  {
   "cell_type": "code",
   "execution_count": 22,
   "metadata": {},
   "outputs": [
    {
     "name": "stdout",
     "output_type": "stream",
     "text": [
      "The scikit-learn model performed 15.15 times faster than the PyTorch model.\n"
     ]
    }
   ],
   "source": [
    "# Compare the training duration of the PyTorch and Scikit-Learn models as ratio\n",
    "ratio: float = torch_training_duration / sk_training_duration\n",
    "print(f\"The scikit-learn model performed {ratio:.2f} times faster than the PyTorch model.\")"
   ]
  },
  {
   "attachments": {},
   "cell_type": "markdown",
   "metadata": {},
   "source": [
    "An interesting observation is that the sklearn model has a much shorter training duration shorter than the PyTorch model, which can be an important factor when training a model on a large dataset.\n"
   ]
  }
 ],
 "metadata": {
  "kernelspec": {
   "display_name": "Python 3",
   "language": "python",
   "name": "python3"
  },
  "language_info": {
   "codemirror_mode": {
    "name": "ipython",
    "version": 3
   },
   "file_extension": ".py",
   "mimetype": "text/x-python",
   "name": "python",
   "nbconvert_exporter": "python",
   "pygments_lexer": "ipython3",
   "version": "3.10.10"
  },
  "orig_nbformat": 4
 },
 "nbformat": 4,
 "nbformat_minor": 2
}
