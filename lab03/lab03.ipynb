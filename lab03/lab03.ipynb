{
 "cells": [
  {
   "cell_type": "markdown",
   "metadata": {},
   "source": [
    "# Introduction to Natural Language Processing 01 "
   ]
  },
  {
   "attachments": {},
   "cell_type": "markdown",
   "metadata": {},
   "source": [
    "## Lab 03"
   ]
  },
  {
   "attachments": {},
   "cell_type": "markdown",
   "metadata": {},
   "source": [
    "## Features (6 points)\n",
    "\n",
    "For every given text, we want to generate a vector with the features seen in class.\n",
    "\n",
    "**(6 points)** Code the following features:\n",
    "* 1 if \"no\" appears in the document, 0 otherwise.\n",
    "* The count of first and second pronouns in the document.\n",
    "* 1 if \"!\" is in the document, 0 otherwise.\n",
    "* Log(word count in the document).\n",
    "* Number of words in the document which are in the positive lexicon.\n",
    "* Number of words in the document which are in the negative lexicon.\n",
    "* **\\[Bonus\\]** Add another feature of your choice.\n",
    "\n",
    "For positive and negative lexicons, you can use the resources provided by [VADER sentiment](https://github.com/cjhutto/vaderSentiment). Look for the `vader_lexicon.txt` file and consider positive word if they score above a certain threshold (for example 1) and negative word if they score below a certain threshold (for example -1). Feel free to use another lexicon if you find one, but make sure you document your choice.\n",
    "\n",
    "\n",
    "### Tips\n",
    "\n",
    "* Don't forget to use a similar pre-treatment as the one you used for the previous lab.\n",
    "* Beware that words in the VADER dictionary are not lemmatized or stemmed. Do not use these pretreatments here.\n",
    "* When checking for occurences of \"no\" or pronouns, split the text into token. Just using `\"no\" in text` would return true if the word \"notable\" is in your text.\n"
   ]
  },
  {
   "cell_type": "code",
   "execution_count": 1,
   "metadata": {},
   "outputs": [
    {
     "name": "stderr",
     "output_type": "stream",
     "text": [
      "Found cached dataset imdb (/home/bastien/.cache/huggingface/datasets/imdb/plain_text/1.0.0/d613c88cf8fa3bab83b4ded3713f1f74830d1100e171db75bbddb80b3345c9c0)\n",
      "Found cached dataset imdb (/home/bastien/.cache/huggingface/datasets/imdb/plain_text/1.0.0/d613c88cf8fa3bab83b4ded3713f1f74830d1100e171db75bbddb80b3345c9c0)\n"
     ]
    }
   ],
   "source": [
    "import datasets as ds\n",
    "import numpy as np\n",
    "\n",
    "splits = ds.get_dataset_split_names('imdb')\n",
    "train_ds = ds.load_dataset('imdb', split=splits[0])\n",
    "test_ds = ds.load_dataset('imdb', split=splits[1])"
   ]
  },
  {
   "cell_type": "code",
   "execution_count": 2,
   "metadata": {},
   "outputs": [
    {
     "name": "stderr",
     "output_type": "stream",
     "text": [
      "[nltk_data] Downloading package vader_lexicon to\n",
      "[nltk_data]     /home/bastien/nltk_data...\n",
      "[nltk_data]   Package vader_lexicon is already up-to-date!\n"
     ]
    }
   ],
   "source": [
    "# For each given text, create a vector with the following features:\n",
    "\n",
    "# if \"no\" appears in the document, 0 otherwise.\n",
    "# The count of first pronouns (i , we) in the document.\n",
    "# The count of second pronoun (you) in the document.\n",
    "# 1 if \"!\" is in the document, 0 otherwise.\n",
    "# Log(word count in the document).\n",
    "# Number of positive words in the document.\n",
    "# Number of negative words in the document.\n",
    "\n",
    "# When checking for occurences of \"no\" or pronouns, split the text into token. Just using `\"no\" in text` would return true if the word \"notable\" is in your text.\n",
    "\n",
    "#import `vader_lexicon.txt` from https://github.com/cjhutto/vaderSentiment and display it.\n",
    "\n",
    "import string\n",
    "import pandas as pd\n",
    "\n",
    "from bs4 import BeautifulSoup, MarkupResemblesLocatorWarning\n",
    "import warnings\n",
    "\n",
    "warnings.filterwarnings(\"ignore\", category=MarkupResemblesLocatorWarning)\n",
    "\n",
    "import nltk\n",
    "nltk.download('vader_lexicon')\n",
    "from nltk.sentiment.vader import SentimentIntensityAnalyzer\n",
    "sid = SentimentIntensityAnalyzer()\n",
    "\n",
    "def get_features(text):\n",
    "    text = text.lower()\n",
    "    text = BeautifulSoup(text).get_text()\n",
    "    text = \"\".join([c for c in text if c not in string.punctuation or c == \"!\" or c == \".\"])\n",
    "\n",
    "    features = []\n",
    "    positive = 0\n",
    "    negative = 0\n",
    "    # Our additionnal features\n",
    "    neutral = 0 \n",
    "    features.append(1 if \"no\" in text.split() else 0)\n",
    "    features.append(text.split().count(\"i\") + text.split().count(\"we\"))\n",
    "    features.append(text.split().count(\"you\"))\n",
    "    features.append(1 if \"!\" in text else 0)\n",
    "    features.append(np.log(len(text.split())))\n",
    "    for word in text.split():\n",
    "        if sid.lexicon.get(word, 0) < -1:\n",
    "            negative += 1\n",
    "        elif sid.lexicon.get(word, 0) > 1:\n",
    "            positive += 1\n",
    "        else:\n",
    "            neutral +=1\n",
    "    features.append(positive)\n",
    "    features.append(negative)\n",
    "    features.append(neutral)\n",
    "    return features\n"
   ]
  },
  {
   "cell_type": "code",
   "execution_count": 3,
   "metadata": {},
   "outputs": [
    {
     "data": {
      "text/plain": [
       "[1, 2, 1, 1, 2.0794415416798357, 1, 1]"
      ]
     },
     "execution_count": 3,
     "metadata": {},
     "output_type": "execute_result"
    }
   ],
   "source": [
    "get_features(\"I am You We  not happy NO !\")"
   ]
  },
  {
   "cell_type": "code",
   "execution_count": 4,
   "metadata": {},
   "outputs": [],
   "source": [
    "# create a function that adds a new column in the dataframe for each feature\n",
    "\n",
    "def add_features(dataset):\n",
    "    df = pd.DataFrame(dataset)\n",
    "    df[\"no\"] = df[\"text\"].apply(lambda x: get_features(x)[0])\n",
    "    df[\"first_pronouns\"] = df[\"text\"].apply(lambda x: get_features(x)[1])\n",
    "    df[\"second_pronouns\"] = df[\"text\"].apply(lambda x: get_features(x)[2])\n",
    "    df[\"exclamation\"] = df[\"text\"].apply(lambda x: get_features(x)[3])\n",
    "    df[\"log_word_count\"] = df[\"text\"].apply(lambda x: get_features(x)[4])\n",
    "    df[\"positive\"] = df[\"text\"].apply(lambda x: get_features(x)[5])\n",
    "    df[\"negative\"] = df[\"text\"].apply(lambda x: get_features(x)[6])\n",
    "    df = df.drop(columns=[\"text\"])\n",
    "    df = df[[\"no\", \"first_pronouns\", \"second_pronouns\", \"exclamation\", \"log_word_count\", \"positive\", \"negative\", \"label\"]]\n",
    "    return df\n"
   ]
  },
  {
   "cell_type": "code",
   "execution_count": 5,
   "metadata": {},
   "outputs": [],
   "source": [
    "df_train = add_features(train_ds)\n",
    "df_test = add_features(test_ds)"
   ]
  },
  {
   "cell_type": "code",
   "execution_count": 6,
   "metadata": {},
   "outputs": [],
   "source": [
    "#split the df_train dataset into a training and a validation dataset (use 10 to 20% of the training set as validation).\n",
    "\n",
    "from sklearn.model_selection import train_test_split\n",
    "\n",
    "X_train, X_val, y_train, y_val = train_test_split(df_train.drop(columns=[\"label\"]), df_train[\"label\"], test_size=0.2, random_state=42)"
   ]
  },
  {
   "cell_type": "code",
   "execution_count": 8,
   "metadata": {},
   "outputs": [
    {
     "data": {
      "text/html": [
       "<div>\n",
       "<style scoped>\n",
       "    .dataframe tbody tr th:only-of-type {\n",
       "        vertical-align: middle;\n",
       "    }\n",
       "\n",
       "    .dataframe tbody tr th {\n",
       "        vertical-align: top;\n",
       "    }\n",
       "\n",
       "    .dataframe thead th {\n",
       "        text-align: right;\n",
       "    }\n",
       "</style>\n",
       "<table border=\"1\" class=\"dataframe\">\n",
       "  <thead>\n",
       "    <tr style=\"text-align: right;\">\n",
       "      <th></th>\n",
       "      <th>no</th>\n",
       "      <th>first_pronouns</th>\n",
       "      <th>second_pronouns</th>\n",
       "      <th>exclamation</th>\n",
       "      <th>log_word_count</th>\n",
       "      <th>positive</th>\n",
       "      <th>negative</th>\n",
       "    </tr>\n",
       "  </thead>\n",
       "  <tbody>\n",
       "    <tr>\n",
       "      <th>23311</th>\n",
       "      <td>0</td>\n",
       "      <td>11</td>\n",
       "      <td>3</td>\n",
       "      <td>1</td>\n",
       "      <td>6.171701</td>\n",
       "      <td>8</td>\n",
       "      <td>10</td>\n",
       "    </tr>\n",
       "    <tr>\n",
       "      <th>23623</th>\n",
       "      <td>0</td>\n",
       "      <td>0</td>\n",
       "      <td>0</td>\n",
       "      <td>0</td>\n",
       "      <td>5.743003</td>\n",
       "      <td>19</td>\n",
       "      <td>8</td>\n",
       "    </tr>\n",
       "    <tr>\n",
       "      <th>1020</th>\n",
       "      <td>0</td>\n",
       "      <td>4</td>\n",
       "      <td>1</td>\n",
       "      <td>1</td>\n",
       "      <td>6.431331</td>\n",
       "      <td>25</td>\n",
       "      <td>19</td>\n",
       "    </tr>\n",
       "    <tr>\n",
       "      <th>12645</th>\n",
       "      <td>0</td>\n",
       "      <td>5</td>\n",
       "      <td>4</td>\n",
       "      <td>0</td>\n",
       "      <td>5.817111</td>\n",
       "      <td>24</td>\n",
       "      <td>4</td>\n",
       "    </tr>\n",
       "    <tr>\n",
       "      <th>1533</th>\n",
       "      <td>0</td>\n",
       "      <td>0</td>\n",
       "      <td>0</td>\n",
       "      <td>0</td>\n",
       "      <td>5.556828</td>\n",
       "      <td>12</td>\n",
       "      <td>5</td>\n",
       "    </tr>\n",
       "  </tbody>\n",
       "</table>\n",
       "</div>"
      ],
      "text/plain": [
       "       no  first_pronouns  second_pronouns  exclamation  log_word_count  \\\n",
       "23311   0              11                3            1        6.171701   \n",
       "23623   0               0                0            0        5.743003   \n",
       "1020    0               4                1            1        6.431331   \n",
       "12645   0               5                4            0        5.817111   \n",
       "1533    0               0                0            0        5.556828   \n",
       "\n",
       "       positive  negative  \n",
       "23311         8        10  \n",
       "23623        19         8  \n",
       "1020         25        19  \n",
       "12645        24         4  \n",
       "1533         12         5  "
      ]
     },
     "execution_count": 8,
     "metadata": {},
     "output_type": "execute_result"
    }
   ],
   "source": [
    "X_train.head()"
   ]
  },
  {
   "cell_type": "code",
   "execution_count": 10,
   "metadata": {},
   "outputs": [
    {
     "data": {
      "text/plain": [
       "23311    1\n",
       "23623    1\n",
       "1020     0\n",
       "12645    1\n",
       "1533     0\n",
       "Name: label, dtype: int64"
      ]
     },
     "execution_count": 10,
     "metadata": {},
     "output_type": "execute_result"
    }
   ],
   "source": []
  },
  {
   "attachments": {},
   "cell_type": "markdown",
   "metadata": {},
   "source": [
    "## Logistic regression classifier (6 points)\n",
    "\n",
    "The `logistic_regression_pytorch.ipynb` notebook, in the same directory, shows how to train a logistic regression classifier using PyTorch on a dummy dataset.\n",
    "\n",
    "* **(3 points)** Adapt the code by adding your feature extractor and train a classifier.\n",
    "  * For training, don't use the test set as validation. Instead, split the training set into a training and a validation set (use 10 to 20% of the training set as validation).\n",
    "* **(1 point)** Evaluate your classifier in terms of accuracy for the training, validation, and test set.\n",
    "* **(1 point)** Look at the weights of your classifier. Which features seems to play most for both classes?\n",
    "* **\\[Bonus\\]** The parameter `weight_decay` of the [SGD optimizer](https://pytorch.org/docs/stable/generated/torch.optim.SGD.html) corresponds to the L2 penalty. Try playing with this value and explain how it influence the model's weights.\n",
    "* **(1 point)** Take two wrongly classified samples in the test set and try explaining why the model was wrong.\n",
    "* **\\[Bonus\\]** Train logistic regression classifier using the [scikit-learn implementation](https://scikit-learn.org/stable/modules/generated/sklearn.linear_model.LogisticRegression.html). How does it compare with the PyTorch version?\n"
   ]
  },
  {
   "cell_type": "code",
   "execution_count": 172,
   "metadata": {},
   "outputs": [],
   "source": [
    "#implement a logistic regression classifier with PyTorch using the features you created above. Use the validation set to tune the hyperparameters of your model.\n",
    "\n",
    "import torch\n",
    "import torch.nn as nn\n",
    "import torch.nn.functional as F\n",
    "import matplotlib.pyplot as plt\n",
    "\n",
    "class LinearRegression(nn.Module):\n",
    "    \"\"\"A linear regression implementation\"\"\"\n",
    "\n",
    "    def __init__(self, input_dim: int, nb_classes: int) -> None:\n",
    "        \"\"\"\n",
    "        Args:\n",
    "            input_dim: the dimension of the input features.\n",
    "            nb_classes: the number of classes to predict.\n",
    "        \"\"\"\n",
    "        super().__init__()\n",
    "        self.linear = nn.Linear(input_dim, nb_classes)\n",
    "\n",
    "    def forward(self, x: torch.Tensor) -> torch.Tensor:\n",
    "        \"\"\"\n",
    "        Args:\n",
    "            x: the input tensor.\n",
    "        Returns:\n",
    "            The output of the linear layer.\n",
    "        \"\"\"\n",
    "        return self.linear(x)\n",
    "\n",
    "\n"
   ]
  },
  {
   "cell_type": "code",
   "execution_count": 173,
   "metadata": {},
   "outputs": [],
   "source": [
    "model = LinearRegression(7, 1)\n",
    "criterion = nn.BCEWithLogitsLoss()\n",
    "optimizer = torch.optim.SGD(model.parameters(), lr=0.01, weight_decay=1.0)"
   ]
  },
  {
   "cell_type": "code",
   "execution_count": 174,
   "metadata": {},
   "outputs": [
    {
     "name": "stdout",
     "output_type": "stream",
     "text": [
      "tensor(1.8783, grad_fn=<BinaryCrossEntropyWithLogitsBackward0>)\n",
      "tensor(0.6014, grad_fn=<BinaryCrossEntropyWithLogitsBackward0>)\n",
      "tensor(0.5997, grad_fn=<BinaryCrossEntropyWithLogitsBackward0>)\n",
      "tensor(0.5995, grad_fn=<BinaryCrossEntropyWithLogitsBackward0>)\n",
      "tensor(0.5994, grad_fn=<BinaryCrossEntropyWithLogitsBackward0>)\n",
      "tensor(0.5994, grad_fn=<BinaryCrossEntropyWithLogitsBackward0>)\n",
      "tensor(0.5993, grad_fn=<BinaryCrossEntropyWithLogitsBackward0>)\n",
      "tensor(0.5993, grad_fn=<BinaryCrossEntropyWithLogitsBackward0>)\n",
      "tensor(0.5993, grad_fn=<BinaryCrossEntropyWithLogitsBackward0>)\n",
      "tensor(0.5993, grad_fn=<BinaryCrossEntropyWithLogitsBackward0>)\n",
      "Training time: 0.91 seconds\n"
     ]
    }
   ],
   "source": [
    "# compute the run time of the training loop\n",
    "\n",
    "import time\n",
    "\n",
    "start = time.time()\n",
    "\n",
    "num_epochs = 1000\n",
    "\n",
    "# Keeping an eye on the losses\n",
    "train_losses = []\n",
    "test_losses = []\n",
    "\n",
    " # Training loop\n",
    "for epoch in range(num_epochs):\n",
    "    # Set the gradients to zero\n",
    "    optimizer.zero_grad()\n",
    "\n",
    "    # Set the training set through the model\n",
    "    predictions = model(torch.tensor(X_train.values).float())\n",
    "    loss = criterion(predictions, torch.tensor(y_train.values).float().unsqueeze(1))\n",
    "    train_losses.append(loss.item())\n",
    "    if epoch % 100 == 0:\n",
    "        print(loss)\n",
    "    \n",
    "    # Computing the gradients and gradient descent.\n",
    "    loss.backward()\n",
    "    optimizer.step()\n",
    "    \n",
    "    # Validation: When computing the validation loss, we do not want to update the weights.\n",
    "    # torch.no_grad tells PyTorch to not save the necessary data used for\n",
    "    # gradient descent.\n",
    "    \n",
    "    with torch.no_grad():\n",
    "        predictions = model(torch.tensor(X_val.values).float())\n",
    "        loss = criterion(predictions, torch.tensor(y_val.values).float().unsqueeze(1))\n",
    "        test_losses.append(loss.item())\n",
    "\n",
    "\n",
    "#compute the run time of the training loop\n",
    "end = time.time()\n",
    "print(f\"Training time: {end - start:.2f} seconds\")\n"
   ]
  },
  {
   "cell_type": "code",
   "execution_count": 175,
   "metadata": {},
   "outputs": [
    {
     "data": {
      "image/png": "[encoded data removed]",
      "text/plain": [
       "<Figure size 640x480 with 1 Axes>"
      ]
     },
     "metadata": {},
     "output_type": "display_data"
    }
   ],
   "source": [
    "#plot the loss curves for the training and validation sets.\n",
    "\n",
    "plt.plot(train_losses, label=\"Training loss\")\n",
    "plt.plot(test_losses, label=\"Validation loss\")\n",
    "plt.legend(frameon=False)\n",
    "plt.show()\n"
   ]
  },
  {
   "cell_type": "code",
   "execution_count": 176,
   "metadata": {},
   "outputs": [
    {
     "name": "stdout",
     "output_type": "stream",
     "text": [
      "Training accuracy: 0.69875\n",
      "Validation accuracy: 0.693\n",
      "Test accuracy: 0.70112\n"
     ]
    }
   ],
   "source": [
    "# Computing the accuracy on our 3 splits: training, validation and test.\n",
    "\n",
    "def accuracy(predictions, labels):\n",
    "\n",
    "    \"\"\"\n",
    "    Args:\n",
    "        predictions: the output of the model.\n",
    "        labels: the ground truth labels.\n",
    "    Returns:\n",
    "        The accuracy of the model.\n",
    "    \"\"\"\n",
    "    predictions = predictions.squeeze(1)\n",
    "    predictions = torch.round(torch.sigmoid(predictions))\n",
    "    return (predictions == labels).sum().item() / len(labels)\n",
    "\n",
    "with torch.no_grad():\n",
    "    predictions = model(torch.tensor(X_train.values).float())\n",
    "    print(f\"Training accuracy: {accuracy(predictions, torch.tensor(y_train.values).float())}\")\n",
    "    predictions = model(torch.tensor(X_val.values).float())\n",
    "    print(f\"Validation accuracy: {accuracy(predictions, torch.tensor(y_val.values).float())}\")\n",
    "    predictions = model(torch.tensor(df_test.drop(columns=[\"label\"]).values).float())\n",
    "    print(f\"Test accuracy: {accuracy(predictions, torch.tensor(df_test['label'].values).float())}\")\n"
   ]
  },
  {
   "cell_type": "markdown",
   "metadata": {},
   "source": [
    "* **(1 point)** Look at the weights of your classifier. Which features seems to play most for both classes?"
   ]
  },
  {
   "cell_type": "code",
   "execution_count": 183,
   "metadata": {},
   "outputs": [
    {
     "name": "stdout",
     "output_type": "stream",
     "text": [
      "tensor([-0.0189, -0.0388, -0.0057, -0.0040, -0.0177,  0.1136, -0.1322],\n",
      "       grad_fn=<SelectBackward0>)\n",
      "Positive class\n",
      "\n",
      "torch.return_types.topk(\n",
      "values=tensor([ 0.1136, -0.0040], grad_fn=<TopkBackward0>),\n",
      "indices=tensor([5, 3]))\n",
      "Negative class\n",
      "\n",
      "torch.return_types.topk(\n",
      "values=tensor([-0.1322, -0.0388], grad_fn=<TopkBackward0>),\n",
      "indices=tensor([6, 1]))\n"
     ]
    }
   ],
   "source": [
    "#Look at the weights of your classifier. Which features seems to play most for both classes?\n",
    "\n",
    "# Print the 2 biggest weights of the features for both classes.\n",
    "\n",
    "print(model.linear.weight[0])\n",
    "\n",
    "print(\"Positive class\\n\")\n",
    "print(model.linear.weight[0].topk(2))\n",
    "\n",
    "# For the positive class, the number of positive words and the presence of exclamation marks are the most important features.\n",
    "\n",
    "print(\"Negative class\\n\")\n",
    "print(model.linear.weight[0].topk(2, largest=False))\n",
    "\n",
    "# For the negative class, the number of negative words and the number of first person pronouns are the most important features.\n"
   ]
  },
  {
   "attachments": {},
   "cell_type": "markdown",
   "metadata": {},
   "source": [
    "* **\\[Bonus\\]** The parameter `weight_decay` of the [SGD optimizer](https://pytorch.org/docs/stable/generated/torch.optim.SGD.html) corresponds to the L2 penalty. Try playing with this value and explain how it influence the model's weights."
   ]
  },
  {
   "cell_type": "code",
   "execution_count": 178,
   "metadata": {},
   "outputs": [],
   "source": [
    " # The **weight_decay** parameter adds a L2 penalty (also known as ridge regularization) to the cost. It can reduce the impact of large coefficients and encourage the model to have smaller and more balanced coefficients, which can lead to better generalization performance and prevent overfitting.\n",
    "\n",
    " #The strength of the L2 penalty is controlled by the lambda hyperparameter. Increasing the value of lambda increases the strength of the penalty and results in smaller coefficients, which can reduce overfitting but may also reduce the model's ability to capture complex relationships in the data.\n",
    "\n",
    "# However, it is important to choose an appropriate value of lambda that balances the trade-off between bias and variance, as a too strong penalty can lead to underfitting and a too weak penalty can lead to overfitting."
   ]
  },
  {
   "cell_type": "markdown",
   "metadata": {},
   "source": [
    "* **(1 point)** Take two wrongly classified samples in the test set and try explaining why the model was wrong."
   ]
  },
  {
   "cell_type": "code",
   "execution_count": 184,
   "metadata": {},
   "outputs": [
    {
     "name": "stdout",
     "output_type": "stream",
     "text": [
      "no                 0.000000\n",
      "first_pronouns     3.000000\n",
      "second_pronouns    1.000000\n",
      "exclamation        1.000000\n",
      "log_word_count     5.438079\n",
      "positive           8.000000\n",
      "negative           7.000000\n",
      "label              0.000000\n",
      "Name: 0, dtype: float64\n",
      "no                  0.000000\n",
      "first_pronouns      1.000000\n",
      "second_pronouns     4.000000\n",
      "exclamation         0.000000\n",
      "log_word_count      5.347108\n",
      "positive           14.000000\n",
      "negative           13.000000\n",
      "label               0.000000\n",
      "Name: 1, dtype: float64\n"
     ]
    }
   ],
   "source": [
    "# Take two wrong predictions of your model and explain why it made this mistake.\n",
    "\n",
    "# The first wrong prediction is the following:\n",
    "\n",
    "print(df_test.iloc[0])\n",
    "\n",
    "# The model predicted a positive label, but the true label is negative. \n",
    "# The model predicted a positive label because the number of positive words is higher than the number of negative words.\n",
    "# However, the number of first person pronouns is higher than the number of exclamation marks.\n",
    "\n",
    "# The second wrong prediction is the following:\n",
    "\n",
    "print(df_test.iloc[1])\n",
    "\n",
    "# Again, the model predicted a positive label, but the true label is negative. \n",
    "# It may have returned a positive label because the number of positive words is higher than the number of negative words.\n",
    "\n",
    "\n",
    "# The model predicted a positive label because the number of positive words is higher than the number of negative words.\n"
   ]
  },
  {
   "cell_type": "markdown",
   "metadata": {},
   "source": [
    "* **\\[Bonus\\]** Train logistic regression classifier using the [scikit-learn implementation](https://scikit-learn.org/stable/modules/generated/sklearn.linear_model.LogisticRegression.html). How does it compare with the PyTorch version?\n"
   ]
  },
  {
   "cell_type": "code",
   "execution_count": 210,
   "metadata": {},
   "outputs": [
    {
     "name": "stdout",
     "output_type": "stream",
     "text": [
      "Training accuracy: 0.69915\n",
      "Validation accuracy: 0.6936\n",
      "Test accuracy: 0.70156\n"
     ]
    }
   ],
   "source": [
    "# train the same logistic regression classifier with scikit-learn \n",
    "\n",
    "from sklearn.linear_model import LogisticRegression\n",
    "\n",
    "#add a l2 penalty to the logistic regression classifier\n",
    "model = LogisticRegression(penalty=\"l2\", C=0.001)\n",
    "\n",
    "#train the model on the training set\n",
    "model.fit(X_train, y_train)\n",
    "\n",
    "# evaluate the model on the training set\n",
    "print(f\"Training accuracy: {model.score(X_train, y_train)}\")\n",
    "\n",
    "#evaluate the model on the validation set\n",
    "print(f\"Validation accuracy: {model.score(X_val, y_val)}\")\n",
    "\n",
    "#split the test_df into X_test and y_test\n",
    "X_test = df_test.drop(columns=[\"label\"])\n",
    "y_test = df_test[\"label\"]\n",
    "\n",
    "#evaluate the model on the test set\n",
    "print(f\"Test accuracy: {model.score(X_test, y_test)}\")\n",
    "\n",
    "\n",
    "# The accuracy of the sklearn logistic regression classifier is comparable to the accuracy of the PyTorch model.\n",
    "\n",
    "\n"
   ]
  }
 ],
 "metadata": {
  "kernelspec": {
   "display_name": "Python 3",
   "language": "python",
   "name": "python3"
  },
  "language_info": {
   "codemirror_mode": {
    "name": "ipython",
    "version": 3
   },
   "file_extension": ".py",
   "mimetype": "text/x-python",
   "name": "python",
   "nbconvert_exporter": "python",
   "pygments_lexer": "ipython3",
   "version": "3.10.6"
  },
  "orig_nbformat": 4
 },
 "nbformat": 4,
 "nbformat_minor": 2
}
